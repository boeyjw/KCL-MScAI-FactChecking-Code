{
 "cells": [
  {
   "cell_type": "code",
   "execution_count": 1,
   "id": "7b5b4860-0c6d-4d4f-98b8-7d72f6e34e5f",
   "metadata": {},
   "outputs": [],
   "source": [
    "import sqlite3"
   ]
  },
  {
   "cell_type": "code",
   "execution_count": 2,
   "id": "b6f830a7-ebba-42df-85be-cc226b7f2fef",
   "metadata": {},
   "outputs": [],
   "source": [
    "conn = sqlite3.connect(\"/users/k21190024/study/fact-checking-repos/fever/baseline/thesis/zeroshot/fever_cfever/baseline/climatefever/feverised-climatefever-titleid.db\")\n",
    "cur = conn.cursor()"
   ]
  },
  {
   "cell_type": "code",
   "execution_count": 3,
   "id": "eaa6683c-15c3-4975-89c2-985ba5144d18",
   "metadata": {
    "tags": []
   },
   "outputs": [
    {
     "data": {
      "text/plain": [
       "\"0\\tRising global temperatures, caused by the greenhouse effect, contribute to habitat destruction, endangering various species, such as the polar bear.\\n1\\tHabitat destruction vastly increases an area's vulnerability to natural disasters like flood and drought, crop failure, spread of disease, and water contamination.\\n2\\tA country may increase its food supply by converting forest land to row-crop agriculture, but the value of the same land may be much larger when it can supply natural resources or services such as clean water, timber, ecotourism, or flood regulation and drought control.\\n3\\tAny efforts to protect the world's remaining natural habitat and biodiversity will compete directly with humans’ growing demand for natural resources, especially new agricultural lands.\""
      ]
     },
     "execution_count": 3,
     "metadata": {},
     "output_type": "execute_result"
    }
   ],
   "source": [
    "cur.execute(\"\"\"select lines from documents where id = ?\"\"\", (\"Habitat_destruction\", ))\n",
    "lines = cur.fetchone()[0]\n",
    "lines"
   ]
  },
  {
   "cell_type": "code",
   "execution_count": 26,
   "id": "eb00c7ce-39ab-47b8-9739-ea76b87d099e",
   "metadata": {},
   "outputs": [
    {
     "name": "stdout",
     "output_type": "stream",
     "text": [
      "Climate change threatens to diminish crop yields, harming food security, and rising sea levels may flood coastal infrastructure and force the abandonment of many coastal cities.\n"
     ]
    }
   ],
   "source": [
    "for line in lines.split(\"\\n\"):\n",
    "    l = line.split(\"\\t\")\n",
    "    if l[0] == \"13\":\n",
    "        print(l[1])"
   ]
  }
 ],
 "metadata": {
  "kernelspec": {
   "display_name": "Python 3 (ipykernel)",
   "language": "python",
   "name": "python3"
  },
  "language_info": {
   "codemirror_mode": {
    "name": "ipython",
    "version": 3
   },
   "file_extension": ".py",
   "mimetype": "text/x-python",
   "name": "python",
   "nbconvert_exporter": "python",
   "pygments_lexer": "ipython3",
   "version": "3.8.16"
  }
 },
 "nbformat": 4,
 "nbformat_minor": 5
}
