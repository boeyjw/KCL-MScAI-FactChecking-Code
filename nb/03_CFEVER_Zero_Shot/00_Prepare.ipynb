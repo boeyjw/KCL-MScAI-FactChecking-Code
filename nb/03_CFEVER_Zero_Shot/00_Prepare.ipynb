{
 "cells": [
  {
   "cell_type": "code",
   "execution_count": 2,
   "id": "af69fafa-0e95-41e6-978b-a35b68342463",
   "metadata": {},
   "outputs": [],
   "source": [
    "%load_ext autoreload\n",
    "%autoreload 2"
   ]
  },
  {
   "cell_type": "code",
   "execution_count": 3,
   "id": "167798b6-7044-465b-a31d-50aeed4ed9c6",
   "metadata": {},
   "outputs": [],
   "source": [
    "import sys\n",
    "sys.path.insert(0, \"../src\")\n",
    "from copy import deepcopy\n",
    "\n",
    "import numpy as np\n",
    "from pathlib import Path\n",
    "from collections import Counter\n",
    "\n",
    "import constants\n",
    "from gen.util import read_data, write_jsonl"
   ]
  },
  {
   "cell_type": "code",
   "execution_count": 4,
   "id": "2a04465a-45bf-4362-a300-c947aaa90b22",
   "metadata": {},
   "outputs": [],
   "source": [
    "feverp = Path(\"/users/k21190024/study/fact-check-transfer-learning/scratch/data/fever\")\n",
    "climatefdp = Path(\"/users/k21190024/study/fact-check-transfer-learning/scratch/dumps/feverised-climatefever\")\n",
    "scifactdp = Path(\"/users/k21190024/study/fact-check-transfer-learning/scratch/dumps/feverised-scifact\")"
   ]
  },
  {
   "cell_type": "markdown",
   "id": "1376877a-aedb-46bb-8f48-470319934916",
   "metadata": {},
   "source": [
    "# Generate Climate-FEVER Stratified 70:20:10 fine tune dataset"
   ]
  },
  {
   "cell_type": "code",
   "execution_count": 5,
   "id": "352317da-d632-4ce4-89df-b792c846e722",
   "metadata": {},
   "outputs": [],
   "source": [
    "from sklearn.model_selection import train_test_split\n",
    "masked_label = {\"SUPPORTS\": 0, \"REFUTES\": 1, \"NOT ENOUGH INFO\": 2}\n",
    "\n",
    "climatefd_ft_p = Path(\"/users/k21190024/study/fact-check-transfer-learning/scratch/dumps/feverised-climatefever/finetune\")\n",
    "climatefd_ft_p.mkdir(exist_ok=True)\n",
    "cf = read_data(climatefdp / \"climatefever_paper_all_titleid.jsonl\")\n",
    "cf_idt = np.array([[d[\"id\"], masked_label[d[\"label\"]]] for d in cf])"
   ]
  },
  {
   "cell_type": "code",
   "execution_count": 5,
   "id": "6ea7f2d1-d112-45ea-8679-dd85851693bb",
   "metadata": {},
   "outputs": [
    {
     "data": {
      "text/plain": [
       "(966, 278, 137)"
      ]
     },
     "execution_count": 5,
     "metadata": {},
     "output_type": "execute_result"
    }
   ],
   "source": [
    "train, stage = train_test_split(cf_idt, test_size=0.3, shuffle=True, stratify=cf_idt[:,1], random_state=constants.SEED)\n",
    "dev, test = train_test_split(stage, test_size=0.33, shuffle=True, stratify=stage[:,1], random_state=constants.SEED)\n",
    "len(train), len(dev), len(test)"
   ]
  },
  {
   "cell_type": "code",
   "execution_count": 6,
   "id": "88db036d-59ac-4778-980e-953e07fd4af9",
   "metadata": {},
   "outputs": [
    {
     "data": {
      "text/plain": [
       "({1: 18.32, 0: 47.31, 2: 34.37},\n",
       " {0: 47.48, 1: 18.35, 2: 34.17},\n",
       " {0: 47.45, 2: 34.31, 1: 18.25})"
      ]
     },
     "execution_count": 6,
     "metadata": {},
     "output_type": "execute_result"
    }
   ],
   "source": [
    "def ratio(counts):\n",
    "    total = sum(counts.values())\n",
    "    return {k: round(v/total*100, 2) for k, v in counts.items()}\n",
    "\n",
    "count_train, count_dev, count_test = Counter(train[:, 1]), Counter(dev[:, 1]), Counter(test[:, 1])\n",
    "ratio_train, ratio_dev, ratio_test = ratio(count_train), ratio(count_dev), ratio(count_test)\n",
    "\n",
    "ratio_train, ratio_dev, ratio_test"
   ]
  },
  {
   "cell_type": "code",
   "execution_count": 7,
   "id": "07a4e893-6c87-4eaa-ae46-924450a69d1e",
   "metadata": {},
   "outputs": [],
   "source": [
    "splits = {\n",
    "    \"climatefever_train.jsonl\": [doc for doc in cf if doc[\"id\"] in train[:, 0]], \n",
    "    \"climatefever_dev.jsonl\": [doc for doc in cf if doc[\"id\"] in dev[:, 0]], \n",
    "    \"climatefever_test.jsonl\": [doc for doc in cf if doc[\"id\"] in test[:, 0]]\n",
    "}"
   ]
  },
  {
   "cell_type": "markdown",
   "id": "406c2fca-6760-42ff-bdc7-b71ae46df344",
   "metadata": {},
   "source": [
    "## Baseline\n",
    "\n",
    "Has sampling for NEI labels but Climate-FEVER already has evidence available for NEI claims. Therefore, we will train the model with the evidences attached to the claim"
   ]
  },
  {
   "cell_type": "code",
   "execution_count": 9,
   "id": "4a19a5d2-da86-4042-bcd8-8444c001697c",
   "metadata": {},
   "outputs": [],
   "source": [
    "baseline_finetune_p = climatefd_ft_p / \"baseline\"\n",
    "baseline_finetune_p.mkdir(exist_ok=True)"
   ]
  },
  {
   "cell_type": "code",
   "execution_count": 15,
   "id": "a5710998-5b99-4ccb-81a4-79b1eb5545e1",
   "metadata": {},
   "outputs": [
    {
     "data": {
      "text/plain": [
       "1381"
      ]
     },
     "execution_count": 15,
     "metadata": {},
     "output_type": "execute_result"
    }
   ],
   "source": [
    "# move \"other_evidences\" to \"evidences\" alongside elab/other_elab\n",
    "\n",
    "baseline_cfever = []\n",
    "for doc in cf:\n",
    "    new_doc = deepcopy(doc)\n",
    "    if doc[\"label\"] == constants.LOOKUP[\"label\"][\"nei\"]:\n",
    "        new_doc[\"evidence\"] = doc[\"other_evidence\"]\n",
    "        new_doc[\"elab\"] = doc[\"other_elab\"]\n",
    "        new_doc[\"other_evidence\"] = None\n",
    "        new_doc[\"other_elab\"] = None\n",
    "    baseline_cfever.append(new_doc)\n",
    "len(baseline_cfever)"
   ]
  },
  {
   "cell_type": "code",
   "execution_count": 19,
   "id": "ace316bb-7f54-4371-886d-5271c44783fc",
   "metadata": {},
   "outputs": [],
   "source": [
    "baseline_splits = {\n",
    "    \"climatefever_train.jsonl\": [doc for doc in baseline_cfever if doc[\"id\"] in train[:, 0]], \n",
    "    \"climatefever_dev.jsonl\": [doc for doc in baseline_cfever if doc[\"id\"] in dev[:, 0]], \n",
    "    \"climatefever_test.jsonl\": [doc for doc in baseline_cfever if doc[\"id\"] in test[:, 0]]\n",
    "}\n",
    "\n",
    "for filename, claims in baseline_splits.items():\n",
    "    write_jsonl(baseline_finetune_p / filename, claims)"
   ]
  },
  {
   "cell_type": "markdown",
   "id": "1f1b7119-b5b7-4177-ac52-14500627b4ba",
   "metadata": {},
   "source": [
    "## Generate Oracle IR"
   ]
  },
  {
   "cell_type": "code",
   "execution_count": 10,
   "id": "1849cd98-b48e-4ffb-bd09-5cad71ee8dc1",
   "metadata": {},
   "outputs": [],
   "source": [
    "cf_train = read_data(baseline_finetune_p / \"climatefever_train.jsonl\")\n",
    "cf_dev = read_data(baseline_finetune_p / \"climatefever_dev.jsonl\")"
   ]
  },
  {
   "cell_type": "code",
   "execution_count": null,
   "id": "895df52b-6880-415f-91b3-57f2b7036405",
   "metadata": {},
   "outputs": [],
   "source": [
    "for doc in cf_train:\n",
    "    doc[\"predicted_sentences\"] = [[ev[0][2], ev[0][3]] for ev in doc[\"evidence\"]]\n",
    "    \n",
    "for doc in cf_dev:\n",
    "    doc[\"predicted_sentences\"] = [[ev[0][2], ev[0][3]] for ev in doc[\"evidence\"]]\n",
    "    \n",
    "write_jsonl(baseline_finetune_p / \"climatefever_oracle_train.jsonl\", cf_train)\n",
    "write_jsonl(baseline_finetune_p / \"climatefever_oracle_dev.jsonl\", cf_dev)"
   ]
  },
  {
   "cell_type": "code",
   "execution_count": null,
   "id": "7fac0408-de14-4488-8e00-e7e24ad3a2d0",
   "metadata": {},
   "outputs": [],
   "source": []
  }
 ],
 "metadata": {
  "kernelspec": {
   "display_name": "Python 3 (ipykernel)",
   "language": "python",
   "name": "python3"
  },
  "language_info": {
   "codemirror_mode": {
    "name": "ipython",
    "version": 3
   },
   "file_extension": ".py",
   "mimetype": "text/x-python",
   "name": "python",
   "nbconvert_exporter": "python",
   "pygments_lexer": "ipython3",
   "version": "3.8.16"
  }
 },
 "nbformat": 4,
 "nbformat_minor": 5
}
