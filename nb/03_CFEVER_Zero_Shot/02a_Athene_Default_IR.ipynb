{
 "cells": [
  {
   "cell_type": "code",
   "execution_count": 1,
   "id": "cb789185-a1cb-4848-8e1f-56d195bde300",
   "metadata": {},
   "outputs": [],
   "source": [
    "%load_ext autoreload\n",
    "%autoreload 2"
   ]
  },
  {
   "cell_type": "markdown",
   "id": "98e19e27-b4b4-4f93-b2b9-e941598aa23b",
   "metadata": {},
   "source": [
    "# Init"
   ]
  },
  {
   "cell_type": "code",
   "execution_count": 2,
   "id": "c6d31b4f-3fe5-4502-9100-df2514109098",
   "metadata": {},
   "outputs": [],
   "source": [
    "import sys\n",
    "sys.path.insert(0, \"../src\")\n",
    "\n",
    "import json\n",
    "import random\n",
    "import pickle as pkl\n",
    "import numpy as np\n",
    "import scipy\n",
    "from pathlib import Path\n",
    "from collections import Counter, defaultdict\n",
    "\n",
    "import pandas as pd\n",
    "from joblib import Parallel, delayed\n",
    "\n",
    "import constants\n",
    "from evaluate import score\n",
    "from gen.util import read_data, write_jsonl"
   ]
  },
  {
   "cell_type": "markdown",
   "id": "380499e8-90d0-4ddc-b6a8-7aa91cc7bf79",
   "metadata": {},
   "source": [
    "# FEVER"
   ]
  },
  {
   "cell_type": "code",
   "execution_count": 3,
   "id": "29677836-e732-4e84-ad75-4ef88338b7d1",
   "metadata": {},
   "outputs": [],
   "source": [
    "fever_actual = Path(\"/users/k21190024/study/fact-checking-repos/fever/teamathene/data/fever-data\")\n",
    "fever_train_actual = read_data(fever_actual / \"train.jsonl\")\n",
    "fever_dev_actual = read_data(fever_actual / \"dev.jsonl\")"
   ]
  },
  {
   "cell_type": "markdown",
   "id": "b3e8af4a-feb3-4a86-9382-91240b3da41d",
   "metadata": {},
   "source": [
    "## IR Evaluation"
   ]
  },
  {
   "cell_type": "code",
   "execution_count": 4,
   "id": "e11d04fe-1d49-4987-86bd-db35cd070a81",
   "metadata": {},
   "outputs": [],
   "source": [
    "fever_pages = Path(\"/users/k21190024/study/fact-checking-repos/fever/teamathene/data/fever\")\n",
    "fever_train = read_data(fever_pages / \"train.p7.s5.jsonl\")\n",
    "fever_dev = read_data(fever_pages / \"dev.p7.s5.jsonl\")"
   ]
  },
  {
   "cell_type": "code",
   "execution_count": 5,
   "id": "38bce83a-7116-4cf1-8fbf-146605498c02",
   "metadata": {
    "tags": []
   },
   "outputs": [
    {
     "name": "stdout",
     "output_type": "stream",
     "text": [
      "\n",
      "            FEVER train\n",
      "            Oracle IR: False\n",
      "            Oracle RTE: True\n",
      "            Max Evidences: None\n",
      "\n",
      "            FEVER Score: 90.3\n",
      "            Accuracy: 100.0\n",
      "            Macro Precision: 26.1\n",
      "            Macro Recall: 87.16\n",
      "            Macro F1: 40.18\n",
      "            \n"
     ]
    }
   ],
   "source": [
    "fever_train_scored = score.FEVERScorer(fever_train_actual, fever_train, oracle_ir=False, oracle_rte=True, max_evidence=None, score_name=\"FEVER train\")\n",
    "print(fever_train_scored)"
   ]
  },
  {
   "cell_type": "code",
   "execution_count": 6,
   "id": "176b0c72-d769-485d-9fa0-a49a9110f020",
   "metadata": {},
   "outputs": [
    {
     "data": {
      "text/plain": [
       "{'recall': 0.8963470421138264,\n",
       " 'precision': 0.32361337977789684,\n",
       " 'f1': 0.475539846288753}"
      ]
     },
     "execution_count": 6,
     "metadata": {},
     "output_type": "execute_result"
    }
   ],
   "source": [
    "fever_train_scored.get_document_metric()"
   ]
  },
  {
   "cell_type": "code",
   "execution_count": 7,
   "id": "77b61d2b-f6d1-4e55-b1ba-ba0358d98796",
   "metadata": {
    "tags": []
   },
   "outputs": [
    {
     "name": "stdout",
     "output_type": "stream",
     "text": [
      "\n",
      "            FEVER Dev\n",
      "            Oracle IR: False\n",
      "            Oracle RTE: True\n",
      "            Max Evidences: None\n",
      "\n",
      "            FEVER Score: 90.68\n",
      "            Accuracy: 100.0\n",
      "            Macro Precision: 23.81\n",
      "            Macro Recall: 86.03\n",
      "            Macro F1: 37.3\n",
      "            \n"
     ]
    }
   ],
   "source": [
    "fever_dev_scored = score.FEVERScorer(fever_dev_actual, fever_dev, oracle_ir=False, oracle_rte=True, max_evidence=None, score_name=\"FEVER Dev\")\n",
    "print(fever_dev_scored)"
   ]
  },
  {
   "cell_type": "code",
   "execution_count": 8,
   "id": "c1fbc237-0cc3-4e3d-9305-752b55d0489b",
   "metadata": {},
   "outputs": [
    {
     "data": {
      "text/plain": [
       "{'recall': 0.9044265668449961,\n",
       " 'precision': 0.3068520285351291,\n",
       " 'f1': 0.45823500515231386}"
      ]
     },
     "execution_count": 8,
     "metadata": {},
     "output_type": "execute_result"
    }
   ],
   "source": [
    "fever_dev_scored.get_document_metric()"
   ]
  },
  {
   "cell_type": "markdown",
   "id": "08c40cb3-7ddf-4385-a062-2d999a6d982a",
   "metadata": {
    "tags": []
   },
   "source": [
    "# Climate-FEVER"
   ]
  },
  {
   "cell_type": "code",
   "execution_count": 9,
   "id": "3d8a29db-7347-4e69-8745-a4f3359d1579",
   "metadata": {},
   "outputs": [],
   "source": [
    "cfever_actual = Path(\"/users/k21190024/study/fact-checking-repos/fever/teamathene/data/cfever-data\")\n",
    "cfever_train_actual = read_data(cfever_actual / \"train.jsonl\")\n",
    "cfever_dev_actual = read_data(cfever_actual / \"dev.jsonl\")"
   ]
  },
  {
   "cell_type": "markdown",
   "id": "9d8ef5cf-8654-41b9-b232-43f24e65920a",
   "metadata": {},
   "source": [
    "## IR Evaluation"
   ]
  },
  {
   "cell_type": "code",
   "execution_count": 10,
   "id": "f9c0c9c7-fd8e-479c-b3e5-228825117444",
   "metadata": {},
   "outputs": [],
   "source": [
    "cfever_pages = Path(\"/users/k21190024/study/fact-checking-repos/fever/teamathene/data/climatefever\")\n",
    "cfever_train = read_data(cfever_pages / \"train.p7.s5.jsonl\")\n",
    "cfever_dev = read_data(cfever_pages / \"dev.p7.s5.jsonl\")"
   ]
  },
  {
   "cell_type": "code",
   "execution_count": 11,
   "id": "d046aaac-9bb2-487c-996f-d7ca1f8b5724",
   "metadata": {},
   "outputs": [
    {
     "name": "stdout",
     "output_type": "stream",
     "text": [
      "\n",
      "            Climate-FEVER Train\n",
      "            Oracle IR: False\n",
      "            Oracle RTE: True\n",
      "            Max Evidences: None\n",
      "\n",
      "            FEVER Score: 24.22\n",
      "            Accuracy: 100.0\n",
      "            Macro Precision: 11.24\n",
      "            Macro Recall: 24.22\n",
      "            Macro F1: 15.36\n",
      "            \n"
     ]
    }
   ],
   "source": [
    "cfever_train_scored = score.ClimateFEVERScorer(cfever_train_actual, cfever_train, oracle_ir=False, oracle_rte=True, max_evidence=None, score_name=\"Climate-FEVER Train\")\n",
    "print(cfever_train_scored)"
   ]
  },
  {
   "cell_type": "code",
   "execution_count": 12,
   "id": "cf0b25f4-22ec-446a-8dbb-292de335de4c",
   "metadata": {},
   "outputs": [
    {
     "data": {
      "text/plain": [
       "{'recall': 0.18693926846100758,\n",
       " 'precision': 0.08108311141557731,\n",
       " 'f1': 0.11310710351538523}"
      ]
     },
     "execution_count": 12,
     "metadata": {},
     "output_type": "execute_result"
    }
   ],
   "source": [
    "cfever_train_scored.get_document_metric()"
   ]
  },
  {
   "cell_type": "code",
   "execution_count": 13,
   "id": "f13a2d4a-4ac5-450d-b605-369a41757b0d",
   "metadata": {},
   "outputs": [
    {
     "name": "stdout",
     "output_type": "stream",
     "text": [
      "\n",
      "            Climate-FEVER Dev\n",
      "            Oracle IR: False\n",
      "            Oracle RTE: True\n",
      "            Max Evidences: None\n",
      "\n",
      "            FEVER Score: 22.66\n",
      "            Accuracy: 100.0\n",
      "            Macro Precision: 10.31\n",
      "            Macro Recall: 22.66\n",
      "            Macro F1: 14.17\n",
      "            \n"
     ]
    }
   ],
   "source": [
    "cfever_dev_scored = score.ClimateFEVERScorer(cfever_dev_actual, cfever_dev, oracle_ir=False, oracle_rte=True, max_evidence=None, score_name=\"Climate-FEVER Dev\")\n",
    "print(cfever_dev_scored)"
   ]
  },
  {
   "cell_type": "code",
   "execution_count": 14,
   "id": "578623c7-457e-4aa0-89d9-7b94f9dbeaf1",
   "metadata": {},
   "outputs": [
    {
     "data": {
      "text/plain": [
       "{'recall': 0.2223021582733813,\n",
       " 'precision': 0.09046754544045565,\n",
       " 'f1': 0.12860024718704088}"
      ]
     },
     "execution_count": 14,
     "metadata": {},
     "output_type": "execute_result"
    }
   ],
   "source": [
    "cfever_dev_scored.get_document_metric()"
   ]
  },
  {
   "cell_type": "markdown",
   "id": "152e5456-cfa7-498c-88cc-b49f86569edd",
   "metadata": {
    "tags": []
   },
   "source": [
    "# SciFact"
   ]
  },
  {
   "cell_type": "code",
   "execution_count": 15,
   "id": "078ca427-8a9e-40c8-a357-46a9f57edd70",
   "metadata": {},
   "outputs": [],
   "source": [
    "sf_actual_p = Path(\"/users/k21190024/study/fact-checking-repos/fever/teamathene/data/scifact-data\")\n",
    "sf_actual = read_data(sf_actual_p / \"scifact_all_titleid.jsonl\")"
   ]
  },
  {
   "cell_type": "markdown",
   "id": "17d9d20b-8284-4433-8d55-4f437198f58d",
   "metadata": {},
   "source": [
    "## IR Evaluation"
   ]
  },
  {
   "cell_type": "code",
   "execution_count": 16,
   "id": "47562781-f2ef-447b-9fd3-ba0f996ae1ba",
   "metadata": {},
   "outputs": [],
   "source": [
    "sf_pages = Path(\"/users/k21190024/study/fact-checking-repos/fever/teamathene/data/scifact\")\n",
    "sf_all = read_data(sf_pages / \"test.p7.s5.jsonl\")"
   ]
  },
  {
   "cell_type": "code",
   "execution_count": 17,
   "id": "94bf3b21-2022-44ed-b18f-1c06da406479",
   "metadata": {},
   "outputs": [
    {
     "name": "stdout",
     "output_type": "stream",
     "text": [
      "\n",
      "            SciFact All\n",
      "            Oracle IR: False\n",
      "            Oracle RTE: True\n",
      "            Max Evidences: None\n",
      "\n",
      "            FEVER Score: 37.51\n",
      "            Accuracy: 100.0\n",
      "            Macro Precision: 5.19\n",
      "            Macro Recall: 0.0\n",
      "            Macro F1: 0.0\n",
      "            \n"
     ]
    }
   ],
   "source": [
    "sf_scored = score.FEVERScorer(sf_actual, sf_all, oracle_ir=False, oracle_rte=True, max_evidence=None, score_name=\"SciFact All\")\n",
    "print(sf_scored)"
   ]
  },
  {
   "cell_type": "code",
   "execution_count": 18,
   "id": "0f29209c-3b8c-4eb7-95dd-e752c651c8db",
   "metadata": {},
   "outputs": [
    {
     "name": "stderr",
     "output_type": "stream",
     "text": [
      "/users/k21190024/study/fact-check-transfer-learning/nb/03_CFEVER_Zero_Shot/../src/evaluate/score.py:332: RuntimeWarning: invalid value encountered in double_scalars\n",
      "  metrics[\"f1\"] = 2.0 * metrics[\"precision\"] * metrics[\"recall\"] / (metrics[\"precision\"] + metrics[\"recall\"])\n"
     ]
    },
    {
     "data": {
      "text/plain": [
       "{'recall': 0.0, 'precision': 0.0, 'f1': nan}"
      ]
     },
     "execution_count": 18,
     "metadata": {},
     "output_type": "execute_result"
    }
   ],
   "source": [
    "sf_scored.get_document_metric()"
   ]
  },
  {
   "cell_type": "markdown",
   "id": "4c055767-c677-4137-92b4-1770ec411019",
   "metadata": {},
   "source": [
    "# Analyse wiki results"
   ]
  },
  {
   "cell_type": "markdown",
   "id": "0ec1b0fc-cbe7-4f50-a4d7-d0b4c764bd3b",
   "metadata": {},
   "source": [
    "## FEVER"
   ]
  },
  {
   "cell_type": "code",
   "execution_count": 19,
   "id": "645e7032-7d8e-466d-9bd8-7d449327ad04",
   "metadata": {},
   "outputs": [
    {
     "data": {
      "text/html": [
       "<div>\n",
       "<style scoped>\n",
       "    .dataframe tbody tr th:only-of-type {\n",
       "        vertical-align: middle;\n",
       "    }\n",
       "\n",
       "    .dataframe tbody tr th {\n",
       "        vertical-align: top;\n",
       "    }\n",
       "\n",
       "    .dataframe thead th {\n",
       "        text-align: right;\n",
       "    }\n",
       "</style>\n",
       "<table border=\"1\" class=\"dataframe\">\n",
       "  <thead>\n",
       "    <tr style=\"text-align: right;\">\n",
       "      <th></th>\n",
       "      <th>claim_label</th>\n",
       "      <th>n_predicted_evidences</th>\n",
       "      <th>n_total_evidences</th>\n",
       "      <th>full_hit</th>\n",
       "      <th>evidence_sent_miss</th>\n",
       "      <th>irrelevant</th>\n",
       "      <th>evidence_page</th>\n",
       "      <th>predicted_page</th>\n",
       "      <th>_tp</th>\n",
       "      <th>doc_recall</th>\n",
       "      <th>doc_precision</th>\n",
       "      <th>wiki_results</th>\n",
       "    </tr>\n",
       "    <tr>\n",
       "      <th>claim_id</th>\n",
       "      <th></th>\n",
       "      <th></th>\n",
       "      <th></th>\n",
       "      <th></th>\n",
       "      <th></th>\n",
       "      <th></th>\n",
       "      <th></th>\n",
       "      <th></th>\n",
       "      <th></th>\n",
       "      <th></th>\n",
       "      <th></th>\n",
       "      <th></th>\n",
       "    </tr>\n",
       "  </thead>\n",
       "  <tbody>\n",
       "    <tr>\n",
       "      <th>111897</th>\n",
       "      <td>REFUTES</td>\n",
       "      <td>5</td>\n",
       "      <td>5</td>\n",
       "      <td>3.0</td>\n",
       "      <td>1</td>\n",
       "      <td>{Television_network}</td>\n",
       "      <td>{Telemundo, Hispanic_and_Latino_Americans}</td>\n",
       "      <td>{Television_network, Telemundo}</td>\n",
       "      <td>1</td>\n",
       "      <td>0.500000</td>\n",
       "      <td>0.500000</td>\n",
       "      <td>{2019–20_United_States_network_television_sche...</td>\n",
       "    </tr>\n",
       "    <tr>\n",
       "      <th>105095</th>\n",
       "      <td>SUPPORTS</td>\n",
       "      <td>5</td>\n",
       "      <td>4</td>\n",
       "      <td>1.0</td>\n",
       "      <td>2</td>\n",
       "      <td>{Character_-LRB-arts-RRB-, Homeland, Homeland_...</td>\n",
       "      <td>{Carrie_Mathison, Nicholas_Brody}</td>\n",
       "      <td>{Character_-LRB-arts-RRB-, Homeland, Homeland_...</td>\n",
       "      <td>1</td>\n",
       "      <td>0.500000</td>\n",
       "      <td>0.100000</td>\n",
       "      <td>{Homeland_-LRB-TV_series-RRB-, Character, Nich...</td>\n",
       "    </tr>\n",
       "    <tr>\n",
       "      <th>227362</th>\n",
       "      <td>REFUTES</td>\n",
       "      <td>5</td>\n",
       "      <td>2</td>\n",
       "      <td>1.0</td>\n",
       "      <td>3</td>\n",
       "      <td>{Home, Giada_-LRB-disambiguation-RRB-, DVD, Gi...</td>\n",
       "      <td>{Food_Network, Giada_at_Home}</td>\n",
       "      <td>{Giada_-LRB-disambiguation-RRB-, DVD, Giada, H...</td>\n",
       "      <td>1</td>\n",
       "      <td>0.500000</td>\n",
       "      <td>0.200000</td>\n",
       "      <td>{The_History_of_Middle-earth, HOME_Investment_...</td>\n",
       "    </tr>\n",
       "    <tr>\n",
       "      <th>86175</th>\n",
       "      <td>REFUTES</td>\n",
       "      <td>5</td>\n",
       "      <td>2</td>\n",
       "      <td>0.0</td>\n",
       "      <td>0</td>\n",
       "      <td>{Songwriter, Singer-songwriter, Hourglass}</td>\n",
       "      <td>{James_Taylor, Hourglass_-LRB-James_Taylor_alb...</td>\n",
       "      <td>{Songwriter, Singer-songwriter, Hourglass}</td>\n",
       "      <td>0</td>\n",
       "      <td>0.000000</td>\n",
       "      <td>0.000000</td>\n",
       "      <td>{Songwriter, Hourglass_corset, Slava_-LRB-sing...</td>\n",
       "    </tr>\n",
       "    <tr>\n",
       "      <th>71959</th>\n",
       "      <td>SUPPORTS</td>\n",
       "      <td>5</td>\n",
       "      <td>7</td>\n",
       "      <td>3.0</td>\n",
       "      <td>2</td>\n",
       "      <td>{Single_-LRB-music-RRB-, Single}</td>\n",
       "      <td>{Jennifer_Lopez, J.Lo_-LRB-album-RRB-, Como_Am...</td>\n",
       "      <td>{Single_-LRB-music-RRB-, Jennifer_Lopez, Single}</td>\n",
       "      <td>1</td>\n",
       "      <td>0.333333</td>\n",
       "      <td>0.333333</td>\n",
       "      <td>{Single_&amp;_Single, Single_parent, Single_-LRB-m...</td>\n",
       "    </tr>\n",
       "    <tr>\n",
       "      <th>...</th>\n",
       "      <td>...</td>\n",
       "      <td>...</td>\n",
       "      <td>...</td>\n",
       "      <td>...</td>\n",
       "      <td>...</td>\n",
       "      <td>...</td>\n",
       "      <td>...</td>\n",
       "      <td>...</td>\n",
       "      <td>...</td>\n",
       "      <td>...</td>\n",
       "      <td>...</td>\n",
       "      <td>...</td>\n",
       "    </tr>\n",
       "    <tr>\n",
       "      <th>5483</th>\n",
       "      <td>SUPPORTS</td>\n",
       "      <td>5</td>\n",
       "      <td>1</td>\n",
       "      <td>0.0</td>\n",
       "      <td>0</td>\n",
       "      <td>{The_Hit, DVD, Hit, The_DVD}</td>\n",
       "      <td>{The_Hit_-LRB-1984_film-RRB-}</td>\n",
       "      <td>{The_Hit, DVD, Hit, The_DVD}</td>\n",
       "      <td>0</td>\n",
       "      <td>0.000000</td>\n",
       "      <td>0.000000</td>\n",
       "      <td>{Hit_the_Road_Jack, DVD_recordable, BTS_videog...</td>\n",
       "    </tr>\n",
       "    <tr>\n",
       "      <th>63731</th>\n",
       "      <td>REFUTES</td>\n",
       "      <td>5</td>\n",
       "      <td>34</td>\n",
       "      <td>4.0</td>\n",
       "      <td>1</td>\n",
       "      <td>{Space, Space_-LRB-disambiguation-RRB-}</td>\n",
       "      <td>{Rwanda, Tanzania, African_Great_Lakes, Uganda...</td>\n",
       "      <td>{Space, Uganda, Space_-LRB-disambiguation-RRB-}</td>\n",
       "      <td>1</td>\n",
       "      <td>0.100000</td>\n",
       "      <td>0.333333</td>\n",
       "      <td>{Uganda_Scheme, International_Space_Station, U...</td>\n",
       "    </tr>\n",
       "    <tr>\n",
       "      <th>44864</th>\n",
       "      <td>SUPPORTS</td>\n",
       "      <td>5</td>\n",
       "      <td>2</td>\n",
       "      <td>1.0</td>\n",
       "      <td>1</td>\n",
       "      <td>{Stanford_Prison_Experiment_-LRB-band-RRB-, Or...</td>\n",
       "      <td>{Stanford_prison_experiment, Office_of_Naval_R...</td>\n",
       "      <td>{Stanford_prison_experiment, Stanford_Prison_E...</td>\n",
       "      <td>1</td>\n",
       "      <td>0.500000</td>\n",
       "      <td>0.200000</td>\n",
       "      <td>{History_of_Stanford_University, Das_Experimen...</td>\n",
       "    </tr>\n",
       "    <tr>\n",
       "      <th>144200</th>\n",
       "      <td>REFUTES</td>\n",
       "      <td>5</td>\n",
       "      <td>2</td>\n",
       "      <td>0.0</td>\n",
       "      <td>0</td>\n",
       "      <td>{Heroes_-LRB-season_2-RRB-, Heroes_-LRB-season...</td>\n",
       "      <td>{Heroes_-LRB-TV_series-RRB-}</td>\n",
       "      <td>{Heroes_-LRB-season_2-RRB-, Heroes_-LRB-season...</td>\n",
       "      <td>0</td>\n",
       "      <td>0.000000</td>\n",
       "      <td>0.000000</td>\n",
       "      <td>{List_of_Legend_of_the_Galactic_Heroes_episode...</td>\n",
       "    </tr>\n",
       "    <tr>\n",
       "      <th>8538</th>\n",
       "      <td>REFUTES</td>\n",
       "      <td>5</td>\n",
       "      <td>7</td>\n",
       "      <td>2.0</td>\n",
       "      <td>1</td>\n",
       "      <td>{Crab}</td>\n",
       "      <td>{Arachnid, Hermit_crab, Decapoda}</td>\n",
       "      <td>{Crab, Hermit_crab, Arachnid}</td>\n",
       "      <td>2</td>\n",
       "      <td>0.666667</td>\n",
       "      <td>0.666667</td>\n",
       "      <td>{Australian_land_hermit_crab, Moulting, Hallow...</td>\n",
       "    </tr>\n",
       "  </tbody>\n",
       "</table>\n",
       "<p>1922 rows × 12 columns</p>\n",
       "</div>"
      ],
      "text/plain": [
       "         claim_label  n_predicted_evidences  n_total_evidences  full_hit  \\\n",
       "claim_id                                                                   \n",
       "111897       REFUTES                      5                  5       3.0   \n",
       "105095      SUPPORTS                      5                  4       1.0   \n",
       "227362       REFUTES                      5                  2       1.0   \n",
       "86175        REFUTES                      5                  2       0.0   \n",
       "71959       SUPPORTS                      5                  7       3.0   \n",
       "...              ...                    ...                ...       ...   \n",
       "5483        SUPPORTS                      5                  1       0.0   \n",
       "63731        REFUTES                      5                 34       4.0   \n",
       "44864       SUPPORTS                      5                  2       1.0   \n",
       "144200       REFUTES                      5                  2       0.0   \n",
       "8538         REFUTES                      5                  7       2.0   \n",
       "\n",
       "          evidence_sent_miss  \\\n",
       "claim_id                       \n",
       "111897                     1   \n",
       "105095                     2   \n",
       "227362                     3   \n",
       "86175                      0   \n",
       "71959                      2   \n",
       "...                      ...   \n",
       "5483                       0   \n",
       "63731                      1   \n",
       "44864                      1   \n",
       "144200                     0   \n",
       "8538                       1   \n",
       "\n",
       "                                                 irrelevant  \\\n",
       "claim_id                                                      \n",
       "111897                                 {Television_network}   \n",
       "105095    {Character_-LRB-arts-RRB-, Homeland, Homeland_...   \n",
       "227362    {Home, Giada_-LRB-disambiguation-RRB-, DVD, Gi...   \n",
       "86175            {Songwriter, Singer-songwriter, Hourglass}   \n",
       "71959                      {Single_-LRB-music-RRB-, Single}   \n",
       "...                                                     ...   \n",
       "5483                           {The_Hit, DVD, Hit, The_DVD}   \n",
       "63731               {Space, Space_-LRB-disambiguation-RRB-}   \n",
       "44864     {Stanford_Prison_Experiment_-LRB-band-RRB-, Or...   \n",
       "144200    {Heroes_-LRB-season_2-RRB-, Heroes_-LRB-season...   \n",
       "8538                                                 {Crab}   \n",
       "\n",
       "                                              evidence_page  \\\n",
       "claim_id                                                      \n",
       "111897           {Telemundo, Hispanic_and_Latino_Americans}   \n",
       "105095                    {Carrie_Mathison, Nicholas_Brody}   \n",
       "227362                        {Food_Network, Giada_at_Home}   \n",
       "86175     {James_Taylor, Hourglass_-LRB-James_Taylor_alb...   \n",
       "71959     {Jennifer_Lopez, J.Lo_-LRB-album-RRB-, Como_Am...   \n",
       "...                                                     ...   \n",
       "5483                          {The_Hit_-LRB-1984_film-RRB-}   \n",
       "63731     {Rwanda, Tanzania, African_Great_Lakes, Uganda...   \n",
       "44864     {Stanford_prison_experiment, Office_of_Naval_R...   \n",
       "144200                         {Heroes_-LRB-TV_series-RRB-}   \n",
       "8538                      {Arachnid, Hermit_crab, Decapoda}   \n",
       "\n",
       "                                             predicted_page  _tp  doc_recall  \\\n",
       "claim_id                                                                       \n",
       "111897                      {Television_network, Telemundo}    1    0.500000   \n",
       "105095    {Character_-LRB-arts-RRB-, Homeland, Homeland_...    1    0.500000   \n",
       "227362    {Giada_-LRB-disambiguation-RRB-, DVD, Giada, H...    1    0.500000   \n",
       "86175            {Songwriter, Singer-songwriter, Hourglass}    0    0.000000   \n",
       "71959      {Single_-LRB-music-RRB-, Jennifer_Lopez, Single}    1    0.333333   \n",
       "...                                                     ...  ...         ...   \n",
       "5483                           {The_Hit, DVD, Hit, The_DVD}    0    0.000000   \n",
       "63731       {Space, Uganda, Space_-LRB-disambiguation-RRB-}    1    0.100000   \n",
       "44864     {Stanford_prison_experiment, Stanford_Prison_E...    1    0.500000   \n",
       "144200    {Heroes_-LRB-season_2-RRB-, Heroes_-LRB-season...    0    0.000000   \n",
       "8538                          {Crab, Hermit_crab, Arachnid}    2    0.666667   \n",
       "\n",
       "          doc_precision                                       wiki_results  \n",
       "claim_id                                                                    \n",
       "111897         0.500000  {2019–20_United_States_network_television_sche...  \n",
       "105095         0.100000  {Homeland_-LRB-TV_series-RRB-, Character, Nich...  \n",
       "227362         0.200000  {The_History_of_Middle-earth, HOME_Investment_...  \n",
       "86175          0.000000  {Songwriter, Hourglass_corset, Slava_-LRB-sing...  \n",
       "71959          0.333333  {Single_&_Single, Single_parent, Single_-LRB-m...  \n",
       "...                 ...                                                ...  \n",
       "5483           0.000000  {Hit_the_Road_Jack, DVD_recordable, BTS_videog...  \n",
       "63731          0.333333  {Uganda_Scheme, International_Space_Station, U...  \n",
       "44864          0.200000  {History_of_Stanford_University, Das_Experimen...  \n",
       "144200         0.000000  {List_of_Legend_of_the_Galactic_Heroes_episode...  \n",
       "8538           0.666667  {Australian_land_hermit_crab, Moulting, Hallow...  \n",
       "\n",
       "[1922 rows x 12 columns]"
      ]
     },
     "execution_count": 19,
     "metadata": {},
     "output_type": "execute_result"
    }
   ],
   "source": [
    "_, fever_match_matrix = fever_dev_scored.get_document_metric(return_df=True)\n",
    "fever_match_matrix = fever_match_matrix.set_index(\"claim_id\")\n",
    "fever_dev_wiki = pd.DataFrame([{\"claim_id\": i[\"id\"], \"wiki_results\": set(i[\"wiki_results\"])} for i in fever_dev]).set_index(\"claim_id\")\n",
    "fever_match_matrix = fever_match_matrix.join(fever_dev_wiki, how=\"left\")\n",
    "fever_match_matrix.query(\"doc_recall < 1\")"
   ]
  },
  {
   "cell_type": "code",
   "execution_count": 20,
   "id": "cf126ebc-a12f-47aa-a85c-3cb136f5c67f",
   "metadata": {},
   "outputs": [
    {
     "data": {
      "text/plain": [
       "25.594659465946595"
      ]
     },
     "execution_count": 20,
     "metadata": {},
     "output_type": "execute_result"
    }
   ],
   "source": [
    "fever_match_matrix[\"wiki_results\"].apply(len).mean()"
   ]
  },
  {
   "cell_type": "markdown",
   "id": "e59d8d1a-a3f2-4a64-974d-a1ab0d038133",
   "metadata": {},
   "source": [
    "## Climate-FEVER"
   ]
  },
  {
   "cell_type": "code",
   "execution_count": 21,
   "id": "0ea5ec47-792c-4d6b-80a8-f37f267df9da",
   "metadata": {},
   "outputs": [
    {
     "data": {
      "text/html": [
       "<div>\n",
       "<style scoped>\n",
       "    .dataframe tbody tr th:only-of-type {\n",
       "        vertical-align: middle;\n",
       "    }\n",
       "\n",
       "    .dataframe tbody tr th {\n",
       "        vertical-align: top;\n",
       "    }\n",
       "\n",
       "    .dataframe thead th {\n",
       "        text-align: right;\n",
       "    }\n",
       "</style>\n",
       "<table border=\"1\" class=\"dataframe\">\n",
       "  <thead>\n",
       "    <tr style=\"text-align: right;\">\n",
       "      <th></th>\n",
       "      <th>claim</th>\n",
       "      <th>claim_label</th>\n",
       "      <th>n_predicted_evidences</th>\n",
       "      <th>n_total_evidences</th>\n",
       "      <th>full_hit</th>\n",
       "      <th>other_evidence_full_hit</th>\n",
       "      <th>evidence_sent_miss</th>\n",
       "      <th>other_evidence_sent_miss</th>\n",
       "      <th>irrelevant</th>\n",
       "      <th>evidence_page</th>\n",
       "      <th>predicted_page</th>\n",
       "      <th>_tp</th>\n",
       "      <th>doc_recall</th>\n",
       "      <th>doc_precision</th>\n",
       "      <th>wiki_results</th>\n",
       "    </tr>\n",
       "    <tr>\n",
       "      <th>claim_id</th>\n",
       "      <th></th>\n",
       "      <th></th>\n",
       "      <th></th>\n",
       "      <th></th>\n",
       "      <th></th>\n",
       "      <th></th>\n",
       "      <th></th>\n",
       "      <th></th>\n",
       "      <th></th>\n",
       "      <th></th>\n",
       "      <th></th>\n",
       "      <th></th>\n",
       "      <th></th>\n",
       "      <th></th>\n",
       "      <th></th>\n",
       "    </tr>\n",
       "  </thead>\n",
       "  <tbody>\n",
       "    <tr>\n",
       "      <th>42</th>\n",
       "      <td>Unprecedented climate change has caused sea le...</td>\n",
       "      <td>REFUTES</td>\n",
       "      <td>5</td>\n",
       "      <td>2</td>\n",
       "      <td>0.0</td>\n",
       "      <td>0.0</td>\n",
       "      <td>0</td>\n",
       "      <td>5.0</td>\n",
       "      <td>{Sea_Level_-LRB-band-RRB-, Sydney, Climate_cha...</td>\n",
       "      <td>{Sea_level, Global_warming}</td>\n",
       "      <td>{Sydney, Sea_level, Climate_change, Sea_Level_...</td>\n",
       "      <td>1</td>\n",
       "      <td>0.5</td>\n",
       "      <td>0.166667</td>\n",
       "      <td>{Sydney, Pioneer_0, Sydney_Harbour_Tunnel, Syd...</td>\n",
       "    </tr>\n",
       "    <tr>\n",
       "      <th>44</th>\n",
       "      <td>Human-produced carbon might be one of the fact...</td>\n",
       "      <td>REFUTES</td>\n",
       "      <td>5</td>\n",
       "      <td>5</td>\n",
       "      <td>0.0</td>\n",
       "      <td>NaN</td>\n",
       "      <td>0</td>\n",
       "      <td>NaN</td>\n",
       "      <td>{Factoring, There_There, It, Factor, One_-LRB-...</td>\n",
       "      <td>{Global_warming_controversy, Scientific_consen...</td>\n",
       "      <td>{Factoring, There_There, It, Factor, One_-LRB-...</td>\n",
       "      <td>0</td>\n",
       "      <td>0.0</td>\n",
       "      <td>0.000000</td>\n",
       "      <td>{South_Korea, Effects_of_climate_change_on_agr...</td>\n",
       "    </tr>\n",
       "    <tr>\n",
       "      <th>74</th>\n",
       "      <td>The models predicted about three times the amo...</td>\n",
       "      <td>SUPPORTS</td>\n",
       "      <td>1</td>\n",
       "      <td>1</td>\n",
       "      <td>0.0</td>\n",
       "      <td>0.0</td>\n",
       "      <td>0</td>\n",
       "      <td>0.0</td>\n",
       "      <td>{Warming, We_-LRB-disambiguation-RRB-, Model_-...</td>\n",
       "      <td>{Global_warming_controversy}</td>\n",
       "      <td>{Warming, Model_-LRB-person-RRB-, World, We, T...</td>\n",
       "      <td>0</td>\n",
       "      <td>0.0</td>\n",
       "      <td>0.000000</td>\n",
       "      <td>{UEFA_Euro_1988_squads, Terraforming_of_Mars, ...</td>\n",
       "    </tr>\n",
       "    <tr>\n",
       "      <th>76</th>\n",
       "      <td>Burping cows are more damaging to the climate ...</td>\n",
       "      <td>NOT ENOUGH INFO</td>\n",
       "      <td>5</td>\n",
       "      <td>5</td>\n",
       "      <td>0.0</td>\n",
       "      <td>NaN</td>\n",
       "      <td>0</td>\n",
       "      <td>NaN</td>\n",
       "      <td>{Climate, Burping, Cars_-LRB-franchise-RRB-, P...</td>\n",
       "      <td>{Climate_change_mitigation, Earth}</td>\n",
       "      <td>{Climate, Burping, Cars_-LRB-franchise-RRB-, P...</td>\n",
       "      <td>0</td>\n",
       "      <td>0.0</td>\n",
       "      <td>0.000000</td>\n",
       "      <td>{Mercury_-LRB-planet-RRB-, Oceanic_climate, Th...</td>\n",
       "    </tr>\n",
       "    <tr>\n",
       "      <th>79</th>\n",
       "      <td>The rate of warming according to the data is m...</td>\n",
       "      <td>REFUTES</td>\n",
       "      <td>1</td>\n",
       "      <td>1</td>\n",
       "      <td>0.0</td>\n",
       "      <td>0.0</td>\n",
       "      <td>0</td>\n",
       "      <td>0.0</td>\n",
       "      <td>{Warming, IPCC_-LRB-disambiguation-RRB-, Model...</td>\n",
       "      <td>{Intergovernmental_Panel_on_Climate_Change}</td>\n",
       "      <td>{Warming, IPCC_-LRB-disambiguation-RRB-, Model...</td>\n",
       "      <td>0</td>\n",
       "      <td>0.0</td>\n",
       "      <td>0.000000</td>\n",
       "      <td>{IPCC_Fifth_Assessment_Report, Greenhouse_gas,...</td>\n",
       "    </tr>\n",
       "    <tr>\n",
       "      <th>...</th>\n",
       "      <td>...</td>\n",
       "      <td>...</td>\n",
       "      <td>...</td>\n",
       "      <td>...</td>\n",
       "      <td>...</td>\n",
       "      <td>...</td>\n",
       "      <td>...</td>\n",
       "      <td>...</td>\n",
       "      <td>...</td>\n",
       "      <td>...</td>\n",
       "      <td>...</td>\n",
       "      <td>...</td>\n",
       "      <td>...</td>\n",
       "      <td>...</td>\n",
       "      <td>...</td>\n",
       "    </tr>\n",
       "    <tr>\n",
       "      <th>3048</th>\n",
       "      <td>There is no question whatsoever that the CO2 i...</td>\n",
       "      <td>SUPPORTS</td>\n",
       "      <td>1</td>\n",
       "      <td>4</td>\n",
       "      <td>0.0</td>\n",
       "      <td>0.0</td>\n",
       "      <td>0</td>\n",
       "      <td>0.0</td>\n",
       "      <td>{Question, There_There, No_Question, There}</td>\n",
       "      <td>{Greenhouse_gas, Carbon_dioxide, Carbon_dioxid...</td>\n",
       "      <td>{Question, There_There, No_Question, There}</td>\n",
       "      <td>0</td>\n",
       "      <td>0.0</td>\n",
       "      <td>0.000000</td>\n",
       "      <td>{Greenhouse_gas, Rhetorical_question, The_Weal...</td>\n",
       "    </tr>\n",
       "    <tr>\n",
       "      <th>3069</th>\n",
       "      <td>Continued greenhouse gas emissions at or above...</td>\n",
       "      <td>SUPPORTS</td>\n",
       "      <td>5</td>\n",
       "      <td>1</td>\n",
       "      <td>0.0</td>\n",
       "      <td>0.0</td>\n",
       "      <td>0</td>\n",
       "      <td>4.0</td>\n",
       "      <td>{Climate_system, Global_Climate_Observing_Syst...</td>\n",
       "      <td>{Global_warming}</td>\n",
       "      <td>{Climate_system, Global_Climate_Observing_Syst...</td>\n",
       "      <td>0</td>\n",
       "      <td>0.0</td>\n",
       "      <td>0.000000</td>\n",
       "      <td>{21st_Century_Breakdown, 20th_Century_Animatio...</td>\n",
       "    </tr>\n",
       "    <tr>\n",
       "      <th>3104</th>\n",
       "      <td>the satellite sensors show less warming in the...</td>\n",
       "      <td>SUPPORTS</td>\n",
       "      <td>5</td>\n",
       "      <td>1</td>\n",
       "      <td>0.0</td>\n",
       "      <td>1.0</td>\n",
       "      <td>0</td>\n",
       "      <td>1.0</td>\n",
       "      <td>{Troposphere, Temperature}</td>\n",
       "      <td>{Global_warming}</td>\n",
       "      <td>{Troposphere, Earth, Temperature}</td>\n",
       "      <td>0</td>\n",
       "      <td>0.0</td>\n",
       "      <td>0.000000</td>\n",
       "      <td>{Madden–Julian_oscillation, Internal_structure...</td>\n",
       "    </tr>\n",
       "    <tr>\n",
       "      <th>3111</th>\n",
       "      <td>Ljungqvist's millennial temperature reconstruc...</td>\n",
       "      <td>NOT ENOUGH INFO</td>\n",
       "      <td>1</td>\n",
       "      <td>5</td>\n",
       "      <td>0.0</td>\n",
       "      <td>NaN</td>\n",
       "      <td>0</td>\n",
       "      <td>NaN</td>\n",
       "      <td>{Ljungqvist}</td>\n",
       "      <td>{North_Report, Hockey_stick_controversy, List_...</td>\n",
       "      <td>{Ljungqvist}</td>\n",
       "      <td>0</td>\n",
       "      <td>0.0</td>\n",
       "      <td>0.000000</td>\n",
       "      <td>{Porites, Clark_-LRB-TV_series-RRB-, Hockey_st...</td>\n",
       "    </tr>\n",
       "    <tr>\n",
       "      <th>3122</th>\n",
       "      <td>Yet clouds reflect about seventy-five watts pe...</td>\n",
       "      <td>NOT ENOUGH INFO</td>\n",
       "      <td>5</td>\n",
       "      <td>5</td>\n",
       "      <td>0.0</td>\n",
       "      <td>NaN</td>\n",
       "      <td>0</td>\n",
       "      <td>NaN</td>\n",
       "      <td>{Cloud}</td>\n",
       "      <td>{Sunlight}</td>\n",
       "      <td>{Cloud}</td>\n",
       "      <td>0</td>\n",
       "      <td>0.0</td>\n",
       "      <td>0.000000</td>\n",
       "      <td>{Candela_per_square_metre, Metrication_in_the_...</td>\n",
       "    </tr>\n",
       "  </tbody>\n",
       "</table>\n",
       "<p>238 rows × 15 columns</p>\n",
       "</div>"
      ],
      "text/plain": [
       "                                                      claim      claim_label  \\\n",
       "claim_id                                                                       \n",
       "42        Unprecedented climate change has caused sea le...          REFUTES   \n",
       "44        Human-produced carbon might be one of the fact...          REFUTES   \n",
       "74        The models predicted about three times the amo...         SUPPORTS   \n",
       "76        Burping cows are more damaging to the climate ...  NOT ENOUGH INFO   \n",
       "79        The rate of warming according to the data is m...          REFUTES   \n",
       "...                                                     ...              ...   \n",
       "3048      There is no question whatsoever that the CO2 i...         SUPPORTS   \n",
       "3069      Continued greenhouse gas emissions at or above...         SUPPORTS   \n",
       "3104      the satellite sensors show less warming in the...         SUPPORTS   \n",
       "3111      Ljungqvist's millennial temperature reconstruc...  NOT ENOUGH INFO   \n",
       "3122      Yet clouds reflect about seventy-five watts pe...  NOT ENOUGH INFO   \n",
       "\n",
       "          n_predicted_evidences  n_total_evidences  full_hit  \\\n",
       "claim_id                                                       \n",
       "42                            5                  2       0.0   \n",
       "44                            5                  5       0.0   \n",
       "74                            1                  1       0.0   \n",
       "76                            5                  5       0.0   \n",
       "79                            1                  1       0.0   \n",
       "...                         ...                ...       ...   \n",
       "3048                          1                  4       0.0   \n",
       "3069                          5                  1       0.0   \n",
       "3104                          5                  1       0.0   \n",
       "3111                          1                  5       0.0   \n",
       "3122                          5                  5       0.0   \n",
       "\n",
       "          other_evidence_full_hit  evidence_sent_miss  \\\n",
       "claim_id                                                \n",
       "42                            0.0                   0   \n",
       "44                            NaN                   0   \n",
       "74                            0.0                   0   \n",
       "76                            NaN                   0   \n",
       "79                            0.0                   0   \n",
       "...                           ...                 ...   \n",
       "3048                          0.0                   0   \n",
       "3069                          0.0                   0   \n",
       "3104                          1.0                   0   \n",
       "3111                          NaN                   0   \n",
       "3122                          NaN                   0   \n",
       "\n",
       "          other_evidence_sent_miss  \\\n",
       "claim_id                             \n",
       "42                             5.0   \n",
       "44                             NaN   \n",
       "74                             0.0   \n",
       "76                             NaN   \n",
       "79                             0.0   \n",
       "...                            ...   \n",
       "3048                           0.0   \n",
       "3069                           4.0   \n",
       "3104                           1.0   \n",
       "3111                           NaN   \n",
       "3122                           NaN   \n",
       "\n",
       "                                                 irrelevant  \\\n",
       "claim_id                                                      \n",
       "42        {Sea_Level_-LRB-band-RRB-, Sydney, Climate_cha...   \n",
       "44        {Factoring, There_There, It, Factor, One_-LRB-...   \n",
       "74        {Warming, We_-LRB-disambiguation-RRB-, Model_-...   \n",
       "76        {Climate, Burping, Cars_-LRB-franchise-RRB-, P...   \n",
       "79        {Warming, IPCC_-LRB-disambiguation-RRB-, Model...   \n",
       "...                                                     ...   \n",
       "3048            {Question, There_There, No_Question, There}   \n",
       "3069      {Climate_system, Global_Climate_Observing_Syst...   \n",
       "3104                             {Troposphere, Temperature}   \n",
       "3111                                           {Ljungqvist}   \n",
       "3122                                                {Cloud}   \n",
       "\n",
       "                                              evidence_page  \\\n",
       "claim_id                                                      \n",
       "42                              {Sea_level, Global_warming}   \n",
       "44        {Global_warming_controversy, Scientific_consen...   \n",
       "74                             {Global_warming_controversy}   \n",
       "76                       {Climate_change_mitigation, Earth}   \n",
       "79              {Intergovernmental_Panel_on_Climate_Change}   \n",
       "...                                                     ...   \n",
       "3048      {Greenhouse_gas, Carbon_dioxide, Carbon_dioxid...   \n",
       "3069                                       {Global_warming}   \n",
       "3104                                       {Global_warming}   \n",
       "3111      {North_Report, Hockey_stick_controversy, List_...   \n",
       "3122                                             {Sunlight}   \n",
       "\n",
       "                                             predicted_page  _tp  doc_recall  \\\n",
       "claim_id                                                                       \n",
       "42        {Sydney, Sea_level, Climate_change, Sea_Level_...    1         0.5   \n",
       "44        {Factoring, There_There, It, Factor, One_-LRB-...    0         0.0   \n",
       "74        {Warming, Model_-LRB-person-RRB-, World, We, T...    0         0.0   \n",
       "76        {Climate, Burping, Cars_-LRB-franchise-RRB-, P...    0         0.0   \n",
       "79        {Warming, IPCC_-LRB-disambiguation-RRB-, Model...    0         0.0   \n",
       "...                                                     ...  ...         ...   \n",
       "3048            {Question, There_There, No_Question, There}    0         0.0   \n",
       "3069      {Climate_system, Global_Climate_Observing_Syst...    0         0.0   \n",
       "3104                      {Troposphere, Earth, Temperature}    0         0.0   \n",
       "3111                                           {Ljungqvist}    0         0.0   \n",
       "3122                                                {Cloud}    0         0.0   \n",
       "\n",
       "          doc_precision                                       wiki_results  \n",
       "claim_id                                                                    \n",
       "42             0.166667  {Sydney, Pioneer_0, Sydney_Harbour_Tunnel, Syd...  \n",
       "44             0.000000  {South_Korea, Effects_of_climate_change_on_agr...  \n",
       "74             0.000000  {UEFA_Euro_1988_squads, Terraforming_of_Mars, ...  \n",
       "76             0.000000  {Mercury_-LRB-planet-RRB-, Oceanic_climate, Th...  \n",
       "79             0.000000  {IPCC_Fifth_Assessment_Report, Greenhouse_gas,...  \n",
       "...                 ...                                                ...  \n",
       "3048           0.000000  {Greenhouse_gas, Rhetorical_question, The_Weal...  \n",
       "3069           0.000000  {21st_Century_Breakdown, 20th_Century_Animatio...  \n",
       "3104           0.000000  {Madden–Julian_oscillation, Internal_structure...  \n",
       "3111           0.000000  {Porites, Clark_-LRB-TV_series-RRB-, Hockey_st...  \n",
       "3122           0.000000  {Candela_per_square_metre, Metrication_in_the_...  \n",
       "\n",
       "[238 rows x 15 columns]"
      ]
     },
     "execution_count": 21,
     "metadata": {},
     "output_type": "execute_result"
    }
   ],
   "source": [
    "_, cfever_match_matrix = cfever_dev_scored.get_document_metric(return_df=True)\n",
    "cfever_match_matrix = cfever_match_matrix.set_index(\"claim_id\")\n",
    "cfever_dev_wiki = pd.DataFrame([{\"claim_id\": i[\"id\"], \"wiki_results\": set(i[\"wiki_results\"])} for i in cfever_dev]).set_index(\"claim_id\")\n",
    "cfever_match_matrix = cfever_match_matrix.join(cfever_dev_wiki, how=\"left\")\n",
    "cfever_match_matrix.query(\"doc_recall < 1\")"
   ]
  },
  {
   "cell_type": "code",
   "execution_count": 23,
   "id": "4f61fa69-516e-487e-82d2-1cb3097e9f16",
   "metadata": {},
   "outputs": [
    {
     "data": {
      "text/plain": [
       "49.37410071942446"
      ]
     },
     "execution_count": 23,
     "metadata": {},
     "output_type": "execute_result"
    }
   ],
   "source": [
    "cfever_match_matrix[\"wiki_results\"].apply(len).mean()"
   ]
  },
  {
   "cell_type": "code",
   "execution_count": 35,
   "id": "bb264314-87a5-44b6-9d27-9fd76d81876a",
   "metadata": {},
   "outputs": [
    {
     "data": {
      "text/plain": [
       "'Unprecedented climate change has caused sea level at Sydney Harbour to rise approximately 0.0 cm over the past 140 years.'"
      ]
     },
     "execution_count": 35,
     "metadata": {},
     "output_type": "execute_result"
    }
   ],
   "source": [
    "cfever_match_matrix.loc[42, \"claim\"]"
   ]
  },
  {
   "cell_type": "code",
   "execution_count": 36,
   "id": "bf8c3bde-36ac-4a66-b381-53dddd8515ba",
   "metadata": {},
   "outputs": [
    {
     "data": {
      "text/plain": [
       "{'2017_in_science',\n",
       " '2022_Hunga_Tonga–Hunga_Haʻapai_eruption_and_tsunami',\n",
       " 'Atmospheric_pressure',\n",
       " 'Attack_on_Sydney_Harbour',\n",
       " 'Cephalopod_eye',\n",
       " 'City_status_in_the_United_Kingdom',\n",
       " 'Climate_change',\n",
       " 'Climate_change_adaptation',\n",
       " 'Climate_change_denial',\n",
       " 'Climate_change_in_Australia',\n",
       " 'Climate_change_in_the_United_States',\n",
       " 'Climate_variability_and_change',\n",
       " 'Cubic_metre',\n",
       " 'DOCSIS',\n",
       " 'Effects_of_climate_change',\n",
       " 'Geography_of_Sydney',\n",
       " 'Height_above_mean_sea_level',\n",
       " 'IERS_Reference_Meridian',\n",
       " 'Inch',\n",
       " 'Indus_River_Delta',\n",
       " 'List_of_places_on_land_with_elevations_below_sea_level',\n",
       " 'List_of_presidents_of_Wellesley_College',\n",
       " 'Litre',\n",
       " 'Maximilian_I,_Holy_Roman_Emperor',\n",
       " 'Nightcap_National_Park',\n",
       " 'One_Sydney_Harbour',\n",
       " 'Past_sea_level',\n",
       " 'Pioneer_0',\n",
       " 'Port_Jackson',\n",
       " 'Scientific_consensus_on_climate_change',\n",
       " 'Sea_Level_-LRB-band-RRB-',\n",
       " 'Sea_level',\n",
       " 'Sea_level_rise',\n",
       " 'Selters_-LRB-Lahn-RRB-',\n",
       " 'Spinach',\n",
       " \"Stott's_College\",\n",
       " 'Sydney',\n",
       " 'Sydney_Ferries',\n",
       " 'Sydney_Harbour_Bridge',\n",
       " 'Sydney_Harbour_Tunnel',\n",
       " 'Tropical_cyclone_effects_by_region',\n",
       " 'Venus',\n",
       " 'Vivid_Sydney'}"
      ]
     },
     "execution_count": 36,
     "metadata": {},
     "output_type": "execute_result"
    }
   ],
   "source": [
    "cfever_match_matrix.loc[42, \"wiki_results\"]"
   ]
  },
  {
   "cell_type": "code",
   "execution_count": 37,
   "id": "d52fa56d-c912-4a67-b0fd-11d5b13d6c40",
   "metadata": {},
   "outputs": [
    {
     "data": {
      "text/plain": [
       "[{'id': 42,\n",
       "  'claim': 'Unprecedented climate change has caused sea level at Sydney Harbour to rise approximately 0.0 cm over the past 140 years.',\n",
       "  'label': 'REFUTES',\n",
       "  'elab': ['REFUTES', 'REFUTES'],\n",
       "  'evidence': [[[None, None, 'Global_warming', 98]],\n",
       "   [[None, None, 'Sea_level', 6]]],\n",
       "  'other_elab': ['NOT ENOUGH INFO', 'NOT ENOUGH INFO', 'NOT ENOUGH INFO'],\n",
       "  'other_evidence': [[[None, None, 'Global_warming', 99]],\n",
       "   [[None, None, 'Sea_level_rise', 1]],\n",
       "   [[None, None, 'Sea_level_rise', 113]]],\n",
       "  'verifiable': 'VERIFIABLE',\n",
       "  'noun_phrases': ['sea level at Sydney Harbour',\n",
       "   'Sydney Harbour',\n",
       "   'approximately 0.0 cm',\n",
       "   'Unprecedented climate change has caused sea level at Sydney Harbour to rise approximately 0.0 cm over the past 140 years.',\n",
       "   'the past 140 years',\n",
       "   'sea level',\n",
       "   'Unprecedented climate change'],\n",
       "  'predicted_pages': ['Climate_change',\n",
       "   'Past_sea_level',\n",
       "   'Sea_Level_-LRB-band-RRB-',\n",
       "   'Sea_level_rise',\n",
       "   'Sea_level',\n",
       "   'Sydney'],\n",
       "  'wiki_results': ['Port_Jackson',\n",
       "   'Sydney_Harbour_Tunnel',\n",
       "   'Sea_Level_-LRB-band-RRB-',\n",
       "   'One_Sydney_Harbour',\n",
       "   'Pioneer_0',\n",
       "   'Nightcap_National_Park',\n",
       "   'Cephalopod_eye',\n",
       "   'DOCSIS',\n",
       "   '2017_in_science',\n",
       "   'Sydney',\n",
       "   'Venus',\n",
       "   'Vivid_Sydney',\n",
       "   'Inch',\n",
       "   'City_status_in_the_United_Kingdom',\n",
       "   'Spinach',\n",
       "   'Effects_of_climate_change',\n",
       "   'Tropical_cyclone_effects_by_region',\n",
       "   'Geography_of_Sydney',\n",
       "   \"Stott's_College\",\n",
       "   'Indus_River_Delta',\n",
       "   'Climate_change',\n",
       "   'Climate_change_adaptation',\n",
       "   'Litre',\n",
       "   'List_of_places_on_land_with_elevations_below_sea_level',\n",
       "   '2022_Hunga_Tonga–Hunga_Haʻapai_eruption_and_tsunami',\n",
       "   'Climate_change_in_Australia',\n",
       "   'Cubic_metre',\n",
       "   'Sydney_Harbour_Bridge',\n",
       "   'Attack_on_Sydney_Harbour',\n",
       "   'Sydney_Ferries',\n",
       "   'Atmospheric_pressure',\n",
       "   'IERS_Reference_Meridian',\n",
       "   'Climate_change_denial',\n",
       "   'List_of_presidents_of_Wellesley_College',\n",
       "   'Selters_-LRB-Lahn-RRB-',\n",
       "   'Climate_change_in_the_United_States',\n",
       "   'Past_sea_level',\n",
       "   'Maximilian_I,_Holy_Roman_Emperor',\n",
       "   'Scientific_consensus_on_climate_change',\n",
       "   'Climate_variability_and_change',\n",
       "   'Sea_level_rise',\n",
       "   'Sea_level',\n",
       "   'Height_above_mean_sea_level'],\n",
       "  'predicted_evidence': [['Sea_level_rise', 70],\n",
       "   ['Sea_level_rise', 13],\n",
       "   ['Sea_level_rise', 76],\n",
       "   ['Sea_level_rise', 66],\n",
       "   ['Sea_level_rise', 72]],\n",
       "  'predicted_label': 'REFUTES'}]"
      ]
     },
     "execution_count": 37,
     "metadata": {},
     "output_type": "execute_result"
    }
   ],
   "source": [
    "[i for i in cfever_dev if i[\"id\"] == 42]"
   ]
  },
  {
   "cell_type": "code",
   "execution_count": null,
   "id": "79ab17f9-b3a2-4903-804e-7a4cbc72e0de",
   "metadata": {},
   "outputs": [],
   "source": []
  }
 ],
 "metadata": {
  "kernelspec": {
   "display_name": "Python 3 (ipykernel)",
   "language": "python",
   "name": "python3"
  },
  "language_info": {
   "codemirror_mode": {
    "name": "ipython",
    "version": 3
   },
   "file_extension": ".py",
   "mimetype": "text/x-python",
   "name": "python",
   "nbconvert_exporter": "python",
   "pygments_lexer": "ipython3",
   "version": "3.8.16"
  }
 },
 "nbformat": 4,
 "nbformat_minor": 5
}
