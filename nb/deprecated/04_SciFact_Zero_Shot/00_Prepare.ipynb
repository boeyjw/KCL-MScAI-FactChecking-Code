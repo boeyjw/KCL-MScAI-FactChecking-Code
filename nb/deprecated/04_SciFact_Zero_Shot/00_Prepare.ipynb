{
 "cells": [
  {
   "cell_type": "code",
   "execution_count": 2,
   "id": "714e67a5-c174-44de-b95c-0948c6cb36b1",
   "metadata": {},
   "outputs": [],
   "source": [
    "%load_ext autoreload\n",
    "%autoreload 2"
   ]
  },
  {
   "cell_type": "markdown",
   "id": "fcb0e1ac-108c-453c-ae3e-80c2284ad18c",
   "metadata": {},
   "source": [
    "# Init"
   ]
  },
  {
   "cell_type": "code",
   "execution_count": 9,
   "id": "87df3633-777f-46f0-a7c1-71c11be2328a",
   "metadata": {},
   "outputs": [],
   "source": [
    "import sys\n",
    "import json\n",
    "import sqlite3\n",
    "from pathlib import Path\n",
    "sys.path.append(\"../src\")\n",
    "from copy import deepcopy\n",
    "from collections import defaultdict\n",
    "\n",
    "from finetune.baseline import evaluate\n",
    "from gen.util import read_data, write_jsonl"
   ]
  },
  {
   "cell_type": "markdown",
   "id": "493afb97-f7cf-44d5-8835-a995f486677a",
   "metadata": {},
   "source": [
    "# Generate Oracle IR"
   ]
  },
  {
   "cell_type": "code",
   "execution_count": 6,
   "id": "7f21eb36-6274-4e24-9e20-09263079c337",
   "metadata": {},
   "outputs": [
    {
     "data": {
      "text/plain": [
       "PosixPath('/users/k21190024/study/fact-checking-repos/fever/baseline/fever2-sample/data/scifact/scifact_oracle_all.ns.pages.p1.jsonl')"
      ]
     },
     "execution_count": 6,
     "metadata": {},
     "output_type": "execute_result"
    }
   ],
   "source": [
    "sf_all = read_data(Path(\"/users/k21190024/study/fact-checking-repos/fever/baseline/fever2-sample/data/scifact/scifact_all_titleid.ns.pages.p1.jsonl\"))\n",
    "\n",
    "for doc in sf_all: \n",
    "    doc[\"predicted_sentences\"] = [[ev[0][2], ev[0][3]] for ev in doc[\"evidence\"]]\n",
    "write_jsonl(Path(\"/users/k21190024/study/fact-checking-repos/fever/baseline/fever2-sample/data/scifact/scifact_oracle_all.ns.pages.p1.jsonl\"), sf_all) "
   ]
  },
  {
   "cell_type": "code",
   "execution_count": null,
   "id": "99493d05-425e-4009-88df-e619064af4e7",
   "metadata": {},
   "outputs": [],
   "source": []
  }
 ],
 "metadata": {
  "kernelspec": {
   "display_name": "Python 3 (ipykernel)",
   "language": "python",
   "name": "python3"
  },
  "language_info": {
   "codemirror_mode": {
    "name": "ipython",
    "version": 3
   },
   "file_extension": ".py",
   "mimetype": "text/x-python",
   "name": "python",
   "nbconvert_exporter": "python",
   "pygments_lexer": "ipython3",
   "version": "3.8.16"
  }
 },
 "nbformat": 4,
 "nbformat_minor": 5
}
