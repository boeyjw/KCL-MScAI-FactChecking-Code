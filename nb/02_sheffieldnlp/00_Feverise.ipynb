{
 "cells": [
  {
   "cell_type": "code",
   "execution_count": 1,
   "id": "d5977a8b-d63a-402f-ab97-b6bc818366cf",
   "metadata": {},
   "outputs": [],
   "source": [
    "%load_ext autoreload\n",
    "%autoreload 2"
   ]
  },
  {
   "cell_type": "markdown",
   "id": "06680668-8938-42e0-9c67-d8e37f556b3f",
   "metadata": {},
   "source": [
    "# Init"
   ]
  },
  {
   "cell_type": "code",
   "execution_count": 2,
   "id": "0658a099-ab1c-4aa2-b984-a8627866abd9",
   "metadata": {},
   "outputs": [],
   "source": [
    "import sys\n",
    "sys.path.insert(0, \"../src\")\n",
    "\n",
    "import json\n",
    "import random\n",
    "from pathlib import Path\n",
    "from collections import Counter\n",
    "\n",
    "from gen.util import read_data, write_jsonl\n",
    "from feverise import scifact, climatefever, constants"
   ]
  },
  {
   "cell_type": "code",
   "execution_count": 3,
   "id": "38110ad3-36fb-492e-b915-c1a2b73b7476",
   "metadata": {},
   "outputs": [
    {
     "data": {
      "text/plain": [
       "(None, None)"
      ]
     },
     "execution_count": 3,
     "metadata": {},
     "output_type": "execute_result"
    }
   ],
   "source": [
    "feverp = Path(\"/users/k21190024/study/fact-check-transfer-learning/scratch/data/fever\")\n",
    "climatefp = Path(\"/users/k21190024/study/fact-check-transfer-learning/scratch/data/climatefever\")\n",
    "scifactp = Path(\"/users/k21190024/study/fact-check-transfer-learning/scratch/data/scifact\")\n",
    "\n",
    "climatefdp = Path(\"/users/k21190024/study/fact-check-transfer-learning/scratch/dumps/feverised-climatefever\")\n",
    "scifactdp = Path(\"/users/k21190024/study/fact-check-transfer-learning/scratch/dumps/feverised-scifact\")\n",
    "\n",
    "climatefdp.mkdir(exist_ok=True), scifactdp.mkdir(exist_ok=True)"
   ]
  },
  {
   "cell_type": "code",
   "execution_count": 16,
   "id": "b53ad007-cdd6-4bdd-b342-a38732e3bbc2",
   "metadata": {},
   "outputs": [],
   "source": [
    "fever_dev_sample, wiki_sample = None, None\n",
    "\n",
    "fever_dev_sample = read_data(feverp / \"train.jsonl\")\n",
    "for p in feverp.joinpath(\"wiki-pages\").iterdir():\n",
    "    if random.uniform(0, 1) > 0.7:\n",
    "        wiki_sample = read_data(p)\n",
    "        break"
   ]
  },
  {
   "cell_type": "code",
   "execution_count": 19,
   "id": "6645ebf9-a182-4781-b06e-cece653da412",
   "metadata": {},
   "outputs": [
    {
     "data": {
      "text/plain": [
       "{'id': 12113,\n",
       " 'verifiable': 'VERIFIABLE',\n",
       " 'label': 'SUPPORTS',\n",
       " 'claim': 'Canada possesses a constitution.',\n",
       " 'evidence': [[[27868, 34157, 'Canada', 18],\n",
       "   [27868, 34157, 'Constitution_Act,_1982', 0]],\n",
       "  [[27868, 34158, 'Canada', 21], [27868, 34158, 'Constitutional_monarchy', 0]],\n",
       "  [[30847, 37490, 'Canada', 17]],\n",
       "  [[32940, 40022, 'Canada', 17]],\n",
       "  [[301708, 292813, 'Canada', 17]],\n",
       "  [[301708, 292814, 'Canada', 21]],\n",
       "  [[301708, 292815, 'Canada', 18]],\n",
       "  [[303045, 294023, 'Canada', 17]],\n",
       "  [[303045, 294024, 'Canada', 18]],\n",
       "  [[303045, 294025, 'Canada', 21]],\n",
       "  [[304413, 295213, 'Canada', 17]],\n",
       "  [[304413, 295214, 'Canada', 18]],\n",
       "  [[304413, 295215, 'Canada', 21]]]}"
      ]
     },
     "execution_count": 19,
     "metadata": {},
     "output_type": "execute_result"
    }
   ],
   "source": [
    "fever_dev_sample[199]"
   ]
  },
  {
   "cell_type": "code",
   "execution_count": 18,
   "id": "f82cd34b-56c0-4d21-9323-2ee579053402",
   "metadata": {},
   "outputs": [
    {
     "data": {
      "text/plain": [
       "{'id': 'A_Rose_Without_a_Thorn',\n",
       " 'text': \"A Rose without a Thorn is a 1958 Australian TV play about King Henry VIII 's marriage to Katherine Howard . It was directed by Alan Burke from a play by Clifford Bax . The play was shown live in Sydney , recorded , then shown in Melbourne .   It was the first production directed by Alan Burke after he joined the ABC full time . Burke would go on to be one of the leading directors of the early days of Australian television . Seven different sets were used in the program . \",\n",
       " 'lines': \"0\\tA Rose without a Thorn is a 1958 Australian TV play about King Henry VIII 's marriage to Katherine Howard .\\tKing Henry VIII\\tKing Henry VIII\\n1\\tIt was directed by Alan Burke from a play by Clifford Bax .\\tClifford Bax\\tClifford Bax\\n2\\tThe play was shown live in Sydney , recorded , then shown in Melbourne .\\n3\\t\\n4\\t\\n5\\tIt was the first production directed by Alan Burke after he joined the ABC full time .\\n6\\tBurke would go on to be one of the leading directors of the early days of Australian television .\\n7\\tSeven different sets were used in the program .\\n8\\t\"}"
      ]
     },
     "execution_count": 18,
     "metadata": {},
     "output_type": "execute_result"
    }
   ],
   "source": [
    "wiki_sample[1999]"
   ]
  },
  {
   "cell_type": "code",
   "execution_count": 37,
   "id": "52c9e2fe-f1a7-415c-9354-0a10b14337e0",
   "metadata": {},
   "outputs": [
    {
     "name": "stdout",
     "output_type": "stream",
     "text": [
      "{'id': 189815, 'verifiable': 'VERIFIABLE', 'label': 'SUPPORTS', 'claim': 'The Smurfs (film) was released.', 'evidence': [[[221732, 227296, 'The_Smurfs_-LRB-film-RRB-', 10]], [[221747, 227307, 'The_Smurfs_-LRB-film-RRB-', 0]], [[221747, 227308, 'The_Smurfs_-LRB-film-RRB-', 10]], [[221747, 227309, 'The_Smurfs_-LRB-film-RRB-', 15]], [[221747, 227310, 'The_Smurfs_-LRB-film-RRB-', 12]]]}\n"
     ]
    }
   ],
   "source": [
    "for f in fever_dev_sample:\n",
    "    if \"-LRB-\" in f[\"claim\"]  or \"(\" in f[\"claim\"]:\n",
    "        print(f)\n",
    "        break"
   ]
  },
  {
   "cell_type": "code",
   "execution_count": 40,
   "id": "2eb9d16c-f703-4f55-8bf3-4af6ffa947cc",
   "metadata": {
    "collapsed": true,
    "jupyter": {
     "outputs_hidden": true
    },
    "tags": []
   },
   "outputs": [
    {
     "name": "stdout",
     "output_type": "stream",
     "text": [
      "{'id': '85th_Street_-LRB-Manhattan-RRB-', 'text': '85th Street is a westbound-running street , running from East End Avenue to Riverside Drive in the borough of Manhattan in New York City .   The street provides access to the 85th/86th Street Transverse , which runs east -- west through Central Park , heading from the Upper East Side -LRB- where it is known as East 85th Street -RRB- to the Upper West Side -LRB- where it is known as West 85th Street -RRB- . It includes landmarks such as the Lewis Gouverneur and Nathalie Bailey Morris House at 100 East 85th Street , the sidewalk clock at East 85th Street and Third Avenue , the Yorkville Bank Building at 201 -- 203 East 85th Street , Red House at 350 West 85th Street , and Regis High School . Regis High School (New York City) ', 'lines': '0\\t85th Street is a westbound-running street , running from East End Avenue to Riverside Drive in the borough of Manhattan in New York City .\\tManhattan\\tManhattan\\tRiverside Drive\\tRiverside Drive (Manhattan)\\tEast End Avenue\\tEast End Avenue\\tborough\\tborough (New York City)\\tNew York City\\tNew York City\\n1\\t\\n2\\t\\n3\\tThe street provides access to the 85th/86th Street Transverse , which runs east -- west through Central Park , heading from the Upper East Side -LRB- where it is known as East 85th Street -RRB- to the Upper West Side -LRB- where it is known as West 85th Street -RRB- .\\tUpper West Side\\tUpper West Side\\t86th Street\\t86th Street (Manhattan)\\tCentral Park\\tCentral Park\\tUpper East Side\\tUpper East Side\\n4\\tIt includes landmarks such as the Lewis Gouverneur and Nathalie Bailey Morris House at 100 East 85th Street , the sidewalk clock at East 85th Street and Third Avenue , the Yorkville Bank Building at 201 -- 203 East 85th Street , Red House at 350 West 85th Street , and Regis High School .\\tYorkville\\tYorkville, Manhattan\\tLewis Gouverneur and Nathalie Bailey Morris House\\tLewis Gouverneur and Nathalie Bailey Morris House\\tThird Avenue\\tThird Avenue\\tYorkville Bank Building\\tYorkville Bank Building\\tRed House\\tRed House (Manhattan)\\t\\nRegis High School\\tRegis High School (New York City)\\n5\\t'}\n"
     ]
    }
   ],
   "source": [
    "for f in wiki_sample:\n",
    "    if \"(\" in f[\"text\"]:\n",
    "        print(f)\n",
    "        break"
   ]
  },
  {
   "cell_type": "markdown",
   "id": "bf101145-6e9a-4d01-a459-b9dec1279841",
   "metadata": {
    "tags": []
   },
   "source": [
    "# SciFact\n",
    "\n",
    "Check if every claim has only 1 type of label for all sentences"
   ]
  },
  {
   "cell_type": "code",
   "execution_count": 7,
   "id": "2d52c1c0-fe11-4235-81a5-32a69a67b6ee",
   "metadata": {},
   "outputs": [],
   "source": [
    "sf_dev = read_data(scifactp / \"claims_dev.jsonl\")\n",
    "sf_test = read_data(scifactp / \"claims_test.jsonl\")\n",
    "sf_train = read_data(scifactp / \"claims_train.jsonl\")\n",
    "sf_corpus = read_data(scifactp / \"corpus.jsonl\")"
   ]
  },
  {
   "cell_type": "markdown",
   "id": "5c9f0db2-96ea-489c-abbc-bc6f78bf9f66",
   "metadata": {},
   "source": [
    "# Climate-FEVER\n",
    "\n",
    "- Has multiple labels for each sentence for each claim"
   ]
  },
  {
   "cell_type": "code",
   "execution_count": 5,
   "id": "b7b332d4-1901-43af-8ba2-1e47a540d492",
   "metadata": {},
   "outputs": [],
   "source": [
    "cf_data = read_data(climatefp / \"climatefever.jsonl\")"
   ]
  }
 ],
 "metadata": {
  "kernelspec": {
   "display_name": "Python 3 (ipykernel)",
   "language": "python",
   "name": "python3"
  },
  "language_info": {
   "codemirror_mode": {
    "name": "ipython",
    "version": 3
   },
   "file_extension": ".py",
   "mimetype": "text/x-python",
   "name": "python",
   "nbconvert_exporter": "python",
   "pygments_lexer": "ipython3",
   "version": "3.8.16"
  }
 },
 "nbformat": 4,
 "nbformat_minor": 5
}
