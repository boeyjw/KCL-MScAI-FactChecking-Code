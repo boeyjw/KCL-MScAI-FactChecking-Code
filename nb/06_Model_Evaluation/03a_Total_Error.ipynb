{
 "cells": [
  {
   "cell_type": "code",
   "execution_count": 1,
   "id": "bf0d688c-e66c-4b20-b3b2-895f4f3ef02d",
   "metadata": {},
   "outputs": [],
   "source": [
    "%load_ext autoreload\n",
    "%autoreload 2"
   ]
  },
  {
   "cell_type": "code",
   "execution_count": 2,
   "id": "d1bb469e-7a28-4043-98ce-3e416f531b81",
   "metadata": {},
   "outputs": [],
   "source": [
    "import sys\n",
    "sys.path.insert(0, \"../src\")\n",
    "import pickle as pkl\n",
    "from pathlib import Path\n",
    "from functools import partial\n",
    "from collections import Counter\n",
    "\n",
    "import pandas as pd\n",
    "import numpy as np\n",
    "\n",
    "from sentence_transformers import SentenceTransformer, util\n",
    "\n",
    "import constants\n",
    "from gen.util import read_data, write_jsonl\n",
    "from gen.special import entropy3"
   ]
  },
  {
   "cell_type": "markdown",
   "id": "99b8302c-e3bb-44fa-a1e9-df264fbe9dea",
   "metadata": {},
   "source": [
    "# Init"
   ]
  },
  {
   "cell_type": "code",
   "execution_count": 3,
   "id": "e1c00884-c6bf-499a-b8cd-612fc3cdcd9d",
   "metadata": {},
   "outputs": [],
   "source": [
    "sbert_model = SentenceTransformer('all-MiniLM-L6-v2')\n",
    "\n",
    "error_p = Path(\"/users/k21190024/study/fact-check-transfer-learning/scratch/thesis/errors/scifact\")\n",
    "error_p.mkdir(exist_ok=True)\n",
    "\n",
    "(error_p / \"document\").mkdir(exist_ok=True)\n",
    "(error_p / \"sentence\").mkdir(exist_ok=True)\n",
    "\n",
    "sf_actual_doc = read_data(Path(\"/users/k21190024/study/fact-check-transfer-learning/scratch/dumps/bert-data-doc-evidence/scifact.all.test.n5.jsonl\"))\n",
    "sf_actual_sent = read_data(Path(\"/users/k21190024/study/fact-check-transfer-learning/scratch/dumps/bert-data-sent-evidence/scifact.all.test.n5.jsonl\"))"
   ]
  },
  {
   "cell_type": "code",
   "execution_count": 4,
   "id": "a9e711e8-8921-447c-9332-17c930b84575",
   "metadata": {},
   "outputs": [],
   "source": [
    "# Get cossim for each doc for doc data\n",
    "claim_embedding = sbert_model.encode([doc[\"claim\"] for doc in sf_actual_doc], convert_to_tensor=True)\n",
    "evidence_embedding = sbert_model.encode([doc[\"evidence\"] for doc in sf_actual_doc], convert_to_tensor=True)\n",
    "cosine_score = util.cos_sim(evidence_embedding, claim_embedding)\n",
    "\n",
    "for i in range(len(sf_actual_doc)):\n",
    "    sf_actual_doc[i][\"cosine_score\"] = float(cosine_score[i][i].cpu().numpy())\n",
    "    \n",
    "claim_embedding = sbert_model.encode([doc[\"claim\"] for doc in sf_actual_sent], convert_to_tensor=True)\n",
    "evidence_embedding = sbert_model.encode([doc[\"evidence\"] for doc in sf_actual_sent], convert_to_tensor=True)\n",
    "cosine_score = util.cos_sim(evidence_embedding, claim_embedding)\n",
    "\n",
    "for i in range(len(sf_actual_sent)):\n",
    "    sf_actual_sent[i][\"cosine_score\"] = float(cosine_score[i][i].cpu().numpy())"
   ]
  },
  {
   "cell_type": "code",
   "execution_count": 5,
   "id": "4344d38e-03d5-4adf-a11d-9f88e6b9b801",
   "metadata": {},
   "outputs": [],
   "source": [
    "df_sf_actual_doc = pd.DataFrame(sf_actual_doc).set_index(\"claim_id\")\n",
    "df_sf_actual_sent = pd.DataFrame(sf_actual_sent).set_index(\"claim_id\")"
   ]
  },
  {
   "cell_type": "code",
   "execution_count": 6,
   "id": "4b198afc-e276-48f6-bf05-df466bef66c7",
   "metadata": {},
   "outputs": [
    {
     "name": "stdout",
     "output_type": "stream",
     "text": [
      "concatenate_evidences_metrics\n",
      "sent_macro_verdict_meanproba_metrics\n",
      "sent_micro_verdict_metrics\n",
      "sent_macro_verdict_majority_metrics\n"
     ]
    }
   ],
   "source": [
    "result_p = Path(\"/users/k21190024/study/fact-check-transfer-learning/scratch/thesis/results/metrics\")\n",
    "\n",
    "for res in result_p.iterdir():\n",
    "    print(res.stem)\n",
    "    with res.open(\"rb\") as fn:\n",
    "        globals()[res.stem] = pkl.load(fn)"
   ]
  },
  {
   "cell_type": "code",
   "execution_count": 7,
   "id": "c6dfb15d-b5bd-45cf-88e2-4177d8fe186f",
   "metadata": {},
   "outputs": [],
   "source": [
    "def compile_pred_actual(actual, pred):\n",
    "    df_actual = pd.DataFrame([{\"id\": doc[\"claim_id\"], \"actual\": doc[\"labels\"]} for doc in actual])\n",
    "    df_pred_ls = []\n",
    "    \n",
    "    for p in pred:\n",
    "        assert len(actual) == len(p.predictions)\n",
    "        df_pred_ls.append(pd.DataFrame([\n",
    "            {f\"{p._score_name.split('.')[0]}\": constants.LABEL2ID[doc[\"predicted_label\"]]} for doc in p.predictions\n",
    "        ]))\n",
    "    \n",
    "    return pd.concat([df_actual, pd.concat(df_pred_ls, axis=1)], axis=1).set_index(\"id\")\n",
    "\n",
    "def assign_disagree_derive_cols(df, entropy_base: int = 3):\n",
    "    _entropy = partial(entropy3, base=entropy_base)\n",
    "    df = df.assign(\n",
    "        model_agreement=df[df.filter(like=\"-\").columns].stack().groupby(level=0, sort=False).apply(lambda x: Counter(x.tolist()).most_common(3)),\n",
    "        entropy=df.loc[:, df.filter(like=\"-\").columns].apply(_entropy, axis=1)\n",
    "    )\n",
    "    # combined_error: True if at least 1 model predicted label is not the same as actual label\n",
    "    # total_error: True if all models fail to predict the actual label\n",
    "    df = df.assign(\n",
    "        combined_error=(df[\"model_agreement\"].apply(len) > 1).values | (df[\"actual\"] != df[\"model_agreement\"].apply(lambda x: x[0][0])).values,\n",
    "        total_error=df[[\"actual\", \"model_agreement\"]].apply(lambda x: x[\"actual\"] not in [i for i, _ in x[\"model_agreement\"]], axis=1)\n",
    "    )\n",
    "    return df"
   ]
  },
  {
   "cell_type": "markdown",
   "id": "7ec89aae-55fd-4207-bd05-3f1dc945908b",
   "metadata": {},
   "source": [
    "# Document Model"
   ]
  },
  {
   "cell_type": "markdown",
   "id": "0f1029a6-3a88-48a2-ba1a-6bf384a7bcbc",
   "metadata": {},
   "source": [
    "## SciFact Oracle"
   ]
  },
  {
   "cell_type": "code",
   "execution_count": 8,
   "id": "fbe8ea88-cac2-40aa-bb91-d6e1e855194f",
   "metadata": {},
   "outputs": [],
   "source": [
    "df_doc_compile = compile_pred_actual(sf_actual_doc, concatenate_evidences_metrics[\"scifact\"][\"all\"])\n",
    "df_doc_compile[\"model_agreement\"] = df_doc_compile[df_doc_compile.columns[1:]].stack().groupby(level=0, sort=False).apply(lambda x: Counter(x.tolist()).most_common(3))"
   ]
  },
  {
   "cell_type": "markdown",
   "id": "ed45aff0-a441-4291-83de-f20389a06626",
   "metadata": {},
   "source": [
    "Get model total agreement and disagreement regardless of training data"
   ]
  },
  {
   "cell_type": "code",
   "execution_count": 9,
   "id": "d06fe9ea-7693-4e33-b457-98f725944343",
   "metadata": {},
   "outputs": [
    {
     "data": {
      "text/plain": [
       "((174, 11), (935, 11))"
      ]
     },
     "execution_count": 9,
     "metadata": {},
     "output_type": "execute_result"
    }
   ],
   "source": [
    "doc_model_agree = df_doc_compile[df_doc_compile[\"model_agreement\"].apply(len) == 1]\n",
    "doc_model_disagree = df_doc_compile[df_doc_compile[\"model_agreement\"].apply(len) > 1]\n",
    "doc_model_agree.shape, doc_model_disagree.shape"
   ]
  },
  {
   "cell_type": "markdown",
   "id": "d6d327d0-4e30-43cf-bd69-b14ac21d6590",
   "metadata": {},
   "source": [
    "### Model complete agreement analysis"
   ]
  },
  {
   "cell_type": "code",
   "execution_count": 10,
   "id": "916ac930-adf7-45c5-a9ad-870cfae7bce7",
   "metadata": {},
   "outputs": [
    {
     "data": {
      "text/html": [
       "<div>\n",
       "<style scoped>\n",
       "    .dataframe tbody tr th:only-of-type {\n",
       "        vertical-align: middle;\n",
       "    }\n",
       "\n",
       "    .dataframe tbody tr th {\n",
       "        vertical-align: top;\n",
       "    }\n",
       "\n",
       "    .dataframe thead th {\n",
       "        text-align: right;\n",
       "    }\n",
       "</style>\n",
       "<table border=\"1\" class=\"dataframe\">\n",
       "  <thead>\n",
       "    <tr style=\"text-align: right;\">\n",
       "      <th></th>\n",
       "      <th>actual</th>\n",
       "      <th>climatefeverpure-bert-base-uncased</th>\n",
       "      <th>fever-climatefeverpure-da</th>\n",
       "      <th>fever-bert-base-uncased</th>\n",
       "      <th>climatefeverpure-da</th>\n",
       "      <th>fever-climatefeverpure-bert-base-uncased</th>\n",
       "      <th>fever-da</th>\n",
       "      <th>fever-xlnet-base-cased</th>\n",
       "      <th>fever-climatefeverpure-xlnet-base-cased</th>\n",
       "      <th>climatefeverpure-xlnet-base-cased</th>\n",
       "      <th>model_agreement</th>\n",
       "    </tr>\n",
       "    <tr>\n",
       "      <th>id</th>\n",
       "      <th></th>\n",
       "      <th></th>\n",
       "      <th></th>\n",
       "      <th></th>\n",
       "      <th></th>\n",
       "      <th></th>\n",
       "      <th></th>\n",
       "      <th></th>\n",
       "      <th></th>\n",
       "      <th></th>\n",
       "      <th></th>\n",
       "    </tr>\n",
       "  </thead>\n",
       "  <tbody>\n",
       "    <tr>\n",
       "      <th>scifact|105</th>\n",
       "      <td>2</td>\n",
       "      <td>0</td>\n",
       "      <td>0</td>\n",
       "      <td>0</td>\n",
       "      <td>0</td>\n",
       "      <td>0</td>\n",
       "      <td>0</td>\n",
       "      <td>0</td>\n",
       "      <td>0</td>\n",
       "      <td>0</td>\n",
       "      <td>[(0, 9)]</td>\n",
       "    </tr>\n",
       "    <tr>\n",
       "      <th>scifact|184</th>\n",
       "      <td>0</td>\n",
       "      <td>2</td>\n",
       "      <td>2</td>\n",
       "      <td>2</td>\n",
       "      <td>2</td>\n",
       "      <td>2</td>\n",
       "      <td>2</td>\n",
       "      <td>2</td>\n",
       "      <td>2</td>\n",
       "      <td>2</td>\n",
       "      <td>[(2, 9)]</td>\n",
       "    </tr>\n",
       "    <tr>\n",
       "      <th>scifact|299</th>\n",
       "      <td>2</td>\n",
       "      <td>0</td>\n",
       "      <td>0</td>\n",
       "      <td>0</td>\n",
       "      <td>0</td>\n",
       "      <td>0</td>\n",
       "      <td>0</td>\n",
       "      <td>0</td>\n",
       "      <td>0</td>\n",
       "      <td>0</td>\n",
       "      <td>[(0, 9)]</td>\n",
       "    </tr>\n",
       "    <tr>\n",
       "      <th>scifact|317</th>\n",
       "      <td>2</td>\n",
       "      <td>0</td>\n",
       "      <td>0</td>\n",
       "      <td>0</td>\n",
       "      <td>0</td>\n",
       "      <td>0</td>\n",
       "      <td>0</td>\n",
       "      <td>0</td>\n",
       "      <td>0</td>\n",
       "      <td>0</td>\n",
       "      <td>[(0, 9)]</td>\n",
       "    </tr>\n",
       "    <tr>\n",
       "      <th>scifact|500</th>\n",
       "      <td>2</td>\n",
       "      <td>0</td>\n",
       "      <td>0</td>\n",
       "      <td>0</td>\n",
       "      <td>0</td>\n",
       "      <td>0</td>\n",
       "      <td>0</td>\n",
       "      <td>0</td>\n",
       "      <td>0</td>\n",
       "      <td>0</td>\n",
       "      <td>[(0, 9)]</td>\n",
       "    </tr>\n",
       "    <tr>\n",
       "      <th>scifact|1101</th>\n",
       "      <td>2</td>\n",
       "      <td>0</td>\n",
       "      <td>0</td>\n",
       "      <td>0</td>\n",
       "      <td>0</td>\n",
       "      <td>0</td>\n",
       "      <td>0</td>\n",
       "      <td>0</td>\n",
       "      <td>0</td>\n",
       "      <td>0</td>\n",
       "      <td>[(0, 9)]</td>\n",
       "    </tr>\n",
       "    <tr>\n",
       "      <th>scifact|1372</th>\n",
       "      <td>0</td>\n",
       "      <td>1</td>\n",
       "      <td>1</td>\n",
       "      <td>1</td>\n",
       "      <td>1</td>\n",
       "      <td>1</td>\n",
       "      <td>1</td>\n",
       "      <td>1</td>\n",
       "      <td>1</td>\n",
       "      <td>1</td>\n",
       "      <td>[(1, 9)]</td>\n",
       "    </tr>\n",
       "    <tr>\n",
       "      <th>scifact|1373</th>\n",
       "      <td>2</td>\n",
       "      <td>1</td>\n",
       "      <td>1</td>\n",
       "      <td>1</td>\n",
       "      <td>1</td>\n",
       "      <td>1</td>\n",
       "      <td>1</td>\n",
       "      <td>1</td>\n",
       "      <td>1</td>\n",
       "      <td>1</td>\n",
       "      <td>[(1, 9)]</td>\n",
       "    </tr>\n",
       "    <tr>\n",
       "      <th>scifact|1386</th>\n",
       "      <td>2</td>\n",
       "      <td>0</td>\n",
       "      <td>0</td>\n",
       "      <td>0</td>\n",
       "      <td>0</td>\n",
       "      <td>0</td>\n",
       "      <td>0</td>\n",
       "      <td>0</td>\n",
       "      <td>0</td>\n",
       "      <td>0</td>\n",
       "      <td>[(0, 9)]</td>\n",
       "    </tr>\n",
       "    <tr>\n",
       "      <th>scifact|718</th>\n",
       "      <td>2</td>\n",
       "      <td>0</td>\n",
       "      <td>0</td>\n",
       "      <td>0</td>\n",
       "      <td>0</td>\n",
       "      <td>0</td>\n",
       "      <td>0</td>\n",
       "      <td>0</td>\n",
       "      <td>0</td>\n",
       "      <td>0</td>\n",
       "      <td>[(0, 9)]</td>\n",
       "    </tr>\n",
       "    <tr>\n",
       "      <th>scifact|1088</th>\n",
       "      <td>2</td>\n",
       "      <td>0</td>\n",
       "      <td>0</td>\n",
       "      <td>0</td>\n",
       "      <td>0</td>\n",
       "      <td>0</td>\n",
       "      <td>0</td>\n",
       "      <td>0</td>\n",
       "      <td>0</td>\n",
       "      <td>0</td>\n",
       "      <td>[(0, 9)]</td>\n",
       "    </tr>\n",
       "  </tbody>\n",
       "</table>\n",
       "</div>"
      ],
      "text/plain": [
       "              actual  climatefeverpure-bert-base-uncased  \\\n",
       "id                                                         \n",
       "scifact|105        2                                   0   \n",
       "scifact|184        0                                   2   \n",
       "scifact|299        2                                   0   \n",
       "scifact|317        2                                   0   \n",
       "scifact|500        2                                   0   \n",
       "scifact|1101       2                                   0   \n",
       "scifact|1372       0                                   1   \n",
       "scifact|1373       2                                   1   \n",
       "scifact|1386       2                                   0   \n",
       "scifact|718        2                                   0   \n",
       "scifact|1088       2                                   0   \n",
       "\n",
       "              fever-climatefeverpure-da  fever-bert-base-uncased  \\\n",
       "id                                                                 \n",
       "scifact|105                           0                        0   \n",
       "scifact|184                           2                        2   \n",
       "scifact|299                           0                        0   \n",
       "scifact|317                           0                        0   \n",
       "scifact|500                           0                        0   \n",
       "scifact|1101                          0                        0   \n",
       "scifact|1372                          1                        1   \n",
       "scifact|1373                          1                        1   \n",
       "scifact|1386                          0                        0   \n",
       "scifact|718                           0                        0   \n",
       "scifact|1088                          0                        0   \n",
       "\n",
       "              climatefeverpure-da  fever-climatefeverpure-bert-base-uncased  \\\n",
       "id                                                                            \n",
       "scifact|105                     0                                         0   \n",
       "scifact|184                     2                                         2   \n",
       "scifact|299                     0                                         0   \n",
       "scifact|317                     0                                         0   \n",
       "scifact|500                     0                                         0   \n",
       "scifact|1101                    0                                         0   \n",
       "scifact|1372                    1                                         1   \n",
       "scifact|1373                    1                                         1   \n",
       "scifact|1386                    0                                         0   \n",
       "scifact|718                     0                                         0   \n",
       "scifact|1088                    0                                         0   \n",
       "\n",
       "              fever-da  fever-xlnet-base-cased  \\\n",
       "id                                               \n",
       "scifact|105          0                       0   \n",
       "scifact|184          2                       2   \n",
       "scifact|299          0                       0   \n",
       "scifact|317          0                       0   \n",
       "scifact|500          0                       0   \n",
       "scifact|1101         0                       0   \n",
       "scifact|1372         1                       1   \n",
       "scifact|1373         1                       1   \n",
       "scifact|1386         0                       0   \n",
       "scifact|718          0                       0   \n",
       "scifact|1088         0                       0   \n",
       "\n",
       "              fever-climatefeverpure-xlnet-base-cased  \\\n",
       "id                                                      \n",
       "scifact|105                                         0   \n",
       "scifact|184                                         2   \n",
       "scifact|299                                         0   \n",
       "scifact|317                                         0   \n",
       "scifact|500                                         0   \n",
       "scifact|1101                                        0   \n",
       "scifact|1372                                        1   \n",
       "scifact|1373                                        1   \n",
       "scifact|1386                                        0   \n",
       "scifact|718                                         0   \n",
       "scifact|1088                                        0   \n",
       "\n",
       "              climatefeverpure-xlnet-base-cased model_agreement  \n",
       "id                                                               \n",
       "scifact|105                                   0        [(0, 9)]  \n",
       "scifact|184                                   2        [(2, 9)]  \n",
       "scifact|299                                   0        [(0, 9)]  \n",
       "scifact|317                                   0        [(0, 9)]  \n",
       "scifact|500                                   0        [(0, 9)]  \n",
       "scifact|1101                                  0        [(0, 9)]  \n",
       "scifact|1372                                  1        [(1, 9)]  \n",
       "scifact|1373                                  1        [(1, 9)]  \n",
       "scifact|1386                                  0        [(0, 9)]  \n",
       "scifact|718                                   0        [(0, 9)]  \n",
       "scifact|1088                                  0        [(0, 9)]  "
      ]
     },
     "execution_count": 10,
     "metadata": {},
     "output_type": "execute_result"
    }
   ],
   "source": [
    "doc_model_agree_error = doc_model_agree[doc_model_agree[\"actual\"] != doc_model_agree[\"model_agreement\"].apply(lambda x: x[0][0])]\n",
    "doc_model_agree_error"
   ]
  },
  {
   "cell_type": "code",
   "execution_count": 11,
   "id": "3bc5f25a-0542-436b-95e7-9ad4f9f2e978",
   "metadata": {
    "tags": []
   },
   "outputs": [
    {
     "data": {
      "text/plain": [
       "PosixPath('/users/k21190024/study/fact-check-transfer-learning/scratch/thesis/errors/scifact/document/doc_model_agree_total_error.jsonl')"
      ]
     },
     "execution_count": 11,
     "metadata": {},
     "output_type": "execute_result"
    }
   ],
   "source": [
    "write_jsonl(\n",
    "    error_p / \"document\" / \"doc_model_agree_total_error.jsonl\", \n",
    "    df_sf_actual_doc.join(doc_model_agree_error[[\"model_agreement\"]], how=\"inner\").reset_index(names=\"id\").to_dict(\"records\")\n",
    ")"
   ]
  },
  {
   "cell_type": "markdown",
   "id": "cffd63e3-0c68-4c00-9eb2-4064e8021a32",
   "metadata": {},
   "source": [
    "### Model Disagreement analysis"
   ]
  },
  {
   "cell_type": "code",
   "execution_count": 12,
   "id": "abd31f14-69a2-4f0a-9a36-309fdf9b2b0c",
   "metadata": {},
   "outputs": [
    {
     "data": {
      "text/plain": [
       "(True    935\n",
       " Name: combined_error, dtype: int64,\n",
       " False    894\n",
       " True      41\n",
       " Name: total_error, dtype: int64)"
      ]
     },
     "execution_count": 12,
     "metadata": {},
     "output_type": "execute_result"
    }
   ],
   "source": [
    "doc_model_disagree = assign_disagree_derive_cols(doc_model_disagree)\n",
    "(\n",
    "    doc_model_disagree[\"combined_error\"].value_counts(),\n",
    "    doc_model_disagree[\"total_error\"].value_counts()\n",
    ")"
   ]
  },
  {
   "cell_type": "code",
   "execution_count": 13,
   "id": "7e67c25b-1c5e-4b78-b92b-34a3fd1ccf5f",
   "metadata": {
    "tags": []
   },
   "outputs": [
    {
     "data": {
      "text/plain": [
       "PosixPath('/users/k21190024/study/fact-check-transfer-learning/scratch/thesis/errors/scifact/document/doc_model_disagree_alltrain_total_error.jsonl')"
      ]
     },
     "execution_count": 13,
     "metadata": {},
     "output_type": "execute_result"
    }
   ],
   "source": [
    "write_jsonl(\n",
    "    error_p / \"document\" / \"doc_model_disagree_alltrain_total_error.jsonl\", \n",
    "    df_sf_actual_doc.join(doc_model_disagree.loc[doc_model_disagree[\"total_error\"], [\"model_agreement\"]], how=\"inner\").reset_index(names=\"id\").to_dict(\"records\")\n",
    ")"
   ]
  },
  {
   "cell_type": "code",
   "execution_count": 14,
   "id": "1fa4a5df-1731-4438-843f-d87d3d973102",
   "metadata": {
    "tags": []
   },
   "outputs": [],
   "source": [
    "doc_model_disagree_f = assign_disagree_derive_cols(pd.concat([doc_model_disagree[[\"actual\"]], doc_model_disagree.filter(regex=\"fever-[b|x|d].*\")], axis=1), 2)\n",
    "doc_model_disagree_cfp = assign_disagree_derive_cols(pd.concat([doc_model_disagree[[\"actual\"]], doc_model_disagree.filter(regex=\"^climatefeverpure-[b|x|d].*\")], axis=1), 2)\n",
    "doc_model_disagree_c_fp = assign_disagree_derive_cols(pd.concat([doc_model_disagree[[\"actual\"]], doc_model_disagree.filter(regex=\"fever-climatefeverpure-[b|x|d].*\")], axis=1), 2)"
   ]
  },
  {
   "cell_type": "code",
   "execution_count": 15,
   "id": "64b7539a-cfc3-4048-925e-00409790ad38",
   "metadata": {},
   "outputs": [
    {
     "data": {
      "text/plain": [
       "(True     595\n",
       " False    340\n",
       " Name: combined_error, dtype: int64,\n",
       " True     486\n",
       " False    449\n",
       " Name: combined_error, dtype: int64,\n",
       " True     647\n",
       " False    288\n",
       " Name: combined_error, dtype: int64)"
      ]
     },
     "execution_count": 15,
     "metadata": {},
     "output_type": "execute_result"
    }
   ],
   "source": [
    "(\n",
    "    doc_model_disagree_f[\"combined_error\"].value_counts(), \n",
    "    doc_model_disagree_cfp[\"combined_error\"].value_counts(), \n",
    "    doc_model_disagree_c_fp[\"combined_error\"].value_counts()\n",
    ")"
   ]
  },
  {
   "cell_type": "code",
   "execution_count": 16,
   "id": "c41f4130-cd82-42c1-82c2-3a07690b27ef",
   "metadata": {},
   "outputs": [
    {
     "data": {
      "text/plain": [
       "(False    824\n",
       " True     111\n",
       " Name: total_error, dtype: int64,\n",
       " False    791\n",
       " True     144\n",
       " Name: total_error, dtype: int64,\n",
       " False    847\n",
       " True      88\n",
       " Name: total_error, dtype: int64)"
      ]
     },
     "execution_count": 16,
     "metadata": {},
     "output_type": "execute_result"
    }
   ],
   "source": [
    "(\n",
    "    doc_model_disagree_f[\"total_error\"].value_counts(), \n",
    "    doc_model_disagree_cfp[\"total_error\"].value_counts(), \n",
    "    doc_model_disagree_c_fp[\"total_error\"].value_counts()\n",
    ")"
   ]
  },
  {
   "cell_type": "code",
   "execution_count": 17,
   "id": "a32747db-058d-4b4b-9ec0-cbd07ae0d6bb",
   "metadata": {
    "tags": []
   },
   "outputs": [
    {
     "data": {
      "text/plain": [
       "PosixPath('/users/k21190024/study/fact-check-transfer-learning/scratch/thesis/errors/scifact/document/doc_model_disagree_fever-climatefeverpure_total_error.jsonl')"
      ]
     },
     "execution_count": 17,
     "metadata": {},
     "output_type": "execute_result"
    }
   ],
   "source": [
    "write_jsonl(\n",
    "    error_p / \"document\" / \"doc_model_disagree_fever_total_error.jsonl\", \n",
    "    df_sf_actual_doc.join(doc_model_disagree_f.loc[doc_model_disagree_f[\"total_error\"], [\"model_agreement\"]], how=\"inner\").reset_index(names=\"id\").to_dict(\"records\")\n",
    ")\n",
    "write_jsonl(\n",
    "    error_p / \"document\" / \"doc_model_disagree_climatefeverpure_total_error.jsonl\", \n",
    "    df_sf_actual_doc.join(doc_model_disagree_cfp.loc[doc_model_disagree_cfp[\"total_error\"], [\"model_agreement\"]], how=\"inner\").reset_index(names=\"id\").to_dict(\"records\")\n",
    ")\n",
    "write_jsonl(\n",
    "    error_p / \"document\" / \"doc_model_disagree_fever-climatefeverpure_total_error.jsonl\", \n",
    "    df_sf_actual_doc.join(doc_model_disagree_c_fp.loc[doc_model_disagree_c_fp[\"total_error\"], [\"model_agreement\"]], how=\"inner\").reset_index(names=\"id\").to_dict(\"records\")\n",
    ")"
   ]
  },
  {
   "cell_type": "markdown",
   "id": "e94f0336-9c55-4ad6-a77b-4977d23ad831",
   "metadata": {},
   "source": [
    "# Sentence Model"
   ]
  },
  {
   "cell_type": "markdown",
   "id": "0a65e85d-9089-4088-8269-5399b3ae58dd",
   "metadata": {},
   "source": [
    "## SciFact Oracle"
   ]
  },
  {
   "cell_type": "code",
   "execution_count": 18,
   "id": "21f6a352-d224-41aa-99df-8dbf03ccc02d",
   "metadata": {},
   "outputs": [],
   "source": [
    "df_sf_sent_grp = (\n",
    "    pd.DataFrame(sf_actual_sent)\n",
    "    .groupby([\"claim_id\", \"claim\"], as_index=False, sort=False)[[\"evidence\", \"cosine_score\", \"labels\"]]\n",
    "    .agg({\"evidence\": list, \"cosine_score\": list, \"labels\": \"max\"})\n",
    "    .set_index(\"claim_id\")\n",
    ")"
   ]
  },
  {
   "cell_type": "markdown",
   "id": "1fe478b8-01b7-4004-aaed-0dd00a33a915",
   "metadata": {},
   "source": [
    "#### Majority Aggregation"
   ]
  },
  {
   "cell_type": "code",
   "execution_count": 19,
   "id": "22eedcdf-4623-4c36-8583-87033f189e33",
   "metadata": {},
   "outputs": [],
   "source": [
    "df_maj_compile = compile_pred_actual(df_sf_sent_grp.reset_index().to_dict(\"records\"), sent_macro_verdict_majority_metrics[\"scifact\"][\"all\"])\n",
    "df_maj_compile[\"model_agreement\"] = df_maj_compile[df_maj_compile.columns[1:]].stack().groupby(level=0, sort=False).apply(lambda x: x.unique().tolist())"
   ]
  },
  {
   "cell_type": "markdown",
   "id": "45c9444a-54ea-4b5a-82d4-d3ceb7217725",
   "metadata": {},
   "source": [
    "Get model total agreement and disagreement regardless of training data"
   ]
  },
  {
   "cell_type": "code",
   "execution_count": 20,
   "id": "0f1fe94e-1697-4e40-b443-f9ebd81a9f14",
   "metadata": {},
   "outputs": [
    {
     "data": {
      "text/plain": [
       "((295, 12), (814, 12))"
      ]
     },
     "execution_count": 20,
     "metadata": {},
     "output_type": "execute_result"
    }
   ],
   "source": [
    "sent_model_agree = df_maj_compile[df_maj_compile[\"model_agreement\"].apply(len) == 1]\n",
    "sent_model_disagree = df_maj_compile[df_maj_compile[\"model_agreement\"].apply(len) > 1]\n",
    "sent_model_agree.shape, sent_model_disagree.shape"
   ]
  },
  {
   "cell_type": "markdown",
   "id": "6e98c7c0-69ad-4197-b4de-59f7987accb7",
   "metadata": {},
   "source": [
    "##### Model complete agreement analysis"
   ]
  },
  {
   "cell_type": "code",
   "execution_count": 21,
   "id": "0dd88ea1-d8d4-4beb-9dc7-178349ce2c87",
   "metadata": {},
   "outputs": [
    {
     "data": {
      "text/html": [
       "<div>\n",
       "<style scoped>\n",
       "    .dataframe tbody tr th:only-of-type {\n",
       "        vertical-align: middle;\n",
       "    }\n",
       "\n",
       "    .dataframe tbody tr th {\n",
       "        vertical-align: top;\n",
       "    }\n",
       "\n",
       "    .dataframe thead th {\n",
       "        text-align: right;\n",
       "    }\n",
       "</style>\n",
       "<table border=\"1\" class=\"dataframe\">\n",
       "  <thead>\n",
       "    <tr style=\"text-align: right;\">\n",
       "      <th></th>\n",
       "      <th>actual</th>\n",
       "      <th>fever-climatefever-xlnet-base-cased</th>\n",
       "      <th>climatefeverpure-bert-base-uncased</th>\n",
       "      <th>climatefever-xlnet-base-cased</th>\n",
       "      <th>fever-bert-base-uncased</th>\n",
       "      <th>fever-climatefeverpure-bert-base-uncased</th>\n",
       "      <th>fever-climatefever-bert-base-uncased</th>\n",
       "      <th>climatefever-bert-base-uncased</th>\n",
       "      <th>fever-xlnet-base-cased</th>\n",
       "      <th>fever-climatefeverpure-xlnet-base-cased</th>\n",
       "      <th>climatefeverpure-xlnet-base-cased</th>\n",
       "      <th>model_agreement</th>\n",
       "    </tr>\n",
       "    <tr>\n",
       "      <th>id</th>\n",
       "      <th></th>\n",
       "      <th></th>\n",
       "      <th></th>\n",
       "      <th></th>\n",
       "      <th></th>\n",
       "      <th></th>\n",
       "      <th></th>\n",
       "      <th></th>\n",
       "      <th></th>\n",
       "      <th></th>\n",
       "      <th></th>\n",
       "      <th></th>\n",
       "    </tr>\n",
       "  </thead>\n",
       "  <tbody>\n",
       "    <tr>\n",
       "      <th>scifact|63</th>\n",
       "      <td>1</td>\n",
       "      <td>0</td>\n",
       "      <td>0</td>\n",
       "      <td>0</td>\n",
       "      <td>0</td>\n",
       "      <td>0</td>\n",
       "      <td>0</td>\n",
       "      <td>0</td>\n",
       "      <td>0</td>\n",
       "      <td>0</td>\n",
       "      <td>0</td>\n",
       "      <td>[0]</td>\n",
       "    </tr>\n",
       "    <tr>\n",
       "      <th>scifact|81</th>\n",
       "      <td>1</td>\n",
       "      <td>0</td>\n",
       "      <td>0</td>\n",
       "      <td>0</td>\n",
       "      <td>0</td>\n",
       "      <td>0</td>\n",
       "      <td>0</td>\n",
       "      <td>0</td>\n",
       "      <td>0</td>\n",
       "      <td>0</td>\n",
       "      <td>0</td>\n",
       "      <td>[0]</td>\n",
       "    </tr>\n",
       "    <tr>\n",
       "      <th>scifact|82</th>\n",
       "      <td>1</td>\n",
       "      <td>0</td>\n",
       "      <td>0</td>\n",
       "      <td>0</td>\n",
       "      <td>0</td>\n",
       "      <td>0</td>\n",
       "      <td>0</td>\n",
       "      <td>0</td>\n",
       "      <td>0</td>\n",
       "      <td>0</td>\n",
       "      <td>0</td>\n",
       "      <td>[0]</td>\n",
       "    </tr>\n",
       "    <tr>\n",
       "      <th>scifact|119</th>\n",
       "      <td>2</td>\n",
       "      <td>0</td>\n",
       "      <td>0</td>\n",
       "      <td>0</td>\n",
       "      <td>0</td>\n",
       "      <td>0</td>\n",
       "      <td>0</td>\n",
       "      <td>0</td>\n",
       "      <td>0</td>\n",
       "      <td>0</td>\n",
       "      <td>0</td>\n",
       "      <td>[0]</td>\n",
       "    </tr>\n",
       "    <tr>\n",
       "      <th>scifact|149</th>\n",
       "      <td>2</td>\n",
       "      <td>0</td>\n",
       "      <td>0</td>\n",
       "      <td>0</td>\n",
       "      <td>0</td>\n",
       "      <td>0</td>\n",
       "      <td>0</td>\n",
       "      <td>0</td>\n",
       "      <td>0</td>\n",
       "      <td>0</td>\n",
       "      <td>0</td>\n",
       "      <td>[0]</td>\n",
       "    </tr>\n",
       "    <tr>\n",
       "      <th>...</th>\n",
       "      <td>...</td>\n",
       "      <td>...</td>\n",
       "      <td>...</td>\n",
       "      <td>...</td>\n",
       "      <td>...</td>\n",
       "      <td>...</td>\n",
       "      <td>...</td>\n",
       "      <td>...</td>\n",
       "      <td>...</td>\n",
       "      <td>...</td>\n",
       "      <td>...</td>\n",
       "      <td>...</td>\n",
       "    </tr>\n",
       "    <tr>\n",
       "      <th>scifact|1232</th>\n",
       "      <td>2</td>\n",
       "      <td>0</td>\n",
       "      <td>0</td>\n",
       "      <td>0</td>\n",
       "      <td>0</td>\n",
       "      <td>0</td>\n",
       "      <td>0</td>\n",
       "      <td>0</td>\n",
       "      <td>0</td>\n",
       "      <td>0</td>\n",
       "      <td>0</td>\n",
       "      <td>[0]</td>\n",
       "    </tr>\n",
       "    <tr>\n",
       "      <th>scifact|1279</th>\n",
       "      <td>1</td>\n",
       "      <td>0</td>\n",
       "      <td>0</td>\n",
       "      <td>0</td>\n",
       "      <td>0</td>\n",
       "      <td>0</td>\n",
       "      <td>0</td>\n",
       "      <td>0</td>\n",
       "      <td>0</td>\n",
       "      <td>0</td>\n",
       "      <td>0</td>\n",
       "      <td>[0]</td>\n",
       "    </tr>\n",
       "    <tr>\n",
       "      <th>scifact|1292</th>\n",
       "      <td>1</td>\n",
       "      <td>2</td>\n",
       "      <td>2</td>\n",
       "      <td>2</td>\n",
       "      <td>2</td>\n",
       "      <td>2</td>\n",
       "      <td>2</td>\n",
       "      <td>2</td>\n",
       "      <td>2</td>\n",
       "      <td>2</td>\n",
       "      <td>2</td>\n",
       "      <td>[2]</td>\n",
       "    </tr>\n",
       "    <tr>\n",
       "      <th>scifact|1316</th>\n",
       "      <td>1</td>\n",
       "      <td>0</td>\n",
       "      <td>0</td>\n",
       "      <td>0</td>\n",
       "      <td>0</td>\n",
       "      <td>0</td>\n",
       "      <td>0</td>\n",
       "      <td>0</td>\n",
       "      <td>0</td>\n",
       "      <td>0</td>\n",
       "      <td>0</td>\n",
       "      <td>[0]</td>\n",
       "    </tr>\n",
       "    <tr>\n",
       "      <th>scifact|1344</th>\n",
       "      <td>1</td>\n",
       "      <td>0</td>\n",
       "      <td>0</td>\n",
       "      <td>0</td>\n",
       "      <td>0</td>\n",
       "      <td>0</td>\n",
       "      <td>0</td>\n",
       "      <td>0</td>\n",
       "      <td>0</td>\n",
       "      <td>0</td>\n",
       "      <td>0</td>\n",
       "      <td>[0]</td>\n",
       "    </tr>\n",
       "  </tbody>\n",
       "</table>\n",
       "<p>89 rows × 12 columns</p>\n",
       "</div>"
      ],
      "text/plain": [
       "              actual  fever-climatefever-xlnet-base-cased  \\\n",
       "id                                                          \n",
       "scifact|63         1                                    0   \n",
       "scifact|81         1                                    0   \n",
       "scifact|82         1                                    0   \n",
       "scifact|119        2                                    0   \n",
       "scifact|149        2                                    0   \n",
       "...              ...                                  ...   \n",
       "scifact|1232       2                                    0   \n",
       "scifact|1279       1                                    0   \n",
       "scifact|1292       1                                    2   \n",
       "scifact|1316       1                                    0   \n",
       "scifact|1344       1                                    0   \n",
       "\n",
       "              climatefeverpure-bert-base-uncased  \\\n",
       "id                                                 \n",
       "scifact|63                                     0   \n",
       "scifact|81                                     0   \n",
       "scifact|82                                     0   \n",
       "scifact|119                                    0   \n",
       "scifact|149                                    0   \n",
       "...                                          ...   \n",
       "scifact|1232                                   0   \n",
       "scifact|1279                                   0   \n",
       "scifact|1292                                   2   \n",
       "scifact|1316                                   0   \n",
       "scifact|1344                                   0   \n",
       "\n",
       "              climatefever-xlnet-base-cased  fever-bert-base-uncased  \\\n",
       "id                                                                     \n",
       "scifact|63                                0                        0   \n",
       "scifact|81                                0                        0   \n",
       "scifact|82                                0                        0   \n",
       "scifact|119                               0                        0   \n",
       "scifact|149                               0                        0   \n",
       "...                                     ...                      ...   \n",
       "scifact|1232                              0                        0   \n",
       "scifact|1279                              0                        0   \n",
       "scifact|1292                              2                        2   \n",
       "scifact|1316                              0                        0   \n",
       "scifact|1344                              0                        0   \n",
       "\n",
       "              fever-climatefeverpure-bert-base-uncased  \\\n",
       "id                                                       \n",
       "scifact|63                                           0   \n",
       "scifact|81                                           0   \n",
       "scifact|82                                           0   \n",
       "scifact|119                                          0   \n",
       "scifact|149                                          0   \n",
       "...                                                ...   \n",
       "scifact|1232                                         0   \n",
       "scifact|1279                                         0   \n",
       "scifact|1292                                         2   \n",
       "scifact|1316                                         0   \n",
       "scifact|1344                                         0   \n",
       "\n",
       "              fever-climatefever-bert-base-uncased  \\\n",
       "id                                                   \n",
       "scifact|63                                       0   \n",
       "scifact|81                                       0   \n",
       "scifact|82                                       0   \n",
       "scifact|119                                      0   \n",
       "scifact|149                                      0   \n",
       "...                                            ...   \n",
       "scifact|1232                                     0   \n",
       "scifact|1279                                     0   \n",
       "scifact|1292                                     2   \n",
       "scifact|1316                                     0   \n",
       "scifact|1344                                     0   \n",
       "\n",
       "              climatefever-bert-base-uncased  fever-xlnet-base-cased  \\\n",
       "id                                                                     \n",
       "scifact|63                                 0                       0   \n",
       "scifact|81                                 0                       0   \n",
       "scifact|82                                 0                       0   \n",
       "scifact|119                                0                       0   \n",
       "scifact|149                                0                       0   \n",
       "...                                      ...                     ...   \n",
       "scifact|1232                               0                       0   \n",
       "scifact|1279                               0                       0   \n",
       "scifact|1292                               2                       2   \n",
       "scifact|1316                               0                       0   \n",
       "scifact|1344                               0                       0   \n",
       "\n",
       "              fever-climatefeverpure-xlnet-base-cased  \\\n",
       "id                                                      \n",
       "scifact|63                                          0   \n",
       "scifact|81                                          0   \n",
       "scifact|82                                          0   \n",
       "scifact|119                                         0   \n",
       "scifact|149                                         0   \n",
       "...                                               ...   \n",
       "scifact|1232                                        0   \n",
       "scifact|1279                                        0   \n",
       "scifact|1292                                        2   \n",
       "scifact|1316                                        0   \n",
       "scifact|1344                                        0   \n",
       "\n",
       "              climatefeverpure-xlnet-base-cased model_agreement  \n",
       "id                                                               \n",
       "scifact|63                                    0             [0]  \n",
       "scifact|81                                    0             [0]  \n",
       "scifact|82                                    0             [0]  \n",
       "scifact|119                                   0             [0]  \n",
       "scifact|149                                   0             [0]  \n",
       "...                                         ...             ...  \n",
       "scifact|1232                                  0             [0]  \n",
       "scifact|1279                                  0             [0]  \n",
       "scifact|1292                                  2             [2]  \n",
       "scifact|1316                                  0             [0]  \n",
       "scifact|1344                                  0             [0]  \n",
       "\n",
       "[89 rows x 12 columns]"
      ]
     },
     "execution_count": 21,
     "metadata": {},
     "output_type": "execute_result"
    }
   ],
   "source": [
    "sent_model_agree_error = sent_model_agree[sent_model_agree[\"actual\"] != sent_model_agree[\"model_agreement\"].apply(lambda x: x[0])]\n",
    "sent_model_agree_error"
   ]
  },
  {
   "cell_type": "code",
   "execution_count": 22,
   "id": "6a67470d-3eed-4f9a-a23e-2b149f052ae8",
   "metadata": {
    "tags": []
   },
   "outputs": [
    {
     "data": {
      "text/plain": [
       "PosixPath('/users/k21190024/study/fact-check-transfer-learning/scratch/thesis/errors/scifact/sentence/majority_model_agree_total_error.jsonl')"
      ]
     },
     "execution_count": 22,
     "metadata": {},
     "output_type": "execute_result"
    }
   ],
   "source": [
    "write_jsonl(\n",
    "    error_p / \"sentence\" / \"majority_model_agree_total_error.jsonl\", \n",
    "    df_sf_sent_grp.join(sent_model_agree_error[[\"model_agreement\"]], how=\"inner\").reset_index().to_dict(\"records\")\n",
    ")"
   ]
  },
  {
   "cell_type": "markdown",
   "id": "f3124af8-ee74-4467-a26e-b7ec92675ce3",
   "metadata": {},
   "source": [
    "##### Model Disagreement analysis"
   ]
  },
  {
   "cell_type": "code",
   "execution_count": 23,
   "id": "2e1a1951-49c8-4aee-b224-d90f72f28175",
   "metadata": {},
   "outputs": [
    {
     "data": {
      "text/plain": [
       "(True    814\n",
       " Name: combined_error, dtype: int64,\n",
       " False    766\n",
       " True      48\n",
       " Name: total_error, dtype: int64)"
      ]
     },
     "execution_count": 23,
     "metadata": {},
     "output_type": "execute_result"
    }
   ],
   "source": [
    "sent_model_disagree = assign_disagree_derive_cols(sent_model_disagree)\n",
    "(\n",
    "    sent_model_disagree[\"combined_error\"].value_counts(),\n",
    "    sent_model_disagree[\"total_error\"].value_counts()\n",
    ")"
   ]
  },
  {
   "cell_type": "code",
   "execution_count": 24,
   "id": "b0b55a26-cae1-485d-9dae-2c0722accd6d",
   "metadata": {
    "tags": []
   },
   "outputs": [
    {
     "data": {
      "text/plain": [
       "PosixPath('/users/k21190024/study/fact-check-transfer-learning/scratch/thesis/errors/scifact/sentence/majority_model_disagree_alltrain_total_error.jsonl')"
      ]
     },
     "execution_count": 24,
     "metadata": {},
     "output_type": "execute_result"
    }
   ],
   "source": [
    "write_jsonl(\n",
    "    error_p / \"sentence\" / \"majority_model_disagree_alltrain_total_error.jsonl\", \n",
    "    df_sf_sent_grp.loc[sent_model_disagree[sent_model_disagree[\"total_error\"]].index].reset_index().to_dict(\"records\")\n",
    ")"
   ]
  },
  {
   "cell_type": "code",
   "execution_count": 25,
   "id": "1676007b-3b98-4435-8e10-c2355fbf490e",
   "metadata": {
    "tags": []
   },
   "outputs": [],
   "source": [
    "sent_model_disagree_f = assign_disagree_derive_cols(pd.concat([sent_model_disagree[[\"actual\"]], sent_model_disagree.filter(regex=\"^fever-[b|x].*\")], axis=1))\n",
    "sent_model_disagree_f_cf = assign_disagree_derive_cols(pd.concat([sent_model_disagree[[\"actual\"]], sent_model_disagree.filter(like=\"fever-climatefever-\")], axis=1))\n",
    "sent_model_disagree_f_cfp = assign_disagree_derive_cols(pd.concat([sent_model_disagree[[\"actual\"]], sent_model_disagree.filter(like=\"fever-climatefeverpure-\")], axis=1))\n",
    "sent_model_disagree_cf = assign_disagree_derive_cols(pd.concat([sent_model_disagree[[\"actual\"]], sent_model_disagree.filter(regex=\"^climatefever-.*\")], axis=1))\n",
    "sent_model_disagree_cfp = assign_disagree_derive_cols(pd.concat([sent_model_disagree[[\"actual\"]], sent_model_disagree.filter(regex=\"^climatefeverpure-.*\")], axis=1))"
   ]
  },
  {
   "cell_type": "code",
   "execution_count": 26,
   "id": "c2c562c6-c485-47d4-902b-86a9da54b53f",
   "metadata": {},
   "outputs": [
    {
     "data": {
      "text/plain": [
       "(True     591\n",
       " False    223\n",
       " Name: combined_error, dtype: int64,\n",
       " True     607\n",
       " False    207\n",
       " Name: combined_error, dtype: int64,\n",
       " True     590\n",
       " False    224\n",
       " Name: combined_error, dtype: int64,\n",
       " True     593\n",
       " False    221\n",
       " Name: combined_error, dtype: int64,\n",
       " True     582\n",
       " False    232\n",
       " Name: combined_error, dtype: int64)"
      ]
     },
     "execution_count": 26,
     "metadata": {},
     "output_type": "execute_result"
    }
   ],
   "source": [
    "(\n",
    "    sent_model_disagree_f[\"combined_error\"].value_counts(), \n",
    "    sent_model_disagree_cfp[\"combined_error\"].value_counts(),\n",
    "    sent_model_disagree_f_cfp[\"combined_error\"].value_counts(),\n",
    "    sent_model_disagree_cf[\"combined_error\"].value_counts(),\n",
    "    sent_model_disagree_f_cf[\"combined_error\"].value_counts() \n",
    ")"
   ]
  },
  {
   "cell_type": "code",
   "execution_count": 27,
   "id": "0715ecce-7e8c-4f6c-8ce4-3d0e97ff56db",
   "metadata": {},
   "outputs": [
    {
     "data": {
      "text/plain": [
       "(False    532\n",
       " True     282\n",
       " Name: total_error, dtype: int64,\n",
       " False    408\n",
       " True     406\n",
       " Name: total_error, dtype: int64,\n",
       " False    502\n",
       " True     312\n",
       " Name: total_error, dtype: int64,\n",
       " False    452\n",
       " True     362\n",
       " Name: total_error, dtype: int64,\n",
       " False    526\n",
       " True     288\n",
       " Name: total_error, dtype: int64)"
      ]
     },
     "execution_count": 27,
     "metadata": {},
     "output_type": "execute_result"
    }
   ],
   "source": [
    "(\n",
    "    sent_model_disagree_f[\"total_error\"].value_counts(), \n",
    "    sent_model_disagree_cfp[\"total_error\"].value_counts(),\n",
    "    sent_model_disagree_f_cfp[\"total_error\"].value_counts(),\n",
    "    sent_model_disagree_cf[\"total_error\"].value_counts(),\n",
    "    sent_model_disagree_f_cf[\"total_error\"].value_counts() \n",
    ")"
   ]
  },
  {
   "cell_type": "code",
   "execution_count": 28,
   "id": "e546412b-42cd-467b-9a07-23c218018d51",
   "metadata": {
    "tags": []
   },
   "outputs": [
    {
     "data": {
      "text/plain": [
       "PosixPath('/users/k21190024/study/fact-check-transfer-learning/scratch/thesis/errors/scifact/sentence/majority_model_disagree_fever-climatefever_total_error.jsonl')"
      ]
     },
     "execution_count": 28,
     "metadata": {},
     "output_type": "execute_result"
    }
   ],
   "source": [
    "write_jsonl(\n",
    "    error_p / \"sentence\" / \"majority_model_disagree_fever_total_error.jsonl\", \n",
    "    df_sf_sent_grp.loc[sent_model_disagree_f[sent_model_disagree_f[\"total_error\"]].index].reset_index().to_dict(\"records\")\n",
    ")\n",
    "write_jsonl(\n",
    "    error_p / \"sentence\" / \"majority_model_disagree_climatefeverpure_total_error.jsonl\", \n",
    "    df_sf_sent_grp.loc[sent_model_disagree_cfp[sent_model_disagree_cfp[\"total_error\"]].index].reset_index().to_dict(\"records\")\n",
    ")\n",
    "write_jsonl(\n",
    "    error_p / \"sentence\" / \"majority_model_disagree_fever-climatefeverpure_total_error.jsonl\", \n",
    "    df_sf_sent_grp.loc[sent_model_disagree_f_cfp[sent_model_disagree_f_cfp[\"total_error\"]].index].reset_index().to_dict(\"records\")\n",
    ")\n",
    "write_jsonl(\n",
    "    error_p / \"sentence\" / \"majority_model_disagree_climatefever_total_error.jsonl\", \n",
    "    df_sf_sent_grp.loc[sent_model_disagree_cf[sent_model_disagree_cf[\"total_error\"]].index].reset_index().to_dict(\"records\")\n",
    ")\n",
    "write_jsonl(\n",
    "    error_p / \"sentence\" / \"majority_model_disagree_fever-climatefever_total_error.jsonl\", \n",
    "    df_sf_sent_grp.loc[sent_model_disagree_f_cf[sent_model_disagree_f_cf[\"total_error\"]].index].reset_index().to_dict(\"records\")\n",
    ")"
   ]
  },
  {
   "cell_type": "markdown",
   "id": "4c2072d3-5dda-41a1-a444-88a2654db455",
   "metadata": {},
   "source": [
    "#### Mean Probability Aggregation"
   ]
  },
  {
   "cell_type": "code",
   "execution_count": 29,
   "id": "716400b7-2e77-4fff-8f42-c883fbc1f53c",
   "metadata": {},
   "outputs": [],
   "source": [
    "df_mpr_compile = compile_pred_actual(df_sf_sent_grp.reset_index().to_dict(\"records\"), sent_macro_verdict_meanproba_metrics[\"scifact\"][\"all\"])\n",
    "df_mpr_compile[\"model_agreement\"] = df_mpr_compile[df_mpr_compile.columns[1:]].stack().groupby(level=0, sort=False).apply(lambda x: x.unique().tolist())"
   ]
  },
  {
   "cell_type": "markdown",
   "id": "3a477bac-4f96-4824-a097-543f52dcc32d",
   "metadata": {},
   "source": [
    "Get model total agreement and disagreement regardless of training data"
   ]
  },
  {
   "cell_type": "code",
   "execution_count": 30,
   "id": "ef06d529-a8b7-452e-b987-91cd60640dab",
   "metadata": {},
   "outputs": [
    {
     "data": {
      "text/plain": [
       "((275, 12), (834, 12))"
      ]
     },
     "execution_count": 30,
     "metadata": {},
     "output_type": "execute_result"
    }
   ],
   "source": [
    "sent_model_agree = df_mpr_compile[df_mpr_compile[\"model_agreement\"].apply(len) == 1]\n",
    "sent_model_disagree = df_mpr_compile[df_mpr_compile[\"model_agreement\"].apply(len) > 1]\n",
    "sent_model_agree.shape, sent_model_disagree.shape"
   ]
  },
  {
   "cell_type": "markdown",
   "id": "dc15bfea-084f-44dd-afd8-ebd2e9ca92af",
   "metadata": {},
   "source": [
    "##### Model complete agreement analysis"
   ]
  },
  {
   "cell_type": "code",
   "execution_count": 31,
   "id": "566b48c4-4033-4472-8d60-03da74626042",
   "metadata": {},
   "outputs": [
    {
     "data": {
      "text/html": [
       "<div>\n",
       "<style scoped>\n",
       "    .dataframe tbody tr th:only-of-type {\n",
       "        vertical-align: middle;\n",
       "    }\n",
       "\n",
       "    .dataframe tbody tr th {\n",
       "        vertical-align: top;\n",
       "    }\n",
       "\n",
       "    .dataframe thead th {\n",
       "        text-align: right;\n",
       "    }\n",
       "</style>\n",
       "<table border=\"1\" class=\"dataframe\">\n",
       "  <thead>\n",
       "    <tr style=\"text-align: right;\">\n",
       "      <th></th>\n",
       "      <th>actual</th>\n",
       "      <th>fever-climatefever-xlnet-base-cased</th>\n",
       "      <th>climatefeverpure-bert-base-uncased</th>\n",
       "      <th>climatefever-xlnet-base-cased</th>\n",
       "      <th>fever-bert-base-uncased</th>\n",
       "      <th>fever-climatefeverpure-bert-base-uncased</th>\n",
       "      <th>fever-climatefever-bert-base-uncased</th>\n",
       "      <th>climatefever-bert-base-uncased</th>\n",
       "      <th>fever-xlnet-base-cased</th>\n",
       "      <th>fever-climatefeverpure-xlnet-base-cased</th>\n",
       "      <th>climatefeverpure-xlnet-base-cased</th>\n",
       "      <th>model_agreement</th>\n",
       "    </tr>\n",
       "    <tr>\n",
       "      <th>id</th>\n",
       "      <th></th>\n",
       "      <th></th>\n",
       "      <th></th>\n",
       "      <th></th>\n",
       "      <th></th>\n",
       "      <th></th>\n",
       "      <th></th>\n",
       "      <th></th>\n",
       "      <th></th>\n",
       "      <th></th>\n",
       "      <th></th>\n",
       "      <th></th>\n",
       "    </tr>\n",
       "  </thead>\n",
       "  <tbody>\n",
       "    <tr>\n",
       "      <th>scifact|63</th>\n",
       "      <td>1</td>\n",
       "      <td>0</td>\n",
       "      <td>0</td>\n",
       "      <td>0</td>\n",
       "      <td>0</td>\n",
       "      <td>0</td>\n",
       "      <td>0</td>\n",
       "      <td>0</td>\n",
       "      <td>0</td>\n",
       "      <td>0</td>\n",
       "      <td>0</td>\n",
       "      <td>[0]</td>\n",
       "    </tr>\n",
       "    <tr>\n",
       "      <th>scifact|81</th>\n",
       "      <td>1</td>\n",
       "      <td>0</td>\n",
       "      <td>0</td>\n",
       "      <td>0</td>\n",
       "      <td>0</td>\n",
       "      <td>0</td>\n",
       "      <td>0</td>\n",
       "      <td>0</td>\n",
       "      <td>0</td>\n",
       "      <td>0</td>\n",
       "      <td>0</td>\n",
       "      <td>[0]</td>\n",
       "    </tr>\n",
       "    <tr>\n",
       "      <th>scifact|82</th>\n",
       "      <td>1</td>\n",
       "      <td>0</td>\n",
       "      <td>0</td>\n",
       "      <td>0</td>\n",
       "      <td>0</td>\n",
       "      <td>0</td>\n",
       "      <td>0</td>\n",
       "      <td>0</td>\n",
       "      <td>0</td>\n",
       "      <td>0</td>\n",
       "      <td>0</td>\n",
       "      <td>[0]</td>\n",
       "    </tr>\n",
       "    <tr>\n",
       "      <th>scifact|119</th>\n",
       "      <td>2</td>\n",
       "      <td>0</td>\n",
       "      <td>0</td>\n",
       "      <td>0</td>\n",
       "      <td>0</td>\n",
       "      <td>0</td>\n",
       "      <td>0</td>\n",
       "      <td>0</td>\n",
       "      <td>0</td>\n",
       "      <td>0</td>\n",
       "      <td>0</td>\n",
       "      <td>[0]</td>\n",
       "    </tr>\n",
       "    <tr>\n",
       "      <th>scifact|149</th>\n",
       "      <td>2</td>\n",
       "      <td>0</td>\n",
       "      <td>0</td>\n",
       "      <td>0</td>\n",
       "      <td>0</td>\n",
       "      <td>0</td>\n",
       "      <td>0</td>\n",
       "      <td>0</td>\n",
       "      <td>0</td>\n",
       "      <td>0</td>\n",
       "      <td>0</td>\n",
       "      <td>[0]</td>\n",
       "    </tr>\n",
       "    <tr>\n",
       "      <th>...</th>\n",
       "      <td>...</td>\n",
       "      <td>...</td>\n",
       "      <td>...</td>\n",
       "      <td>...</td>\n",
       "      <td>...</td>\n",
       "      <td>...</td>\n",
       "      <td>...</td>\n",
       "      <td>...</td>\n",
       "      <td>...</td>\n",
       "      <td>...</td>\n",
       "      <td>...</td>\n",
       "      <td>...</td>\n",
       "    </tr>\n",
       "    <tr>\n",
       "      <th>scifact|1226</th>\n",
       "      <td>1</td>\n",
       "      <td>0</td>\n",
       "      <td>0</td>\n",
       "      <td>0</td>\n",
       "      <td>0</td>\n",
       "      <td>0</td>\n",
       "      <td>0</td>\n",
       "      <td>0</td>\n",
       "      <td>0</td>\n",
       "      <td>0</td>\n",
       "      <td>0</td>\n",
       "      <td>[0]</td>\n",
       "    </tr>\n",
       "    <tr>\n",
       "      <th>scifact|1232</th>\n",
       "      <td>2</td>\n",
       "      <td>0</td>\n",
       "      <td>0</td>\n",
       "      <td>0</td>\n",
       "      <td>0</td>\n",
       "      <td>0</td>\n",
       "      <td>0</td>\n",
       "      <td>0</td>\n",
       "      <td>0</td>\n",
       "      <td>0</td>\n",
       "      <td>0</td>\n",
       "      <td>[0]</td>\n",
       "    </tr>\n",
       "    <tr>\n",
       "      <th>scifact|1279</th>\n",
       "      <td>1</td>\n",
       "      <td>0</td>\n",
       "      <td>0</td>\n",
       "      <td>0</td>\n",
       "      <td>0</td>\n",
       "      <td>0</td>\n",
       "      <td>0</td>\n",
       "      <td>0</td>\n",
       "      <td>0</td>\n",
       "      <td>0</td>\n",
       "      <td>0</td>\n",
       "      <td>[0]</td>\n",
       "    </tr>\n",
       "    <tr>\n",
       "      <th>scifact|1339</th>\n",
       "      <td>2</td>\n",
       "      <td>0</td>\n",
       "      <td>0</td>\n",
       "      <td>0</td>\n",
       "      <td>0</td>\n",
       "      <td>0</td>\n",
       "      <td>0</td>\n",
       "      <td>0</td>\n",
       "      <td>0</td>\n",
       "      <td>0</td>\n",
       "      <td>0</td>\n",
       "      <td>[0]</td>\n",
       "    </tr>\n",
       "    <tr>\n",
       "      <th>scifact|1344</th>\n",
       "      <td>1</td>\n",
       "      <td>0</td>\n",
       "      <td>0</td>\n",
       "      <td>0</td>\n",
       "      <td>0</td>\n",
       "      <td>0</td>\n",
       "      <td>0</td>\n",
       "      <td>0</td>\n",
       "      <td>0</td>\n",
       "      <td>0</td>\n",
       "      <td>0</td>\n",
       "      <td>[0]</td>\n",
       "    </tr>\n",
       "  </tbody>\n",
       "</table>\n",
       "<p>86 rows × 12 columns</p>\n",
       "</div>"
      ],
      "text/plain": [
       "              actual  fever-climatefever-xlnet-base-cased  \\\n",
       "id                                                          \n",
       "scifact|63         1                                    0   \n",
       "scifact|81         1                                    0   \n",
       "scifact|82         1                                    0   \n",
       "scifact|119        2                                    0   \n",
       "scifact|149        2                                    0   \n",
       "...              ...                                  ...   \n",
       "scifact|1226       1                                    0   \n",
       "scifact|1232       2                                    0   \n",
       "scifact|1279       1                                    0   \n",
       "scifact|1339       2                                    0   \n",
       "scifact|1344       1                                    0   \n",
       "\n",
       "              climatefeverpure-bert-base-uncased  \\\n",
       "id                                                 \n",
       "scifact|63                                     0   \n",
       "scifact|81                                     0   \n",
       "scifact|82                                     0   \n",
       "scifact|119                                    0   \n",
       "scifact|149                                    0   \n",
       "...                                          ...   \n",
       "scifact|1226                                   0   \n",
       "scifact|1232                                   0   \n",
       "scifact|1279                                   0   \n",
       "scifact|1339                                   0   \n",
       "scifact|1344                                   0   \n",
       "\n",
       "              climatefever-xlnet-base-cased  fever-bert-base-uncased  \\\n",
       "id                                                                     \n",
       "scifact|63                                0                        0   \n",
       "scifact|81                                0                        0   \n",
       "scifact|82                                0                        0   \n",
       "scifact|119                               0                        0   \n",
       "scifact|149                               0                        0   \n",
       "...                                     ...                      ...   \n",
       "scifact|1226                              0                        0   \n",
       "scifact|1232                              0                        0   \n",
       "scifact|1279                              0                        0   \n",
       "scifact|1339                              0                        0   \n",
       "scifact|1344                              0                        0   \n",
       "\n",
       "              fever-climatefeverpure-bert-base-uncased  \\\n",
       "id                                                       \n",
       "scifact|63                                           0   \n",
       "scifact|81                                           0   \n",
       "scifact|82                                           0   \n",
       "scifact|119                                          0   \n",
       "scifact|149                                          0   \n",
       "...                                                ...   \n",
       "scifact|1226                                         0   \n",
       "scifact|1232                                         0   \n",
       "scifact|1279                                         0   \n",
       "scifact|1339                                         0   \n",
       "scifact|1344                                         0   \n",
       "\n",
       "              fever-climatefever-bert-base-uncased  \\\n",
       "id                                                   \n",
       "scifact|63                                       0   \n",
       "scifact|81                                       0   \n",
       "scifact|82                                       0   \n",
       "scifact|119                                      0   \n",
       "scifact|149                                      0   \n",
       "...                                            ...   \n",
       "scifact|1226                                     0   \n",
       "scifact|1232                                     0   \n",
       "scifact|1279                                     0   \n",
       "scifact|1339                                     0   \n",
       "scifact|1344                                     0   \n",
       "\n",
       "              climatefever-bert-base-uncased  fever-xlnet-base-cased  \\\n",
       "id                                                                     \n",
       "scifact|63                                 0                       0   \n",
       "scifact|81                                 0                       0   \n",
       "scifact|82                                 0                       0   \n",
       "scifact|119                                0                       0   \n",
       "scifact|149                                0                       0   \n",
       "...                                      ...                     ...   \n",
       "scifact|1226                               0                       0   \n",
       "scifact|1232                               0                       0   \n",
       "scifact|1279                               0                       0   \n",
       "scifact|1339                               0                       0   \n",
       "scifact|1344                               0                       0   \n",
       "\n",
       "              fever-climatefeverpure-xlnet-base-cased  \\\n",
       "id                                                      \n",
       "scifact|63                                          0   \n",
       "scifact|81                                          0   \n",
       "scifact|82                                          0   \n",
       "scifact|119                                         0   \n",
       "scifact|149                                         0   \n",
       "...                                               ...   \n",
       "scifact|1226                                        0   \n",
       "scifact|1232                                        0   \n",
       "scifact|1279                                        0   \n",
       "scifact|1339                                        0   \n",
       "scifact|1344                                        0   \n",
       "\n",
       "              climatefeverpure-xlnet-base-cased model_agreement  \n",
       "id                                                               \n",
       "scifact|63                                    0             [0]  \n",
       "scifact|81                                    0             [0]  \n",
       "scifact|82                                    0             [0]  \n",
       "scifact|119                                   0             [0]  \n",
       "scifact|149                                   0             [0]  \n",
       "...                                         ...             ...  \n",
       "scifact|1226                                  0             [0]  \n",
       "scifact|1232                                  0             [0]  \n",
       "scifact|1279                                  0             [0]  \n",
       "scifact|1339                                  0             [0]  \n",
       "scifact|1344                                  0             [0]  \n",
       "\n",
       "[86 rows x 12 columns]"
      ]
     },
     "execution_count": 31,
     "metadata": {},
     "output_type": "execute_result"
    }
   ],
   "source": [
    "sent_model_agree_error = sent_model_agree[sent_model_agree[\"actual\"] != sent_model_agree[\"model_agreement\"].apply(lambda x: x[0])]\n",
    "sent_model_agree_error"
   ]
  },
  {
   "cell_type": "code",
   "execution_count": 32,
   "id": "afa0fb64-f8a7-4095-a6bb-3c459769c1ff",
   "metadata": {
    "tags": []
   },
   "outputs": [
    {
     "data": {
      "text/plain": [
       "PosixPath('/users/k21190024/study/fact-check-transfer-learning/scratch/thesis/errors/scifact/sentence/meanproba_model_agree_total_error.jsonl')"
      ]
     },
     "execution_count": 32,
     "metadata": {},
     "output_type": "execute_result"
    }
   ],
   "source": [
    "write_jsonl(\n",
    "    error_p / \"sentence\" / \"meanproba_model_agree_total_error.jsonl\", \n",
    "    df_sf_sent_grp.join(sent_model_agree_error[[\"model_agreement\"]], how=\"inner\").reset_index().to_dict(\"records\")\n",
    ")"
   ]
  },
  {
   "cell_type": "markdown",
   "id": "f0d434dc-b1d0-4d6f-b046-504aa7e5b0fd",
   "metadata": {},
   "source": [
    "##### Model Disagreement analysis"
   ]
  },
  {
   "cell_type": "code",
   "execution_count": 33,
   "id": "4ed5c1d4-b8ef-47b0-955a-509681d93c1b",
   "metadata": {},
   "outputs": [
    {
     "data": {
      "text/plain": [
       "(True    834\n",
       " Name: combined_error, dtype: int64,\n",
       " False    764\n",
       " True      70\n",
       " Name: total_error, dtype: int64)"
      ]
     },
     "execution_count": 33,
     "metadata": {},
     "output_type": "execute_result"
    }
   ],
   "source": [
    "sent_model_disagree = assign_disagree_derive_cols(sent_model_disagree)\n",
    "(\n",
    "    sent_model_disagree[\"combined_error\"].value_counts(),\n",
    "    sent_model_disagree[\"total_error\"].value_counts()\n",
    ")"
   ]
  },
  {
   "cell_type": "code",
   "execution_count": 34,
   "id": "b08020cd-dc82-48ec-860c-5755622a41ab",
   "metadata": {
    "tags": []
   },
   "outputs": [
    {
     "data": {
      "text/plain": [
       "PosixPath('/users/k21190024/study/fact-check-transfer-learning/scratch/thesis/errors/scifact/sentence/meanproba_model_disagree_alltrain_total_error.jsonl')"
      ]
     },
     "execution_count": 34,
     "metadata": {},
     "output_type": "execute_result"
    }
   ],
   "source": [
    "write_jsonl(\n",
    "    error_p / \"sentence\" / \"meanproba_model_disagree_alltrain_total_error.jsonl\", \n",
    "    df_sf_sent_grp.loc[sent_model_disagree[sent_model_disagree[\"total_error\"]].index].reset_index().to_dict(\"records\")\n",
    ")"
   ]
  },
  {
   "cell_type": "code",
   "execution_count": 35,
   "id": "8fd0ece9-0fbd-4c74-b4ab-4c3e7bc45d76",
   "metadata": {
    "tags": []
   },
   "outputs": [],
   "source": [
    "sent_model_disagree_f = assign_disagree_derive_cols(pd.concat([sent_model_disagree[[\"actual\"]], sent_model_disagree.filter(regex=\"^fever-[b|x].*\")], axis=1))\n",
    "sent_model_disagree_f_cf = assign_disagree_derive_cols(pd.concat([sent_model_disagree[[\"actual\"]], sent_model_disagree.filter(like=\"fever-climatefever-\")], axis=1))\n",
    "sent_model_disagree_f_cfp = assign_disagree_derive_cols(pd.concat([sent_model_disagree[[\"actual\"]], sent_model_disagree.filter(like=\"fever-climatefeverpure-\")], axis=1))\n",
    "sent_model_disagree_cf = assign_disagree_derive_cols(pd.concat([sent_model_disagree[[\"actual\"]], sent_model_disagree.filter(regex=\"^climatefever-.*\")], axis=1))\n",
    "sent_model_disagree_cfp = assign_disagree_derive_cols(pd.concat([sent_model_disagree[[\"actual\"]], sent_model_disagree.filter(regex=\"^climatefeverpure-.*\")], axis=1))"
   ]
  },
  {
   "cell_type": "code",
   "execution_count": 36,
   "id": "9dc8e841-1721-4d38-9832-b442e4616d5c",
   "metadata": {},
   "outputs": [
    {
     "data": {
      "text/plain": [
       "(True     606\n",
       " False    228\n",
       " Name: combined_error, dtype: int64,\n",
       " True     609\n",
       " False    225\n",
       " Name: combined_error, dtype: int64,\n",
       " True     607\n",
       " False    227\n",
       " Name: combined_error, dtype: int64,\n",
       " True     594\n",
       " False    240\n",
       " Name: combined_error, dtype: int64,\n",
       " True     588\n",
       " False    246\n",
       " Name: combined_error, dtype: int64)"
      ]
     },
     "execution_count": 36,
     "metadata": {},
     "output_type": "execute_result"
    }
   ],
   "source": [
    "(\n",
    "    sent_model_disagree_f[\"combined_error\"].value_counts(), \n",
    "    sent_model_disagree_cfp[\"combined_error\"].value_counts(),\n",
    "    sent_model_disagree_f_cfp[\"combined_error\"].value_counts(),\n",
    "    sent_model_disagree_cf[\"combined_error\"].value_counts(),\n",
    "    sent_model_disagree_f_cf[\"combined_error\"].value_counts() \n",
    ")"
   ]
  },
  {
   "cell_type": "code",
   "execution_count": 37,
   "id": "037ae638-54d2-49a4-a337-f515f8102eb2",
   "metadata": {},
   "outputs": [
    {
     "data": {
      "text/plain": [
       "(True     417\n",
       " False    417\n",
       " Name: total_error, dtype: int64,\n",
       " False    452\n",
       " True     382\n",
       " Name: total_error, dtype: int64,\n",
       " False    498\n",
       " True     336\n",
       " Name: total_error, dtype: int64,\n",
       " False    484\n",
       " True     350\n",
       " Name: total_error, dtype: int64,\n",
       " False    521\n",
       " True     313\n",
       " Name: total_error, dtype: int64)"
      ]
     },
     "execution_count": 37,
     "metadata": {},
     "output_type": "execute_result"
    }
   ],
   "source": [
    "(\n",
    "    sent_model_disagree_f[\"total_error\"].value_counts(), \n",
    "    sent_model_disagree_cfp[\"total_error\"].value_counts(),\n",
    "    sent_model_disagree_f_cfp[\"total_error\"].value_counts(),\n",
    "    sent_model_disagree_cf[\"total_error\"].value_counts(),\n",
    "    sent_model_disagree_f_cf[\"total_error\"].value_counts() \n",
    ")"
   ]
  },
  {
   "cell_type": "code",
   "execution_count": 38,
   "id": "cc1ebe30-148b-4e78-8773-0dbc50f1b899",
   "metadata": {
    "tags": []
   },
   "outputs": [
    {
     "data": {
      "text/plain": [
       "PosixPath('/users/k21190024/study/fact-check-transfer-learning/scratch/thesis/errors/scifact/sentence/meanproba_model_disagree_fever-climatefever_total_error.jsonl')"
      ]
     },
     "execution_count": 38,
     "metadata": {},
     "output_type": "execute_result"
    }
   ],
   "source": [
    "write_jsonl(\n",
    "    error_p / \"sentence\" / \"meanproba_model_disagree_fever_total_error.jsonl\", \n",
    "    df_sf_sent_grp.loc[sent_model_disagree_f[sent_model_disagree_f[\"total_error\"]].index].reset_index().to_dict(\"records\")\n",
    ")\n",
    "write_jsonl(\n",
    "    error_p / \"sentence\" / \"meanproba_model_disagree_climatefeverpure_total_error.jsonl\", \n",
    "    df_sf_sent_grp.loc[sent_model_disagree_cfp[sent_model_disagree_cfp[\"total_error\"]].index].reset_index().to_dict(\"records\")\n",
    ")\n",
    "write_jsonl(\n",
    "    error_p / \"sentence\" / \"meanproba_model_disagree_fever-climatefeverpure_total_error.jsonl\", \n",
    "    df_sf_sent_grp.loc[sent_model_disagree_f_cfp[sent_model_disagree_f_cfp[\"total_error\"]].index].reset_index().to_dict(\"records\")\n",
    ")\n",
    "write_jsonl(\n",
    "    error_p / \"sentence\" / \"meanproba_model_disagree_climatefever_total_error.jsonl\", \n",
    "    df_sf_sent_grp.loc[sent_model_disagree_cf[sent_model_disagree_cf[\"total_error\"]].index].reset_index().to_dict(\"records\")\n",
    ")\n",
    "write_jsonl(\n",
    "    error_p / \"sentence\" / \"meanproba_model_disagree_fever-climatefever_total_error.jsonl\", \n",
    "    df_sf_sent_grp.loc[sent_model_disagree_f_cf[sent_model_disagree_f_cf[\"total_error\"]].index].reset_index().to_dict(\"records\")\n",
    ")"
   ]
  },
  {
   "cell_type": "code",
   "execution_count": null,
   "id": "8dda4e6d-853b-47ed-a1db-c9532d79869d",
   "metadata": {},
   "outputs": [],
   "source": []
  }
 ],
 "metadata": {
  "kernelspec": {
   "display_name": "Python 3 (ipykernel)",
   "language": "python",
   "name": "python3"
  },
  "language_info": {
   "codemirror_mode": {
    "name": "ipython",
    "version": 3
   },
   "file_extension": ".py",
   "mimetype": "text/x-python",
   "name": "python",
   "nbconvert_exporter": "python",
   "pygments_lexer": "ipython3",
   "version": "3.8.16"
  }
 },
 "nbformat": 4,
 "nbformat_minor": 5
}
