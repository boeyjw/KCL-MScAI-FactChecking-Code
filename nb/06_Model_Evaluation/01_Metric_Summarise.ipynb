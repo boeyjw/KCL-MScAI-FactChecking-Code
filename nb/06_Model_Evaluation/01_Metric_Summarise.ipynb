{
 "cells": [
  {
   "cell_type": "code",
   "execution_count": 1,
   "id": "30faf9e3-705b-4a82-8c40-38a93586b1a4",
   "metadata": {},
   "outputs": [],
   "source": [
    "%load_ext autoreload\n",
    "%autoreload 2"
   ]
  },
  {
   "cell_type": "markdown",
   "id": "2c97a6cc-91c1-4151-a39a-00e646127304",
   "metadata": {},
   "source": [
    "# Init"
   ]
  },
  {
   "cell_type": "code",
   "execution_count": 12,
   "id": "11206314-de4b-4f67-bfcb-7afcc8ce9f4e",
   "metadata": {},
   "outputs": [],
   "source": [
    "import sys\n",
    "sys.path.append(\"../src\")\n",
    "import pickle as pkl\n",
    "from pathlib import Path\n",
    "from collections import defaultdict\n",
    "\n",
    "import pandas as pd"
   ]
  },
  {
   "cell_type": "code",
   "execution_count": 7,
   "id": "61855721-014f-4232-8fdf-f3da13227353",
   "metadata": {},
   "outputs": [
    {
     "name": "stdout",
     "output_type": "stream",
     "text": [
      "concatenate_evidences_metrics\n",
      "sent_macro_verdict_meanproba_metrics\n",
      "sent_micro_verdict_metrics\n",
      "sent_macro_verdict_majority_metrics\n"
     ]
    }
   ],
   "source": [
    "result_p = Path(\"/users/k21190024/study/fact-check-transfer-learning/scratch/thesis/results/metrics\")\n",
    "\n",
    "for res in result_p.iterdir():\n",
    "    print(res.stem)\n",
    "    with res.open(\"rb\") as fn:\n",
    "        globals()[res.stem] = pkl.load(fn)"
   ]
  },
  {
   "cell_type": "markdown",
   "id": "d587ac42-d825-432f-a6e7-d8a65afc0fde",
   "metadata": {},
   "source": [
    "# Summarise"
   ]
  },
  {
   "cell_type": "code",
   "execution_count": 30,
   "id": "c80ab4e4-382f-42d2-8035-4117dd86ea17",
   "metadata": {},
   "outputs": [],
   "source": [
    "def summarise_metrics(metrics):\n",
    "    summary = defaultdict(list)\n",
    "    for dataset, splits in metrics.items():\n",
    "        for k, v in splits.items():\n",
    "            for i in v:\n",
    "                rte_met = i.rte_metrics\n",
    "                rte_met[\"fullname\"] = i._score_name\n",
    "                if \"da\" in i._score_name:\n",
    "                    rte_met[\"model\"] = \"da\"\n",
    "                elif \"xlnet\" in i._score_name:\n",
    "                    rte_met[\"model\"] = \"xlnet\"\n",
    "                else:\n",
    "                    rte_met[\"model\"] = \"bert\"\n",
    "                summary[f\"{dataset}-{k}\"].append(rte_met)\n",
    "    return summary"
   ]
  },
  {
   "cell_type": "markdown",
   "id": "70175eca-54cc-4ae9-a35c-83d91bdbf741",
   "metadata": {},
   "source": [
    "## Concatenate Sentences"
   ]
  },
  {
   "cell_type": "code",
   "execution_count": 33,
   "id": "cde613c8-66c1-4025-b4a0-f80f601e957d",
   "metadata": {},
   "outputs": [],
   "source": [
    "concat_summary = summarise_metrics(concatenate_evidences_metrics)"
   ]
  },
  {
   "cell_type": "code",
   "execution_count": 34,
   "id": "2bf4966c-c911-4b74-9796-aed70aea4473",
   "metadata": {},
   "outputs": [],
   "source": [
    "pd.concat([\n",
    "    pd.DataFrame(concat_summary[\"fever-dev\"]).sort_values([\"model\", \"fullname\"]),\n",
    "    pd.DataFrame(concat_summary[\"climatefeverpure-dev\"]).sort_values([\"model\", \"fullname\"]),\n",
    "    pd.DataFrame(concat_summary[\"scifact-all\"]).sort_values([\"model\", \"fullname\"])\n",
    "], axis=0).to_csv(\"tmp.csv\")"
   ]
  },
  {
   "cell_type": "markdown",
   "id": "1a7cc981-31cf-423c-b5a9-5a1d16c6458f",
   "metadata": {},
   "source": [
    "## Sentence"
   ]
  },
  {
   "cell_type": "markdown",
   "id": "4b735c36-0a0a-4b0d-9fcd-413584d61b89",
   "metadata": {},
   "source": [
    "### Micro"
   ]
  },
  {
   "cell_type": "code",
   "execution_count": 36,
   "id": "a91fac08-cd50-459e-8e31-a96ea7b450e0",
   "metadata": {},
   "outputs": [],
   "source": [
    "micro_summary = summarise_metrics(sent_micro_verdict_metrics)"
   ]
  },
  {
   "cell_type": "code",
   "execution_count": 37,
   "id": "9f459686-0ace-4137-af18-f14ca7031b26",
   "metadata": {},
   "outputs": [],
   "source": [
    "pd.concat([\n",
    "    pd.DataFrame(micro_summary[\"fever-dev\"]).sort_values([\"model\", \"fullname\"]),\n",
    "    pd.DataFrame(micro_summary[\"climatefeverpure-dev\"]).sort_values([\"model\", \"fullname\"]),\n",
    "    pd.DataFrame(micro_summary[\"climatefever-dev\"]).sort_values([\"model\", \"fullname\"]),\n",
    "    pd.DataFrame(micro_summary[\"scifact-all\"]).sort_values([\"model\", \"fullname\"])\n",
    "], axis=0).to_csv(\"tmp.csv\")"
   ]
  },
  {
   "cell_type": "markdown",
   "id": "c9ec66f0-d97f-4e4c-9114-c32454f40b9c",
   "metadata": {},
   "source": [
    "### Macro"
   ]
  },
  {
   "cell_type": "markdown",
   "id": "a3eac35e-e7ae-4ea8-a4a6-d6b671c06aa5",
   "metadata": {},
   "source": [
    "#### Majority"
   ]
  },
  {
   "cell_type": "code",
   "execution_count": 39,
   "id": "dc962176-fbcf-4182-9f9c-236829284dfb",
   "metadata": {},
   "outputs": [],
   "source": [
    "macro_majority_summary = summarise_metrics(sent_macro_verdict_majority_metrics)"
   ]
  },
  {
   "cell_type": "code",
   "execution_count": 40,
   "id": "10a4ffb7-bb0f-4e33-9efc-19a78eb3b8a1",
   "metadata": {},
   "outputs": [],
   "source": [
    "pd.concat([\n",
    "    pd.DataFrame(macro_majority_summary[\"fever-dev\"]).sort_values([\"model\", \"fullname\"]),\n",
    "    pd.DataFrame(macro_majority_summary[\"climatefeverpure-dev\"]).sort_values([\"model\", \"fullname\"]),\n",
    "    pd.DataFrame(macro_majority_summary[\"climatefever-dev\"]).sort_values([\"model\", \"fullname\"]),\n",
    "    pd.DataFrame(macro_majority_summary[\"scifact-all\"]).sort_values([\"model\", \"fullname\"])\n",
    "], axis=0).to_csv(\"tmp.csv\")"
   ]
  },
  {
   "cell_type": "markdown",
   "id": "5549e701-a033-4ec8-a9c2-da68cc907f9c",
   "metadata": {},
   "source": [
    "#### Mean proba"
   ]
  },
  {
   "cell_type": "code",
   "execution_count": 41,
   "id": "d9bb244d-4f85-4bb2-ae67-2762a7b8197e",
   "metadata": {},
   "outputs": [],
   "source": [
    "macro_meanproba_summary = summarise_metrics(sent_macro_verdict_meanproba_metrics)"
   ]
  },
  {
   "cell_type": "code",
   "execution_count": 42,
   "id": "0a2617e0-d7cd-406f-8d0d-ab7fea8c24d6",
   "metadata": {},
   "outputs": [],
   "source": [
    "pd.concat([\n",
    "    pd.DataFrame(micro_summary[\"fever-dev\"]).sort_values([\"model\", \"fullname\"]),\n",
    "    pd.DataFrame(micro_summary[\"climatefeverpure-dev\"]).sort_values([\"model\", \"fullname\"]),\n",
    "    pd.DataFrame(micro_summary[\"climatefever-dev\"]).sort_values([\"model\", \"fullname\"]),\n",
    "    pd.DataFrame(micro_summary[\"scifact-all\"]).sort_values([\"model\", \"fullname\"])\n",
    "], axis=0).to_csv(\"tmp.csv\")"
   ]
  },
  {
   "cell_type": "code",
   "execution_count": null,
   "id": "1ed597e9-81f3-4e0d-8296-df2b37a0b0c2",
   "metadata": {},
   "outputs": [],
   "source": []
  }
 ],
 "metadata": {
  "kernelspec": {
   "display_name": "Python 3 (ipykernel)",
   "language": "python",
   "name": "python3"
  },
  "language_info": {
   "codemirror_mode": {
    "name": "ipython",
    "version": 3
   },
   "file_extension": ".py",
   "mimetype": "text/x-python",
   "name": "python",
   "nbconvert_exporter": "python",
   "pygments_lexer": "ipython3",
   "version": "3.8.16"
  }
 },
 "nbformat": 4,
 "nbformat_minor": 5
}
