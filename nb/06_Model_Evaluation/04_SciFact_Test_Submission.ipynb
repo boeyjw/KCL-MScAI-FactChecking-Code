{
 "cells": [
  {
   "cell_type": "code",
   "execution_count": 2,
   "id": "e53bca06-379c-4997-addc-1c8f786cb753",
   "metadata": {},
   "outputs": [],
   "source": [
    "import sys\n",
    "sys.path.insert(0, \"../src\")\n",
    "from pathlib import Path\n",
    "\n",
    "import pandas as pd\n",
    "\n",
    "import constants\n",
    "from gen.util import read_data, write_jsonl"
   ]
  },
  {
   "cell_type": "code",
   "execution_count": 3,
   "id": "2f9b68a0-8550-46af-96a3-d7ae0fb20b44",
   "metadata": {},
   "outputs": [],
   "source": [
    "LABEL2LABEL = {\"SUPPORTS\": \"SUPPORT\", \"REFUTES\": \"CONTRADICT\"}"
   ]
  },
  {
   "cell_type": "code",
   "execution_count": 6,
   "id": "a075bc0e-781a-4a93-9a65-ae03522b81f4",
   "metadata": {},
   "outputs": [],
   "source": [
    "def prepare_scifact_doc_submission(pred_p: Path):\n",
    "    predictions = read_data(pred_p)\n",
    "    submission = []\n",
    "    \n",
    "    for doc in predictions:\n",
    "        sub_doc = {\n",
    "            \"id\": int(doc[\"claim_id\"].split(\"|\")[1]),\n",
    "            \"evidence\": {}\n",
    "        }\n",
    "        if doc[\"predicted_label\"] != constants.LOOKUP[\"label\"][\"nei\"]:\n",
    "            for evidence in doc[\"predicted_evidence\"]:\n",
    "                if evidence[0] in sub_doc[\"evidence\"]:\n",
    "                    sub_doc[\"evidence\"][evidence[0]][\"sentences\"].append(evidence[1])\n",
    "                else:\n",
    "                    sub_doc[\"evidence\"][evidence[0]] = {\n",
    "                        \"sentences\": [evidence[1]],\n",
    "                        \"label\": LABEL2LABEL[doc[\"predicted_label\"]]\n",
    "                    }\n",
    "        submission.append(sub_doc)\n",
    "    \n",
    "    return submission\n",
    "\n",
    "def prepare_scifact_sent_submission():\n",
    "    pass"
   ]
  },
  {
   "cell_type": "code",
   "execution_count": 7,
   "id": "3494bfc2-2d08-4ec0-b961-7e5e85edc38e",
   "metadata": {},
   "outputs": [],
   "source": [
    "tmp = prepare_scifact_doc_submission(Path(\"/users/k21190024/study/fact-check-transfer-learning/scratch/thesis/predictions/doc/scifact_test/fever-climatefeverpure-xlnet-base-cased.test.jsonl\"))"
   ]
  },
  {
   "cell_type": "code",
   "execution_count": 11,
   "id": "b03f17c9-5c0e-48fa-b614-4d8abfd2eb3e",
   "metadata": {},
   "outputs": [
    {
     "data": {
      "text/plain": [
       "{'id': 84,\n",
       " 'evidence': {'7521113': {'sentences': [4], 'label': 'SUPPORT'},\n",
       "  '12827098': {'sentences': [5, 0], 'label': 'SUPPORT'},\n",
       "  '22406695': {'sentences': [1], 'label': 'SUPPORT'},\n",
       "  '12966719': {'sentences': [2], 'label': 'SUPPORT'}}}"
      ]
     },
     "execution_count": 11,
     "metadata": {},
     "output_type": "execute_result"
    }
   ],
   "source": [
    "tmp[11]"
   ]
  }
 ],
 "metadata": {
  "kernelspec": {
   "display_name": "Python 3 (ipykernel)",
   "language": "python",
   "name": "python3"
  },
  "language_info": {
   "codemirror_mode": {
    "name": "ipython",
    "version": 3
   },
   "file_extension": ".py",
   "mimetype": "text/x-python",
   "name": "python",
   "nbconvert_exporter": "python",
   "pygments_lexer": "ipython3",
   "version": "3.8.16"
  }
 },
 "nbformat": 4,
 "nbformat_minor": 5
}
