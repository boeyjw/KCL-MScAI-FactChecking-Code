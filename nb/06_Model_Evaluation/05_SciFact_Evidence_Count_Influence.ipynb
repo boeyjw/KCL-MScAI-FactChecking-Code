{
 "cells": [
  {
   "cell_type": "code",
   "execution_count": 1,
   "id": "b24008c9-83fc-4356-a798-db414042e7b6",
   "metadata": {},
   "outputs": [],
   "source": [
    "import sys\n",
    "sys.path.insert(0, \"../src\")\n",
    "import re\n",
    "from pathlib import Path\n",
    "from functools import partial\n",
    "from collections import defaultdict\n",
    "\n",
    "import pandas as pd\n",
    "import numpy as np\n",
    "from joblib import Parallel, delayed\n",
    "from sklearn.metrics import classification_report, accuracy_score\n",
    "\n",
    "import constants\n",
    "from gen.util import read_data, write_jsonl\n",
    "from rte.aggregate import agg_predict_proba, agg_predict"
   ]
  },
  {
   "cell_type": "markdown",
   "id": "7e6f5466-425c-4c18-a6df-51d1a0dee129",
   "metadata": {},
   "source": [
    "# Init"
   ]
  },
  {
   "cell_type": "code",
   "execution_count": 2,
   "id": "f9b9f459-4da6-4dd1-ab0e-b2e09a457ef3",
   "metadata": {},
   "outputs": [],
   "source": [
    "def print_report(df, digits=4):\n",
    "    print(classification_report(y_true=df[\"labels\"], y_pred=df[\"predicted_label\"], digits=digits, labels=[\"REFUTES\", \"SUPPORTS\"]))\n",
    "    print(\"Accuracy: \", round(accuracy_score(y_true=df[\"labels\"], y_pred=df[\"predicted_label\"]), 4))"
   ]
  },
  {
   "cell_type": "code",
   "execution_count": 3,
   "id": "b7ab61aa-fa0a-45a1-a8ae-c631b5b3c5e2",
   "metadata": {},
   "outputs": [
    {
     "data": {
      "text/plain": [
       "1     355\n",
       "2     200\n",
       "3      79\n",
       "4      35\n",
       "5       8\n",
       "6       5\n",
       "8       4\n",
       "7       3\n",
       "9       2\n",
       "11      2\n",
       "Name: evidence, dtype: int64"
      ]
     },
     "execution_count": 3,
     "metadata": {},
     "output_type": "execute_result"
    }
   ],
   "source": [
    "sf_all = pd.DataFrame(read_data(Path(\"/users/k21190024/study/fact-check-transfer-learning/scratch/dumps/bert-data-sent-evidence/scifact.all.test.jsonl\")))\n",
    "sf_all = sf_all.groupby(\"claim_id\").agg({\"evidence\": \"count\", \"labels\": \"max\"})\n",
    "sf_all = sf_all.assign(labels=sf_all[\"labels\"].map(constants.ID2LABEL))\n",
    "sf_all = sf_all[sf_all[\"labels\"] != constants.LOOKUP[\"label\"][\"nei\"]]\n",
    "sf_all[\"evidence\"].value_counts()"
   ]
  },
  {
   "cell_type": "code",
   "execution_count": 4,
   "id": "81bc0a7d-4a6b-4b48-8beb-40b56e83b234",
   "metadata": {},
   "outputs": [],
   "source": [
    "ev1 = sf_all[sf_all[\"evidence\"] == 1]\n",
    "ev2 = sf_all[sf_all[\"evidence\"] == 2]\n",
    "ev3 = sf_all[sf_all[\"evidence\"] >= 3]"
   ]
  },
  {
   "cell_type": "markdown",
   "id": "ac6a7288-9557-44ac-9fa6-c70543b1c418",
   "metadata": {},
   "source": [
    "# Oracle IR"
   ]
  },
  {
   "cell_type": "code",
   "execution_count": 5,
   "id": "c4d47807-df10-4da0-8483-a51806567ccf",
   "metadata": {},
   "outputs": [],
   "source": [
    "best_doc = pd.DataFrame(read_data(Path(\"/users/k21190024/study/fact-check-transfer-learning/scratch/thesis/predictions/doc/scifact/fever-climatefeverpure-bert-base-uncased.all.jsonl\")))\n",
    "best_doc = best_doc.set_index(\"claim_id\")\n",
    "best_sent = pd.DataFrame(read_data(Path(\"/users/k21190024/study/fact-check-transfer-learning/scratch/thesis/predictions/sent/scifact/fever-climatefever-xlnet-base-cased.all.jsonl\")))\n",
    "best_sent = best_sent.assign(predicted_label=best_sent[\"predicted_label\"].map(constants.LABEL2ID))\n",
    "\n",
    "best_maj = best_sent.groupby(\"claim_id\").agg({\"predicted_label\": agg_predict})\n",
    "best_maj = best_maj.assign(predicted_label=best_maj[\"predicted_label\"].map(constants.ID2LABEL))\n",
    "best_mean = best_sent.groupby(\"claim_id\").agg({\"predicted_proba\": agg_predict_proba}).rename(columns={\"predicted_proba\": \"predicted_label\"})\n",
    "best_mean = best_mean.assign(predicted_label=best_mean[\"predicted_label\"].map(constants.ID2LABEL))"
   ]
  },
  {
   "cell_type": "code",
   "execution_count": 6,
   "id": "85e217b4-287b-41cf-b747-e67d5c91946d",
   "metadata": {},
   "outputs": [],
   "source": [
    "d_ev1 = best_doc.join(ev1, how=\"inner\")\n",
    "d_ev2 = best_doc.join(ev2, how=\"inner\")\n",
    "d_ev3 = best_doc.join(ev3, how=\"inner\")\n",
    "\n",
    "smaj_ev1 = best_maj.join(ev1, how=\"inner\")\n",
    "smaj_ev2 = best_maj.join(ev2, how=\"inner\")\n",
    "smaj_ev3 = best_maj.join(ev3, how=\"inner\")\n",
    "\n",
    "smean_ev1 = best_mean.join(ev1, how=\"inner\")\n",
    "smean_ev2 = best_mean.join(ev2, how=\"inner\")\n",
    "smean_ev3 = best_mean.join(ev3, how=\"inner\")"
   ]
  },
  {
   "cell_type": "markdown",
   "id": "d508d674-9d87-4fa0-b687-6cdba1ff1558",
   "metadata": {},
   "source": [
    "## Doc"
   ]
  },
  {
   "cell_type": "code",
   "execution_count": 7,
   "id": "d64750a3-2812-45a1-9310-b7385bef50c4",
   "metadata": {},
   "outputs": [
    {
     "name": "stdout",
     "output_type": "stream",
     "text": [
      "              precision    recall  f1-score   support\n",
      "\n",
      "     REFUTES     0.6506    0.4821    0.5538       112\n",
      "    SUPPORTS     0.7897    0.8807    0.8327       243\n",
      "\n",
      "   micro avg     0.7571    0.7549    0.7560       355\n",
      "   macro avg     0.7201    0.6814    0.6933       355\n",
      "weighted avg     0.7458    0.7549    0.7447       355\n",
      "\n",
      "Accuracy:  0.7549\n"
     ]
    }
   ],
   "source": [
    "print_report(d_ev1)"
   ]
  },
  {
   "cell_type": "code",
   "execution_count": 8,
   "id": "06bc0489-b798-4995-be55-71400b3471cf",
   "metadata": {},
   "outputs": [
    {
     "name": "stdout",
     "output_type": "stream",
     "text": [
      "              precision    recall  f1-score   support\n",
      "\n",
      "     REFUTES     0.7292    0.4795    0.5785        73\n",
      "    SUPPORTS     0.7534    0.8661    0.8059       127\n",
      "\n",
      "   micro avg     0.7474    0.7250    0.7360       200\n",
      "   macro avg     0.7413    0.6728    0.6922       200\n",
      "weighted avg     0.7446    0.7250    0.7229       200\n",
      "\n",
      "Accuracy:  0.725\n"
     ]
    }
   ],
   "source": [
    "print_report(d_ev2)"
   ]
  },
  {
   "cell_type": "code",
   "execution_count": 9,
   "id": "331dd419-6dce-4d38-9c0f-4d271a1e791c",
   "metadata": {},
   "outputs": [
    {
     "name": "stdout",
     "output_type": "stream",
     "text": [
      "              precision    recall  f1-score   support\n",
      "\n",
      "     REFUTES     0.7500    0.2885    0.4167        52\n",
      "    SUPPORTS     0.7340    0.8023    0.7667        86\n",
      "\n",
      "   micro avg     0.7368    0.6087    0.6667       138\n",
      "   macro avg     0.7420    0.5454    0.5917       138\n",
      "weighted avg     0.7401    0.6087    0.6348       138\n",
      "\n",
      "Accuracy:  0.6087\n"
     ]
    }
   ],
   "source": [
    "print_report(d_ev3)"
   ]
  },
  {
   "cell_type": "markdown",
   "id": "97707754-4d7d-4ce0-a6ab-60a232bb6052",
   "metadata": {},
   "source": [
    "## Sent - Majority"
   ]
  },
  {
   "cell_type": "code",
   "execution_count": 10,
   "id": "19c269e2-3907-4339-be12-814b610976a9",
   "metadata": {},
   "outputs": [
    {
     "name": "stdout",
     "output_type": "stream",
     "text": [
      "              precision    recall  f1-score   support\n",
      "\n",
      "     REFUTES     0.6400    0.4286    0.5134       112\n",
      "    SUPPORTS     0.8294    0.7202    0.7709       243\n",
      "\n",
      "   micro avg     0.7797    0.6282    0.6958       355\n",
      "   macro avg     0.7347    0.5744    0.6421       355\n",
      "weighted avg     0.7696    0.6282    0.6897       355\n",
      "\n",
      "Accuracy:  0.6282\n"
     ]
    }
   ],
   "source": [
    "print_report(smaj_ev1)"
   ]
  },
  {
   "cell_type": "code",
   "execution_count": 11,
   "id": "86f4b220-ec10-48f2-9615-cd73e8caa27d",
   "metadata": {},
   "outputs": [
    {
     "name": "stdout",
     "output_type": "stream",
     "text": [
      "              precision    recall  f1-score   support\n",
      "\n",
      "     REFUTES     0.8182    0.4932    0.6154        73\n",
      "    SUPPORTS     0.8302    0.6929    0.7554       127\n",
      "\n",
      "   micro avg     0.8267    0.6200    0.7086       200\n",
      "   macro avg     0.8242    0.5930    0.6854       200\n",
      "weighted avg     0.8258    0.6200    0.7043       200\n",
      "\n",
      "Accuracy:  0.62\n"
     ]
    }
   ],
   "source": [
    "print_report(smaj_ev2)"
   ]
  },
  {
   "cell_type": "code",
   "execution_count": 12,
   "id": "ff11ae91-8ee3-48a5-a540-28ac9880225d",
   "metadata": {},
   "outputs": [
    {
     "name": "stdout",
     "output_type": "stream",
     "text": [
      "              precision    recall  f1-score   support\n",
      "\n",
      "     REFUTES     0.7692    0.3846    0.5128        52\n",
      "    SUPPORTS     0.7553    0.8256    0.7889        86\n",
      "\n",
      "   micro avg     0.7583    0.6594    0.7054       138\n",
      "   macro avg     0.7623    0.6051    0.6509       138\n",
      "weighted avg     0.7606    0.6594    0.6849       138\n",
      "\n",
      "Accuracy:  0.6594\n"
     ]
    }
   ],
   "source": [
    "print_report(smaj_ev3)"
   ]
  },
  {
   "cell_type": "markdown",
   "id": "53f9714f-4738-4685-86e2-6e5e4bf46fc7",
   "metadata": {},
   "source": [
    "## Sent - Mean Probability"
   ]
  },
  {
   "cell_type": "code",
   "execution_count": 13,
   "id": "0c628f94-2475-41e1-9d1d-0cb5632251bc",
   "metadata": {},
   "outputs": [
    {
     "name": "stdout",
     "output_type": "stream",
     "text": [
      "              precision    recall  f1-score   support\n",
      "\n",
      "     REFUTES     0.6400    0.4286    0.5134       112\n",
      "    SUPPORTS     0.8294    0.7202    0.7709       243\n",
      "\n",
      "   micro avg     0.7797    0.6282    0.6958       355\n",
      "   macro avg     0.7347    0.5744    0.6421       355\n",
      "weighted avg     0.7696    0.6282    0.6897       355\n",
      "\n",
      "Accuracy:  0.6282\n"
     ]
    }
   ],
   "source": [
    "print_report(smean_ev1)"
   ]
  },
  {
   "cell_type": "code",
   "execution_count": 14,
   "id": "10732e84-8580-40d0-91e6-d82cee2bd657",
   "metadata": {},
   "outputs": [
    {
     "name": "stdout",
     "output_type": "stream",
     "text": [
      "              precision    recall  f1-score   support\n",
      "\n",
      "     REFUTES     0.8205    0.4384    0.5714        73\n",
      "    SUPPORTS     0.8198    0.7165    0.7647       127\n",
      "\n",
      "   micro avg     0.8200    0.6150    0.7029       200\n",
      "   macro avg     0.8202    0.5774    0.6681       200\n",
      "weighted avg     0.8201    0.6150    0.6942       200\n",
      "\n",
      "Accuracy:  0.615\n"
     ]
    }
   ],
   "source": [
    "print_report(smean_ev2)"
   ]
  },
  {
   "cell_type": "code",
   "execution_count": 15,
   "id": "9f9752a3-6955-464e-a41e-750ec5916a41",
   "metadata": {},
   "outputs": [
    {
     "name": "stdout",
     "output_type": "stream",
     "text": [
      "              precision    recall  f1-score   support\n",
      "\n",
      "     REFUTES     0.7500    0.2885    0.4167        52\n",
      "    SUPPORTS     0.7846    0.5930    0.6755        86\n",
      "\n",
      "   micro avg     0.7765    0.4783    0.5919       138\n",
      "   macro avg     0.7673    0.4407    0.5461       138\n",
      "weighted avg     0.7716    0.4783    0.5780       138\n",
      "\n",
      "Accuracy:  0.4783\n"
     ]
    }
   ],
   "source": [
    "print_report(smean_ev3)"
   ]
  },
  {
   "cell_type": "markdown",
   "id": "71fb4932-86e0-463e-8004-ca3fbe21105f",
   "metadata": {},
   "source": [
    "# Pipeline"
   ]
  },
  {
   "cell_type": "code",
   "execution_count": 16,
   "id": "d65b92fb-7639-40a8-8f42-754be79203c7",
   "metadata": {},
   "outputs": [],
   "source": [
    "best_doc = pd.DataFrame(read_data(Path(\"/users/k21190024/study/fact-check-transfer-learning/scratch/thesis/predictions/doc/scifactpipeline/fever-climatefeverpure-xlnet-base-cased.all.jsonl\")))\n",
    "best_doc = best_doc.set_index(\"claim_id\")\n",
    "best_sent = pd.DataFrame(read_data(Path(\"/users/k21190024/study/fact-check-transfer-learning/scratch/thesis/predictions/sent/scifactpipeline/fever-climatefever-xlnet-base-cased.all.jsonl\")))\n",
    "best_sent = best_sent.assign(predicted_label=best_sent[\"predicted_label\"].map(constants.LABEL2ID))\n",
    "\n",
    "best_maj = best_sent.groupby(\"claim_id\").agg({\"predicted_label\": agg_predict})\n",
    "best_maj = best_maj.assign(predicted_label=best_maj[\"predicted_label\"].map(constants.ID2LABEL))\n",
    "best_mean = best_sent.groupby(\"claim_id\").agg({\"predicted_proba\": agg_predict_proba}).rename(columns={\"predicted_proba\": \"predicted_label\"})\n",
    "best_mean = best_mean.assign(predicted_label=best_mean[\"predicted_label\"].map(constants.ID2LABEL))"
   ]
  },
  {
   "cell_type": "code",
   "execution_count": 17,
   "id": "67752b55-1c91-41b4-ad50-d86e3511cc27",
   "metadata": {},
   "outputs": [],
   "source": [
    "d_ev1 = best_doc.join(ev1, how=\"inner\")\n",
    "d_ev2 = best_doc.join(ev2, how=\"inner\")\n",
    "d_ev3 = best_doc.join(ev3, how=\"inner\")\n",
    "\n",
    "smaj_ev1 = best_maj.join(ev1, how=\"inner\")\n",
    "smaj_ev2 = best_maj.join(ev2, how=\"inner\")\n",
    "smaj_ev3 = best_maj.join(ev3, how=\"inner\")\n",
    "\n",
    "smean_ev1 = best_mean.join(ev1, how=\"inner\")\n",
    "smean_ev2 = best_mean.join(ev2, how=\"inner\")\n",
    "smean_ev3 = best_mean.join(ev3, how=\"inner\")"
   ]
  },
  {
   "cell_type": "markdown",
   "id": "50c2f316-bd2a-4363-99f4-dda915d9a33e",
   "metadata": {},
   "source": [
    "## Doc"
   ]
  },
  {
   "cell_type": "code",
   "execution_count": 18,
   "id": "8211b8cc-34e0-499e-8b88-5fbf6c639500",
   "metadata": {},
   "outputs": [
    {
     "name": "stdout",
     "output_type": "stream",
     "text": [
      "              precision    recall  f1-score   support\n",
      "\n",
      "     REFUTES     0.5581    0.2143    0.3097       112\n",
      "    SUPPORTS     0.7789    0.6379    0.7014       243\n",
      "\n",
      "   micro avg     0.7397    0.5042    0.5997       355\n",
      "   macro avg     0.6685    0.4261    0.5055       355\n",
      "weighted avg     0.7092    0.5042    0.5778       355\n",
      "\n",
      "Accuracy:  0.5042\n"
     ]
    }
   ],
   "source": [
    "print_report(d_ev1)"
   ]
  },
  {
   "cell_type": "code",
   "execution_count": 19,
   "id": "aff3e0ce-2367-47c4-91f5-013a34171b21",
   "metadata": {},
   "outputs": [
    {
     "name": "stdout",
     "output_type": "stream",
     "text": [
      "              precision    recall  f1-score   support\n",
      "\n",
      "     REFUTES     0.7308    0.2603    0.3838        73\n",
      "    SUPPORTS     0.7876    0.7008    0.7417       127\n",
      "\n",
      "   micro avg     0.7770    0.5400    0.6372       200\n",
      "   macro avg     0.7592    0.4805    0.5628       200\n",
      "weighted avg     0.7669    0.5400    0.6111       200\n",
      "\n",
      "Accuracy:  0.54\n"
     ]
    }
   ],
   "source": [
    "print_report(d_ev2)"
   ]
  },
  {
   "cell_type": "code",
   "execution_count": 20,
   "id": "a6051b3e-9835-43c6-b8a1-487a99f05a57",
   "metadata": {},
   "outputs": [
    {
     "name": "stdout",
     "output_type": "stream",
     "text": [
      "              precision    recall  f1-score   support\n",
      "\n",
      "     REFUTES     0.7059    0.2308    0.3478        52\n",
      "    SUPPORTS     0.7634    0.8256    0.7933        86\n",
      "\n",
      "   micro avg     0.7545    0.6014    0.6694       138\n",
      "   macro avg     0.7347    0.5282    0.5706       138\n",
      "weighted avg     0.7418    0.6014    0.6254       138\n",
      "\n",
      "Accuracy:  0.6014\n"
     ]
    }
   ],
   "source": [
    "print_report(d_ev3)"
   ]
  },
  {
   "cell_type": "markdown",
   "id": "13c7cc3c-424a-4b4a-afa6-15aedfefbda5",
   "metadata": {},
   "source": [
    "## Sent - Majority"
   ]
  },
  {
   "cell_type": "code",
   "execution_count": 21,
   "id": "9fdc8d7b-fb47-4cae-ab4e-127418fe3a6c",
   "metadata": {},
   "outputs": [
    {
     "name": "stdout",
     "output_type": "stream",
     "text": [
      "              precision    recall  f1-score   support\n",
      "\n",
      "     REFUTES     0.6136    0.4821    0.5400       112\n",
      "    SUPPORTS     0.8194    0.7654    0.7915       243\n",
      "\n",
      "   micro avg     0.7619    0.6761    0.7164       355\n",
      "   macro avg     0.7165    0.6238    0.6657       355\n",
      "weighted avg     0.7545    0.6761    0.7121       355\n",
      "\n",
      "Accuracy:  0.6761\n"
     ]
    }
   ],
   "source": [
    "print_report(smaj_ev1)"
   ]
  },
  {
   "cell_type": "code",
   "execution_count": 22,
   "id": "1178e7de-8ffa-420e-b1c5-47d5e7854d64",
   "metadata": {},
   "outputs": [
    {
     "name": "stdout",
     "output_type": "stream",
     "text": [
      "              precision    recall  f1-score   support\n",
      "\n",
      "     REFUTES     0.6604    0.4795    0.5556        73\n",
      "    SUPPORTS     0.7463    0.7874    0.7663       127\n",
      "\n",
      "   micro avg     0.7219    0.6750    0.6977       200\n",
      "   macro avg     0.7033    0.6334    0.6609       200\n",
      "weighted avg     0.7149    0.6750    0.6894       200\n",
      "\n",
      "Accuracy:  0.675\n"
     ]
    }
   ],
   "source": [
    "print_report(smaj_ev2)"
   ]
  },
  {
   "cell_type": "code",
   "execution_count": 23,
   "id": "cbd42f40-c63b-4106-975b-d03a93d01ca1",
   "metadata": {},
   "outputs": [
    {
     "name": "stdout",
     "output_type": "stream",
     "text": [
      "              precision    recall  f1-score   support\n",
      "\n",
      "     REFUTES     0.6923    0.3462    0.4615        52\n",
      "    SUPPORTS     0.7449    0.8488    0.7935        86\n",
      "\n",
      "   micro avg     0.7339    0.6594    0.6947       138\n",
      "   macro avg     0.7186    0.5975    0.6275       138\n",
      "weighted avg     0.7251    0.6594    0.6684       138\n",
      "\n",
      "Accuracy:  0.6594\n"
     ]
    }
   ],
   "source": [
    "print_report(smaj_ev3)"
   ]
  },
  {
   "cell_type": "markdown",
   "id": "274e30a2-bcb6-4d88-b363-c34547ceaee8",
   "metadata": {},
   "source": [
    "## Sent - Mean Probability"
   ]
  },
  {
   "cell_type": "code",
   "execution_count": 24,
   "id": "fbd651af-ed11-43cf-b7ff-d4584887b348",
   "metadata": {},
   "outputs": [
    {
     "name": "stdout",
     "output_type": "stream",
     "text": [
      "              precision    recall  f1-score   support\n",
      "\n",
      "     REFUTES     0.5676    0.3750    0.4516       112\n",
      "    SUPPORTS     0.8225    0.5720    0.6748       243\n",
      "\n",
      "   micro avg     0.7449    0.5099    0.6054       355\n",
      "   macro avg     0.6950    0.4735    0.5632       355\n",
      "weighted avg     0.7421    0.5099    0.6044       355\n",
      "\n",
      "Accuracy:  0.5099\n"
     ]
    }
   ],
   "source": [
    "print_report(smean_ev1)"
   ]
  },
  {
   "cell_type": "code",
   "execution_count": 25,
   "id": "339a5472-1c5d-40b7-b159-787862e93450",
   "metadata": {},
   "outputs": [
    {
     "name": "stdout",
     "output_type": "stream",
     "text": [
      "              precision    recall  f1-score   support\n",
      "\n",
      "     REFUTES     0.6316    0.3288    0.4324        73\n",
      "    SUPPORTS     0.7727    0.6693    0.7173       127\n",
      "\n",
      "   micro avg     0.7365    0.5450    0.6264       200\n",
      "   macro avg     0.7022    0.4990    0.5749       200\n",
      "weighted avg     0.7212    0.5450    0.6133       200\n",
      "\n",
      "Accuracy:  0.545\n"
     ]
    }
   ],
   "source": [
    "print_report(smean_ev2)"
   ]
  },
  {
   "cell_type": "code",
   "execution_count": 26,
   "id": "f0983a18-db2a-4aa8-9aab-ece68f70d7e6",
   "metadata": {},
   "outputs": [
    {
     "name": "stdout",
     "output_type": "stream",
     "text": [
      "              precision    recall  f1-score   support\n",
      "\n",
      "     REFUTES     0.7500    0.4038    0.5250        52\n",
      "    SUPPORTS     0.7875    0.7326    0.7590        86\n",
      "\n",
      "   micro avg     0.7778    0.6087    0.6829       138\n",
      "   macro avg     0.7688    0.5682    0.6420       138\n",
      "weighted avg     0.7734    0.6087    0.6708       138\n",
      "\n",
      "Accuracy:  0.6087\n"
     ]
    }
   ],
   "source": [
    "print_report(smean_ev3)"
   ]
  },
  {
   "cell_type": "code",
   "execution_count": null,
   "id": "85ce983a-8984-468a-a116-71049d871990",
   "metadata": {},
   "outputs": [],
   "source": []
  }
 ],
 "metadata": {
  "kernelspec": {
   "display_name": "Python 3 (ipykernel)",
   "language": "python",
   "name": "python3"
  },
  "language_info": {
   "codemirror_mode": {
    "name": "ipython",
    "version": 3
   },
   "file_extension": ".py",
   "mimetype": "text/x-python",
   "name": "python",
   "nbconvert_exporter": "python",
   "pygments_lexer": "ipython3",
   "version": "3.8.16"
  }
 },
 "nbformat": 4,
 "nbformat_minor": 5
}
