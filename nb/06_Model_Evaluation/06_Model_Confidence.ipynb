{
 "cells": [
  {
   "cell_type": "code",
   "execution_count": 1,
   "id": "fe073742-bfa3-487b-bbe4-6f75ce53b9a6",
   "metadata": {},
   "outputs": [],
   "source": [
    "import sys\n",
    "sys.path.insert(0, \"../src\")\n",
    "import pickle as pkl\n",
    "from pathlib import Path\n",
    "from collections import Counter\n",
    "from functools import partial\n",
    "\n",
    "import numpy as np\n",
    "import pandas as pd\n",
    "from joblib import Parallel, delayed\n",
    "\n",
    "from scipy.special import kl_div\n",
    "\n",
    "import constants\n",
    "from gen.util import read_data, write_jsonl\n",
    "from rte.aggregate import agg_predict, agg_predict_proba"
   ]
  },
  {
   "cell_type": "markdown",
   "id": "b783534e-dd40-4965-9aca-ea1330ceb948",
   "metadata": {},
   "source": [
    "# Init"
   ]
  },
  {
   "cell_type": "code",
   "execution_count": 2,
   "id": "ae3d02e9-eb8e-4374-870b-0ec408160f24",
   "metadata": {},
   "outputs": [],
   "source": [
    "sf_actual = pd.DataFrame(read_data(Path(\"/users/k21190024/study/fact-check-transfer-learning/scratch/dumps/feverised-scifact/scifact_all.jsonl\")))\n",
    "sf_actual[\"claim_id\"] = \"scifact|\" + sf_actual[\"id\"].astype(str)\n",
    "sf_actual = sf_actual.rename(columns={\"label\": \"predicted_label\"})\n",
    "\n",
    "sf_doc = Path(\"/users/k21190024/study/fact-check-transfer-learning/scratch/thesis/predictions/doc/scifact\")\n",
    "sf_pipe_doc = Path(\"/users/k21190024/study/fact-check-transfer-learning/scratch/thesis/predictions/doc/scifactpipeline\")\n",
    "\n",
    "sf_sent = Path(\"/users/k21190024/study/fact-check-transfer-learning/scratch/thesis/predictions/sent/scifact\")\n",
    "sf_pipe_sent = Path(\"/users/k21190024/study/fact-check-transfer-learning/scratch/thesis/predictions/sent/scifactpipeline\")"
   ]
  },
  {
   "cell_type": "code",
   "execution_count": 3,
   "id": "899171ce-04b9-4196-a830-8b2764a9748c",
   "metadata": {},
   "outputs": [],
   "source": [
    "def extract_model_dataset(fname):\n",
    "    tok = fname.split(\"-\")\n",
    "    dataset = \"-\".join([tok[0], tok[1] if \"climatefever\" in tok[1] else \"\"]).strip(\"-\")\n",
    "    \n",
    "    model = None\n",
    "    if \"xlnet\" in fname:\n",
    "        model = \"xlnet\"\n",
    "    elif \"bert\" in fname:\n",
    "        model = \"bert\"\n",
    "    else:\n",
    "        model = \"da\"\n",
    "    \n",
    "    return model, dataset"
   ]
  },
  {
   "cell_type": "markdown",
   "id": "3aef4775-ccf8-41aa-bf6c-34030222bc1d",
   "metadata": {},
   "source": [
    "## Archive\n",
    "\n",
    "For all correctly labelled instances, measure the model confidence\n",
    "\n",
    "```doc_ls.pivot_table(index=[\"dataset\", \"model\"], columns=[\"predicted_label\"], values=\"label_proba\", aggfunc=[\"count\", \"min\", \"mean\", \"std\"]).reset_index().to_csv(\"tmp.csv\")```"
   ]
  },
  {
   "cell_type": "markdown",
   "id": "28f9ca9d-1e40-4367-805c-a52698a85bc1",
   "metadata": {},
   "source": [
    "# Document"
   ]
  },
  {
   "cell_type": "code",
   "execution_count": 4,
   "id": "ca178514-5eec-4164-b9d6-b90fce0a9837",
   "metadata": {},
   "outputs": [],
   "source": [
    "def doc_proba(fn, sf, correct_only=False):\n",
    "    pred = pd.DataFrame(read_data(fn))\n",
    "    pred[\"model\"], pred[\"dataset\"] = extract_model_dataset(fn.stem)\n",
    "    pred[\"label_proba\"] = pred[\"predicted_proba\"].apply(lambda x: max(x))\n",
    "    if \"predicted\" in pred:\n",
    "        pred = pred.rename(columns={\"predicted\": \"predicted_label\"})\n",
    "    if correct_only:\n",
    "        pred = pred.merge(sf[[\"claim_id\", \"predicted_label\"]], on=[\"claim_id\", \"predicted_label\"], how=\"inner\")\n",
    "    pred[\"predicted_label\"] = pred[\"predicted_label\"].map(constants.LABEL2ID)\n",
    "    \n",
    "    return pred"
   ]
  },
  {
   "cell_type": "code",
   "execution_count": 5,
   "id": "c17415df-1fcc-468c-b1d9-05c32337fbae",
   "metadata": {},
   "outputs": [],
   "source": [
    "doc_ls = pd.concat(Parallel()(delayed(doc_proba)(p, sf_actual) for p in sf_doc.glob(\"*.all*\")))\n",
    "doc_pipe_ls = pd.concat(Parallel()(delayed(doc_proba)(p, sf_actual) for p in sf_pipe_doc.glob(\"*.all*\")))"
   ]
  },
  {
   "cell_type": "code",
   "execution_count": 6,
   "id": "e912c79a-2933-4a6e-b90f-6a02e2a933cc",
   "metadata": {},
   "outputs": [],
   "source": [
    "doc_c_ls = pd.concat(Parallel()(delayed(doc_proba)(p, sf_actual, True) for p in sf_doc.glob(\"*.all*\")))\n",
    "doc_c_pipe_ls = pd.concat(Parallel()(delayed(doc_proba)(p, sf_actual, True) for p in sf_pipe_doc.glob(\"*.all*\")))"
   ]
  },
  {
   "cell_type": "markdown",
   "id": "f855b15e-7af9-406b-a310-4dff22280fd9",
   "metadata": {},
   "source": [
    "# Sentence"
   ]
  },
  {
   "cell_type": "markdown",
   "id": "5b682124-6999-465c-b2a3-13d2f1a210d7",
   "metadata": {},
   "source": [
    "## Majority"
   ]
  },
  {
   "cell_type": "code",
   "execution_count": 7,
   "id": "ae9756fd-2064-42df-ab88-bf5967ed58e1",
   "metadata": {},
   "outputs": [],
   "source": [
    "def majority_proba(fn, sf, correct_only=False):\n",
    "    pred = pd.DataFrame(read_data(fn))\n",
    "    pred[\"predicted_label\"] = pred[\"predicted_label\"].map(constants.LABEL2ID)\n",
    "    pred[\"predicted_proba\"] = pred[\"predicted_proba\"].apply(np.array)\n",
    "    pred = pred.groupby(\"claim_id\", as_index=False, sort=False).agg({\"predicted_proba\": np.stack, \"predicted_label\": agg_predict})\n",
    "    \n",
    "    pred[\"_labls\"] = pred[\"predicted_proba\"].apply(lambda x: np.argmax(x, axis=1))\n",
    "    pred[\"_probls\"] = pred[\"predicted_proba\"].apply(lambda x: np.max(x, axis=1))\n",
    "    pred[\"_filter\"] = pred[[\"predicted_label\", \"_labls\"]].apply(lambda x: np.array([i == x[\"predicted_label\"] for i in x[\"_labls\"]]), axis=1)\n",
    "    \n",
    "    pred[\"label_proba\"] = pred[[\"_probls\", \"_filter\"]].apply(lambda x: np.mean(x[\"_probls\"][x[\"_filter\"]]), axis=1)\n",
    "    pred[\"predicted_label\"] = pred[\"predicted_label\"].map(constants.ID2LABEL)\n",
    "    if correct_only:\n",
    "        pred = pred.merge(sf[[\"claim_id\", \"predicted_label\"]], on=[\"claim_id\", \"predicted_label\"], how=\"inner\")\n",
    "    pred[\"predicted_label\"] = pred[\"predicted_label\"].map(constants.LABEL2ID)\n",
    "    \n",
    "    pred = pred.drop(columns=[c for c in pred.columns if c.startswith(\"_\")])\n",
    "    pred[\"model\"], pred[\"dataset\"] = extract_model_dataset(fn.stem)\n",
    "    # impute equal S/R counts as predicted NEI with mean of NEI\n",
    "    pred.loc[pred[\"label_proba\"].isnull()] = pred.loc[pred[\"predicted_label\"] == constants.LABEL2ID[constants.LOOKUP[\"label\"][\"nei\"]], \"label_proba\"].mean()\n",
    "    \n",
    "    return pred"
   ]
  },
  {
   "cell_type": "code",
   "execution_count": 8,
   "id": "03177220-4393-4391-8c07-e6b59e30e122",
   "metadata": {
    "collapsed": true,
    "jupyter": {
     "outputs_hidden": true
    },
    "tags": []
   },
   "outputs": [
    {
     "name": "stderr",
     "output_type": "stream",
     "text": [
      "/scratch/users/k21190024/envs/conda/p-dis-torch/lib/python3.8/site-packages/numpy/core/fromnumeric.py:3432: RuntimeWarning: Mean of empty slice.\n",
      "  return _methods._mean(a, axis=axis, dtype=dtype,\n",
      "/scratch/users/k21190024/envs/conda/p-dis-torch/lib/python3.8/site-packages/numpy/core/_methods.py:190: RuntimeWarning: invalid value encountered in double_scalars\n",
      "  ret = ret.dtype.type(ret / rcount)\n",
      "/scratch/users/k21190024/envs/conda/p-dis-torch/lib/python3.8/site-packages/numpy/core/fromnumeric.py:3432: RuntimeWarning: Mean of empty slice.\n",
      "  return _methods._mean(a, axis=axis, dtype=dtype,\n",
      "/scratch/users/k21190024/envs/conda/p-dis-torch/lib/python3.8/site-packages/numpy/core/_methods.py:190: RuntimeWarning: invalid value encountered in double_scalars\n",
      "  ret = ret.dtype.type(ret / rcount)\n",
      "/scratch/users/k21190024/envs/conda/p-dis-torch/lib/python3.8/site-packages/numpy/core/fromnumeric.py:3432: RuntimeWarning: Mean of empty slice.\n",
      "  return _methods._mean(a, axis=axis, dtype=dtype,\n",
      "/scratch/users/k21190024/envs/conda/p-dis-torch/lib/python3.8/site-packages/numpy/core/_methods.py:190: RuntimeWarning: invalid value encountered in double_scalars\n",
      "  ret = ret.dtype.type(ret / rcount)\n",
      "/scratch/users/k21190024/envs/conda/p-dis-torch/lib/python3.8/site-packages/numpy/core/fromnumeric.py:3432: RuntimeWarning: Mean of empty slice.\n",
      "  return _methods._mean(a, axis=axis, dtype=dtype,\n",
      "/scratch/users/k21190024/envs/conda/p-dis-torch/lib/python3.8/site-packages/numpy/core/_methods.py:190: RuntimeWarning: invalid value encountered in double_scalars\n",
      "  ret = ret.dtype.type(ret / rcount)\n",
      "/scratch/users/k21190024/envs/conda/p-dis-torch/lib/python3.8/site-packages/numpy/core/fromnumeric.py:3432: RuntimeWarning: Mean of empty slice.\n",
      "  return _methods._mean(a, axis=axis, dtype=dtype,\n",
      "/scratch/users/k21190024/envs/conda/p-dis-torch/lib/python3.8/site-packages/numpy/core/_methods.py:190: RuntimeWarning: invalid value encountered in double_scalars\n",
      "  ret = ret.dtype.type(ret / rcount)\n",
      "/scratch/users/k21190024/envs/conda/p-dis-torch/lib/python3.8/site-packages/numpy/core/fromnumeric.py:3432: RuntimeWarning: Mean of empty slice.\n",
      "  return _methods._mean(a, axis=axis, dtype=dtype,\n",
      "/scratch/users/k21190024/envs/conda/p-dis-torch/lib/python3.8/site-packages/numpy/core/_methods.py:190: RuntimeWarning: invalid value encountered in double_scalars\n",
      "  ret = ret.dtype.type(ret / rcount)\n",
      "/scratch/users/k21190024/envs/conda/p-dis-torch/lib/python3.8/site-packages/numpy/core/fromnumeric.py:3432: RuntimeWarning: Mean of empty slice.\n",
      "  return _methods._mean(a, axis=axis, dtype=dtype,\n",
      "/scratch/users/k21190024/envs/conda/p-dis-torch/lib/python3.8/site-packages/numpy/core/_methods.py:190: RuntimeWarning: invalid value encountered in double_scalars\n",
      "  ret = ret.dtype.type(ret / rcount)\n",
      "/scratch/users/k21190024/envs/conda/p-dis-torch/lib/python3.8/site-packages/numpy/core/fromnumeric.py:3432: RuntimeWarning: Mean of empty slice.\n",
      "  return _methods._mean(a, axis=axis, dtype=dtype,\n",
      "/scratch/users/k21190024/envs/conda/p-dis-torch/lib/python3.8/site-packages/numpy/core/_methods.py:190: RuntimeWarning: invalid value encountered in double_scalars\n",
      "  ret = ret.dtype.type(ret / rcount)\n",
      "/scratch/users/k21190024/envs/conda/p-dis-torch/lib/python3.8/site-packages/numpy/core/fromnumeric.py:3432: RuntimeWarning: Mean of empty slice.\n",
      "  return _methods._mean(a, axis=axis, dtype=dtype,\n",
      "/scratch/users/k21190024/envs/conda/p-dis-torch/lib/python3.8/site-packages/numpy/core/_methods.py:190: RuntimeWarning: invalid value encountered in double_scalars\n",
      "  ret = ret.dtype.type(ret / rcount)\n",
      "/scratch/users/k21190024/envs/conda/p-dis-torch/lib/python3.8/site-packages/numpy/core/fromnumeric.py:3432: RuntimeWarning: Mean of empty slice.\n",
      "  return _methods._mean(a, axis=axis, dtype=dtype,\n",
      "/scratch/users/k21190024/envs/conda/p-dis-torch/lib/python3.8/site-packages/numpy/core/_methods.py:190: RuntimeWarning: invalid value encountered in double_scalars\n",
      "  ret = ret.dtype.type(ret / rcount)\n"
     ]
    }
   ],
   "source": [
    "maj_ls = pd.concat(Parallel()(delayed(majority_proba)(p, sf_actual) for p in sf_sent.glob(\"*.all*\")))\n",
    "maj_pipe_ls = pd.concat(Parallel()(delayed(majority_proba)(p, sf_actual) for p in sf_pipe_sent.glob(\"*.all*\")))"
   ]
  },
  {
   "cell_type": "code",
   "execution_count": 9,
   "id": "d4892af3-0f9e-4b70-985c-124e784906c3",
   "metadata": {
    "collapsed": true,
    "jupyter": {
     "outputs_hidden": true
    },
    "tags": []
   },
   "outputs": [
    {
     "name": "stderr",
     "output_type": "stream",
     "text": [
      "/scratch/users/k21190024/envs/conda/p-dis-torch/lib/python3.8/site-packages/numpy/core/fromnumeric.py:3432: RuntimeWarning: Mean of empty slice.\n",
      "  return _methods._mean(a, axis=axis, dtype=dtype,\n",
      "/scratch/users/k21190024/envs/conda/p-dis-torch/lib/python3.8/site-packages/numpy/core/_methods.py:190: RuntimeWarning: invalid value encountered in double_scalars\n",
      "  ret = ret.dtype.type(ret / rcount)\n",
      "/scratch/users/k21190024/envs/conda/p-dis-torch/lib/python3.8/site-packages/numpy/core/fromnumeric.py:3432: RuntimeWarning: Mean of empty slice.\n",
      "  return _methods._mean(a, axis=axis, dtype=dtype,\n",
      "/scratch/users/k21190024/envs/conda/p-dis-torch/lib/python3.8/site-packages/numpy/core/_methods.py:190: RuntimeWarning: invalid value encountered in double_scalars\n",
      "  ret = ret.dtype.type(ret / rcount)\n",
      "/scratch/users/k21190024/envs/conda/p-dis-torch/lib/python3.8/site-packages/numpy/core/fromnumeric.py:3432: RuntimeWarning: Mean of empty slice.\n",
      "  return _methods._mean(a, axis=axis, dtype=dtype,\n",
      "/scratch/users/k21190024/envs/conda/p-dis-torch/lib/python3.8/site-packages/numpy/core/_methods.py:190: RuntimeWarning: invalid value encountered in double_scalars\n",
      "  ret = ret.dtype.type(ret / rcount)\n",
      "/scratch/users/k21190024/envs/conda/p-dis-torch/lib/python3.8/site-packages/numpy/core/fromnumeric.py:3432: RuntimeWarning: Mean of empty slice.\n",
      "  return _methods._mean(a, axis=axis, dtype=dtype,\n",
      "/scratch/users/k21190024/envs/conda/p-dis-torch/lib/python3.8/site-packages/numpy/core/_methods.py:190: RuntimeWarning: invalid value encountered in double_scalars\n",
      "  ret = ret.dtype.type(ret / rcount)\n",
      "/scratch/users/k21190024/envs/conda/p-dis-torch/lib/python3.8/site-packages/numpy/core/fromnumeric.py:3432: RuntimeWarning: Mean of empty slice.\n",
      "  return _methods._mean(a, axis=axis, dtype=dtype,\n",
      "/scratch/users/k21190024/envs/conda/p-dis-torch/lib/python3.8/site-packages/numpy/core/_methods.py:190: RuntimeWarning: invalid value encountered in double_scalars\n",
      "  ret = ret.dtype.type(ret / rcount)\n",
      "/scratch/users/k21190024/envs/conda/p-dis-torch/lib/python3.8/site-packages/numpy/core/fromnumeric.py:3432: RuntimeWarning: Mean of empty slice.\n",
      "  return _methods._mean(a, axis=axis, dtype=dtype,\n",
      "/scratch/users/k21190024/envs/conda/p-dis-torch/lib/python3.8/site-packages/numpy/core/_methods.py:190: RuntimeWarning: invalid value encountered in double_scalars\n",
      "  ret = ret.dtype.type(ret / rcount)\n",
      "/scratch/users/k21190024/envs/conda/p-dis-torch/lib/python3.8/site-packages/numpy/core/fromnumeric.py:3432: RuntimeWarning: Mean of empty slice.\n",
      "  return _methods._mean(a, axis=axis, dtype=dtype,\n",
      "/scratch/users/k21190024/envs/conda/p-dis-torch/lib/python3.8/site-packages/numpy/core/_methods.py:190: RuntimeWarning: invalid value encountered in double_scalars\n",
      "  ret = ret.dtype.type(ret / rcount)\n",
      "/scratch/users/k21190024/envs/conda/p-dis-torch/lib/python3.8/site-packages/numpy/core/fromnumeric.py:3432: RuntimeWarning: Mean of empty slice.\n",
      "  return _methods._mean(a, axis=axis, dtype=dtype,\n",
      "/scratch/users/k21190024/envs/conda/p-dis-torch/lib/python3.8/site-packages/numpy/core/_methods.py:190: RuntimeWarning: invalid value encountered in double_scalars\n",
      "  ret = ret.dtype.type(ret / rcount)\n",
      "/scratch/users/k21190024/envs/conda/p-dis-torch/lib/python3.8/site-packages/numpy/core/fromnumeric.py:3432: RuntimeWarning: Mean of empty slice.\n",
      "  return _methods._mean(a, axis=axis, dtype=dtype,\n",
      "/scratch/users/k21190024/envs/conda/p-dis-torch/lib/python3.8/site-packages/numpy/core/_methods.py:190: RuntimeWarning: invalid value encountered in double_scalars\n",
      "  ret = ret.dtype.type(ret / rcount)\n",
      "/scratch/users/k21190024/envs/conda/p-dis-torch/lib/python3.8/site-packages/numpy/core/fromnumeric.py:3432: RuntimeWarning: Mean of empty slice.\n",
      "  return _methods._mean(a, axis=axis, dtype=dtype,\n",
      "/scratch/users/k21190024/envs/conda/p-dis-torch/lib/python3.8/site-packages/numpy/core/_methods.py:190: RuntimeWarning: invalid value encountered in double_scalars\n",
      "  ret = ret.dtype.type(ret / rcount)\n"
     ]
    }
   ],
   "source": [
    "maj_c_ls = pd.concat(Parallel()(delayed(majority_proba)(p, sf_actual, True) for p in sf_sent.glob(\"*.all*\")))\n",
    "maj_c_pipe_ls = pd.concat(Parallel()(delayed(majority_proba)(p, sf_actual, True) for p in sf_pipe_sent.glob(\"*.all*\")))"
   ]
  },
  {
   "cell_type": "markdown",
   "id": "487fe2b6-8535-43bc-90f6-b2038069e87a",
   "metadata": {},
   "source": [
    "## Mean proba"
   ]
  },
  {
   "cell_type": "code",
   "execution_count": 10,
   "id": "cd4aceed-ec1d-42fa-90d8-0f02591650ba",
   "metadata": {},
   "outputs": [],
   "source": [
    "def meanproba_proba(fn, sf, correct_only=False):\n",
    "    pred = pd.DataFrame(read_data(fn))\n",
    "    ret_proba = partial(agg_predict_proba, return_proba=True)\n",
    "    pred = pred.groupby(\"claim_id\", as_index=False, sort=False).agg({\"predicted_proba\": ret_proba})\n",
    "    pred[\"label_proba\"] = pred[\"predicted_proba\"].apply(np.max)\n",
    "    pred[\"predicted_label\"] = pred[\"predicted_proba\"].apply(np.argmax).map(constants.ID2LABEL)\n",
    "    \n",
    "    pred[\"model\"], pred[\"dataset\"] = extract_model_dataset(fn.stem)\n",
    "    if correct_only:\n",
    "        pred = pred.merge(sf[[\"claim_id\", \"predicted_label\"]], on=[\"claim_id\", \"predicted_label\"], how=\"inner\")\n",
    "    pred[\"predicted_label\"] = pred[\"predicted_label\"].map(constants.LABEL2ID)\n",
    "    \n",
    "    return pred"
   ]
  },
  {
   "cell_type": "code",
   "execution_count": 11,
   "id": "0c83ac73-2822-4e5d-b6cf-1abe928e9c09",
   "metadata": {},
   "outputs": [],
   "source": [
    "mp_ls = pd.concat(Parallel()(delayed(meanproba_proba)(p, sf_actual) for p in sf_sent.glob(\"*.all*\")))\n",
    "mp_pipe_ls = pd.concat(Parallel()(delayed(meanproba_proba)(p, sf_actual) for p in sf_pipe_sent.glob(\"*.all*\")))"
   ]
  },
  {
   "cell_type": "code",
   "execution_count": 12,
   "id": "7c8b5963-ac91-4172-9260-67baa8b77bac",
   "metadata": {},
   "outputs": [],
   "source": [
    "mp_c_ls = pd.concat(Parallel()(delayed(meanproba_proba)(p, sf_actual, True) for p in sf_sent.glob(\"*.all*\")))\n",
    "mp_c_pipe_ls = pd.concat(Parallel()(delayed(meanproba_proba)(p, sf_actual, True) for p in sf_pipe_sent.glob(\"*.all*\")))"
   ]
  }
 ],
 "metadata": {
  "kernelspec": {
   "display_name": "Python 3 (ipykernel)",
   "language": "python",
   "name": "python3"
  },
  "language_info": {
   "codemirror_mode": {
    "name": "ipython",
    "version": 3
   },
   "file_extension": ".py",
   "mimetype": "text/x-python",
   "name": "python",
   "nbconvert_exporter": "python",
   "pygments_lexer": "ipython3",
   "version": "3.8.16"
  }
 },
 "nbformat": 4,
 "nbformat_minor": 5
}
