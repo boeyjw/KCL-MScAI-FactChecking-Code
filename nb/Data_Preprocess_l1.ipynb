{
 "cells": [
  {
   "cell_type": "code",
   "execution_count": 1,
   "metadata": {
    "tags": []
   },
   "outputs": [],
   "source": [
    "import gzip\n",
    "import json\n",
    "import os\n",
    "\n",
    "from pathlib import Path\n",
    "from pprint import pprint\n",
    "from copy import deepcopy\n",
    "\n",
    "from joblib import Parallel, delayed"
   ]
  },
  {
   "cell_type": "code",
   "execution_count": 2,
   "metadata": {
    "tags": []
   },
   "outputs": [],
   "source": [
    "datap = Path(\"/users/k21190024/study/fact-check-transfer-learning/scratch/data2\")\n",
    "procp = Path(\"/users/k21190024/study/fact-check-transfer-learning/scratch/dumps/data/level/1\")"
   ]
  },
  {
   "cell_type": "code",
   "execution_count": 3,
   "metadata": {
    "tags": []
   },
   "outputs": [],
   "source": [
    "def read_gzip_data(fp):\n",
    "    with gzip.GzipFile(fp, \"r\") as gzfn:\n",
    "        data = [json.loads(l.decode(\"utf8\")) for l in gzfn.readlines()]\n",
    "    return data\n",
    "\n",
    "def write_gzip_data(fp, payload):\n",
    "    with gzip.GzipFile(fp, \"w\") as gzfn:\n",
    "        gzfn.write(json.dumps(payload).encode(\"utf-8\"))\n",
    "    return fp"
   ]
  },
  {
   "cell_type": "markdown",
   "metadata": {},
   "source": [
    "# FEVER"
   ]
  },
  {
   "cell_type": "code",
   "execution_count": 4,
   "metadata": {
    "tags": []
   },
   "outputs": [],
   "source": [
    "feverp = datap.joinpath(\"fever\")\n",
    "\n",
    "fever_proc = procp.joinpath(\"fever\")\n",
    "fever_corpus_proc = fever_proc.joinpath(\"corpus\")\n",
    "\n",
    "if not fever_corpus_proc.exists():\n",
    "    fever_corpus_proc.mkdir(parents=True)"
   ]
  },
  {
   "cell_type": "markdown",
   "metadata": {},
   "source": [
    "## Corpus"
   ]
  },
  {
   "cell_type": "code",
   "execution_count": 27,
   "metadata": {
    "tags": []
   },
   "outputs": [],
   "source": [
    "def fever_corpus_preproc(fin, fout):\n",
    "    wiki = read_gzip_data(fin)\n",
    "    for i in range(len(wiki)):\n",
    "        lines = wiki[i][\"lines\"].strip().split(\"\\n\")\n",
    "        lines = [l.split(\"\\t\") for l in lines]\n",
    "        lines = [[l[0], l[1], list(set(l[2:]))] for l in lines if len(l) > 2]\n",
    "        wiki[i][\"lines\"] = lines\n",
    "    return write_gzip_data(fout.joinpath(fin.name), wiki)"
   ]
  },
  {
   "cell_type": "code",
   "execution_count": 34,
   "metadata": {
    "tags": []
   },
   "outputs": [
    {
     "name": "stderr",
     "output_type": "stream",
     "text": [
      "[Parallel(n_jobs=20)]: Using backend LokyBackend with 20 concurrent workers.\n",
      "[Parallel(n_jobs=20)]: Done  10 tasks      | elapsed:   13.3s\n",
      "[Parallel(n_jobs=20)]: Done 109 out of 109 | elapsed:  1.1min finished\n"
     ]
    },
    {
     "data": {
      "text/plain": [
       "109"
      ]
     },
     "execution_count": 34,
     "metadata": {},
     "output_type": "execute_result"
    }
   ],
   "source": [
    "wiki = feverp.joinpath(\"wiki-pages\")\n",
    "\n",
    "fcorpus_col = Parallel(n_jobs=20, verbose=1)(delayed(fever_corpus_preproc)(fp, fever_corpus_proc) for fp in wiki.iterdir())\n",
    "len(fcorpus_col)"
   ]
  },
  {
   "cell_type": "markdown",
   "metadata": {},
   "source": [
    "## Claims"
   ]
  },
  {
   "cell_type": "markdown",
   "metadata": {},
   "source": [
    "### Labelled"
   ]
  },
  {
   "cell_type": "code",
   "execution_count": 25,
   "metadata": {
    "tags": []
   },
   "outputs": [],
   "source": [
    "fn = \"train.jsonl\"\n",
    "ftrain = read_gzip_data(feverp.joinpath(fn + \".gz\"))\n",
    "for i in range(len(ftrain)):\n",
    "    ftrain[i][\"paper_partition\"] = \"train\""
   ]
  },
  {
   "cell_type": "code",
   "execution_count": 26,
   "metadata": {
    "tags": []
   },
   "outputs": [],
   "source": [
    "fn = \"paper_dev.jsonl\"\n",
    "feverstpaperdev = read_gzip_data(feverp.joinpath(fn + \".gz\"))\n",
    "for i in range(len(feverstpaperdev)):\n",
    "    feverstpaperdev[i][\"paper_partition\"] = \"dev\""
   ]
  },
  {
   "cell_type": "code",
   "execution_count": 27,
   "metadata": {
    "tags": []
   },
   "outputs": [],
   "source": [
    "fn = \"paper_test.jsonl\"\n",
    "feverstpapertest = read_gzip_data(feverp.joinpath(fn + \".gz\"))\n",
    "for i in range(len(feverstpapertest)):\n",
    "    feverstpapertest[i][\"paper_partition\"] = \"test\""
   ]
  },
  {
   "cell_type": "code",
   "execution_count": 28,
   "metadata": {
    "tags": []
   },
   "outputs": [
    {
     "data": {
      "text/plain": [
       "PosixPath('/users/k21190024/study/fact-check-transfer-learning/scratch/dumps/data/level/1/fever/fulltrain.json.gz')"
      ]
     },
     "execution_count": 28,
     "metadata": {},
     "output_type": "execute_result"
    }
   ],
   "source": [
    "feverdata = ftrain + feverstpaperdev + feverstpapertest\n",
    "write_gzip_data(fever_proc.joinpath(\"fulltrain.json.gz\"), feverdata)"
   ]
  },
  {
   "cell_type": "markdown",
   "metadata": {},
   "source": [
    "### Unlabelled test set"
   ]
  },
  {
   "cell_type": "code",
   "execution_count": 29,
   "metadata": {
    "tags": []
   },
   "outputs": [
    {
     "data": {
      "text/plain": [
       "PosixPath('/users/k21190024/study/fact-check-transfer-learning/scratch/dumps/data/level/1/fever/truetest.json.gz')"
      ]
     },
     "execution_count": 29,
     "metadata": {},
     "output_type": "execute_result"
    }
   ],
   "source": [
    "# unlabelled test set\n",
    "\n",
    "fn = \"shared_task_test.jsonl\"\n",
    "feversttest = read_gzip_data(feverp.joinpath(fn + \".gz\"))\n",
    "write_gzip_data(fever_proc.joinpath(\"truetest.json.gz\"), feversttest)"
   ]
  },
  {
   "cell_type": "markdown",
   "metadata": {},
   "source": [
    "### Unlabelled paper_dev + paper_test"
   ]
  },
  {
   "cell_type": "code",
   "execution_count": 30,
   "metadata": {
    "tags": []
   },
   "outputs": [
    {
     "data": {
      "text/plain": [
       "PosixPath('/users/k21190024/study/fact-check-transfer-learning/scratch/dumps/data/level/1/fever/paperdevtest_unlabelled.json.gz')"
      ]
     },
     "execution_count": 30,
     "metadata": {},
     "output_type": "execute_result"
    }
   ],
   "source": [
    "# unlabelled paper_dev + paper_test\n",
    "\n",
    "fn = \"shared_task_dev_public.jsonl\"\n",
    "feverstdevpub = read_gzip_data(feverp.joinpath(fn + \".gz\"))\n",
    "write_gzip_data(fever_proc.joinpath(\"paperdevtest_unlabelled.json.gz\"), feverstdevpub)"
   ]
  },
  {
   "cell_type": "markdown",
   "metadata": {},
   "source": [
    "# SciFact"
   ]
  },
  {
   "cell_type": "code",
   "execution_count": 18,
   "metadata": {},
   "outputs": [],
   "source": [
    "def scifact_preproc(doc, corpus_col):\n",
    "    \"\"\"\n",
    "    Preprocess SciFact claims to include support into each claim document for ease of processing later\n",
    "    \"\"\"\n",
    "    if \"evidence\" not in doc:\n",
    "        return doc\n",
    "    for iind, i in enumerate(doc[\"cited_doc_ids\"]):\n",
    "        cite = corpus_col.find_one({\"doc_id\": i})\n",
    "        if doc[\"evidence\"] and str(i) in doc[\"evidence\"]:\n",
    "            for jind, j in enumerate(doc[\"evidence\"][str(i)]):\n",
    "                sentences = [cite[\"abstract\"][k] for k in j[\"sentences\"]]\n",
    "                doc[\"evidence\"][str(i)][jind][\"sentences\"] = sentences\n",
    "        del cite[\"_id\"]\n",
    "        doc[\"cited_doc_ids\"][iind] = cite\n",
    "    return doc"
   ]
  },
  {
   "cell_type": "code",
   "execution_count": 17,
   "metadata": {
    "tags": []
   },
   "outputs": [],
   "source": [
    "sfp = datap.joinpath(\"scifact\")\n",
    "sfoutp = procp.joinpath(\"scifact\")\n",
    "\n",
    "if not sfoutp.exists():\n",
    "    sfoutp.mkdir()"
   ]
  },
  {
   "cell_type": "code",
   "execution_count": 22,
   "metadata": {
    "tags": []
   },
   "outputs": [
    {
     "data": {
      "text/plain": [
       "PosixPath('/users/k21190024/study/fact-check-transfer-learning/scratch/dumps/data/level/1/scifact/corpus.jsonl.gz')"
      ]
     },
     "execution_count": 22,
     "metadata": {},
     "output_type": "execute_result"
    }
   ],
   "source": [
    "fn = \"corpus.jsonl\"\n",
    "sf_corpus = read_gzip_data(sfp.joinpath(fn + \".gz\"))\n",
    "for i in range(len(sf_corpus)):\n",
    "    sf_corpus[i][\"abstract\"] = [l.strip() for l in sf_corpus[i][\"abstract\"]]\n",
    "\n",
    "write_gzip_data(sfoutp.joinpath(fn + \".gz\"), sf_corpus)"
   ]
  }
 ],
 "metadata": {
  "kernelspec": {
   "display_name": "Python 3 (ipykernel)",
   "language": "python",
   "name": "python3"
  },
  "language_info": {
   "codemirror_mode": {
    "name": "ipython",
    "version": 3
   },
   "file_extension": ".py",
   "mimetype": "text/x-python",
   "name": "python",
   "nbconvert_exporter": "python",
   "pygments_lexer": "ipython3",
   "version": "3.8.12"
  },
  "vscode": {
   "interpreter": {
    "hash": "93dd4b281245a7d8c3eca10e10acad80570adefa6d001c61c1080cfafa97636d"
   }
  }
 },
 "nbformat": 4,
 "nbformat_minor": 4
}
