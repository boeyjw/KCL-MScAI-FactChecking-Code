{
 "cells": [
  {
   "cell_type": "code",
   "execution_count": 1,
   "id": "c3722e44-fe24-4c69-ad3d-a88c7f1936e7",
   "metadata": {
    "tags": []
   },
   "outputs": [],
   "source": [
    "try:\n",
    "    from torch.cuda import device_count\n",
    "    # not really best way to find out if using gpu\n",
    "    is_gpu = device_count() > 0\n",
    "except Exception:\n",
    "    is_gpu = False\n",
    "\n",
    "import json\n",
    "import gzip\n",
    "import gc\n",
    "import pickle as pkl\n",
    "import threading\n",
    "import queue\n",
    "from pathlib import Path\n",
    "\n",
    "import spacy\n",
    "from spacy import displacy\n",
    "from matplotlib import pyplot as plt\n",
    "from joblib import Parallel, delayed\n",
    "from tinydb import TinyDB, Query\n",
    "if is_gpu:\n",
    "    from thinc.api import set_gpu_allocator, require_gpu\n",
    "    set_gpu_allocator(\"pytorch\")\n",
    "    require_gpu(0)\n",
    "\n",
    "from src.gen.util import read_gzip_data, write_gzip_data\n",
    "\n",
    "datap = Path(\"/users/k21190024/study/fact-check-transfer-learning/scratch/dumps/data/level/1\")"
   ]
  },
  {
   "cell_type": "markdown",
   "id": "2290ccab-4658-4321-aa2b-efd084d561aa",
   "metadata": {},
   "source": [
    "# Preprocess Level 2"
   ]
  },
  {
   "cell_type": "code",
   "execution_count": 2,
   "id": "ffa4f42b-eab5-4e87-9ccb-59643e9d666d",
   "metadata": {
    "tags": []
   },
   "outputs": [],
   "source": [
    "procp = datap.parent.joinpath(\"2\")\n",
    "if not procp.exists():\n",
    "    procp.mkdir(parents=True)\n",
    "\n",
    "# nlp = spacy.load(\"en_core_web_lg\")\n",
    "nlp = spacy.load(\"en_core_web_trf\")"
   ]
  },
  {
   "cell_type": "code",
   "execution_count": 3,
   "id": "6bc845b2-bf06-48e5-b944-f2a8eccabf2d",
   "metadata": {
    "tags": []
   },
   "outputs": [],
   "source": [
    "def extract_key_lemma(nlp, doc_ls, n_jobs=30, batch_size=100, with_ner=True):\n",
    "    # https://stackoverflow.com/questions/48199353/how-to-use-spacy-in-large-dataset-with-short-sentences-efficiently\n",
    "    def token_filter(token):\n",
    "        return not (\n",
    "            token.is_punct \n",
    "            or token.is_space \n",
    "            or token.is_stop \n",
    "            or token.is_digit \n",
    "            or len(token.lemma_) < 2\n",
    "        )\n",
    "    if is_gpu:\n",
    "        n_jobs = 1\n",
    "        batch_size = 2500\n",
    "    \n",
    "    filtered_tokens = []\n",
    "    ners = []\n",
    "    for doc in nlp.pipe(doc_ls, n_process=n_jobs, batch_size=batch_size, disable=[] if with_ner else [\"ner\"]):\n",
    "        filtered_tokens.append([token.lemma_ for token in doc if token_filter(token)])\n",
    "        \n",
    "        if with_ner:\n",
    "            ner = [(token.text, token.label_) for token in doc.ents]\n",
    "            if ner:\n",
    "                ners.append(ner)\n",
    "    return (filtered_tokens, ners) if ners else filtered_tokens\n",
    "\n",
    "def compressed_pkl(fp, payload):\n",
    "    with gzip.GzipFile(fp, \"w\") as gzfn:\n",
    "        gzfn.write(pkl.dumps(payload))\n",
    "    return fp"
   ]
  },
  {
   "cell_type": "markdown",
   "id": "ad26c176-8faa-4fea-9ec1-9b734a9cf6c9",
   "metadata": {},
   "source": [
    "## SciFact"
   ]
  },
  {
   "cell_type": "code",
   "execution_count": 4,
   "id": "dfa8b68e-16fe-4250-a109-aaee6fbdd7c2",
   "metadata": {
    "tags": []
   },
   "outputs": [],
   "source": [
    "sfp = procp.joinpath(\"scifact\")\n",
    "if not sfp.exists():\n",
    "    sfp.mkdir()"
   ]
  },
  {
   "cell_type": "markdown",
   "id": "52455799-ce8a-49e1-97e2-9c7522aea478",
   "metadata": {},
   "source": [
    "### Corpus"
   ]
  },
  {
   "cell_type": "code",
   "execution_count": 9,
   "id": "fe575e98-f4e1-40b2-8a0c-e6a0387fe9c7",
   "metadata": {
    "tags": []
   },
   "outputs": [
    {
     "data": {
      "text/plain": [
       "'/users/k21190024/study/fact-check-transfer-learning/scratch/dumps/data/level/2/scifact/corpus_lemma.pkl.gz'"
      ]
     },
     "execution_count": 9,
     "metadata": {},
     "output_type": "execute_result"
    }
   ],
   "source": [
    "sf_corpus = read_gzip_data(datap.joinpath(\"scifact\", \"corpus.json.gz\"))\n",
    "\n",
    "sf_corpus_title_tokens = extract_key_lemma(nlp, [d[\"title\"] for d in sf_corpus.values()], with_ner=False)\n",
    "sf_corpus_abstract_tokens, sf_corpus_abstract_ner = extract_key_lemma(nlp, [\" \".join(d[\"abstract\"]) for d in sf_corpus.values()])\n",
    "\n",
    "write_gzip_data(sfp.joinpath(\"corpus_lemma.pkl.gz\"), {\"title\": sf_corpus_title_tokens, \"evidence\": sf_corpus_abstract_tokens, \"ner\": sf_corpus_abstract_ner})"
   ]
  },
  {
   "cell_type": "markdown",
   "id": "f73ee432-c0db-42bd-bae2-1202e0459eec",
   "metadata": {},
   "source": [
    "### Claims"
   ]
  },
  {
   "cell_type": "code",
   "execution_count": 10,
   "id": "07314863-a1f8-4b4c-9428-0bda3e2715e8",
   "metadata": {
    "tags": []
   },
   "outputs": [
    {
     "data": {
      "text/plain": [
       "PosixPath('/users/k21190024/study/fact-check-transfer-learning/scratch/dumps/data/level/2/scifact/claims_lemma.pkl.gz')"
      ]
     },
     "execution_count": 10,
     "metadata": {},
     "output_type": "execute_result"
    }
   ],
   "source": [
    "sf_claims = read_gzip_data(datap.joinpath(\"scifact\", \"fullscifact.json.gz\"))\n",
    "\n",
    "sf_claims_tokens, sf_claims_ner = extract_key_lemma(nlp, [d[\"claim\"] for d in sf_claims])\n",
    "\n",
    "compressed_pkl(sfp.joinpath(\"claims_lemma.pkl.gz\"), {\"claims\": sf_claims_tokens, \"ner\": sf_claims_ner})"
   ]
  },
  {
   "cell_type": "code",
   "execution_count": 6,
   "id": "feda09ff-8381-4d1e-9c33-bd7819c000d8",
   "metadata": {},
   "outputs": [
    {
     "ename": "NameError",
     "evalue": "name 'sf_claims_tokens' is not defined",
     "output_type": "error",
     "traceback": [
      "\u001b[0;31m---------------------------------------------------------------------------\u001b[0m",
      "\u001b[0;31mNameError\u001b[0m                                 Traceback (most recent call last)",
      "Cell \u001b[0;32mIn[6], line 1\u001b[0m\n\u001b[0;32m----> 1\u001b[0m \u001b[38;5;28;01mdel\u001b[39;00m sf_corpus_title_tokens, sf_corpus_abstract_tokens, sf_corpus_abstract_ner, sf_claims_tokens, sf_claims_ner\n\u001b[1;32m      3\u001b[0m gc\u001b[38;5;241m.\u001b[39mcollect()\n",
      "\u001b[0;31mNameError\u001b[0m: name 'sf_claims_tokens' is not defined"
     ]
    }
   ],
   "source": [
    "del sf_corpus_title_tokens, sf_corpus_abstract_tokens, sf_corpus_abstract_ner, sf_claims_tokens, sf_claims_ner\n",
    "\n",
    "gc.collect()"
   ]
  },
  {
   "cell_type": "markdown",
   "id": "34306bfb-f01b-4f0f-8dea-3fff33957019",
   "metadata": {},
   "source": [
    "## Climate Fever"
   ]
  },
  {
   "cell_type": "code",
   "execution_count": null,
   "id": "36d4ae10-b2ba-4bf3-8af1-2d0dbcb81e14",
   "metadata": {
    "tags": []
   },
   "outputs": [],
   "source": [
    "cfp = procp.joinpath(\"climatefever\")\n",
    "if not cfp.exists():\n",
    "    cfp.mkdir()\n",
    "    \n",
    "cfall = read_gzip_data(datap.joinpath(\"climatefever\", \"climatefever.json.gz\"))"
   ]
  },
  {
   "cell_type": "markdown",
   "id": "cdc01de0-99e8-4cda-a085-0f8d7e2e2310",
   "metadata": {},
   "source": [
    "### Claims"
   ]
  },
  {
   "cell_type": "code",
   "execution_count": 13,
   "id": "61bf78a9-3441-4194-b8c2-8e3a41c40eee",
   "metadata": {
    "tags": []
   },
   "outputs": [
    {
     "data": {
      "text/plain": [
       "PosixPath('/users/k21190024/study/fact-check-transfer-learning/scratch/dumps/data/level/2/climatefever/claims_lemma.pkl.gz')"
      ]
     },
     "execution_count": 13,
     "metadata": {},
     "output_type": "execute_result"
    }
   ],
   "source": [
    "cf_claims_tokens, cf_claims_ner = extract_key_lemma(nlp, [d[\"claim\"] for d in cfall], 60)\n",
    "compressed_pkl(cfp.joinpath(\"claims_lemma.pkl.gz\"), {\"claims\": cf_claims_tokens, \"ner\": cf_claims_ner})"
   ]
  },
  {
   "cell_type": "markdown",
   "id": "0175b4e3-92eb-4b4f-8e04-8892471e372f",
   "metadata": {},
   "source": [
    "### Corpus"
   ]
  },
  {
   "cell_type": "code",
   "execution_count": null,
   "id": "6cb4382f-5cfd-4ec7-8836-9a01c77b5290",
   "metadata": {},
   "outputs": [],
   "source": [
    "cf_title = []\n",
    "cf_corpus = []\n",
    "for d in cfall:\n",
    "    t_tmp = []\n",
    "    for e in d[\"evidences\"]:\n",
    "        t_tmp.append(e[\"article\"])\n",
    "        cf_corpus.append(\" \".join(e[\"evidence\"]))\n",
    "    # evidence title are duplicative within each evidence document\n",
    "    cf_title.append(\" \".join(list(set(t_tmp))))\n",
    "\n",
    "cf_title_tokens = extract_key_lemma(nlp, cf_title, with_ner=False)\n",
    "cf_corpus_tokens, cf_corpus_ner = extract_key_lemma(nlp, cf_corpus, 60)\n",
    "compressed_pkl(cfp.joinpath(\"corpus_lemma.pkl.gz\"), {\"title\": cf_title_tokens, \"evidence\": cf_corpus_tokens, \"ner\": cf_corpus_ner})"
   ]
  },
  {
   "cell_type": "code",
   "execution_count": null,
   "id": "5704c61d-0fcd-42cf-b9e3-6bc9d0535631",
   "metadata": {},
   "outputs": [],
   "source": [
    "del cf_claims_tokens, cf_claims_ner, cf_title_tokens, cf_corpus_tokens, cf_corpus_ner\n",
    "\n",
    "gc.collect()"
   ]
  },
  {
   "cell_type": "markdown",
   "id": "a576262e-c99a-4207-85a3-9f7cda496766",
   "metadata": {},
   "source": [
    "## FEVER"
   ]
  },
  {
   "cell_type": "code",
   "execution_count": 4,
   "id": "ff46961b-9d45-4492-9354-3f5bde5948bc",
   "metadata": {
    "tags": []
   },
   "outputs": [],
   "source": [
    "feverp = procp.joinpath(\"fever\")\n",
    "if not feverp.exists():\n",
    "    feverp.mkdir()"
   ]
  },
  {
   "cell_type": "markdown",
   "id": "a1553576-7c40-4197-8d70-d1f62671ebfc",
   "metadata": {},
   "source": [
    "### Claims"
   ]
  },
  {
   "cell_type": "code",
   "execution_count": 17,
   "id": "740ba020-9350-4880-b341-3c928f79dddb",
   "metadata": {
    "tags": []
   },
   "outputs": [
    {
     "data": {
      "text/plain": [
       "PosixPath('/users/k21190024/study/fact-check-transfer-learning/scratch/dumps/data/level/2/fever/claims_lemma.pkl.gz')"
      ]
     },
     "execution_count": 17,
     "metadata": {},
     "output_type": "execute_result"
    }
   ],
   "source": [
    "fclaimsall = read_gzip_data(datap.joinpath(\"fever\", \"fulltrain.json.gz\")) + read_gzip_data(datap.joinpath(\"fever\", \"truetest.json.gz\"))\n",
    "\n",
    "f_claims_tokens, f_claims_ner = extract_key_lemma(nlp, [d[\"claim\"] for d in fclaimsall], batch_size=1000)\n",
    "compressed_pkl(feverp.joinpath(\"claims_lemma.pkl.gz\"), {\"claims\": f_claims_tokens, \"ner\": f_claims_ner})"
   ]
  },
  {
   "cell_type": "code",
   "execution_count": 18,
   "id": "c195849d-8826-4890-a8ee-ba4d0895f2f8",
   "metadata": {},
   "outputs": [
    {
     "data": {
      "text/plain": [
       "18"
      ]
     },
     "execution_count": 18,
     "metadata": {},
     "output_type": "execute_result"
    }
   ],
   "source": [
    "del f_claims_tokens, f_claims_ner\n",
    "\n",
    "gc.collect()"
   ]
  },
  {
   "cell_type": "markdown",
   "id": "1a0fdca3-816a-45b2-82dc-84c68ffb7e3e",
   "metadata": {},
   "source": [
    "### Corpus"
   ]
  },
  {
   "cell_type": "code",
   "execution_count": 5,
   "id": "4d1192dc-0e75-475b-a95e-954466ae60c8",
   "metadata": {
    "tags": []
   },
   "outputs": [],
   "source": [
    "def comsumer_fever_corpus():\n",
    "    while True:\n",
    "        fp, payload = q.get()\n",
    "        if fp is None:\n",
    "            break\n",
    "        print(write_gzip_data(fp, payload))\n",
    "        q.task_done()\n",
    "    q.task_done()"
   ]
  },
  {
   "cell_type": "code",
   "execution_count": null,
   "id": "4205ab88-df24-4789-8897-0cdc1b7a1063",
   "metadata": {
    "tags": []
   },
   "outputs": [
    {
     "name": "stderr",
     "output_type": "stream",
     "text": [
      "Token indices sequence length is longer than the specified maximum sequence length for this model (610 > 512). Running this sequence through the model will result in indexing errors\n"
     ]
    },
    {
     "name": "stdout",
     "output_type": "stream",
     "text": [
      "/users/k21190024/study/fact-check-transfer-learning/scratch/dumps/data/level/2/fever/part/wiki-013.part.pkl.gz\n",
      "/users/k21190024/study/fact-check-transfer-learning/scratch/dumps/data/level/2/fever/part/wiki-062.part.pkl.gz\n",
      "/users/k21190024/study/fact-check-transfer-learning/scratch/dumps/data/level/2/fever/part/wiki-058.part.pkl.gz\n",
      "/users/k21190024/study/fact-check-transfer-learning/scratch/dumps/data/level/2/fever/part/wiki-068.part.pkl.gz\n",
      "/users/k21190024/study/fact-check-transfer-learning/scratch/dumps/data/level/2/fever/part/wiki-104.part.pkl.gz\n",
      "/users/k21190024/study/fact-check-transfer-learning/scratch/dumps/data/level/2/fever/part/wiki-102.part.pkl.gz\n",
      "/users/k21190024/study/fact-check-transfer-learning/scratch/dumps/data/level/2/fever/part/wiki-056.part.pkl.gz\n",
      "/users/k21190024/study/fact-check-transfer-learning/scratch/dumps/data/level/2/fever/part/wiki-089.part.pkl.gz\n",
      "/users/k21190024/study/fact-check-transfer-learning/scratch/dumps/data/level/2/fever/part/wiki-053.part.pkl.gz\n",
      "/users/k21190024/study/fact-check-transfer-learning/scratch/dumps/data/level/2/fever/part/wiki-012.part.pkl.gz\n",
      "/users/k21190024/study/fact-check-transfer-learning/scratch/dumps/data/level/2/fever/part/wiki-011.part.pkl.gz\n",
      "/users/k21190024/study/fact-check-transfer-learning/scratch/dumps/data/level/2/fever/part/wiki-045.part.pkl.gz\n",
      "/users/k21190024/study/fact-check-transfer-learning/scratch/dumps/data/level/2/fever/part/wiki-069.part.pkl.gz\n",
      "/users/k21190024/study/fact-check-transfer-learning/scratch/dumps/data/level/2/fever/part/wiki-070.part.pkl.gz\n",
      "/users/k21190024/study/fact-check-transfer-learning/scratch/dumps/data/level/2/fever/part/wiki-047.part.pkl.gz\n",
      "/users/k21190024/study/fact-check-transfer-learning/scratch/dumps/data/level/2/fever/part/wiki-060.part.pkl.gz\n",
      "/users/k21190024/study/fact-check-transfer-learning/scratch/dumps/data/level/2/fever/part/wiki-096.part.pkl.gz\n",
      "/users/k21190024/study/fact-check-transfer-learning/scratch/dumps/data/level/2/fever/part/wiki-005.part.pkl.gz\n",
      "/users/k21190024/study/fact-check-transfer-learning/scratch/dumps/data/level/2/fever/part/wiki-020.part.pkl.gz\n",
      "/users/k21190024/study/fact-check-transfer-learning/scratch/dumps/data/level/2/fever/part/wiki-067.part.pkl.gz\n",
      "/users/k21190024/study/fact-check-transfer-learning/scratch/dumps/data/level/2/fever/part/wiki-038.part.pkl.gz\n",
      "/users/k21190024/study/fact-check-transfer-learning/scratch/dumps/data/level/2/fever/part/wiki-103.part.pkl.gz\n",
      "/users/k21190024/study/fact-check-transfer-learning/scratch/dumps/data/level/2/fever/part/wiki-019.part.pkl.gz\n",
      "/users/k21190024/study/fact-check-transfer-learning/scratch/dumps/data/level/2/fever/part/wiki-087.part.pkl.gz\n",
      "/users/k21190024/study/fact-check-transfer-learning/scratch/dumps/data/level/2/fever/part/wiki-066.part.pkl.gz\n",
      "/users/k21190024/study/fact-check-transfer-learning/scratch/dumps/data/level/2/fever/part/wiki-004.part.pkl.gz\n",
      "/users/k21190024/study/fact-check-transfer-learning/scratch/dumps/data/level/2/fever/part/wiki-027.part.pkl.gz\n",
      "/users/k21190024/study/fact-check-transfer-learning/scratch/dumps/data/level/2/fever/part/wiki-105.part.pkl.gz\n",
      "/users/k21190024/study/fact-check-transfer-learning/scratch/dumps/data/level/2/fever/part/wiki-024.part.pkl.gz\n",
      "/users/k21190024/study/fact-check-transfer-learning/scratch/dumps/data/level/2/fever/part/wiki-063.part.pkl.gz\n",
      "/users/k21190024/study/fact-check-transfer-learning/scratch/dumps/data/level/2/fever/part/wiki-080.part.pkl.gz\n",
      "/users/k21190024/study/fact-check-transfer-learning/scratch/dumps/data/level/2/fever/part/wiki-074.part.pkl.gz\n",
      "/users/k21190024/study/fact-check-transfer-learning/scratch/dumps/data/level/2/fever/part/wiki-002.part.pkl.gz\n",
      "/users/k21190024/study/fact-check-transfer-learning/scratch/dumps/data/level/2/fever/part/wiki-009.part.pkl.gz\n",
      "/users/k21190024/study/fact-check-transfer-learning/scratch/dumps/data/level/2/fever/part/wiki-065.part.pkl.gz\n",
      "/users/k21190024/study/fact-check-transfer-learning/scratch/dumps/data/level/2/fever/part/wiki-050.part.pkl.gz\n",
      "/users/k21190024/study/fact-check-transfer-learning/scratch/dumps/data/level/2/fever/part/wiki-039.part.pkl.gz\n",
      "/users/k21190024/study/fact-check-transfer-learning/scratch/dumps/data/level/2/fever/part/wiki-109.part.pkl.gz\n",
      "/users/k21190024/study/fact-check-transfer-learning/scratch/dumps/data/level/2/fever/part/wiki-084.part.pkl.gz\n",
      "/users/k21190024/study/fact-check-transfer-learning/scratch/dumps/data/level/2/fever/part/wiki-052.part.pkl.gz\n",
      "/users/k21190024/study/fact-check-transfer-learning/scratch/dumps/data/level/2/fever/part/wiki-085.part.pkl.gz\n",
      "/users/k21190024/study/fact-check-transfer-learning/scratch/dumps/data/level/2/fever/part/wiki-049.part.pkl.gz\n",
      "/users/k21190024/study/fact-check-transfer-learning/scratch/dumps/data/level/2/fever/part/wiki-079.part.pkl.gz\n",
      "/users/k21190024/study/fact-check-transfer-learning/scratch/dumps/data/level/2/fever/part/wiki-035.part.pkl.gz\n",
      "/users/k21190024/study/fact-check-transfer-learning/scratch/dumps/data/level/2/fever/part/wiki-025.part.pkl.gz\n",
      "/users/k21190024/study/fact-check-transfer-learning/scratch/dumps/data/level/2/fever/part/wiki-014.part.pkl.gz\n",
      "/users/k21190024/study/fact-check-transfer-learning/scratch/dumps/data/level/2/fever/part/wiki-100.part.pkl.gz\n",
      "/users/k21190024/study/fact-check-transfer-learning/scratch/dumps/data/level/2/fever/part/wiki-108.part.pkl.gz\n",
      "/users/k21190024/study/fact-check-transfer-learning/scratch/dumps/data/level/2/fever/part/wiki-034.part.pkl.gz\n",
      "/users/k21190024/study/fact-check-transfer-learning/scratch/dumps/data/level/2/fever/part/wiki-028.part.pkl.gz\n",
      "/users/k21190024/study/fact-check-transfer-learning/scratch/dumps/data/level/2/fever/part/wiki-093.part.pkl.gz\n",
      "/users/k21190024/study/fact-check-transfer-learning/scratch/dumps/data/level/2/fever/part/wiki-088.part.pkl.gz\n",
      "/users/k21190024/study/fact-check-transfer-learning/scratch/dumps/data/level/2/fever/part/wiki-073.part.pkl.gz\n",
      "/users/k21190024/study/fact-check-transfer-learning/scratch/dumps/data/level/2/fever/part/wiki-064.part.pkl.gz\n",
      "/users/k21190024/study/fact-check-transfer-learning/scratch/dumps/data/level/2/fever/part/wiki-099.part.pkl.gz\n",
      "/users/k21190024/study/fact-check-transfer-learning/scratch/dumps/data/level/2/fever/part/wiki-077.part.pkl.gz\n",
      "/users/k21190024/study/fact-check-transfer-learning/scratch/dumps/data/level/2/fever/part/wiki-007.part.pkl.gz\n",
      "/users/k21190024/study/fact-check-transfer-learning/scratch/dumps/data/level/2/fever/part/wiki-010.part.pkl.gz\n",
      "/users/k21190024/study/fact-check-transfer-learning/scratch/dumps/data/level/2/fever/part/wiki-055.part.pkl.gz\n",
      "/users/k21190024/study/fact-check-transfer-learning/scratch/dumps/data/level/2/fever/part/wiki-003.part.pkl.gz\n",
      "/users/k21190024/study/fact-check-transfer-learning/scratch/dumps/data/level/2/fever/part/wiki-043.part.pkl.gz\n",
      "/users/k21190024/study/fact-check-transfer-learning/scratch/dumps/data/level/2/fever/part/wiki-040.part.pkl.gz\n",
      "/users/k21190024/study/fact-check-transfer-learning/scratch/dumps/data/level/2/fever/part/wiki-044.part.pkl.gz\n",
      "/users/k21190024/study/fact-check-transfer-learning/scratch/dumps/data/level/2/fever/part/wiki-107.part.pkl.gz\n",
      "/users/k21190024/study/fact-check-transfer-learning/scratch/dumps/data/level/2/fever/part/wiki-021.part.pkl.gz\n",
      "/users/k21190024/study/fact-check-transfer-learning/scratch/dumps/data/level/2/fever/part/wiki-036.part.pkl.gz\n",
      "/users/k21190024/study/fact-check-transfer-learning/scratch/dumps/data/level/2/fever/part/wiki-082.part.pkl.gz\n",
      "/users/k21190024/study/fact-check-transfer-learning/scratch/dumps/data/level/2/fever/part/wiki-029.part.pkl.gz\n"
     ]
    }
   ],
   "source": [
    "corpus_part = feverp.joinpath(\"part\")\n",
    "if not corpus_part.exists():\n",
    "    corpus_part.mkdir()\n",
    "    \n",
    "t = threading.Thread(target=comsumer_fever_corpus)\n",
    "q = queue.Queue()\n",
    "\n",
    "comp_pf = [f.name.split(\".\")[0] for f in list(corpus_part.iterdir())]\n",
    "t.start()\n",
    "for fp in datap.joinpath(\"fever\", \"corpus\").iterdir():\n",
    "    if fp.name.split(\".\")[0] not in comp_pf:\n",
    "        wiki = read_gzip_data(fp)\n",
    "        fwiki_tokens, fwiki_ner = extract_key_lemma(nlp, [d[\"text\"] for d in wiki.values()], batch_size=1000, n_jobs=10)\n",
    "        q.put((corpus_part.joinpath(fp.name.split(\".\")[0] + \".part.pkl.gz\"), {\"evidence\": fwiki_tokens, \"ner\": fwiki_ner}))\n",
    "q.put((None, None))\n",
    "q.join()\n",
    "t.join()"
   ]
  },
  {
   "cell_type": "code",
   "execution_count": null,
   "id": "f6e025b5-ffaf-4d2e-893d-c8c59befc5d5",
   "metadata": {},
   "outputs": [],
   "source": []
  }
 ],
 "metadata": {
  "kernelspec": {
   "display_name": "Python 3 (ipykernel)",
   "language": "python",
   "name": "python3"
  },
  "language_info": {
   "codemirror_mode": {
    "name": "ipython",
    "version": 3
   },
   "file_extension": ".py",
   "mimetype": "text/x-python",
   "name": "python",
   "nbconvert_exporter": "python",
   "pygments_lexer": "ipython3",
   "version": "3.8.16"
  },
  "toc-autonumbering": true,
  "toc-showmarkdowntxt": false
 },
 "nbformat": 4,
 "nbformat_minor": 5
}
