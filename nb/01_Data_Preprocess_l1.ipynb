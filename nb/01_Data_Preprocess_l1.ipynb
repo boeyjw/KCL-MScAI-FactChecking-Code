{
 "cells": [
  {
   "cell_type": "code",
   "execution_count": 5,
   "metadata": {
    "tags": []
   },
   "outputs": [],
   "source": [
    "import os\n",
    "\n",
    "from pathlib import Path\n",
    "\n",
    "from joblib import Parallel, delayed\n",
    "from tinydb import TinyDB\n",
    "from src.gen.util import read_gzip_data, write_gzip_data"
   ]
  },
  {
   "cell_type": "code",
   "execution_count": 2,
   "metadata": {
    "tags": []
   },
   "outputs": [],
   "source": [
    "datap = Path(\"/users/k21190024/study/fact-check-transfer-learning/scratch/data\")\n",
    "procp = Path(\"/users/k21190024/study/fact-check-transfer-learning/scratch/dumps/data/level/1\")"
   ]
  },
  {
   "cell_type": "markdown",
   "metadata": {},
   "source": [
    "# FEVER"
   ]
  },
  {
   "cell_type": "code",
   "execution_count": 3,
   "metadata": {
    "tags": []
   },
   "outputs": [],
   "source": [
    "feverp = datap.joinpath(\"fever\")\n",
    "\n",
    "fever_proc = procp.joinpath(\"fever\")\n",
    "fever_corpus_proc = fever_proc.joinpath(\"corpus1\")\n",
    "\n",
    "if not fever_corpus_proc.exists():\n",
    "    fever_corpus_proc.mkdir(parents=True)"
   ]
  },
  {
   "cell_type": "markdown",
   "metadata": {},
   "source": [
    "## Corpus"
   ]
  },
  {
   "cell_type": "code",
   "execution_count": 4,
   "metadata": {
    "tags": []
   },
   "outputs": [],
   "source": [
    "def fever_corpus_preproc(fin, fout, debug=False):\n",
    "    wiki = read_gzip_data(fin)\n",
    "    for i in range(len(wiki)):\n",
    "        lines = wiki[i][\"lines\"].strip().split(\"\\n\")\n",
    "        lines = [l.split(\"\\t\") for l in lines]\n",
    "        lines = [[l[0], l[1], list(set(l[2:]))] for l in lines if len(l) > 2]\n",
    "        wiki[i][\"lines\"] = lines\n",
    "        wiki[i][\"paper_partition\"] = fin.stem\n",
    "    return wiki if debug else write_gzip_data(fout.joinpath(fin.name), wiki)"
   ]
  },
  {
   "cell_type": "code",
   "execution_count": 5,
   "metadata": {
    "tags": []
   },
   "outputs": [
    {
     "name": "stderr",
     "output_type": "stream",
     "text": [
      "[Parallel(n_jobs=30)]: Using backend LokyBackend with 30 concurrent workers.\n",
      "[Parallel(n_jobs=30)]: Done   1 tasks      | elapsed:   12.1s\n",
      "[Parallel(n_jobs=30)]: Done  12 tasks      | elapsed:   16.2s\n",
      "[Parallel(n_jobs=30)]: Done  25 tasks      | elapsed:   25.1s\n",
      "[Parallel(n_jobs=30)]: Done  38 tasks      | elapsed:   31.4s\n",
      "[Parallel(n_jobs=30)]: Done  61 out of 109 | elapsed:   44.7s remaining:   35.1s\n",
      "[Parallel(n_jobs=30)]: Done  72 out of 109 | elapsed:   49.3s remaining:   25.3s\n",
      "[Parallel(n_jobs=30)]: Done  83 out of 109 | elapsed:   53.9s remaining:   16.9s\n",
      "[Parallel(n_jobs=30)]: Done  94 out of 109 | elapsed:   59.7s remaining:    9.5s\n",
      "[Parallel(n_jobs=30)]: Done 105 out of 109 | elapsed:  1.0min remaining:    2.4s\n",
      "[Parallel(n_jobs=30)]: Done 109 out of 109 | elapsed:  1.1min finished\n"
     ]
    },
    {
     "data": {
      "text/plain": [
       "109"
      ]
     },
     "execution_count": 5,
     "metadata": {},
     "output_type": "execute_result"
    }
   ],
   "source": [
    "wiki = feverp.joinpath(\"wiki-pages\")\n",
    "\n",
    "fcorpus_col = Parallel(n_jobs=30, verbose=10)(delayed(fever_corpus_preproc)(fp, fever_corpus_proc) for fp in wiki.iterdir())\n",
    "len(fcorpus_col)"
   ]
  },
  {
   "cell_type": "code",
   "execution_count": 12,
   "metadata": {
    "tags": []
   },
   "outputs": [
    {
     "name": "stderr",
     "output_type": "stream",
     "text": [
      "[Parallel(n_jobs=30)]: Using backend LokyBackend with 30 concurrent workers.\n",
      "[Parallel(n_jobs=30)]: Done   1 tasks      | elapsed:    3.4s\n",
      "[Parallel(n_jobs=30)]: Done  12 tasks      | elapsed:    4.6s\n",
      "[Parallel(n_jobs=30)]: Done  25 tasks      | elapsed:    6.6s\n",
      "[Parallel(n_jobs=30)]: Done  38 tasks      | elapsed:    7.9s\n",
      "[Parallel(n_jobs=30)]: Done  61 out of 109 | elapsed:   11.2s remaining:    8.8s\n",
      "[Parallel(n_jobs=30)]: Done  72 out of 109 | elapsed:   12.5s remaining:    6.4s\n",
      "[Parallel(n_jobs=30)]: Done  83 out of 109 | elapsed:   13.5s remaining:    4.2s\n",
      "[Parallel(n_jobs=30)]: Done  94 out of 109 | elapsed:   14.4s remaining:    2.3s\n",
      "[Parallel(n_jobs=30)]: Done 105 out of 109 | elapsed:   15.0s remaining:    0.6s\n",
      "[Parallel(n_jobs=30)]: Done 109 out of 109 | elapsed:   15.2s finished\n"
     ]
    }
   ],
   "source": [
    "def make_index(fin):\n",
    "    wiki = read_gzip_data(fin)\n",
    "    wiki = wiki if len(wiki) > 1 else wiki[0]\n",
    "    ind = [{\"id\": d[\"id\"], \"paper_partition\": d[\"paper_partition\"]} for d in wiki]\n",
    "    return ind\n",
    "fcorpus_ind = Parallel(n_jobs=30, verbose=10)(delayed(make_index)(f) for f in fever_corpus_proc.iterdir())\n",
    "\n",
    "fwiki_ind = TinyDB(fever_proc.joinpath(\"corpus.index.json\"))\n",
    "for d in fcorpus_ind:\n",
    "    fwiki_ind.insert_multiple(d)"
   ]
  },
  {
   "cell_type": "markdown",
   "metadata": {},
   "source": [
    "## Claims"
   ]
  },
  {
   "cell_type": "markdown",
   "metadata": {},
   "source": [
    "### Labelled"
   ]
  },
  {
   "cell_type": "code",
   "execution_count": 25,
   "metadata": {
    "tags": []
   },
   "outputs": [],
   "source": [
    "fn = \"train.jsonl\"\n",
    "ftrain = read_gzip_data(feverp.joinpath(fn + \".gz\"))\n",
    "for i in range(len(ftrain)):\n",
    "    ftrain[i][\"paper_partition\"] = \"train\""
   ]
  },
  {
   "cell_type": "code",
   "execution_count": 26,
   "metadata": {
    "tags": []
   },
   "outputs": [],
   "source": [
    "fn = \"paper_dev.jsonl\"\n",
    "feverstpaperdev = read_gzip_data(feverp.joinpath(fn + \".gz\"))\n",
    "for i in range(len(feverstpaperdev)):\n",
    "    feverstpaperdev[i][\"paper_partition\"] = \"dev\""
   ]
  },
  {
   "cell_type": "code",
   "execution_count": 27,
   "metadata": {
    "tags": []
   },
   "outputs": [],
   "source": [
    "fn = \"paper_test.jsonl\"\n",
    "feverstpapertest = read_gzip_data(feverp.joinpath(fn + \".gz\"))\n",
    "for i in range(len(feverstpapertest)):\n",
    "    feverstpapertest[i][\"paper_partition\"] = \"test\""
   ]
  },
  {
   "cell_type": "code",
   "execution_count": 28,
   "metadata": {
    "tags": []
   },
   "outputs": [
    {
     "data": {
      "text/plain": [
       "PosixPath('/users/k21190024/study/fact-check-transfer-learning/scratch/dumps/data/level/1/fever/fulltrain.json.gz')"
      ]
     },
     "execution_count": 28,
     "metadata": {},
     "output_type": "execute_result"
    }
   ],
   "source": [
    "feverdata = ftrain + feverstpaperdev + feverstpapertest\n",
    "write_gzip_data(fever_proc.joinpath(\"fulltrain.json.gz\"), feverdata)"
   ]
  },
  {
   "cell_type": "markdown",
   "metadata": {},
   "source": [
    "### Unlabelled test set"
   ]
  },
  {
   "cell_type": "code",
   "execution_count": 29,
   "metadata": {
    "tags": []
   },
   "outputs": [
    {
     "data": {
      "text/plain": [
       "PosixPath('/users/k21190024/study/fact-check-transfer-learning/scratch/dumps/data/level/1/fever/truetest.json.gz')"
      ]
     },
     "execution_count": 29,
     "metadata": {},
     "output_type": "execute_result"
    }
   ],
   "source": [
    "# unlabelled test set\n",
    "\n",
    "fn = \"shared_task_test.jsonl\"\n",
    "feversttest = read_gzip_data(feverp.joinpath(fn + \".gz\"))\n",
    "write_gzip_data(fever_proc.joinpath(\"truetest.json.gz\"), feversttest)"
   ]
  },
  {
   "cell_type": "markdown",
   "metadata": {},
   "source": [
    "### Unlabelled paper_dev + paper_test"
   ]
  },
  {
   "cell_type": "code",
   "execution_count": 30,
   "metadata": {
    "tags": []
   },
   "outputs": [
    {
     "data": {
      "text/plain": [
       "PosixPath('/users/k21190024/study/fact-check-transfer-learning/scratch/dumps/data/level/1/fever/paperdevtest_unlabelled.json.gz')"
      ]
     },
     "execution_count": 30,
     "metadata": {},
     "output_type": "execute_result"
    }
   ],
   "source": [
    "# unlabelled paper_dev + paper_test\n",
    "\n",
    "fn = \"shared_task_dev_public.jsonl\"\n",
    "feverstdevpub = read_gzip_data(feverp.joinpath(fn + \".gz\"))\n",
    "write_gzip_data(fever_proc.joinpath(\"paperdevtest_unlabelled.json.gz\"), feverstdevpub)"
   ]
  },
  {
   "cell_type": "markdown",
   "metadata": {},
   "source": [
    "# SciFact"
   ]
  },
  {
   "cell_type": "code",
   "execution_count": 18,
   "metadata": {},
   "outputs": [],
   "source": [
    "def scifact_preproc(doc, corpus_col):\n",
    "    \"\"\"\n",
    "    Preprocess SciFact claims to include support into each claim document for ease of processing later\n",
    "    \"\"\"\n",
    "    if \"evidence\" not in doc:\n",
    "        return doc\n",
    "    for iind, i in enumerate(doc[\"cited_doc_ids\"]):\n",
    "        cite = corpus_col.find_one({\"doc_id\": i})\n",
    "        if doc[\"evidence\"] and str(i) in doc[\"evidence\"]:\n",
    "            for jind, j in enumerate(doc[\"evidence\"][str(i)]):\n",
    "                sentences = [cite[\"abstract\"][k] for k in j[\"sentences\"]]\n",
    "                doc[\"evidence\"][str(i)][jind][\"sentences\"] = sentences\n",
    "        del cite[\"_id\"]\n",
    "        doc[\"cited_doc_ids\"][iind] = cite\n",
    "    return doc"
   ]
  },
  {
   "cell_type": "code",
   "execution_count": 25,
   "metadata": {
    "tags": []
   },
   "outputs": [],
   "source": [
    "sfp = datap.joinpath(\"scifact\")\n",
    "sfoutp = procp.joinpath(\"scifact\")\n",
    "\n",
    "if not sfoutp.exists():\n",
    "    sfoutp.mkdir()"
   ]
  },
  {
   "cell_type": "code",
   "execution_count": 26,
   "metadata": {
    "tags": []
   },
   "outputs": [
    {
     "data": {
      "text/plain": [
       "PosixPath('/users/k21190024/study/fact-check-transfer-learning/scratch/dumps/data/level/1/scifact/scifact.json.gz')"
      ]
     },
     "execution_count": 26,
     "metadata": {},
     "output_type": "execute_result"
    }
   ],
   "source": [
    "fn = \"corpus.jsonl\"\n",
    "sf_corpus = read_gzip_data(sfp.joinpath(fn + \".gz\"))\n",
    "for i in range(len(sf_corpus)):\n",
    "    sf_corpus[i][\"abstract\"] = [l.strip() for l in sf_corpus[i][\"abstract\"]]\n",
    "\n",
    "write_gzip_data(sfoutp.joinpath(\"scifact.json.gz\"), sf_corpus)"
   ]
  },
  {
   "cell_type": "markdown",
   "metadata": {},
   "source": [
    "# Climate Fever"
   ]
  },
  {
   "cell_type": "code",
   "execution_count": 7,
   "metadata": {
    "tags": []
   },
   "outputs": [
    {
     "data": {
      "text/plain": [
       "PosixPath('/users/k21190024/study/fact-check-transfer-learning/scratch/dumps/data/level/1/climatefever/climatefever.json.gz')"
      ]
     },
     "execution_count": 7,
     "metadata": {},
     "output_type": "execute_result"
    }
   ],
   "source": [
    "cdata = read_gzip_data(datap.joinpath(\"climatefever.jsonl.gz\"))\n",
    "write_gzip_data(procp.joinpath(\"climatefever\", \"climatefever.json.gz\"), cdata)"
   ]
  }
 ],
 "metadata": {
  "kernelspec": {
   "display_name": "Python 3 (ipykernel)",
   "language": "python",
   "name": "python3"
  },
  "language_info": {
   "codemirror_mode": {
    "name": "ipython",
    "version": 3
   },
   "file_extension": ".py",
   "mimetype": "text/x-python",
   "name": "python",
   "nbconvert_exporter": "python",
   "pygments_lexer": "ipython3",
   "version": "3.8.12"
  },
  "vscode": {
   "interpreter": {
    "hash": "93dd4b281245a7d8c3eca10e10acad80570adefa6d001c61c1080cfafa97636d"
   }
  }
 },
 "nbformat": 4,
 "nbformat_minor": 4
}
