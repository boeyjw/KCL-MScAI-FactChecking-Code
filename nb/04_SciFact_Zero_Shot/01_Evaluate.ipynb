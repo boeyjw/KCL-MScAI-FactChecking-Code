{
 "cells": [
  {
   "cell_type": "code",
   "execution_count": 27,
   "id": "2c5c38d6-ef17-4d5c-b63d-943805fedfd8",
   "metadata": {},
   "outputs": [
    {
     "name": "stdout",
     "output_type": "stream",
     "text": [
      "The autoreload extension is already loaded. To reload it, use:\n",
      "  %reload_ext autoreload\n"
     ]
    }
   ],
   "source": [
    "%load_ext autoreload\n",
    "%autoreload 2"
   ]
  },
  {
   "cell_type": "markdown",
   "id": "0f589f1d-9c6e-4340-bab5-ee22f26a35a8",
   "metadata": {},
   "source": [
    "# Init"
   ]
  },
  {
   "cell_type": "code",
   "execution_count": 28,
   "id": "d3f831b5-89c4-4ade-b5ff-ee2f56c4cd45",
   "metadata": {},
   "outputs": [],
   "source": [
    "import json\n",
    "import sys\n",
    "import re\n",
    "import pickle as pkl\n",
    "from pathlib import Path\n",
    "sys.path.append(\"../src\")\n",
    "\n",
    "import pandas as pd\n",
    "from matplotlib import pyplot as plt\n",
    "from joblib import Parallel, delayed\n",
    "\n",
    "import constants\n",
    "from finetune.baseline import evaluate\n",
    "from gen.util import read_data, write_jsonl"
   ]
  },
  {
   "cell_type": "markdown",
   "id": "9d6c00d3-aea2-455e-8085-db3b0bb9b0ee",
   "metadata": {},
   "source": [
    "# Evaluate"
   ]
  },
  {
   "cell_type": "code",
   "execution_count": 29,
   "id": "cd91df80-f316-46b6-8b35-82871e9195ef",
   "metadata": {},
   "outputs": [],
   "source": [
    "baseline_default = Path(\"/users/k21190024/study/fact-checking-repos/fever/baseline/thesis/zeroshot/feveronly/baseline\")\n",
    "cfever_tuned = Path(\"/users/k21190024/study/fact-checking-repos/fever/baseline/thesis/zeroshot/fever_cfever/baseline\")\n",
    "\n",
    "sf_actual = read_data(Path(\"/users/k21190024/study/fact-checking-repos/fever/baseline/fever2-sample/data/scifact/scifact_all_titleid.ns.pages.p1.jsonl\"))"
   ]
  },
  {
   "cell_type": "code",
   "execution_count": 49,
   "id": "d9f1f248-f92b-4a80-9120-2b8c11f9717b",
   "metadata": {},
   "outputs": [],
   "source": [
    "eval_d = {}\n",
    "\n",
    "for parent_path in [baseline_default, cfever_tuned]:\n",
    "    for parent in parent_path.iterdir():\n",
    "        model_name = parent.stem\n",
    "        for prediction_file in parent.glob(\"pred.*.jsonl\"):\n",
    "            pred = read_data(prediction_file)\n",
    "            res = evaluate.FEVERScorer(sf_actual, pred, oracle_ir=\"oracle\" in model_name, oracle_rte=False, max_evidence=None)\n",
    "            eval_d[model_name] = res\n",
    "            \n",
    "with open(\"/users/k21190024/study/fact-checking-repos/fever/baseline/thesis/zeroshot/fever_cfever/baseline/baselin_cfever-tuned_predict-sf.pkl\", \"wb\") as fn:\n",
    "    pkl.dump(eval_d, fn)"
   ]
  },
  {
   "cell_type": "code",
   "execution_count": 50,
   "id": "1681a776-6a80-4e8f-81a1-ede51704da2b",
   "metadata": {},
   "outputs": [
    {
     "name": "stdout",
     "output_type": "stream",
     "text": [
      "p5s5_default_model \n",
      "\n",
      "                 precision    recall  f1-score   support\n",
      "\n",
      "NOT ENOUGH INFO       0.38      0.06      0.11       416\n",
      "        REFUTES       0.38      0.14      0.21       237\n",
      "       SUPPORTS       0.43      0.90      0.58       456\n",
      "\n",
      "       accuracy                           0.42      1109\n",
      "      macro avg       0.40      0.37      0.30      1109\n",
      "   weighted avg       0.40      0.42      0.32      1109\n",
      "\n",
      "\n",
      "\n",
      "oracle_default_model \n",
      "\n",
      "                 precision    recall  f1-score   support\n",
      "\n",
      "NOT ENOUGH INFO       0.64      0.51      0.57       416\n",
      "        REFUTES       0.30      0.22      0.25       237\n",
      "       SUPPORTS       0.55      0.73      0.63       456\n",
      "\n",
      "       accuracy                           0.54      1109\n",
      "      macro avg       0.49      0.48      0.48      1109\n",
      "   weighted avg       0.53      0.54      0.52      1109\n",
      "\n",
      "\n",
      "\n",
      "01_p9s5_cfever-extend_vocab-9epoch \n",
      "\n",
      "                 precision    recall  f1-score   support\n",
      "\n",
      "NOT ENOUGH INFO       0.58      0.03      0.06       416\n",
      "        REFUTES       0.45      0.06      0.10       237\n",
      "       SUPPORTS       0.42      0.97      0.59       456\n",
      "\n",
      "       accuracy                           0.42      1109\n",
      "      macro avg       0.49      0.35      0.25      1109\n",
      "   weighted avg       0.49      0.42      0.29      1109\n",
      "\n",
      "\n",
      "\n",
      "99_oracle_try \n",
      "\n",
      "                 precision    recall  f1-score   support\n",
      "\n",
      "NOT ENOUGH INFO       0.75      0.27      0.40       416\n",
      "        REFUTES       0.29      0.22      0.25       237\n",
      "       SUPPORTS       0.50      0.86      0.63       456\n",
      "\n",
      "       accuracy                           0.50      1109\n",
      "      macro avg       0.51      0.45      0.43      1109\n",
      "   weighted avg       0.55      0.50      0.47      1109\n",
      "\n",
      "\n",
      "\n",
      "01_oracle_cfever-extend_vocab-9epoch \n",
      "\n",
      "                 precision    recall  f1-score   support\n",
      "\n",
      "NOT ENOUGH INFO       0.59      0.04      0.07       416\n",
      "        REFUTES       0.25      0.16      0.19       237\n",
      "       SUPPORTS       0.44      0.91      0.60       456\n",
      "\n",
      "       accuracy                           0.42      1109\n",
      "      macro avg       0.43      0.37      0.29      1109\n",
      "   weighted avg       0.46      0.42      0.31      1109\n",
      "\n",
      "\n",
      "\n"
     ]
    }
   ],
   "source": [
    "for k, v in eval_d.items():\n",
    "    print(k, \"\\n\")\n",
    "    print(v.classification_report)\n",
    "    print(\"\\n\")"
   ]
  },
  {
   "cell_type": "code",
   "execution_count": null,
   "id": "443cb4a6-2ee4-4147-917c-9f4bb0ed98ce",
   "metadata": {},
   "outputs": [],
   "source": []
  }
 ],
 "metadata": {
  "kernelspec": {
   "display_name": "Python 3 (ipykernel)",
   "language": "python",
   "name": "python3"
  },
  "language_info": {
   "codemirror_mode": {
    "name": "ipython",
    "version": 3
   },
   "file_extension": ".py",
   "mimetype": "text/x-python",
   "name": "python",
   "nbconvert_exporter": "python",
   "pygments_lexer": "ipython3",
   "version": "3.8.16"
  }
 },
 "nbformat": 4,
 "nbformat_minor": 5
}
