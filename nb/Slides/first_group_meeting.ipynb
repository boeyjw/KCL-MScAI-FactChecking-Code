{
 "cells": [
  {
   "cell_type": "code",
   "execution_count": 1,
   "metadata": {},
   "outputs": [],
   "source": [
    "import json\n",
    "import re"
   ]
  },
  {
   "attachments": {},
   "cell_type": "markdown",
   "metadata": {},
   "source": [
    "# FEVER"
   ]
  },
  {
   "cell_type": "code",
   "execution_count": 28,
   "metadata": {},
   "outputs": [
    {
     "data": {
      "text/plain": [
       "'{\"id\": \"Java\", \"text\": \"Java -LRB- Indonesian : Jawa ; Javanese : \\\\ua997\\\\ua9ae ; Sundanese : -RRB- is an island of Indonesia . With a population of over 141 million -LRB- the island itself -RRB- or 145 million -LRB- the administrative region -RRB- Census released in December 2015 , Java is home to 56.7 percent of the Indonesian population and is the most populous island on Earth . The Indonesian capital city , Jakarta , is located on western Java . Much of Indonesian history took place on Java . It was the center of powerful Hindu-Buddhist empires , the Islamic sultanates , and the core of the colonial Dutch East Indies . Java was also the center of the Indonesian struggle for independence during the 1930s and 1940s . Java dominates Indonesia politically , economically and culturally .   Formed mostly as the result of volcanic eruptions , Java is the 13th largest island in the world and the fifth largest in Indonesia . A chain of volcanic mountains forms an east -- west spine along the island . Three main languages are spoken on the island : Javanese , Sundanese , and Madurese . Of these , Javanese is the dominant ; it is the native language of about 60 million people in Indonesia , most of whom live on Java . Furthermore , most residents are bilingual , speaking Indonesian -LRB- the official language of Indonesia -RRB- as their first or second language . While the majority of the people of Java are Muslim , Java has a diverse mixture of religious beliefs , ethnicities , and cultures .   Java is divided into four provinces , West Java , Central Java , East Java , and Banten , and two special regions , Jakarta and Yogyakarta . \", \"lines\": [[\"0\", \"Java -LRB- Indonesian : Jawa ; Javanese : \\\\ua997\\\\ua9ae ; Sundanese : -RRB- is an island of Indonesia .\", \"(Javanese, Javanese language, Sundanese, Sundanese language, Indonesian, Indonesian language, island, island, Indonesia, Indonesia)\"], [\"1\", \"With a population of over 141 million -LRB- the island itself -RRB- or 145 million -LRB- the administrative region -RRB- Census released in December 2015 , Java is home to 56.7 percent of the Indonesian population and is the most populous island on Earth .\", \"(Indonesian, Indonesian language, island, island, Indonesian population, Demographics of Indonesia, most populous island, List of islands by population, Earth, Earth)\"], [\"2\", \"The Indonesian capital city , Jakarta , is located on western Java .\", \"(Jakarta, Jakarta, Indonesian, Indonesian language, western Java, West Java)\"], [\"3\", \"Much of Indonesian history took place on Java .\", \"(Indonesian, Indonesian language)\"], [\"4\", \"It was the center of powerful Hindu-Buddhist empires , the Islamic sultanates , and the core of the colonial Dutch East Indies .\", \"(Dutch East Indies, Dutch East Indies)\"], [\"5\", \"Java was also the center of the Indonesian struggle for independence during the 1930s and 1940s .\", \"(Indonesian, Indonesian language, Indonesian struggle for independence, History of Indonesia)\"], [\"6\", \"Java dominates Indonesia politically , economically and culturally .\", \"(Indonesia, Indonesia)\"], [\"9\", \"Formed mostly as the result of volcanic eruptions , Java is the 13th largest island in the world and the fifth largest in Indonesia .\", \"(island, island, Indonesia, Indonesia, 13th largest island, List of islands by area, fifth largest, List of islands of Indonesia)\"], [\"10\", \"A chain of volcanic mountains forms an east -- west spine along the island .\", \"(island, island)\"], [\"11\", \"Three main languages are spoken on the island : Javanese , Sundanese , and Madurese .\", \"(Javanese, Javanese language, Sundanese, Sundanese language, Madurese, Madurese language, island, island)\"], [\"12\", \"Of these , Javanese is the dominant ; it is the native language of about 60 million people in Indonesia , most of whom live on Java .\", \"(Javanese, Javanese language, Indonesia, Indonesia)\"], [\"13\", \"Furthermore , most residents are bilingual , speaking Indonesian -LRB- the official language of Indonesia -RRB- as their first or second language .\", \"(Indonesian, Indonesian language, Indonesia, Indonesia, bilingual, bilingual)\"], [\"17\", \"Java is divided into four provinces , West Java , Central Java , East Java , and Banten , and two special regions , Jakarta and Yogyakarta .\", \"(Banten, Banten, West Java, West Java, Central Java, Central Java, East Java, East Java, Jakarta, Jakarta, Yogyakarta, Yogyakarta (special region))\"]]}'"
      ]
     },
     "execution_count": 28,
     "metadata": {},
     "output_type": "execute_result"
    }
   ],
   "source": [
    "s = {\"id\": \"Java\", \"text\": \"Java -LRB- Indonesian : Jawa ; Javanese : \\ua997\\ua9ae ; Sundanese : -RRB- is an island of Indonesia . With a population of over 141 million -LRB- the island itself -RRB- or 145 million -LRB- the administrative region -RRB- Census released in December 2015 , Java is home to 56.7 percent of the Indonesian population and is the most populous island on Earth . The Indonesian capital city , Jakarta , is located on western Java . Much of Indonesian history took place on Java . It was the center of powerful Hindu-Buddhist empires , the Islamic sultanates , and the core of the colonial Dutch East Indies . Java was also the center of the Indonesian struggle for independence during the 1930s and 1940s . Java dominates Indonesia politically , economically and culturally .   Formed mostly as the result of volcanic eruptions , Java is the 13th largest island in the world and the fifth largest in Indonesia . A chain of volcanic mountains forms an east -- west spine along the island . Three main languages are spoken on the island : Javanese , Sundanese , and Madurese . Of these , Javanese is the dominant ; it is the native language of about 60 million people in Indonesia , most of whom live on Java . Furthermore , most residents are bilingual , speaking Indonesian -LRB- the official language of Indonesia -RRB- as their first or second language . While the majority of the people of Java are Muslim , Java has a diverse mixture of religious beliefs , ethnicities , and cultures .   Java is divided into four provinces , West Java , Central Java , East Java , and Banten , and two special regions , Jakarta and Yogyakarta . \", \"lines\": \"0\\tJava -LRB- Indonesian : Jawa ; Javanese : \\ua997\\ua9ae ; Sundanese : -RRB- is an island of Indonesia .\\tJavanese\\tJavanese language\\tSundanese\\tSundanese language\\tIndonesian\\tIndonesian language\\tisland\\tisland\\tIndonesia\\tIndonesia\\n1\\tWith a population of over 141 million -LRB- the island itself -RRB- or 145 million -LRB- the administrative region -RRB- Census released in December 2015 , Java is home to 56.7 percent of the Indonesian population and is the most populous island on Earth .\\tIndonesian\\tIndonesian language\\tisland\\tisland\\tIndonesian population\\tDemographics of Indonesia\\tmost populous island\\tList of islands by population\\tEarth\\tEarth\\n2\\tThe Indonesian capital city , Jakarta , is located on western Java .\\tJakarta\\tJakarta\\tIndonesian\\tIndonesian language\\twestern Java\\tWest Java\\n3\\tMuch of Indonesian history took place on Java .\\tIndonesian\\tIndonesian language\\n4\\tIt was the center of powerful Hindu-Buddhist empires , the Islamic sultanates , and the core of the colonial Dutch East Indies .\\tDutch East Indies\\tDutch East Indies\\n5\\tJava was also the center of the Indonesian struggle for independence during the 1930s and 1940s .\\tIndonesian\\tIndonesian language\\tIndonesian struggle for independence\\tHistory of Indonesia\\n6\\tJava dominates Indonesia politically , economically and culturally .\\tIndonesia\\tIndonesia\\n7\\t\\n8\\t\\n9\\tFormed mostly as the result of volcanic eruptions , Java is the 13th largest island in the world and the fifth largest in Indonesia .\\tisland\\tisland\\tIndonesia\\tIndonesia\\t13th largest island\\tList of islands by area\\tfifth largest\\tList of islands of Indonesia\\n10\\tA chain of volcanic mountains forms an east -- west spine along the island .\\tisland\\tisland\\n11\\tThree main languages are spoken on the island : Javanese , Sundanese , and Madurese .\\tJavanese\\tJavanese language\\tSundanese\\tSundanese language\\tMadurese\\tMadurese language\\tisland\\tisland\\n12\\tOf these , Javanese is the dominant ; it is the native language of about 60 million people in Indonesia , most of whom live on Java .\\tJavanese\\tJavanese language\\tIndonesia\\tIndonesia\\n13\\tFurthermore , most residents are bilingual , speaking Indonesian -LRB- the official language of Indonesia -RRB- as their first or second language .\\tIndonesian\\tIndonesian language\\tIndonesia\\tIndonesia\\tbilingual\\tbilingual\\n14\\tWhile the majority of the people of Java are Muslim , Java has a diverse mixture of religious beliefs , ethnicities , and cultures .\\n15\\t\\n16\\t\\n17\\tJava is divided into four provinces , West Java , Central Java , East Java , and Banten , and two special regions , Jakarta and Yogyakarta .\\tBanten\\tBanten\\tWest Java\\tWest Java\\tCentral Java\\tCentral Java\\tEast Java\\tEast Java\\tJakarta\\tJakarta\\tYogyakarta\\tYogyakarta (special region)\\n18\\t\"}\n",
    "s[\"lines\"] = s[\"lines\"].split(\"\\n\")\n",
    "s[\"lines\"] = [l.split(\"\\t\") for l in s[\"lines\"]]\n",
    "s[\"lines\"] = [[l[0], l[1], \"(\" + \", \".join(l[2:]) + \")\"] for l in s[\"lines\"] if len(l) > 2]\n",
    "json.dumps(s)"
   ]
  },
  {
   "attachments": {},
   "cell_type": "markdown",
   "metadata": {},
   "source": [
    "# SciFact"
   ]
  },
  {
   "cell_type": "code",
   "execution_count": 40,
   "metadata": {},
   "outputs": [
    {
     "data": {
      "text/plain": [
       "'{\"doc_id\": 11369420, \"title\": \"Tetraspanin 3 Is Required for the Development and Propagation of Acute Myelogenous Leukemia.\", \"abstract\": [[0, \"Acute Myelogenous Leukemia (AML) is an aggressive cancer that strikes both adults and children and is frequently resistant to therapy.\"], [1, \"Thus, identifying signals needed for AML propagation is a critical step toward developing new approaches for treating this disease.\"], [2, \"Here, we show that Tetraspanin 3 is a target of the RNA binding protein Musashi 2, which plays a key role in AML.\"], [3, \"We generated Tspan3 knockout mice that were born without overt defects.\"], [4, \"However, Tspan3 deletion impaired leukemia stem cell self-renewal and disease propagation and markedly improved survival in mouse models of AML.\"], [5, \"Additionally, Tspan3 inhibition blocked growth of AML patient samples, suggesting that Tspan3 is also important in human disease.\"], [6, \"As part of the mechanism, we show that Tspan3 deficiency disabled responses to CXCL12/SDF-1 and led to defects in AML localization within the niche.\"], [7, \"These identify Tspan3 as an important regulator of aggressive leukemias and highlight a role for Tspan3 in oncogenesis.\"]], \"structured\": false}'"
      ]
     },
     "execution_count": 40,
     "metadata": {},
     "output_type": "execute_result"
    }
   ],
   "source": [
    "s = {\"doc_id\": 11369420, \"title\": \"Tetraspanin 3 Is Required for the Development and Propagation of Acute Myelogenous Leukemia.\", \"abstract\": [\"Acute Myelogenous Leukemia (AML) is an aggressive cancer that strikes both adults and children and is frequently resistant to therapy.\", \"Thus, identifying signals needed for AML propagation is a critical step toward developing new approaches for treating this disease.\", \"Here, we show that Tetraspanin 3 is a target of the RNA binding protein Musashi 2, which plays a key role in AML.\", \"We generated Tspan3 knockout mice that were born without overt defects.\", \"However, Tspan3 deletion impaired leukemia stem cell self-renewal and disease propagation and markedly improved survival in mouse models of AML.\", \"Additionally, Tspan3 inhibition blocked growth of AML patient samples, suggesting that Tspan3 is also important in human disease.\", \"As part of the mechanism, we show that Tspan3 deficiency disabled responses to CXCL12/SDF-1 and led to defects in AML localization within the niche.\", \"These identify Tspan3 as an important regulator of aggressive leukemias and highlight a role for Tspan3 in oncogenesis.\"], \"structured\": False}\n",
    "s[\"abstract\"] = [[i, l.replace(\"\\n\", \"\").strip()] for i, l in enumerate(s[\"abstract\"])]\n",
    "json.dumps(s)"
   ]
  }
 ],
 "metadata": {
  "kernelspec": {
   "display_name": "Python 3",
   "language": "python",
   "name": "python3"
  },
  "language_info": {
   "codemirror_mode": {
    "name": "ipython",
    "version": 3
   },
   "file_extension": ".py",
   "mimetype": "text/x-python",
   "name": "python",
   "nbconvert_exporter": "python",
   "pygments_lexer": "ipython3",
   "version": "3.10.6"
  },
  "orig_nbformat": 4,
  "vscode": {
   "interpreter": {
    "hash": "916dbcbb3f70747c44a77c7bcd40155683ae19c65e1c03b4aa3499c5328201f1"
   }
  }
 },
 "nbformat": 4,
 "nbformat_minor": 2
}
