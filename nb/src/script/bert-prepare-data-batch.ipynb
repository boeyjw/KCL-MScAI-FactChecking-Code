{
 "cells": [
  {
   "cell_type": "code",
   "execution_count": 1,
   "id": "b604dac2-14d6-4353-ba55-4fe4a6b3f6c9",
   "metadata": {},
   "outputs": [],
   "source": [
    "import subprocess\n",
    "import shlex\n",
    "import os\n",
    "import sys\n",
    "from pathlib import Path\n",
    "\n",
    "from tqdm import tqdm\n",
    "\n",
    "os.putenv(\"PYTHONPATH\", os.pathsep.join([os.getenv(\"PYTHONPATH\",\"\"),\"/users/k21190024/study/fact-check-transfer-learning/nb/src\"]))"
   ]
  },
  {
   "cell_type": "code",
   "execution_count": 2,
   "id": "e583af8b-bb7d-4780-b377-9e6217510bec",
   "metadata": {},
   "outputs": [],
   "source": [
    "db = {\n",
    "    \"climatefever-neg-sampled\": \"/users/k21190024/study/fact-check-transfer-learning/scratch/dumps/feverised-climatefever_sent/feverised-climatefever-titleid.db\",\n",
    "    \"climatefeverpure-neg-sampled\": \"/users/k21190024/study/fact-check-transfer-learning/scratch/dumps/feverised-climatefever/feverised-climatefever-titleid.db\",\n",
    "    \"fever-nei-sampled\": \"/users/k21190024/study/fact-check-transfer-learning/scratch/data/fever/fever.db\",\n",
    "    \"scifact-nei-sampled\": \"/users/k21190024/study/fact-check-transfer-learning/scratch/dumps/feverised-scifact/scifact.db\"\n",
    "}\n",
    "\n",
    "procdir = (\n",
    "    list(Path(\"/users/k21190024/study/fact-check-transfer-learning/scratch/dumps/climatefever-neg-sampled\").glob(\"*.n5.nei.jsonl\"))\n",
    "    + list(Path(\"/users/k21190024/study/fact-check-transfer-learning/scratch/dumps/climatefeverpure-neg-sampled\").glob(\"*.n5.nei.jsonl\"))\n",
    "    + list(Path(\"/users/k21190024/study/fact-check-transfer-learning/scratch/dumps/scifact-nei-sampled\").glob(\"*.n5.nei.jsonl\"))\n",
    "    + list(Path(\"/users/k21190024/study/fact-check-transfer-learning/scratch/dumps/fever-nei-sampled\").glob(\"*.n5.nei.jsonl\"))\n",
    ")"
   ]
  },
  {
   "cell_type": "markdown",
   "id": "18d246a9-4004-48bb-8fa0-bfb08241c107",
   "metadata": {},
   "source": [
    "# Doc"
   ]
  },
  {
   "cell_type": "code",
   "execution_count": null,
   "id": "34f73619-f760-4fcf-a05d-c2ef38edad33",
   "metadata": {},
   "outputs": [],
   "source": [
    "outdir = Path(\"/users/k21190024/study/fact-check-transfer-learning/scratch/dumps/bert-data-doc-evidence\")\n",
    "\n",
    "for infile in tqdm(procdir):\n",
    "    infile_stem = infile.stem.split(\".\")\n",
    "    dataset = infile.parent.stem.split(\"-\")[0]\n",
    "    _ = subprocess.run(shlex.split(f\"\"\"\n",
    "        {sys.executable} /users/k21190024/study/fact-check-transfer-learning/nb/src/script/bert_prepare_data.py \n",
    "        {infile} \n",
    "        {outdir.joinpath(\".\".join([dataset, infile_stem[0], infile_stem[1], \"jsonl\"]))} \n",
    "        {db[infile.parent.stem]} \n",
    "        -p 10 \n",
    "    \"\"\"), cwd=\"/users/k21190024/study/fact-check-transfer-learning/nb\")"
   ]
  },
  {
   "cell_type": "markdown",
   "id": "4a36906a-6d7e-4886-8166-7a4659532e49",
   "metadata": {},
   "source": [
    "# Sent"
   ]
  },
  {
   "cell_type": "code",
   "execution_count": 11,
   "id": "f3204c5e-b0a0-4797-98d2-b95bc6c47724",
   "metadata": {
    "tags": []
   },
   "outputs": [
    {
     "name": "stderr",
     "output_type": "stream",
     "text": [
      "  0%|          | 0/10 [00:00<?, ?it/s]"
     ]
    },
    {
     "name": "stdout",
     "output_type": "stream",
     "text": [
      "Start processing...\n"
     ]
    },
    {
     "name": "stderr",
     "output_type": "stream",
     "text": [
      "100%|██████████| 278/278 [00:00<00:00, 1059052.24it/s]\n"
     ]
    },
    {
     "name": "stdout",
     "output_type": "stream",
     "text": [
      "End processing...\n"
     ]
    },
    {
     "name": "stderr",
     "output_type": "stream",
     "text": [
      " 10%|█         | 1/10 [00:08<01:15,  8.35s/it]"
     ]
    },
    {
     "name": "stdout",
     "output_type": "stream",
     "text": [
      "Start processing...\n"
     ]
    },
    {
     "name": "stderr",
     "output_type": "stream",
     "text": [
      "100%|██████████| 137/137 [00:00<00:00, 1120116.27it/s]\n"
     ]
    },
    {
     "name": "stdout",
     "output_type": "stream",
     "text": [
      "End processing...\n"
     ]
    },
    {
     "name": "stderr",
     "output_type": "stream",
     "text": [
      " 20%|██        | 2/10 [00:16<01:07,  8.45s/it]"
     ]
    },
    {
     "name": "stdout",
     "output_type": "stream",
     "text": [
      "Start processing...\n"
     ]
    },
    {
     "name": "stderr",
     "output_type": "stream",
     "text": [
      "100%|██████████| 278/278 [00:00<00:00, 1684994.96it/s]\n"
     ]
    },
    {
     "name": "stdout",
     "output_type": "stream",
     "text": [
      "End processing...\n"
     ]
    },
    {
     "name": "stderr",
     "output_type": "stream",
     "text": [
      " 40%|████      | 4/10 [00:25<00:34,  5.75s/it]"
     ]
    },
    {
     "name": "stdout",
     "output_type": "stream",
     "text": [
      "Start processing...\n"
     ]
    },
    {
     "name": "stderr",
     "output_type": "stream",
     "text": [
      "100%|██████████| 137/137 [00:00<00:00, 978909.11it/s]\n"
     ]
    },
    {
     "name": "stdout",
     "output_type": "stream",
     "text": [
      "End processing...\n"
     ]
    },
    {
     "name": "stderr",
     "output_type": "stream",
     "text": [
      " 50%|█████     | 5/10 [00:33<00:32,  6.57s/it]"
     ]
    },
    {
     "name": "stdout",
     "output_type": "stream",
     "text": [
      "Start processing...\n"
     ]
    },
    {
     "name": "stderr",
     "output_type": "stream",
     "text": [
      "100%|██████████| 1109/1109 [00:00<00:00, 2073777.59it/s]\n"
     ]
    },
    {
     "name": "stdout",
     "output_type": "stream",
     "text": [
      "End processing...\n"
     ]
    },
    {
     "name": "stderr",
     "output_type": "stream",
     "text": [
      " 70%|███████   | 7/10 [00:42<00:16,  5.51s/it]"
     ]
    },
    {
     "name": "stdout",
     "output_type": "stream",
     "text": [
      "Start processing...\n"
     ]
    },
    {
     "name": "stderr",
     "output_type": "stream",
     "text": [
      "100%|██████████| 9999/9999 [00:00<00:00, 2880810.94it/s]"
     ]
    },
    {
     "name": "stdout",
     "output_type": "stream",
     "text": [
      "End processing...\n"
     ]
    },
    {
     "name": "stderr",
     "output_type": "stream",
     "text": [
      "\n",
      " 80%|████████  | 8/10 [01:12<00:23, 11.70s/it]"
     ]
    },
    {
     "name": "stdout",
     "output_type": "stream",
     "text": [
      "Start processing...\n"
     ]
    },
    {
     "name": "stderr",
     "output_type": "stream",
     "text": [
      "100%|██████████| 9999/9999 [00:00<00:00, 2972278.22it/s]"
     ]
    },
    {
     "name": "stdout",
     "output_type": "stream",
     "text": [
      "End processing...\n"
     ]
    },
    {
     "name": "stderr",
     "output_type": "stream",
     "text": [
      "\n",
      "100%|██████████| 10/10 [01:43<00:00, 10.36s/it]\n"
     ]
    }
   ],
   "source": [
    "outdir = Path(\"/users/k21190024/study/fact-check-transfer-learning/scratch/dumps/bert-data-sent-evidence\")\n",
    "\n",
    "for infile in tqdm(procdir):\n",
    "    infile_stem = infile.stem.split(\".\")\n",
    "    dataset = infile.parent.stem.split(\"-\")[0]\n",
    "    max_evi = 99999 if \"climatefever\" in dataset or infile_stem[0] in [\"dev\", \"test\", \"all\"] else 5\n",
    "    max_nei_evi = 99999 if \"climatefever\" in dataset else 2\n",
    "    if outdir.joinpath(\".\".join([dataset, infile_stem[0], infile_stem[1], \"jsonl\"])).exists():\n",
    "        continue\n",
    "    _ = subprocess.run(shlex.split(f\"\"\"\n",
    "        {sys.executable} /users/k21190024/study/fact-check-transfer-learning/nb/src/script/bert_prepare_data.py \n",
    "        {infile} \n",
    "        {outdir.joinpath(\".\".join([dataset, infile_stem[0], infile_stem[1], \"jsonl\"]))} \n",
    "        {db[infile.parent.stem]} \n",
    "        -p 10 \n",
    "        --sentence-pair \n",
    "        --max-evidence {max_evi}\n",
    "        --nei-max-evidence {max_nei_evi}\n",
    "    \"\"\"), cwd=\"/users/k21190024/study/fact-check-transfer-learning/nb\")"
   ]
  },
  {
   "cell_type": "code",
   "execution_count": null,
   "id": "09cabcce-34ea-495b-8eee-3aa79fa5baf9",
   "metadata": {},
   "outputs": [],
   "source": []
  }
 ],
 "metadata": {
  "kernelspec": {
   "display_name": "Python 3 (ipykernel)",
   "language": "python",
   "name": "python3"
  },
  "language_info": {
   "codemirror_mode": {
    "name": "ipython",
    "version": 3
   },
   "file_extension": ".py",
   "mimetype": "text/x-python",
   "name": "python",
   "nbconvert_exporter": "python",
   "pygments_lexer": "ipython3",
   "version": "3.8.16"
  }
 },
 "nbformat": 4,
 "nbformat_minor": 5
}
