{
 "cells": [
  {
   "cell_type": "code",
   "execution_count": 1,
   "id": "af69fafa-0e95-41e6-978b-a35b68342463",
   "metadata": {},
   "outputs": [],
   "source": [
    "%load_ext autoreload\n",
    "%autoreload 2"
   ]
  },
  {
   "cell_type": "code",
   "execution_count": 2,
   "id": "167798b6-7044-465b-a31d-50aeed4ed9c6",
   "metadata": {},
   "outputs": [],
   "source": [
    "import sys\n",
    "sys.path.insert(0, \"../src\")\n",
    "\n",
    "import json\n",
    "import random\n",
    "import numpy as np\n",
    "import scipy\n",
    "import sqlite3\n",
    "from copy import deepcopy\n",
    "from pathlib import Path\n",
    "from collections import Counter, defaultdict\n",
    "from joblib import Parallel, delayed\n",
    "\n",
    "import constants\n",
    "from gen.util import read_data, write_jsonl\n",
    "from feverise import scifact, climatefever"
   ]
  },
  {
   "cell_type": "code",
   "execution_count": 3,
   "id": "2a04465a-45bf-4362-a300-c947aaa90b22",
   "metadata": {},
   "outputs": [],
   "source": [
    "feverp = Path(\"/users/k21190024/study/fact-check-transfer-learning/scratch/data/fever\")\n",
    "climatefdp = Path(\"/users/k21190024/study/fact-check-transfer-learning/scratch/dumps/feverised-climatefever\")\n",
    "scifactdp = Path(\"/users/k21190024/study/fact-check-transfer-learning/scratch/dumps/feverised-scifact\")"
   ]
  },
  {
   "cell_type": "markdown",
   "id": "1376877a-aedb-46bb-8f48-470319934916",
   "metadata": {},
   "source": [
    "# Generate Climate-FEVER Stratified 3-fold cross validation dataset\n",
    "\n",
    " - Fine-tune each fold with Climate-FEVER then validate on 1 fold Climate-FEVER and test on SciFact\n",
    " - 3-fold for computational reasons\n",
    " - Use same hyperparameter fine tuning parameters\n",
    " - This is done to reduce random effect from dataset\n",
    " \n",
    "__Do I still need this?__"
   ]
  },
  {
   "cell_type": "code",
   "execution_count": 61,
   "id": "352317da-d632-4ce4-89df-b792c846e722",
   "metadata": {},
   "outputs": [],
   "source": [
    "from sklearn.model_selection import StratifiedKFold\n",
    "\n",
    "climatefd_folds_p = Path(\"/users/k21190024/study/fact-check-transfer-learning/scratch/dumps/feverised-climatefever/paper_all_kfold\")\n",
    "kfold = StratifiedKFold(n_splits=3, random_state=constants.SEED, shuffle=True)"
   ]
  },
  {
   "cell_type": "code",
   "execution_count": 62,
   "id": "6c6edbd4-90b7-4c4c-b962-c913d69687de",
   "metadata": {},
   "outputs": [],
   "source": [
    "cf = read_data(climatefdp / \"climatefever_paper_all.jsonl\")\n",
    "cf_idt = np.array([[d[\"id\"], d[\"label\"]] for d in cf])\n",
    "cf_splits = {str(i): np.take(cf, test_idx) for i, (_, test_idx) in enumerate(kfold.split(cf_idt[:, 0], cf_idt[:, 1]))}\n",
    "\n",
    "for i, fold in cf_splits.items():\n",
    "    write_jsonl(climatefd_folds_p / f\"fold{i}.jsonl\", list(fold))"
   ]
  },
  {
   "cell_type": "code",
   "execution_count": 67,
   "id": "691ae536-2dbd-4c0f-a0b8-09ec9a241a2c",
   "metadata": {},
   "outputs": [
    {
     "data": {
      "text/plain": [
       "{'0': Counter({'SUPPORTS': 218, 'REFUTES': 85, 'NOT ENOUGH INFO': 158}),\n",
       " '1': Counter({'SUPPORTS': 218, 'REFUTES': 84, 'NOT ENOUGH INFO': 158}),\n",
       " '2': Counter({'REFUTES': 84, 'SUPPORTS': 218, 'NOT ENOUGH INFO': 158})}"
      ]
     },
     "execution_count": 67,
     "metadata": {},
     "output_type": "execute_result"
    }
   ],
   "source": [
    "from collections import Counter\n",
    "\n",
    "check_folds = {i: Counter([doc[\"label\"] for doc in ls]) for i, ls in cf_splits.items()}\n",
    "check_folds"
   ]
  },
  {
   "cell_type": "markdown",
   "id": "78d1078e-07cd-45d9-ba8c-950410794661",
   "metadata": {},
   "source": [
    "# Create sqlite db for titled SciFact wiki pages and titled ID claims\n",
    "\n",
    "Script: /users/k21190024/study/fact-check-transfer-learning/repos/fever/baseline/src/scripts/build_db_mod.py"
   ]
  },
  {
   "cell_type": "code",
   "execution_count": 37,
   "id": "f711867c-4935-4efb-8e91-20120266b046",
   "metadata": {},
   "outputs": [],
   "source": [
    "conn = sqlite3.connect(scifactdp / \"feverised-scifact-titleid.db\")\n",
    "cur = conn.cursor()\n",
    "\n",
    "cur.execute(\"select * from documents limit 3\")\n",
    "res = cur.fetchall()\n",
    "\n",
    "conn.close()"
   ]
  },
  {
   "cell_type": "code",
   "execution_count": 38,
   "id": "bc2759ba-493c-4de1-af96-567ee7578c9e",
   "metadata": {
    "collapsed": true,
    "jupyter": {
     "outputs_hidden": true
    },
    "tags": []
   },
   "outputs": [
    {
     "data": {
      "text/plain": [
       "[('Microstructural_development_of_human_newborn_cerebral_white_matter_assessed_in_vivo_by_diffusion_tensor_magnetic_resonance_imaging.',\n",
       "  '4983',\n",
       "  'Alterations of the architecture of cerebral white matter in the developing human brain can affect cortical development and result in functional disabilities. A line scan diffusion-weighted magnetic resonance imaging (MRI) sequence with diffusion tensor analysis was applied to measure the apparent diffusion coefficient, to calculate relative anisotropy, and to delineate three-dimensional fiber architecture in cerebral white matter in preterm (n = 17) and full-term infants (n = 7). To assess effects of prematurity on cerebral white matter development, early gestation preterm infants (n = 10) were studied a second time at term. In the central white matter the mean apparent diffusion coefficient at 28 wk was high, 1.8 microm2/ms, and decreased toward term to 1.2 microm2/ms. In the posterior limb of the internal capsule, the mean apparent diffusion coefficients at both times were similar (1.2 versus 1.1 microm2/ms). Relative anisotropy was higher the closer birth was to term with greater absolute values in the internal capsule than in the central white matter. Preterm infants at term showed higher mean diffusion coefficients in the central white matter (1.4 +/- 0.24 versus 1.15 +/- 0.09 microm2/ms, p = 0.016) and lower relative anisotropy in both areas compared with full-term infants (white matter, 10.9 +/- 0.6 versus 22.9 +/- 3.0%, p = 0.001; internal capsule, 24.0 +/- 4.44 versus 33.1 +/- 0.6% p = 0.006). Nonmyelinated fibers in the corpus callosum were visible by diffusion tensor MRI as early as 28 wk; full-term and preterm infants at term showed marked differences in white matter fiber organization. The data indicate that quantitative assessment of water diffusion by diffusion tensor MRI provides insight into microstructural development in cerebral white matter in living infants.',\n",
       "  '0\\tAlterations of the architecture of cerebral white matter in the developing human brain can affect cortical development and result in functional disabilities.\\n1\\tA line scan diffusion-weighted magnetic resonance imaging (MRI) sequence with diffusion tensor analysis was applied to measure the apparent diffusion coefficient, to calculate relative anisotropy, and to delineate three-dimensional fiber architecture in cerebral white matter in preterm (n = 17) and full-term infants (n = 7).\\n2\\tTo assess effects of prematurity on cerebral white matter development, early gestation preterm infants (n = 10) were studied a second time at term.\\n3\\tIn the central white matter the mean apparent diffusion coefficient at 28 wk was high, 1.8 microm2/ms, and decreased toward term to 1.2 microm2/ms.\\n4\\tIn the posterior limb of the internal capsule, the mean apparent diffusion coefficients at both times were similar (1.2 versus 1.1 microm2/ms).\\n5\\tRelative anisotropy was higher the closer birth was to term with greater absolute values in the internal capsule than in the central white matter.\\n6\\tPreterm infants at term showed higher mean diffusion coefficients in the central white matter (1.4 +/-\\n7\\t0.24 versus 1.15 +/-\\n8\\t0.09 microm2/ms, p = 0.016) and lower relative anisotropy in both areas compared with full-term infants (white matter, 10.9 +/- 0.6 versus 22.9 +/-\\n9\\t3.0%, p = 0.001; internal capsule, 24.0 +/-\\n10\\t4.44 versus 33.1 +/-\\n11\\t0.6% p = 0.006).\\n12\\tNonmyelinated fibers in the corpus callosum were visible by diffusion tensor MRI as early as 28 wk; full-term and preterm infants at term showed marked differences in white matter fiber organization.\\n13\\tThe data indicate that quantitative assessment of water diffusion by diffusion tensor MRI provides insight into microstructural development in cerebral white matter in living infants.'),\n",
       " ('Induction_of_myelodysplasia_by_myeloid-derived_suppressor_cells.',\n",
       "  '5836',\n",
       "  'Myelodysplastic syndromes (MDS) are age-dependent stem cell malignancies that share biological features of activated adaptive immune response and ineffective hematopoiesis. Here we report that myeloid-derived suppressor cells (MDSC), which are classically linked to immunosuppression, inflammation, and cancer, were markedly expanded in the bone marrow of MDS patients and played a pathogenetic role in the development of ineffective hematopoiesis. These clonally distinct MDSC overproduce hematopoietic suppressive cytokines and function as potent apoptotic effectors targeting autologous hematopoietic progenitors. Using multiple transfected cell models, we found that MDSC expansion is driven by the interaction of the proinflammatory molecule S100A9 with CD33. These 2 proteins formed a functional ligand/receptor pair that recruited components to CD33’s immunoreceptor tyrosine-based inhibition motif (ITIM), inducing secretion of the suppressive cytokines IL-10 and TGF-β by immature myeloid cells. S100A9 transgenic mice displayed bone marrow accumulation of MDSC accompanied by development of progressive multilineage cytopenias and cytological dysplasia. Importantly, early forced maturation of MDSC by either all-trans-retinoic acid treatment or active immunoreceptor tyrosine-based activation motif–bearing (ITAM-bearing) adapter protein (DAP12) interruption of CD33 signaling rescued the hematologic phenotype. These findings indicate that primary bone marrow expansion of MDSC driven by the S100A9/CD33 pathway perturbs hematopoiesis and contributes to the development of MDS.',\n",
       "  '0\\tMyelodysplastic syndromes (MDS) are age-dependent stem cell malignancies that share biological features of activated adaptive immune response and ineffective hematopoiesis.\\n1\\tHere we report that myeloid-derived suppressor cells (MDSC), which are classically linked to immunosuppression, inflammation, and cancer, were markedly expanded in the bone marrow of MDS patients and played a pathogenetic role in the development of ineffective hematopoiesis.\\n2\\tThese clonally distinct MDSC overproduce hematopoietic suppressive cytokines and function as potent apoptotic effectors targeting autologous hematopoietic progenitors.\\n3\\tUsing multiple transfected cell models, we found that MDSC expansion is driven by the interaction of the proinflammatory molecule S100A9 with CD33.\\n4\\tThese 2 proteins formed a functional ligand/receptor pair that recruited components to CD33’s immunoreceptor tyrosine-based inhibition motif (ITIM), inducing secretion of the suppressive cytokines IL-10 and TGF-β by immature myeloid cells.\\n5\\tS100A9 transgenic mice displayed bone marrow accumulation of MDSC accompanied by development of progressive multilineage cytopenias and cytological dysplasia.\\n6\\tImportantly, early forced maturation of MDSC by either all-trans-retinoic acid treatment or active immunoreceptor tyrosine-based activation motif–bearing (ITAM-bearing) adapter protein (DAP12) interruption of CD33 signaling rescued the hematologic phenotype.\\n7\\tThese findings indicate that primary bone marrow expansion of MDSC driven by the S100A9/CD33 pathway perturbs hematopoiesis and contributes to the development of MDS.'),\n",
       " ('BC1_RNA,_the_transcript_from_a_master_gene_for_ID_element_amplification,_is_able_to_prime_its_own_reverse_transcription.',\n",
       "  '7912',\n",
       "  \"ID elements are short interspersed elements (SINEs) found in high copy number in many rodent genomes. BC1 RNA, an ID-related transcript, is derived from the single copy BC1 RNA gene. The BC1 RNA gene has been shown to be a master gene for ID element amplification in rodent genomes. ID elements are dispersed through a process termed retroposition. The retroposition process involves a number of potential regulatory steps. These regulatory steps may include transcription in the appropriate tissue, transcript stability, priming of the RNA transcript for reverse transcription and integration. This study focuses on priming of the RNA transcript for reverse transcription. BC1 RNA gene transcripts are shown to be able to prime their own reverse transcription in an efficient intramolecular and site-specific fashion. This self-priming ability is a consequence of the secondary structure of the 3'-unique region. The observation that a gene actively amplified throughout rodent evolution makes a RNA capable of efficient self-primed reverse transcription strongly suggests that self-priming is at least one feature establishing the BC1 RNA gene as a master gene for amplification of ID elements.\",\n",
       "  \"0\\tID elements are short interspersed elements (SINEs) found in high copy number in many rodent genomes.\\n1\\tBC1 RNA, an ID-related transcript, is derived from the single copy BC1 RNA gene.\\n2\\tThe BC1 RNA gene has been shown to be a master gene for ID element amplification in rodent genomes.\\n3\\tID elements are dispersed through a process termed retroposition.\\n4\\tThe retroposition process involves a number of potential regulatory steps.\\n5\\tThese regulatory steps may include transcription in the appropriate tissue, transcript stability, priming of the RNA transcript for reverse transcription and integration.\\n6\\tThis study focuses on priming of the RNA transcript for reverse transcription.\\n7\\tBC1 RNA gene transcripts are shown to be able to prime their own reverse transcription in an efficient intramolecular and site-specific fashion.\\n8\\tThis self-priming ability is a consequence of the secondary structure of the 3'-unique region.\\n9\\tThe observation that a gene actively amplified throughout rodent evolution makes a RNA capable of efficient self-primed reverse transcription strongly suggests that self-priming is at least one feature establishing the BC1 RNA gene as a master gene for amplification of ID elements.\")]"
      ]
     },
     "execution_count": 38,
     "metadata": {},
     "output_type": "execute_result"
    }
   ],
   "source": [
    "res"
   ]
  },
  {
   "cell_type": "code",
   "execution_count": 5,
   "id": "2ce68721-5bba-402c-90f9-e37ac61eb425",
   "metadata": {},
   "outputs": [
    {
     "data": {
      "text/plain": [
       "({'id': 222,\n",
       "  'claim': 'Ca2+ cycling is a UCP1-independent thermogenic mechanism.',\n",
       "  'label': 'SUPPORTS',\n",
       "  'verifiable': 'VERIFIABLE',\n",
       "  'elab': ['SUPPORTS', 'SUPPORTS'],\n",
       "  'evidence': [[[None, None, '19205437', 1], [None, None, '19205437', 3]]]},\n",
       " {'id': 0,\n",
       "  'claim': '0-dimensional biomaterials lack inductive properties.',\n",
       "  'label': 'NOT ENOUGH INFO',\n",
       "  'verifiable': 'NOT VERIFIABLE',\n",
       "  'elab': None,\n",
       "  'evidence': [[[None, None, None, None]]]})"
      ]
     },
     "execution_count": 5,
     "metadata": {},
     "output_type": "execute_result"
    }
   ],
   "source": [
    "sf_claims = read_data(scifactdp / \"scifact_all.jsonl\")\n",
    "sf_claims[129], sf_claims[0]"
   ]
  },
  {
   "cell_type": "code",
   "execution_count": 4,
   "id": "2d070309-4aca-4220-a0d8-ac7f1e3b3e05",
   "metadata": {},
   "outputs": [],
   "source": [
    "def replace_id_with_titleid(doc):\n",
    "    if doc[\"label\"] == \"NOT ENOUGH INFO\":\n",
    "        return doc\n",
    "    conn = sqlite3.connect(scifactdp / \"feverised-scifact-titleid.db\")\n",
    "    cur = conn.cursor()\n",
    "    \n",
    "    evidences = doc[\"evidence\"]\n",
    "    titleid_evidences = []\n",
    "    for e in evidences[0]:\n",
    "        cur.execute(\"SELECT id FROM documents WHERE original_id = ?\", (e[2],))\n",
    "        res = cur.fetchone()[0]\n",
    "        titleid_evidences.append([e[0], e[1], res, e[3]])\n",
    "    new_doc = deepcopy(doc)\n",
    "    new_doc[\"evidence\"] = titleid_evidences\n",
    "    \n",
    "    conn.close()\n",
    "    \n",
    "    return new_doc"
   ]
  },
  {
   "cell_type": "code",
   "execution_count": 9,
   "id": "35b70c36-64e9-4e13-ba69-88dc4d61d1d3",
   "metadata": {},
   "outputs": [
    {
     "data": {
      "text/plain": [
       "(1109, True)"
      ]
     },
     "execution_count": 9,
     "metadata": {},
     "output_type": "execute_result"
    }
   ],
   "source": [
    "titleid_sf_claims = Parallel(n_jobs=20)(delayed(replace_id_with_titleid)(doc) for doc in sf_claims)\n",
    "len(titleid_sf_claims), all([new[\"id\"] == old[\"id\"] for old, new in zip(sf_claims, titleid_sf_claims)])"
   ]
  },
  {
   "cell_type": "code",
   "execution_count": 11,
   "id": "bf432243-975c-4db4-8af2-6e2c318f83ac",
   "metadata": {},
   "outputs": [
    {
     "data": {
      "text/plain": [
       "PosixPath('/users/k21190024/study/fact-check-transfer-learning/scratch/dumps/feverised-scifact/scifact_all_titleid.jsonl')"
      ]
     },
     "execution_count": 11,
     "metadata": {},
     "output_type": "execute_result"
    }
   ],
   "source": [
    "write_jsonl(scifactdp / \"scifact_all_titleid.jsonl\", titleid_sf_claims)"
   ]
  }
 ],
 "metadata": {
  "kernelspec": {
   "display_name": "Python 3 (ipykernel)",
   "language": "python",
   "name": "python3"
  },
  "language_info": {
   "codemirror_mode": {
    "name": "ipython",
    "version": 3
   },
   "file_extension": ".py",
   "mimetype": "text/x-python",
   "name": "python",
   "nbconvert_exporter": "python",
   "pygments_lexer": "ipython3",
   "version": "3.8.16"
  }
 },
 "nbformat": 4,
 "nbformat_minor": 5
}
