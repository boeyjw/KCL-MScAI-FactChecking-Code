{
 "cells": [
  {
   "cell_type": "code",
   "execution_count": 3,
   "id": "af69fafa-0e95-41e6-978b-a35b68342463",
   "metadata": {},
   "outputs": [],
   "source": [
    "%load_ext autoreload\n",
    "%autoreload 2"
   ]
  },
  {
   "cell_type": "code",
   "execution_count": 39,
   "id": "167798b6-7044-465b-a31d-50aeed4ed9c6",
   "metadata": {},
   "outputs": [],
   "source": [
    "import sys\n",
    "sys.path.insert(0, \"../src\")\n",
    "\n",
    "import json\n",
    "import random\n",
    "import numpy as np\n",
    "import scipy\n",
    "from pathlib import Path\n",
    "from collections import Counter, defaultdict\n",
    "from joblib import Parallel, delayed\n",
    "\n",
    "import constants\n",
    "from gen.util import read_data, write_jsonl\n",
    "from feverise import scifact, climatefever"
   ]
  },
  {
   "cell_type": "code",
   "execution_count": 12,
   "id": "2a04465a-45bf-4362-a300-c947aaa90b22",
   "metadata": {},
   "outputs": [],
   "source": [
    "feverp = Path(\"/users/k21190024/study/fact-check-transfer-learning/scratch/data/fever\")\n",
    "climatefdp = Path(\"/users/k21190024/study/fact-check-transfer-learning/scratch/dumps/feverised-climatefever\")\n",
    "scifactdp = Path(\"/users/k21190024/study/fact-check-transfer-learning/scratch/dumps/feverised-scifact\")\n",
    "\n",
    "modelp = Path(\"/scratch/users/k21190024/fact-check-transfer-learning/models\")"
   ]
  },
  {
   "cell_type": "markdown",
   "id": "1376877a-aedb-46bb-8f48-470319934916",
   "metadata": {},
   "source": [
    "# Generate Climate-FEVER Stratified 3-fold cross validation dataset\n",
    "\n",
    " - Fine-tune each fold with Climate-FEVER then validate on 1 fold Climate-FEVER and test on SciFact\n",
    " - 3-fold for computational reasons\n",
    " - Use same hyperparameter fine tuning parameters\n",
    " - This is done to reduce random effect from dataset"
   ]
  },
  {
   "cell_type": "code",
   "execution_count": 61,
   "id": "352317da-d632-4ce4-89df-b792c846e722",
   "metadata": {},
   "outputs": [],
   "source": [
    "from sklearn.model_selection import StratifiedKFold\n",
    "\n",
    "climatefd_folds_p = Path(\"/users/k21190024/study/fact-check-transfer-learning/scratch/dumps/feverised-climatefever/paper_all_kfold\")\n",
    "kfold = StratifiedKFold(n_splits=3, random_state=constants.SEED, shuffle=True)"
   ]
  },
  {
   "cell_type": "code",
   "execution_count": 62,
   "id": "6c6edbd4-90b7-4c4c-b962-c913d69687de",
   "metadata": {},
   "outputs": [],
   "source": [
    "cf = read_data(climatefdp / \"climatefever_paper_all.jsonl\")\n",
    "cf_idt = np.array([[d[\"id\"], d[\"label\"]] for d in cf])\n",
    "cf_splits = {str(i): np.take(cf, test_idx) for i, (_, test_idx) in enumerate(kfold.split(cf_idt[:, 0], cf_idt[:, 1]))}\n",
    "\n",
    "for i, fold in cf_splits.items():\n",
    "    write_jsonl(climatefd_folds_p / f\"fold{i}.jsonl\", list(fold))"
   ]
  },
  {
   "cell_type": "code",
   "execution_count": 67,
   "id": "691ae536-2dbd-4c0f-a0b8-09ec9a241a2c",
   "metadata": {},
   "outputs": [
    {
     "data": {
      "text/plain": [
       "{'0': Counter({'SUPPORTS': 218, 'REFUTES': 85, 'NOT ENOUGH INFO': 158}),\n",
       " '1': Counter({'SUPPORTS': 218, 'REFUTES': 84, 'NOT ENOUGH INFO': 158}),\n",
       " '2': Counter({'REFUTES': 84, 'SUPPORTS': 218, 'NOT ENOUGH INFO': 158})}"
      ]
     },
     "execution_count": 67,
     "metadata": {},
     "output_type": "execute_result"
    }
   ],
   "source": [
    "from collections import Counter\n",
    "\n",
    "check_folds = {i: Counter([doc[\"label\"] for doc in ls]) for i, ls in cf_splits.items()}\n",
    "check_folds"
   ]
  },
  {
   "cell_type": "code",
   "execution_count": null,
   "id": "6bcba2b8-78b5-48f6-92d8-32d6c93beb54",
   "metadata": {},
   "outputs": [],
   "source": []
  }
 ],
 "metadata": {
  "kernelspec": {
   "display_name": "Python 3 (ipykernel)",
   "language": "python",
   "name": "python3"
  },
  "language_info": {
   "codemirror_mode": {
    "name": "ipython",
    "version": 3
   },
   "file_extension": ".py",
   "mimetype": "text/x-python",
   "name": "python",
   "nbconvert_exporter": "python",
   "pygments_lexer": "ipython3",
   "version": "3.8.16"
  }
 },
 "nbformat": 4,
 "nbformat_minor": 5
}
