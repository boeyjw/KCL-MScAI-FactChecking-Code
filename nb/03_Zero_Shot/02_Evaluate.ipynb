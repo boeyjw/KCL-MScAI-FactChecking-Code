{
 "cells": [
  {
   "cell_type": "code",
   "execution_count": 1,
   "id": "c153aaa0-6ced-439a-8ca7-7718dd51b521",
   "metadata": {},
   "outputs": [],
   "source": [
    "%load_ext autoreload\n",
    "%autoreload 2"
   ]
  },
  {
   "cell_type": "code",
   "execution_count": 11,
   "id": "a716f540-beae-49b8-8d6d-3dd3e3c70914",
   "metadata": {},
   "outputs": [],
   "source": [
    "import sys\n",
    "sys.path.insert(0, \"../src\")\n",
    "\n",
    "import numpy as np\n",
    "import pandas as pd\n",
    "from pathlib import Path\n",
    "from copy import deepcopy\n",
    "\n",
    "import constants\n",
    "from gen.util import read_data, write_jsonl"
   ]
  },
  {
   "cell_type": "code",
   "execution_count": 5,
   "id": "c34b41e3-2a84-455c-a57d-55705f9d9a3e",
   "metadata": {},
   "outputs": [
    {
     "data": {
      "text/plain": [
       "1109"
      ]
     },
     "execution_count": 5,
     "metadata": {},
     "output_type": "execute_result"
    }
   ],
   "source": [
    "sf_all = read_data(Path(\"/users/k21190024/study/fact-check-transfer-learning/repos/fever/baseline/dumps/feverised-scifact/scifact_all.jsonl\"))\n",
    "len(sf_all)"
   ]
  },
  {
   "cell_type": "markdown",
   "id": "a77b6458-8aad-4ff2-a78f-b2d964020ba4",
   "metadata": {},
   "source": [
    "# Baseline"
   ]
  },
  {
   "cell_type": "code",
   "execution_count": 21,
   "id": "aea6a43e-ba73-4d49-b0fa-e3fdca0aded7",
   "metadata": {
    "tags": []
   },
   "outputs": [
    {
     "data": {
      "text/plain": [
       "(SUPPORTS           456\n",
       " NOT ENOUGH INFO    416\n",
       " REFUTES            237\n",
       " Name: label, dtype: int64,\n",
       " SUPPORTS           951\n",
       " REFUTES             90\n",
       " NOT ENOUGH INFO     68\n",
       " Name: predicted_label, dtype: int64)"
      ]
     },
     "execution_count": 21,
     "metadata": {},
     "output_type": "execute_result"
    }
   ],
   "source": [
    "baseline_ir = read_data(Path(\"/users/k21190024/study/fact-check-transfer-learning/repos/fever/baseline/thesis/zeroshot/feveronly/baseline/predstage/ir.scifact_all_test.jsonl\"))\n",
    "baseline_preds = read_data(Path(\"/users/k21190024/study/fact-check-transfer-learning/repos/fever/baseline/thesis/zeroshot/feveronly/baseline/scifact_all_test.pred.jsonl\"))\n",
    "\n",
    "baseline_merged = []\n",
    "sf_cp = deepcopy(sf_all)\n",
    "\n",
    "for doc, ir, pred in zip(sf_cp, baseline_ir, baseline_preds):\n",
    "    del ir[\"id\"], ir[\"claim\"]\n",
    "    doc.update(ir)\n",
    "    doc.update(pred)\n",
    "    baseline_merged.append(doc)\n",
    "baseline_merged = pd.DataFrame(baseline_merged)\n",
    "\n",
    "baseline_merged[\"label\"].value_counts(), baseline_merged[\"predicted_label\"].value_counts()"
   ]
  },
  {
   "cell_type": "markdown",
   "id": "87c5fd9c-263b-4f23-8e6e-0318d652271c",
   "metadata": {},
   "source": [
    "# UNC NLP"
   ]
  },
  {
   "cell_type": "code",
   "execution_count": null,
   "id": "613b0609-e372-43ec-8df2-14805b7c5b48",
   "metadata": {},
   "outputs": [],
   "source": []
  },
  {
   "cell_type": "markdown",
   "id": "709fdd41-7f72-4c98-81ad-5f70a1591109",
   "metadata": {},
   "source": [
    "# UCL NLP"
   ]
  },
  {
   "cell_type": "code",
   "execution_count": null,
   "id": "1eff9573-494b-41c4-bded-de2de5646d33",
   "metadata": {},
   "outputs": [],
   "source": []
  }
 ],
 "metadata": {
  "kernelspec": {
   "display_name": "Python 3 (ipykernel)",
   "language": "python",
   "name": "python3"
  },
  "language_info": {
   "codemirror_mode": {
    "name": "ipython",
    "version": 3
   },
   "file_extension": ".py",
   "mimetype": "text/x-python",
   "name": "python",
   "nbconvert_exporter": "python",
   "pygments_lexer": "ipython3",
   "version": "3.8.16"
  }
 },
 "nbformat": 4,
 "nbformat_minor": 5
}
