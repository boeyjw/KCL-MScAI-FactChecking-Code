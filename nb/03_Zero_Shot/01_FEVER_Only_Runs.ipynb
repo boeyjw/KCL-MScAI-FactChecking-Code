{
 "cells": [
  {
   "cell_type": "code",
   "execution_count": 1,
   "id": "bbbc1043-aa42-4a9b-a070-ece390f59c99",
   "metadata": {},
   "outputs": [],
   "source": [
    "%load_ext autoreload\n",
    "%autoreload 2"
   ]
  },
  {
   "cell_type": "code",
   "execution_count": 2,
   "id": "b6c7b233-f112-420e-ba33-cd911f788ce5",
   "metadata": {},
   "outputs": [],
   "source": [
    "import os\n",
    "import sys\n",
    "sys.path.append(\"../src\")\n",
    "import pickle as pkl\n",
    "\n",
    "import json\n",
    "import sqlite3\n",
    "import numpy as np\n",
    "import scipy.sparse as sp\n",
    "from pathlib import Path\n",
    "\n",
    "import constants\n",
    "from gen.util import read_data, write_jsonl"
   ]
  },
  {
   "cell_type": "markdown",
   "id": "b0bbd049-8fc0-49b8-8e60-401150c925be",
   "metadata": {},
   "source": [
    "# Approaches\n",
    "\n",
    "## Approach 1\n",
    "FEVER corpus + SciFact Claims => FEVER trained information retrieval module => FEVER trained RTE => SciFact claims with FEVER evidence\n",
    "\n",
    "This approach is truly no knowledge pipeline as there is also no SciFact corpus. However, this pipeline disallow evaluation of the quality of information retrieval module and if relevant evidence for each SciFact claim was retrieved correctly. Can only evaluate if the claim was correctly predicted.\n",
    "\n",
    "## Approach 2 (Use this approach)\n",
    "SciFact corpus => FEVER trained information retrieval module => FEVER trained RTE => SciFact claims with SciFact evidence\n",
    "\n",
    "This approach is most sensible for zero-shot as there is SciFact corpus. However, this pipeline does not feel like pure zero-shot (assumes SciFact corpus exist). This pipeline allows evaluation of information retrieval module and claim-evidence pair. May require rewritting the entire information retrieval code as most are indexed on trained corpus.\n",
    "\n",
    "## Approach 3\n",
    "FEVER+SciFact corpus => FEVER trained information retrieval module => FEVER trained RTE => SciFact claims with FEVER and/or SciFact evidence\n",
    "\n",
    "Similar to Approach 2 but with FEVER corpus mixed in. However, the information retrieval module may be bias to FEVER corpus since it is trained on it. Still a sensible pipeline and allows evaluation of information retrieval module and claim-evidence pair."
   ]
  },
  {
   "cell_type": "markdown",
   "id": "99e9b970-45bc-4503-9df2-1b3fc5cf6809",
   "metadata": {},
   "source": [
    "# Baseline (Executed)\n",
    "\n",
    "TF-IDF (SciFact Corpus Indexed) => Decomposable Attention (FEVER trained)\n",
    "\n",
    "Use \"/users/k21190024/study/fact-check-transfer-learning/repos/fever/baseline-fever2-sample/predict.sh\" to make predictions on SciFact\n",
    " 1. Run command in executing server.\n",
    " 2. ml purge\n",
    " 3. source activate fever-baseline\n",
    " 4. Corpus index: ```/users/k21190024/study/fact-check-transfer-learning/repos/fever/baseline/fever2-sample/data/index``` \n",
    " 5. Corpus database: ```/users/k21190024/study/fact-check-transfer-learning/repos/fever/baseline/fever2-sample/data/fever/fever.db```\n",
    " 6. Prediction: ```bash /users/k21190024/study/fact-check-transfer-learning/repos/fever/baseline/thesis/zeroshot/feveronly/baseline/scripts/01_predict_zeroshot_feveronly.sh /scratch/users/k21190024/fact-check-transfer-learning/dumps/feverised-scifact/scifact_all_test.jsonl /users/k21190024/study/fact-check-transfer-learning/repos/fever/baseline/thesis/zeroshot/feveronly/baseline/scifact_all_test.pred.jsonl```"
   ]
  },
  {
   "cell_type": "code",
   "execution_count": 7,
   "id": "7016fe4d-9e3f-44b1-8a02-8e3d2e88db67",
   "metadata": {},
   "outputs": [
    {
     "data": {
      "text/plain": [
       "'/users/k21190024/study/fact-checking-repos/fever/baseline'"
      ]
     },
     "execution_count": 7,
     "metadata": {},
     "output_type": "execute_result"
    }
   ],
   "source": [
    "os.chdir(\"/users/k21190024/study/fact-check-transfer-learning/repos/fever/baseline\")\n",
    "os.getcwd()"
   ]
  },
  {
   "cell_type": "markdown",
   "id": "6998b28a-0407-439d-9c73-bd86178aab5b",
   "metadata": {},
   "source": [
    "## Peek into DB"
   ]
  },
  {
   "cell_type": "code",
   "execution_count": 8,
   "id": "b2c75671-5581-4478-8df1-aa9081a88b1d",
   "metadata": {
    "collapsed": true,
    "jupyter": {
     "outputs_hidden": true
    },
    "tags": []
   },
   "outputs": [
    {
     "data": {
      "text/plain": [
       "('Year_book',\n",
       " 'Year book may refer to :  Yearbook , a book to record , highlight , and commemorate the past year of a school  The Year Books , the earliest law reports of England ',\n",
       " '0\\tYear book may refer to :\\n1\\t\\n2\\tYearbook , a book to record , highlight , and commemorate the past year of a school\\tYearbook\\tYearbook\\n3\\t\\n4\\tThe Year Books , the earliest law reports of England\\tYear Books\\tYear Books\\n5\\t')"
      ]
     },
     "execution_count": 8,
     "metadata": {},
     "output_type": "execute_result"
    }
   ],
   "source": [
    "f_con = sqlite3.connect(\"/users/k21190024/study/fact-check-transfer-learning/repos/fever/baseline/thesis/zeroshot/feveronly/baseline/fever.db\")\n",
    "f_cur = f_con.cursor()\n",
    "\n",
    "f_cur.execute(\"\"\"select * from documents\"\"\")\n",
    "f_cur.fetchone()"
   ]
  },
  {
   "cell_type": "code",
   "execution_count": 5,
   "id": "0681ae53-dcad-4166-a81f-5fa8380463bf",
   "metadata": {
    "collapsed": true,
    "jupyter": {
     "outputs_hidden": true
    },
    "tags": []
   },
   "outputs": [
    {
     "data": {
      "text/plain": [
       "('4983',\n",
       " 'Alterations of the architecture of cerebral white matter in the developing human brain can affect cortical development and result in functional disabilities. A line scan diffusion-weighted magnetic resonance imaging (MRI) sequence with diffusion tensor analysis was applied to measure the apparent diffusion coefficient, to calculate relative anisotropy, and to delineate three-dimensional fiber architecture in cerebral white matter in preterm (n = 17) and full-term infants (n = 7). To assess effects of prematurity on cerebral white matter development, early gestation preterm infants (n = 10) were studied a second time at term. In the central white matter the mean apparent diffusion coefficient at 28 wk was high, 1.8 microm2/ms, and decreased toward term to 1.2 microm2/ms. In the posterior limb of the internal capsule, the mean apparent diffusion coefficients at both times were similar (1.2 versus 1.1 microm2/ms). Relative anisotropy was higher the closer birth was to term with greater absolute values in the internal capsule than in the central white matter. Preterm infants at term showed higher mean diffusion coefficients in the central white matter (1.4 +/- 0.24 versus 1.15 +/- 0.09 microm2/ms, p = 0.016) and lower relative anisotropy in both areas compared with full-term infants (white matter, 10.9 +/- 0.6 versus 22.9 +/- 3.0%, p = 0.001; internal capsule, 24.0 +/- 4.44 versus 33.1 +/- 0.6% p = 0.006). Nonmyelinated fibers in the corpus callosum were visible by diffusion tensor MRI as early as 28 wk; full-term and preterm infants at term showed marked differences in white matter fiber organization. The data indicate that quantitative assessment of water diffusion by diffusion tensor MRI provides insight into microstructural development in cerebral white matter in living infants.',\n",
       " '0\\tAlterations of the architecture of cerebral white matter in the developing human brain can affect cortical development and result in functional disabilities.\\n1\\tA line scan diffusion-weighted magnetic resonance imaging (MRI) sequence with diffusion tensor analysis was applied to measure the apparent diffusion coefficient, to calculate relative anisotropy, and to delineate three-dimensional fiber architecture in cerebral white matter in preterm (n = 17) and full-term infants (n = 7).\\n2\\tTo assess effects of prematurity on cerebral white matter development, early gestation preterm infants (n = 10) were studied a second time at term.\\n3\\tIn the central white matter the mean apparent diffusion coefficient at 28 wk was high, 1.8 microm2/ms, and decreased toward term to 1.2 microm2/ms.\\n4\\tIn the posterior limb of the internal capsule, the mean apparent diffusion coefficients at both times were similar (1.2 versus 1.1 microm2/ms).\\n5\\tRelative anisotropy was higher the closer birth was to term with greater absolute values in the internal capsule than in the central white matter.\\n6\\tPreterm infants at term showed higher mean diffusion coefficients in the central white matter (1.4 +/-\\n7\\t0.24 versus 1.15 +/-\\n8\\t0.09 microm2/ms, p = 0.016) and lower relative anisotropy in both areas compared with full-term infants (white matter, 10.9 +/- 0.6 versus 22.9 +/-\\n9\\t3.0%, p = 0.001; internal capsule, 24.0 +/-\\n10\\t4.44 versus 33.1 +/-\\n11\\t0.6% p = 0.006).\\n12\\tNonmyelinated fibers in the corpus callosum were visible by diffusion tensor MRI as early as 28 wk; full-term and preterm infants at term showed marked differences in white matter fiber organization.\\n13\\tThe data indicate that quantitative assessment of water diffusion by diffusion tensor MRI provides insight into microstructural development in cerebral white matter in living infants.')"
      ]
     },
     "execution_count": 5,
     "metadata": {},
     "output_type": "execute_result"
    }
   ],
   "source": [
    "import sqlite3\n",
    "\n",
    "sf_con = sqlite3.connect(\"/users/k21190024/study/fact-check-transfer-learning/repos/fever/baseline/thesis/zeroshot/feveronly/baseline/feverised_scifact.db\")\n",
    "sf_cur = sf_con.cursor()\n",
    "\n",
    "sf_cur.execute(\"\"\"select * from documents\"\"\")\n",
    "sf_cur.fetchone()"
   ]
  },
  {
   "cell_type": "markdown",
   "id": "edcf36d3-2ed0-4fa6-aaaf-9e6b6a5862b0",
   "metadata": {},
   "source": [
    "# UNC NLP (Executed but information retrieval fails)\n",
    "\n",
    "Neural Semantic Matching Networks\n",
    "  - Seems to use doc_id as search key?\n",
    "\n",
    "1. Run command in executing server\n",
    "2. `ml purge`\n",
    "3. source activate \\`which conda\\`\n",
    "4. `conda activate fever-uncnlp36`\n",
    "5. `ml load openjdk/1.8.0_265-b01-gcc-9.4.0`\n",
    "6. `export PYTHONPATH=$PYTHONPATH:/users/k21190024/study/fact-check-transfer-learning/repos/fever/uncnlp/src && cd /users/k21190024/study/fact-check-transfer-learning/repos/fever/uncnlp`\n",
    "7. Tokenisation: ```python src/pipeline/prepare_data.py tokenization```\n",
    "8. Indexing: ```python src/pipeline/prepare_data.py build_database```\n",
    "9. AFTER all subsection code is run and required files are generated, run `python src/pipeline/auto_pipeline.py`"
   ]
  },
  {
   "cell_type": "code",
   "execution_count": 6,
   "id": "d2e89577-2af6-4d74-a2f4-81fa2348f837",
   "metadata": {},
   "outputs": [
    {
     "data": {
      "text/plain": [
       "'/users/k21190024/study/fact-checking-repos/fever/uncnlp'"
      ]
     },
     "execution_count": 6,
     "metadata": {},
     "output_type": "execute_result"
    }
   ],
   "source": [
    "os.chdir(\"/users/k21190024/study/fact-check-transfer-learning/repos/fever/uncnlp\")\n",
    "os.getcwd()"
   ]
  },
  {
   "cell_type": "markdown",
   "id": "7b476f43-f8a0-45de-8617-b57e169e9ed9",
   "metadata": {},
   "source": [
    "## Peek into DB"
   ]
  },
  {
   "cell_type": "code",
   "execution_count": 3,
   "id": "1e359a44-7f47-48c9-a1bb-d43ceedc7e05",
   "metadata": {},
   "outputs": [],
   "source": [
    "f_con = sqlite3.connect(\"/users/k21190024/study/fact-check-transfer-learning/repos/fever/uncnlp/data/fever.db\")\n",
    "f_cur = f_con.cursor()\n",
    "\n",
    "sf_con = sqlite3.connect(\"/users/k21190024/study/fact-check-transfer-learning/repos/fever/uncnlp/thesis/zeroshot/feveronly/uncnlp/feverised_scifact_id_title.db\")\n",
    "sf_cur = sf_con.cursor()"
   ]
  },
  {
   "cell_type": "code",
   "execution_count": 4,
   "id": "059f45d3-7c13-4d76-aca6-3556ff88bf60",
   "metadata": {
    "collapsed": true,
    "jupyter": {
     "outputs_hidden": true
    },
    "tags": []
   },
   "outputs": [
    {
     "data": {
      "text/plain": [
       "[('Salām-e_Shāh',\n",
       "  \"Salām-e Shāh -LRB- سلام شاه , -LSB- sæˈlɒːme ʃɒːh -RSB- , `` Royal Salute '' -RRB- was the royal and national anthem of Persia -LRB- Iran -RRB- between 1873 and 1909 . Alfred Jean Baptiste Lemaire composed this anthem in 1873 on the orders of Naser al-Din Shah . It had no lyrics .   Salām-e Shāh was played in official ceremonies during the reign of Naser al-Din Shah , Mozaffar ad-Din Shah and Mohammad Ali Shah . It was also played as Persian national anthem during Naser al-Din Shah 's and Mozaffar ad-Din Shah 's European tours .   In 1909 after the fall of Mohammad Ali Shah , the anthem was abolished and after coronation of his son and successor Ahmad Shah in 1914 , Salute of Sublime State of Persia was adopted as Persian national anthem .\",\n",
       "  '[{\"line_num\": 0, \"sentences\": \"Sala\\\\u0304m-e Sha\\\\u0304h -LRB- \\\\u0633\\\\u0644\\\\u0627\\\\u0645 \\\\u0634\\\\u0627\\\\u0647 , -LSB- s\\\\u00e6\\\\u02c8l\\\\u0252\\\\u02d0me \\\\u0283\\\\u0252\\\\u02d0h -RSB- , `` Royal Salute \\'\\' -RRB- was the royal and national anthem of Persia -LRB- Iran -RRB- between 1873 and 1909 .\", \"h_links\": [\"royal\", \"royal anthem\", \"national anthem\", \"national anthem\"]}, {\"line_num\": 1, \"sentences\": \"Alfred Jean Baptiste Lemaire composed this anthem in 1873 on the orders of Naser al-Din Shah .\", \"h_links\": [\"Alfred Jean Baptiste Lemaire\", \"Alfred Jean Baptiste Lemaire\", \"Naser al-Din Shah\", \"Naser al-Din Shah\"]}, {\"line_num\": 2, \"sentences\": \"It had no lyrics .\", \"h_links\": []}, {\"line_num\": 3, \"sentences\": [], \"h_links\": []}, {\"line_num\": 4, \"sentences\": [], \"h_links\": []}, {\"line_num\": 5, \"sentences\": \"Sala\\\\u0304m-e Sha\\\\u0304h was played in official ceremonies during the reign of Naser al-Din Shah , Mozaffar ad-Din Shah and Mohammad Ali Shah .\", \"h_links\": [\"Naser al-Din Shah\", \"Naser al-Din Shah\", \"Mozaffar ad-Din Shah\", \"Mozaffar ad-Din Shah\", \"Mohammad Ali Shah\", \"Mohammad Ali Shah\"]}, {\"line_num\": 6, \"sentences\": \"It was also played as Persian national anthem during Naser al-Din Shah \\'s and Mozaffar ad-Din Shah \\'s European tours .\", \"h_links\": [\"national anthem\", \"national anthem\", \"Naser al-Din Shah\", \"Naser al-Din Shah\", \"Mozaffar ad-Din Shah\", \"Mozaffar ad-Din Shah\"]}, {\"line_num\": 7, \"sentences\": [], \"h_links\": []}, {\"line_num\": 8, \"sentences\": [], \"h_links\": []}, {\"line_num\": 9, \"sentences\": \"In 1909 after the fall of Mohammad Ali Shah , the anthem was abolished and after coronation of his son and successor Ahmad Shah in 1914 , Salute of Sublime State of Persia was adopted as Persian national anthem .\", \"h_links\": [\"national anthem\", \"national anthem\", \"Mohammad Ali Shah\", \"Mohammad Ali Shah\", \"Ahmad Shah\", \"Ahmad Shah Qajar\", \"Salute of Sublime State of Persia\", \"Salute of Sublime State of Persia\"]}, {\"line_num\": 10, \"sentences\": [], \"h_links\": []}]'),\n",
       " ('Samian_War',\n",
       "  \"The Samian War -LRB- 440 -- 439 BC -RRB- was an Ancient Greek military conflict between Athens and Samos . The war was initiated by Athens 's intervention in a dispute between Samos and Miletus . When the Samians refused to break off their attacks on Miletus as ordered , the Athenians easily drove out the oligarchic government of Samos and installed a garrison in the city , but the oligarchs soon returned , with Persian support .   A larger Athenian fleet was dispatched to suppress this agitation . This fleet initially defeated the Samians and blockaded the city , but Pericles , in command , was then forced to lead a substantial portion of the fleet away upon learning that the Persian fleet was approaching from the south . Although the Persians turned back before the two fleets met , the absence of most of the Athenian fleet allowed the Samians to drive off the remaining blockaders and , for two weeks , control the sea around their island ; upon Pericles 's return , however , the Athenians again blockaded and besieged Samos ; the city surrendered nine months later . Under the terms of the surrender , the Samians tore down their walls , gave up hostages , surrendered their fleet , and agreed to pay Athens a war indemnity over the next 26 years .   During the course of the war , the Samians had apparently appealed to Sparta for assistance ; the Spartans were initially inclined to grant this request , and were prevented from doing so primarily by Corinth 's unwillingness to participate in a war against Athens at the time . In 433 BC , when Corcyra requested Athenian assistance against Corinth , the Corinthians would remind the Athenians of the good will they had shown at this time .\",\n",
       "  '[{\"line_num\": 0, \"sentences\": \"The Samian War -LRB- 440 -- 439 BC -RRB- was an Ancient Greek military conflict between Athens and Samos .\", \"h_links\": [\"Samos\", \"Samos Island\", \"Athens\", \"Athens\", \"Ancient Greek\", \"Ancient Greece\"]}, {\"line_num\": 1, \"sentences\": \"The war was initiated by Athens \\'s intervention in a dispute between Samos and Miletus .\", \"h_links\": [\"Samos\", \"Samos Island\", \"Athens\", \"Athens\", \"Miletus\", \"Miletus\"]}, {\"line_num\": 2, \"sentences\": \"When the Samians refused to break off their attacks on Miletus as ordered , the Athenians easily drove out the oligarchic government of Samos and installed a garrison in the city , but the oligarchs soon returned , with Persian support .\", \"h_links\": [\"Samos\", \"Samos Island\", \"Miletus\", \"Miletus\", \"oligarchic\", \"Oligarchy\", \"Persian\", \"Achaemenid Empire\"]}, {\"line_num\": 3, \"sentences\": [], \"h_links\": []}, {\"line_num\": 4, \"sentences\": [], \"h_links\": []}, {\"line_num\": 5, \"sentences\": \"A larger Athenian fleet was dispatched to suppress this agitation .\", \"h_links\": [\"Athenian\", \"Athenian\"]}, {\"line_num\": 6, \"sentences\": \"This fleet initially defeated the Samians and blockaded the city , but Pericles , in command , was then forced to lead a substantial portion of the fleet away upon learning that the Persian fleet was approaching from the south .\", \"h_links\": [\"Pericles\", \"Pericles\", \"Persian\", \"Achaemenid Empire\"]}, {\"line_num\": 7, \"sentences\": \"Although the Persians turned back before the two fleets met , the absence of most of the Athenian fleet allowed the Samians to drive off the remaining blockaders and , for two weeks , control the sea around their island ; upon Pericles \\'s return , however , the Athenians again blockaded and besieged Samos ; the city surrendered nine months later .\", \"h_links\": [\"Samos\", \"Samos Island\", \"Athenian\", \"Athenian\", \"Pericles\", \"Pericles\"]}, {\"line_num\": 8, \"sentences\": \"Under the terms of the surrender , the Samians tore down their walls , gave up hostages , surrendered their fleet , and agreed to pay Athens a war indemnity over the next 26 years .\", \"h_links\": [\"Athens\", \"Athens\"]}, {\"line_num\": 9, \"sentences\": [], \"h_links\": []}, {\"line_num\": 10, \"sentences\": [], \"h_links\": []}, {\"line_num\": 11, \"sentences\": \"During the course of the war , the Samians had apparently appealed to Sparta for assistance ; the Spartans were initially inclined to grant this request , and were prevented from doing so primarily by Corinth \\'s unwillingness to participate in a war against Athens at the time .\", \"h_links\": [\"Athens\", \"Athens\", \"Sparta\", \"Sparta\", \"Corinth\", \"Corinth\"]}, {\"line_num\": 12, \"sentences\": \"In 433 BC , when Corcyra requested Athenian assistance against Corinth , the Corinthians would remind the Athenians of the good will they had shown at this time .\", \"h_links\": [\"Athenian\", \"Athenian\", \"Corinth\", \"Corinth\", \"Corcyra\", \"Corcyra\"]}, {\"line_num\": 13, \"sentences\": [], \"h_links\": []}]'),\n",
       " ('Sabrina_Richter',\n",
       "  \"Sabrina Richter -LRB- née Neukamp ; born 10 May 1982 -RRB- is a German handball player . She plays for the club ProVital Blomberg-Lippe and for the German national team .   She represented Germany at the 2008 Summer Olympic Games in Beijing , where Germany placed 11th . She participates at the 2009 World Women 's Handball Championship in China .\",\n",
       "  '[{\"line_num\": 0, \"sentences\": \"Sabrina Richter -LRB- ne\\\\u0301e Neukamp ; born 10 May 1982 -RRB- is a German handball player .\", \"h_links\": [\"handball\", \"team handball\"]}, {\"line_num\": 1, \"sentences\": \"She plays for the club ProVital Blomberg-Lippe and for the German national team .\", \"h_links\": [\"German national team\", \"Germany women\\'s national handball team\"]}, {\"line_num\": 2, \"sentences\": [], \"h_links\": []}, {\"line_num\": 3, \"sentences\": [], \"h_links\": []}, {\"line_num\": 4, \"sentences\": \"She represented Germany at the 2008 Summer Olympic Games in Beijing , where Germany placed 11th .\", \"h_links\": [\"2008 Summer Olympic Games\", \"2008 Summer Olympic Games\"]}, {\"line_num\": 5, \"sentences\": \"She participates at the 2009 World Women \\'s Handball Championship in China .\", \"h_links\": []}, {\"line_num\": 6, \"sentences\": [], \"h_links\": []}]')]"
      ]
     },
     "execution_count": 4,
     "metadata": {},
     "output_type": "execute_result"
    }
   ],
   "source": [
    "f_cur.execute(\"\"\"select * from documents limit 3\"\"\")\n",
    "f_cur.fetchall()"
   ]
  },
  {
   "cell_type": "code",
   "execution_count": 6,
   "id": "fedf4eca-b6d0-4f66-9d12-d0cbe2fca5b9",
   "metadata": {
    "tags": []
   },
   "outputs": [
    {
     "data": {
      "text/plain": [
       "[('Microstructural_development_of_human_newborn_cerebral_white_matter_assessed_in_vivo_by_diffusion_tensor_magnetic_resonance_imaging.',\n",
       "  'Alterations of the architecture of cerebral white matter in the developing human brain can affect cortical development and result in functional disabilities. A line scan diffusion-weighted magnetic resonance imaging (MRI) sequence with diffusion tensor analysis was applied to measure the apparent diffusion coefficient, to calculate relative anisotropy, and to delineate three-dimensional fiber architecture in cerebral white matter in preterm (n = 17) and full-term infants (n = 7). To assess effects of prematurity on cerebral white matter development, early gestation preterm infants (n = 10) were studied a second time at term. In the central white matter the mean apparent diffusion coefficient at 28 wk was high, 1.8 microm2/ms, and decreased toward term to 1.2 microm2/ms. In the posterior limb of the internal capsule, the mean apparent diffusion coefficients at both times were similar (1.2 versus 1.1 microm2/ms). Relative anisotropy was higher the closer birth was to term with greater absolute values in the internal capsule than in the central white matter. Preterm infants at term showed higher mean diffusion coefficients in the central white matter (1.4 +/- 0.24 versus 1.15 +/- 0.09 microm2/ms, p = 0.016) and lower relative anisotropy in both areas compared with full-term infants (white matter, 10.9 +/- 0.6 versus 22.9 +/- 3.0%, p = 0.001; internal capsule, 24.0 +/- 4.44 versus 33.1 +/- 0.6% p = 0.006). Nonmyelinated fibers in the corpus callosum were visible by diffusion tensor MRI as early as 28 wk; full-term and preterm infants at term showed marked differences in white matter fiber organization. The data indicate that quantitative assessment of water diffusion by diffusion tensor MRI provides insight into microstructural development in cerebral white matter in living infants.',\n",
       "  '[{\"line_num\": 0, \"sentences\": \"Alterations of the architecture of cerebral white matter in the developing human brain can affect cortical development and result in functional disabilities.\", \"h_links\": []}, {\"line_num\": 1, \"sentences\": \"A line scan diffusion-weighted magnetic resonance imaging (MRI) sequence with diffusion tensor analysis was applied to measure the apparent diffusion coefficient, to calculate relative anisotropy, and to delineate three-dimensional fiber architecture in cerebral white matter in preterm (n = 17) and full-term infants (n = 7).\", \"h_links\": []}, {\"line_num\": 2, \"sentences\": \"To assess effects of prematurity on cerebral white matter development, early gestation preterm infants (n = 10) were studied a second time at term.\", \"h_links\": []}, {\"line_num\": 3, \"sentences\": \"In the central white matter the mean apparent diffusion coefficient at 28 wk was high, 1.8 microm2/ms, and decreased toward term to 1.2 microm2/ms.\", \"h_links\": []}, {\"line_num\": 4, \"sentences\": \"In the posterior limb of the internal capsule, the mean apparent diffusion coefficients at both times were similar (1.2 versus 1.1 microm2/ms).\", \"h_links\": []}, {\"line_num\": 5, \"sentences\": \"Relative anisotropy was higher the closer birth was to term with greater absolute values in the internal capsule than in the central white matter.\", \"h_links\": []}, {\"line_num\": 6, \"sentences\": \"Preterm infants at term showed higher mean diffusion coefficients in the central white matter (1.4 +/-\", \"h_links\": []}, {\"line_num\": 7, \"sentences\": \"0.24 versus 1.15 +/-\", \"h_links\": []}, {\"line_num\": 8, \"sentences\": \"0.09 microm2/ms, p = 0.016) and lower relative anisotropy in both areas compared with full-term infants (white matter, 10.9 +/- 0.6 versus 22.9 +/-\", \"h_links\": []}, {\"line_num\": 9, \"sentences\": \"3.0%, p = 0.001; internal capsule, 24.0 +/-\", \"h_links\": []}, {\"line_num\": 10, \"sentences\": \"4.44 versus 33.1 +/-\", \"h_links\": []}, {\"line_num\": 11, \"sentences\": \"0.6% p = 0.006).\", \"h_links\": []}, {\"line_num\": 12, \"sentences\": \"Nonmyelinated fibers in the corpus callosum were visible by diffusion tensor MRI as early as 28 wk; full-term and preterm infants at term showed marked differences in white matter fiber organization.\", \"h_links\": []}, {\"line_num\": 13, \"sentences\": \"The data indicate that quantitative assessment of water diffusion by diffusion tensor MRI provides insight into microstructural development in cerebral white matter in living infants.\", \"h_links\": []}]'),\n",
       " ('Induction_of_myelodysplasia_by_myeloid-derived_suppressor_cells.',\n",
       "  'Myelodysplastic syndromes (MDS) are age-dependent stem cell malignancies that share biological features of activated adaptive immune response and ineffective hematopoiesis. Here we report that myeloid-derived suppressor cells (MDSC), which are classically linked to immunosuppression, inflammation, and cancer, were markedly expanded in the bone marrow of MDS patients and played a pathogenetic role in the development of ineffective hematopoiesis. These clonally distinct MDSC overproduce hematopoietic suppressive cytokines and function as potent apoptotic effectors targeting autologous hematopoietic progenitors. Using multiple transfected cell models, we found that MDSC expansion is driven by the interaction of the proinflammatory molecule S100A9 with CD33. These 2 proteins formed a functional ligand/receptor pair that recruited components to CD33’s immunoreceptor tyrosine-based inhibition motif (ITIM), inducing secretion of the suppressive cytokines IL-10 and TGF-β by immature myeloid cells. S100A9 transgenic mice displayed bone marrow accumulation of MDSC accompanied by development of progressive multilineage cytopenias and cytological dysplasia. Importantly, early forced maturation of MDSC by either all-trans-retinoic acid treatment or active immunoreceptor tyrosine-based activation motif–bearing (ITAM-bearing) adapter protein (DAP12) interruption of CD33 signaling rescued the hematologic phenotype. These findings indicate that primary bone marrow expansion of MDSC driven by the S100A9/CD33 pathway perturbs hematopoiesis and contributes to the development of MDS.',\n",
       "  '[{\"line_num\": 0, \"sentences\": \"Myelodysplastic syndromes (MDS) are age-dependent stem cell malignancies that share biological features of activated adaptive immune response and ineffective hematopoiesis.\", \"h_links\": []}, {\"line_num\": 1, \"sentences\": \"Here we report that myeloid-derived suppressor cells (MDSC), which are classically linked to immunosuppression, inflammation, and cancer, were markedly expanded in the bone marrow of MDS patients and played a pathogenetic role in the development of ineffective hematopoiesis.\", \"h_links\": []}, {\"line_num\": 2, \"sentences\": \"These clonally distinct MDSC overproduce hematopoietic suppressive cytokines and function as potent apoptotic effectors targeting autologous hematopoietic progenitors.\", \"h_links\": []}, {\"line_num\": 3, \"sentences\": \"Using multiple transfected cell models, we found that MDSC expansion is driven by the interaction of the proinflammatory molecule S100A9 with CD33.\", \"h_links\": []}, {\"line_num\": 4, \"sentences\": \"These 2 proteins formed a functional ligand/receptor pair that recruited components to CD33\\\\u2019s immunoreceptor tyrosine-based inhibition motif (ITIM), inducing secretion of the suppressive cytokines IL-10 and TGF-\\\\u03b2 by immature myeloid cells.\", \"h_links\": []}, {\"line_num\": 5, \"sentences\": \"S100A9 transgenic mice displayed bone marrow accumulation of MDSC accompanied by development of progressive multilineage cytopenias and cytological dysplasia.\", \"h_links\": []}, {\"line_num\": 6, \"sentences\": \"Importantly, early forced maturation of MDSC by either all-trans-retinoic acid treatment or active immunoreceptor tyrosine-based activation motif\\\\u2013bearing (ITAM-bearing) adapter protein (DAP12) interruption of CD33 signaling rescued the hematologic phenotype.\", \"h_links\": []}, {\"line_num\": 7, \"sentences\": \"These findings indicate that primary bone marrow expansion of MDSC driven by the S100A9/CD33 pathway perturbs hematopoiesis and contributes to the development of MDS.\", \"h_links\": []}]'),\n",
       " ('BC1_RNA,_the_transcript_from_a_master_gene_for_ID_element_amplification,_is_able_to_prime_its_own_reverse_transcription.',\n",
       "  \"ID elements are short interspersed elements (SINEs) found in high copy number in many rodent genomes. BC1 RNA, an ID-related transcript, is derived from the single copy BC1 RNA gene. The BC1 RNA gene has been shown to be a master gene for ID element amplification in rodent genomes. ID elements are dispersed through a process termed retroposition. The retroposition process involves a number of potential regulatory steps. These regulatory steps may include transcription in the appropriate tissue, transcript stability, priming of the RNA transcript for reverse transcription and integration. This study focuses on priming of the RNA transcript for reverse transcription. BC1 RNA gene transcripts are shown to be able to prime their own reverse transcription in an efficient intramolecular and site-specific fashion. This self-priming ability is a consequence of the secondary structure of the 3'-unique region. The observation that a gene actively amplified throughout rodent evolution makes a RNA capable of efficient self-primed reverse transcription strongly suggests that self-priming is at least one feature establishing the BC1 RNA gene as a master gene for amplification of ID elements.\",\n",
       "  '[{\"line_num\": 0, \"sentences\": \"ID elements are short interspersed elements (SINEs) found in high copy number in many rodent genomes.\", \"h_links\": []}, {\"line_num\": 1, \"sentences\": \"BC1 RNA, an ID-related transcript, is derived from the single copy BC1 RNA gene.\", \"h_links\": []}, {\"line_num\": 2, \"sentences\": \"The BC1 RNA gene has been shown to be a master gene for ID element amplification in rodent genomes.\", \"h_links\": []}, {\"line_num\": 3, \"sentences\": \"ID elements are dispersed through a process termed retroposition.\", \"h_links\": []}, {\"line_num\": 4, \"sentences\": \"The retroposition process involves a number of potential regulatory steps.\", \"h_links\": []}, {\"line_num\": 5, \"sentences\": \"These regulatory steps may include transcription in the appropriate tissue, transcript stability, priming of the RNA transcript for reverse transcription and integration.\", \"h_links\": []}, {\"line_num\": 6, \"sentences\": \"This study focuses on priming of the RNA transcript for reverse transcription.\", \"h_links\": []}, {\"line_num\": 7, \"sentences\": \"BC1 RNA gene transcripts are shown to be able to prime their own reverse transcription in an efficient intramolecular and site-specific fashion.\", \"h_links\": []}, {\"line_num\": 8, \"sentences\": \"This self-priming ability is a consequence of the secondary structure of the 3\\'-unique region.\", \"h_links\": []}, {\"line_num\": 9, \"sentences\": \"The observation that a gene actively amplified throughout rodent evolution makes a RNA capable of efficient self-primed reverse transcription strongly suggests that self-priming is at least one feature establishing the BC1 RNA gene as a master gene for amplification of ID elements.\", \"h_links\": []}]')]"
      ]
     },
     "execution_count": 6,
     "metadata": {},
     "output_type": "execute_result"
    }
   ],
   "source": [
    "sf_cur.execute(\"\"\"select * from documents limit 3\"\"\")\n",
    "sf_cur.fetchall()"
   ]
  },
  {
   "cell_type": "markdown",
   "id": "7e779454-1139-461f-bb01-4221616ffb9e",
   "metadata": {},
   "source": [
    "## Look into PageView\n",
    "\n",
    "Not useful for evaluating SciFact as it is the view count for a particular Wiki page. Do not use pageview!"
   ]
  },
  {
   "cell_type": "code",
   "execution_count": 8,
   "id": "170df9eb-30f6-429e-8e4a-2cb715f1588a",
   "metadata": {},
   "outputs": [
    {
     "data": {
      "text/plain": [
       "dict"
      ]
     },
     "execution_count": 8,
     "metadata": {},
     "output_type": "execute_result"
    }
   ],
   "source": [
    "with open(\"/users/k21190024/study/fact-checking-repos/fever/uncnlp/thesis/zeroshot/feveronly/uncnlp/chaonan99/pageviews.pkl\", mode=\"rb\") as fn:\n",
    "    pageview = pkl.load(fn)\n",
    "type(pageview), len(pageview)"
   ]
  },
  {
   "cell_type": "code",
   "execution_count": 13,
   "id": "bd7357a0-7439-4f23-b28d-ec9afd390ac5",
   "metadata": {},
   "outputs": [
    {
     "data": {
      "text/plain": [
       "'.theprodukkt'"
      ]
     },
     "execution_count": 13,
     "metadata": {},
     "output_type": "execute_result"
    }
   ],
   "source": [
    "pvk = list(pageview.keys())\n",
    "pvk[1000]"
   ]
  },
  {
   "cell_type": "code",
   "execution_count": 18,
   "id": "507af339-cc20-492d-a0ad-d90cd7bc08de",
   "metadata": {},
   "outputs": [
    {
     "name": "stdout",
     "output_type": "stream",
     "text": [
      "!!! : 1448\n",
      "!!!Fuck_You!!! : 80\n",
      "!Action_Pact! : 67\n",
      "!Kung_language : 455\n",
      "!T.O.O.H.! : 100\n",
      "!Wowow! : 126\n",
      "!_(The_Dismemberment_Plan_album) : 121\n",
      "\" : 338\n",
      "\"A\"_Device : 189\n",
      "\"And\"_theory_of_conservatism : 169\n"
     ]
    }
   ],
   "source": [
    "for i, k in enumerate(pvk):\n",
    "    if i == 10:\n",
    "        break\n",
    "    print(k, \":\", pageview[k])"
   ]
  },
  {
   "cell_type": "markdown",
   "id": "1f0da79c-b5b6-4bac-9f0e-87eddd09125b",
   "metadata": {},
   "source": [
    "## Adapt \"title\" as \"doc_id\" for doc_retr_1\n",
    "\n",
    "FEVER corpus does not have a title but its doc_id does have some keywords which this pipeline attempts to use for document retrieval.\n",
    "\n",
    "SciFact corpus title is far more informative than FEVER corpus id thus it may create an optimistic information retrieval result"
   ]
  },
  {
   "cell_type": "code",
   "execution_count": 25,
   "id": "4a3f6123-dacf-4b7c-af9a-93c4ebc558d2",
   "metadata": {},
   "outputs": [],
   "source": [
    "from hashlib import md5\n",
    "from collections import Counter"
   ]
  },
  {
   "cell_type": "code",
   "execution_count": 58,
   "id": "75133848-e7e5-4f4d-ac27-ed72303d1d86",
   "metadata": {},
   "outputs": [
    {
     "data": {
      "text/plain": [
       "(5183, 5181)"
      ]
     },
     "execution_count": 58,
     "metadata": {},
     "output_type": "execute_result"
    }
   ],
   "source": [
    "# check for duplicated titles\n",
    "sf_corpus = read_data(Path(\"/users/k21190024/study/fact-check-transfer-learning/scratch/dumps/feverised-scifact/wiki-pages/wiki-001.jsonl\"))\n",
    "sf_title_hash = {doc[\"id\"]: md5(bytes(doc[\"title\"].strip().replace(\" \", \"_\"), encoding=\"utf8\")).hexdigest() for doc in sf_corpus}\n",
    "len(sf_corpus), len(set(sf_title_hash.values()))"
   ]
  },
  {
   "cell_type": "code",
   "execution_count": 59,
   "id": "2141ab6f-9767-4577-b7e2-15ecc96c95bd",
   "metadata": {},
   "outputs": [
    {
     "data": {
      "text/plain": [
       "[('290612199861c31d1036b185b4e69b75', 3),\n",
       " ('93eb90751149ccf38b66e47a192f496b', 1),\n",
       " ('553824c52f8f6a9fa9919589e63b585d', 1)]"
      ]
     },
     "execution_count": 59,
     "metadata": {},
     "output_type": "execute_result"
    }
   ],
   "source": [
    "sf_title_counter = Counter(sf_title_hash.values())\n",
    "sf_title_counter.most_common(3)"
   ]
  },
  {
   "cell_type": "code",
   "execution_count": 60,
   "id": "187e6f63-7581-4a41-b0b6-fddbf97f9382",
   "metadata": {
    "collapsed": true,
    "jupyter": {
     "outputs_hidden": true
    },
    "tags": []
   },
   "outputs": [
    {
     "data": {
      "text/plain": [
       "[{'id': '885056',\n",
       "  'title': 'Summary',\n",
       "  'structured': False,\n",
       "  'text': 'Steroid receptor RNA activator (SRA), the only known RNA coactivator, augments transactivation by nuclear receptors (NRs). We identified SLIRP (SRA stem-loop interacting RNA binding protein) binding to a functional substructure of SRA, STR7. SLIRP is expressed in normal and tumor tissues, contains an RNA recognition motif (RRM), represses NR transactivation in a SRA- and RRM-dependent manner, augments the effect of Tamoxifen, and modulates association of SRC-1 with SRA. SHARP, a RRM-containing corepressor, also binds STR7, augmenting repression with SLIRP. SLIRP colocalizes with SKIP (Chr14q24.3), another NR coregulator, and reduces SKIP-potentiated NR signaling. SLIRP is recruited to endogenous promoters (pS2 and metallothionein), the latter in a SRA-dependent manner, while NCoR promoter recruitment is dependent on SLIRP. The majority of the endogenous SLIRP resides in the mitochondria. Our data demonstrate that SLIRP modulates NR transactivation, suggest it may regulate mitochondrial function, and provide mechanistic insight into interactions between SRA, SLIRP, SRC-1, and NCoR.',\n",
       "  'lines': '0\\tSteroid receptor RNA activator (SRA), the only known RNA coactivator, augments transactivation by nuclear receptors (NRs).\\n1\\tWe identified SLIRP (SRA stem-loop interacting RNA binding protein) binding to a functional substructure of SRA, STR7.\\n2\\tSLIRP is expressed in normal and tumor tissues, contains an RNA recognition motif (RRM), represses NR transactivation in a SRA- and RRM-dependent manner, augments the effect of Tamoxifen, and modulates association of SRC-1 with SRA.\\n3\\tSHARP, a RRM-containing corepressor, also binds STR7, augmenting repression with SLIRP.\\n4\\tSLIRP colocalizes with SKIP (Chr14q24.3), another NR coregulator, and reduces SKIP-potentiated NR signaling.\\n5\\tSLIRP is recruited to endogenous promoters (pS2 and metallothionein), the latter in a SRA-dependent manner, while NCoR promoter recruitment is dependent on SLIRP.\\n6\\tThe majority of the endogenous SLIRP resides in the mitochondria.\\n7\\tOur data demonstrate that SLIRP modulates NR transactivation, suggest it may regulate mitochondrial function, and provide mechanistic insight into interactions between SRA, SLIRP, SRC-1, and NCoR.'},\n",
       " {'id': '13492264',\n",
       "  'title': 'Summary',\n",
       "  'structured': False,\n",
       "  'text': 'Glomerular basement membrane (GBM) and podocalyxin are essential for podocyte morphology. We provide evidence of functional interconnections between basement membrane components (collagen IV and laminin), the expression of podocalyxin and the morphology of human glomerular epithelial cells (podocytes). We demonstrated that GBM and laminin, but not collagen IV, up-regulated the expression of podocalyxin. Scanning electron microscopy revealed that laminin induced a modified morphology of podocytes with process formation, which was more extensive in the presence of GBM. Under high magnification, podocytes appeared ruffled. Using transmission electron microscopy we observed that raised areas occurred in the basal cell surface. Furthermore, the presence of anti-podocalyxin antibody increased the extent of adhesion and spreading of podocytes to both collagen IV and laminin, thus podocalyxin apparently inhibits cell-matrix interactions. We also performed adhesion and spreading assays on podocytes grown under increased glucose concentration (25 mM). Under these conditions, the expression of podocalyxin was almost totally suppressed. The cells adhered and spread to basement membrane components but there was no increase in the extent of adhesion and spreading in the presence of anti-podocalyxin antibody, or ruffling of the cell edges. Additionally, in podocytes expressing podocalyxin, the presence of anti-podocalyxin antibody partially reversed the inhibition of adhesion to collagen IV provoked by anti-beta1 integrin antibody, thus podocalyxin should compete with beta1-related cell adhesion. We suggest that the observed podocalyxin-mediated inhibition of binding to the matrix could be in part responsible for the specialized conformation of the basal surface of podocytes.',\n",
       "  'lines': '0\\tGlomerular basement membrane (GBM) and podocalyxin are essential for podocyte morphology.\\n1\\tWe provide evidence of functional interconnections between basement membrane components (collagen IV and laminin), the expression of podocalyxin and the morphology of human glomerular epithelial cells (podocytes).\\n2\\tWe demonstrated that GBM and laminin, but not collagen IV, up-regulated the expression of podocalyxin.\\n3\\tScanning electron microscopy revealed that laminin induced a modified morphology of podocytes with process formation, which was more extensive in the presence of GBM.\\n4\\tUnder high magnification, podocytes appeared ruffled.\\n5\\tUsing transmission electron microscopy we observed that raised areas occurred in the basal cell surface.\\n6\\tFurthermore, the presence of anti-podocalyxin antibody increased the extent of adhesion and spreading of podocytes to both collagen IV and laminin, thus podocalyxin apparently inhibits cell-matrix interactions.\\n7\\tWe also performed adhesion and spreading assays on podocytes grown under increased glucose concentration (25 mM).\\n8\\tUnder these conditions, the expression of podocalyxin was almost totally suppressed.\\n9\\tThe cells adhered and spread to basement membrane components but there was no increase in the extent of adhesion and spreading in the presence of anti-podocalyxin antibody, or ruffling of the cell edges.\\n10\\tAdditionally, in podocytes expressing podocalyxin, the presence of anti-podocalyxin antibody partially reversed the inhibition of adhesion to collagen IV provoked by anti-beta1 integrin antibody, thus podocalyxin should compete with beta1-related cell adhesion.\\n11\\tWe suggest that the observed podocalyxin-mediated inhibition of binding to the matrix could be in part responsible for the specialized conformation of the basal surface of podocytes.'},\n",
       " {'id': '14178995',\n",
       "  'title': 'Summary',\n",
       "  'structured': False,\n",
       "  'text': 'The genetic diseases Hutchinson-Gilford progeria syndrome (HGPS) and restrictive dermopathy (RD) arise from accumulation of farnesylated prelamin A because of defects in the lamin A maturation pathway. Both of these diseases exhibit symptoms that can be viewed as accelerated aging. The mechanism by which accumulation of farnesylated prelamin A leads to these accelerated aging phenotypes is not understood. Here we present evidence that in HGPS and RD fibroblasts, DNA damage checkpoints are persistently activated because of the compromise in genomic integrity. Inactivation of checkpoint kinases Ataxia-telangiectasia-mutated (ATM) and ATR (ATM- and Rad3-related) in these patient cells can partially overcome their early replication arrest. Treatment of patient cells with a protein farnesyltransferase inhibitor (FTI) did not result in reduction of DNA double-strand breaks and damage checkpoint signaling, although the treatment significantly reversed the aberrant shape of their nuclei. This suggests that DNA damage accumulation and aberrant nuclear morphology are independent phenotypes arising from prelamin A accumulation in these progeroid syndromes. Since DNA damage accumulation is an important contributor to the symptoms of HGPS, our results call into question the possibility of treatment of HGPS with FTIs alone.',\n",
       "  'lines': '0\\tThe genetic diseases Hutchinson-Gilford progeria syndrome (HGPS) and restrictive dermopathy (RD) arise from accumulation of farnesylated prelamin A because of defects in the lamin A maturation pathway.\\n1\\tBoth of these diseases exhibit symptoms that can be viewed as accelerated aging.\\n2\\tThe mechanism by which accumulation of farnesylated prelamin A leads to these accelerated aging phenotypes is not understood.\\n3\\tHere we present evidence that in HGPS and RD fibroblasts, DNA damage checkpoints are persistently activated because of the compromise in genomic integrity.\\n4\\tInactivation of checkpoint kinases Ataxia-telangiectasia-mutated (ATM) and ATR (ATM- and Rad3-related) in these patient cells can partially overcome their early replication arrest.\\n5\\tTreatment of patient cells with a protein farnesyltransferase inhibitor (FTI) did not result in reduction of DNA double-strand breaks and damage checkpoint signaling, although the treatment significantly reversed the aberrant shape of their nuclei.\\n6\\tThis suggests that DNA damage accumulation and aberrant nuclear morphology are independent phenotypes arising from prelamin A accumulation in these progeroid syndromes.\\n7\\tSince DNA damage accumulation is an important contributor to the symptoms of HGPS, our results call into question the possibility of treatment of HGPS with FTIs alone.'}]"
      ]
     },
     "execution_count": 60,
     "metadata": {},
     "output_type": "execute_result"
    }
   ],
   "source": [
    "dup_ids = [doc_id for doc_id, title_hash in sf_title_hash.items() if title_hash == sf_title_counter.most_common(1)[0][0]]\n",
    "[doc for doc in sf_corpus if doc[\"id\"] in dup_ids]"
   ]
  },
  {
   "cell_type": "code",
   "execution_count": 62,
   "id": "80acf2cd-8138-4aa3-becb-7403f1de18bd",
   "metadata": {
    "collapsed": true,
    "jupyter": {
     "outputs_hidden": true
    },
    "tags": []
   },
   "outputs": [
    {
     "data": {
      "text/plain": [
       "[{'id': 'Summary_163',\n",
       "  'original_id': '885056',\n",
       "  'structured': False,\n",
       "  'text': 'Steroid receptor RNA activator (SRA), the only known RNA coactivator, augments transactivation by nuclear receptors (NRs). We identified SLIRP (SRA stem-loop interacting RNA binding protein) binding to a functional substructure of SRA, STR7. SLIRP is expressed in normal and tumor tissues, contains an RNA recognition motif (RRM), represses NR transactivation in a SRA- and RRM-dependent manner, augments the effect of Tamoxifen, and modulates association of SRC-1 with SRA. SHARP, a RRM-containing corepressor, also binds STR7, augmenting repression with SLIRP. SLIRP colocalizes with SKIP (Chr14q24.3), another NR coregulator, and reduces SKIP-potentiated NR signaling. SLIRP is recruited to endogenous promoters (pS2 and metallothionein), the latter in a SRA-dependent manner, while NCoR promoter recruitment is dependent on SLIRP. The majority of the endogenous SLIRP resides in the mitochondria. Our data demonstrate that SLIRP modulates NR transactivation, suggest it may regulate mitochondrial function, and provide mechanistic insight into interactions between SRA, SLIRP, SRC-1, and NCoR.',\n",
       "  'lines': '0\\tSteroid receptor RNA activator (SRA), the only known RNA coactivator, augments transactivation by nuclear receptors (NRs).\\n1\\tWe identified SLIRP (SRA stem-loop interacting RNA binding protein) binding to a functional substructure of SRA, STR7.\\n2\\tSLIRP is expressed in normal and tumor tissues, contains an RNA recognition motif (RRM), represses NR transactivation in a SRA- and RRM-dependent manner, augments the effect of Tamoxifen, and modulates association of SRC-1 with SRA.\\n3\\tSHARP, a RRM-containing corepressor, also binds STR7, augmenting repression with SLIRP.\\n4\\tSLIRP colocalizes with SKIP (Chr14q24.3), another NR coregulator, and reduces SKIP-potentiated NR signaling.\\n5\\tSLIRP is recruited to endogenous promoters (pS2 and metallothionein), the latter in a SRA-dependent manner, while NCoR promoter recruitment is dependent on SLIRP.\\n6\\tThe majority of the endogenous SLIRP resides in the mitochondria.\\n7\\tOur data demonstrate that SLIRP modulates NR transactivation, suggest it may regulate mitochondrial function, and provide mechanistic insight into interactions between SRA, SLIRP, SRC-1, and NCoR.'},\n",
       " {'id': 'Summary_2201',\n",
       "  'original_id': '13492264',\n",
       "  'structured': False,\n",
       "  'text': 'Glomerular basement membrane (GBM) and podocalyxin are essential for podocyte morphology. We provide evidence of functional interconnections between basement membrane components (collagen IV and laminin), the expression of podocalyxin and the morphology of human glomerular epithelial cells (podocytes). We demonstrated that GBM and laminin, but not collagen IV, up-regulated the expression of podocalyxin. Scanning electron microscopy revealed that laminin induced a modified morphology of podocytes with process formation, which was more extensive in the presence of GBM. Under high magnification, podocytes appeared ruffled. Using transmission electron microscopy we observed that raised areas occurred in the basal cell surface. Furthermore, the presence of anti-podocalyxin antibody increased the extent of adhesion and spreading of podocytes to both collagen IV and laminin, thus podocalyxin apparently inhibits cell-matrix interactions. We also performed adhesion and spreading assays on podocytes grown under increased glucose concentration (25 mM). Under these conditions, the expression of podocalyxin was almost totally suppressed. The cells adhered and spread to basement membrane components but there was no increase in the extent of adhesion and spreading in the presence of anti-podocalyxin antibody, or ruffling of the cell edges. Additionally, in podocytes expressing podocalyxin, the presence of anti-podocalyxin antibody partially reversed the inhibition of adhesion to collagen IV provoked by anti-beta1 integrin antibody, thus podocalyxin should compete with beta1-related cell adhesion. We suggest that the observed podocalyxin-mediated inhibition of binding to the matrix could be in part responsible for the specialized conformation of the basal surface of podocytes.',\n",
       "  'lines': '0\\tGlomerular basement membrane (GBM) and podocalyxin are essential for podocyte morphology.\\n1\\tWe provide evidence of functional interconnections between basement membrane components (collagen IV and laminin), the expression of podocalyxin and the morphology of human glomerular epithelial cells (podocytes).\\n2\\tWe demonstrated that GBM and laminin, but not collagen IV, up-regulated the expression of podocalyxin.\\n3\\tScanning electron microscopy revealed that laminin induced a modified morphology of podocytes with process formation, which was more extensive in the presence of GBM.\\n4\\tUnder high magnification, podocytes appeared ruffled.\\n5\\tUsing transmission electron microscopy we observed that raised areas occurred in the basal cell surface.\\n6\\tFurthermore, the presence of anti-podocalyxin antibody increased the extent of adhesion and spreading of podocytes to both collagen IV and laminin, thus podocalyxin apparently inhibits cell-matrix interactions.\\n7\\tWe also performed adhesion and spreading assays on podocytes grown under increased glucose concentration (25 mM).\\n8\\tUnder these conditions, the expression of podocalyxin was almost totally suppressed.\\n9\\tThe cells adhered and spread to basement membrane components but there was no increase in the extent of adhesion and spreading in the presence of anti-podocalyxin antibody, or ruffling of the cell edges.\\n10\\tAdditionally, in podocytes expressing podocalyxin, the presence of anti-podocalyxin antibody partially reversed the inhibition of adhesion to collagen IV provoked by anti-beta1 integrin antibody, thus podocalyxin should compete with beta1-related cell adhesion.\\n11\\tWe suggest that the observed podocalyxin-mediated inhibition of binding to the matrix could be in part responsible for the specialized conformation of the basal surface of podocytes.'},\n",
       " {'id': 'Summary_2337',\n",
       "  'original_id': '14178995',\n",
       "  'structured': False,\n",
       "  'text': 'The genetic diseases Hutchinson-Gilford progeria syndrome (HGPS) and restrictive dermopathy (RD) arise from accumulation of farnesylated prelamin A because of defects in the lamin A maturation pathway. Both of these diseases exhibit symptoms that can be viewed as accelerated aging. The mechanism by which accumulation of farnesylated prelamin A leads to these accelerated aging phenotypes is not understood. Here we present evidence that in HGPS and RD fibroblasts, DNA damage checkpoints are persistently activated because of the compromise in genomic integrity. Inactivation of checkpoint kinases Ataxia-telangiectasia-mutated (ATM) and ATR (ATM- and Rad3-related) in these patient cells can partially overcome their early replication arrest. Treatment of patient cells with a protein farnesyltransferase inhibitor (FTI) did not result in reduction of DNA double-strand breaks and damage checkpoint signaling, although the treatment significantly reversed the aberrant shape of their nuclei. This suggests that DNA damage accumulation and aberrant nuclear morphology are independent phenotypes arising from prelamin A accumulation in these progeroid syndromes. Since DNA damage accumulation is an important contributor to the symptoms of HGPS, our results call into question the possibility of treatment of HGPS with FTIs alone.',\n",
       "  'lines': '0\\tThe genetic diseases Hutchinson-Gilford progeria syndrome (HGPS) and restrictive dermopathy (RD) arise from accumulation of farnesylated prelamin A because of defects in the lamin A maturation pathway.\\n1\\tBoth of these diseases exhibit symptoms that can be viewed as accelerated aging.\\n2\\tThe mechanism by which accumulation of farnesylated prelamin A leads to these accelerated aging phenotypes is not understood.\\n3\\tHere we present evidence that in HGPS and RD fibroblasts, DNA damage checkpoints are persistently activated because of the compromise in genomic integrity.\\n4\\tInactivation of checkpoint kinases Ataxia-telangiectasia-mutated (ATM) and ATR (ATM- and Rad3-related) in these patient cells can partially overcome their early replication arrest.\\n5\\tTreatment of patient cells with a protein farnesyltransferase inhibitor (FTI) did not result in reduction of DNA double-strand breaks and damage checkpoint signaling, although the treatment significantly reversed the aberrant shape of their nuclei.\\n6\\tThis suggests that DNA damage accumulation and aberrant nuclear morphology are independent phenotypes arising from prelamin A accumulation in these progeroid syndromes.\\n7\\tSince DNA damage accumulation is an important contributor to the symptoms of HGPS, our results call into question the possibility of treatment of HGPS with FTIs alone.'}]"
      ]
     },
     "execution_count": 62,
     "metadata": {},
     "output_type": "execute_result"
    }
   ],
   "source": [
    "sf_corpus_title_id = []\n",
    "\n",
    "for i, doc in enumerate(sf_corpus):\n",
    "    orig_id = doc[\"id\"]\n",
    "    id_title = doc[\"title\"].strip().replace(\" \", \"_\")  # FEVER IDs have no space\n",
    "    \n",
    "    if orig_id in dup_ids:\n",
    "        id_title += f\"_{str(i)}\"  # Since the title is uninformative, just make it unique\n",
    "    sf_corpus_title_id.append({\n",
    "        \"id\": id_title,\n",
    "        \"original_id\": orig_id,\n",
    "        \"structured\": doc[\"structured\"],\n",
    "        \"text\": doc[\"text\"],\n",
    "        \"lines\": doc[\"lines\"]\n",
    "    })\n",
    "[doc for doc in sf_corpus_title_id if doc[\"original_id\"] in dup_ids]"
   ]
  },
  {
   "cell_type": "code",
   "execution_count": 63,
   "id": "1c7a7927-88af-4ef5-a833-97d764d187bb",
   "metadata": {},
   "outputs": [
    {
     "data": {
      "text/plain": [
       "(5183, 5183)"
      ]
     },
     "execution_count": 63,
     "metadata": {},
     "output_type": "execute_result"
    }
   ],
   "source": [
    "sf_title_id_hash = {doc[\"id\"]: md5(bytes(doc[\"id\"].strip(), encoding=\"utf8\")).hexdigest() for doc in sf_corpus_title_id}\n",
    "len(sf_corpus), len(set(sf_title_id_hash.values()))"
   ]
  },
  {
   "cell_type": "code",
   "execution_count": 69,
   "id": "7c8b1184-899c-4462-aa69-b59766a5e7e5",
   "metadata": {},
   "outputs": [
    {
     "data": {
      "text/plain": [
       "PosixPath('/users/k21190024/study/fact-check-transfer-learning/scratch/dumps/feverised-scifact/uncnlp_wiki-pages/wiki-001.jsonl')"
      ]
     },
     "execution_count": 69,
     "metadata": {},
     "output_type": "execute_result"
    }
   ],
   "source": [
    "write_jsonl(Path(\"/users/k21190024/study/fact-check-transfer-learning/scratch/dumps/feverised-scifact/uncnlp_wiki-pages/wiki-001.jsonl\"), sf_corpus_title_id)"
   ]
  },
  {
   "cell_type": "markdown",
   "id": "feaae443-afae-4eff-bbd7-4717c86703de",
   "metadata": {},
   "source": [
    "### Generate tokenized_doc_id.json\n",
    "\n",
    "1. Run `python /users/k21190024/study/fact-check-transfer-learning/repos/fever/uncnlp/src/boey_src/01_generate_tokenized_doc_id.py`"
   ]
  },
  {
   "cell_type": "code",
   "execution_count": 70,
   "id": "959a9629-759f-41c9-889b-8b7bea208583",
   "metadata": {},
   "outputs": [
    {
     "data": {
      "text/plain": [
       "5396013"
      ]
     },
     "execution_count": 70,
     "metadata": {},
     "output_type": "execute_result"
    }
   ],
   "source": [
    "tokenized_doc_id = read_data(Path(\"/users/k21190024/study/fact-check-transfer-learning/repos/fever/uncnlp/data/tokenized_doc_id.json\"))\n",
    "len(tokenized_doc_id)"
   ]
  },
  {
   "cell_type": "code",
   "execution_count": 72,
   "id": "4e01ef88-0810-412e-b46f-23e05762d139",
   "metadata": {
    "collapsed": true,
    "jupyter": {
     "outputs_hidden": true
    },
    "tags": []
   },
   "outputs": [
    {
     "data": {
      "text/plain": [
       "{'words': ['Snooker', 'world', 'rankings', '2013/2014'],\n",
       " 'lemmas': ['Snooker', 'world', 'ranking', '2013/2014']}"
      ]
     },
     "execution_count": 72,
     "metadata": {},
     "output_type": "execute_result"
    }
   ],
   "source": [
    "tokenized_doc_id[\"Snooker_world_rankings_2013/2014\"]"
   ]
  },
  {
   "cell_type": "code",
   "execution_count": 73,
   "id": "fa4b39c8-68c0-4af5-a7c7-a8e1e24b1950",
   "metadata": {},
   "outputs": [
    {
     "data": {
      "text/plain": [
       "5183"
      ]
     },
     "execution_count": 73,
     "metadata": {},
     "output_type": "execute_result"
    }
   ],
   "source": [
    "sf_tokenized_doc_id = read_data(Path(\"/users/k21190024/study/fact-check-transfer-learning/repos/fever/uncnlp/thesis/zeroshot/feveronly/uncnlp/tokenized_doc_id.json\"))\n",
    "len(sf_tokenized_doc_id)"
   ]
  },
  {
   "cell_type": "code",
   "execution_count": 74,
   "id": "bb7fe8b7-c957-4afe-bcbf-db310f8fb302",
   "metadata": {
    "collapsed": true,
    "jupyter": {
     "outputs_hidden": true
    },
    "tags": []
   },
   "outputs": [
    {
     "data": {
      "text/plain": [
       "{'words': ['Inducible',\n",
       "  'nitric',\n",
       "  'oxide',\n",
       "  'synthase',\n",
       "  'in',\n",
       "  'pulmonary',\n",
       "  'alveolar',\n",
       "  'macrophages',\n",
       "  'from',\n",
       "  'patients',\n",
       "  'with',\n",
       "  'tuberculosis'],\n",
       " 'lemmas': ['inducible',\n",
       "  'nitric',\n",
       "  'oxide',\n",
       "  'synthase',\n",
       "  'in',\n",
       "  'pulmonary',\n",
       "  'alveolar',\n",
       "  'macrophage',\n",
       "  'from',\n",
       "  'patient',\n",
       "  'with',\n",
       "  'tuberculosis']}"
      ]
     },
     "execution_count": 74,
     "metadata": {},
     "output_type": "execute_result"
    }
   ],
   "source": [
    "sf_tokenized_doc_id[\"Inducible_nitric_oxide_synthase_in_pulmonary_alveolar_macrophages_from_patients_with_tuberculosis\"]"
   ]
  },
  {
   "cell_type": "markdown",
   "id": "864619d1-36f0-41e7-8b2c-98ddba09bb2e",
   "metadata": {},
   "source": [
    "## Peek into their results"
   ]
  },
  {
   "cell_type": "code",
   "execution_count": 4,
   "id": "6ee8700c-acb7-416a-b0f5-6a95dc54ace1",
   "metadata": {},
   "outputs": [
    {
     "data": {
      "text/plain": [
       "['nn_doc_retr_1_shared_task_dev.jsonl',\n",
       " 'dev_sent_score_1_shared_task_dev_docnum(10)_ensembled.jsonl',\n",
       " 'nn_doc_list_1_shared_task_dev.jsonl',\n",
       " 'dev_sent_score_1_shared_task_dev_docnum(10)_e1.jsonl',\n",
       " 'dev_sent_score_2_shared_task_dev.jsonl',\n",
       " 'dev_sent_score_1_shared_task_dev_docnum(10).jsonl',\n",
       " 'doc_retr_1_shared_task_dev.jsonl',\n",
       " 'dev_sent_score_1_shared_task_dev_scaled_for_doc2.jsonl',\n",
       " 'auto_pipeline.py',\n",
       " 'doc_retr_2_shared_task_dev.jsonl',\n",
       " 'single_sent_nli_r_shared_task_dev_with_doc_scale:0.1_e0.jsonl',\n",
       " 'dev_sent_score_1_shared_task_dev_docnum(10)_e2.jsonl',\n",
       " 't_shared_task_dev.jsonl']"
      ]
     },
     "execution_count": 4,
     "metadata": {},
     "output_type": "execute_result"
    }
   ],
   "source": [
    "results_p = Path(\"/users/k21190024/study/fact-check-transfer-learning/repos/fever/uncnlp/results/pipeline_r_aaai_doc/2023_03_06_14:38:23_r\")\n",
    "[f.name for f in results_p.iterdir()]"
   ]
  },
  {
   "cell_type": "code",
   "execution_count": 5,
   "id": "4441f8ca-601e-4d07-aea2-e0feaa6aa57e",
   "metadata": {},
   "outputs": [
    {
     "data": {
      "text/plain": [
       "list"
      ]
     },
     "execution_count": 5,
     "metadata": {},
     "output_type": "execute_result"
    }
   ],
   "source": [
    "# document retrieval with page count stage 1\n",
    "\n",
    "doc_retr1 = read_data(results_p / 'doc_retr_1_shared_task_dev.jsonl')\n",
    "type(doc_retr1)"
   ]
  },
  {
   "cell_type": "code",
   "execution_count": 20,
   "id": "6170e4ac-b969-4717-8323-c6b22f0a42ce",
   "metadata": {
    "collapsed": true,
    "jupyter": {
     "outputs_hidden": true
    },
    "tags": []
   },
   "outputs": [
    {
     "data": {
      "text/plain": [
       "{'id': 91198,\n",
       " 'verifiable': 'NOT VERIFIABLE',\n",
       " 'label': 'NOT ENOUGH INFO',\n",
       " 'claim': 'Colin Kaepernick became a starting quarterback during the 49ers 63rd season in the National Football League .',\n",
       " 'evidence': [[[108548, None, None, None]]],\n",
       " 'prioritized_docids': [['Colin_Kaepernick', 5.0],\n",
       "  ['Football_League_-LRB-Greece-RRB-', 1.0]],\n",
       " 'structured_docids': {'Colin Kaepernick': [['Colin_Kaepernick', 5.0]],\n",
       "  'Football League': [['Football_League_-LRB-Greece-RRB-', 1.0]]},\n",
       " 'claim_lemmas': ['Colin',\n",
       "  'Kaepernick',\n",
       "  'become',\n",
       "  'a',\n",
       "  'start',\n",
       "  'quarterback',\n",
       "  'during',\n",
       "  'the',\n",
       "  '49ers',\n",
       "  '63rd',\n",
       "  'season',\n",
       "  'in',\n",
       "  'the',\n",
       "  'National',\n",
       "  'Football',\n",
       "  'League',\n",
       "  '.'],\n",
       " 'claim_tokens': ['Colin',\n",
       "  'Kaepernick',\n",
       "  'became',\n",
       "  'a',\n",
       "  'starting',\n",
       "  'quarterback',\n",
       "  'during',\n",
       "  'the',\n",
       "  '49ers',\n",
       "  '63rd',\n",
       "  'season',\n",
       "  'in',\n",
       "  'the',\n",
       "  'National',\n",
       "  'Football',\n",
       "  'League',\n",
       "  '.'],\n",
       " 'processed_claim': 'Colin Kaepernick became a starting quarterback during the 49ers 63rd season in the National Football League .',\n",
       " 'predicted_docids': ['Colin_Kaepernick', 'Football_League_-LRB-Greece-RRB-']}"
      ]
     },
     "execution_count": 20,
     "metadata": {},
     "output_type": "execute_result"
    }
   ],
   "source": [
    "doc_retr1[0]"
   ]
  },
  {
   "cell_type": "code",
   "execution_count": 19,
   "id": "288176fc-eabc-4852-b37b-c5514b06c4a8",
   "metadata": {
    "collapsed": true,
    "jupyter": {
     "outputs_hidden": true
    },
    "tags": []
   },
   "outputs": [
    {
     "data": {
      "text/plain": [
       "{'id': 91198,\n",
       " 'verifiable': 'NOT VERIFIABLE',\n",
       " 'label': 'NOT ENOUGH INFO',\n",
       " 'claim': 'Colin Kaepernick became a starting quarterback during the 49ers 63rd season in the National Football League .',\n",
       " 'evidence': [[[108548, None, None, None]]],\n",
       " 'prioritized_docids': [['Football_League_-LRB-Greece-RRB-', 1.0],\n",
       "  ['Colin_Kaepernick', 5.0]],\n",
       " 'structured_docids': {'Colin Kaepernick': [['Colin_Kaepernick', 5.0]],\n",
       "  'Football League': [['Football_League_-LRB-Greece-RRB-', 1.0]]},\n",
       " 'claim_lemmas': ['Colin',\n",
       "  'Kaepernick',\n",
       "  'become',\n",
       "  'a',\n",
       "  'start',\n",
       "  'quarterback',\n",
       "  'during',\n",
       "  'the',\n",
       "  '49ers',\n",
       "  '63rd',\n",
       "  'season',\n",
       "  'in',\n",
       "  'the',\n",
       "  'National',\n",
       "  'Football',\n",
       "  'League',\n",
       "  '.'],\n",
       " 'claim_tokens': ['Colin',\n",
       "  'Kaepernick',\n",
       "  'became',\n",
       "  'a',\n",
       "  'starting',\n",
       "  'quarterback',\n",
       "  'during',\n",
       "  'the',\n",
       "  '49ers',\n",
       "  '63rd',\n",
       "  'season',\n",
       "  'in',\n",
       "  'the',\n",
       "  'National',\n",
       "  'Football',\n",
       "  'League',\n",
       "  '.'],\n",
       " 'processed_claim': 'Colin Kaepernick became a starting quarterback during the 49ers 63rd season in the National Football League .',\n",
       " 'predicted_docids': ['Football_League_-LRB-Greece-RRB-', 'Colin_Kaepernick']}"
      ]
     },
     "execution_count": 19,
     "metadata": {},
     "output_type": "execute_result"
    }
   ],
   "source": [
    "tmp = read_data(Path(\"/users/k21190024/study/fact-check-transfer-learning/repos/fever/uncnlp/thesis/zeroshot/feveronly/uncnlp/pipeline_r_aaai_doc/2023_06_05_22:39:10_r/doc_retr_1_shared_task_dev.jsonl\"))\n",
    "tmp[0]"
   ]
  },
  {
   "cell_type": "code",
   "execution_count": 23,
   "id": "99928f11-839f-4baa-8d18-6aab1b0c4c6c",
   "metadata": {},
   "outputs": [
    {
     "data": {
      "text/plain": [
       "0"
      ]
     },
     "execution_count": 23,
     "metadata": {},
     "output_type": "execute_result"
    }
   ],
   "source": [
    "tmp_match = [len(set(x[\"predicted_docids\"]) - set(y[\"predicted_docids\"])) for x, y in zip(doc_retr1, tmp)]\n",
    "sum(tmp_match)"
   ]
  },
  {
   "cell_type": "code",
   "execution_count": null,
   "id": "ce1b0f80-935a-4499-92a9-c2c95211a097",
   "metadata": {},
   "outputs": [],
   "source": []
  },
  {
   "cell_type": "code",
   "execution_count": null,
   "id": "d8298b7b-6ffe-4df1-bb8c-5e832ed7728e",
   "metadata": {},
   "outputs": [],
   "source": []
  },
  {
   "cell_type": "markdown",
   "id": "b42dfe4a-0520-45e9-80c0-c93ab5ccba9b",
   "metadata": {},
   "source": [
    "# UCL NLP\n",
    "\n",
    "(1) Logistic Reg => (2) Logistic Reg => (3) ESIM => (4) MLP\n",
    "\n",
    "(1) Document retrieval\n",
    "  - Trained on using nltk corpus of names and places, stopwords, ... in doc_ir.py phrase_features()\n",
    "  \n",
    "(2) Sentence retrieval"
   ]
  },
  {
   "cell_type": "code",
   "execution_count": 3,
   "id": "d6adaca6-5033-434b-9736-2148a72d7ce8",
   "metadata": {},
   "outputs": [
    {
     "data": {
      "text/plain": [
       "'/users/k21190024/study/fact-checking-repos/fever/uclnlp/fever'"
      ]
     },
     "execution_count": 3,
     "metadata": {},
     "output_type": "execute_result"
    }
   ],
   "source": [
    "os.chdir(\"/users/k21190024/study/fact-check-transfer-learning/repos/fever/uclnlp/fever\")\n",
    "sys.path.insert(1, os.getcwd())\n",
    "os.getcwd()"
   ]
  },
  {
   "cell_type": "code",
   "execution_count": 16,
   "id": "dbb79aa8-3db3-48cc-8a25-786e6018f10b",
   "metadata": {},
   "outputs": [],
   "source": [
    "from line_ir import line_ir\n",
    "from doc_ir import doc_ir\n",
    "from doc_ir_model import doc_ir_model, load_selected\n",
    "from line_ir_model import line_ir_model"
   ]
  },
  {
   "cell_type": "code",
   "execution_count": 18,
   "id": "09f02d86-928a-4704-8ca6-79701187bde7",
   "metadata": {},
   "outputs": [
    {
     "name": "stderr",
     "output_type": "stream",
     "text": [
      "100000it [00:00, 270299.96it/s]\n"
     ]
    }
   ],
   "source": [
    "dirdocs = load_selected()"
   ]
  },
  {
   "cell_type": "code",
   "execution_count": 20,
   "id": "09b2a711-754b-496c-b76c-a1d07d5bae04",
   "metadata": {},
   "outputs": [],
   "source": [
    "ls = list(dirdocs.keys())"
   ]
  },
  {
   "cell_type": "code",
   "execution_count": 23,
   "id": "dde5ee60-1382-43d7-9f07-ad585603fab8",
   "metadata": {},
   "outputs": [],
   "source": [
    "ftrain = read_data(Path(\"/users/k21190024/study/fact-check-transfer-learning/repos/fever/uclnlp/fever/fever_data/train.jsonl\"))"
   ]
  },
  {
   "cell_type": "code",
   "execution_count": 26,
   "id": "5131d92c-e949-4192-a8a8-236e746fe0ed",
   "metadata": {},
   "outputs": [
    {
     "data": {
      "text/plain": [
       "[{'id': 150448,\n",
       "  'verifiable': 'VERIFIABLE',\n",
       "  'label': 'SUPPORTS',\n",
       "  'claim': 'Roman Atwood is a content creator.',\n",
       "  'evidence': [[[174271, 187498, 'Roman_Atwood', 1]],\n",
       "   [[174271, 187499, 'Roman_Atwood', 3]]]}]"
      ]
     },
     "execution_count": 26,
     "metadata": {},
     "output_type": "execute_result"
    }
   ],
   "source": [
    "[c for c in ftrain if c[\"id\"] == ls[0]]"
   ]
  },
  {
   "cell_type": "code",
   "execution_count": 22,
   "id": "4c379b94-fc15-45e5-ba8e-f22e1d63c4ef",
   "metadata": {},
   "outputs": [
    {
     "data": {
      "text/plain": [
       "150448"
      ]
     },
     "execution_count": 22,
     "metadata": {},
     "output_type": "execute_result"
    }
   ],
   "source": [
    "ls[0]"
   ]
  },
  {
   "cell_type": "code",
   "execution_count": 21,
   "id": "20c005af-2b88-403e-bf45-048049e1d17a",
   "metadata": {},
   "outputs": [
    {
     "data": {
      "text/plain": [
       "{1: ['Roman_Atwood', ' Roman Atwood', 0],\n",
       " 0: ['Atwood_-LRB-crater-RRB-', ' Atwood', 1]}"
      ]
     },
     "execution_count": 21,
     "metadata": {},
     "output_type": "execute_result"
    }
   ],
   "source": [
    "dirdocs[ls[0]]"
   ]
  }
 ],
 "metadata": {
  "kernelspec": {
   "display_name": "Python 3 (ipykernel)",
   "language": "python",
   "name": "python3"
  },
  "language_info": {
   "codemirror_mode": {
    "name": "ipython",
    "version": 3
   },
   "file_extension": ".py",
   "mimetype": "text/x-python",
   "name": "python",
   "nbconvert_exporter": "python",
   "pygments_lexer": "ipython3",
   "version": "3.8.16"
  }
 },
 "nbformat": 4,
 "nbformat_minor": 5
}
