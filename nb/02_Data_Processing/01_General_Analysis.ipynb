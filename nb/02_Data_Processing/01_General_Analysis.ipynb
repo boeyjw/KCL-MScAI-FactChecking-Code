{
 "cells": [
  {
   "cell_type": "code",
   "execution_count": 2,
   "id": "c8903c76-2769-4ab1-813c-a65111f4fe6f",
   "metadata": {},
   "outputs": [],
   "source": [
    "%load_ext autoreload\n",
    "%autoreload 2"
   ]
  },
  {
   "cell_type": "markdown",
   "id": "d9535ed6-3be7-4dfc-bb27-2892c379cb82",
   "metadata": {},
   "source": [
    "# Init"
   ]
  },
  {
   "cell_type": "code",
   "execution_count": 3,
   "id": "894f5ed6-b019-41b6-b583-1339e8834a3a",
   "metadata": {},
   "outputs": [],
   "source": [
    "import sys\n",
    "sys.path.insert(0, \"../src\")\n",
    "\n",
    "import json\n",
    "import random\n",
    "import numpy as np\n",
    "import scipy\n",
    "from pathlib import Path\n",
    "from collections import Counter, defaultdict\n",
    "from joblib import Parallel, delayed\n",
    "\n",
    "import constants\n",
    "import feverise.analysis as fa\n",
    "from gen.util import read_data, write_jsonl"
   ]
  },
  {
   "cell_type": "code",
   "execution_count": 67,
   "id": "d92b40cc-20de-4600-b58f-34b955e128fc",
   "metadata": {},
   "outputs": [],
   "source": [
    "feverp = Path(\"/users/k21190024/study/fact-check-transfer-learning/scratch/data/fever\")\n",
    "climatefp = Path(\"/users/k21190024/study/fact-check-transfer-learning/scratch/data/climatefever\")\n",
    "scifactp = Path(\"/users/k21190024/study/fact-check-transfer-learning/scratch/data/scifact\")\n",
    "\n",
    "climatefdp = Path(\"/users/k21190024/study/fact-check-transfer-learning/scratch/dumps/feverised-climatefever\")\n",
    "scifactdp = Path(\"/users/k21190024/study/fact-check-transfer-learning/scratch/dumps/feverised-scifact\")"
   ]
  },
  {
   "cell_type": "code",
   "execution_count": 68,
   "id": "a0a4c950-8e06-440a-9675-84fc9bbee6d6",
   "metadata": {},
   "outputs": [],
   "source": [
    "fever_claims = read_data(feverp / \"train.jsonl\") + read_data(feverp / \"shared_task_dev.jsonl\")\n",
    "scifact_claims = read_data(scifactdp / \"scifact_all.jsonl\")\n",
    "cfever_claims = read_data(climatefdp / \"climatefever_paper_all.jsonl\")"
   ]
  },
  {
   "cell_type": "markdown",
   "id": "374d306f-dfdc-4352-ba88-84008df04865",
   "metadata": {
    "tags": []
   },
   "source": [
    "# Label proportions"
   ]
  },
  {
   "cell_type": "code",
   "execution_count": 69,
   "id": "82e30d4a-2276-43d8-bedc-3b63ce4e0663",
   "metadata": {},
   "outputs": [],
   "source": [
    "fever_labels = Counter([doc[\"label\"] for doc in fever_claims])\n",
    "cfever_labels = Counter([doc[\"label\"] for doc in cfever_claims])\n",
    "scifact_labels = Counter([doc[\"label\"] for doc in scifact_claims])"
   ]
  },
  {
   "cell_type": "code",
   "execution_count": 70,
   "id": "3584c511-6e22-458c-bf18-91b42c5a1b58",
   "metadata": {},
   "outputs": [],
   "source": [
    "def label_ratio(cnt):\n",
    "    total = sum(cnt.values())\n",
    "    return {k: round(v / total, 2) for k, v in cnt.items()}"
   ]
  },
  {
   "cell_type": "code",
   "execution_count": 71,
   "id": "ed72afbb-a55f-44fd-abfd-a22e188d6f5f",
   "metadata": {},
   "outputs": [
    {
     "data": {
      "text/plain": [
       "({'SUPPORTS': 0.52, 'REFUTES': 0.22, 'NOT ENOUGH INFO': 0.26},\n",
       " {'SUPPORTS': 0.47, 'REFUTES': 0.18, 'NOT ENOUGH INFO': 0.34},\n",
       " {'NOT ENOUGH INFO': 0.38, 'REFUTES': 0.21, 'SUPPORTS': 0.41})"
      ]
     },
     "execution_count": 71,
     "metadata": {},
     "output_type": "execute_result"
    }
   ],
   "source": [
    "label_ratio(fever_labels), label_ratio(cfever_labels), label_ratio(scifact_labels)"
   ]
  },
  {
   "cell_type": "markdown",
   "id": "1ade4609-3e24-4cfa-a1e7-9060b00d7963",
   "metadata": {},
   "source": [
    "# Count Claim-Evidence"
   ]
  },
  {
   "cell_type": "code",
   "execution_count": 72,
   "id": "d0de4bcd-bd65-41d0-8f50-3222359f68e7",
   "metadata": {},
   "outputs": [],
   "source": [
    "fever_cnt, fever_stats = fa.count_evidences(fever_claims)\n",
    "scifact_cnt, scifact_stats = fa.count_evidences(scifact_claims)\n",
    "cfever_cnt, cfever_stats = fa.count_evidences(cfever_claims)"
   ]
  },
  {
   "cell_type": "markdown",
   "id": "c911e0f1-7352-4fd7-9805-4d34a1fa34d6",
   "metadata": {},
   "source": [
    "## FEVER"
   ]
  },
  {
   "cell_type": "code",
   "execution_count": 73,
   "id": "7a166449-6eba-4e2e-8d54-fa334333e778",
   "metadata": {
    "collapsed": true,
    "jupyter": {
     "outputs_hidden": true
    },
    "tags": []
   },
   "outputs": [
    {
     "data": {
      "text/plain": [
       "(Counter({1: 62251,\n",
       "          2: 10520,\n",
       "          4: 2473,\n",
       "          16: 79,\n",
       "          5: 2694,\n",
       "          8: 589,\n",
       "          13: 160,\n",
       "          3: 3433,\n",
       "          6: 1595,\n",
       "          18: 70,\n",
       "          7: 842,\n",
       "          20: 51,\n",
       "          9: 413,\n",
       "          14: 128,\n",
       "          27: 20,\n",
       "          10: 334,\n",
       "          138: 1,\n",
       "          17: 70,\n",
       "          21: 44,\n",
       "          62: 2,\n",
       "          15: 75,\n",
       "          24: 33,\n",
       "          11: 257,\n",
       "          12: 215,\n",
       "          44: 8,\n",
       "          32: 11,\n",
       "          34: 9,\n",
       "          42: 7,\n",
       "          50: 3,\n",
       "          26: 30,\n",
       "          43: 3,\n",
       "          37: 6,\n",
       "          25: 27,\n",
       "          19: 55,\n",
       "          22: 31,\n",
       "          52: 4,\n",
       "          29: 17,\n",
       "          38: 7,\n",
       "          28: 9,\n",
       "          23: 20,\n",
       "          36: 8,\n",
       "          33: 11,\n",
       "          31: 11,\n",
       "          40: 4,\n",
       "          59: 1,\n",
       "          58: 1,\n",
       "          51: 2,\n",
       "          35: 6,\n",
       "          45: 4,\n",
       "          30: 16,\n",
       "          140: 1,\n",
       "          53: 3,\n",
       "          48: 3,\n",
       "          122: 1,\n",
       "          39: 6,\n",
       "          63: 1,\n",
       "          49: 2,\n",
       "          66: 2,\n",
       "          47: 3,\n",
       "          102: 1,\n",
       "          156: 1,\n",
       "          65: 1,\n",
       "          130: 1,\n",
       "          54: 1,\n",
       "          84: 1,\n",
       "          85: 1,\n",
       "          78: 1,\n",
       "          46: 1,\n",
       "          67: 1,\n",
       "          96: 1,\n",
       "          60: 1,\n",
       "          117: 1,\n",
       "          251: 1,\n",
       "          41: 1,\n",
       "          74: 1,\n",
       "          73: 1,\n",
       "          71: 1,\n",
       "          116: 1}),\n",
       " Counter({1: 26269,\n",
       "          2: 4423,\n",
       "          5: 881,\n",
       "          3: 1584,\n",
       "          16: 40,\n",
       "          19: 25,\n",
       "          6: 569,\n",
       "          9: 186,\n",
       "          10: 155,\n",
       "          13: 93,\n",
       "          4: 1038,\n",
       "          43: 2,\n",
       "          21: 31,\n",
       "          20: 30,\n",
       "          8: 246,\n",
       "          23: 12,\n",
       "          7: 366,\n",
       "          27: 6,\n",
       "          56: 3,\n",
       "          14: 69,\n",
       "          17: 32,\n",
       "          11: 110,\n",
       "          22: 16,\n",
       "          29: 8,\n",
       "          26: 9,\n",
       "          54: 2,\n",
       "          18: 30,\n",
       "          12: 99,\n",
       "          52: 4,\n",
       "          15: 40,\n",
       "          31: 4,\n",
       "          46: 1,\n",
       "          36: 4,\n",
       "          30: 2,\n",
       "          61: 1,\n",
       "          71: 1,\n",
       "          25: 10,\n",
       "          33: 2,\n",
       "          39: 4,\n",
       "          44: 3,\n",
       "          60: 1,\n",
       "          65: 1,\n",
       "          24: 8,\n",
       "          37: 2,\n",
       "          53: 2,\n",
       "          55: 1,\n",
       "          78: 1,\n",
       "          49: 1,\n",
       "          59: 1,\n",
       "          41: 2,\n",
       "          62: 1,\n",
       "          28: 2,\n",
       "          34: 2,\n",
       "          35: 1,\n",
       "          45: 2,\n",
       "          47: 1,\n",
       "          75: 1,\n",
       "          50: 1}),\n",
       " Counter({0: 42305}))"
      ]
     },
     "execution_count": 73,
     "metadata": {},
     "output_type": "execute_result"
    }
   ],
   "source": [
    "Counter(fever_cnt[constants.LOOKUP[\"label\"][\"s\"]]), Counter(fever_cnt[constants.LOOKUP[\"label\"][\"r\"]]), Counter(fever_cnt[constants.LOOKUP[\"label\"][\"nei\"]])"
   ]
  },
  {
   "cell_type": "code",
   "execution_count": 89,
   "id": "314cf388-24a7-44db-92c8-f6c85585bf31",
   "metadata": {},
   "outputs": [
    {
     "data": {
      "text/plain": [
       "{1: 0.2811550892465609,\n",
       " 2: 0.15980737684949084,\n",
       " 3: 0.11906579396144289,\n",
       " 4: 0.09055399457536828,\n",
       " 5: 0.06152246999399068,\n",
       " 6: 0.04394926182780855,\n",
       " 7: 0.034139448766464735,\n",
       " 8: 0.027358659108996118,\n",
       " 9: 0.022494356109207258,\n",
       " 10: 0.018523330788845396}"
      ]
     },
     "execution_count": 89,
     "metadata": {},
     "output_type": "execute_result"
    }
   ],
   "source": [
    "total = Counter(fever_cnt[constants.LOOKUP[\"label\"][\"s\"]]) + Counter(fever_cnt[constants.LOOKUP[\"label\"][\"r\"]])\n",
    "fa.max_sentence_effect(total, 10)"
   ]
  },
  {
   "cell_type": "code",
   "execution_count": 43,
   "id": "8501dc1d-6356-481a-a8f0-f295412619b1",
   "metadata": {},
   "outputs": [
    {
     "data": {
      "text/plain": [
       "{'SUPPORTS': (1, ModeResult(mode=1, count=62251), 2.003979192858214, 251),\n",
       " 'REFUTES': (1, ModeResult(mode=1, count=26269), 1.9882549875140638, 78),\n",
       " 'NOT ENOUGH INFO': (0, ModeResult(mode=0, count=42305), 0.0, 0)}"
      ]
     },
     "execution_count": 43,
     "metadata": {},
     "output_type": "execute_result"
    }
   ],
   "source": [
    "fever_stats"
   ]
  },
  {
   "cell_type": "markdown",
   "id": "9c8914b2-aedf-48b9-8900-6209a952f603",
   "metadata": {},
   "source": [
    "## Climate-FEVER"
   ]
  },
  {
   "cell_type": "code",
   "execution_count": 10,
   "id": "9b2666e9-a7e0-4a12-ab75-a257475a5b5c",
   "metadata": {},
   "outputs": [
    {
     "data": {
      "text/plain": [
       "(Counter({5: 654}), Counter({5: 253}), Counter({5: 474}))"
      ]
     },
     "execution_count": 10,
     "metadata": {},
     "output_type": "execute_result"
    }
   ],
   "source": [
    "# climate-fever\n",
    "Counter(cfever_cnt[constants.LOOKUP[\"label\"][\"s\"]]), Counter(cfever_cnt[constants.LOOKUP[\"label\"][\"r\"]]), Counter(cfever_cnt[constants.LOOKUP[\"label\"][\"nei\"]])"
   ]
  },
  {
   "cell_type": "code",
   "execution_count": 45,
   "id": "d63f25ce-4d96-4dbb-bc6f-d982bd4e603d",
   "metadata": {},
   "outputs": [
    {
     "data": {
      "text/plain": [
       "{'SUPPORTS': (5, ModeResult(mode=5, count=654), 5.0, 5),\n",
       " 'REFUTES': (5, ModeResult(mode=5, count=253), 5.0, 5),\n",
       " 'NOT ENOUGH INFO': (5, ModeResult(mode=5, count=474), 5.0, 5)}"
      ]
     },
     "execution_count": 45,
     "metadata": {},
     "output_type": "execute_result"
    }
   ],
   "source": [
    "cfever_stats"
   ]
  },
  {
   "cell_type": "markdown",
   "id": "1df8c9d8-142e-4c33-b5f2-800a7c4df013",
   "metadata": {},
   "source": [
    "## SciFact"
   ]
  },
  {
   "cell_type": "code",
   "execution_count": 9,
   "id": "e3ba27a1-6c0e-4b92-8dfa-a0b56d114cdd",
   "metadata": {},
   "outputs": [
    {
     "data": {
      "text/plain": [
       "(Counter({1: 218, 2: 128, 4: 31, 5: 4, 3: 64, 9: 2, 11: 1, 8: 4, 6: 3, 7: 1}),\n",
       " Counter({1: 103, 3: 35, 5: 7, 2: 68, 4: 19, 7: 2, 8: 1, 6: 1, 12: 1}),\n",
       " Counter({0: 416}))"
      ]
     },
     "execution_count": 9,
     "metadata": {},
     "output_type": "execute_result"
    }
   ],
   "source": [
    "# scifact\n",
    "Counter(scifact_cnt[constants.LOOKUP[\"label\"][\"s\"]]), Counter(scifact_cnt[constants.LOOKUP[\"label\"][\"r\"]]), Counter(scifact_cnt[constants.LOOKUP[\"label\"][\"nei\"]])"
   ]
  },
  {
   "cell_type": "code",
   "execution_count": 90,
   "id": "74d07ca4-a3fa-49bb-aff8-9664832fb771",
   "metadata": {},
   "outputs": [
    {
     "data": {
      "text/plain": [
       "{1: 0.5367965367965368,\n",
       " 2: 0.25396825396825395,\n",
       " 3: 0.1111111111111111,\n",
       " 4: 0.03896103896103896,\n",
       " 5: 0.023088023088023088,\n",
       " 6: 0.017316017316017316,\n",
       " 7: 0.012987012987012988,\n",
       " 8: 0.005772005772005772,\n",
       " 9: 0.002886002886002886,\n",
       " 10: 0.002886002886002886}"
      ]
     },
     "execution_count": 90,
     "metadata": {},
     "output_type": "execute_result"
    }
   ],
   "source": [
    "total = Counter(scifact_cnt[constants.LOOKUP[\"label\"][\"s\"]]) + Counter(scifact_cnt[constants.LOOKUP[\"label\"][\"r\"]])\n",
    "fa.max_sentence_effect(total, 10)"
   ]
  },
  {
   "cell_type": "code",
   "execution_count": 44,
   "id": "e88c2597-a1f9-4e3b-8072-421b83c7e4a2",
   "metadata": {},
   "outputs": [
    {
     "data": {
      "text/plain": [
       "{'NOT ENOUGH INFO': (0, ModeResult(mode=0, count=416), 0.0, 0),\n",
       " 'REFUTES': (1, ModeResult(mode=1, count=103), 2.088607594936709, 12),\n",
       " 'SUPPORTS': (1, ModeResult(mode=1, count=218), 1.9649122807017543, 11)}"
      ]
     },
     "execution_count": 44,
     "metadata": {},
     "output_type": "execute_result"
    }
   ],
   "source": [
    "scifact_stats"
   ]
  },
  {
   "cell_type": "markdown",
   "id": "f31c2f53-22b9-4d81-8620-a523233cf402",
   "metadata": {},
   "source": [
    "# Check claim-evidence tokenizer length"
   ]
  },
  {
   "cell_type": "code",
   "execution_count": 39,
   "id": "3ba829a6-30b7-417a-922d-6d702dad3f89",
   "metadata": {},
   "outputs": [],
   "source": [
    "def count_claim_evidence_length(data):\n",
    "    res = defaultdict(list)\n",
    "    for doc in data:\n",
    "        length = tokenizer(doc[\"evidence\"], doc[\"claim\"], return_length=True)[\"length\"][0] - 3\n",
    "        res[constants.ID2LABEL[doc[\"labels\"]]].append(length)\n",
    "    return res, {k: Counter(v) for k, v in res.items()}\n",
    "\n",
    "def pct_over_max_seq_length(cnt, max_length):\n",
    "    over_all = []\n",
    "    total_all = 0\n",
    "    d = {}\n",
    "    for label, count in cnt.items():\n",
    "        over = []\n",
    "        total = 0\n",
    "        for c, n in count.items():\n",
    "            if c > max_length:\n",
    "                over.append(n)\n",
    "            total += n\n",
    "        over_all += over\n",
    "        total_all += total\n",
    "        d[label] = sum(over) / total\n",
    "        d[label + \"_count\"] = sum(over)\n",
    "    d[\"overall\"] = sum(over_all) / total_all\n",
    "    d[\"overall_count\"] = sum(over_all)\n",
    "    \n",
    "    return d"
   ]
  },
  {
   "cell_type": "markdown",
   "id": "abf45aff-7c29-4674-a537-3482c3d9006a",
   "metadata": {},
   "source": [
    "## Document level evidence"
   ]
  },
  {
   "cell_type": "code",
   "execution_count": 40,
   "id": "5e3c34d6-078c-4da4-9d04-a61d61bbf3be",
   "metadata": {},
   "outputs": [],
   "source": [
    "from transformers import AutoTokenizer\n",
    "\n",
    "bert_data_p = Path(\"/users/k21190024/study/fact-check-transfer-learning/scratch/dumps/bert-data-doc-evidence\")\n",
    "fever_all = read_data(bert_data_p / \"fever.all.jsonl\")\n",
    "cfever_all = read_data(bert_data_p / \"climatefever.all.jsonl\")\n",
    "scifact_all = read_data(bert_data_p / \"scifact.all.test.n5.jsonl\")"
   ]
  },
  {
   "cell_type": "code",
   "execution_count": 41,
   "id": "027f580d-1654-4129-93ae-49513f0a31fa",
   "metadata": {},
   "outputs": [],
   "source": [
    "tokenizer = AutoTokenizer.from_pretrained(\"bert-base-uncased\")"
   ]
  },
  {
   "cell_type": "code",
   "execution_count": 42,
   "id": "a2eb964f-23eb-4423-a1ed-7e83d73c4b2d",
   "metadata": {},
   "outputs": [
    {
     "name": "stderr",
     "output_type": "stream",
     "text": [
      "Token indices sequence length is longer than the specified maximum sequence length for this model (540 > 512). Running this sequence through the model will result in indexing errors\n"
     ]
    }
   ],
   "source": [
    "fever_all_raw, fever_all_cnt = count_claim_evidence_length(fever_all)\n",
    "cfever_all_raw, cfever_all_cnt = count_claim_evidence_length(cfever_all)\n",
    "scifact_all_raw, scifact_all_cnt = count_claim_evidence_length(scifact_all)"
   ]
  },
  {
   "cell_type": "code",
   "execution_count": 43,
   "id": "8441644c-33ef-42fc-a538-2e9f627d4e1a",
   "metadata": {
    "tags": []
   },
   "outputs": [
    {
     "data": {
      "text/plain": [
       "({'NOT ENOUGH INFO': 65.41730291927668,\n",
       "  'SUPPORTS': 63.87875572369408,\n",
       "  'REFUTES': 65.19085645289647},\n",
       " {'NOT ENOUGH INFO': 0.011818933932159319,\n",
       "  'NOT ENOUGH INFO_count': 500,\n",
       "  'SUPPORTS': 0.06672356720222374,\n",
       "  'SUPPORTS_count': 5785,\n",
       "  'REFUTES': 0.0759035152712604,\n",
       "  'REFUTES_count': 2766,\n",
       "  'overall': 0.054706341003463346,\n",
       "  'overall_count': 9051},\n",
       " {'NOT ENOUGH INFO': 4.727573572863728e-05,\n",
       "  'NOT ENOUGH INFO_count': 2,\n",
       "  'SUPPORTS': 0.019803693152328116,\n",
       "  'SUPPORTS_count': 1717,\n",
       "  'REFUTES': 0.024505364836310748,\n",
       "  'REFUTES_count': 893,\n",
       "  'overall': 0.015787533167721385,\n",
       "  'overall_count': 2612},\n",
       " {'NOT ENOUGH INFO': 0.0,\n",
       "  'NOT ENOUGH INFO_count': 0,\n",
       "  'SUPPORTS': 0.002272176791501828,\n",
       "  'SUPPORTS_count': 197,\n",
       "  'REFUTES': 0.0031283444471886064,\n",
       "  'REFUTES_count': 114,\n",
       "  'overall': 0.001879756054809093,\n",
       "  'overall_count': 311})"
      ]
     },
     "execution_count": 43,
     "metadata": {},
     "output_type": "execute_result"
    }
   ],
   "source": [
    "(\n",
    "    {k: sum(v) / len(v) for k, v in fever_all_raw.items()}, \n",
    "    pct_over_max_seq_length(fever_all_cnt, 128),\n",
    "    pct_over_max_seq_length(fever_all_cnt, 256),\n",
    "    pct_over_max_seq_length(fever_all_cnt, 512),\n",
    ")"
   ]
  },
  {
   "cell_type": "code",
   "execution_count": 44,
   "id": "a5f93605-b064-4a8b-9374-28e276fe949a",
   "metadata": {
    "tags": []
   },
   "outputs": [
    {
     "data": {
      "text/plain": [
       "({'REFUTES': 101.18181818181819,\n",
       "  'SUPPORTS': 115.69113149847095,\n",
       "  'NOT ENOUGH INFO': 204.97679324894514},\n",
       " {'REFUTES': 0.2648221343873518,\n",
       "  'REFUTES_count': 67,\n",
       "  'SUPPORTS': 0.38073394495412843,\n",
       "  'SUPPORTS_count': 249,\n",
       "  'NOT ENOUGH INFO': 0.9451476793248945,\n",
       "  'NOT ENOUGH INFO_count': 448,\n",
       "  'overall': 0.5532223026792179,\n",
       "  'overall_count': 764},\n",
       " {'REFUTES': 0.003952569169960474,\n",
       "  'REFUTES_count': 1,\n",
       "  'SUPPORTS': 0.016819571865443424,\n",
       "  'SUPPORTS_count': 11,\n",
       "  'NOT ENOUGH INFO': 0.14135021097046413,\n",
       "  'NOT ENOUGH INFO_count': 67,\n",
       "  'overall': 0.05720492396813903,\n",
       "  'overall_count': 79},\n",
       " {'REFUTES': 0.0,\n",
       "  'REFUTES_count': 0,\n",
       "  'SUPPORTS': 0.0,\n",
       "  'SUPPORTS_count': 0,\n",
       "  'NOT ENOUGH INFO': 0.004219409282700422,\n",
       "  'NOT ENOUGH INFO_count': 2,\n",
       "  'overall': 0.001448225923244026,\n",
       "  'overall_count': 2})"
      ]
     },
     "execution_count": 44,
     "metadata": {},
     "output_type": "execute_result"
    }
   ],
   "source": [
    "(\n",
    "    {k: sum(v) / len(v) for k, v in cfever_all_raw.items()}, \n",
    "    pct_over_max_seq_length(cfever_all_cnt, 128),\n",
    "    pct_over_max_seq_length(cfever_all_cnt, 256),\n",
    "    pct_over_max_seq_length(cfever_all_cnt, 512),\n",
    ")"
   ]
  },
  {
   "cell_type": "code",
   "execution_count": 45,
   "id": "cc8014c7-d97f-4443-9258-45b97fc2de6e",
   "metadata": {
    "tags": []
   },
   "outputs": [
    {
     "data": {
      "text/plain": [
       "({'NOT ENOUGH INFO': 97.0360576923077,\n",
       "  'REFUTES': 129.75527426160338,\n",
       "  'SUPPORTS': 116.41885964912281},\n",
       " {'NOT ENOUGH INFO': 0.12259615384615384,\n",
       "  'NOT ENOUGH INFO_count': 51,\n",
       "  'REFUTES': 0.37130801687763715,\n",
       "  'REFUTES_count': 88,\n",
       "  'SUPPORTS': 0.3048245614035088,\n",
       "  'SUPPORTS_count': 139,\n",
       "  'overall': 0.25067628494138866,\n",
       "  'overall_count': 278},\n",
       " {'NOT ENOUGH INFO': 0.004807692307692308,\n",
       "  'NOT ENOUGH INFO_count': 2,\n",
       "  'REFUTES': 0.08860759493670886,\n",
       "  'REFUTES_count': 21,\n",
       "  'SUPPORTS': 0.05482456140350877,\n",
       "  'SUPPORTS_count': 25,\n",
       "  'overall': 0.04328223624887286,\n",
       "  'overall_count': 48},\n",
       " {'NOT ENOUGH INFO': 0.0,\n",
       "  'NOT ENOUGH INFO_count': 0,\n",
       "  'REFUTES': 0.004219409282700422,\n",
       "  'REFUTES_count': 1,\n",
       "  'SUPPORTS': 0.0043859649122807015,\n",
       "  'SUPPORTS_count': 2,\n",
       "  'overall': 0.002705139765554554,\n",
       "  'overall_count': 3})"
      ]
     },
     "execution_count": 45,
     "metadata": {},
     "output_type": "execute_result"
    }
   ],
   "source": [
    "(\n",
    "    {k: sum(v) / len(v) for k, v in scifact_all_raw.items()}, \n",
    "    pct_over_max_seq_length(scifact_all_cnt, 128),\n",
    "    pct_over_max_seq_length(scifact_all_cnt, 256),\n",
    "    pct_over_max_seq_length(scifact_all_cnt, 512),\n",
    ")"
   ]
  },
  {
   "cell_type": "markdown",
   "id": "c5a65c69-5aae-4911-a291-b7370ecbec7d",
   "metadata": {},
   "source": [
    "## Sentence level evidence"
   ]
  },
  {
   "cell_type": "code",
   "execution_count": 46,
   "id": "4bfcc8d4-1e92-406a-9e4c-3c8f422fe093",
   "metadata": {},
   "outputs": [],
   "source": [
    "from transformers import AutoTokenizer\n",
    "\n",
    "bert_data_p = Path(\"/users/k21190024/study/fact-check-transfer-learning/scratch/dumps/bert-data-sent-evidence\")\n",
    "fever_all = read_data(bert_data_p / \"fever.all.jsonl\")\n",
    "cfever_all = read_data(bert_data_p / \"climatefever.all.jsonl\")\n",
    "scifact_all = read_data(bert_data_p / \"scifact.all.test.n5.jsonl\")"
   ]
  },
  {
   "cell_type": "code",
   "execution_count": 47,
   "id": "3c83bcdb-e71d-4f6f-917d-5e1bad79a985",
   "metadata": {},
   "outputs": [],
   "source": [
    "tokenizer = AutoTokenizer.from_pretrained(\"bert-base-uncased\")"
   ]
  },
  {
   "cell_type": "code",
   "execution_count": 48,
   "id": "92f39333-980e-4f6f-a81e-a43b3a066ad3",
   "metadata": {},
   "outputs": [],
   "source": [
    "fever_all_raw, fever_all_cnt = count_claim_evidence_length(fever_all)\n",
    "cfever_all_raw, cfever_all_cnt = count_claim_evidence_length(cfever_all)\n",
    "scifact_all_raw, scifact_all_cnt = count_claim_evidence_length(scifact_all)"
   ]
  },
  {
   "cell_type": "code",
   "execution_count": 49,
   "id": "09120929-7a78-47dc-af59-57cb6af2d4fe",
   "metadata": {},
   "outputs": [
    {
     "data": {
      "text/plain": [
       "({'NOT ENOUGH INFO': 38.00204467557026,\n",
       "  'SUPPORTS': 45.85537872785205,\n",
       "  'REFUTES': 44.549349364584124},\n",
       " {'NOT ENOUGH INFO': 0.0006736792341330812,\n",
       "  'NOT ENOUGH INFO_count': 57,\n",
       "  'SUPPORTS': 0.003523441846350962,\n",
       "  'SUPPORTS_count': 418,\n",
       "  'REFUTES': 0.0021117114374857317,\n",
       "  'REFUTES_count': 111,\n",
       "  'overall': 0.0022907805854390792,\n",
       "  'overall_count': 586},\n",
       " {'NOT ENOUGH INFO': 1.181893393215932e-05,\n",
       "  'NOT ENOUGH INFO_count': 1,\n",
       "  'SUPPORTS': 8.429286713758282e-06,\n",
       "  'SUPPORTS_count': 1,\n",
       "  'REFUTES': 0.0,\n",
       "  'REFUTES_count': 0,\n",
       "  'overall': 7.818363772829622e-06,\n",
       "  'overall_count': 2},\n",
       " {'NOT ENOUGH INFO': 0.0,\n",
       "  'NOT ENOUGH INFO_count': 0,\n",
       "  'SUPPORTS': 0.0,\n",
       "  'SUPPORTS_count': 0,\n",
       "  'REFUTES': 0.0,\n",
       "  'REFUTES_count': 0,\n",
       "  'overall': 0.0,\n",
       "  'overall_count': 0})"
      ]
     },
     "execution_count": 49,
     "metadata": {},
     "output_type": "execute_result"
    }
   ],
   "source": [
    "(\n",
    "    {k: sum(v) / len(v) for k, v in fever_all_raw.items()}, \n",
    "    pct_over_max_seq_length(fever_all_cnt, 128),\n",
    "    pct_over_max_seq_length(fever_all_cnt, 256),\n",
    "    pct_over_max_seq_length(fever_all_cnt, 512),\n",
    ")"
   ]
  },
  {
   "cell_type": "code",
   "execution_count": 50,
   "id": "f19d588e-f38c-47f9-ac47-cead40c4037a",
   "metadata": {},
   "outputs": [
    {
     "data": {
      "text/plain": [
       "({'REFUTES': 55.758620689655174,\n",
       "  'SUPPORTS': 60.608799048751486,\n",
       "  'NOT ENOUGH INFO': 61.55907172995781},\n",
       " {'REFUTES': 0.005172413793103448,\n",
       "  'REFUTES_count': 3,\n",
       "  'SUPPORTS': 0.0089179548156956,\n",
       "  'SUPPORTS_count': 15,\n",
       "  'NOT ENOUGH INFO': 0.018565400843881856,\n",
       "  'NOT ENOUGH INFO_count': 44,\n",
       "  'overall': 0.013385146804835924,\n",
       "  'overall_count': 62},\n",
       " {'REFUTES': 0.0,\n",
       "  'REFUTES_count': 0,\n",
       "  'SUPPORTS': 0.0,\n",
       "  'SUPPORTS_count': 0,\n",
       "  'NOT ENOUGH INFO': 0.002953586497890295,\n",
       "  'NOT ENOUGH INFO_count': 7,\n",
       "  'overall': 0.0015112262521588947,\n",
       "  'overall_count': 7},\n",
       " {'REFUTES': 0.0,\n",
       "  'REFUTES_count': 0,\n",
       "  'SUPPORTS': 0.0,\n",
       "  'SUPPORTS_count': 0,\n",
       "  'NOT ENOUGH INFO': 0.0,\n",
       "  'NOT ENOUGH INFO_count': 0,\n",
       "  'overall': 0.0,\n",
       "  'overall_count': 0})"
      ]
     },
     "execution_count": 50,
     "metadata": {},
     "output_type": "execute_result"
    }
   ],
   "source": [
    "(\n",
    "    {k: sum(v) / len(v) for k, v in cfever_all_raw.items()}, \n",
    "    pct_over_max_seq_length(cfever_all_cnt, 128),\n",
    "    pct_over_max_seq_length(cfever_all_cnt, 256),\n",
    "    pct_over_max_seq_length(cfever_all_cnt, 512),\n",
    ")"
   ]
  },
  {
   "cell_type": "code",
   "execution_count": 51,
   "id": "f88d2a14-58c5-4b8a-9bdc-69b95b2cc42f",
   "metadata": {},
   "outputs": [
    {
     "data": {
      "text/plain": [
       "({'NOT ENOUGH INFO': 59.03725961538461,\n",
       "  'REFUTES': 72.32727272727273,\n",
       "  'SUPPORTS': 68.83816964285714},\n",
       " {'NOT ENOUGH INFO': 0.01201923076923077,\n",
       "  'NOT ENOUGH INFO_count': 10,\n",
       "  'REFUTES': 0.06868686868686869,\n",
       "  'REFUTES_count': 34,\n",
       "  'SUPPORTS': 0.04799107142857143,\n",
       "  'SUPPORTS_count': 43,\n",
       "  'overall': 0.03913630229419703,\n",
       "  'overall_count': 87},\n",
       " {'NOT ENOUGH INFO': 0.0,\n",
       "  'NOT ENOUGH INFO_count': 0,\n",
       "  'REFUTES': 0.0,\n",
       "  'REFUTES_count': 0,\n",
       "  'SUPPORTS': 0.0,\n",
       "  'SUPPORTS_count': 0,\n",
       "  'overall': 0.0,\n",
       "  'overall_count': 0},\n",
       " {'NOT ENOUGH INFO': 0.0,\n",
       "  'NOT ENOUGH INFO_count': 0,\n",
       "  'REFUTES': 0.0,\n",
       "  'REFUTES_count': 0,\n",
       "  'SUPPORTS': 0.0,\n",
       "  'SUPPORTS_count': 0,\n",
       "  'overall': 0.0,\n",
       "  'overall_count': 0})"
      ]
     },
     "execution_count": 51,
     "metadata": {},
     "output_type": "execute_result"
    }
   ],
   "source": [
    "(\n",
    "    {k: sum(v) / len(v) for k, v in scifact_all_raw.items()}, \n",
    "    pct_over_max_seq_length(scifact_all_cnt, 128),\n",
    "    pct_over_max_seq_length(scifact_all_cnt, 256),\n",
    "    pct_over_max_seq_length(scifact_all_cnt, 512),\n",
    ")"
   ]
  },
  {
   "cell_type": "markdown",
   "id": "db0592f1-14bd-4fbf-9af9-bcbcbf634a3c",
   "metadata": {
    "tags": []
   },
   "source": [
    "### Label proportions"
   ]
  },
  {
   "cell_type": "code",
   "execution_count": 11,
   "id": "c3d482a2-f8a8-4760-9894-e5ba0f600a36",
   "metadata": {},
   "outputs": [],
   "source": [
    "fever_labels = Counter([doc[\"labels\"] for doc in fever_all])\n",
    "cfever_labels = Counter([doc[\"labels\"] for doc in cfever_all])\n",
    "scifact_labels = Counter([doc[\"labels\"] for doc in scifact_all])"
   ]
  },
  {
   "cell_type": "code",
   "execution_count": 12,
   "id": "8fdc14a9-7790-49de-bd5c-1a078b8f4bed",
   "metadata": {},
   "outputs": [],
   "source": [
    "def label_ratio(cnt):\n",
    "    total = sum(cnt.values())\n",
    "    return {constants.ID2LABEL[k]: round(v / total, 2) for k, v in cnt.items()}"
   ]
  },
  {
   "cell_type": "code",
   "execution_count": 13,
   "id": "31ddd421-0ce6-4b2f-8cb8-be7bdc5689e0",
   "metadata": {},
   "outputs": [
    {
     "data": {
      "text/plain": [
       "({'NOT ENOUGH INFO': 0.33, 'SUPPORTS': 0.46, 'REFUTES': 0.21},\n",
       " {'REFUTES': 0.13, 'SUPPORTS': 0.36, 'NOT ENOUGH INFO': 0.51},\n",
       " {'NOT ENOUGH INFO': 0.37, 'REFUTES': 0.22, 'SUPPORTS': 0.4})"
      ]
     },
     "execution_count": 13,
     "metadata": {},
     "output_type": "execute_result"
    }
   ],
   "source": [
    "label_ratio(fever_labels), label_ratio(cfever_labels), label_ratio(scifact_labels)"
   ]
  },
  {
   "cell_type": "code",
   "execution_count": 71,
   "id": "23c8e7be-e89f-4b25-90e6-fb25e722f462",
   "metadata": {},
   "outputs": [
    {
     "data": {
      "text/plain": [
       "({'SUPPORTS': 0.52, 'REFUTES': 0.22, 'NOT ENOUGH INFO': 0.26},\n",
       " {'SUPPORTS': 0.47, 'REFUTES': 0.18, 'NOT ENOUGH INFO': 0.34},\n",
       " {'NOT ENOUGH INFO': 0.38, 'REFUTES': 0.21, 'SUPPORTS': 0.41})"
      ]
     },
     "execution_count": 71,
     "metadata": {},
     "output_type": "execute_result"
    }
   ],
   "source": [
    "label_ratio(fever_labels), label_ratio(cfever_labels), label_ratio(scifact_labels)"
   ]
  },
  {
   "cell_type": "code",
   "execution_count": null,
   "id": "c45fe54e-db29-4df8-8a8c-557aa944df6e",
   "metadata": {},
   "outputs": [],
   "source": []
  }
 ],
 "metadata": {
  "kernelspec": {
   "display_name": "Python 3 (ipykernel)",
   "language": "python",
   "name": "python3"
  },
  "language_info": {
   "codemirror_mode": {
    "name": "ipython",
    "version": 3
   },
   "file_extension": ".py",
   "mimetype": "text/x-python",
   "name": "python",
   "nbconvert_exporter": "python",
   "pygments_lexer": "ipython3",
   "version": "3.8.16"
  }
 },
 "nbformat": 4,
 "nbformat_minor": 5
}
