{
 "cells": [
  {
   "cell_type": "code",
   "execution_count": 2,
   "id": "c8903c76-2769-4ab1-813c-a65111f4fe6f",
   "metadata": {},
   "outputs": [],
   "source": [
    "%load_ext autoreload\n",
    "%autoreload 2"
   ]
  },
  {
   "cell_type": "markdown",
   "id": "d9535ed6-3be7-4dfc-bb27-2892c379cb82",
   "metadata": {},
   "source": [
    "# Init"
   ]
  },
  {
   "cell_type": "code",
   "execution_count": 11,
   "id": "894f5ed6-b019-41b6-b583-1339e8834a3a",
   "metadata": {},
   "outputs": [],
   "source": [
    "import sys\n",
    "sys.path.insert(0, \"../src\")\n",
    "\n",
    "import json\n",
    "import random\n",
    "import numpy as np\n",
    "import scipy\n",
    "from pathlib import Path\n",
    "from collections import Counter, defaultdict\n",
    "from joblib import Parallel, delayed\n",
    "\n",
    "import constants\n",
    "import feverise.analysis as fa\n",
    "from gen.util import read_data, write_jsonl"
   ]
  },
  {
   "cell_type": "code",
   "execution_count": 5,
   "id": "d92b40cc-20de-4600-b58f-34b955e128fc",
   "metadata": {},
   "outputs": [],
   "source": [
    "feverp = Path(\"/users/k21190024/study/fact-check-transfer-learning/scratch/data/fever\")\n",
    "climatefp = Path(\"/users/k21190024/study/fact-check-transfer-learning/scratch/data/climatefever\")\n",
    "scifactp = Path(\"/users/k21190024/study/fact-check-transfer-learning/scratch/data/scifact\")\n",
    "\n",
    "climatefdp = Path(\"/users/k21190024/study/fact-check-transfer-learning/scratch/dumps/feverised-climatefever\")\n",
    "scifactdp = Path(\"/users/k21190024/study/fact-check-transfer-learning/scratch/dumps/feverised-scifact\")"
   ]
  },
  {
   "cell_type": "markdown",
   "id": "1ade4609-3e24-4cfa-a1e7-9060b00d7963",
   "metadata": {},
   "source": [
    "# Count Claim-Evidence"
   ]
  },
  {
   "cell_type": "code",
   "execution_count": 6,
   "id": "a0a4c950-8e06-440a-9675-84fc9bbee6d6",
   "metadata": {},
   "outputs": [],
   "source": [
    "fever_claims = read_data(feverp / \"train.jsonl\") + read_data(feverp / \"shared_task_dev.jsonl\")\n",
    "scifact_claims = read_data(scifactdp / \"scifact_all.jsonl\")\n",
    "cfever_claims = read_data(climatefdp / \"climatefever_paper_all.jsonl\")"
   ]
  },
  {
   "cell_type": "code",
   "execution_count": 42,
   "id": "d0de4bcd-bd65-41d0-8f50-3222359f68e7",
   "metadata": {},
   "outputs": [],
   "source": [
    "fever_cnt, fever_stats = fa.count_evidences(fever_claims)\n",
    "scifact_cnt, scifact_stats = fa.count_evidences(scifact_claims)\n",
    "cfever_cnt, cfever_stats = fa.count_evidences(cfever_claims)"
   ]
  },
  {
   "cell_type": "markdown",
   "id": "c911e0f1-7352-4fd7-9805-4d34a1fa34d6",
   "metadata": {},
   "source": [
    "## FEVER"
   ]
  },
  {
   "cell_type": "code",
   "execution_count": 8,
   "id": "7a166449-6eba-4e2e-8d54-fa334333e778",
   "metadata": {
    "collapsed": true,
    "jupyter": {
     "outputs_hidden": true
    },
    "tags": []
   },
   "outputs": [
    {
     "data": {
      "text/plain": [
       "(Counter({1: 62251,\n",
       "          2: 10520,\n",
       "          4: 2473,\n",
       "          16: 79,\n",
       "          5: 2694,\n",
       "          8: 589,\n",
       "          13: 160,\n",
       "          3: 3433,\n",
       "          6: 1595,\n",
       "          18: 70,\n",
       "          7: 842,\n",
       "          20: 51,\n",
       "          9: 413,\n",
       "          14: 128,\n",
       "          27: 20,\n",
       "          10: 334,\n",
       "          138: 1,\n",
       "          17: 70,\n",
       "          21: 44,\n",
       "          62: 2,\n",
       "          15: 75,\n",
       "          24: 33,\n",
       "          11: 257,\n",
       "          12: 215,\n",
       "          44: 8,\n",
       "          32: 11,\n",
       "          34: 9,\n",
       "          42: 7,\n",
       "          50: 3,\n",
       "          26: 30,\n",
       "          43: 3,\n",
       "          37: 6,\n",
       "          25: 27,\n",
       "          19: 55,\n",
       "          22: 31,\n",
       "          52: 4,\n",
       "          29: 17,\n",
       "          38: 7,\n",
       "          28: 9,\n",
       "          23: 20,\n",
       "          36: 8,\n",
       "          33: 11,\n",
       "          31: 11,\n",
       "          40: 4,\n",
       "          59: 1,\n",
       "          58: 1,\n",
       "          51: 2,\n",
       "          35: 6,\n",
       "          45: 4,\n",
       "          30: 16,\n",
       "          140: 1,\n",
       "          53: 3,\n",
       "          48: 3,\n",
       "          122: 1,\n",
       "          39: 6,\n",
       "          63: 1,\n",
       "          49: 2,\n",
       "          66: 2,\n",
       "          47: 3,\n",
       "          102: 1,\n",
       "          156: 1,\n",
       "          65: 1,\n",
       "          130: 1,\n",
       "          54: 1,\n",
       "          84: 1,\n",
       "          85: 1,\n",
       "          78: 1,\n",
       "          46: 1,\n",
       "          67: 1,\n",
       "          96: 1,\n",
       "          60: 1,\n",
       "          117: 1,\n",
       "          251: 1,\n",
       "          41: 1,\n",
       "          74: 1,\n",
       "          73: 1,\n",
       "          71: 1,\n",
       "          116: 1}),\n",
       " Counter({1: 26269,\n",
       "          2: 4423,\n",
       "          5: 881,\n",
       "          3: 1584,\n",
       "          16: 40,\n",
       "          19: 25,\n",
       "          6: 569,\n",
       "          9: 186,\n",
       "          10: 155,\n",
       "          13: 93,\n",
       "          4: 1038,\n",
       "          43: 2,\n",
       "          21: 31,\n",
       "          20: 30,\n",
       "          8: 246,\n",
       "          23: 12,\n",
       "          7: 366,\n",
       "          27: 6,\n",
       "          56: 3,\n",
       "          14: 69,\n",
       "          17: 32,\n",
       "          11: 110,\n",
       "          22: 16,\n",
       "          29: 8,\n",
       "          26: 9,\n",
       "          54: 2,\n",
       "          18: 30,\n",
       "          12: 99,\n",
       "          52: 4,\n",
       "          15: 40,\n",
       "          31: 4,\n",
       "          46: 1,\n",
       "          36: 4,\n",
       "          30: 2,\n",
       "          61: 1,\n",
       "          71: 1,\n",
       "          25: 10,\n",
       "          33: 2,\n",
       "          39: 4,\n",
       "          44: 3,\n",
       "          60: 1,\n",
       "          65: 1,\n",
       "          24: 8,\n",
       "          37: 2,\n",
       "          53: 2,\n",
       "          55: 1,\n",
       "          78: 1,\n",
       "          49: 1,\n",
       "          59: 1,\n",
       "          41: 2,\n",
       "          62: 1,\n",
       "          28: 2,\n",
       "          34: 2,\n",
       "          35: 1,\n",
       "          45: 2,\n",
       "          47: 1,\n",
       "          75: 1,\n",
       "          50: 1}),\n",
       " Counter({0: 42305}))"
      ]
     },
     "execution_count": 8,
     "metadata": {},
     "output_type": "execute_result"
    }
   ],
   "source": [
    "Counter(fever_cnt[constants.LOOKUP[\"label\"][\"s\"]]), Counter(fever_cnt[constants.LOOKUP[\"label\"][\"r\"]]), Counter(fever_cnt[constants.LOOKUP[\"label\"][\"nei\"]])"
   ]
  },
  {
   "cell_type": "code",
   "execution_count": 43,
   "id": "8501dc1d-6356-481a-a8f0-f295412619b1",
   "metadata": {},
   "outputs": [
    {
     "data": {
      "text/plain": [
       "{'SUPPORTS': (1, ModeResult(mode=1, count=62251), 2.003979192858214, 251),\n",
       " 'REFUTES': (1, ModeResult(mode=1, count=26269), 1.9882549875140638, 78),\n",
       " 'NOT ENOUGH INFO': (0, ModeResult(mode=0, count=42305), 0.0, 0)}"
      ]
     },
     "execution_count": 43,
     "metadata": {},
     "output_type": "execute_result"
    }
   ],
   "source": [
    "fever_stats"
   ]
  },
  {
   "cell_type": "markdown",
   "id": "9c8914b2-aedf-48b9-8900-6209a952f603",
   "metadata": {},
   "source": [
    "## Climate-FEVER"
   ]
  },
  {
   "cell_type": "code",
   "execution_count": 10,
   "id": "9b2666e9-a7e0-4a12-ab75-a257475a5b5c",
   "metadata": {},
   "outputs": [
    {
     "data": {
      "text/plain": [
       "(Counter({5: 654}), Counter({5: 253}), Counter({5: 474}))"
      ]
     },
     "execution_count": 10,
     "metadata": {},
     "output_type": "execute_result"
    }
   ],
   "source": [
    "# climate-fever\n",
    "Counter(cfever_cnt[constants.LOOKUP[\"label\"][\"s\"]]), Counter(cfever_cnt[constants.LOOKUP[\"label\"][\"r\"]]), Counter(cfever_cnt[constants.LOOKUP[\"label\"][\"nei\"]])"
   ]
  },
  {
   "cell_type": "code",
   "execution_count": 45,
   "id": "d63f25ce-4d96-4dbb-bc6f-d982bd4e603d",
   "metadata": {},
   "outputs": [
    {
     "data": {
      "text/plain": [
       "{'SUPPORTS': (5, ModeResult(mode=5, count=654), 5.0, 5),\n",
       " 'REFUTES': (5, ModeResult(mode=5, count=253), 5.0, 5),\n",
       " 'NOT ENOUGH INFO': (5, ModeResult(mode=5, count=474), 5.0, 5)}"
      ]
     },
     "execution_count": 45,
     "metadata": {},
     "output_type": "execute_result"
    }
   ],
   "source": [
    "cfever_stats"
   ]
  },
  {
   "cell_type": "markdown",
   "id": "1df8c9d8-142e-4c33-b5f2-800a7c4df013",
   "metadata": {},
   "source": [
    "## SciFact"
   ]
  },
  {
   "cell_type": "code",
   "execution_count": 9,
   "id": "e3ba27a1-6c0e-4b92-8dfa-a0b56d114cdd",
   "metadata": {},
   "outputs": [
    {
     "data": {
      "text/plain": [
       "(Counter({1: 218, 2: 128, 4: 31, 5: 4, 3: 64, 9: 2, 11: 1, 8: 4, 6: 3, 7: 1}),\n",
       " Counter({1: 103, 3: 35, 5: 7, 2: 68, 4: 19, 7: 2, 8: 1, 6: 1, 12: 1}),\n",
       " Counter({0: 416}))"
      ]
     },
     "execution_count": 9,
     "metadata": {},
     "output_type": "execute_result"
    }
   ],
   "source": [
    "# scifact\n",
    "Counter(scifact_cnt[constants.LOOKUP[\"label\"][\"s\"]]), Counter(scifact_cnt[constants.LOOKUP[\"label\"][\"r\"]]), Counter(scifact_cnt[constants.LOOKUP[\"label\"][\"nei\"]])"
   ]
  },
  {
   "cell_type": "code",
   "execution_count": 44,
   "id": "e88c2597-a1f9-4e3b-8072-421b83c7e4a2",
   "metadata": {},
   "outputs": [
    {
     "data": {
      "text/plain": [
       "{'NOT ENOUGH INFO': (0, ModeResult(mode=0, count=416), 0.0, 0),\n",
       " 'REFUTES': (1, ModeResult(mode=1, count=103), 2.088607594936709, 12),\n",
       " 'SUPPORTS': (1, ModeResult(mode=1, count=218), 1.9649122807017543, 11)}"
      ]
     },
     "execution_count": 44,
     "metadata": {},
     "output_type": "execute_result"
    }
   ],
   "source": [
    "scifact_stats"
   ]
  },
  {
   "cell_type": "markdown",
   "id": "f31c2f53-22b9-4d81-8620-a523233cf402",
   "metadata": {},
   "source": [
    "# Claim words to evidence prefix correlation"
   ]
  },
  {
   "cell_type": "code",
   "execution_count": null,
   "id": "5e3c34d6-078c-4da4-9d04-a61d61bbf3be",
   "metadata": {},
   "outputs": [],
   "source": []
  }
 ],
 "metadata": {
  "kernelspec": {
   "display_name": "Python 3 (ipykernel)",
   "language": "python",
   "name": "python3"
  },
  "language_info": {
   "codemirror_mode": {
    "name": "ipython",
    "version": 3
   },
   "file_extension": ".py",
   "mimetype": "text/x-python",
   "name": "python",
   "nbconvert_exporter": "python",
   "pygments_lexer": "ipython3",
   "version": "3.8.16"
  }
 },
 "nbformat": 4,
 "nbformat_minor": 5
}
