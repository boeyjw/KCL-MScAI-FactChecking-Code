{
 "cells": [
  {
   "cell_type": "code",
   "execution_count": 1,
   "id": "c8903c76-2769-4ab1-813c-a65111f4fe6f",
   "metadata": {},
   "outputs": [],
   "source": [
    "%load_ext autoreload\n",
    "%autoreload 2"
   ]
  },
  {
   "cell_type": "markdown",
   "id": "d9535ed6-3be7-4dfc-bb27-2892c379cb82",
   "metadata": {},
   "source": [
    "# Init"
   ]
  },
  {
   "cell_type": "code",
   "execution_count": 2,
   "id": "894f5ed6-b019-41b6-b583-1339e8834a3a",
   "metadata": {},
   "outputs": [
    {
     "name": "stderr",
     "output_type": "stream",
     "text": [
      "/scratch/users/k21190024/envs/conda/p-dis-torch/lib/python3.8/site-packages/torch/cuda/__init__.py:88: UserWarning: CUDA initialization: CUDA driver initialization failed, you might not have a CUDA gpu. (Triggered internally at /opt/conda/conda-bld/pytorch_1670525541702/work/c10/cuda/CUDAFunctions.cpp:109.)\n",
      "  return torch._C._cuda_getDeviceCount() > 0\n"
     ]
    }
   ],
   "source": [
    "import sys\n",
    "sys.path.insert(0, \"../src\")\n",
    "\n",
    "import json\n",
    "import pickle as pkl\n",
    "import random\n",
    "import numpy as np\n",
    "import pandas as pd\n",
    "import scipy\n",
    "import spacy\n",
    "from pathlib import Path\n",
    "from collections import Counter, defaultdict\n",
    "from joblib import Parallel, delayed\n",
    "\n",
    "import constants\n",
    "import feverise.analysis as fa\n",
    "from gen.util import read_data, write_jsonl"
   ]
  },
  {
   "cell_type": "code",
   "execution_count": 3,
   "id": "d92b40cc-20de-4600-b58f-34b955e128fc",
   "metadata": {},
   "outputs": [],
   "source": [
    "feverp = Path(\"/users/k21190024/study/fact-check-transfer-learning/scratch/data/fever\")\n",
    "climatefp = Path(\"/users/k21190024/study/fact-check-transfer-learning/scratch/data/climatefever\")\n",
    "scifactp = Path(\"/users/k21190024/study/fact-check-transfer-learning/scratch/data/scifact\")\n",
    "\n",
    "climatefdp = Path(\"/users/k21190024/study/fact-check-transfer-learning/scratch/dumps/feverised-climatefever\")\n",
    "scifactdp = Path(\"/users/k21190024/study/fact-check-transfer-learning/scratch/dumps/feverised-scifact\")\n",
    "\n",
    "stat_p = Path(\"/users/k21190024/study/fact-check-transfer-learning/scratch/thesis/stats\")"
   ]
  },
  {
   "cell_type": "code",
   "execution_count": 4,
   "id": "a0a4c950-8e06-440a-9675-84fc9bbee6d6",
   "metadata": {},
   "outputs": [],
   "source": [
    "fever_claims = read_data(feverp / \"train.jsonl\") + read_data(feverp / \"shared_task_dev.jsonl\")\n",
    "scifact_claims = read_data(scifactdp / \"scifact_all.jsonl\")\n",
    "cfever_claims = read_data(climatefdp / \"climatefever_paper_all.jsonl\")"
   ]
  },
  {
   "cell_type": "markdown",
   "id": "374d306f-dfdc-4352-ba88-84008df04865",
   "metadata": {
    "tags": []
   },
   "source": [
    "# Label proportions"
   ]
  },
  {
   "cell_type": "code",
   "execution_count": 69,
   "id": "82e30d4a-2276-43d8-bedc-3b63ce4e0663",
   "metadata": {},
   "outputs": [],
   "source": [
    "fever_labels = Counter([doc[\"label\"] for doc in fever_claims])\n",
    "cfever_labels = Counter([doc[\"label\"] for doc in cfever_claims])\n",
    "scifact_labels = Counter([doc[\"label\"] for doc in scifact_claims])"
   ]
  },
  {
   "cell_type": "code",
   "execution_count": 70,
   "id": "3584c511-6e22-458c-bf18-91b42c5a1b58",
   "metadata": {},
   "outputs": [],
   "source": [
    "def label_ratio(cnt):\n",
    "    total = sum(cnt.values())\n",
    "    return {k: round(v / total, 2) for k, v in cnt.items()}"
   ]
  },
  {
   "cell_type": "code",
   "execution_count": 71,
   "id": "ed72afbb-a55f-44fd-abfd-a22e188d6f5f",
   "metadata": {},
   "outputs": [
    {
     "data": {
      "text/plain": [
       "({'SUPPORTS': 0.52, 'REFUTES': 0.22, 'NOT ENOUGH INFO': 0.26},\n",
       " {'SUPPORTS': 0.47, 'REFUTES': 0.18, 'NOT ENOUGH INFO': 0.34},\n",
       " {'NOT ENOUGH INFO': 0.38, 'REFUTES': 0.21, 'SUPPORTS': 0.41})"
      ]
     },
     "execution_count": 71,
     "metadata": {},
     "output_type": "execute_result"
    }
   ],
   "source": [
    "label_ratio(fever_labels), label_ratio(cfever_labels), label_ratio(scifact_labels)"
   ]
  },
  {
   "cell_type": "markdown",
   "id": "1ade4609-3e24-4cfa-a1e7-9060b00d7963",
   "metadata": {},
   "source": [
    "# Count Claim-Evidence"
   ]
  },
  {
   "cell_type": "code",
   "execution_count": 72,
   "id": "d0de4bcd-bd65-41d0-8f50-3222359f68e7",
   "metadata": {},
   "outputs": [],
   "source": [
    "fever_cnt, fever_stats = fa.count_evidences(fever_claims)\n",
    "scifact_cnt, scifact_stats = fa.count_evidences(scifact_claims)\n",
    "cfever_cnt, cfever_stats = fa.count_evidences(cfever_claims)"
   ]
  },
  {
   "cell_type": "markdown",
   "id": "c911e0f1-7352-4fd7-9805-4d34a1fa34d6",
   "metadata": {},
   "source": [
    "## FEVER"
   ]
  },
  {
   "cell_type": "code",
   "execution_count": 73,
   "id": "7a166449-6eba-4e2e-8d54-fa334333e778",
   "metadata": {
    "collapsed": true,
    "jupyter": {
     "outputs_hidden": true
    },
    "tags": []
   },
   "outputs": [
    {
     "data": {
      "text/plain": [
       "(Counter({1: 62251,\n",
       "          2: 10520,\n",
       "          4: 2473,\n",
       "          16: 79,\n",
       "          5: 2694,\n",
       "          8: 589,\n",
       "          13: 160,\n",
       "          3: 3433,\n",
       "          6: 1595,\n",
       "          18: 70,\n",
       "          7: 842,\n",
       "          20: 51,\n",
       "          9: 413,\n",
       "          14: 128,\n",
       "          27: 20,\n",
       "          10: 334,\n",
       "          138: 1,\n",
       "          17: 70,\n",
       "          21: 44,\n",
       "          62: 2,\n",
       "          15: 75,\n",
       "          24: 33,\n",
       "          11: 257,\n",
       "          12: 215,\n",
       "          44: 8,\n",
       "          32: 11,\n",
       "          34: 9,\n",
       "          42: 7,\n",
       "          50: 3,\n",
       "          26: 30,\n",
       "          43: 3,\n",
       "          37: 6,\n",
       "          25: 27,\n",
       "          19: 55,\n",
       "          22: 31,\n",
       "          52: 4,\n",
       "          29: 17,\n",
       "          38: 7,\n",
       "          28: 9,\n",
       "          23: 20,\n",
       "          36: 8,\n",
       "          33: 11,\n",
       "          31: 11,\n",
       "          40: 4,\n",
       "          59: 1,\n",
       "          58: 1,\n",
       "          51: 2,\n",
       "          35: 6,\n",
       "          45: 4,\n",
       "          30: 16,\n",
       "          140: 1,\n",
       "          53: 3,\n",
       "          48: 3,\n",
       "          122: 1,\n",
       "          39: 6,\n",
       "          63: 1,\n",
       "          49: 2,\n",
       "          66: 2,\n",
       "          47: 3,\n",
       "          102: 1,\n",
       "          156: 1,\n",
       "          65: 1,\n",
       "          130: 1,\n",
       "          54: 1,\n",
       "          84: 1,\n",
       "          85: 1,\n",
       "          78: 1,\n",
       "          46: 1,\n",
       "          67: 1,\n",
       "          96: 1,\n",
       "          60: 1,\n",
       "          117: 1,\n",
       "          251: 1,\n",
       "          41: 1,\n",
       "          74: 1,\n",
       "          73: 1,\n",
       "          71: 1,\n",
       "          116: 1}),\n",
       " Counter({1: 26269,\n",
       "          2: 4423,\n",
       "          5: 881,\n",
       "          3: 1584,\n",
       "          16: 40,\n",
       "          19: 25,\n",
       "          6: 569,\n",
       "          9: 186,\n",
       "          10: 155,\n",
       "          13: 93,\n",
       "          4: 1038,\n",
       "          43: 2,\n",
       "          21: 31,\n",
       "          20: 30,\n",
       "          8: 246,\n",
       "          23: 12,\n",
       "          7: 366,\n",
       "          27: 6,\n",
       "          56: 3,\n",
       "          14: 69,\n",
       "          17: 32,\n",
       "          11: 110,\n",
       "          22: 16,\n",
       "          29: 8,\n",
       "          26: 9,\n",
       "          54: 2,\n",
       "          18: 30,\n",
       "          12: 99,\n",
       "          52: 4,\n",
       "          15: 40,\n",
       "          31: 4,\n",
       "          46: 1,\n",
       "          36: 4,\n",
       "          30: 2,\n",
       "          61: 1,\n",
       "          71: 1,\n",
       "          25: 10,\n",
       "          33: 2,\n",
       "          39: 4,\n",
       "          44: 3,\n",
       "          60: 1,\n",
       "          65: 1,\n",
       "          24: 8,\n",
       "          37: 2,\n",
       "          53: 2,\n",
       "          55: 1,\n",
       "          78: 1,\n",
       "          49: 1,\n",
       "          59: 1,\n",
       "          41: 2,\n",
       "          62: 1,\n",
       "          28: 2,\n",
       "          34: 2,\n",
       "          35: 1,\n",
       "          45: 2,\n",
       "          47: 1,\n",
       "          75: 1,\n",
       "          50: 1}),\n",
       " Counter({0: 42305}))"
      ]
     },
     "execution_count": 73,
     "metadata": {},
     "output_type": "execute_result"
    }
   ],
   "source": [
    "Counter(fever_cnt[constants.LOOKUP[\"label\"][\"s\"]]), Counter(fever_cnt[constants.LOOKUP[\"label\"][\"r\"]]), Counter(fever_cnt[constants.LOOKUP[\"label\"][\"nei\"]])"
   ]
  },
  {
   "cell_type": "code",
   "execution_count": 89,
   "id": "314cf388-24a7-44db-92c8-f6c85585bf31",
   "metadata": {},
   "outputs": [
    {
     "data": {
      "text/plain": [
       "{1: 0.2811550892465609,\n",
       " 2: 0.15980737684949084,\n",
       " 3: 0.11906579396144289,\n",
       " 4: 0.09055399457536828,\n",
       " 5: 0.06152246999399068,\n",
       " 6: 0.04394926182780855,\n",
       " 7: 0.034139448766464735,\n",
       " 8: 0.027358659108996118,\n",
       " 9: 0.022494356109207258,\n",
       " 10: 0.018523330788845396}"
      ]
     },
     "execution_count": 89,
     "metadata": {},
     "output_type": "execute_result"
    }
   ],
   "source": [
    "total = Counter(fever_cnt[constants.LOOKUP[\"label\"][\"s\"]]) + Counter(fever_cnt[constants.LOOKUP[\"label\"][\"r\"]])\n",
    "fa.max_sentence_effect(total, 10)"
   ]
  },
  {
   "cell_type": "code",
   "execution_count": 43,
   "id": "8501dc1d-6356-481a-a8f0-f295412619b1",
   "metadata": {},
   "outputs": [
    {
     "data": {
      "text/plain": [
       "{'SUPPORTS': (1, ModeResult(mode=1, count=62251), 2.003979192858214, 251),\n",
       " 'REFUTES': (1, ModeResult(mode=1, count=26269), 1.9882549875140638, 78),\n",
       " 'NOT ENOUGH INFO': (0, ModeResult(mode=0, count=42305), 0.0, 0)}"
      ]
     },
     "execution_count": 43,
     "metadata": {},
     "output_type": "execute_result"
    }
   ],
   "source": [
    "fever_stats"
   ]
  },
  {
   "cell_type": "markdown",
   "id": "9c8914b2-aedf-48b9-8900-6209a952f603",
   "metadata": {},
   "source": [
    "## Climate-FEVER"
   ]
  },
  {
   "cell_type": "code",
   "execution_count": 10,
   "id": "9b2666e9-a7e0-4a12-ab75-a257475a5b5c",
   "metadata": {},
   "outputs": [
    {
     "data": {
      "text/plain": [
       "(Counter({5: 654}), Counter({5: 253}), Counter({5: 474}))"
      ]
     },
     "execution_count": 10,
     "metadata": {},
     "output_type": "execute_result"
    }
   ],
   "source": [
    "# climate-fever\n",
    "Counter(cfever_cnt[constants.LOOKUP[\"label\"][\"s\"]]), Counter(cfever_cnt[constants.LOOKUP[\"label\"][\"r\"]]), Counter(cfever_cnt[constants.LOOKUP[\"label\"][\"nei\"]])"
   ]
  },
  {
   "cell_type": "code",
   "execution_count": 45,
   "id": "d63f25ce-4d96-4dbb-bc6f-d982bd4e603d",
   "metadata": {},
   "outputs": [
    {
     "data": {
      "text/plain": [
       "{'SUPPORTS': (5, ModeResult(mode=5, count=654), 5.0, 5),\n",
       " 'REFUTES': (5, ModeResult(mode=5, count=253), 5.0, 5),\n",
       " 'NOT ENOUGH INFO': (5, ModeResult(mode=5, count=474), 5.0, 5)}"
      ]
     },
     "execution_count": 45,
     "metadata": {},
     "output_type": "execute_result"
    }
   ],
   "source": [
    "cfever_stats"
   ]
  },
  {
   "cell_type": "markdown",
   "id": "1df8c9d8-142e-4c33-b5f2-800a7c4df013",
   "metadata": {},
   "source": [
    "## SciFact"
   ]
  },
  {
   "cell_type": "code",
   "execution_count": 9,
   "id": "e3ba27a1-6c0e-4b92-8dfa-a0b56d114cdd",
   "metadata": {},
   "outputs": [
    {
     "data": {
      "text/plain": [
       "(Counter({1: 218, 2: 128, 4: 31, 5: 4, 3: 64, 9: 2, 11: 1, 8: 4, 6: 3, 7: 1}),\n",
       " Counter({1: 103, 3: 35, 5: 7, 2: 68, 4: 19, 7: 2, 8: 1, 6: 1, 12: 1}),\n",
       " Counter({0: 416}))"
      ]
     },
     "execution_count": 9,
     "metadata": {},
     "output_type": "execute_result"
    }
   ],
   "source": [
    "# scifact\n",
    "Counter(scifact_cnt[constants.LOOKUP[\"label\"][\"s\"]]), Counter(scifact_cnt[constants.LOOKUP[\"label\"][\"r\"]]), Counter(scifact_cnt[constants.LOOKUP[\"label\"][\"nei\"]])"
   ]
  },
  {
   "cell_type": "code",
   "execution_count": 90,
   "id": "74d07ca4-a3fa-49bb-aff8-9664832fb771",
   "metadata": {},
   "outputs": [
    {
     "data": {
      "text/plain": [
       "{1: 0.5367965367965368,\n",
       " 2: 0.25396825396825395,\n",
       " 3: 0.1111111111111111,\n",
       " 4: 0.03896103896103896,\n",
       " 5: 0.023088023088023088,\n",
       " 6: 0.017316017316017316,\n",
       " 7: 0.012987012987012988,\n",
       " 8: 0.005772005772005772,\n",
       " 9: 0.002886002886002886,\n",
       " 10: 0.002886002886002886}"
      ]
     },
     "execution_count": 90,
     "metadata": {},
     "output_type": "execute_result"
    }
   ],
   "source": [
    "total = Counter(scifact_cnt[constants.LOOKUP[\"label\"][\"s\"]]) + Counter(scifact_cnt[constants.LOOKUP[\"label\"][\"r\"]])\n",
    "fa.max_sentence_effect(total, 10)"
   ]
  },
  {
   "cell_type": "code",
   "execution_count": 44,
   "id": "e88c2597-a1f9-4e3b-8072-421b83c7e4a2",
   "metadata": {},
   "outputs": [
    {
     "data": {
      "text/plain": [
       "{'NOT ENOUGH INFO': (0, ModeResult(mode=0, count=416), 0.0, 0),\n",
       " 'REFUTES': (1, ModeResult(mode=1, count=103), 2.088607594936709, 12),\n",
       " 'SUPPORTS': (1, ModeResult(mode=1, count=218), 1.9649122807017543, 11)}"
      ]
     },
     "execution_count": 44,
     "metadata": {},
     "output_type": "execute_result"
    }
   ],
   "source": [
    "scifact_stats"
   ]
  },
  {
   "cell_type": "markdown",
   "id": "f31c2f53-22b9-4d81-8620-a523233cf402",
   "metadata": {},
   "source": [
    "# Check claim-evidence tokenizer length"
   ]
  },
  {
   "cell_type": "code",
   "execution_count": 4,
   "id": "01345772-175d-48f8-86f8-b87ece508add",
   "metadata": {},
   "outputs": [],
   "source": [
    "def multi_tok_lem(data):\n",
    "    nlp = spacy.load(\"en_core_web_sm\", exclude=[\"parser\", \"ner\"])\n",
    "    \n",
    "    claims = [doc[\"claim\"] for doc in data]\n",
    "    evidence = [doc[\"evidence\"] for doc in data]\n",
    "    labels = [constants.ID2LABEL[doc[\"labels\"]] for doc in data]\n",
    "    \n",
    "    cl_tok_len, ev_tok_len = [], []\n",
    "    cl_lem_len, ev_lem_len = [], []\n",
    "    \n",
    "    for doc in nlp.pipe(claims, n_process=20, batch_size=1000):\n",
    "        cl_tok_len.append(len(doc))\n",
    "        cl_lem_len.append(len([t.lemma_ for t in doc]))\n",
    "    for doc in nlp.pipe(evidence, n_process=20, batch_size=1000):\n",
    "        ev_tok_len.append(len(doc))\n",
    "        ev_lem_len.append(len([t.lemma_ for t in doc]))\n",
    "    \n",
    "    return {\n",
    "        \"claims_token\": cl_tok_len,\n",
    "        \"claims_lemma\": cl_lem_len,\n",
    "        \"evidence_token\": ev_tok_len,\n",
    "        \"evidence_lemma\": ev_lem_len,\n",
    "        \"label\": labels\n",
    "    }"
   ]
  },
  {
   "cell_type": "markdown",
   "id": "abf45aff-7c29-4674-a537-3482c3d9006a",
   "metadata": {},
   "source": [
    "## Document level evidence"
   ]
  },
  {
   "cell_type": "code",
   "execution_count": 22,
   "id": "5e3c34d6-078c-4da4-9d04-a61d61bbf3be",
   "metadata": {},
   "outputs": [],
   "source": [
    "bert_data_p = Path(\"/users/k21190024/study/fact-check-transfer-learning/scratch/dumps/bert-data-doc-evidence\")\n",
    "# fever_all = read_data(bert_data_p / \"fever.all.jsonl\")\n",
    "# cfeverpure_all = read_data(bert_data_p / \"climatefeverpure.all.jsonl\")\n",
    "cfever_all = read_data(bert_data_p / \"climatefever.all.jsonl\")\n",
    "\n",
    "fever_all = read_data(bert_data_p / \"fever.train.n5.jsonl\")\n",
    "cfeverpure_all = read_data(bert_data_p / \"climatefeverpure.train.n5.jsonl\")\n",
    "\n",
    "scifact_all = read_data(bert_data_p / \"scifact.all.test.n5.jsonl\")"
   ]
  },
  {
   "cell_type": "code",
   "execution_count": 23,
   "id": "e141de8b-f6d0-4d98-8e6f-0697d51d0eb2",
   "metadata": {},
   "outputs": [],
   "source": [
    "doc_fever_all_toklem = multi_tok_lem(fever_all)\n",
    "doc_cfeverpure_all_toklem = multi_tok_lem(cfeverpure_all)\n",
    "doc_cfever_all_toklem = multi_tok_lem(cfever_all)\n",
    "doc_scifact_all_toklem = multi_tok_lem(scifact_all)"
   ]
  },
  {
   "cell_type": "code",
   "execution_count": 29,
   "id": "2e896a97-6e2b-441d-8865-c9bab7920daf",
   "metadata": {},
   "outputs": [],
   "source": [
    "doc_fever_all_toklem = pd.DataFrame(doc_fever_all_toklem)\n",
    "doc_fever_all_toklem[\"data\"] = \"fever\"\n",
    "doc_cfeverpure_all_toklem = pd.DataFrame(doc_cfeverpure_all_toklem)\n",
    "doc_cfeverpure_all_toklem[\"data\"] = \"climatefeverpure\"\n",
    "doc_cfever_all_toklem = pd.DataFrame(doc_cfever_all_toklem)\n",
    "doc_cfever_all_toklem[\"data\"] = \"climatefever\"\n",
    "doc_scifact_all_toklem = pd.DataFrame(doc_scifact_all_toklem)\n",
    "doc_scifact_all_toklem[\"data\"] = \"scifact\"\n",
    "\n",
    "doc_stats = pd.concat([doc_fever_all_toklem, doc_cfeverpure_all_toklem, doc_cfever_all_toklem, doc_scifact_all_toklem])\n",
    "# doc_stats.to_parquet(stat_p / \"doc_stats.parquet\")"
   ]
  },
  {
   "cell_type": "code",
   "execution_count": 30,
   "id": "fabe0139-2e86-4416-a42e-5bef2fe0c3d7",
   "metadata": {},
   "outputs": [],
   "source": [
    "# doc_stats = pd.read_parquet(stat_p / \"doc_stats.parquet\")\n",
    "doc_stats[\"concat_tokens\"] = doc_stats[\"claims_token\"] + doc_stats[\"evidence_token\"]\n",
    "doc_stats = doc_stats.assign(\n",
    "    ge_512=doc_stats[\"concat_tokens\"] >= 512,\n",
    "    ge_1024=doc_stats[\"concat_tokens\"] >= 1024\n",
    ")"
   ]
  },
  {
   "cell_type": "code",
   "execution_count": 31,
   "id": "f48ee3df-bfc6-42c9-9a45-ede9decd0ba4",
   "metadata": {},
   "outputs": [
    {
     "data": {
      "text/html": [
       "<div>\n",
       "<style scoped>\n",
       "    .dataframe tbody tr th:only-of-type {\n",
       "        vertical-align: middle;\n",
       "    }\n",
       "\n",
       "    .dataframe tbody tr th {\n",
       "        vertical-align: top;\n",
       "    }\n",
       "\n",
       "    .dataframe thead tr th {\n",
       "        text-align: left;\n",
       "    }\n",
       "\n",
       "    .dataframe thead tr:last-of-type th {\n",
       "        text-align: right;\n",
       "    }\n",
       "</style>\n",
       "<table border=\"1\" class=\"dataframe\">\n",
       "  <thead>\n",
       "    <tr>\n",
       "      <th></th>\n",
       "      <th colspan=\"3\" halign=\"left\">mean</th>\n",
       "      <th colspan=\"3\" halign=\"left\">max</th>\n",
       "    </tr>\n",
       "    <tr>\n",
       "      <th></th>\n",
       "      <th colspan=\"3\" halign=\"left\">evidence_token</th>\n",
       "      <th colspan=\"3\" halign=\"left\">evidence_token</th>\n",
       "    </tr>\n",
       "    <tr>\n",
       "      <th>label</th>\n",
       "      <th>NOT ENOUGH INFO</th>\n",
       "      <th>REFUTES</th>\n",
       "      <th>SUPPORTS</th>\n",
       "      <th>NOT ENOUGH INFO</th>\n",
       "      <th>REFUTES</th>\n",
       "      <th>SUPPORTS</th>\n",
       "    </tr>\n",
       "    <tr>\n",
       "      <th>data</th>\n",
       "      <th></th>\n",
       "      <th></th>\n",
       "      <th></th>\n",
       "      <th></th>\n",
       "      <th></th>\n",
       "      <th></th>\n",
       "    </tr>\n",
       "  </thead>\n",
       "  <tbody>\n",
       "    <tr>\n",
       "      <th>climatefever</th>\n",
       "      <td>163.632911</td>\n",
       "      <td>157.889328</td>\n",
       "      <td>159.166667</td>\n",
       "      <td>755</td>\n",
       "      <td>336</td>\n",
       "      <td>639</td>\n",
       "    </tr>\n",
       "    <tr>\n",
       "      <th>climatefeverpure</th>\n",
       "      <td>160.759036</td>\n",
       "      <td>72.751412</td>\n",
       "      <td>83.540481</td>\n",
       "      <td>416</td>\n",
       "      <td>216</td>\n",
       "      <td>296</td>\n",
       "    </tr>\n",
       "    <tr>\n",
       "      <th>fever</th>\n",
       "      <td>119.814305</td>\n",
       "      <td>72.853199</td>\n",
       "      <td>77.490810</td>\n",
       "      <td>429</td>\n",
       "      <td>4625</td>\n",
       "      <td>13903</td>\n",
       "    </tr>\n",
       "    <tr>\n",
       "      <th>scifact</th>\n",
       "      <td>144.841346</td>\n",
       "      <td>82.075949</td>\n",
       "      <td>71.188596</td>\n",
       "      <td>343</td>\n",
       "      <td>423</td>\n",
       "      <td>443</td>\n",
       "    </tr>\n",
       "  </tbody>\n",
       "</table>\n",
       "</div>"
      ],
      "text/plain": [
       "                            mean                                     max  \\\n",
       "                  evidence_token                          evidence_token   \n",
       "label            NOT ENOUGH INFO     REFUTES    SUPPORTS NOT ENOUGH INFO   \n",
       "data                                                                       \n",
       "climatefever          163.632911  157.889328  159.166667             755   \n",
       "climatefeverpure      160.759036   72.751412   83.540481             416   \n",
       "fever                 119.814305   72.853199   77.490810             429   \n",
       "scifact               144.841346   82.075949   71.188596             343   \n",
       "\n",
       "                                   \n",
       "                                   \n",
       "label            REFUTES SUPPORTS  \n",
       "data                               \n",
       "climatefever         336      639  \n",
       "climatefeverpure     216      296  \n",
       "fever               4625    13903  \n",
       "scifact              423      443  "
      ]
     },
     "execution_count": 31,
     "metadata": {},
     "output_type": "execute_result"
    }
   ],
   "source": [
    "doc_stats.pivot_table(values=[\"evidence_token\"], index=\"data\", columns=\"label\", aggfunc=[\"mean\", \"max\"])"
   ]
  },
  {
   "cell_type": "code",
   "execution_count": 32,
   "id": "ecaa52bf-7f06-4453-87c9-50ceec2edea2",
   "metadata": {},
   "outputs": [
    {
     "data": {
      "text/html": [
       "<div>\n",
       "<style scoped>\n",
       "    .dataframe tbody tr th:only-of-type {\n",
       "        vertical-align: middle;\n",
       "    }\n",
       "\n",
       "    .dataframe tbody tr th {\n",
       "        vertical-align: top;\n",
       "    }\n",
       "\n",
       "    .dataframe thead th {\n",
       "        text-align: right;\n",
       "    }\n",
       "</style>\n",
       "<table border=\"1\" class=\"dataframe\">\n",
       "  <thead>\n",
       "    <tr style=\"text-align: right;\">\n",
       "      <th></th>\n",
       "      <th>ge_512</th>\n",
       "      <th>ge_1024</th>\n",
       "    </tr>\n",
       "    <tr>\n",
       "      <th>data</th>\n",
       "      <th></th>\n",
       "      <th></th>\n",
       "    </tr>\n",
       "  </thead>\n",
       "  <tbody>\n",
       "    <tr>\n",
       "      <th>climatefever</th>\n",
       "      <td>2</td>\n",
       "      <td>0</td>\n",
       "    </tr>\n",
       "    <tr>\n",
       "      <th>climatefeverpure</th>\n",
       "      <td>0</td>\n",
       "      <td>0</td>\n",
       "    </tr>\n",
       "    <tr>\n",
       "      <th>fever</th>\n",
       "      <td>1522</td>\n",
       "      <td>289</td>\n",
       "    </tr>\n",
       "    <tr>\n",
       "      <th>scifact</th>\n",
       "      <td>0</td>\n",
       "      <td>0</td>\n",
       "    </tr>\n",
       "  </tbody>\n",
       "</table>\n",
       "</div>"
      ],
      "text/plain": [
       "                  ge_512  ge_1024\n",
       "data                             \n",
       "climatefever           2        0\n",
       "climatefeverpure       0        0\n",
       "fever               1522      289\n",
       "scifact                0        0"
      ]
     },
     "execution_count": 32,
     "metadata": {},
     "output_type": "execute_result"
    }
   ],
   "source": [
    "doc_stats.groupby(\"data\").agg({\"ge_512\": \"sum\", \"ge_1024\": \"sum\"})"
   ]
  },
  {
   "cell_type": "code",
   "execution_count": 33,
   "id": "0cbf6bc8-20b5-4ecb-b07c-01b703ba86db",
   "metadata": {},
   "outputs": [
    {
     "data": {
      "text/html": [
       "<div>\n",
       "<style scoped>\n",
       "    .dataframe tbody tr th:only-of-type {\n",
       "        vertical-align: middle;\n",
       "    }\n",
       "\n",
       "    .dataframe tbody tr th {\n",
       "        vertical-align: top;\n",
       "    }\n",
       "\n",
       "    .dataframe thead th {\n",
       "        text-align: right;\n",
       "    }\n",
       "</style>\n",
       "<table border=\"1\" class=\"dataframe\">\n",
       "  <thead>\n",
       "    <tr style=\"text-align: right;\">\n",
       "      <th></th>\n",
       "      <th>ge_512</th>\n",
       "      <th>ge_1024</th>\n",
       "    </tr>\n",
       "    <tr>\n",
       "      <th>data</th>\n",
       "      <th></th>\n",
       "      <th></th>\n",
       "    </tr>\n",
       "  </thead>\n",
       "  <tbody>\n",
       "    <tr>\n",
       "      <th>climatefever</th>\n",
       "      <td>1381</td>\n",
       "      <td>1381</td>\n",
       "    </tr>\n",
       "    <tr>\n",
       "      <th>climatefeverpure</th>\n",
       "      <td>966</td>\n",
       "      <td>966</td>\n",
       "    </tr>\n",
       "    <tr>\n",
       "      <th>fever</th>\n",
       "      <td>145449</td>\n",
       "      <td>145449</td>\n",
       "    </tr>\n",
       "    <tr>\n",
       "      <th>scifact</th>\n",
       "      <td>1109</td>\n",
       "      <td>1109</td>\n",
       "    </tr>\n",
       "  </tbody>\n",
       "</table>\n",
       "</div>"
      ],
      "text/plain": [
       "                  ge_512  ge_1024\n",
       "data                             \n",
       "climatefever        1381     1381\n",
       "climatefeverpure     966      966\n",
       "fever             145449   145449\n",
       "scifact             1109     1109"
      ]
     },
     "execution_count": 33,
     "metadata": {},
     "output_type": "execute_result"
    }
   ],
   "source": [
    "doc_stats.groupby(\"data\").agg({\"ge_512\": \"count\", \"ge_1024\": \"count\"})"
   ]
  },
  {
   "cell_type": "markdown",
   "id": "c5a65c69-5aae-4911-a291-b7370ecbec7d",
   "metadata": {},
   "source": [
    "## Sentence level evidence"
   ]
  },
  {
   "cell_type": "code",
   "execution_count": 35,
   "id": "4bfcc8d4-1e92-406a-9e4c-3c8f422fe093",
   "metadata": {},
   "outputs": [],
   "source": [
    "bert_data_p = Path(\"/users/k21190024/study/fact-check-transfer-learning/scratch/dumps/bert-data-sent-evidence\")\n",
    "# sent_fever_all = read_data(bert_data_p / \"fever.all.nosentlim.jsonl\")\n",
    "sent_fever_all = read_data(bert_data_p / \"fever.train.n5.jsonl\")\n",
    "\n",
    "\n",
    "sent_cfeverpure_all = read_data(bert_data_p / \"climatefeverpure.all.jsonl\")\n",
    "sent_cfever_all = read_data(bert_data_p / \"climatefever.all.jsonl\")\n",
    "sent_scifact_all = read_data(bert_data_p / \"scifact.all.test.jsonl\")"
   ]
  },
  {
   "cell_type": "code",
   "execution_count": 36,
   "id": "6d654537-46d1-47bc-a83b-0bcad1cf56b4",
   "metadata": {},
   "outputs": [],
   "source": [
    "sent_fever_all_toklem = multi_tok_lem(sent_fever_all)\n",
    "sent_cfeverpure_all_toklem = multi_tok_lem(sent_cfeverpure_all)\n",
    "sent_cfever_all_toklem = multi_tok_lem(sent_cfever_all)\n",
    "sent_scifact_all_toklem = multi_tok_lem(sent_scifact_all)"
   ]
  },
  {
   "cell_type": "code",
   "execution_count": 37,
   "id": "80220232-9bba-4168-94ce-466e38e979c3",
   "metadata": {},
   "outputs": [],
   "source": [
    "sent_fever_all_toklem = pd.DataFrame(sent_fever_all_toklem)\n",
    "sent_fever_all_toklem[\"data\"] = \"fever\"\n",
    "sent_cfeverpure_all_toklem = pd.DataFrame(sent_cfeverpure_all_toklem)\n",
    "sent_cfeverpure_all_toklem[\"data\"] = \"climatefeverpure\"\n",
    "sent_scifact_all_toklem = pd.DataFrame(sent_scifact_all_toklem)\n",
    "sent_scifact_all_toklem[\"data\"] = \"scifact\"\n",
    "sent_cfever_all_toklem = pd.DataFrame(sent_cfever_all_toklem)\n",
    "sent_cfever_all_toklem[\"data\"] = \"climatefever\"\n",
    "\n",
    "sent_stats = pd.concat([sent_fever_all_toklem, sent_cfeverpure_all_toklem, sent_cfever_all_toklem, sent_scifact_all_toklem])\n",
    "# sent_stats.to_parquet(stat_p / \"sent_stats.parquet\")"
   ]
  },
  {
   "cell_type": "code",
   "execution_count": 38,
   "id": "c0d9e0d3-31f0-49c8-8680-a8d68c970fda",
   "metadata": {},
   "outputs": [],
   "source": [
    "# sent_stats = pd.read_parquet(stat_p / \"sent_stats.parquet\")\n",
    "sent_stats[\"concat_tokens\"] = sent_stats[\"claims_token\"] + sent_stats[\"evidence_token\"]\n",
    "sent_stats = sent_stats.assign(\n",
    "    ge_512=sent_stats[\"concat_tokens\"] >= 512,\n",
    "    ge_1024=sent_stats[\"concat_tokens\"] >= 1024\n",
    ")"
   ]
  },
  {
   "cell_type": "code",
   "execution_count": 39,
   "id": "e895d9d5-3d16-4b12-b7dc-8683245db990",
   "metadata": {},
   "outputs": [
    {
     "data": {
      "text/html": [
       "<div>\n",
       "<style scoped>\n",
       "    .dataframe tbody tr th:only-of-type {\n",
       "        vertical-align: middle;\n",
       "    }\n",
       "\n",
       "    .dataframe tbody tr th {\n",
       "        vertical-align: top;\n",
       "    }\n",
       "\n",
       "    .dataframe thead tr th {\n",
       "        text-align: left;\n",
       "    }\n",
       "\n",
       "    .dataframe thead tr:last-of-type th {\n",
       "        text-align: right;\n",
       "    }\n",
       "</style>\n",
       "<table border=\"1\" class=\"dataframe\">\n",
       "  <thead>\n",
       "    <tr>\n",
       "      <th></th>\n",
       "      <th colspan=\"3\" halign=\"left\">mean</th>\n",
       "      <th colspan=\"3\" halign=\"left\">max</th>\n",
       "    </tr>\n",
       "    <tr>\n",
       "      <th></th>\n",
       "      <th colspan=\"3\" halign=\"left\">evidence_token</th>\n",
       "      <th colspan=\"3\" halign=\"left\">evidence_token</th>\n",
       "    </tr>\n",
       "    <tr>\n",
       "      <th>label</th>\n",
       "      <th>NOT ENOUGH INFO</th>\n",
       "      <th>REFUTES</th>\n",
       "      <th>SUPPORTS</th>\n",
       "      <th>NOT ENOUGH INFO</th>\n",
       "      <th>REFUTES</th>\n",
       "      <th>SUPPORTS</th>\n",
       "    </tr>\n",
       "    <tr>\n",
       "      <th>data</th>\n",
       "      <th></th>\n",
       "      <th></th>\n",
       "      <th></th>\n",
       "      <th></th>\n",
       "      <th></th>\n",
       "      <th></th>\n",
       "    </tr>\n",
       "  </thead>\n",
       "  <tbody>\n",
       "    <tr>\n",
       "      <th>climatefever</th>\n",
       "      <td>32.037907</td>\n",
       "      <td>31.815517</td>\n",
       "      <td>32.341260</td>\n",
       "      <td>389</td>\n",
       "      <td>101</td>\n",
       "      <td>135</td>\n",
       "    </tr>\n",
       "    <tr>\n",
       "      <th>climatefeverpure</th>\n",
       "      <td>32.726582</td>\n",
       "      <td>31.815517</td>\n",
       "      <td>32.341260</td>\n",
       "      <td>301</td>\n",
       "      <td>101</td>\n",
       "      <td>135</td>\n",
       "    </tr>\n",
       "    <tr>\n",
       "      <th>fever</th>\n",
       "      <td>24.816142</td>\n",
       "      <td>36.161742</td>\n",
       "      <td>38.608686</td>\n",
       "      <td>263</td>\n",
       "      <td>1102</td>\n",
       "      <td>1333</td>\n",
       "    </tr>\n",
       "    <tr>\n",
       "      <th>scifact</th>\n",
       "      <td>34.169471</td>\n",
       "      <td>42.012959</td>\n",
       "      <td>39.016827</td>\n",
       "      <td>228</td>\n",
       "      <td>179</td>\n",
       "      <td>166</td>\n",
       "    </tr>\n",
       "  </tbody>\n",
       "</table>\n",
       "</div>"
      ],
      "text/plain": [
       "                            mean                                   max  \\\n",
       "                  evidence_token                        evidence_token   \n",
       "label            NOT ENOUGH INFO    REFUTES   SUPPORTS NOT ENOUGH INFO   \n",
       "data                                                                     \n",
       "climatefever           32.037907  31.815517  32.341260             389   \n",
       "climatefeverpure       32.726582  31.815517  32.341260             301   \n",
       "fever                  24.816142  36.161742  38.608686             263   \n",
       "scifact                34.169471  42.012959  39.016827             228   \n",
       "\n",
       "                                   \n",
       "                                   \n",
       "label            REFUTES SUPPORTS  \n",
       "data                               \n",
       "climatefever         101      135  \n",
       "climatefeverpure     101      135  \n",
       "fever               1102     1333  \n",
       "scifact              179      166  "
      ]
     },
     "execution_count": 39,
     "metadata": {},
     "output_type": "execute_result"
    }
   ],
   "source": [
    "sent_stats.pivot_table(values=[\"evidence_token\"], index=\"data\", columns=\"label\", aggfunc=[\"mean\", \"max\"])"
   ]
  },
  {
   "cell_type": "code",
   "execution_count": 40,
   "id": "87c63a50-3a66-4f1e-8c4f-92689bcfff42",
   "metadata": {},
   "outputs": [
    {
     "data": {
      "text/html": [
       "<div>\n",
       "<style scoped>\n",
       "    .dataframe tbody tr th:only-of-type {\n",
       "        vertical-align: middle;\n",
       "    }\n",
       "\n",
       "    .dataframe tbody tr th {\n",
       "        vertical-align: top;\n",
       "    }\n",
       "\n",
       "    .dataframe thead th {\n",
       "        text-align: right;\n",
       "    }\n",
       "</style>\n",
       "<table border=\"1\" class=\"dataframe\">\n",
       "  <thead>\n",
       "    <tr style=\"text-align: right;\">\n",
       "      <th></th>\n",
       "      <th>ge_512</th>\n",
       "      <th>ge_1024</th>\n",
       "    </tr>\n",
       "    <tr>\n",
       "      <th>data</th>\n",
       "      <th></th>\n",
       "      <th></th>\n",
       "    </tr>\n",
       "  </thead>\n",
       "  <tbody>\n",
       "    <tr>\n",
       "      <th>climatefever</th>\n",
       "      <td>0</td>\n",
       "      <td>0</td>\n",
       "    </tr>\n",
       "    <tr>\n",
       "      <th>climatefeverpure</th>\n",
       "      <td>0</td>\n",
       "      <td>0</td>\n",
       "    </tr>\n",
       "    <tr>\n",
       "      <th>fever</th>\n",
       "      <td>17</td>\n",
       "      <td>3</td>\n",
       "    </tr>\n",
       "    <tr>\n",
       "      <th>scifact</th>\n",
       "      <td>0</td>\n",
       "      <td>0</td>\n",
       "    </tr>\n",
       "  </tbody>\n",
       "</table>\n",
       "</div>"
      ],
      "text/plain": [
       "                  ge_512  ge_1024\n",
       "data                             \n",
       "climatefever           0        0\n",
       "climatefeverpure       0        0\n",
       "fever                 17        3\n",
       "scifact                0        0"
      ]
     },
     "execution_count": 40,
     "metadata": {},
     "output_type": "execute_result"
    }
   ],
   "source": [
    "sent_stats.groupby(\"data\").agg({\"ge_512\": \"sum\", \"ge_1024\": \"sum\"})"
   ]
  },
  {
   "cell_type": "code",
   "execution_count": 41,
   "id": "a133042e-6a0b-4a11-a4a5-433c21761fef",
   "metadata": {},
   "outputs": [
    {
     "data": {
      "text/html": [
       "<div>\n",
       "<style scoped>\n",
       "    .dataframe tbody tr th:only-of-type {\n",
       "        vertical-align: middle;\n",
       "    }\n",
       "\n",
       "    .dataframe tbody tr th {\n",
       "        vertical-align: top;\n",
       "    }\n",
       "\n",
       "    .dataframe thead th {\n",
       "        text-align: right;\n",
       "    }\n",
       "</style>\n",
       "<table border=\"1\" class=\"dataframe\">\n",
       "  <thead>\n",
       "    <tr style=\"text-align: right;\">\n",
       "      <th></th>\n",
       "      <th>ge_512</th>\n",
       "      <th>ge_1024</th>\n",
       "    </tr>\n",
       "    <tr>\n",
       "      <th>data</th>\n",
       "      <th></th>\n",
       "      <th></th>\n",
       "    </tr>\n",
       "  </thead>\n",
       "  <tbody>\n",
       "    <tr>\n",
       "      <th>climatefever</th>\n",
       "      <td>6905</td>\n",
       "      <td>6905</td>\n",
       "    </tr>\n",
       "    <tr>\n",
       "      <th>climatefeverpure</th>\n",
       "      <td>4632</td>\n",
       "      <td>4632</td>\n",
       "    </tr>\n",
       "    <tr>\n",
       "      <th>fever</th>\n",
       "      <td>253140</td>\n",
       "      <td>253140</td>\n",
       "    </tr>\n",
       "    <tr>\n",
       "      <th>scifact</th>\n",
       "      <td>2127</td>\n",
       "      <td>2127</td>\n",
       "    </tr>\n",
       "  </tbody>\n",
       "</table>\n",
       "</div>"
      ],
      "text/plain": [
       "                  ge_512  ge_1024\n",
       "data                             \n",
       "climatefever        6905     6905\n",
       "climatefeverpure    4632     4632\n",
       "fever             253140   253140\n",
       "scifact             2127     2127"
      ]
     },
     "execution_count": 41,
     "metadata": {},
     "output_type": "execute_result"
    }
   ],
   "source": [
    "sent_stats.groupby(\"data\").agg({\"ge_512\": \"count\", \"ge_1024\": \"count\"})"
   ]
  },
  {
   "cell_type": "markdown",
   "id": "507e895d-1eb0-4770-ac08-24fe2e9a9007",
   "metadata": {},
   "source": [
    "### Evidence per claim"
   ]
  },
  {
   "cell_type": "code",
   "execution_count": 102,
   "id": "21b9f7e0-4802-4d32-ae26-c0ebdd8cad25",
   "metadata": {},
   "outputs": [],
   "source": [
    "sent_fever_all_ec = pd.DataFrame([{\"data\": \"fever\", \"id\": doc[\"claim_id\"], \"label\": constants.ID2LABEL[doc[\"labels\"]], \"evidence\": 1} for doc in sent_fever_all if doc[\"labels\"] != constants.LABEL2ID[constants.LOOKUP[\"label\"][\"nei\"]]])\n",
    "sent_cfever_all_ec = pd.DataFrame([{\"data\": \"climatefever\", \"id\": doc[\"claim_id\"], \"label\": constants.ID2LABEL[doc[\"labels\"]], \"evidence\": 1} for doc in sent_cfever_all])\n",
    "sent_scifact_all_ec = pd.DataFrame([{\"data\": \"scifact\", \"id\": doc[\"claim_id\"], \"label\": constants.ID2LABEL[doc[\"labels\"]], \"evidence\": 1} for doc in sent_scifact_all if doc[\"labels\"] != constants.LABEL2ID[constants.LOOKUP[\"label\"][\"nei\"]]])\n",
    "\n",
    "sent_all_ec = pd.concat([sent_fever_all_ec, sent_cfever_all_ec, sent_scifact_all_ec])"
   ]
  },
  {
   "cell_type": "code",
   "execution_count": 103,
   "id": "954f425e-dfa2-482c-98dc-166bddfd41b6",
   "metadata": {},
   "outputs": [
    {
     "data": {
      "text/html": [
       "<div>\n",
       "<style scoped>\n",
       "    .dataframe tbody tr th:only-of-type {\n",
       "        vertical-align: middle;\n",
       "    }\n",
       "\n",
       "    .dataframe tbody tr th {\n",
       "        vertical-align: top;\n",
       "    }\n",
       "\n",
       "    .dataframe thead tr th {\n",
       "        text-align: left;\n",
       "    }\n",
       "\n",
       "    .dataframe thead tr:last-of-type th {\n",
       "        text-align: right;\n",
       "    }\n",
       "</style>\n",
       "<table border=\"1\" class=\"dataframe\">\n",
       "  <thead>\n",
       "    <tr>\n",
       "      <th></th>\n",
       "      <th colspan=\"2\" halign=\"left\">evidence</th>\n",
       "    </tr>\n",
       "    <tr>\n",
       "      <th></th>\n",
       "      <th>mean</th>\n",
       "      <th>max</th>\n",
       "    </tr>\n",
       "    <tr>\n",
       "      <th>data</th>\n",
       "      <th></th>\n",
       "      <th></th>\n",
       "    </tr>\n",
       "  </thead>\n",
       "  <tbody>\n",
       "    <tr>\n",
       "      <th>climatefever</th>\n",
       "      <td>5.000000</td>\n",
       "      <td>5</td>\n",
       "    </tr>\n",
       "    <tr>\n",
       "      <th>fever</th>\n",
       "      <td>1.999326</td>\n",
       "      <td>251</td>\n",
       "    </tr>\n",
       "    <tr>\n",
       "      <th>scifact</th>\n",
       "      <td>1.868687</td>\n",
       "      <td>11</td>\n",
       "    </tr>\n",
       "  </tbody>\n",
       "</table>\n",
       "</div>"
      ],
      "text/plain": [
       "              evidence     \n",
       "                  mean  max\n",
       "data                       \n",
       "climatefever  5.000000    5\n",
       "fever         1.999326  251\n",
       "scifact       1.868687   11"
      ]
     },
     "execution_count": 103,
     "metadata": {},
     "output_type": "execute_result"
    }
   ],
   "source": [
    "sent_all_ec.groupby([\"data\", \"id\"], as_index=False)[\"evidence\"].sum().groupby(\"data\").agg({\"evidence\": [\"mean\", \"max\"]})"
   ]
  },
  {
   "cell_type": "code",
   "execution_count": 104,
   "id": "96445012-7fe7-4bb8-9b9b-8d237abc380c",
   "metadata": {},
   "outputs": [
    {
     "data": {
      "text/html": [
       "<div>\n",
       "<style scoped>\n",
       "    .dataframe tbody tr th:only-of-type {\n",
       "        vertical-align: middle;\n",
       "    }\n",
       "\n",
       "    .dataframe tbody tr th {\n",
       "        vertical-align: top;\n",
       "    }\n",
       "\n",
       "    .dataframe thead tr th {\n",
       "        text-align: left;\n",
       "    }\n",
       "\n",
       "    .dataframe thead tr:last-of-type th {\n",
       "        text-align: right;\n",
       "    }\n",
       "</style>\n",
       "<table border=\"1\" class=\"dataframe\">\n",
       "  <thead>\n",
       "    <tr>\n",
       "      <th></th>\n",
       "      <th colspan=\"3\" halign=\"left\">mean</th>\n",
       "      <th colspan=\"3\" halign=\"left\">max</th>\n",
       "    </tr>\n",
       "    <tr>\n",
       "      <th>label</th>\n",
       "      <th>NOT ENOUGH INFO</th>\n",
       "      <th>REFUTES</th>\n",
       "      <th>SUPPORTS</th>\n",
       "      <th>NOT ENOUGH INFO</th>\n",
       "      <th>REFUTES</th>\n",
       "      <th>SUPPORTS</th>\n",
       "    </tr>\n",
       "    <tr>\n",
       "      <th>data</th>\n",
       "      <th></th>\n",
       "      <th></th>\n",
       "      <th></th>\n",
       "      <th></th>\n",
       "      <th></th>\n",
       "      <th></th>\n",
       "    </tr>\n",
       "  </thead>\n",
       "  <tbody>\n",
       "    <tr>\n",
       "      <th>climatefever</th>\n",
       "      <td>3.602017</td>\n",
       "      <td>2.292490</td>\n",
       "      <td>2.571865</td>\n",
       "      <td>5.0</td>\n",
       "      <td>5.0</td>\n",
       "      <td>5.0</td>\n",
       "    </tr>\n",
       "    <tr>\n",
       "      <th>fever</th>\n",
       "      <td>NaN</td>\n",
       "      <td>1.988255</td>\n",
       "      <td>2.003979</td>\n",
       "      <td>NaN</td>\n",
       "      <td>78.0</td>\n",
       "      <td>251.0</td>\n",
       "    </tr>\n",
       "    <tr>\n",
       "      <th>scifact</th>\n",
       "      <td>NaN</td>\n",
       "      <td>1.953586</td>\n",
       "      <td>1.824561</td>\n",
       "      <td>NaN</td>\n",
       "      <td>11.0</td>\n",
       "      <td>11.0</td>\n",
       "    </tr>\n",
       "  </tbody>\n",
       "</table>\n",
       "</div>"
      ],
      "text/plain": [
       "                        mean                                 max          \\\n",
       "label        NOT ENOUGH INFO   REFUTES  SUPPORTS NOT ENOUGH INFO REFUTES   \n",
       "data                                                                       \n",
       "climatefever        3.602017  2.292490  2.571865             5.0     5.0   \n",
       "fever                    NaN  1.988255  2.003979             NaN    78.0   \n",
       "scifact                  NaN  1.953586  1.824561             NaN    11.0   \n",
       "\n",
       "                       \n",
       "label        SUPPORTS  \n",
       "data                   \n",
       "climatefever      5.0  \n",
       "fever           251.0  \n",
       "scifact          11.0  "
      ]
     },
     "execution_count": 104,
     "metadata": {},
     "output_type": "execute_result"
    }
   ],
   "source": [
    "sent_all_ec.groupby([\"data\", \"id\", \"label\"], as_index=False)[\"evidence\"].sum().pivot_table(values=\"evidence\", index=\"data\", columns=\"label\", aggfunc=[\"mean\", \"max\"])"
   ]
  },
  {
   "cell_type": "markdown",
   "id": "db0592f1-14bd-4fbf-9af9-bcbcbf634a3c",
   "metadata": {
    "tags": []
   },
   "source": [
    "### Label proportions"
   ]
  },
  {
   "cell_type": "code",
   "execution_count": 48,
   "id": "bd1d9142-b66d-4f4c-91ef-b6a553a233a9",
   "metadata": {},
   "outputs": [],
   "source": [
    "fever_train = read_data(feverp / \"train.jsonl\")\n",
    "scifact_all = read_data(scifactdp / \"scifact_all.jsonl\")\n",
    "cfeverpure_train = read_data(climatefdp / \"finetune\" / \"baseline\" / \"climatefever_train.jsonl\")\n",
    "cfever_train = read_data(climatefdp.parent / \"feverised-climatefever_sent\" / \"finetune\" / \"baseline\" / \"climatefever_train.jsonl\")\n",
    "\n",
    "fever_strain = read_data(bert_data_p / \"fever.train.n5.jsonl\")\n",
    "cfeverpure_strain = read_data(bert_data_p / \"climatefeverpure.train.n5.jsonl\")\n",
    "cfever_strain = read_data(bert_data_p / \"climatefever.train.n5.jsonl\")\n",
    "scifact_sall = read_data(bert_data_p / \"scifact.all.test.n5.jsonl\")"
   ]
  },
  {
   "cell_type": "code",
   "execution_count": 49,
   "id": "c45fe54e-db29-4df8-8a8c-557aa944df6e",
   "metadata": {},
   "outputs": [],
   "source": [
    "def convert_to_sentence(data, nei_val: int):\n",
    "    res = defaultdict(list)\n",
    "    for doc in data:\n",
    "        for evidence in doc[\"evidence\"]:\n",
    "            ev_len = len(evidence)\n",
    "            if doc[\"label\"] == constants.LOOKUP[\"label\"][\"nei\"]:\n",
    "                res[doc[\"label\"]].append(nei_val)\n",
    "            else:\n",
    "                res[doc[\"label\"]].append(ev_len)\n",
    "    return res"
   ]
  },
  {
   "cell_type": "code",
   "execution_count": 51,
   "id": "0f85cc1c-35d0-4eb5-9b7e-300a90d367e3",
   "metadata": {},
   "outputs": [
    {
     "data": {
      "text/plain": [
       "({'SUPPORTS': 193756, 'REFUTES': 70066, 'NOT ENOUGH INFO': 178195},\n",
       " Counter({'SUPPORTS': 132827, 'REFUTES': 49035, 'NOT ENOUGH INFO': 71278}))"
      ]
     },
     "execution_count": 51,
     "metadata": {},
     "output_type": "execute_result"
    }
   ],
   "source": [
    "(\n",
    "    {k: sum(v) for k, v in convert_to_sentence(fever_train, 5).items()}, \n",
    "    Counter([constants.ID2LABEL[doc[\"labels\"]] for doc in fever_strain])\n",
    ")"
   ]
  },
  {
   "cell_type": "code",
   "execution_count": 61,
   "id": "37e216c6-5240-4fc5-9570-3ff46ca8f2d0",
   "metadata": {},
   "outputs": [
    {
     "data": {
      "text/plain": [
       "Counter({'SUPPORTS': 457, 'REFUTES': 177, 'NOT ENOUGH INFO': 332})"
      ]
     },
     "execution_count": 61,
     "metadata": {},
     "output_type": "execute_result"
    }
   ],
   "source": [
    "Counter([doc[\"label\"] for doc in cfever_train])"
   ]
  },
  {
   "cell_type": "code",
   "execution_count": 55,
   "id": "a3f209b8-a331-43f2-91c7-0d8cd732428f",
   "metadata": {},
   "outputs": [
    {
     "data": {
      "text/plain": [
       "Counter({'NOT ENOUGH INFO': 3244, 'SUPPORTS': 1186, 'REFUTES': 400})"
      ]
     },
     "execution_count": 55,
     "metadata": {},
     "output_type": "execute_result"
    }
   ],
   "source": [
    "Counter([constants.ID2LABEL[doc[\"labels\"]] for doc in cfever_strain])"
   ]
  },
  {
   "cell_type": "code",
   "execution_count": 59,
   "id": "e3a9cc13-f84d-4903-830a-ea9d3db9aebd",
   "metadata": {},
   "outputs": [
    {
     "data": {
      "text/plain": [
       "Counter({'SUPPORTS': 1186, 'REFUTES': 400, 'NOT ENOUGH INFO': 1660})"
      ]
     },
     "execution_count": 59,
     "metadata": {},
     "output_type": "execute_result"
    }
   ],
   "source": [
    "Counter([constants.ID2LABEL[doc[\"labels\"]] for doc in cfeverpure_strain])"
   ]
  },
  {
   "cell_type": "code",
   "execution_count": 56,
   "id": "e984f1e9-2a56-4705-b50b-cc5b4193bb1f",
   "metadata": {},
   "outputs": [
    {
     "data": {
      "text/plain": [
       "({'NOT ENOUGH INFO': 2080, 'REFUTES': 495, 'SUPPORTS': 896},\n",
       " Counter({'NOT ENOUGH INFO': 832, 'REFUTES': 495, 'SUPPORTS': 896}))"
      ]
     },
     "execution_count": 56,
     "metadata": {},
     "output_type": "execute_result"
    }
   ],
   "source": [
    "(\n",
    "    {k: sum(v) for k, v in convert_to_sentence(scifact_all, 5).items()}, \n",
    "    Counter([constants.ID2LABEL[doc[\"labels\"]] for doc in scifact_sall])\n",
    ")"
   ]
  }
 ],
 "metadata": {
  "kernelspec": {
   "display_name": "Python 3 (ipykernel)",
   "language": "python",
   "name": "python3"
  },
  "language_info": {
   "codemirror_mode": {
    "name": "ipython",
    "version": 3
   },
   "file_extension": ".py",
   "mimetype": "text/x-python",
   "name": "python",
   "nbconvert_exporter": "python",
   "pygments_lexer": "ipython3",
   "version": "3.8.16"
  }
 },
 "nbformat": 4,
 "nbformat_minor": 5
}
