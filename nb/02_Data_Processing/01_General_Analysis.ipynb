{
 "cells": [
  {
   "cell_type": "code",
   "execution_count": 1,
   "id": "c8903c76-2769-4ab1-813c-a65111f4fe6f",
   "metadata": {},
   "outputs": [],
   "source": [
    "%load_ext autoreload\n",
    "%autoreload 2"
   ]
  },
  {
   "cell_type": "markdown",
   "id": "d9535ed6-3be7-4dfc-bb27-2892c379cb82",
   "metadata": {},
   "source": [
    "# Init"
   ]
  },
  {
   "cell_type": "code",
   "execution_count": 2,
   "id": "894f5ed6-b019-41b6-b583-1339e8834a3a",
   "metadata": {},
   "outputs": [],
   "source": [
    "import sys\n",
    "sys.path.insert(0, \"../src\")\n",
    "\n",
    "import json\n",
    "import random\n",
    "import numpy as np\n",
    "import scipy\n",
    "import spacy\n",
    "from pathlib import Path\n",
    "from collections import Counter, defaultdict\n",
    "from joblib import Parallel, delayed\n",
    "\n",
    "import constants\n",
    "import feverise.analysis as fa\n",
    "from gen.util import read_data, write_jsonl"
   ]
  },
  {
   "cell_type": "code",
   "execution_count": 3,
   "id": "d92b40cc-20de-4600-b58f-34b955e128fc",
   "metadata": {},
   "outputs": [],
   "source": [
    "feverp = Path(\"/users/k21190024/study/fact-check-transfer-learning/scratch/data/fever\")\n",
    "climatefp = Path(\"/users/k21190024/study/fact-check-transfer-learning/scratch/data/climatefever\")\n",
    "scifactp = Path(\"/users/k21190024/study/fact-check-transfer-learning/scratch/data/scifact\")\n",
    "\n",
    "climatefdp = Path(\"/users/k21190024/study/fact-check-transfer-learning/scratch/dumps/feverised-climatefever\")\n",
    "scifactdp = Path(\"/users/k21190024/study/fact-check-transfer-learning/scratch/dumps/feverised-scifact\")"
   ]
  },
  {
   "cell_type": "code",
   "execution_count": 4,
   "id": "a0a4c950-8e06-440a-9675-84fc9bbee6d6",
   "metadata": {},
   "outputs": [],
   "source": [
    "fever_claims = read_data(feverp / \"train.jsonl\") + read_data(feverp / \"shared_task_dev.jsonl\")\n",
    "scifact_claims = read_data(scifactdp / \"scifact_all.jsonl\")\n",
    "cfever_claims = read_data(climatefdp / \"climatefever_paper_all.jsonl\")"
   ]
  },
  {
   "cell_type": "markdown",
   "id": "374d306f-dfdc-4352-ba88-84008df04865",
   "metadata": {
    "tags": []
   },
   "source": [
    "# Label proportions"
   ]
  },
  {
   "cell_type": "code",
   "execution_count": 69,
   "id": "82e30d4a-2276-43d8-bedc-3b63ce4e0663",
   "metadata": {},
   "outputs": [],
   "source": [
    "fever_labels = Counter([doc[\"label\"] for doc in fever_claims])\n",
    "cfever_labels = Counter([doc[\"label\"] for doc in cfever_claims])\n",
    "scifact_labels = Counter([doc[\"label\"] for doc in scifact_claims])"
   ]
  },
  {
   "cell_type": "code",
   "execution_count": 70,
   "id": "3584c511-6e22-458c-bf18-91b42c5a1b58",
   "metadata": {},
   "outputs": [],
   "source": [
    "def label_ratio(cnt):\n",
    "    total = sum(cnt.values())\n",
    "    return {k: round(v / total, 2) for k, v in cnt.items()}"
   ]
  },
  {
   "cell_type": "code",
   "execution_count": 71,
   "id": "ed72afbb-a55f-44fd-abfd-a22e188d6f5f",
   "metadata": {},
   "outputs": [
    {
     "data": {
      "text/plain": [
       "({'SUPPORTS': 0.52, 'REFUTES': 0.22, 'NOT ENOUGH INFO': 0.26},\n",
       " {'SUPPORTS': 0.47, 'REFUTES': 0.18, 'NOT ENOUGH INFO': 0.34},\n",
       " {'NOT ENOUGH INFO': 0.38, 'REFUTES': 0.21, 'SUPPORTS': 0.41})"
      ]
     },
     "execution_count": 71,
     "metadata": {},
     "output_type": "execute_result"
    }
   ],
   "source": [
    "label_ratio(fever_labels), label_ratio(cfever_labels), label_ratio(scifact_labels)"
   ]
  },
  {
   "cell_type": "markdown",
   "id": "1ade4609-3e24-4cfa-a1e7-9060b00d7963",
   "metadata": {},
   "source": [
    "# Count Claim-Evidence"
   ]
  },
  {
   "cell_type": "code",
   "execution_count": 72,
   "id": "d0de4bcd-bd65-41d0-8f50-3222359f68e7",
   "metadata": {},
   "outputs": [],
   "source": [
    "fever_cnt, fever_stats = fa.count_evidences(fever_claims)\n",
    "scifact_cnt, scifact_stats = fa.count_evidences(scifact_claims)\n",
    "cfever_cnt, cfever_stats = fa.count_evidences(cfever_claims)"
   ]
  },
  {
   "cell_type": "markdown",
   "id": "c911e0f1-7352-4fd7-9805-4d34a1fa34d6",
   "metadata": {},
   "source": [
    "## FEVER"
   ]
  },
  {
   "cell_type": "code",
   "execution_count": 73,
   "id": "7a166449-6eba-4e2e-8d54-fa334333e778",
   "metadata": {
    "collapsed": true,
    "jupyter": {
     "outputs_hidden": true
    },
    "tags": []
   },
   "outputs": [
    {
     "data": {
      "text/plain": [
       "(Counter({1: 62251,\n",
       "          2: 10520,\n",
       "          4: 2473,\n",
       "          16: 79,\n",
       "          5: 2694,\n",
       "          8: 589,\n",
       "          13: 160,\n",
       "          3: 3433,\n",
       "          6: 1595,\n",
       "          18: 70,\n",
       "          7: 842,\n",
       "          20: 51,\n",
       "          9: 413,\n",
       "          14: 128,\n",
       "          27: 20,\n",
       "          10: 334,\n",
       "          138: 1,\n",
       "          17: 70,\n",
       "          21: 44,\n",
       "          62: 2,\n",
       "          15: 75,\n",
       "          24: 33,\n",
       "          11: 257,\n",
       "          12: 215,\n",
       "          44: 8,\n",
       "          32: 11,\n",
       "          34: 9,\n",
       "          42: 7,\n",
       "          50: 3,\n",
       "          26: 30,\n",
       "          43: 3,\n",
       "          37: 6,\n",
       "          25: 27,\n",
       "          19: 55,\n",
       "          22: 31,\n",
       "          52: 4,\n",
       "          29: 17,\n",
       "          38: 7,\n",
       "          28: 9,\n",
       "          23: 20,\n",
       "          36: 8,\n",
       "          33: 11,\n",
       "          31: 11,\n",
       "          40: 4,\n",
       "          59: 1,\n",
       "          58: 1,\n",
       "          51: 2,\n",
       "          35: 6,\n",
       "          45: 4,\n",
       "          30: 16,\n",
       "          140: 1,\n",
       "          53: 3,\n",
       "          48: 3,\n",
       "          122: 1,\n",
       "          39: 6,\n",
       "          63: 1,\n",
       "          49: 2,\n",
       "          66: 2,\n",
       "          47: 3,\n",
       "          102: 1,\n",
       "          156: 1,\n",
       "          65: 1,\n",
       "          130: 1,\n",
       "          54: 1,\n",
       "          84: 1,\n",
       "          85: 1,\n",
       "          78: 1,\n",
       "          46: 1,\n",
       "          67: 1,\n",
       "          96: 1,\n",
       "          60: 1,\n",
       "          117: 1,\n",
       "          251: 1,\n",
       "          41: 1,\n",
       "          74: 1,\n",
       "          73: 1,\n",
       "          71: 1,\n",
       "          116: 1}),\n",
       " Counter({1: 26269,\n",
       "          2: 4423,\n",
       "          5: 881,\n",
       "          3: 1584,\n",
       "          16: 40,\n",
       "          19: 25,\n",
       "          6: 569,\n",
       "          9: 186,\n",
       "          10: 155,\n",
       "          13: 93,\n",
       "          4: 1038,\n",
       "          43: 2,\n",
       "          21: 31,\n",
       "          20: 30,\n",
       "          8: 246,\n",
       "          23: 12,\n",
       "          7: 366,\n",
       "          27: 6,\n",
       "          56: 3,\n",
       "          14: 69,\n",
       "          17: 32,\n",
       "          11: 110,\n",
       "          22: 16,\n",
       "          29: 8,\n",
       "          26: 9,\n",
       "          54: 2,\n",
       "          18: 30,\n",
       "          12: 99,\n",
       "          52: 4,\n",
       "          15: 40,\n",
       "          31: 4,\n",
       "          46: 1,\n",
       "          36: 4,\n",
       "          30: 2,\n",
       "          61: 1,\n",
       "          71: 1,\n",
       "          25: 10,\n",
       "          33: 2,\n",
       "          39: 4,\n",
       "          44: 3,\n",
       "          60: 1,\n",
       "          65: 1,\n",
       "          24: 8,\n",
       "          37: 2,\n",
       "          53: 2,\n",
       "          55: 1,\n",
       "          78: 1,\n",
       "          49: 1,\n",
       "          59: 1,\n",
       "          41: 2,\n",
       "          62: 1,\n",
       "          28: 2,\n",
       "          34: 2,\n",
       "          35: 1,\n",
       "          45: 2,\n",
       "          47: 1,\n",
       "          75: 1,\n",
       "          50: 1}),\n",
       " Counter({0: 42305}))"
      ]
     },
     "execution_count": 73,
     "metadata": {},
     "output_type": "execute_result"
    }
   ],
   "source": [
    "Counter(fever_cnt[constants.LOOKUP[\"label\"][\"s\"]]), Counter(fever_cnt[constants.LOOKUP[\"label\"][\"r\"]]), Counter(fever_cnt[constants.LOOKUP[\"label\"][\"nei\"]])"
   ]
  },
  {
   "cell_type": "code",
   "execution_count": 89,
   "id": "314cf388-24a7-44db-92c8-f6c85585bf31",
   "metadata": {},
   "outputs": [
    {
     "data": {
      "text/plain": [
       "{1: 0.2811550892465609,\n",
       " 2: 0.15980737684949084,\n",
       " 3: 0.11906579396144289,\n",
       " 4: 0.09055399457536828,\n",
       " 5: 0.06152246999399068,\n",
       " 6: 0.04394926182780855,\n",
       " 7: 0.034139448766464735,\n",
       " 8: 0.027358659108996118,\n",
       " 9: 0.022494356109207258,\n",
       " 10: 0.018523330788845396}"
      ]
     },
     "execution_count": 89,
     "metadata": {},
     "output_type": "execute_result"
    }
   ],
   "source": [
    "total = Counter(fever_cnt[constants.LOOKUP[\"label\"][\"s\"]]) + Counter(fever_cnt[constants.LOOKUP[\"label\"][\"r\"]])\n",
    "fa.max_sentence_effect(total, 10)"
   ]
  },
  {
   "cell_type": "code",
   "execution_count": 43,
   "id": "8501dc1d-6356-481a-a8f0-f295412619b1",
   "metadata": {},
   "outputs": [
    {
     "data": {
      "text/plain": [
       "{'SUPPORTS': (1, ModeResult(mode=1, count=62251), 2.003979192858214, 251),\n",
       " 'REFUTES': (1, ModeResult(mode=1, count=26269), 1.9882549875140638, 78),\n",
       " 'NOT ENOUGH INFO': (0, ModeResult(mode=0, count=42305), 0.0, 0)}"
      ]
     },
     "execution_count": 43,
     "metadata": {},
     "output_type": "execute_result"
    }
   ],
   "source": [
    "fever_stats"
   ]
  },
  {
   "cell_type": "markdown",
   "id": "9c8914b2-aedf-48b9-8900-6209a952f603",
   "metadata": {},
   "source": [
    "## Climate-FEVER"
   ]
  },
  {
   "cell_type": "code",
   "execution_count": 10,
   "id": "9b2666e9-a7e0-4a12-ab75-a257475a5b5c",
   "metadata": {},
   "outputs": [
    {
     "data": {
      "text/plain": [
       "(Counter({5: 654}), Counter({5: 253}), Counter({5: 474}))"
      ]
     },
     "execution_count": 10,
     "metadata": {},
     "output_type": "execute_result"
    }
   ],
   "source": [
    "# climate-fever\n",
    "Counter(cfever_cnt[constants.LOOKUP[\"label\"][\"s\"]]), Counter(cfever_cnt[constants.LOOKUP[\"label\"][\"r\"]]), Counter(cfever_cnt[constants.LOOKUP[\"label\"][\"nei\"]])"
   ]
  },
  {
   "cell_type": "code",
   "execution_count": 45,
   "id": "d63f25ce-4d96-4dbb-bc6f-d982bd4e603d",
   "metadata": {},
   "outputs": [
    {
     "data": {
      "text/plain": [
       "{'SUPPORTS': (5, ModeResult(mode=5, count=654), 5.0, 5),\n",
       " 'REFUTES': (5, ModeResult(mode=5, count=253), 5.0, 5),\n",
       " 'NOT ENOUGH INFO': (5, ModeResult(mode=5, count=474), 5.0, 5)}"
      ]
     },
     "execution_count": 45,
     "metadata": {},
     "output_type": "execute_result"
    }
   ],
   "source": [
    "cfever_stats"
   ]
  },
  {
   "cell_type": "markdown",
   "id": "1df8c9d8-142e-4c33-b5f2-800a7c4df013",
   "metadata": {},
   "source": [
    "## SciFact"
   ]
  },
  {
   "cell_type": "code",
   "execution_count": 9,
   "id": "e3ba27a1-6c0e-4b92-8dfa-a0b56d114cdd",
   "metadata": {},
   "outputs": [
    {
     "data": {
      "text/plain": [
       "(Counter({1: 218, 2: 128, 4: 31, 5: 4, 3: 64, 9: 2, 11: 1, 8: 4, 6: 3, 7: 1}),\n",
       " Counter({1: 103, 3: 35, 5: 7, 2: 68, 4: 19, 7: 2, 8: 1, 6: 1, 12: 1}),\n",
       " Counter({0: 416}))"
      ]
     },
     "execution_count": 9,
     "metadata": {},
     "output_type": "execute_result"
    }
   ],
   "source": [
    "# scifact\n",
    "Counter(scifact_cnt[constants.LOOKUP[\"label\"][\"s\"]]), Counter(scifact_cnt[constants.LOOKUP[\"label\"][\"r\"]]), Counter(scifact_cnt[constants.LOOKUP[\"label\"][\"nei\"]])"
   ]
  },
  {
   "cell_type": "code",
   "execution_count": 90,
   "id": "74d07ca4-a3fa-49bb-aff8-9664832fb771",
   "metadata": {},
   "outputs": [
    {
     "data": {
      "text/plain": [
       "{1: 0.5367965367965368,\n",
       " 2: 0.25396825396825395,\n",
       " 3: 0.1111111111111111,\n",
       " 4: 0.03896103896103896,\n",
       " 5: 0.023088023088023088,\n",
       " 6: 0.017316017316017316,\n",
       " 7: 0.012987012987012988,\n",
       " 8: 0.005772005772005772,\n",
       " 9: 0.002886002886002886,\n",
       " 10: 0.002886002886002886}"
      ]
     },
     "execution_count": 90,
     "metadata": {},
     "output_type": "execute_result"
    }
   ],
   "source": [
    "total = Counter(scifact_cnt[constants.LOOKUP[\"label\"][\"s\"]]) + Counter(scifact_cnt[constants.LOOKUP[\"label\"][\"r\"]])\n",
    "fa.max_sentence_effect(total, 10)"
   ]
  },
  {
   "cell_type": "code",
   "execution_count": 44,
   "id": "e88c2597-a1f9-4e3b-8072-421b83c7e4a2",
   "metadata": {},
   "outputs": [
    {
     "data": {
      "text/plain": [
       "{'NOT ENOUGH INFO': (0, ModeResult(mode=0, count=416), 0.0, 0),\n",
       " 'REFUTES': (1, ModeResult(mode=1, count=103), 2.088607594936709, 12),\n",
       " 'SUPPORTS': (1, ModeResult(mode=1, count=218), 1.9649122807017543, 11)}"
      ]
     },
     "execution_count": 44,
     "metadata": {},
     "output_type": "execute_result"
    }
   ],
   "source": [
    "scifact_stats"
   ]
  },
  {
   "cell_type": "markdown",
   "id": "f31c2f53-22b9-4d81-8620-a523233cf402",
   "metadata": {},
   "source": [
    "# Check claim-evidence tokenizer length"
   ]
  },
  {
   "cell_type": "code",
   "execution_count": 4,
   "id": "3ba829a6-30b7-417a-922d-6d702dad3f89",
   "metadata": {},
   "outputs": [],
   "source": [
    "nlp = spacy.load(\"en_core_web_sm\")\n",
    "\n",
    "def count_claim_evidence_length(data):\n",
    "    res = defaultdict(dict)\n",
    "    cl_len = defaultdict(list)\n",
    "    el_len = defaultdict(list)\n",
    "    for doc in data:\n",
    "        cl = nlp.tokenizer(doc[\"claim\"])\n",
    "        el = nlp.tokenizer(doc[\"evidence\"])\n",
    "        cl_len[constants.ID2LABEL[doc[\"labels\"]]].append(len(cl))\n",
    "        el_len[constants.ID2LABEL[doc[\"labels\"]]].append(len(el))\n",
    "    for label in constants.LABEL2ID.keys():\n",
    "        res[label] = {\n",
    "            \"claim\": cl_len[label],\n",
    "            \"evidence\": el_len[label],\n",
    "            \"concatenate\": [sum(x) for x in zip(cl_len[label], el_len[label])]\n",
    "        }\n",
    "    return res, {k: Counter(v[\"concatenate\"]) for k, v in res.items()}\n",
    "        \n",
    "def pct_over_max_seq_length(cnt, max_length):\n",
    "    over_all = []\n",
    "    total_all = 0\n",
    "    d = {}\n",
    "    for label, count in cnt.items():\n",
    "        over = []\n",
    "        total = 0\n",
    "        for c, n in count.items():\n",
    "            if c > max_length:\n",
    "                over.append(n)\n",
    "            total += n\n",
    "        over_all += over\n",
    "        total_all += total\n",
    "        d[label] = sum(over) / total\n",
    "        d[label + \"_count\"] = sum(over)\n",
    "    d[\"overall\"] = sum(over_all) / total_all\n",
    "    d[\"overall_count\"] = sum(over_all)\n",
    "    \n",
    "    return d"
   ]
  },
  {
   "cell_type": "markdown",
   "id": "abf45aff-7c29-4674-a537-3482c3d9006a",
   "metadata": {},
   "source": [
    "## Document level evidence"
   ]
  },
  {
   "cell_type": "code",
   "execution_count": 5,
   "id": "5e3c34d6-078c-4da4-9d04-a61d61bbf3be",
   "metadata": {},
   "outputs": [],
   "source": [
    "bert_data_p = Path(\"/users/k21190024/study/fact-check-transfer-learning/scratch/dumps/bert-data-doc-evidence\")\n",
    "fever_all = read_data(bert_data_p / \"fever.all.jsonl\")\n",
    "cfeverpure_all = read_data(bert_data_p / \"climatefeverpure.all.jsonl\")\n",
    "scifact_all = read_data(bert_data_p / \"scifact.all.test.n5.jsonl\")"
   ]
  },
  {
   "cell_type": "code",
   "execution_count": 8,
   "id": "a2eb964f-23eb-4423-a1ed-7e83d73c4b2d",
   "metadata": {},
   "outputs": [],
   "source": [
    "fever_all_raw, fever_all_cnt = count_claim_evidence_length(fever_all)\n",
    "cfeverpure_all_raw, cfeverpure_all_cnt = count_claim_evidence_length(cfeverpure_all)\n",
    "scifact_all_raw, scifact_all_cnt = count_claim_evidence_length(scifact_all)"
   ]
  },
  {
   "cell_type": "code",
   "execution_count": 9,
   "id": "8441644c-33ef-42fc-a538-2e9f627d4e1a",
   "metadata": {
    "tags": []
   },
   "outputs": [
    {
     "data": {
      "text/plain": [
       "({'SUPPORTS': 9.519936332914268,\n",
       "  'NOT ENOUGH INFO': 9.461600283654414,\n",
       "  'REFUTES': 9.52600093301501},\n",
       " {'SUPPORTS': 76.53544941811514,\n",
       "  'NOT ENOUGH INFO': 119.47152818815742,\n",
       "  'REFUTES': 70.61172854751516},\n",
       " {'SUPPORTS': 13903, 'NOT ENOUGH INFO': 429, 'REFUTES': 4625},\n",
       " {'SUPPORTS': 0.013575391287297725,\n",
       "  'SUPPORTS_count': 1177,\n",
       "  'NOT ENOUGH INFO': 0.0,\n",
       "  'NOT ENOUGH INFO_count': 0,\n",
       "  'REFUTES': 0.01185477895776735,\n",
       "  'REFUTES_count': 432,\n",
       "  'overall': 0.009725168785169873,\n",
       "  'overall_count': 1609},\n",
       " {'SUPPORTS': 0.0026181935617812942,\n",
       "  'SUPPORTS_count': 227,\n",
       "  'NOT ENOUGH INFO': 0.0,\n",
       "  'NOT ENOUGH INFO_count': 0,\n",
       "  'REFUTES': 0.002085562964792404,\n",
       "  'REFUTES_count': 76,\n",
       "  'overall': 0.0018314022013091807,\n",
       "  'overall_count': 303})"
      ]
     },
     "execution_count": 9,
     "metadata": {},
     "output_type": "execute_result"
    }
   ],
   "source": [
    "(\n",
    "    {k: sum(v[\"claim\"]) / len(v[\"claim\"]) for k, v in fever_all_raw.items()}, \n",
    "    {k: sum(v[\"evidence\"]) / len(v[\"evidence\"]) for k, v in fever_all_raw.items()}, \n",
    "    {k: max(v[\"evidence\"]) for k, v in fever_all_raw.items()}, \n",
    "    pct_over_max_seq_length(fever_all_cnt, 512),\n",
    "    pct_over_max_seq_length(fever_all_cnt, 1024),\n",
    ")"
   ]
  },
  {
   "cell_type": "code",
   "execution_count": 10,
   "id": "a5f93605-b064-4a8b-9374-28e276fe949a",
   "metadata": {
    "tags": []
   },
   "outputs": [
    {
     "data": {
      "text/plain": [
       "({'SUPPORTS': 24.007645259938837,\n",
       "  'NOT ENOUGH INFO': 23.69831223628692,\n",
       "  'REFUTES': 20.992094861660078},\n",
       " {'SUPPORTS': 83.17737003058105,\n",
       "  'NOT ENOUGH INFO': 163.63291139240508,\n",
       "  'REFUTES': 72.93675889328063},\n",
       " {'SUPPORTS': 0.3058103975535168,\n",
       "  'SUPPORTS_count': 200,\n",
       "  'NOT ENOUGH INFO': 0.9008438818565401,\n",
       "  'NOT ENOUGH INFO_count': 427,\n",
       "  'REFUTES': 0.2015810276679842,\n",
       "  'REFUTES_count': 51,\n",
       "  'overall': 0.49094858797972485,\n",
       "  'overall_count': 678},\n",
       " {'SUPPORTS': 0.010703363914373088,\n",
       "  'SUPPORTS_count': 7,\n",
       "  'NOT ENOUGH INFO': 0.0949367088607595,\n",
       "  'NOT ENOUGH INFO_count': 45,\n",
       "  'REFUTES': 0.0,\n",
       "  'REFUTES_count': 0,\n",
       "  'overall': 0.03765387400434468,\n",
       "  'overall_count': 52},\n",
       " {'SUPPORTS': 0.0,\n",
       "  'SUPPORTS_count': 0,\n",
       "  'NOT ENOUGH INFO': 0.002109704641350211,\n",
       "  'NOT ENOUGH INFO_count': 1,\n",
       "  'REFUTES': 0.0,\n",
       "  'REFUTES_count': 0,\n",
       "  'overall': 0.000724112961622013,\n",
       "  'overall_count': 1})"
      ]
     },
     "execution_count": 10,
     "metadata": {},
     "output_type": "execute_result"
    }
   ],
   "source": [
    "(\n",
    "    {k: sum(v[\"claim\"]) / len(v[\"claim\"]) for k, v in cfeverpure_all_raw.items()}, \n",
    "    {k: sum(v[\"evidence\"]) / len(v[\"evidence\"]) for k, v in cfeverpure_all_raw.items()},\n",
    "    pct_over_max_seq_length(cfeverpure_all_cnt, 128),\n",
    "    pct_over_max_seq_length(cfeverpure_all_cnt, 256),\n",
    "    pct_over_max_seq_length(cfeverpure_all_cnt, 512),\n",
    ")"
   ]
  },
  {
   "cell_type": "code",
   "execution_count": 11,
   "id": "cc8014c7-d97f-4443-9258-45b97fc2de6e",
   "metadata": {
    "tags": []
   },
   "outputs": [
    {
     "data": {
      "text/plain": [
       "({'SUPPORTS': 14.322368421052632,\n",
       "  'NOT ENOUGH INFO': 15.19951923076923,\n",
       "  'REFUTES': 14.350210970464135},\n",
       " {'SUPPORTS': 71.18859649122807,\n",
       "  'NOT ENOUGH INFO': 144.84134615384616,\n",
       "  'REFUTES': 82.07594936708861},\n",
       " {'SUPPORTS': 0.15570175438596492,\n",
       "  'SUPPORTS_count': 71,\n",
       "  'NOT ENOUGH INFO': 0.7980769230769231,\n",
       "  'NOT ENOUGH INFO_count': 332,\n",
       "  'REFUTES': 0.21940928270042195,\n",
       "  'REFUTES_count': 52,\n",
       "  'overall': 0.4102795311091073,\n",
       "  'overall_count': 455},\n",
       " {'SUPPORTS': 0.02412280701754386,\n",
       "  'SUPPORTS_count': 11,\n",
       "  'NOT ENOUGH INFO': 0.03125,\n",
       "  'NOT ENOUGH INFO_count': 13,\n",
       "  'REFUTES': 0.029535864978902954,\n",
       "  'REFUTES_count': 7,\n",
       "  'overall': 0.027953110910730387,\n",
       "  'overall_count': 31},\n",
       " {'SUPPORTS': 0.0,\n",
       "  'SUPPORTS_count': 0,\n",
       "  'NOT ENOUGH INFO': 0.0,\n",
       "  'NOT ENOUGH INFO_count': 0,\n",
       "  'REFUTES': 0.0,\n",
       "  'REFUTES_count': 0,\n",
       "  'overall': 0.0,\n",
       "  'overall_count': 0})"
      ]
     },
     "execution_count": 11,
     "metadata": {},
     "output_type": "execute_result"
    }
   ],
   "source": [
    "(\n",
    "    {k: sum(v[\"claim\"]) / len(v[\"claim\"]) for k, v in scifact_all_raw.items()}, \n",
    "    {k: sum(v[\"evidence\"]) / len(v[\"evidence\"]) for k, v in scifact_all_raw.items()}, \n",
    "    pct_over_max_seq_length(scifact_all_cnt, 128),\n",
    "    pct_over_max_seq_length(scifact_all_cnt, 256),\n",
    "    pct_over_max_seq_length(scifact_all_cnt, 512),\n",
    ")"
   ]
  },
  {
   "cell_type": "markdown",
   "id": "c5a65c69-5aae-4911-a291-b7370ecbec7d",
   "metadata": {},
   "source": [
    "## Sentence level evidence"
   ]
  },
  {
   "cell_type": "code",
   "execution_count": 6,
   "id": "4bfcc8d4-1e92-406a-9e4c-3c8f422fe093",
   "metadata": {},
   "outputs": [],
   "source": [
    "bert_data_p = Path(\"/users/k21190024/study/fact-check-transfer-learning/scratch/dumps/bert-data-sent-evidence\")\n",
    "fever_all = read_data(bert_data_p / \"fever.all.jsonl\")\n",
    "cfeverpure_all = read_data(bert_data_p / \"climatefeverpure.all.jsonl\")\n",
    "cfever_all = read_data(bert_data_p / \"climatefever.all.jsonl\")\n",
    "scifact_all = read_data(bert_data_p / \"scifact.all.test.n5.jsonl\")"
   ]
  },
  {
   "cell_type": "code",
   "execution_count": 7,
   "id": "92f39333-980e-4f6f-a81e-a43b3a066ad3",
   "metadata": {},
   "outputs": [],
   "source": [
    "fever_all_raw, fever_all_cnt = count_claim_evidence_length(fever_all)\n",
    "cfeverpure_all_raw, cfeverpure_all_cnt = count_claim_evidence_length(cfeverpure_all)\n",
    "cfever_all_raw, cfever_all_cnt = count_claim_evidence_length(cfever_all)\n",
    "scifact_all_raw, scifact_all_cnt = count_claim_evidence_length(scifact_all)"
   ]
  },
  {
   "cell_type": "code",
   "execution_count": 8,
   "id": "09120929-7a78-47dc-af59-57cb6af2d4fe",
   "metadata": {
    "tags": []
   },
   "outputs": [
    {
     "data": {
      "text/plain": [
       "({'SUPPORTS': 9.03313951488044,\n",
       "  'NOT ENOUGH INFO': 9.461600283654414,\n",
       "  'REFUTES': 9.19823055074924},\n",
       " {'SUPPORTS': 38.27282986409771,\n",
       "  'NOT ENOUGH INFO': 24.74264271362723,\n",
       "  'REFUTES': 35.538327184878064},\n",
       " {'SUPPORTS': 1333, 'NOT ENOUGH INFO': 263, 'REFUTES': 1102},\n",
       " {'SUPPORTS': 8.945467056597281e-05,\n",
       "  'SUPPORTS_count': 13,\n",
       "  'NOT ENOUGH INFO': 0.0,\n",
       "  'NOT ENOUGH INFO_count': 0,\n",
       "  'REFUTES': 9.793999542946688e-05,\n",
       "  'REFUTES_count': 6,\n",
       "  'overall': 6.524792494428171e-05,\n",
       "  'overall_count': 19},\n",
       " {'SUPPORTS': 1.3762257010149665e-05,\n",
       "  'SUPPORTS_count': 2,\n",
       "  'NOT ENOUGH INFO': 0.0,\n",
       "  'NOT ENOUGH INFO_count': 0,\n",
       "  'REFUTES': 1.6323332571577813e-05,\n",
       "  'REFUTES_count': 1,\n",
       "  'overall': 1.0302303938570796e-05,\n",
       "  'overall_count': 3})"
      ]
     },
     "execution_count": 8,
     "metadata": {},
     "output_type": "execute_result"
    }
   ],
   "source": [
    "(\n",
    "    {k: sum(v[\"claim\"]) / len(v[\"claim\"]) for k, v in fever_all_raw.items()}, \n",
    "    {k: sum(v[\"evidence\"]) / len(v[\"evidence\"]) for k, v in fever_all_raw.items()}, \n",
    "    {k: max(v[\"evidence\"]) for k, v in fever_all_raw.items()}, \n",
    "    pct_over_max_seq_length(fever_all_cnt, 512),\n",
    "    pct_over_max_seq_length(fever_all_cnt, 1024),\n",
    ")"
   ]
  },
  {
   "cell_type": "code",
   "execution_count": 9,
   "id": "09b52cbd-896a-45cf-a201-7828ee6b30b8",
   "metadata": {
    "tags": []
   },
   "outputs": [
    {
     "data": {
      "text/plain": [
       "({'SUPPORTS': 23.86741973840666,\n",
       "  'NOT ENOUGH INFO': 23.69831223628692,\n",
       "  'REFUTES': 19.870689655172413},\n",
       " {'SUPPORTS': 32.34126040428062,\n",
       "  'NOT ENOUGH INFO': 32.72658227848101,\n",
       "  'REFUTES': 31.81551724137931},\n",
       " {'SUPPORTS': 135, 'NOT ENOUGH INFO': 301, 'REFUTES': 101},\n",
       " {'SUPPORTS': 0.004161712247324614,\n",
       "  'SUPPORTS_count': 7,\n",
       "  'NOT ENOUGH INFO': 0.008860759493670886,\n",
       "  'NOT ENOUGH INFO_count': 21,\n",
       "  'REFUTES': 0.0034482758620689655,\n",
       "  'REFUTES_count': 2,\n",
       "  'overall': 0.006476683937823834,\n",
       "  'overall_count': 30},\n",
       " {'SUPPORTS': 0.0,\n",
       "  'SUPPORTS_count': 0,\n",
       "  'NOT ENOUGH INFO': 0.0008438818565400844,\n",
       "  'NOT ENOUGH INFO_count': 2,\n",
       "  'REFUTES': 0.0,\n",
       "  'REFUTES_count': 0,\n",
       "  'overall': 0.0004317789291882556,\n",
       "  'overall_count': 2},\n",
       " {'SUPPORTS': 0.0,\n",
       "  'SUPPORTS_count': 0,\n",
       "  'NOT ENOUGH INFO': 0.0,\n",
       "  'NOT ENOUGH INFO_count': 0,\n",
       "  'REFUTES': 0.0,\n",
       "  'REFUTES_count': 0,\n",
       "  'overall': 0.0,\n",
       "  'overall_count': 0})"
      ]
     },
     "execution_count": 9,
     "metadata": {},
     "output_type": "execute_result"
    }
   ],
   "source": [
    "(\n",
    "    {k: sum(v[\"claim\"]) / len(v[\"claim\"]) for k, v in cfeverpure_all_raw.items()}, \n",
    "    {k: sum(v[\"evidence\"]) / len(v[\"evidence\"]) for k, v in cfeverpure_all_raw.items()}, \n",
    "    {k: max(v[\"evidence\"]) for k, v in cfeverpure_all_raw.items()}, \n",
    "    pct_over_max_seq_length(cfeverpure_all_cnt, 128),\n",
    "    pct_over_max_seq_length(cfeverpure_all_cnt, 256),\n",
    "    pct_over_max_seq_length(cfeverpure_all_cnt, 512),\n",
    ")"
   ]
  },
  {
   "cell_type": "code",
   "execution_count": 10,
   "id": "de6714c5-96cd-4442-bb98-6604d2212867",
   "metadata": {
    "tags": []
   },
   "outputs": [
    {
     "data": {
      "text/plain": [
       "({'SUPPORTS': 23.86741973840666,\n",
       "  'NOT ENOUGH INFO': 23.59573551583028,\n",
       "  'REFUTES': 19.870689655172413},\n",
       " {'SUPPORTS': 32.34126040428062,\n",
       "  'NOT ENOUGH INFO': 32.03790652595305,\n",
       "  'REFUTES': 31.81551724137931},\n",
       " {'SUPPORTS': 135, 'NOT ENOUGH INFO': 389, 'REFUTES': 101},\n",
       " {'SUPPORTS': 0.004161712247324614,\n",
       "  'SUPPORTS_count': 7,\n",
       "  'NOT ENOUGH INFO': 0.007538229592935602,\n",
       "  'NOT ENOUGH INFO_count': 35,\n",
       "  'REFUTES': 0.0034482758620689655,\n",
       "  'REFUTES_count': 2,\n",
       "  'overall': 0.006372194062273715,\n",
       "  'overall_count': 44},\n",
       " {'SUPPORTS': 0.0,\n",
       "  'SUPPORTS_count': 0,\n",
       "  'NOT ENOUGH INFO': 0.0006461339651087659,\n",
       "  'NOT ENOUGH INFO_count': 3,\n",
       "  'REFUTES': 0.0,\n",
       "  'REFUTES_count': 0,\n",
       "  'overall': 0.00043446777697320784,\n",
       "  'overall_count': 3},\n",
       " {'SUPPORTS': 0.0,\n",
       "  'SUPPORTS_count': 0,\n",
       "  'NOT ENOUGH INFO': 0.0,\n",
       "  'NOT ENOUGH INFO_count': 0,\n",
       "  'REFUTES': 0.0,\n",
       "  'REFUTES_count': 0,\n",
       "  'overall': 0.0,\n",
       "  'overall_count': 0})"
      ]
     },
     "execution_count": 10,
     "metadata": {},
     "output_type": "execute_result"
    }
   ],
   "source": [
    "(\n",
    "    {k: sum(v[\"claim\"]) / len(v[\"claim\"]) for k, v in cfever_all_raw.items()}, \n",
    "    {k: sum(v[\"evidence\"]) / len(v[\"evidence\"]) for k, v in cfever_all_raw.items()}, \n",
    "    {k: max(v[\"evidence\"]) for k, v in cfever_all_raw.items()}, \n",
    "    pct_over_max_seq_length(cfever_all_cnt, 128),\n",
    "    pct_over_max_seq_length(cfever_all_cnt, 256),\n",
    "    pct_over_max_seq_length(cfever_all_cnt, 512),\n",
    ")"
   ]
  },
  {
   "cell_type": "code",
   "execution_count": 11,
   "id": "d9978d94-d1cd-42ef-b382-7ef53b0864af",
   "metadata": {
    "tags": []
   },
   "outputs": [
    {
     "data": {
      "text/plain": [
       "({'SUPPORTS': 14.3671875,\n",
       "  'NOT ENOUGH INFO': 15.19951923076923,\n",
       "  'REFUTES': 14.482828282828283},\n",
       " {'SUPPORTS': 36.229910714285715,\n",
       "  'NOT ENOUGH INFO': 30.381009615384617,\n",
       "  'REFUTES': 39.2969696969697},\n",
       " {'SUPPORTS': 166, 'NOT ENOUGH INFO': 114, 'REFUTES': 166},\n",
       " {'SUPPORTS': 0.011160714285714286,\n",
       "  'SUPPORTS_count': 10,\n",
       "  'NOT ENOUGH INFO': 0.002403846153846154,\n",
       "  'NOT ENOUGH INFO_count': 2,\n",
       "  'REFUTES': 0.014141414141414142,\n",
       "  'REFUTES_count': 7,\n",
       "  'overall': 0.008547008547008548,\n",
       "  'overall_count': 19},\n",
       " {'SUPPORTS': 0.0,\n",
       "  'SUPPORTS_count': 0,\n",
       "  'NOT ENOUGH INFO': 0.0,\n",
       "  'NOT ENOUGH INFO_count': 0,\n",
       "  'REFUTES': 0.0,\n",
       "  'REFUTES_count': 0,\n",
       "  'overall': 0.0,\n",
       "  'overall_count': 0},\n",
       " {'SUPPORTS': 0.0,\n",
       "  'SUPPORTS_count': 0,\n",
       "  'NOT ENOUGH INFO': 0.0,\n",
       "  'NOT ENOUGH INFO_count': 0,\n",
       "  'REFUTES': 0.0,\n",
       "  'REFUTES_count': 0,\n",
       "  'overall': 0.0,\n",
       "  'overall_count': 0})"
      ]
     },
     "execution_count": 11,
     "metadata": {},
     "output_type": "execute_result"
    }
   ],
   "source": [
    "(\n",
    "    {k: sum(v[\"claim\"]) / len(v[\"claim\"]) for k, v in scifact_all_raw.items()}, \n",
    "    {k: sum(v[\"evidence\"]) / len(v[\"evidence\"]) for k, v in scifact_all_raw.items()}, \n",
    "    {k: max(v[\"evidence\"]) for k, v in scifact_all_raw.items()}, \n",
    "    pct_over_max_seq_length(scifact_all_cnt, 128),\n",
    "    pct_over_max_seq_length(scifact_all_cnt, 256),\n",
    "    pct_over_max_seq_length(scifact_all_cnt, 512),\n",
    ")"
   ]
  },
  {
   "cell_type": "markdown",
   "id": "db0592f1-14bd-4fbf-9af9-bcbcbf634a3c",
   "metadata": {
    "tags": []
   },
   "source": [
    "### Label proportions"
   ]
  },
  {
   "cell_type": "code",
   "execution_count": 48,
   "id": "bd1d9142-b66d-4f4c-91ef-b6a553a233a9",
   "metadata": {},
   "outputs": [],
   "source": [
    "fever_train = read_data(feverp / \"train.jsonl\")\n",
    "scifact_all = read_data(scifactdp / \"scifact_all.jsonl\")\n",
    "cfeverpure_train = read_data(climatefdp / \"finetune\" / \"baseline\" / \"climatefever_train.jsonl\")\n",
    "cfever_train = read_data(climatefdp.parent / \"feverised-climatefever_sent\" / \"finetune\" / \"baseline\" / \"climatefever_train.jsonl\")\n",
    "\n",
    "fever_strain = read_data(bert_data_p / \"fever.train.n5.jsonl\")\n",
    "cfeverpure_strain = read_data(bert_data_p / \"climatefeverpure.train.n5.jsonl\")\n",
    "cfever_strain = read_data(bert_data_p / \"climatefever.train.n5.jsonl\")\n",
    "scifact_sall = read_data(bert_data_p / \"scifact.all.test.n5.jsonl\")"
   ]
  },
  {
   "cell_type": "code",
   "execution_count": 49,
   "id": "c45fe54e-db29-4df8-8a8c-557aa944df6e",
   "metadata": {},
   "outputs": [],
   "source": [
    "def convert_to_sentence(data, nei_val: int):\n",
    "    res = defaultdict(list)\n",
    "    for doc in data:\n",
    "        for evidence in doc[\"evidence\"]:\n",
    "            ev_len = len(evidence)\n",
    "            if doc[\"label\"] == constants.LOOKUP[\"label\"][\"nei\"]:\n",
    "                res[doc[\"label\"]].append(nei_val)\n",
    "            else:\n",
    "                res[doc[\"label\"]].append(ev_len)\n",
    "    return res"
   ]
  },
  {
   "cell_type": "code",
   "execution_count": 51,
   "id": "0f85cc1c-35d0-4eb5-9b7e-300a90d367e3",
   "metadata": {},
   "outputs": [
    {
     "data": {
      "text/plain": [
       "({'SUPPORTS': 193756, 'REFUTES': 70066, 'NOT ENOUGH INFO': 178195},\n",
       " Counter({'SUPPORTS': 132827, 'REFUTES': 49035, 'NOT ENOUGH INFO': 71278}))"
      ]
     },
     "execution_count": 51,
     "metadata": {},
     "output_type": "execute_result"
    }
   ],
   "source": [
    "(\n",
    "    {k: sum(v) for k, v in convert_to_sentence(fever_train, 5).items()}, \n",
    "    Counter([constants.ID2LABEL[doc[\"labels\"]] for doc in fever_strain])\n",
    ")"
   ]
  },
  {
   "cell_type": "code",
   "execution_count": 61,
   "id": "37e216c6-5240-4fc5-9570-3ff46ca8f2d0",
   "metadata": {},
   "outputs": [
    {
     "data": {
      "text/plain": [
       "Counter({'SUPPORTS': 457, 'REFUTES': 177, 'NOT ENOUGH INFO': 332})"
      ]
     },
     "execution_count": 61,
     "metadata": {},
     "output_type": "execute_result"
    }
   ],
   "source": [
    "Counter([doc[\"label\"] for doc in cfever_train])"
   ]
  },
  {
   "cell_type": "code",
   "execution_count": 55,
   "id": "a3f209b8-a331-43f2-91c7-0d8cd732428f",
   "metadata": {},
   "outputs": [
    {
     "data": {
      "text/plain": [
       "Counter({'NOT ENOUGH INFO': 3244, 'SUPPORTS': 1186, 'REFUTES': 400})"
      ]
     },
     "execution_count": 55,
     "metadata": {},
     "output_type": "execute_result"
    }
   ],
   "source": [
    "Counter([constants.ID2LABEL[doc[\"labels\"]] for doc in cfever_strain])"
   ]
  },
  {
   "cell_type": "code",
   "execution_count": 59,
   "id": "e3a9cc13-f84d-4903-830a-ea9d3db9aebd",
   "metadata": {},
   "outputs": [
    {
     "data": {
      "text/plain": [
       "Counter({'SUPPORTS': 1186, 'REFUTES': 400, 'NOT ENOUGH INFO': 1660})"
      ]
     },
     "execution_count": 59,
     "metadata": {},
     "output_type": "execute_result"
    }
   ],
   "source": [
    "Counter([constants.ID2LABEL[doc[\"labels\"]] for doc in cfeverpure_strain])"
   ]
  },
  {
   "cell_type": "code",
   "execution_count": 56,
   "id": "e984f1e9-2a56-4705-b50b-cc5b4193bb1f",
   "metadata": {},
   "outputs": [
    {
     "data": {
      "text/plain": [
       "({'NOT ENOUGH INFO': 2080, 'REFUTES': 495, 'SUPPORTS': 896},\n",
       " Counter({'NOT ENOUGH INFO': 832, 'REFUTES': 495, 'SUPPORTS': 896}))"
      ]
     },
     "execution_count": 56,
     "metadata": {},
     "output_type": "execute_result"
    }
   ],
   "source": [
    "(\n",
    "    {k: sum(v) for k, v in convert_to_sentence(scifact_all, 5).items()}, \n",
    "    Counter([constants.ID2LABEL[doc[\"labels\"]] for doc in scifact_sall])\n",
    ")"
   ]
  }
 ],
 "metadata": {
  "kernelspec": {
   "display_name": "Python 3 (ipykernel)",
   "language": "python",
   "name": "python3"
  },
  "language_info": {
   "codemirror_mode": {
    "name": "ipython",
    "version": 3
   },
   "file_extension": ".py",
   "mimetype": "text/x-python",
   "name": "python",
   "nbconvert_exporter": "python",
   "pygments_lexer": "ipython3",
   "version": "3.8.16"
  }
 },
 "nbformat": 4,
 "nbformat_minor": 5
}
