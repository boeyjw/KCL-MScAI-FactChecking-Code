{
 "cells": [
  {
   "cell_type": "code",
   "execution_count": 1,
   "id": "d5977a8b-d63a-402f-ab97-b6bc818366cf",
   "metadata": {},
   "outputs": [],
   "source": [
    "%load_ext autoreload\n",
    "%autoreload 2"
   ]
  },
  {
   "cell_type": "markdown",
   "id": "06680668-8938-42e0-9c67-d8e37f556b3f",
   "metadata": {},
   "source": [
    "# Init"
   ]
  },
  {
   "cell_type": "code",
   "execution_count": 2,
   "id": "0658a099-ab1c-4aa2-b984-a8627866abd9",
   "metadata": {},
   "outputs": [],
   "source": [
    "import sys\n",
    "sys.path.insert(0, \"../src\")\n",
    "\n",
    "import json\n",
    "import random\n",
    "import numpy as np\n",
    "import scipy\n",
    "from pathlib import Path\n",
    "from collections import Counter, defaultdict\n",
    "\n",
    "import constants\n",
    "from gen.util import read_data, write_jsonl\n",
    "from feverise import scifact, climatefever"
   ]
  },
  {
   "cell_type": "code",
   "execution_count": 3,
   "id": "38110ad3-36fb-492e-b915-c1a2b73b7476",
   "metadata": {},
   "outputs": [
    {
     "data": {
      "text/plain": [
       "(None, None)"
      ]
     },
     "execution_count": 3,
     "metadata": {},
     "output_type": "execute_result"
    }
   ],
   "source": [
    "feverp = Path(\"/users/k21190024/study/fact-check-transfer-learning/scratch/data/fever\")\n",
    "climatefp = Path(\"/users/k21190024/study/fact-check-transfer-learning/scratch/data/climatefever\")\n",
    "scifactp = Path(\"/users/k21190024/study/fact-check-transfer-learning/scratch/data/scifact\")\n",
    "\n",
    "climatefdp = Path(\"/users/k21190024/study/fact-check-transfer-learning/scratch/dumps/feverised-climatefever\")\n",
    "scifactdp = Path(\"/users/k21190024/study/fact-check-transfer-learning/scratch/dumps/feverised-scifact\")\n",
    "\n",
    "climatefdp.mkdir(exist_ok=True), scifactdp.mkdir(exist_ok=True)"
   ]
  },
  {
   "cell_type": "markdown",
   "id": "ba4f1a6d-6bf8-4e62-9097-babbbc68cf54",
   "metadata": {},
   "source": [
    "fever_dev_sample, wiki_sample = None, None\n",
    "\n",
    "fever_dev_sample = read_data(feverp / \"train.jsonl\")\n",
    "for p in feverp.joinpath(\"wiki-pages\").iterdir():\n",
    "    if random.uniform(0, 1) > 0.7:\n",
    "        wiki_sample = read_data(p)\n",
    "        break"
   ]
  },
  {
   "cell_type": "markdown",
   "id": "bf101145-6e9a-4d01-a459-b9dec1279841",
   "metadata": {
    "tags": []
   },
   "source": [
    "# SciFact\n",
    "\n",
    " - Every claim has only 1 type of label"
   ]
  },
  {
   "cell_type": "code",
   "execution_count": 4,
   "id": "2d52c1c0-fe11-4235-81a5-32a69a67b6ee",
   "metadata": {},
   "outputs": [],
   "source": [
    "sf_dev = read_data(scifactp / \"claims_dev.jsonl\")\n",
    "sf_test = read_data(scifactp / \"claims_test.jsonl\")\n",
    "sf_train = read_data(scifactp / \"claims_train.jsonl\")\n",
    "sf_corpus = read_data(scifactp / \"corpus.jsonl\")"
   ]
  },
  {
   "cell_type": "code",
   "execution_count": 50,
   "id": "2a60b306-7aae-4a14-a2f1-7b70115e2119",
   "metadata": {},
   "outputs": [],
   "source": [
    "sf_dev_f = scifact.feverise_claims(sf_dev)\n",
    "sf_train_f = scifact.feverise_claims(sf_train)\n",
    "\n",
    "sf_corpus_f = scifact.feverise_corpus(sf_corpus)"
   ]
  },
  {
   "cell_type": "code",
   "execution_count": 6,
   "id": "0dd4865f-c53e-48d0-97a4-cc1ba559e298",
   "metadata": {},
   "outputs": [
    {
     "data": {
      "text/plain": [
       "PosixPath('/users/k21190024/study/fact-check-transfer-learning/scratch/dumps/feverised-scifact/wiki-pages/wiki-001.jsonl')"
      ]
     },
     "execution_count": 6,
     "metadata": {},
     "output_type": "execute_result"
    }
   ],
   "source": [
    "scifactdp.joinpath(\"wiki-pages\").mkdir(exist_ok=True)\n",
    "write_jsonl(scifactdp / \"scifact_dev.jsonl\", sf_dev_f)\n",
    "write_jsonl(scifactdp / \"scifact_train.jsonl\", sf_train_f)\n",
    "write_jsonl(scifactdp / \"scifact_all.jsonl\", sf_train_f + sf_dev_f)\n",
    "write_jsonl(scifactdp / \"scifact_test.jsonl\", sf_test)\n",
    "write_jsonl(scifactdp / \"scifact_corpus.jsonl\", sf_corpus_f)  # copy\n",
    "\n",
    "# default no title\n",
    "write_jsonl(scifactdp / \"wiki-pages\" / \"wiki-001.jsonl\", sf_corpus_f)"
   ]
  },
  {
   "cell_type": "code",
   "execution_count": 10,
   "id": "4b9581ad-b857-4dce-9b8c-3bd723cdc901",
   "metadata": {},
   "outputs": [
    {
     "data": {
      "text/plain": [
       "PosixPath('/users/k21190024/study/fact-check-transfer-learning/scratch/dumps/feverised-scifact/scifact_all_test.jsonl')"
      ]
     },
     "execution_count": 10,
     "metadata": {},
     "output_type": "execute_result"
    }
   ],
   "source": [
    "sf_all = read_data(scifactdp / \"scifact_all.jsonl\")\n",
    "sf_test = [{\"id\": doc[\"id\"], \"claim\": doc[\"claim\"]} for doc in sf_all]\n",
    "\n",
    "write_jsonl(scifactdp / \"scifact_all_test.jsonl\", sf_test)"
   ]
  },
  {
   "cell_type": "markdown",
   "id": "5c9f0db2-96ea-489c-abbc-bc6f78bf9f66",
   "metadata": {},
   "source": [
    "# Climate-FEVER\n",
    "\n",
    "- Has multiple labels for each sentence for each claim"
   ]
  },
  {
   "cell_type": "code",
   "execution_count": 18,
   "id": "b7b332d4-1901-43af-8ba2-1e47a540d492",
   "metadata": {},
   "outputs": [],
   "source": [
    "cf_data = read_data(climatefp / \"climatefever.jsonl\")\n",
    "cf_paper_f, cf_assumed_f, cf_corpus_f = climatefever.feverise_climatefever(cf_data)"
   ]
  },
  {
   "cell_type": "code",
   "execution_count": 8,
   "id": "162dfead-6806-4c9f-89bc-97cc95c11631",
   "metadata": {},
   "outputs": [
    {
     "data": {
      "text/plain": [
       "PosixPath('/users/k21190024/study/fact-check-transfer-learning/scratch/dumps/feverised-climatefever/wiki-pages/wiki-001.jsonl')"
      ]
     },
     "execution_count": 8,
     "metadata": {},
     "output_type": "execute_result"
    }
   ],
   "source": [
    "climatefdp.joinpath(\"wiki-pages\").mkdir(exist_ok=True)\n",
    "write_jsonl(climatefdp / \"climatefever_paper_all.jsonl\", cf_paper_f)\n",
    "write_jsonl(climatefdp / \"climatefever_assumed_all.jsonl\", cf_assumed_f)\n",
    "write_jsonl(climatefdp / \"climatefever_corpus.jsonl\", cf_corpus_f)  # copy, for consistency\n",
    "write_jsonl(climatefdp / \"wiki-pages\" / \"wiki-001.jsonl\", cf_corpus_f)"
   ]
  },
  {
   "cell_type": "markdown",
   "id": "ee42c657-c9c0-4949-975f-23bf57c15ced",
   "metadata": {},
   "source": [
    "# Count Claim-Evidence"
   ]
  },
  {
   "cell_type": "code",
   "execution_count": 4,
   "id": "dd51f29e-b57e-4ec5-b3b7-635ac87ae5ce",
   "metadata": {},
   "outputs": [],
   "source": [
    "fever_claims = read_data(feverp / \"train.jsonl\") + read_data(feverp / \"shared_task_dev.jsonl\")\n",
    "scifact_claims = read_data(scifactdp / \"scifact_all.jsonl\")\n",
    "cfever_claims = read_data(climatefdp / \"climatefever_assumed_all.jsonl\")"
   ]
  },
  {
   "cell_type": "code",
   "execution_count": 54,
   "id": "0d481e85-4df3-473b-a84c-14f7306f40d3",
   "metadata": {},
   "outputs": [
    {
     "data": {
      "text/plain": [
       "{'id': 272,\n",
       " 'claim': 'The melting ice has led to global sea level rise of around eight inches since reliable record keeping began in 1880.',\n",
       " 'label': 'SUPPORTS',\n",
       " 'elab': ['SUPPORTS', 'SUPPORTS'],\n",
       " 'is_disputed': False,\n",
       " 'evidence': [[[None, None, 'Greenland ice sheet', 35],\n",
       "   [None, None, 'Sea level rise', 4]]],\n",
       " 'other_elab': ['NOT ENOUGH INFO', 'NOT ENOUGH INFO', 'NOT ENOUGH INFO'],\n",
       " 'other_evidence': [[[None, None, 'Sea level rise', 26],\n",
       "   [None, None, 'Sea level rise', 3],\n",
       "   [None, None, 'Sea level rise', 691]]],\n",
       " 'verifiable': 'VERIFIABLE'}"
      ]
     },
     "execution_count": 54,
     "metadata": {},
     "output_type": "execute_result"
    }
   ],
   "source": [
    "cfever_claims[122]"
   ]
  },
  {
   "cell_type": "code",
   "execution_count": 36,
   "id": "420583df-16a7-4798-9018-5f087a1f41f3",
   "metadata": {},
   "outputs": [],
   "source": [
    "def count_evidences(claims):\n",
    "    from collections import defaultdict\n",
    "    \n",
    "    n_evidences = defaultdict(list)\n",
    "    for d in claims:\n",
    "        n_evidences[d[\"label\"]].append(0)\n",
    "        for i in d[\"evidence\"]:\n",
    "            n_evidences[d[\"label\"]][-1] += len(i)\n",
    "        if \"other_evidence\" in d:\n",
    "            for i in d[\"other_evidence\"]:\n",
    "                n_evidences[d[\"label\"]][-1] += len(i)\n",
    "    \n",
    "    return n_evidences"
   ]
  },
  {
   "cell_type": "code",
   "execution_count": 37,
   "id": "eb06b245-8144-46e7-b278-f294b8ed18c6",
   "metadata": {},
   "outputs": [],
   "source": [
    "fever_cnt = count_evidences(fever_claims)\n",
    "scifact_cnt = count_evidences(scifact_claims)\n",
    "cfever_cnt = count_evidences(cfever_claims)"
   ]
  },
  {
   "cell_type": "code",
   "execution_count": 38,
   "id": "d3d4cc8f-d367-468f-ba61-48688cd7bc01",
   "metadata": {},
   "outputs": [
    {
     "name": "stderr",
     "output_type": "stream",
     "text": [
      "/tmp/slurm-tmp.2082171/ipykernel_519515/2319411148.py:2: FutureWarning: Unlike other reduction functions (e.g. `skew`, `kurtosis`), the default behavior of `mode` typically preserves the axis it acts along. In SciPy 1.11.0, this behavior will change: the default value of `keepdims` will become False, the `axis` over which the statistic is taken will be eliminated, and the value None will no longer be accepted. Set `keepdims` to True or False to avoid this warning.\n",
      "  np.min(fever_grand), scipy.stats.mode(fever_grand), np.mean(fever_grand), np.max(fever_grand)\n"
     ]
    },
    {
     "data": {
      "text/plain": [
       "(1, ModeResult(mode=array([1]), count=array([76273])), 2.3748761592308067, 338)"
      ]
     },
     "execution_count": 38,
     "metadata": {},
     "output_type": "execute_result"
    }
   ],
   "source": [
    "fever_grand = np.concatenate((np.array(fever_cnt[\"SUPPORTS\"]), np.array(fever_cnt[\"REFUTES\"])))\n",
    "np.min(fever_grand), scipy.stats.mode(fever_grand), np.mean(fever_grand), np.max(fever_grand)"
   ]
  },
  {
   "cell_type": "code",
   "execution_count": 39,
   "id": "26ee0b7b-36af-4961-ba54-c00a80b5c894",
   "metadata": {},
   "outputs": [
    {
     "name": "stderr",
     "output_type": "stream",
     "text": [
      "/tmp/slurm-tmp.2082171/ipykernel_519515/787179960.py:2: FutureWarning: Unlike other reduction functions (e.g. `skew`, `kurtosis`), the default behavior of `mode` typically preserves the axis it acts along. In SciPy 1.11.0, this behavior will change: the default value of `keepdims` will become False, the `axis` over which the statistic is taken will be eliminated, and the value None will no longer be accepted. Set `keepdims` to True or False to avoid this warning.\n",
      "  np.min(scifact_grand), scipy.stats.mode(scifact_grand), np.mean(scifact_grand), np.max(scifact_grand)\n"
     ]
    },
    {
     "data": {
      "text/plain": [
       "(1, ModeResult(mode=array([1]), count=array([321])), 2.0072150072150072, 12)"
      ]
     },
     "execution_count": 39,
     "metadata": {},
     "output_type": "execute_result"
    }
   ],
   "source": [
    "scifact_grand = np.concatenate((np.array(scifact_cnt[\"SUPPORTS\"]), np.array(scifact_cnt[\"REFUTES\"])))\n",
    "np.min(scifact_grand), scipy.stats.mode(scifact_grand), np.mean(scifact_grand), np.max(scifact_grand)"
   ]
  },
  {
   "cell_type": "code",
   "execution_count": 40,
   "id": "716874dc-b54d-4d7d-8706-5110e2e04b8f",
   "metadata": {},
   "outputs": [
    {
     "name": "stderr",
     "output_type": "stream",
     "text": [
      "/tmp/slurm-tmp.2082171/ipykernel_519515/3248033788.py:6: FutureWarning: Unlike other reduction functions (e.g. `skew`, `kurtosis`), the default behavior of `mode` typically preserves the axis it acts along. In SciPy 1.11.0, this behavior will change: the default value of `keepdims` will become False, the `axis` over which the statistic is taken will be eliminated, and the value None will no longer be accepted. Set `keepdims` to True or False to avoid this warning.\n",
      "  np.min(cfever_grand), scipy.stats.mode(cfever_grand), np.mean(cfever_grand), np.max(cfever_grand)\n"
     ]
    },
    {
     "data": {
      "text/plain": [
       "(5, ModeResult(mode=array([5]), count=array([907])), 5.409120521172638, 6)"
      ]
     },
     "execution_count": 40,
     "metadata": {},
     "output_type": "execute_result"
    }
   ],
   "source": [
    "cfever_grand = np.concatenate((\n",
    "    np.array(cfever_cnt[\"SUPPORTS\"])\n",
    "    , np.array(cfever_cnt[\"REFUTES\"])\n",
    "    , np.array(cfever_cnt[\"NOT ENOUGH INFO\"])\n",
    "))\n",
    "np.min(cfever_grand), scipy.stats.mode(cfever_grand), np.mean(cfever_grand), np.max(cfever_grand)"
   ]
  }
 ],
 "metadata": {
  "kernelspec": {
   "display_name": "Python 3 (ipykernel)",
   "language": "python",
   "name": "python3"
  },
  "language_info": {
   "codemirror_mode": {
    "name": "ipython",
    "version": 3
   },
   "file_extension": ".py",
   "mimetype": "text/x-python",
   "name": "python",
   "nbconvert_exporter": "python",
   "pygments_lexer": "ipython3",
   "version": "3.8.16"
  }
 },
 "nbformat": 4,
 "nbformat_minor": 5
}
