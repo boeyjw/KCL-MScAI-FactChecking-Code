{
 "cells": [
  {
   "cell_type": "code",
   "execution_count": 1,
   "id": "d5977a8b-d63a-402f-ab97-b6bc818366cf",
   "metadata": {},
   "outputs": [],
   "source": [
    "%load_ext autoreload\n",
    "%autoreload 2"
   ]
  },
  {
   "cell_type": "markdown",
   "id": "06680668-8938-42e0-9c67-d8e37f556b3f",
   "metadata": {},
   "source": [
    "# Init"
   ]
  },
  {
   "cell_type": "code",
   "execution_count": 2,
   "id": "0658a099-ab1c-4aa2-b984-a8627866abd9",
   "metadata": {},
   "outputs": [],
   "source": [
    "import sys\n",
    "sys.path.insert(0, \"../src\")\n",
    "\n",
    "import json\n",
    "import random\n",
    "import numpy as np\n",
    "import scipy\n",
    "from pathlib import Path\n",
    "from collections import Counter, defaultdict\n",
    "from joblib import Parallel, delayed\n",
    "\n",
    "import constants\n",
    "from gen.util import read_data, write_jsonl\n",
    "from feverise import scifact, climatefever, build_db_mod\n",
    "from feverise.util import count_evidences, replace_id_with_titleid"
   ]
  },
  {
   "cell_type": "code",
   "execution_count": 3,
   "id": "38110ad3-36fb-492e-b915-c1a2b73b7476",
   "metadata": {},
   "outputs": [
    {
     "data": {
      "text/plain": [
       "(None, None)"
      ]
     },
     "execution_count": 3,
     "metadata": {},
     "output_type": "execute_result"
    }
   ],
   "source": [
    "feverp = Path(\"/users/k21190024/study/fact-check-transfer-learning/scratch/data/fever\")\n",
    "climatefp = Path(\"/users/k21190024/study/fact-check-transfer-learning/scratch/data/climatefever\")\n",
    "scifactp = Path(\"/users/k21190024/study/fact-check-transfer-learning/scratch/data/scifact\")\n",
    "\n",
    "climatefdp = Path(\"/users/k21190024/study/fact-check-transfer-learning/scratch/dumps/feverised-climatefever\")\n",
    "scifactdp = Path(\"/users/k21190024/study/fact-check-transfer-learning/scratch/dumps/feverised-scifact\")\n",
    "\n",
    "climatefdp.mkdir(exist_ok=True), scifactdp.mkdir(exist_ok=True)"
   ]
  },
  {
   "cell_type": "markdown",
   "id": "ba4f1a6d-6bf8-4e62-9097-babbbc68cf54",
   "metadata": {},
   "source": [
    "fever_dev_sample, wiki_sample = None, None\n",
    "\n",
    "fever_dev_sample = read_data(feverp / \"train.jsonl\")\n",
    "for p in feverp.joinpath(\"wiki-pages\").iterdir():\n",
    "    if random.uniform(0, 1) > 0.7:\n",
    "        wiki_sample = read_data(p)\n",
    "        break"
   ]
  },
  {
   "cell_type": "markdown",
   "id": "bf101145-6e9a-4d01-a459-b9dec1279841",
   "metadata": {
    "tags": []
   },
   "source": [
    "# SciFact\n",
    "\n",
    " - Every claim has only 1 type of label"
   ]
  },
  {
   "cell_type": "code",
   "execution_count": 4,
   "id": "2d52c1c0-fe11-4235-81a5-32a69a67b6ee",
   "metadata": {},
   "outputs": [],
   "source": [
    "sf_dev = read_data(scifactp / \"claims_dev.jsonl\")\n",
    "sf_test = read_data(scifactp / \"claims_test.jsonl\")\n",
    "sf_train = read_data(scifactp / \"claims_train.jsonl\")\n",
    "sf_corpus = read_data(scifactp / \"corpus.jsonl\")"
   ]
  },
  {
   "cell_type": "code",
   "execution_count": 5,
   "id": "2a60b306-7aae-4a14-a2f1-7b70115e2119",
   "metadata": {},
   "outputs": [],
   "source": [
    "sf_dev_f = scifact.feverise_claims(sf_dev)\n",
    "sf_train_f = scifact.feverise_claims(sf_train)\n",
    "\n",
    "sf_corpus_f = scifact.feverise_corpus(sf_corpus)\n",
    "sf_corpus_titleid_f = scifact.feverise_corpus_titleid(sf_corpus_f)"
   ]
  },
  {
   "cell_type": "code",
   "execution_count": 6,
   "id": "0dd4865f-c53e-48d0-97a4-cc1ba559e298",
   "metadata": {},
   "outputs": [
    {
     "data": {
      "text/plain": [
       "[PosixPath('/users/k21190024/study/fact-check-transfer-learning/scratch/dumps/feverised-scifact/scifact_dev.jsonl'),\n",
       " PosixPath('/users/k21190024/study/fact-check-transfer-learning/scratch/dumps/feverised-scifact/scifact_train.jsonl'),\n",
       " PosixPath('/users/k21190024/study/fact-check-transfer-learning/scratch/dumps/feverised-scifact/scifact_all.jsonl'),\n",
       " PosixPath('/users/k21190024/study/fact-check-transfer-learning/scratch/dumps/feverised-scifact/scifact_test.jsonl'),\n",
       " PosixPath('/users/k21190024/study/fact-check-transfer-learning/scratch/dumps/feverised-scifact/scifact_corpus.jsonl'),\n",
       " PosixPath('/users/k21190024/study/fact-check-transfer-learning/scratch/dumps/feverised-scifact/wiki-pages/wiki-001.jsonl'),\n",
       " PosixPath('/users/k21190024/study/fact-check-transfer-learning/scratch/dumps/feverised-scifact/titleid-wiki-pages/wiki-001.jsonl')]"
      ]
     },
     "execution_count": 6,
     "metadata": {},
     "output_type": "execute_result"
    }
   ],
   "source": [
    "sf_p_ls = []\n",
    "sf_wikipages = scifactdp.joinpath(\"wiki-pages\")\n",
    "sf_wikipages_titleid = scifactdp.joinpath(\"titleid-wiki-pages\")\n",
    "\n",
    "sf_p_ls.append(write_jsonl(scifactdp / \"scifact_dev.jsonl\", sf_dev_f))\n",
    "sf_p_ls.append(write_jsonl(scifactdp / \"scifact_train.jsonl\", sf_train_f))\n",
    "sf_p_ls.append(write_jsonl(scifactdp / \"scifact_all.jsonl\", sf_train_f + sf_dev_f))\n",
    "sf_p_ls.append(write_jsonl(scifactdp / \"scifact_test.jsonl\", sf_test))\n",
    "sf_p_ls.append(write_jsonl(scifactdp / \"scifact_corpus.jsonl\", sf_corpus_f))  # copy\n",
    "\n",
    "# default no title\n",
    "sf_wikipages.mkdir(exist_ok=True)\n",
    "sf_p_ls.append(write_jsonl(sf_wikipages / \"wiki-001.jsonl\", sf_corpus_f))\n",
    "\n",
    "# title ID\n",
    "sf_wikipages_titleid.mkdir(exist_ok=True)\n",
    "sf_p_ls.append(write_jsonl(sf_wikipages_titleid / \"wiki-001.jsonl\", sf_corpus_titleid_f))\n",
    "\n",
    "sf_p_ls"
   ]
  },
  {
   "cell_type": "code",
   "execution_count": 7,
   "id": "564ece8d-2016-43c0-b4c7-7ae0ef251e21",
   "metadata": {},
   "outputs": [
    {
     "name": "stdout",
     "output_type": "stream",
     "text": [
      "Reading into database...\n"
     ]
    },
    {
     "name": "stderr",
     "output_type": "stream",
     "text": [
      "  0%|          | 0/1 [00:00<?, ?it/s]\n",
      "100%|██████████| 1/1 [00:00<00:00,  6.85it/s]\n",
      "1it [00:00,  6.85it/s]\u001b[A\n",
      "100%|██████████| 1/1 [00:00<00:00,  6.74it/s]\n"
     ]
    },
    {
     "name": "stdout",
     "output_type": "stream",
     "text": [
      "Read 5183 docs.\n",
      "Committing...\n"
     ]
    }
   ],
   "source": [
    "sf_db_p = scifactdp / \"feverised-scifact-titleid.db\"\n",
    "build_db_mod.run(data_path=sf_wikipages_titleid, save_path=sf_db_p, num_workers=5)"
   ]
  },
  {
   "cell_type": "code",
   "execution_count": 8,
   "id": "591c0851-a555-4daa-93e9-286dd93fc77c",
   "metadata": {},
   "outputs": [
    {
     "data": {
      "text/plain": [
       "PosixPath('/users/k21190024/study/fact-check-transfer-learning/scratch/dumps/feverised-scifact/scifact_all_titleid.jsonl')"
      ]
     },
     "execution_count": 8,
     "metadata": {},
     "output_type": "execute_result"
    }
   ],
   "source": [
    "titleid_sf_claims_train = Parallel(n_jobs=5)(delayed(replace_id_with_titleid)(sf_db_p, doc) for doc in sf_train_f)\n",
    "titleid_sf_claims_dev = Parallel(n_jobs=5)(delayed(replace_id_with_titleid)(sf_db_p, doc) for doc in sf_dev_f)\n",
    "titleid_sf_claims = titleid_sf_claims_train + titleid_sf_claims_dev\n",
    "\n",
    "write_jsonl(scifactdp / \"scifact_train_titleid.jsonl\", titleid_sf_claims_train)\n",
    "write_jsonl(scifactdp / \"scifact_dev_titleid.jsonl\", titleid_sf_claims_dev)\n",
    "write_jsonl(scifactdp / \"scifact_all_titleid.jsonl\", titleid_sf_claims)"
   ]
  },
  {
   "cell_type": "code",
   "execution_count": 9,
   "id": "4b9581ad-b857-4dce-9b8c-3bd723cdc901",
   "metadata": {},
   "outputs": [
    {
     "data": {
      "text/plain": [
       "PosixPath('/users/k21190024/study/fact-check-transfer-learning/scratch/dumps/feverised-scifact/scifact_all_test.jsonl')"
      ]
     },
     "execution_count": 9,
     "metadata": {},
     "output_type": "execute_result"
    }
   ],
   "source": [
    "sf_test = [{\"id\": doc[\"id\"], \"claim\": doc[\"claim\"]} for doc in titleid_sf_claims]\n",
    "\n",
    "write_jsonl(scifactdp / \"scifact_all_test.jsonl\", sf_test)"
   ]
  },
  {
   "cell_type": "markdown",
   "id": "5c9f0db2-96ea-489c-abbc-bc6f78bf9f66",
   "metadata": {},
   "source": [
    "# Climate-FEVER\n",
    "\n",
    "- Has multiple labels for each sentence for each claim"
   ]
  },
  {
   "cell_type": "code",
   "execution_count": 10,
   "id": "b7b332d4-1901-43af-8ba2-1e47a540d492",
   "metadata": {},
   "outputs": [],
   "source": [
    "cf_data = read_data(climatefp / \"climatefever.jsonl\")\n",
    "cf_paper_f, cf_assumed_f, cf_corpus_f = climatefever.feverise_climatefever(cf_data)\n",
    "cf_corpus_titleid_f = climatefever.feverise_corpus_titleid(cf_corpus_f)"
   ]
  },
  {
   "cell_type": "code",
   "execution_count": 11,
   "id": "162dfead-6806-4c9f-89bc-97cc95c11631",
   "metadata": {},
   "outputs": [
    {
     "data": {
      "text/plain": [
       "[PosixPath('/users/k21190024/study/fact-check-transfer-learning/scratch/dumps/feverised-climatefever/climatefever_paper_all.jsonl'),\n",
       " PosixPath('/users/k21190024/study/fact-check-transfer-learning/scratch/dumps/feverised-climatefever/climatefever_corpus.jsonl'),\n",
       " PosixPath('/users/k21190024/study/fact-check-transfer-learning/scratch/dumps/feverised-climatefever/wiki-pages/wiki-001.jsonl'),\n",
       " PosixPath('/users/k21190024/study/fact-check-transfer-learning/scratch/dumps/feverised-climatefever/titleid-wiki-pages/wiki-001.jsonl')]"
      ]
     },
     "execution_count": 11,
     "metadata": {},
     "output_type": "execute_result"
    }
   ],
   "source": [
    "cf_p_ls = []\n",
    "\n",
    "cf_wikipages = climatefdp.joinpath(\"wiki-pages\")\n",
    "cf_wikipages_titleid = climatefdp.joinpath(\"titleid-wiki-pages\")\n",
    "\n",
    "cf_p_ls.append(write_jsonl(climatefdp / \"climatefever_paper_all.jsonl\", cf_paper_f))\n",
    "# cf_p_ls.append(write_jsonl(climatefdp / \"climatefever_assumed_all.jsonl\", cf_assumed_f))\n",
    "cf_p_ls.append(write_jsonl(climatefdp / \"climatefever_corpus.jsonl\", cf_corpus_f))  # copy, for consistency\n",
    "\n",
    "cf_wikipages.mkdir(exist_ok=True)\n",
    "cf_p_ls.append(write_jsonl(cf_wikipages / \"wiki-001.jsonl\", cf_corpus_f))\n",
    "cf_wikipages_titleid.mkdir(exist_ok=True)\n",
    "cf_p_ls.append(write_jsonl(cf_wikipages_titleid / \"wiki-001.jsonl\", cf_corpus_titleid_f))\n",
    "\n",
    "cf_p_ls"
   ]
  },
  {
   "cell_type": "code",
   "execution_count": 13,
   "id": "c2ff580a-b228-4cf6-9ee0-6085215007b8",
   "metadata": {},
   "outputs": [
    {
     "name": "stdout",
     "output_type": "stream",
     "text": [
      "Reading into database...\n"
     ]
    },
    {
     "name": "stderr",
     "output_type": "stream",
     "text": [
      "  0%|          | 0/1 [00:00<?, ?it/s]\n",
      "1it [00:00, 30.80it/s]\n",
      "100%|██████████| 1/1 [00:00<00:00, 28.73it/s]"
     ]
    },
    {
     "name": "stdout",
     "output_type": "stream",
     "text": [
      "Read 1344 docs.\n",
      "Committing...\n"
     ]
    },
    {
     "name": "stderr",
     "output_type": "stream",
     "text": [
      "\n"
     ]
    }
   ],
   "source": [
    "cf_db_p = climatefdp / \"feverised-climatefever-titleid.db\"\n",
    "build_db_mod.run(data_path=cf_wikipages_titleid, save_path=cf_db_p, num_workers=5)"
   ]
  },
  {
   "cell_type": "code",
   "execution_count": 14,
   "id": "9503b836-788c-4d59-9de6-4156d2381a22",
   "metadata": {},
   "outputs": [
    {
     "data": {
      "text/plain": [
       "PosixPath('/users/k21190024/study/fact-check-transfer-learning/scratch/dumps/feverised-climatefever/climatefever_paper_all_titleid.jsonl')"
      ]
     },
     "execution_count": 14,
     "metadata": {},
     "output_type": "execute_result"
    }
   ],
   "source": [
    "titleid_cf_claims = Parallel(n_jobs=5)(delayed(replace_id_with_titleid)(cf_db_p, doc) for doc in cf_paper_f)\n",
    "write_jsonl(climatefdp / \"climatefever_paper_all_titleid.jsonl\", titleid_cf_claims)"
   ]
  },
  {
   "cell_type": "code",
   "execution_count": 15,
   "id": "f5a9a11f-2f14-4236-9abd-5474285d23c6",
   "metadata": {},
   "outputs": [
    {
     "data": {
      "text/plain": [
       "PosixPath('/users/k21190024/study/fact-check-transfer-learning/scratch/dumps/feverised-climatefever/climatefever_paper_all_test.jsonl')"
      ]
     },
     "execution_count": 15,
     "metadata": {},
     "output_type": "execute_result"
    }
   ],
   "source": [
    "cf_test = [{\"id\": doc[\"id\"], \"claim\": doc[\"claim\"]} for doc in titleid_cf_claims]\n",
    "\n",
    "write_jsonl(climatefdp / \"climatefever_paper_all_test.jsonl\", cf_test)"
   ]
  },
  {
   "cell_type": "markdown",
   "id": "ee42c657-c9c0-4949-975f-23bf57c15ced",
   "metadata": {},
   "source": [
    "# Count Claim-Evidence"
   ]
  },
  {
   "cell_type": "code",
   "execution_count": 16,
   "id": "dd51f29e-b57e-4ec5-b3b7-635ac87ae5ce",
   "metadata": {},
   "outputs": [],
   "source": [
    "fever_claims = read_data(feverp / \"train.jsonl\") + read_data(feverp / \"shared_task_dev.jsonl\")\n",
    "scifact_claims = read_data(scifactdp / \"scifact_all.jsonl\")\n",
    "cfever_claims = read_data(climatefdp / \"climatefever_paper_all.jsonl\")"
   ]
  },
  {
   "cell_type": "code",
   "execution_count": 19,
   "id": "eb06b245-8144-46e7-b278-f294b8ed18c6",
   "metadata": {},
   "outputs": [],
   "source": [
    "fever_cnt = count_evidences(fever_claims)\n",
    "scifact_cnt = count_evidences(scifact_claims)\n",
    "cfever_cnt = count_evidences(cfever_claims)"
   ]
  },
  {
   "cell_type": "code",
   "execution_count": 20,
   "id": "d3d4cc8f-d367-468f-ba61-48688cd7bc01",
   "metadata": {},
   "outputs": [
    {
     "name": "stderr",
     "output_type": "stream",
     "text": [
      "/tmp/ipykernel_4972/2319411148.py:2: FutureWarning: Unlike other reduction functions (e.g. `skew`, `kurtosis`), the default behavior of `mode` typically preserves the axis it acts along. In SciPy 1.11.0, this behavior will change: the default value of `keepdims` will become False, the `axis` over which the statistic is taken will be eliminated, and the value None will no longer be accepted. Set `keepdims` to True or False to avoid this warning.\n",
      "  np.min(fever_grand), scipy.stats.mode(fever_grand), np.mean(fever_grand), np.max(fever_grand)\n"
     ]
    },
    {
     "data": {
      "text/plain": [
       "(1, ModeResult(mode=array([1]), count=array([76273])), 2.3748761592308067, 338)"
      ]
     },
     "execution_count": 20,
     "metadata": {},
     "output_type": "execute_result"
    }
   ],
   "source": [
    "fever_grand = np.concatenate((np.array(fever_cnt[\"SUPPORTS\"]), np.array(fever_cnt[\"REFUTES\"])))\n",
    "np.min(fever_grand), scipy.stats.mode(fever_grand), np.mean(fever_grand), np.max(fever_grand)"
   ]
  },
  {
   "cell_type": "code",
   "execution_count": 21,
   "id": "26ee0b7b-36af-4961-ba54-c00a80b5c894",
   "metadata": {},
   "outputs": [
    {
     "name": "stderr",
     "output_type": "stream",
     "text": [
      "/tmp/ipykernel_4972/787179960.py:2: FutureWarning: Unlike other reduction functions (e.g. `skew`, `kurtosis`), the default behavior of `mode` typically preserves the axis it acts along. In SciPy 1.11.0, this behavior will change: the default value of `keepdims` will become False, the `axis` over which the statistic is taken will be eliminated, and the value None will no longer be accepted. Set `keepdims` to True or False to avoid this warning.\n",
      "  np.min(scifact_grand), scipy.stats.mode(scifact_grand), np.mean(scifact_grand), np.max(scifact_grand)\n"
     ]
    },
    {
     "data": {
      "text/plain": [
       "(1, ModeResult(mode=array([1]), count=array([321])), 2.0072150072150072, 12)"
      ]
     },
     "execution_count": 21,
     "metadata": {},
     "output_type": "execute_result"
    }
   ],
   "source": [
    "scifact_grand = np.concatenate((np.array(scifact_cnt[\"SUPPORTS\"]), np.array(scifact_cnt[\"REFUTES\"])))\n",
    "np.min(scifact_grand), scipy.stats.mode(scifact_grand), np.mean(scifact_grand), np.max(scifact_grand)"
   ]
  },
  {
   "cell_type": "code",
   "execution_count": 22,
   "id": "716874dc-b54d-4d7d-8706-5110e2e04b8f",
   "metadata": {},
   "outputs": [
    {
     "name": "stderr",
     "output_type": "stream",
     "text": [
      "/tmp/ipykernel_4972/3248033788.py:6: FutureWarning: Unlike other reduction functions (e.g. `skew`, `kurtosis`), the default behavior of `mode` typically preserves the axis it acts along. In SciPy 1.11.0, this behavior will change: the default value of `keepdims` will become False, the `axis` over which the statistic is taken will be eliminated, and the value None will no longer be accepted. Set `keepdims` to True or False to avoid this warning.\n",
      "  np.min(cfever_grand), scipy.stats.mode(cfever_grand), np.mean(cfever_grand), np.max(cfever_grand)\n"
     ]
    },
    {
     "data": {
      "text/plain": [
       "(5, ModeResult(mode=array([5]), count=array([907])), 5.343229543808834, 6)"
      ]
     },
     "execution_count": 22,
     "metadata": {},
     "output_type": "execute_result"
    }
   ],
   "source": [
    "cfever_grand = np.concatenate((\n",
    "    np.array(cfever_cnt[\"SUPPORTS\"])\n",
    "    , np.array(cfever_cnt[\"REFUTES\"])\n",
    "    , np.array(cfever_cnt[\"NOT ENOUGH INFO\"])\n",
    "))\n",
    "np.min(cfever_grand), scipy.stats.mode(cfever_grand), np.mean(cfever_grand), np.max(cfever_grand)"
   ]
  },
  {
   "cell_type": "code",
   "execution_count": null,
   "id": "5148bed6-3fba-4512-9a28-e7d03746aa56",
   "metadata": {},
   "outputs": [],
   "source": []
  }
 ],
 "metadata": {
  "kernelspec": {
   "display_name": "Python 3 (ipykernel)",
   "language": "python",
   "name": "python3"
  },
  "language_info": {
   "codemirror_mode": {
    "name": "ipython",
    "version": 3
   },
   "file_extension": ".py",
   "mimetype": "text/x-python",
   "name": "python",
   "nbconvert_exporter": "python",
   "pygments_lexer": "ipython3",
   "version": "3.8.16"
  }
 },
 "nbformat": 4,
 "nbformat_minor": 5
}
