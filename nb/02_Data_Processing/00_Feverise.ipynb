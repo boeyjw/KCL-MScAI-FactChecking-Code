{
 "cells": [
  {
   "cell_type": "code",
   "execution_count": 1,
   "id": "d5977a8b-d63a-402f-ab97-b6bc818366cf",
   "metadata": {},
   "outputs": [],
   "source": [
    "%load_ext autoreload\n",
    "%autoreload 2"
   ]
  },
  {
   "cell_type": "markdown",
   "id": "06680668-8938-42e0-9c67-d8e37f556b3f",
   "metadata": {},
   "source": [
    "# Init"
   ]
  },
  {
   "cell_type": "code",
   "execution_count": 2,
   "id": "0658a099-ab1c-4aa2-b984-a8627866abd9",
   "metadata": {},
   "outputs": [],
   "source": [
    "import sys\n",
    "sys.path.insert(0, \"../src\")\n",
    "\n",
    "import json\n",
    "import random\n",
    "import numpy as np\n",
    "import scipy\n",
    "from pathlib import Path\n",
    "from collections import Counter, defaultdict\n",
    "from joblib import Parallel, delayed\n",
    "\n",
    "import constants\n",
    "from gen.util import read_data, write_jsonl\n",
    "from feverise import scifact, climatefever, climatefever_sent, build_db_mod\n",
    "from feverise.util import replace_id_with_titleid"
   ]
  },
  {
   "cell_type": "code",
   "execution_count": 3,
   "id": "38110ad3-36fb-492e-b915-c1a2b73b7476",
   "metadata": {},
   "outputs": [
    {
     "data": {
      "text/plain": [
       "(None, None)"
      ]
     },
     "execution_count": 3,
     "metadata": {},
     "output_type": "execute_result"
    }
   ],
   "source": [
    "feverp = Path(\"/users/k21190024/study/fact-check-transfer-learning/scratch/data/fever\")\n",
    "climatefp = Path(\"/users/k21190024/study/fact-check-transfer-learning/scratch/data/climatefever\")\n",
    "scifactp = Path(\"/users/k21190024/study/fact-check-transfer-learning/scratch/data/scifact\")\n",
    "\n",
    "# climatefdp = Path(\"/users/k21190024/study/fact-check-transfer-learning/scratch/dumps/feverised-climatefever\")\n",
    "climatefdp = Path(\"/users/k21190024/study/fact-check-transfer-learning/scratch/dumps/feverised-climatefever_sent\")\n",
    "scifactdp = Path(\"/users/k21190024/study/fact-check-transfer-learning/scratch/dumps/feverised-scifact\")\n",
    "\n",
    "climatefdp.mkdir(exist_ok=True), scifactdp.mkdir(exist_ok=True)"
   ]
  },
  {
   "cell_type": "markdown",
   "id": "ba4f1a6d-6bf8-4e62-9097-babbbc68cf54",
   "metadata": {},
   "source": [
    "fever_dev_sample, wiki_sample = None, None\n",
    "\n",
    "fever_dev_sample = read_data(feverp / \"train.jsonl\")\n",
    "for p in feverp.joinpath(\"wiki-pages\").iterdir():\n",
    "    if random.uniform(0, 1) > 0.7:\n",
    "        wiki_sample = read_data(p)\n",
    "        break"
   ]
  },
  {
   "cell_type": "markdown",
   "id": "bf101145-6e9a-4d01-a459-b9dec1279841",
   "metadata": {
    "tags": []
   },
   "source": [
    "# SciFact\n",
    "\n",
    " - Every claim has only 1 type of label"
   ]
  },
  {
   "cell_type": "code",
   "execution_count": 4,
   "id": "2d52c1c0-fe11-4235-81a5-32a69a67b6ee",
   "metadata": {},
   "outputs": [],
   "source": [
    "sf_dev = read_data(scifactp / \"claims_dev.jsonl\")\n",
    "sf_test = read_data(scifactp / \"claims_test.jsonl\")\n",
    "sf_train = read_data(scifactp / \"claims_train.jsonl\")\n",
    "sf_corpus = read_data(scifactp / \"corpus.jsonl\")"
   ]
  },
  {
   "cell_type": "code",
   "execution_count": 5,
   "id": "2a60b306-7aae-4a14-a2f1-7b70115e2119",
   "metadata": {},
   "outputs": [],
   "source": [
    "sf_dev_f = scifact.feverise_claims(sf_dev)\n",
    "sf_train_f = scifact.feverise_claims(sf_train)\n",
    "\n",
    "sf_corpus_f = scifact.feverise_corpus(sf_corpus)\n",
    "sf_corpus_titleid_f = scifact.feverise_corpus_titleid(sf_corpus_f)"
   ]
  },
  {
   "cell_type": "code",
   "execution_count": 6,
   "id": "0dd4865f-c53e-48d0-97a4-cc1ba559e298",
   "metadata": {},
   "outputs": [
    {
     "data": {
      "text/plain": [
       "[PosixPath('/users/k21190024/study/fact-check-transfer-learning/scratch/dumps/feverised-scifact/scifact_dev.jsonl'),\n",
       " PosixPath('/users/k21190024/study/fact-check-transfer-learning/scratch/dumps/feverised-scifact/scifact_train.jsonl'),\n",
       " PosixPath('/users/k21190024/study/fact-check-transfer-learning/scratch/dumps/feverised-scifact/scifact_all.jsonl'),\n",
       " PosixPath('/users/k21190024/study/fact-check-transfer-learning/scratch/dumps/feverised-scifact/scifact_test.jsonl'),\n",
       " PosixPath('/users/k21190024/study/fact-check-transfer-learning/scratch/dumps/feverised-scifact/scifact_corpus.jsonl'),\n",
       " PosixPath('/users/k21190024/study/fact-check-transfer-learning/scratch/dumps/feverised-scifact/wiki-pages/wiki-001.jsonl'),\n",
       " PosixPath('/users/k21190024/study/fact-check-transfer-learning/scratch/dumps/feverised-scifact/titleid-wiki-pages/wiki-001.jsonl')]"
      ]
     },
     "execution_count": 6,
     "metadata": {},
     "output_type": "execute_result"
    }
   ],
   "source": [
    "sf_p_ls = []\n",
    "sf_wikipages = scifactdp.joinpath(\"wiki-pages\")\n",
    "sf_wikipages_titleid = scifactdp.joinpath(\"titleid-wiki-pages\")\n",
    "\n",
    "sf_p_ls.append(write_jsonl(scifactdp / \"scifact_dev.jsonl\", sf_dev_f))\n",
    "sf_p_ls.append(write_jsonl(scifactdp / \"scifact_train.jsonl\", sf_train_f))\n",
    "sf_p_ls.append(write_jsonl(scifactdp / \"scifact_all.jsonl\", sf_train_f + sf_dev_f))\n",
    "sf_p_ls.append(write_jsonl(scifactdp / \"scifact_test.jsonl\", sf_test))\n",
    "sf_p_ls.append(write_jsonl(scifactdp / \"scifact_corpus.jsonl\", sf_corpus_f))  # copy\n",
    "\n",
    "# default no title\n",
    "sf_wikipages.mkdir(exist_ok=True)\n",
    "sf_p_ls.append(write_jsonl(sf_wikipages / \"wiki-001.jsonl\", sf_corpus_f))\n",
    "\n",
    "# title ID\n",
    "sf_wikipages_titleid.mkdir(exist_ok=True)\n",
    "sf_p_ls.append(write_jsonl(sf_wikipages_titleid / \"wiki-001.jsonl\", sf_corpus_titleid_f))\n",
    "\n",
    "sf_p_ls"
   ]
  },
  {
   "cell_type": "code",
   "execution_count": 7,
   "id": "564ece8d-2016-43c0-b4c7-7ae0ef251e21",
   "metadata": {},
   "outputs": [
    {
     "name": "stdout",
     "output_type": "stream",
     "text": [
      "Reading into database...\n"
     ]
    },
    {
     "name": "stderr",
     "output_type": "stream",
     "text": [
      "  0%|          | 0/1 [00:00<?, ?it/s]\n",
      "100%|██████████| 1/1 [00:00<00:00,  6.85it/s]\n",
      "1it [00:00,  6.85it/s]\u001b[A\n",
      "100%|██████████| 1/1 [00:00<00:00,  6.74it/s]\n"
     ]
    },
    {
     "name": "stdout",
     "output_type": "stream",
     "text": [
      "Read 5183 docs.\n",
      "Committing...\n"
     ]
    }
   ],
   "source": [
    "sf_db_p = scifactdp / \"feverised-scifact-titleid.db\"\n",
    "build_db_mod.run(data_path=sf_wikipages_titleid, save_path=sf_db_p, num_workers=5)"
   ]
  },
  {
   "cell_type": "code",
   "execution_count": 8,
   "id": "591c0851-a555-4daa-93e9-286dd93fc77c",
   "metadata": {},
   "outputs": [
    {
     "data": {
      "text/plain": [
       "PosixPath('/users/k21190024/study/fact-check-transfer-learning/scratch/dumps/feverised-scifact/scifact_all_titleid.jsonl')"
      ]
     },
     "execution_count": 8,
     "metadata": {},
     "output_type": "execute_result"
    }
   ],
   "source": [
    "titleid_sf_claims_train = Parallel(n_jobs=5)(delayed(replace_id_with_titleid)(sf_db_p, doc) for doc in sf_train_f)\n",
    "titleid_sf_claims_dev = Parallel(n_jobs=5)(delayed(replace_id_with_titleid)(sf_db_p, doc) for doc in sf_dev_f)\n",
    "titleid_sf_claims = titleid_sf_claims_train + titleid_sf_claims_dev\n",
    "\n",
    "write_jsonl(scifactdp / \"scifact_train_titleid.jsonl\", titleid_sf_claims_train)\n",
    "write_jsonl(scifactdp / \"scifact_dev_titleid.jsonl\", titleid_sf_claims_dev)\n",
    "write_jsonl(scifactdp / \"scifact_all_titleid.jsonl\", titleid_sf_claims)"
   ]
  },
  {
   "cell_type": "code",
   "execution_count": 9,
   "id": "4b9581ad-b857-4dce-9b8c-3bd723cdc901",
   "metadata": {},
   "outputs": [
    {
     "data": {
      "text/plain": [
       "PosixPath('/users/k21190024/study/fact-check-transfer-learning/scratch/dumps/feverised-scifact/scifact_all_test.jsonl')"
      ]
     },
     "execution_count": 9,
     "metadata": {},
     "output_type": "execute_result"
    }
   ],
   "source": [
    "sf_test = [{\"id\": doc[\"id\"], \"claim\": doc[\"claim\"]} for doc in titleid_sf_claims]\n",
    "\n",
    "write_jsonl(scifactdp / \"scifact_all_test.jsonl\", sf_test)"
   ]
  },
  {
   "cell_type": "markdown",
   "id": "5c9f0db2-96ea-489c-abbc-bc6f78bf9f66",
   "metadata": {},
   "source": [
    "# Climate-FEVER\n",
    "\n",
    "- Has multiple labels for each sentence for each claim"
   ]
  },
  {
   "cell_type": "markdown",
   "id": "93d3ae26-5032-47e0-9d2b-75943a728c6b",
   "metadata": {},
   "source": [
    "## Pure claims\n",
    "\n",
    "Only evidences that support the claim are included, used for concatenated sentence model training"
   ]
  },
  {
   "cell_type": "code",
   "execution_count": 4,
   "id": "b7b332d4-1901-43af-8ba2-1e47a540d492",
   "metadata": {},
   "outputs": [],
   "source": [
    "cf_data = read_data(climatefp / \"climatefever.jsonl\")\n",
    "cf_paper_f, cf_assumed_f, cf_corpus_f, cf_lineid_translator = climatefever.feverise_climatefever(cf_data)\n",
    "cf_corpus_titleid_f = climatefever.feverise_corpus_titleid(cf_corpus_f)"
   ]
  },
  {
   "cell_type": "code",
   "execution_count": 5,
   "id": "162dfead-6806-4c9f-89bc-97cc95c11631",
   "metadata": {},
   "outputs": [
    {
     "data": {
      "text/plain": [
       "[PosixPath('/users/k21190024/study/fact-check-transfer-learning/scratch/dumps/feverised-climatefever_v2/climatefever_paper_all.jsonl'),\n",
       " PosixPath('/users/k21190024/study/fact-check-transfer-learning/scratch/dumps/feverised-climatefever_v2/climatefever_corpus.jsonl'),\n",
       " PosixPath('/users/k21190024/study/fact-check-transfer-learning/scratch/dumps/feverised-climatefever_v2/wiki-pages/wiki-001.jsonl'),\n",
       " PosixPath('/users/k21190024/study/fact-check-transfer-learning/scratch/dumps/feverised-climatefever_v2/titleid-wiki-pages/wiki-001.jsonl'),\n",
       " '/users/k21190024/study/fact-check-transfer-learning/scratch/dumps/feverised-climatefever_v2/lineid_translator.json']"
      ]
     },
     "execution_count": 5,
     "metadata": {},
     "output_type": "execute_result"
    }
   ],
   "source": [
    "cf_p_ls = []\n",
    "\n",
    "cf_wikipages = climatefdp.joinpath(\"wiki-pages\")\n",
    "cf_wikipages_titleid = climatefdp.joinpath(\"titleid-wiki-pages\")\n",
    "\n",
    "cf_p_ls.append(write_jsonl(climatefdp / \"climatefever_paper_all.jsonl\", cf_paper_f))\n",
    "# cf_p_ls.append(write_jsonl(climatefdp / \"climatefever_assumed_all.jsonl\", cf_assumed_f))\n",
    "cf_p_ls.append(write_jsonl(climatefdp / \"climatefever_corpus.jsonl\", cf_corpus_f))  # copy, for consistency\n",
    "\n",
    "cf_wikipages.mkdir(exist_ok=True)\n",
    "cf_p_ls.append(write_jsonl(cf_wikipages / \"wiki-001.jsonl\", cf_corpus_f))\n",
    "cf_wikipages_titleid.mkdir(exist_ok=True)\n",
    "cf_p_ls.append(write_jsonl(cf_wikipages_titleid / \"wiki-001.jsonl\", cf_corpus_titleid_f))\n",
    "\n",
    "with climatefdp.joinpath(\"lineid_translator.json\").open(\"w\") as fn:\n",
    "    json.dump(cf_lineid_translator, fn)\n",
    "cf_p_ls.append(fn.name)\n",
    "\n",
    "cf_p_ls"
   ]
  },
  {
   "cell_type": "code",
   "execution_count": 6,
   "id": "c2ff580a-b228-4cf6-9ee0-6085215007b8",
   "metadata": {},
   "outputs": [
    {
     "name": "stdout",
     "output_type": "stream",
     "text": [
      "Reading into database...\n"
     ]
    },
    {
     "name": "stderr",
     "output_type": "stream",
     "text": [
      "  0%|          | 0/1 [00:00<?, ?it/s]\n",
      "1it [00:00, 26.84it/s]\n",
      "100%|██████████| 1/1 [00:00<00:00, 25.41it/s]"
     ]
    },
    {
     "name": "stdout",
     "output_type": "stream",
     "text": [
      "Read 1344 docs.\n",
      "Committing...\n"
     ]
    },
    {
     "name": "stderr",
     "output_type": "stream",
     "text": [
      "\n"
     ]
    }
   ],
   "source": [
    "cf_db_p = climatefdp / \"feverised-climatefever-titleid.db\"\n",
    "build_db_mod.run(data_path=cf_wikipages_titleid, save_path=cf_db_p, num_workers=5)"
   ]
  },
  {
   "cell_type": "code",
   "execution_count": 7,
   "id": "9503b836-788c-4d59-9de6-4156d2381a22",
   "metadata": {},
   "outputs": [
    {
     "data": {
      "text/plain": [
       "PosixPath('/users/k21190024/study/fact-check-transfer-learning/scratch/dumps/feverised-climatefever_v2/climatefever_paper_all_titleid.jsonl')"
      ]
     },
     "execution_count": 7,
     "metadata": {},
     "output_type": "execute_result"
    }
   ],
   "source": [
    "titleid_cf_claims = Parallel(n_jobs=5)(delayed(replace_id_with_titleid)(cf_db_p, doc) for doc in cf_paper_f)\n",
    "write_jsonl(climatefdp / \"climatefever_paper_all_titleid.jsonl\", titleid_cf_claims)"
   ]
  },
  {
   "cell_type": "code",
   "execution_count": 8,
   "id": "f5a9a11f-2f14-4236-9abd-5474285d23c6",
   "metadata": {},
   "outputs": [
    {
     "data": {
      "text/plain": [
       "PosixPath('/users/k21190024/study/fact-check-transfer-learning/scratch/dumps/feverised-climatefever_v2/climatefever_paper_all_test.jsonl')"
      ]
     },
     "execution_count": 8,
     "metadata": {},
     "output_type": "execute_result"
    }
   ],
   "source": [
    "cf_test = [{\"id\": doc[\"id\"], \"claim\": doc[\"claim\"]} for doc in titleid_cf_claims]\n",
    "\n",
    "write_jsonl(climatefdp / \"climatefever_paper_all_test.jsonl\", cf_test)"
   ]
  },
  {
   "cell_type": "markdown",
   "id": "b6b28dd0-9d10-476d-b797-f08c8c0cdcc4",
   "metadata": {},
   "source": [
    "## Original claims\n",
    "\n",
    "Uses the original Climate-FEVER impure claim-evidence pair (evidence may not entail the claim)"
   ]
  },
  {
   "cell_type": "code",
   "execution_count": 4,
   "id": "8aa09530-2cb4-4f1b-b210-8c28d90ddedb",
   "metadata": {},
   "outputs": [],
   "source": [
    "cf_data = read_data(climatefp / \"climatefever.jsonl\")\n",
    "cf_paper_f, cf_assumed_f, cf_corpus_f, cf_lineid_translator = climatefever_sent.feverise_climatefever(cf_data)\n",
    "cf_corpus_titleid_f = climatefever.feverise_corpus_titleid(cf_corpus_f)"
   ]
  },
  {
   "cell_type": "code",
   "execution_count": 5,
   "id": "eb2c9265-af46-443f-a4e2-3edde52ab7c3",
   "metadata": {},
   "outputs": [
    {
     "data": {
      "text/plain": [
       "[PosixPath('/users/k21190024/study/fact-check-transfer-learning/scratch/dumps/feverised-climatefever_v2/climatefever_paper_all.jsonl'),\n",
       " PosixPath('/users/k21190024/study/fact-check-transfer-learning/scratch/dumps/feverised-climatefever_v2/climatefever_corpus.jsonl'),\n",
       " PosixPath('/users/k21190024/study/fact-check-transfer-learning/scratch/dumps/feverised-climatefever_v2/wiki-pages/wiki-001.jsonl'),\n",
       " PosixPath('/users/k21190024/study/fact-check-transfer-learning/scratch/dumps/feverised-climatefever_v2/titleid-wiki-pages/wiki-001.jsonl'),\n",
       " '/users/k21190024/study/fact-check-transfer-learning/scratch/dumps/feverised-climatefever_v2/lineid_translator.json']"
      ]
     },
     "execution_count": 5,
     "metadata": {},
     "output_type": "execute_result"
    }
   ],
   "source": [
    "cf_p_ls = []\n",
    "\n",
    "cf_wikipages = climatefdp.joinpath(\"wiki-pages\")\n",
    "cf_wikipages_titleid = climatefdp.joinpath(\"titleid-wiki-pages\")\n",
    "\n",
    "cf_p_ls.append(write_jsonl(climatefdp / \"climatefever_paper_all.jsonl\", cf_paper_f))\n",
    "# cf_p_ls.append(write_jsonl(climatefdp / \"climatefever_assumed_all.jsonl\", cf_assumed_f))\n",
    "cf_p_ls.append(write_jsonl(climatefdp / \"climatefever_corpus.jsonl\", cf_corpus_f))  # copy, for consistency\n",
    "\n",
    "cf_wikipages.mkdir(exist_ok=True)\n",
    "cf_p_ls.append(write_jsonl(cf_wikipages / \"wiki-001.jsonl\", cf_corpus_f))\n",
    "cf_wikipages_titleid.mkdir(exist_ok=True)\n",
    "cf_p_ls.append(write_jsonl(cf_wikipages_titleid / \"wiki-001.jsonl\", cf_corpus_titleid_f))\n",
    "\n",
    "with climatefdp.joinpath(\"lineid_translator.json\").open(\"w\") as fn:\n",
    "    json.dump(cf_lineid_translator, fn)\n",
    "cf_p_ls.append(fn.name)\n",
    "\n",
    "cf_p_ls"
   ]
  },
  {
   "cell_type": "code",
   "execution_count": 6,
   "id": "b43ec1b1-5a0c-4a10-92e5-c82e1b97edeb",
   "metadata": {},
   "outputs": [
    {
     "name": "stdout",
     "output_type": "stream",
     "text": [
      "Reading into database...\n"
     ]
    },
    {
     "name": "stderr",
     "output_type": "stream",
     "text": [
      "  0%|          | 0/1 [00:00<?, ?it/s]\n",
      "1it [00:00, 26.84it/s]\n",
      "100%|██████████| 1/1 [00:00<00:00, 25.41it/s]"
     ]
    },
    {
     "name": "stdout",
     "output_type": "stream",
     "text": [
      "Read 1344 docs.\n",
      "Committing...\n"
     ]
    },
    {
     "name": "stderr",
     "output_type": "stream",
     "text": [
      "\n"
     ]
    }
   ],
   "source": [
    "cf_db_p = climatefdp / \"feverised-climatefever-titleid.db\"\n",
    "build_db_mod.run(data_path=cf_wikipages_titleid, save_path=cf_db_p, num_workers=5)"
   ]
  },
  {
   "cell_type": "code",
   "execution_count": 7,
   "id": "1f1d11f9-a01c-4324-bbd7-4b77a45e091e",
   "metadata": {},
   "outputs": [
    {
     "data": {
      "text/plain": [
       "PosixPath('/users/k21190024/study/fact-check-transfer-learning/scratch/dumps/feverised-climatefever_v2/climatefever_paper_all_titleid.jsonl')"
      ]
     },
     "execution_count": 7,
     "metadata": {},
     "output_type": "execute_result"
    }
   ],
   "source": [
    "titleid_cf_claims = Parallel(n_jobs=5)(delayed(replace_id_with_titleid)(cf_db_p, doc) for doc in cf_paper_f)\n",
    "write_jsonl(climatefdp / \"climatefever_paper_all_titleid.jsonl\", titleid_cf_claims)"
   ]
  },
  {
   "cell_type": "code",
   "execution_count": 8,
   "id": "0eda0d47-3ee2-4119-9ded-47c5eb274408",
   "metadata": {},
   "outputs": [
    {
     "data": {
      "text/plain": [
       "PosixPath('/users/k21190024/study/fact-check-transfer-learning/scratch/dumps/feverised-climatefever_v2/climatefever_paper_all_test.jsonl')"
      ]
     },
     "execution_count": 8,
     "metadata": {},
     "output_type": "execute_result"
    }
   ],
   "source": [
    "cf_test = [{\"id\": doc[\"id\"], \"claim\": doc[\"claim\"]} for doc in titleid_cf_claims]\n",
    "\n",
    "write_jsonl(climatefdp / \"climatefever_paper_all_test.jsonl\", cf_test)"
   ]
  },
  {
   "cell_type": "code",
   "execution_count": null,
   "id": "d3ae541a-cd9b-4a5d-a489-fd10848c9147",
   "metadata": {},
   "outputs": [],
   "source": []
  }
 ],
 "metadata": {
  "kernelspec": {
   "display_name": "Python 3 (ipykernel)",
   "language": "python",
   "name": "python3"
  },
  "language_info": {
   "codemirror_mode": {
    "name": "ipython",
    "version": 3
   },
   "file_extension": ".py",
   "mimetype": "text/x-python",
   "name": "python",
   "nbconvert_exporter": "python",
   "pygments_lexer": "ipython3",
   "version": "3.8.16"
  }
 },
 "nbformat": 4,
 "nbformat_minor": 5
}
