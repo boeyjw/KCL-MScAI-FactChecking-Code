{
 "cells": [
  {
   "cell_type": "code",
   "execution_count": 1,
   "id": "e4e2d174-11e8-4a3f-bc80-e9b5ef1da61c",
   "metadata": {},
   "outputs": [],
   "source": [
    "%load_ext autoreload\n",
    "%autoreload 2"
   ]
  },
  {
   "cell_type": "markdown",
   "id": "262bce6f-024a-4780-9113-a9117559f5c8",
   "metadata": {},
   "source": [
    "# Init"
   ]
  },
  {
   "cell_type": "code",
   "execution_count": 2,
   "id": "0046d9cd-d05f-4964-9b8b-801d8506e5e6",
   "metadata": {},
   "outputs": [],
   "source": [
    "import sys\n",
    "sys.path.insert(0, \"../src\")\n",
    "from pathlib import Path\n",
    "\n",
    "from joblib import Parallel, delayed\n",
    "\n",
    "from retrieval.retrieval import BM25DocumentRetriever"
   ]
  },
  {
   "cell_type": "markdown",
   "id": "58a18297-4acc-440c-a705-9460d14669ea",
   "metadata": {},
   "source": [
    "# FEVER"
   ]
  },
  {
   "cell_type": "code",
   "execution_count": 3,
   "id": "64fbde9c-5350-4122-bb7c-899cd42a6273",
   "metadata": {},
   "outputs": [],
   "source": [
    "fever_inp = Path(\"/users/k21190024/study/fact-check-transfer-learning/scratch/data/fever\")\n",
    "fever_db = \"/users/k21190024/study/fact-check-transfer-learning/scratch/data/fever/fever.db\"\n",
    "\n",
    "fever_outp = Path(\"/users/k21190024/study/fact-check-transfer-learning/scratch/dumps/fever-nei-sampled\")"
   ]
  },
  {
   "cell_type": "code",
   "execution_count": 4,
   "id": "560664e8-8962-42de-a346-33be6fb8427a",
   "metadata": {},
   "outputs": [],
   "source": [
    "def run_document_retrieve(in_file, out_file, db_path, pyserini_index_name):\n",
    "    doc_retrieval = BM25DocumentRetriever(\n",
    "        in_file, \n",
    "        fever_db, \n",
    "        pyserini_index_name=pyserini_index_name, \n",
    "        bm25_top_k=5, \n",
    "        n_jobs=20\n",
    "    )\n",
    "    doc_retrieval.batch_document_retrieve()\n",
    "    doc_retrieval.to_jsonl(out_file, overwrite=True)\n",
    "    \n",
    "    return 0"
   ]
  },
  {
   "cell_type": "code",
   "execution_count": 5,
   "id": "3d279d6b-32cc-47bf-80e2-9f8e15516686",
   "metadata": {
    "collapsed": true,
    "jupyter": {
     "outputs_hidden": true
    },
    "tags": []
   },
   "outputs": [
    {
     "name": "stdout",
     "output_type": "stream",
     "text": [
      "Attempting to initialize pre-built index beir-v1.0.0-fever-flat.\n",
      "/users/k21190024/.cache/pyserini/indexes/lucene-index.beir-v1.0.0-fever-flat.20220501.1842ee.63cd5f369b5952386f138efe45571d41 already exists, skipping download.\n",
      "Initializing beir-v1.0.0-fever-flat...\n",
      "WARNING: sun.reflect.Reflection.getCallerClass is not supported. This will impact performance.\n",
      "2023-07-01 14:18:56,503 INFO  [pool-2-thread-17] search.SimpleSearcher (SimpleSearcher.java:580) - Retrieving query 500 (0.027 s/query)\n",
      "2023-07-01 14:19:00,359 INFO  [pool-2-thread-17] search.SimpleSearcher (SimpleSearcher.java:580) - Retrieving query 1000 (0.017 s/query)\n",
      "2023-07-01 14:19:03,492 INFO  [pool-2-thread-11] search.SimpleSearcher (SimpleSearcher.java:580) - Retrieving query 1500 (0.014 s/query)\n",
      "2023-07-01 14:19:05,999 INFO  [pool-2-thread-11] search.SimpleSearcher (SimpleSearcher.java:580) - Retrieving query 2000 (0.011 s/query)\n",
      "2023-07-01 14:19:08,485 INFO  [pool-2-thread-14] search.SimpleSearcher (SimpleSearcher.java:580) - Retrieving query 2500 (0.010 s/query)\n",
      "2023-07-01 14:19:10,661 INFO  [pool-2-thread-10] search.SimpleSearcher (SimpleSearcher.java:580) - Retrieving query 3000 (0.009 s/query)\n",
      "2023-07-01 14:19:12,838 INFO  [pool-2-thread-14] search.SimpleSearcher (SimpleSearcher.java:580) - Retrieving query 3500 (0.008 s/query)\n",
      "2023-07-01 14:19:15,068 INFO  [pool-2-thread-1] search.SimpleSearcher (SimpleSearcher.java:580) - Retrieving query 4000 (0.008 s/query)\n",
      "2023-07-01 14:19:17,742 INFO  [pool-2-thread-14] search.SimpleSearcher (SimpleSearcher.java:580) - Retrieving query 4500 (0.008 s/query)\n",
      "2023-07-01 14:19:20,188 INFO  [pool-2-thread-16] search.SimpleSearcher (SimpleSearcher.java:580) - Retrieving query 5000 (0.007 s/query)\n",
      "2023-07-01 14:19:22,662 INFO  [pool-2-thread-20] search.SimpleSearcher (SimpleSearcher.java:580) - Retrieving query 5500 (0.007 s/query)\n",
      "2023-07-01 14:19:25,119 INFO  [pool-2-thread-1] search.SimpleSearcher (SimpleSearcher.java:580) - Retrieving query 6000 (0.007 s/query)\n",
      "2023-07-01 14:19:27,367 INFO  [pool-2-thread-11] search.SimpleSearcher (SimpleSearcher.java:580) - Retrieving query 6500 (0.007 s/query)\n",
      "2023-07-01 14:19:29,614 INFO  [pool-2-thread-18] search.SimpleSearcher (SimpleSearcher.java:580) - Retrieving query 7000 (0.007 s/query)\n",
      "2023-07-01 14:19:31,907 INFO  [pool-2-thread-12] search.SimpleSearcher (SimpleSearcher.java:580) - Retrieving query 7500 (0.007 s/query)\n",
      "2023-07-01 14:19:34,125 INFO  [pool-2-thread-13] search.SimpleSearcher (SimpleSearcher.java:580) - Retrieving query 8000 (0.006 s/query)\n",
      "2023-07-01 14:19:36,548 INFO  [pool-2-thread-1] search.SimpleSearcher (SimpleSearcher.java:580) - Retrieving query 8500 (0.006 s/query)\n",
      "2023-07-01 14:19:38,775 INFO  [pool-2-thread-2] search.SimpleSearcher (SimpleSearcher.java:580) - Retrieving query 9000 (0.006 s/query)\n",
      "2023-07-01 14:19:41,147 INFO  [pool-2-thread-15] search.SimpleSearcher (SimpleSearcher.java:580) - Retrieving query 9500 (0.006 s/query)\n",
      "2023-07-01 14:19:43,151 INFO  [main] search.SimpleSearcher (SimpleSearcher.java:590) - 99.93 percent completed\n"
     ]
    },
    {
     "name": "stderr",
     "output_type": "stream",
     "text": [
      "100%|██████████| 9999/9999 [03:55<00:00, 42.49it/s] \n"
     ]
    }
   ],
   "source": [
    "datasets = [\"dev\", \"train\", \"test\"]\n",
    "n = 5\n",
    "\n",
    "for data in datasets:\n",
    "    doc_retrieval = BM25DocumentRetriever(\n",
    "        fever_inp / f\"{data}.jsonl\", \n",
    "        fever_db, \n",
    "        pyserini_index_name=\"beir-v1.0.0-fever-flat\", \n",
    "        bm25_top_k=n, \n",
    "        n_jobs=20\n",
    "    )\n",
    "    doc_retrieval.batch_document_retrieve()\n",
    "    doc_retrieval.to_jsonl(fever_outp / f\"{data}.n{n}.jsonl\", overwrite=True)"
   ]
  },
  {
   "cell_type": "markdown",
   "id": "a23eab3c-ce8c-44a7-bb1d-92f99f142363",
   "metadata": {},
   "source": [
    "# Climate-FEVER"
   ]
  },
  {
   "cell_type": "code",
   "execution_count": 6,
   "id": "7d89c008-0407-4630-bd6d-3267e3895fed",
   "metadata": {},
   "outputs": [],
   "source": [
    "cfever_inp = Path(\"/users/k21190024/study/fact-check-transfer-learning/scratch/dumps/feverised-climatefever/finetune/baseline\")\n",
    "cfever_db = \"/users/k21190024/study/fact-check-transfer-learning/scratch/dumps/feverised-climatefever/feverised-climatefever-titleid.db\"\n",
    "\n",
    "cfever_outp = Path(\"/users/k21190024/study/fact-check-transfer-learning/scratch/dumps/climatefever-neg-sampled\")"
   ]
  },
  {
   "cell_type": "code",
   "execution_count": 6,
   "id": "6b71d9cd-fc1a-4abe-a7b6-5421ea7115a8",
   "metadata": {},
   "outputs": [
    {
     "ename": "NameError",
     "evalue": "name 'cfever_inp' is not defined",
     "output_type": "error",
     "traceback": [
      "\u001b[0;31m---------------------------------------------------------------------------\u001b[0m",
      "\u001b[0;31mNameError\u001b[0m                                 Traceback (most recent call last)",
      "Cell \u001b[0;32mIn[6], line 7\u001b[0m\n\u001b[1;32m      3\u001b[0m n \u001b[38;5;241m=\u001b[39m \u001b[38;5;241m5\u001b[39m\n\u001b[1;32m      5\u001b[0m \u001b[38;5;28;01mfor\u001b[39;00m data \u001b[38;5;129;01min\u001b[39;00m datasets:\n\u001b[1;32m      6\u001b[0m     doc_retrieval \u001b[38;5;241m=\u001b[39m BM25DocumentRetriever(\n\u001b[0;32m----> 7\u001b[0m         \u001b[43mcfever_inp\u001b[49m \u001b[38;5;241m/\u001b[39m \u001b[38;5;124mf\u001b[39m\u001b[38;5;124m\"\u001b[39m\u001b[38;5;124mclimatefever_\u001b[39m\u001b[38;5;132;01m{\u001b[39;00mdata\u001b[38;5;132;01m}\u001b[39;00m\u001b[38;5;124m.jsonl\u001b[39m\u001b[38;5;124m\"\u001b[39m, \n\u001b[1;32m      8\u001b[0m         cfever_db, \n\u001b[1;32m      9\u001b[0m         pyserini_index_name\u001b[38;5;241m=\u001b[39m\u001b[38;5;124m\"\u001b[39m\u001b[38;5;124mbeir-v1.0.0-climate-fever-flat\u001b[39m\u001b[38;5;124m\"\u001b[39m, \n\u001b[1;32m     10\u001b[0m         bm25_top_k\u001b[38;5;241m=\u001b[39m\u001b[38;5;241m100\u001b[39m, \n\u001b[1;32m     11\u001b[0m         n_jobs\u001b[38;5;241m=\u001b[39m\u001b[38;5;241m20\u001b[39m\n\u001b[1;32m     12\u001b[0m     )\n\u001b[1;32m     13\u001b[0m     doc_retrieval\u001b[38;5;241m.\u001b[39mbatch_document_retrieve()\n\u001b[1;32m     14\u001b[0m     \u001b[38;5;28;01mfor\u001b[39;00m doc \u001b[38;5;129;01min\u001b[39;00m doc_retrieval\u001b[38;5;241m.\u001b[39mresults:\n",
      "\u001b[0;31mNameError\u001b[0m: name 'cfever_inp' is not defined"
     ]
    }
   ],
   "source": [
    "datasets = [\"train\", \"dev\"]\n",
    "n = 5\n",
    "\n",
    "for data in datasets:\n",
    "    doc_retrieval = BM25DocumentRetriever(\n",
    "        cfever_inp / f\"climatefever_{data}.jsonl\", \n",
    "        cfever_db, \n",
    "        pyserini_index_name=\"beir-v1.0.0-climate-fever-flat\", \n",
    "        bm25_top_k=100, \n",
    "        n_jobs=20\n",
    "    )\n",
    "    doc_retrieval.batch_document_retrieve()\n",
    "    for doc in doc_retrieval.results:\n",
    "        doc[\"predicted_pages\"] = doc[\"predicted_pages\"][:n]\n",
    "        doc[\"predicted_pages_score\"] = [page for page in doc[\"predicted_pages_score\"] if page[0] in doc[\"predicted_pages\"]]\n",
    "    doc_retrieval.to_jsonl(cfever_outp / f\"{data}.n{n}.jsonl\", overwrite=True)"
   ]
  },
  {
   "cell_type": "code",
   "execution_count": null,
   "id": "2cb4866a-4adf-4f40-9743-34591043a932",
   "metadata": {},
   "outputs": [],
   "source": []
  }
 ],
 "metadata": {
  "kernelspec": {
   "display_name": "Python 3 (ipykernel)",
   "language": "python",
   "name": "python3"
  },
  "language_info": {
   "codemirror_mode": {
    "name": "ipython",
    "version": 3
   },
   "file_extension": ".py",
   "mimetype": "text/x-python",
   "name": "python",
   "nbconvert_exporter": "python",
   "pygments_lexer": "ipython3",
   "version": "3.8.16"
  }
 },
 "nbformat": 4,
 "nbformat_minor": 5
}
