{
 "cells": [
  {
   "cell_type": "code",
   "execution_count": 1,
   "id": "06261b32-2445-4b84-9f90-18b1a852de88",
   "metadata": {},
   "outputs": [],
   "source": [
    "%load_ext autoreload\n",
    "%autoreload 2"
   ]
  },
  {
   "cell_type": "markdown",
   "id": "f47e977e-737f-45f2-b40b-ee0f0ba9740b",
   "metadata": {},
   "source": [
    "# Init"
   ]
  },
  {
   "cell_type": "code",
   "execution_count": 2,
   "id": "941491d1-5339-4d25-9a04-60c5af519fec",
   "metadata": {},
   "outputs": [],
   "source": [
    "import sys\n",
    "import os\n",
    "sys.path.insert(0, \"../src\")\n",
    "sys.path.append(\"/users/k21190024/study/fact-checking-repos/fever/teamathene/src\")\n",
    "\n",
    "import json\n",
    "import random\n",
    "import pickle as pkl\n",
    "import numpy as np\n",
    "import scipy\n",
    "from pathlib import Path\n",
    "from collections import Counter, defaultdict\n",
    "from joblib import Parallel, delayed\n",
    "\n",
    "import constants\n",
    "from evaluate import score\n",
    "from gen.util import read_data, write_jsonl"
   ]
  },
  {
   "cell_type": "markdown",
   "id": "5970f10d-f972-48c0-8613-cbbf158fe296",
   "metadata": {},
   "source": [
    "# Inspect Data class"
   ]
  },
  {
   "cell_type": "code",
   "execution_count": 3,
   "id": "7848b7f7-b6fe-446b-a733-0a33fae018dc",
   "metadata": {
    "tags": []
   },
   "outputs": [
    {
     "name": "stderr",
     "output_type": "stream",
     "text": [
      "Deprecated cache directory found (/users/k21190024/.allennlp/datasets).  Please remove this directory from your system to free up space.\n",
      "/scratch/users/k21190024/envs/conda/fever-teamathene/lib/python3.6/site-packages/tensorflow/python/framework/dtypes.py:526: FutureWarning: Passing (type, 1) or '1type' as a synonym of type is deprecated; in a future version of numpy, it will be understood as (type, (1,)) / '(1,)type'.\n",
      "  _np_qint8 = np.dtype([(\"qint8\", np.int8, 1)])\n",
      "/scratch/users/k21190024/envs/conda/fever-teamathene/lib/python3.6/site-packages/tensorflow/python/framework/dtypes.py:527: FutureWarning: Passing (type, 1) or '1type' as a synonym of type is deprecated; in a future version of numpy, it will be understood as (type, (1,)) / '(1,)type'.\n",
      "  _np_quint8 = np.dtype([(\"quint8\", np.uint8, 1)])\n",
      "/scratch/users/k21190024/envs/conda/fever-teamathene/lib/python3.6/site-packages/tensorflow/python/framework/dtypes.py:528: FutureWarning: Passing (type, 1) or '1type' as a synonym of type is deprecated; in a future version of numpy, it will be understood as (type, (1,)) / '(1,)type'.\n",
      "  _np_qint16 = np.dtype([(\"qint16\", np.int16, 1)])\n",
      "/scratch/users/k21190024/envs/conda/fever-teamathene/lib/python3.6/site-packages/tensorflow/python/framework/dtypes.py:529: FutureWarning: Passing (type, 1) or '1type' as a synonym of type is deprecated; in a future version of numpy, it will be understood as (type, (1,)) / '(1,)type'.\n",
      "  _np_quint16 = np.dtype([(\"quint16\", np.uint16, 1)])\n",
      "/scratch/users/k21190024/envs/conda/fever-teamathene/lib/python3.6/site-packages/tensorflow/python/framework/dtypes.py:530: FutureWarning: Passing (type, 1) or '1type' as a synonym of type is deprecated; in a future version of numpy, it will be understood as (type, (1,)) / '(1,)type'.\n",
      "  _np_qint32 = np.dtype([(\"qint32\", np.int32, 1)])\n",
      "/scratch/users/k21190024/envs/conda/fever-teamathene/lib/python3.6/site-packages/tensorflow/python/framework/dtypes.py:535: FutureWarning: Passing (type, 1) or '1type' as a synonym of type is deprecated; in a future version of numpy, it will be understood as (type, (1,)) / '(1,)type'.\n",
      "  np_resource = np.dtype([(\"resource\", np.ubyte, 1)])\n"
     ]
    },
    {
     "name": "stdout",
     "output_type": "stream",
     "text": [
      "\n",
      "WARNING: The TensorFlow contrib module will not be included in TensorFlow 2.0.\n",
      "For more information, please see:\n",
      "  * https://github.com/tensorflow/community/blob/master/rfcs/20180907-contrib-sunset.md\n",
      "  * https://github.com/tensorflow/addons\n",
      "If you depend on functionality not listed there, please file an issue.\n",
      "\n"
     ]
    }
   ],
   "source": [
    "from athene.retrieval.sentences.data_processing.data import Data\n",
    "from athene.utils.config import Config\n",
    "from scripts.athene import pipeline\n",
    "\n",
    "os.chdir(\"/users/k21190024/study/fact-checking-repos/fever/teamathene\")\n",
    "Config.load_config(\"/users/k21190024/study/fact-checking-repos/fever/teamathene/conf/fever_config.json\")"
   ]
  },
  {
   "cell_type": "code",
   "execution_count": 4,
   "id": "817e2cc7-162e-46f4-ac46-fa3c92a4caa8",
   "metadata": {},
   "outputs": [
    {
     "name": "stdout",
     "output_type": "stream",
     "text": [
      "./data/cfever-embedding/test_data.p\n",
      "./data/fasttext/wiki.en.bin\n",
      "Embedding size: 10644\n",
      "embed_dict size 10644\n",
      "Generate numpy embed: (10645, 300)\n"
     ]
    }
   ],
   "source": [
    "args = pipeline._construct_args_for_sentence_retrieval(phase=\"data\")\n",
    "\n",
    "data = Data(args.embedding_path, args.train_data, args.dev_data, args.test_data, args.fasttext_path,\n",
    "                num_negatives=args.num_negatives, h_max_length=args.c_max_length, s_max_length=args.s_max_length,\n",
    "                random_seed=args.random_seed, reserve_embed=args.reserve_embed, db_filepath=args.db_path)"
   ]
  },
  {
   "cell_type": "code",
   "execution_count": 10,
   "id": "59fab7c3-1c7c-4663-aecf-68e773d843e1",
   "metadata": {},
   "outputs": [],
   "source": [
    "X_train = data.train_data_loader(os.path.join(data.embedding_path, \"train_sample.p\"), data.train_file, num_samples=data.num_negatives)\n",
    "f_train = read_data(Path(\"/users/k21190024/study/fact-checking-repos/fever/teamathene/data/fever-data/train.jsonl\"))"
   ]
  },
  {
   "cell_type": "code",
   "execution_count": 11,
   "id": "3f171c92-c740-4499-a360-0afb25b4fd3f",
   "metadata": {},
   "outputs": [],
   "source": [
    "X_train_claims = set([i[0] for i in X_train])\n",
    "f_train_claims = set([i[\"claim\"] for i in f_train])\n",
    "train_included = [i[\"claim\"] in X_train_claims for i in f_train]\n",
    "tr_in = [j for i, j in zip(train_included, f_train) if i]\n",
    "tr_out = [j for i, j in zip(train_included, f_train) if not i]"
   ]
  },
  {
   "cell_type": "code",
   "execution_count": 12,
   "id": "7a7e27af-4374-4c21-b2d6-efbf681416e1",
   "metadata": {},
   "outputs": [
    {
     "data": {
      "text/plain": [
       "(0, 145449)"
      ]
     },
     "execution_count": 12,
     "metadata": {},
     "output_type": "execute_result"
    }
   ],
   "source": [
    "len(tr_in), len(tr_out)"
   ]
  },
  {
   "cell_type": "code",
   "execution_count": 13,
   "id": "103eac06-287e-4b92-9918-7e7c3c1a9356",
   "metadata": {},
   "outputs": [
    {
     "data": {
      "text/plain": [
       "(Counter(),\n",
       " Counter({'SUPPORTS': 80035, 'REFUTES': 29775, 'NOT ENOUGH INFO': 35639}))"
      ]
     },
     "execution_count": 13,
     "metadata": {},
     "output_type": "execute_result"
    }
   ],
   "source": [
    "Counter([i[\"label\"] for i in tr_in]), Counter([i[\"label\"] for i in tr_out])"
   ]
  },
  {
   "cell_type": "code",
   "execution_count": null,
   "id": "465150c1-34db-4e57-a24a-1595c5359f09",
   "metadata": {},
   "outputs": [],
   "source": []
  }
 ],
 "metadata": {
  "kernelspec": {
   "display_name": "Python [conda env:fever-teamathene]",
   "language": "python",
   "name": "conda-env-fever-teamathene-py"
  },
  "language_info": {
   "codemirror_mode": {
    "name": "ipython",
    "version": 3
   },
   "file_extension": ".py",
   "mimetype": "text/x-python",
   "name": "python",
   "nbconvert_exporter": "python",
   "pygments_lexer": "ipython3",
   "version": "3.6.13"
  }
 },
 "nbformat": 4,
 "nbformat_minor": 5
}
