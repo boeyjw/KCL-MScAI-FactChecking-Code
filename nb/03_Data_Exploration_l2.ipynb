{
 "cells": [
  {
   "cell_type": "code",
   "execution_count": 5,
   "id": "de343f80-eb4c-4e88-b01a-7ca497ccd6b4",
   "metadata": {
    "tags": []
   },
   "outputs": [],
   "source": [
    "from pathlib import Path\n",
    "from collections import Counter\n",
    "\n",
    "import spacy\n",
    "from spacy import displacy\n",
    "from matplotlib import pyplot as plt\n",
    "from joblib import Parallel, delayed\n",
    "\n",
    "from src.gen.util import read_gzip_data, write_gzip_data\n",
    "\n",
    "datap = Path(\"/users/k21190024/study/fact-check-transfer-learning/scratch/dumps/data/level/2\")\n",
    "dumpp = Path(\"/users/k21190024/study/fact-check-transfer-learning/scratch/dumps/explore/level/2\")\n",
    "\n",
    "nlp = spacy.load(\"en_core_web_lg\")"
   ]
  },
  {
   "cell_type": "markdown",
   "id": "a0dec321-6c2f-49b3-a43b-ed1db7dc5512",
   "metadata": {},
   "source": [
    "# Load data"
   ]
  },
  {
   "cell_type": "code",
   "execution_count": 4,
   "id": "85f1535e-eee6-4cbc-b24f-bc6e621c1802",
   "metadata": {
    "tags": []
   },
   "outputs": [],
   "source": [
    "cla = \"claims_lemma.pkl.gz\"\n",
    "cor = \"corpus_lemma.pkl.gz\"\n",
    "\n",
    "sf_claims = read_gzip_data(datap.joinpath(\"scifact\", cla))\n",
    "sf_corpus = read_gzip_data(datap.joinpath(\"scifact\", cor))\n",
    "\n",
    "f_claims = read_gzip_data(datap.joinpath(\"fever\", cla))\n",
    "f_corpus = read_gzip_data(datap.joinpath(\"fever\", cor))\n",
    "\n",
    "cf_claims = read_gzip_data(datap.joinpath(\"climatefever\", cla))\n",
    "cf_corpus = read_gzip_data(datap.joinpath(\"climatefever\", cor))"
   ]
  },
  {
   "cell_type": "markdown",
   "id": "a179365a-fe8e-4855-aabe-33c41c374f14",
   "metadata": {},
   "source": [
    "# Explore"
   ]
  },
  {
   "cell_type": "markdown",
   "id": "a5822662-d7d1-4d22-b160-c9853655e389",
   "metadata": {},
   "source": [
    "## Most common words"
   ]
  },
  {
   "cell_type": "code",
   "execution_count": null,
   "id": "63daf846-eba4-459c-98ab-4a0622a96500",
   "metadata": {},
   "outputs": [],
   "source": []
  }
 ],
 "metadata": {
  "kernelspec": {
   "display_name": "Python 3 (ipykernel)",
   "language": "python",
   "name": "python3"
  },
  "language_info": {
   "codemirror_mode": {
    "name": "ipython",
    "version": 3
   },
   "file_extension": ".py",
   "mimetype": "text/x-python",
   "name": "python",
   "nbconvert_exporter": "python",
   "pygments_lexer": "ipython3",
   "version": "3.8.12"
  }
 },
 "nbformat": 4,
 "nbformat_minor": 5
}
