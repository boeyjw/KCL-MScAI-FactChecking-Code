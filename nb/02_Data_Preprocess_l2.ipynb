{
 "cells": [
  {
   "cell_type": "code",
   "execution_count": 1,
   "id": "37d73cd6-be7e-4137-8919-85fe37493b0a",
   "metadata": {
    "tags": []
   },
   "outputs": [
    {
     "name": "stderr",
     "output_type": "stream",
     "text": [
      "2023-02-15 11:17:23.944159: I tensorflow/stream_executor/platform/default/dso_loader.cc:49] Successfully opened dynamic library libcudart.so.11.0\n"
     ]
    }
   ],
   "source": [
    "import json\n",
    "import gzip\n",
    "import pickle as pkl\n",
    "import threading\n",
    "import queue\n",
    "from pathlib import Path\n",
    "\n",
    "import spacy\n",
    "from spacy import displacy\n",
    "from matplotlib import pyplot as plt\n",
    "from joblib import Parallel, delayed\n",
    "from tinydb import TinyDB, Query\n",
    "\n",
    "from src.gen.util import read_gzip_data, write_gzip_data"
   ]
  },
  {
   "cell_type": "code",
   "execution_count": 2,
   "id": "45296ec9-0341-4a97-a3d0-532bdf803e57",
   "metadata": {
    "tags": []
   },
   "outputs": [],
   "source": [
    "datap = Path(\"/users/k21190024/study/fact-check-transfer-learning/scratch/dumps/data/level/1\")"
   ]
  },
  {
   "cell_type": "markdown",
   "id": "2290ccab-4658-4321-aa2b-efd084d561aa",
   "metadata": {},
   "source": [
    "# Preprocess Level 2"
   ]
  },
  {
   "cell_type": "code",
   "execution_count": 3,
   "id": "ffa4f42b-eab5-4e87-9ccb-59643e9d666d",
   "metadata": {
    "tags": []
   },
   "outputs": [],
   "source": [
    "procp = datap.parent.joinpath(\"2\")\n",
    "if not procp.exists():\n",
    "    procp.mkdir(parents=True)\n",
    "\n",
    "nlp = spacy.load(\"en_core_web_lg\")"
   ]
  },
  {
   "cell_type": "code",
   "execution_count": 4,
   "id": "6bc845b2-bf06-48e5-b944-f2a8eccabf2d",
   "metadata": {
    "tags": []
   },
   "outputs": [],
   "source": [
    "def extract_key_lemma(nlp, doc_ls, n_jobs=30, batch_size=100):\n",
    "    # https://stackoverflow.com/questions/48199353/how-to-use-spacy-in-large-dataset-with-short-sentences-efficiently\n",
    "    def token_filter(token):\n",
    "        return not (token.is_punct | token.is_space | token.is_stop | token.is_digit)\n",
    "    filtered_tokens = []\n",
    "    for doc in nlp.pipe(doc_ls, n_process=n_jobs, batch_size=batch_size):\n",
    "        tokens = [token.lemma_ for token in doc if token_filter(token)]\n",
    "        filtered_tokens.append(tokens)\n",
    "    return filtered_tokens\n",
    "\n",
    "def compressed_pkl(fp, payload):\n",
    "    with gzip.GzipFile(fp, \"w\") as gzfn:\n",
    "        gzfn.write(pkl.dumps(payload))\n",
    "    return fp"
   ]
  },
  {
   "cell_type": "markdown",
   "id": "ad26c176-8faa-4fea-9ec1-9b734a9cf6c9",
   "metadata": {},
   "source": [
    "## SciFact"
   ]
  },
  {
   "cell_type": "code",
   "execution_count": 6,
   "id": "dfa8b68e-16fe-4250-a109-aaee6fbdd7c2",
   "metadata": {
    "tags": []
   },
   "outputs": [],
   "source": [
    "sfp = procp.joinpath(\"scifact\")\n",
    "if not sfp.exists():\n",
    "    sfp.mkdir()"
   ]
  },
  {
   "cell_type": "markdown",
   "id": "52455799-ce8a-49e1-97e2-9c7522aea478",
   "metadata": {},
   "source": [
    "## Corpus"
   ]
  },
  {
   "cell_type": "code",
   "execution_count": 43,
   "id": "fe575e98-f4e1-40b2-8a0c-e6a0387fe9c7",
   "metadata": {
    "tags": []
   },
   "outputs": [
    {
     "data": {
      "text/plain": [
       "PosixPath('/users/k21190024/study/fact-check-transfer-learning/scratch/dumps/data/level/2/scifact/corpus_lemma.pkl.gz')"
      ]
     },
     "execution_count": 43,
     "metadata": {},
     "output_type": "execute_result"
    }
   ],
   "source": [
    "sf_corpus = read_gzip_data(datap.joinpath(\"scifact\", \"corpus.json.gz\"))\n",
    "\n",
    "sf_corpus_title_tokens = extract_key_lemma(nlp, [d[\"title\"] for d in sf_corpus.values()])\n",
    "sf_corpus_abstract_tokens = extract_key_lemma(nlp, [\" \".join(d[\"abstract\"]) for d in sf_corpus.values()])\n",
    "\n",
    "compressed_pkl(sfp.joinpath(\"corpus_lemma.pkl.gz\"), {\"title\": sf_corpus_title_tokens, \"evidence\": sf_corpus_abstract_tokens})"
   ]
  },
  {
   "cell_type": "markdown",
   "id": "f73ee432-c0db-42bd-bae2-1202e0459eec",
   "metadata": {},
   "source": [
    "## Claims"
   ]
  },
  {
   "cell_type": "code",
   "execution_count": 25,
   "id": "07314863-a1f8-4b4c-9428-0bda3e2715e8",
   "metadata": {
    "tags": []
   },
   "outputs": [
    {
     "data": {
      "text/plain": [
       "PosixPath('/users/k21190024/study/fact-check-transfer-learning/scratch/dumps/data/level/2/scifact/claims_lemma.pkl.gz')"
      ]
     },
     "execution_count": 25,
     "metadata": {},
     "output_type": "execute_result"
    }
   ],
   "source": [
    "sf_claims = read_gzip_data(datap.joinpath(\"scifact\", \"fullscifact.json.gz\"))\n",
    "\n",
    "sf_claims_tokens = extract_key_lemma(nlp, [d[\"claim\"] for d in sf_claims], 60)\n",
    "\n",
    "compressed_pkl(sfp.joinpath(\"claims_lemma.pkl.gz\"), sf_claims_tokens)"
   ]
  },
  {
   "cell_type": "markdown",
   "id": "34306bfb-f01b-4f0f-8dea-3fff33957019",
   "metadata": {},
   "source": [
    "## Climate Fever"
   ]
  },
  {
   "cell_type": "code",
   "execution_count": 49,
   "id": "36d4ae10-b2ba-4bf3-8af1-2d0dbcb81e14",
   "metadata": {
    "tags": []
   },
   "outputs": [],
   "source": [
    "cfp = procp.joinpath(\"climatefever\")\n",
    "if not cfp.exists():\n",
    "    cfp.mkdir()\n",
    "    \n",
    "cfall = read_gzip_data(datap.joinpath(\"climatefever\", \"climatefever.json.gz\"))"
   ]
  },
  {
   "cell_type": "code",
   "execution_count": 50,
   "id": "61bf78a9-3441-4194-b8c2-8e3a41c40eee",
   "metadata": {
    "tags": []
   },
   "outputs": [
    {
     "data": {
      "text/plain": [
       "PosixPath('/users/k21190024/study/fact-check-transfer-learning/scratch/dumps/data/level/2/climatefever/corpus_lemma.pkl.gz')"
      ]
     },
     "execution_count": 50,
     "metadata": {},
     "output_type": "execute_result"
    }
   ],
   "source": [
    "cf_claims_tokens = extract_key_lemma(nlp, [d[\"claim\"] for d in cfall], 60)\n",
    "compressed_pkl(cfp.joinpath(\"claims_lemma.pkl.gz\"), cf_claims_tokens)\n",
    "\n",
    "cf_title = []\n",
    "cf_corpus = []\n",
    "for d in cfall:\n",
    "    t_tmp = []\n",
    "    for e in d[\"evidences\"]:\n",
    "        t_tmp.append(e[\"article\"])\n",
    "        cf_corpus.append(e[\"evidence\"])\n",
    "    # evidence title are duplicative within each evidence document\n",
    "    cf_title.append(\" \".join(list(set(t_tmp))))\n",
    "\n",
    "cf_title_tokens = extract_key_lemma(nlp, cf_title)\n",
    "cf_corpus_tokens = extract_key_lemma(nlp, cf_corpus, 60)\n",
    "compressed_pkl(cfp.joinpath(\"corpus_lemma.pkl.gz\"), {\"title\": cf_title_tokens, \"evidence\": cf_corpus_tokens})"
   ]
  },
  {
   "cell_type": "markdown",
   "id": "a576262e-c99a-4207-85a3-9f7cda496766",
   "metadata": {},
   "source": [
    "## FEVER"
   ]
  },
  {
   "cell_type": "code",
   "execution_count": 5,
   "id": "ff46961b-9d45-4492-9354-3f5bde5948bc",
   "metadata": {
    "tags": []
   },
   "outputs": [],
   "source": [
    "feverp = procp.joinpath(\"fever\")\n",
    "if not feverp.exists():\n",
    "    feverp.mkdir()"
   ]
  },
  {
   "cell_type": "markdown",
   "id": "1a0fdca3-816a-45b2-82dc-84c68ffb7e3e",
   "metadata": {},
   "source": [
    "## Corpus"
   ]
  },
  {
   "cell_type": "code",
   "execution_count": 6,
   "id": "4d1192dc-0e75-475b-a95e-954466ae60c8",
   "metadata": {
    "tags": []
   },
   "outputs": [],
   "source": [
    "def comsumer_fever_corpus():\n",
    "    while True:\n",
    "        fp, payload = q.get()\n",
    "        if fp == None:\n",
    "            break\n",
    "        print(compressed_pkl(fp, payload))\n",
    "        q.task_done()\n",
    "    q.task_done()"
   ]
  },
  {
   "cell_type": "code",
   "execution_count": 7,
   "id": "4205ab88-df24-4789-8897-0cdc1b7a1063",
   "metadata": {
    "tags": []
   },
   "outputs": [
    {
     "name": "stdout",
     "output_type": "stream",
     "text": [
      "/users/k21190024/study/fact-check-transfer-learning/scratch/dumps/data/level/2/fever/part/wiki-037.part.pkl.gz\n",
      "/users/k21190024/study/fact-check-transfer-learning/scratch/dumps/data/level/2/fever/part/wiki-072.part.pkl.gz\n",
      "/users/k21190024/study/fact-check-transfer-learning/scratch/dumps/data/level/2/fever/part/wiki-071.part.pkl.gz\n",
      "/users/k21190024/study/fact-check-transfer-learning/scratch/dumps/data/level/2/fever/part/wiki-014.part.pkl.gz\n",
      "/users/k21190024/study/fact-check-transfer-learning/scratch/dumps/data/level/2/fever/part/wiki-006.part.pkl.gz\n",
      "/users/k21190024/study/fact-check-transfer-learning/scratch/dumps/data/level/2/fever/part/wiki-052.part.pkl.gz\n",
      "/users/k21190024/study/fact-check-transfer-learning/scratch/dumps/data/level/2/fever/part/wiki-058.part.pkl.gz\n",
      "/users/k21190024/study/fact-check-transfer-learning/scratch/dumps/data/level/2/fever/part/wiki-048.part.pkl.gz\n",
      "/users/k21190024/study/fact-check-transfer-learning/scratch/dumps/data/level/2/fever/part/wiki-010.part.pkl.gz\n",
      "/users/k21190024/study/fact-check-transfer-learning/scratch/dumps/data/level/2/fever/part/wiki-011.part.pkl.gz\n",
      "/users/k21190024/study/fact-check-transfer-learning/scratch/dumps/data/level/2/fever/part/wiki-083.part.pkl.gz\n",
      "/users/k21190024/study/fact-check-transfer-learning/scratch/dumps/data/level/2/fever/part/wiki-095.part.pkl.gz\n",
      "/users/k21190024/study/fact-check-transfer-learning/scratch/dumps/data/level/2/fever/part/wiki-097.part.pkl.gz\n",
      "/users/k21190024/study/fact-check-transfer-learning/scratch/dumps/data/level/2/fever/part/wiki-086.part.pkl.gz\n",
      "/users/k21190024/study/fact-check-transfer-learning/scratch/dumps/data/level/2/fever/part/wiki-066.part.pkl.gz\n",
      "/users/k21190024/study/fact-check-transfer-learning/scratch/dumps/data/level/2/fever/part/wiki-019.part.pkl.gz\n",
      "/users/k21190024/study/fact-check-transfer-learning/scratch/dumps/data/level/2/fever/part/wiki-016.part.pkl.gz\n",
      "/users/k21190024/study/fact-check-transfer-learning/scratch/dumps/data/level/2/fever/part/wiki-079.part.pkl.gz\n",
      "/users/k21190024/study/fact-check-transfer-learning/scratch/dumps/data/level/2/fever/part/wiki-042.part.pkl.gz\n",
      "/users/k21190024/study/fact-check-transfer-learning/scratch/dumps/data/level/2/fever/part/wiki-015.part.pkl.gz\n",
      "/users/k21190024/study/fact-check-transfer-learning/scratch/dumps/data/level/2/fever/part/wiki-022.part.pkl.gz\n",
      "/users/k21190024/study/fact-check-transfer-learning/scratch/dumps/data/level/2/fever/part/wiki-076.part.pkl.gz\n",
      "/users/k21190024/study/fact-check-transfer-learning/scratch/dumps/data/level/2/fever/part/wiki-027.part.pkl.gz\n",
      "/users/k21190024/study/fact-check-transfer-learning/scratch/dumps/data/level/2/fever/part/wiki-047.part.pkl.gz\n",
      "/users/k21190024/study/fact-check-transfer-learning/scratch/dumps/data/level/2/fever/part/wiki-065.part.pkl.gz\n",
      "/users/k21190024/study/fact-check-transfer-learning/scratch/dumps/data/level/2/fever/part/wiki-104.part.pkl.gz\n",
      "/users/k21190024/study/fact-check-transfer-learning/scratch/dumps/data/level/2/fever/part/wiki-034.part.pkl.gz\n",
      "/users/k21190024/study/fact-check-transfer-learning/scratch/dumps/data/level/2/fever/part/wiki-082.part.pkl.gz\n",
      "/users/k21190024/study/fact-check-transfer-learning/scratch/dumps/data/level/2/fever/part/wiki-056.part.pkl.gz\n",
      "/users/k21190024/study/fact-check-transfer-learning/scratch/dumps/data/level/2/fever/part/wiki-102.part.pkl.gz\n",
      "/users/k21190024/study/fact-check-transfer-learning/scratch/dumps/data/level/2/fever/part/wiki-061.part.pkl.gz\n",
      "/users/k21190024/study/fact-check-transfer-learning/scratch/dumps/data/level/2/fever/part/wiki-055.part.pkl.gz\n",
      "/users/k21190024/study/fact-check-transfer-learning/scratch/dumps/data/level/2/fever/part/wiki-040.part.pkl.gz\n",
      "/users/k21190024/study/fact-check-transfer-learning/scratch/dumps/data/level/2/fever/part/wiki-030.part.pkl.gz\n"
     ]
    }
   ],
   "source": [
    "corpus_part = feverp.joinpath(\"part\")\n",
    "if not corpus_part.exists():\n",
    "    corpus_part.mkdir()\n",
    "    \n",
    "t = threading.Thread(target=comsumer_fever_corpus)\n",
    "q = queue.Queue()\n",
    "\n",
    "comp_pf = [f.name.split(\".\")[0] for f in list(corpus_part.iterdir())]\n",
    "t.start()\n",
    "for fp in datap.joinpath(\"fever\", \"corpus\").iterdir():\n",
    "    if fp.name.split(\".\")[0] not in comp_pf:\n",
    "        wiki = read_gzip_data(fp)\n",
    "        fwiki_tokens = extract_key_lemma(nlp, [d[\"text\"] for d in wiki.values()], batch_size=300)\n",
    "        q.put((corpus_part.joinpath(fp.name.split(\".\")[0] + \".part.pkl.gz\"), fwiki_tokens))\n",
    "q.put((None, None))\n",
    "q.join()\n",
    "t.join()"
   ]
  },
  {
   "cell_type": "code",
   "execution_count": 9,
   "id": "00fae46b-e910-45c6-bfb6-666a42d56542",
   "metadata": {
    "tags": []
   },
   "outputs": [
    {
     "data": {
      "text/plain": [
       "PosixPath('/users/k21190024/study/fact-check-transfer-learning/scratch/dumps/data/level/2/fever/corpus_lemma.pkl.gz')"
      ]
     },
     "execution_count": 9,
     "metadata": {},
     "output_type": "execute_result"
    }
   ],
   "source": [
    "fcorpus_full = []\n",
    "for pf in corpus_part.iterdir():\n",
    "    with gzip.open(pf.as_posix()) as fn:\n",
    "        fcorpus_full += pkl.load(fn)\n",
    "compressed_pkl(feverp.joinpath(\"corpus_lemma.pkl.gz\"), fcorpus_full)"
   ]
  },
  {
   "cell_type": "markdown",
   "id": "b5ce4228-021c-4d9a-ac42-3b31fd0e42c2",
   "metadata": {},
   "source": [
    "## Claims"
   ]
  },
  {
   "cell_type": "code",
   "execution_count": 59,
   "id": "740ba020-9350-4880-b341-3c928f79dddb",
   "metadata": {
    "tags": []
   },
   "outputs": [
    {
     "data": {
      "text/plain": [
       "PosixPath('/users/k21190024/study/fact-check-transfer-learning/scratch/dumps/data/level/2/fever/claims_lemma.pkl.gz')"
      ]
     },
     "execution_count": 59,
     "metadata": {},
     "output_type": "execute_result"
    }
   ],
   "source": [
    "fclaimsall = read_gzip_data(datap.joinpath(\"fever\", \"fulltrain.json.gz\")) + read_gzip_data(datap.joinpath(\"fever\", \"truetest.json.gz\"))\n",
    "\n",
    "f_claims_tokens = extract_key_lemma(nlp, [d[\"claim\"] for d in fclaimsall], batch_size=1000)\n",
    "compressed_pkl(feverp.joinpath(\"claims_lemma.pkl.gz\"), cf_claims_tokens)"
   ]
  }
 ],
 "metadata": {
  "kernelspec": {
   "display_name": "Python 3 (ipykernel)",
   "language": "python",
   "name": "python3"
  },
  "language_info": {
   "codemirror_mode": {
    "name": "ipython",
    "version": 3
   },
   "file_extension": ".py",
   "mimetype": "text/x-python",
   "name": "python",
   "nbconvert_exporter": "python",
   "pygments_lexer": "ipython3",
   "version": "3.8.12"
  }
 },
 "nbformat": 4,
 "nbformat_minor": 5
}
