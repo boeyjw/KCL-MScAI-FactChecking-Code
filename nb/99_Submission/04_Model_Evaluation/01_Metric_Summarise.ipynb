{
 "cells": [
  {
   "cell_type": "markdown",
   "id": "2c97a6cc-91c1-4151-a39a-00e646127304",
   "metadata": {},
   "source": [
    "# Init"
   ]
  },
  {
   "cell_type": "code",
   "execution_count": 1,
   "id": "11206314-de4b-4f67-bfcb-7afcc8ce9f4e",
   "metadata": {},
   "outputs": [],
   "source": [
    "import sys\n",
    "sys.path.append(\"../../src\")\n",
    "import pickle as pkl\n",
    "from pathlib import Path\n",
    "from collections import defaultdict\n",
    "\n",
    "import pandas as pd\n",
    "\n",
    "import constants\n",
    "from gen.util import read_data"
   ]
  },
  {
   "cell_type": "code",
   "execution_count": 2,
   "id": "d7e36727-7ff2-43be-83fe-0e1a31f0ac20",
   "metadata": {},
   "outputs": [],
   "source": [
    "root_metrics = Path(\"../../metrics\")"
   ]
  },
  {
   "cell_type": "code",
   "execution_count": 3,
   "id": "61855721-014f-4232-8fdf-f3da13227353",
   "metadata": {},
   "outputs": [
    {
     "name": "stdout",
     "output_type": "stream",
     "text": [
      "concatenate_evidences_metrics\n",
      "sent_macro_verdict_meanproba_metrics\n",
      "sent_micro_verdict_metrics\n",
      "sent_macro_verdict_majority_metrics\n"
     ]
    }
   ],
   "source": [
    "result_p = root_metrics\n",
    "\n",
    "for res in result_p.iterdir():\n",
    "    print(res.stem)\n",
    "    if res.suffix == \".pkl\":\n",
    "        with res.open(\"rb\") as fn:\n",
    "            globals()[res.stem] = pkl.load(fn)"
   ]
  },
  {
   "cell_type": "markdown",
   "id": "d587ac42-d825-432f-a6e7-d8a65afc0fde",
   "metadata": {},
   "source": [
    "# Summarise"
   ]
  },
  {
   "cell_type": "code",
   "execution_count": 4,
   "id": "c80ab4e4-382f-42d2-8035-4117dd86ea17",
   "metadata": {},
   "outputs": [],
   "source": [
    "def summarise_metrics(metrics):\n",
    "    summary = defaultdict(list)\n",
    "    for dataset, splits in metrics.items():\n",
    "        for k, v in splits.items():\n",
    "            for i in v:\n",
    "                rte_met = i.rte_metrics\n",
    "                rte_met[\"fullname\"] = i._score_name\n",
    "                if \"da\" in i._score_name:\n",
    "                    rte_met[\"model\"] = \"da\"\n",
    "                elif \"xlnet\" in i._score_name:\n",
    "                    rte_met[\"model\"] = \"xlnet\"\n",
    "                else:\n",
    "                    rte_met[\"model\"] = \"bert\"\n",
    "                rte_met[\"dataset\"] = dataset\n",
    "                trained_on = i._score_name.split(\"-\")\n",
    "                rte_met[\"trained_on\"] = \"-\".join([trained_on[0], trained_on[1] if \"climatefever\" in trained_on[1] else \"\"])\n",
    "                summary[f\"{dataset}-{k}\"].append(rte_met)\n",
    "    return summary"
   ]
  },
  {
   "cell_type": "code",
   "execution_count": 5,
   "id": "601040c2-e6de-437a-868b-c2ebeda4bc68",
   "metadata": {},
   "outputs": [],
   "source": [
    "def summarise_confusion_matrix(metrics):\n",
    "    summary = defaultdict(list)\n",
    "    for dataset, splits in metrics.items():\n",
    "        for split, model_ls in splits.items():\n",
    "            res = []\n",
    "            for model in model_ls:\n",
    "                confmat = {}\n",
    "                for label in constants.LABEL2ID.keys():\n",
    "                    for metname, metval in model.classification_report_dict[label].items():\n",
    "                        confmat.update({f\"{label}_{metname}\": metval})\n",
    "                confmat[\"fullname\"] = model._score_name\n",
    "                if \"da\" in model._score_name:\n",
    "                    confmat[\"model\"] = \"da\"\n",
    "                elif \"xlnet\" in model._score_name:\n",
    "                    confmat[\"model\"] = \"xlnet\"\n",
    "                else:\n",
    "                    confmat[\"model\"] = \"bert\"\n",
    "                confmat[\"dataset\"] = dataset\n",
    "                trained_on = model._score_name.split(\"-\")\n",
    "                confmat[\"trained_on\"] = \"-\".join([trained_on[0], trained_on[1] if \"climatefever\" in trained_on[1] else \"\"])\n",
    "                res.append(confmat)\n",
    "            summary[f\"{dataset}-{split}\"].append(pd.DataFrame(res))\n",
    "    return summary"
   ]
  },
  {
   "cell_type": "markdown",
   "id": "70175eca-54cc-4ae9-a35c-83d91bdbf741",
   "metadata": {},
   "source": [
    "## Concatenate Sentences"
   ]
  },
  {
   "cell_type": "code",
   "execution_count": 6,
   "id": "cde613c8-66c1-4025-b4a0-f80f601e957d",
   "metadata": {},
   "outputs": [],
   "source": [
    "concat_summary = summarise_metrics(concatenate_evidences_metrics)"
   ]
  },
  {
   "cell_type": "code",
   "execution_count": 7,
   "id": "2bf4966c-c911-4b74-9796-aed70aea4473",
   "metadata": {},
   "outputs": [],
   "source": [
    "pd.concat([\n",
    "    pd.DataFrame(concat_summary[\"fever-dev\"]).sort_values([\"trained_on\", \"model\"]),\n",
    "    pd.DataFrame(concat_summary[\"climatefeverpure-dev\"]).sort_values([\"trained_on\", \"model\"]),\n",
    "    pd.DataFrame(concat_summary[\"climatefever-dev\"]).sort_values([\"trained_on\", \"model\"]),\n",
    "    pd.DataFrame(concat_summary[\"scifact-all\"]).sort_values([\"trained_on\", \"model\"]),\n",
    "    pd.DataFrame(concat_summary[\"scifactpipeline-all\"]).sort_values([\"trained_on\", \"model\"]),\n",
    "], axis=0).to_csv(\"tmp.csv\")"
   ]
  },
  {
   "cell_type": "code",
   "execution_count": 8,
   "id": "4f29d804-092c-4f79-b8c5-4f496833eebe",
   "metadata": {},
   "outputs": [],
   "source": [
    "pd.concat([\n",
    "    pd.DataFrame(concat_summary[\"fever-test\"]).sort_values([\"trained_on\", \"model\"]),\n",
    "    pd.DataFrame(concat_summary[\"climatefeverpure-test\"]).sort_values([\"trained_on\", \"model\"]),\n",
    "    pd.DataFrame(concat_summary[\"climatefever-test\"]).sort_values([\"trained_on\", \"model\"]),\n",
    "], axis=0).to_csv(\"tmp.csv\")"
   ]
  },
  {
   "cell_type": "code",
   "execution_count": 9,
   "id": "8952b1c8-8137-4c77-a772-a7ce712329a3",
   "metadata": {},
   "outputs": [],
   "source": [
    "concat_confusion = summarise_confusion_matrix(concatenate_evidences_metrics)"
   ]
  },
  {
   "cell_type": "code",
   "execution_count": 10,
   "id": "7d4feba5-6e5a-4253-b656-b7f14dac7f28",
   "metadata": {
    "tags": []
   },
   "outputs": [],
   "source": [
    "pd.concat([\n",
    "    pd.concat(concat_confusion[\"fever-dev\"]).sort_values([\"trained_on\", \"model\"]),\n",
    "    pd.concat(concat_confusion[\"climatefeverpure-dev\"]).sort_values([\"trained_on\", \"model\"]),\n",
    "    pd.concat(concat_confusion[\"climatefever-dev\"]).sort_values([\"trained_on\", \"model\"]),\n",
    "    pd.concat(concat_confusion[\"scifact-all\"]).sort_values([\"trained_on\", \"model\"]),\n",
    "    pd.concat(concat_confusion[\"scifactpipeline-all\"]).sort_values([\"trained_on\", \"model\"])\n",
    "], axis=0).to_csv(\"tmp.csv\")"
   ]
  },
  {
   "cell_type": "code",
   "execution_count": 11,
   "id": "4e8be2f3-21fe-45b9-8553-8b8bc09f5d62",
   "metadata": {
    "tags": []
   },
   "outputs": [],
   "source": [
    "pd.concat([\n",
    "    pd.concat(concat_confusion[\"fever-test\"]).sort_values([\"trained_on\", \"model\"]),\n",
    "    pd.concat(concat_confusion[\"climatefeverpure-test\"]).sort_values([\"trained_on\", \"model\"]),\n",
    "    pd.concat(concat_confusion[\"climatefever-test\"]).sort_values([\"trained_on\", \"model\"]),\n",
    "], axis=0).to_csv(\"tmp.csv\")"
   ]
  },
  {
   "cell_type": "markdown",
   "id": "1a7cc981-31cf-423c-b5a9-5a1d16c6458f",
   "metadata": {},
   "source": [
    "## Sentence"
   ]
  },
  {
   "cell_type": "markdown",
   "id": "4b735c36-0a0a-4b0d-9fcd-413584d61b89",
   "metadata": {},
   "source": [
    "### Micro"
   ]
  },
  {
   "cell_type": "code",
   "execution_count": 12,
   "id": "a91fac08-cd50-459e-8e31-a96ea7b450e0",
   "metadata": {},
   "outputs": [],
   "source": [
    "micro_summary = summarise_metrics(sent_micro_verdict_metrics)"
   ]
  },
  {
   "cell_type": "code",
   "execution_count": 13,
   "id": "9f459686-0ace-4137-af18-f14ca7031b26",
   "metadata": {},
   "outputs": [],
   "source": [
    "pd.concat([\n",
    "    pd.DataFrame(micro_summary[\"fever-dev\"]).sort_values([\"trained_on\", \"model\"]),\n",
    "    pd.DataFrame(micro_summary[\"climatefeverpure-dev\"]).sort_values([\"trained_on\", \"model\"]),\n",
    "    pd.DataFrame(micro_summary[\"climatefever-dev\"]).sort_values([\"trained_on\", \"model\"]),\n",
    "    pd.DataFrame(micro_summary[\"scifact-all\"]).sort_values([\"trained_on\", \"model\"]),\n",
    "    pd.DataFrame(micro_summary[\"scifactpipeline-all\"]).sort_values([\"trained_on\", \"model\"])\n",
    "], axis=0).to_csv(\"tmp.csv\")"
   ]
  },
  {
   "cell_type": "code",
   "execution_count": 14,
   "id": "144fae65-b009-47af-8241-3393ac0de3c1",
   "metadata": {},
   "outputs": [],
   "source": [
    "pd.concat([\n",
    "    pd.DataFrame(micro_summary[\"fever-test\"]).sort_values([\"trained_on\", \"model\"]),\n",
    "    pd.DataFrame(micro_summary[\"climatefeverpure-test\"]).sort_values([\"trained_on\", \"model\"]),\n",
    "    pd.DataFrame(micro_summary[\"climatefever-test\"]).sort_values([\"trained_on\", \"model\"]),\n",
    "], axis=0).to_csv(\"tmp.csv\")"
   ]
  },
  {
   "cell_type": "code",
   "execution_count": 15,
   "id": "56bbccd1-3960-4a0d-9db7-e7d6ab96f067",
   "metadata": {},
   "outputs": [],
   "source": [
    "micro_confusion = summarise_confusion_matrix(sent_micro_verdict_metrics)"
   ]
  },
  {
   "cell_type": "code",
   "execution_count": 16,
   "id": "7f19f35a-e68f-4b97-965e-c4482a3fb38c",
   "metadata": {
    "tags": []
   },
   "outputs": [],
   "source": [
    "pd.concat([\n",
    "    pd.concat(micro_confusion[\"fever-dev\"]).sort_values([\"trained_on\", \"model\"]),\n",
    "    pd.concat(micro_confusion[\"climatefeverpure-dev\"]).sort_values([\"trained_on\", \"model\"]),\n",
    "    pd.concat(micro_confusion[\"climatefever-dev\"]).sort_values([\"trained_on\", \"model\"]),\n",
    "    pd.concat(micro_confusion[\"scifact-all\"]).sort_values([\"trained_on\", \"model\"]),\n",
    "    pd.concat(micro_confusion[\"scifactpipeline-all\"]).sort_values([\"trained_on\", \"model\"])\n",
    "], axis=0).to_csv(\"tmp.csv\")"
   ]
  },
  {
   "cell_type": "code",
   "execution_count": 17,
   "id": "14de24bc-ae21-410c-9c6c-c3d1849e2098",
   "metadata": {
    "tags": []
   },
   "outputs": [],
   "source": [
    "pd.concat([\n",
    "    pd.concat(micro_confusion[\"fever-test\"]).sort_values([\"trained_on\", \"model\"]),\n",
    "    pd.concat(micro_confusion[\"climatefeverpure-test\"]).sort_values([\"trained_on\", \"model\"]),\n",
    "    pd.concat(micro_confusion[\"climatefever-test\"]).sort_values([\"trained_on\", \"model\"]),\n",
    "], axis=0).to_csv(\"tmp.csv\")"
   ]
  },
  {
   "cell_type": "markdown",
   "id": "c9ec66f0-d97f-4e4c-9114-c32454f40b9c",
   "metadata": {},
   "source": [
    "### Macro"
   ]
  },
  {
   "cell_type": "markdown",
   "id": "a3eac35e-e7ae-4ea8-a4a6-d6b671c06aa5",
   "metadata": {},
   "source": [
    "#### Majority"
   ]
  },
  {
   "cell_type": "code",
   "execution_count": 18,
   "id": "dc962176-fbcf-4182-9f9c-236829284dfb",
   "metadata": {},
   "outputs": [],
   "source": [
    "macro_majority_summary = summarise_metrics(sent_macro_verdict_majority_metrics)"
   ]
  },
  {
   "cell_type": "code",
   "execution_count": 19,
   "id": "10a4ffb7-bb0f-4e33-9efc-19a78eb3b8a1",
   "metadata": {},
   "outputs": [],
   "source": [
    "pd.concat([\n",
    "    pd.DataFrame(macro_majority_summary[\"fever-dev\"]).sort_values([\"trained_on\", \"model\"]),\n",
    "    pd.DataFrame(macro_majority_summary[\"climatefeverpure-dev\"]).sort_values([\"trained_on\", \"model\"]),\n",
    "    pd.DataFrame(macro_majority_summary[\"climatefever-dev\"]).sort_values([\"trained_on\", \"model\"]),\n",
    "    pd.DataFrame(macro_majority_summary[\"scifact-all\"]).sort_values([\"trained_on\", \"model\"]),\n",
    "    pd.DataFrame(macro_majority_summary[\"scifactpipeline-all\"]).sort_values([\"trained_on\", \"model\"])\n",
    "], axis=0).to_csv(\"tmp.csv\")"
   ]
  },
  {
   "cell_type": "code",
   "execution_count": 20,
   "id": "d9ecbc9c-6c58-416e-ba46-7b2125666fc4",
   "metadata": {},
   "outputs": [],
   "source": [
    "pd.concat([\n",
    "    pd.DataFrame(macro_majority_summary[\"fever-test\"]).sort_values([\"trained_on\", \"model\"]),\n",
    "    pd.DataFrame(macro_majority_summary[\"climatefeverpure-test\"]).sort_values([\"trained_on\", \"model\"]),\n",
    "    pd.DataFrame(macro_majority_summary[\"climatefever-test\"]).sort_values([\"trained_on\", \"model\"]),\n",
    "], axis=0).to_csv(\"tmp.csv\")"
   ]
  },
  {
   "cell_type": "code",
   "execution_count": 21,
   "id": "8f9fbf77-5b13-4c44-a383-eb67937609ea",
   "metadata": {},
   "outputs": [],
   "source": [
    "macro_majority_confusion = summarise_confusion_matrix(sent_macro_verdict_majority_metrics)"
   ]
  },
  {
   "cell_type": "code",
   "execution_count": 22,
   "id": "002cd6af-18bd-495e-b8fa-9e3b9d91bf79",
   "metadata": {
    "tags": []
   },
   "outputs": [],
   "source": [
    "pd.concat([\n",
    "    pd.concat(macro_majority_confusion[\"fever-dev\"]).sort_values([\"trained_on\", \"model\"]),\n",
    "    pd.concat(macro_majority_confusion[\"climatefeverpure-dev\"]).sort_values([\"trained_on\", \"model\"]),\n",
    "    pd.concat(macro_majority_confusion[\"climatefever-dev\"]).sort_values([\"trained_on\", \"model\"]),\n",
    "    pd.concat(macro_majority_confusion[\"scifact-all\"]).sort_values([\"trained_on\", \"model\"]),\n",
    "    pd.concat(macro_majority_confusion[\"scifactpipeline-all\"]).sort_values([\"trained_on\", \"model\"])\n",
    "], axis=0).to_csv(\"tmp.csv\")"
   ]
  },
  {
   "cell_type": "code",
   "execution_count": 23,
   "id": "94f362f0-5fbd-4c60-9fc8-e4010314d0e0",
   "metadata": {
    "tags": []
   },
   "outputs": [],
   "source": [
    "pd.concat([\n",
    "    pd.concat(macro_majority_confusion[\"fever-test\"]).sort_values([\"trained_on\", \"model\"]),\n",
    "    pd.concat(macro_majority_confusion[\"climatefeverpure-test\"]).sort_values([\"trained_on\", \"model\"]),\n",
    "    pd.concat(macro_majority_confusion[\"climatefever-test\"]).sort_values([\"trained_on\", \"model\"]),\n",
    "], axis=0).to_csv(\"tmp.csv\")"
   ]
  },
  {
   "cell_type": "markdown",
   "id": "5549e701-a033-4ec8-a9c2-da68cc907f9c",
   "metadata": {},
   "source": [
    "#### Mean proba"
   ]
  },
  {
   "cell_type": "code",
   "execution_count": 24,
   "id": "d9bb244d-4f85-4bb2-ae67-2762a7b8197e",
   "metadata": {},
   "outputs": [],
   "source": [
    "macro_meanproba_summary = summarise_metrics(sent_macro_verdict_meanproba_metrics)"
   ]
  },
  {
   "cell_type": "code",
   "execution_count": 25,
   "id": "0a2617e0-d7cd-406f-8d0d-ab7fea8c24d6",
   "metadata": {},
   "outputs": [],
   "source": [
    "pd.concat([\n",
    "    pd.DataFrame(macro_meanproba_summary[\"fever-dev\"]).sort_values([\"trained_on\", \"model\"]),\n",
    "    pd.DataFrame(macro_meanproba_summary[\"climatefeverpure-dev\"]).sort_values([\"trained_on\", \"model\"]),\n",
    "    pd.DataFrame(macro_meanproba_summary[\"climatefever-dev\"]).sort_values([\"trained_on\", \"model\"]),\n",
    "    pd.DataFrame(macro_meanproba_summary[\"scifact-all\"]).sort_values([\"trained_on\", \"model\"]),\n",
    "    pd.DataFrame(macro_meanproba_summary[\"scifactpipeline-all\"]).sort_values([\"trained_on\", \"model\"])\n",
    "], axis=0).to_csv(\"tmp.csv\")"
   ]
  },
  {
   "cell_type": "code",
   "execution_count": 26,
   "id": "73e5e2ce-dfc0-4b1d-bb7e-2ea935d34d2a",
   "metadata": {},
   "outputs": [],
   "source": [
    "pd.concat([\n",
    "    pd.DataFrame(macro_meanproba_summary[\"fever-test\"]).sort_values([\"trained_on\", \"model\"]),\n",
    "    pd.DataFrame(macro_meanproba_summary[\"climatefeverpure-test\"]).sort_values([\"trained_on\", \"model\"]),\n",
    "    pd.DataFrame(macro_meanproba_summary[\"climatefever-test\"]).sort_values([\"trained_on\", \"model\"]),\n",
    "], axis=0).to_csv(\"tmp.csv\")"
   ]
  },
  {
   "cell_type": "code",
   "execution_count": 27,
   "id": "72dc1dd7-22cd-4d09-8c18-f4c86e8f40b4",
   "metadata": {},
   "outputs": [],
   "source": [
    "macro_meanproba_confusion = summarise_confusion_matrix(sent_macro_verdict_meanproba_metrics)"
   ]
  },
  {
   "cell_type": "code",
   "execution_count": 28,
   "id": "64af3339-30a8-48f6-a066-312a41549348",
   "metadata": {
    "tags": []
   },
   "outputs": [],
   "source": [
    "pd.concat([\n",
    "    pd.concat(macro_meanproba_confusion[\"fever-dev\"]).sort_values([\"trained_on\", \"model\"]),\n",
    "    pd.concat(macro_meanproba_confusion[\"climatefeverpure-dev\"]).sort_values([\"trained_on\", \"model\"]),\n",
    "    pd.concat(macro_meanproba_confusion[\"climatefever-dev\"]).sort_values([\"trained_on\", \"model\"]),\n",
    "    pd.concat(macro_meanproba_confusion[\"scifact-all\"]).sort_values([\"trained_on\", \"model\"]),\n",
    "    pd.concat(macro_meanproba_confusion[\"scifactpipeline-all\"]).sort_values([\"trained_on\", \"model\"])\n",
    "], axis=0).to_csv(\"tmp.csv\")"
   ]
  },
  {
   "cell_type": "code",
   "execution_count": 29,
   "id": "5d584463-0159-43d3-b990-eddfdd060f66",
   "metadata": {
    "tags": []
   },
   "outputs": [],
   "source": [
    "pd.concat([\n",
    "    pd.concat(macro_meanproba_confusion[\"fever-test\"]).sort_values([\"trained_on\", \"model\"]),\n",
    "    pd.concat(macro_meanproba_confusion[\"climatefeverpure-test\"]).sort_values([\"trained_on\", \"model\"]),\n",
    "    pd.concat(macro_meanproba_confusion[\"climatefever-test\"]).sort_values([\"trained_on\", \"model\"]),\n",
    "], axis=0).to_csv(\"tmp.csv\")"
   ]
  }
 ],
 "metadata": {
  "kernelspec": {
   "display_name": "Python [conda env:mainenv]",
   "language": "python",
   "name": "conda-env-mainenv-py"
  },
  "language_info": {
   "codemirror_mode": {
    "name": "ipython",
    "version": 3
   },
   "file_extension": ".py",
   "mimetype": "text/x-python",
   "name": "python",
   "nbconvert_exporter": "python",
   "pygments_lexer": "ipython3",
   "version": "3.8.17"
  }
 },
 "nbformat": 4,
 "nbformat_minor": 5
}
