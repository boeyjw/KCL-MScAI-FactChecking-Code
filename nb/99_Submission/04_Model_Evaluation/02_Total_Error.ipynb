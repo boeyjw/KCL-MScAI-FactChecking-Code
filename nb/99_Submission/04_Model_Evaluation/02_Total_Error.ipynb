{
 "cells": [
  {
   "cell_type": "code",
   "execution_count": 1,
   "id": "d1bb469e-7a28-4043-98ce-3e416f531b81",
   "metadata": {},
   "outputs": [
    {
     "name": "stderr",
     "output_type": "stream",
     "text": [
      "/scratch/users/k21190024/envs/conda/mainenv/lib/python3.8/site-packages/tqdm/auto.py:21: TqdmWarning: IProgress not found. Please update jupyter and ipywidgets. See https://ipywidgets.readthedocs.io/en/stable/user_install.html\n",
      "  from .autonotebook import tqdm as notebook_tqdm\n"
     ]
    }
   ],
   "source": [
    "import sys\n",
    "sys.path.insert(0, \"../../src\")\n",
    "import pickle as pkl\n",
    "from pathlib import Path\n",
    "from functools import partial\n",
    "from collections import Counter\n",
    "\n",
    "import pandas as pd\n",
    "import numpy as np\n",
    "\n",
    "from sentence_transformers import SentenceTransformer, util\n",
    "\n",
    "import constants\n",
    "from gen.util import read_data, write_jsonl\n",
    "from gen.special import entropy3"
   ]
  },
  {
   "cell_type": "markdown",
   "id": "99b8302c-e3bb-44fa-a1e9-df264fbe9dea",
   "metadata": {},
   "source": [
    "# Init"
   ]
  },
  {
   "cell_type": "code",
   "execution_count": 2,
   "id": "e777d5db-7226-4492-a96a-be428bad8e8c",
   "metadata": {},
   "outputs": [],
   "source": [
    "root_error = Path(\"../../errors\")\n",
    "root_data = Path(\"../../data\")\n",
    "root_metrics = Path(\"../../metrics\")"
   ]
  },
  {
   "cell_type": "code",
   "execution_count": 3,
   "id": "e1c00884-c6bf-499a-b8cd-612fc3cdcd9d",
   "metadata": {},
   "outputs": [],
   "source": [
    "sbert_model = SentenceTransformer('all-MiniLM-L6-v2')\n",
    "\n",
    "error_p = root_error\n",
    "error_p.mkdir(exist_ok=True)\n",
    "\n",
    "(error_p / \"scifact\").mkdir(exist_ok=True)\n",
    "(error_p / \"scifactpipeline\").mkdir(exist_ok=True)\n",
    "\n",
    "(error_p / \"scifact\" / \"document\").mkdir(exist_ok=True)\n",
    "(error_p / \"scifact\" / \"sentence\").mkdir(exist_ok=True)\n",
    "(error_p / \"scifactpipeline\" / \"document\").mkdir(exist_ok=True)\n",
    "(error_p / \"scifactpipeline\" / \"sentence\").mkdir(exist_ok=True)\n",
    "\n",
    "\n",
    "sf_actual_doc = read_data(root_data / \"doc-dataset\" / \"scifact.all.test.n5.jsonl\")\n",
    "sf_actual_sent = read_data(root_data / \"sent-dataset\" / \"scifact.all.test.n5.jsonl\")\n",
    "\n",
    "sf_pipe_doc = read_data(root_data / \"doc-dataset\" / \"scifactpipeline.all.test.n6.s5.jsonl\")\n",
    "sf_pipe_sent = read_data(root_data / \"sent-dataset\" / \"scifactpipeline.all.test.n6.s5.jsonl\")"
   ]
  },
  {
   "cell_type": "code",
   "execution_count": 4,
   "id": "a9e711e8-8921-447c-9332-17c930b84575",
   "metadata": {},
   "outputs": [],
   "source": [
    "def update_with_cosine_similarity(documents):\n",
    "    # Get cossim for each doc for doc data\n",
    "    claim_embedding = sbert_model.encode([doc[\"claim\"] for doc in documents], convert_to_tensor=True)\n",
    "    evidence_embedding = sbert_model.encode([doc[\"evidence\"] for doc in documents], convert_to_tensor=True)\n",
    "    cosine_score = util.cos_sim(evidence_embedding, claim_embedding)\n",
    "\n",
    "    for i in range(len(documents)):\n",
    "        documents[i][\"cosine_score\"] = float(np.round(cosine_score[i][i].cpu().numpy(), 4))\n",
    "\n",
    "update_with_cosine_similarity(sf_actual_doc)\n",
    "update_with_cosine_similarity(sf_actual_sent)\n",
    "update_with_cosine_similarity(sf_pipe_doc)\n",
    "update_with_cosine_similarity(sf_pipe_sent)"
   ]
  },
  {
   "cell_type": "code",
   "execution_count": 5,
   "id": "4344d38e-03d5-4adf-a11d-9f88e6b9b801",
   "metadata": {},
   "outputs": [],
   "source": [
    "df_sf_actual_doc = pd.DataFrame(sf_actual_doc).set_index(\"claim_id\")\n",
    "df_sf_actual_sent = pd.DataFrame(sf_actual_sent).set_index(\"claim_id\")\n",
    "\n",
    "df_sf_pipe_doc = (\n",
    "    pd.DataFrame(sf_pipe_doc)\n",
    "    .set_index(\"claim_id\")\n",
    "    .drop(columns=[\"labels\"])\n",
    "    .join(df_sf_actual_doc[[\"labels\"]], how=\"left\")\n",
    ")\n",
    "df_sf_pipe_sent = (\n",
    "    pd.DataFrame(sf_pipe_sent)\n",
    "    .set_index(\"claim_id\")\n",
    "    .drop(columns=[\"labels\"])\n",
    "    .join(df_sf_actual_doc[[\"labels\"]], how=\"left\")\n",
    ")\n",
    "\n",
    "sf_pipe_doc = df_sf_pipe_doc.reset_index().to_dict(\"records\")\n",
    "sf_pipe_sent = df_sf_pipe_sent.reset_index().to_dict(\"records\")"
   ]
  },
  {
   "cell_type": "code",
   "execution_count": 6,
   "id": "4b198afc-e276-48f6-bf05-df466bef66c7",
   "metadata": {},
   "outputs": [
    {
     "name": "stdout",
     "output_type": "stream",
     "text": [
      "concatenate_evidences_metrics\n",
      "sent_macro_verdict_meanproba_metrics\n",
      "sent_micro_verdict_metrics\n",
      "sent_macro_verdict_majority_metrics\n"
     ]
    }
   ],
   "source": [
    "for res in root_metrics.iterdir():\n",
    "    if res.suffix == \".pkl\":\n",
    "        print(res.stem)\n",
    "        with res.open(\"rb\") as fn:\n",
    "            globals()[res.stem] = pkl.load(fn)"
   ]
  },
  {
   "cell_type": "code",
   "execution_count": 7,
   "id": "c6dfb15d-b5bd-45cf-88e2-4177d8fe186f",
   "metadata": {},
   "outputs": [],
   "source": [
    "def compile_pred_actual(actual, pred):\n",
    "    df_actual = pd.DataFrame([{\"id\": doc[\"claim_id\"], \"actual\": doc[\"labels\"]} for doc in actual])\n",
    "    df_pred_ls = []\n",
    "    \n",
    "    for p in pred:\n",
    "        assert len(actual) == len(p.predictions)\n",
    "        df_pred_ls.append(pd.DataFrame([\n",
    "            {f\"{p._score_name.split('.')[0]}\": constants.LABEL2ID[doc[\"predicted_label\"]]} for doc in p.predictions\n",
    "        ]))\n",
    "    \n",
    "    return pd.concat([df_actual, pd.concat(df_pred_ls, axis=1)], axis=1).set_index(\"id\")\n",
    "\n",
    "def assign_disagree_derive_cols(df, entropy_base: int = 3):\n",
    "    _entropy = partial(entropy3, base=entropy_base)\n",
    "    df = df.assign(\n",
    "        model_agreement=df[df.filter(like=\"-\").columns].stack().groupby(level=0, sort=False).apply(lambda x: Counter(x.tolist()).most_common(3)),\n",
    "        entropy=df.loc[:, df.filter(like=\"-\").columns].apply(_entropy, axis=1)\n",
    "    )\n",
    "    # combined_error: True if at least 1 model predicted label is not the same as actual label\n",
    "    # total_error: True if all models fail to predict the actual label\n",
    "    df = df.assign(\n",
    "        combined_error=(df[\"model_agreement\"].apply(len) > 1).values | (df[\"actual\"] != df[\"model_agreement\"].apply(lambda x: x[0][0])).values,\n",
    "        total_error=df[[\"actual\", \"model_agreement\"]].apply(lambda x: x[\"actual\"] not in [i for i, _ in x[\"model_agreement\"]], axis=1)\n",
    "    )\n",
    "    return df"
   ]
  },
  {
   "cell_type": "markdown",
   "id": "7ec89aae-55fd-4207-bd05-3f1dc945908b",
   "metadata": {},
   "source": [
    "# Document Model"
   ]
  },
  {
   "cell_type": "markdown",
   "id": "0f1029a6-3a88-48a2-ba1a-6bf384a7bcbc",
   "metadata": {},
   "source": [
    "## SciFact Oracle"
   ]
  },
  {
   "cell_type": "code",
   "execution_count": 8,
   "id": "fbe8ea88-cac2-40aa-bb91-d6e1e855194f",
   "metadata": {},
   "outputs": [],
   "source": [
    "df_doc_compile = compile_pred_actual(sf_actual_doc, concatenate_evidences_metrics[\"scifact\"][\"all\"])\n",
    "df_doc_compile[\"model_agreement\"] = df_doc_compile[df_doc_compile.columns[1:]].stack().groupby(level=0, sort=False).apply(lambda x: Counter(x.tolist()).most_common(3))"
   ]
  },
  {
   "cell_type": "markdown",
   "id": "ed45aff0-a441-4291-83de-f20389a06626",
   "metadata": {},
   "source": [
    "Get model total agreement and disagreement regardless of training data"
   ]
  },
  {
   "cell_type": "code",
   "execution_count": 9,
   "id": "d06fe9ea-7693-4e33-b457-98f725944343",
   "metadata": {},
   "outputs": [
    {
     "data": {
      "text/plain": [
       "((174, 11), (935, 11))"
      ]
     },
     "execution_count": 9,
     "metadata": {},
     "output_type": "execute_result"
    }
   ],
   "source": [
    "doc_model_agree = df_doc_compile[df_doc_compile[\"model_agreement\"].apply(len) == 1]\n",
    "doc_model_disagree = df_doc_compile[df_doc_compile[\"model_agreement\"].apply(len) > 1]\n",
    "doc_model_agree.shape, doc_model_disagree.shape"
   ]
  },
  {
   "cell_type": "markdown",
   "id": "d6d327d0-4e30-43cf-bd69-b14ac21d6590",
   "metadata": {},
   "source": [
    "### Model complete agreement analysis"
   ]
  },
  {
   "cell_type": "code",
   "execution_count": 10,
   "id": "916ac930-adf7-45c5-a9ad-870cfae7bce7",
   "metadata": {},
   "outputs": [
    {
     "data": {
      "text/plain": [
       "2    9\n",
       "0    2\n",
       "Name: actual, dtype: int64"
      ]
     },
     "execution_count": 10,
     "metadata": {},
     "output_type": "execute_result"
    }
   ],
   "source": [
    "doc_model_agree_error = doc_model_agree[doc_model_agree[\"actual\"] != doc_model_agree[\"model_agreement\"].apply(lambda x: x[0][0])]\n",
    "doc_model_agree_error[\"actual\"].value_counts()"
   ]
  },
  {
   "cell_type": "code",
   "execution_count": 11,
   "id": "3bc5f25a-0542-436b-95e7-9ad4f9f2e978",
   "metadata": {
    "tags": []
   },
   "outputs": [
    {
     "data": {
      "text/plain": [
       "PosixPath('../../errors/scifact/document/doc_model_agree_total_error.jsonl')"
      ]
     },
     "execution_count": 11,
     "metadata": {},
     "output_type": "execute_result"
    }
   ],
   "source": [
    "write_jsonl(\n",
    "    error_p  / \"scifact\" / \"document\" / \"doc_model_agree_total_error.jsonl\", \n",
    "    df_sf_actual_doc.join(doc_model_agree_error[[\"model_agreement\"]], how=\"inner\").reset_index(names=\"id\").to_dict(\"records\")\n",
    ")"
   ]
  },
  {
   "cell_type": "markdown",
   "id": "cffd63e3-0c68-4c00-9eb2-4064e8021a32",
   "metadata": {},
   "source": [
    "### Model Disagreement analysis"
   ]
  },
  {
   "cell_type": "code",
   "execution_count": 12,
   "id": "abd31f14-69a2-4f0a-9a36-309fdf9b2b0c",
   "metadata": {},
   "outputs": [
    {
     "data": {
      "text/plain": [
       "(True    935\n",
       " Name: combined_error, dtype: int64,\n",
       " False    894\n",
       " True      41\n",
       " Name: total_error, dtype: int64)"
      ]
     },
     "execution_count": 12,
     "metadata": {},
     "output_type": "execute_result"
    }
   ],
   "source": [
    "doc_model_disagree = assign_disagree_derive_cols(doc_model_disagree)\n",
    "(\n",
    "    doc_model_disagree[\"combined_error\"].value_counts(),\n",
    "    doc_model_disagree[\"total_error\"].value_counts()\n",
    ")"
   ]
  },
  {
   "cell_type": "code",
   "execution_count": 13,
   "id": "b3538fbd-6d71-4a72-9c2c-daf33794d6f4",
   "metadata": {},
   "outputs": [
    {
     "data": {
      "text/plain": [
       "2    41\n",
       "Name: actual, dtype: int64"
      ]
     },
     "execution_count": 13,
     "metadata": {},
     "output_type": "execute_result"
    }
   ],
   "source": [
    "doc_model_disagree.loc[doc_model_disagree[\"total_error\"], \"actual\"].value_counts()"
   ]
  },
  {
   "cell_type": "code",
   "execution_count": 14,
   "id": "7e67c25b-1c5e-4b78-b92b-34a3fd1ccf5f",
   "metadata": {
    "tags": []
   },
   "outputs": [
    {
     "data": {
      "text/plain": [
       "PosixPath('../../errors/scifact/document/doc_model_disagree_alltrain_total_error.jsonl')"
      ]
     },
     "execution_count": 14,
     "metadata": {},
     "output_type": "execute_result"
    }
   ],
   "source": [
    "write_jsonl(\n",
    "    error_p / \"scifact\" / \"document\" / \"doc_model_disagree_alltrain_total_error.jsonl\", \n",
    "    df_sf_actual_doc.join(doc_model_disagree.loc[doc_model_disagree[\"total_error\"], [\"model_agreement\"]], how=\"inner\").reset_index(names=\"id\").to_dict(\"records\")\n",
    ")"
   ]
  },
  {
   "cell_type": "code",
   "execution_count": 15,
   "id": "1fa4a5df-1731-4438-843f-d87d3d973102",
   "metadata": {
    "tags": []
   },
   "outputs": [],
   "source": [
    "doc_model_disagree_f = assign_disagree_derive_cols(pd.concat([doc_model_disagree[[\"actual\"]], doc_model_disagree.filter(regex=\"fever-[b|x|d].*\")], axis=1), 2)\n",
    "doc_model_disagree_cfp = assign_disagree_derive_cols(pd.concat([doc_model_disagree[[\"actual\"]], doc_model_disagree.filter(regex=\"^climatefeverpure-[b|x|d].*\")], axis=1), 2)\n",
    "doc_model_disagree_c_fp = assign_disagree_derive_cols(pd.concat([doc_model_disagree[[\"actual\"]], doc_model_disagree.filter(regex=\"fever-climatefeverpure-[b|x|d].*\")], axis=1), 2)"
   ]
  },
  {
   "cell_type": "code",
   "execution_count": 16,
   "id": "64b7539a-cfc3-4048-925e-00409790ad38",
   "metadata": {},
   "outputs": [
    {
     "data": {
      "text/plain": [
       "(True     595\n",
       " False    340\n",
       " Name: combined_error, dtype: int64,\n",
       " True     486\n",
       " False    449\n",
       " Name: combined_error, dtype: int64,\n",
       " True     647\n",
       " False    288\n",
       " Name: combined_error, dtype: int64)"
      ]
     },
     "execution_count": 16,
     "metadata": {},
     "output_type": "execute_result"
    }
   ],
   "source": [
    "(\n",
    "    doc_model_disagree_f[\"combined_error\"].value_counts(), \n",
    "    doc_model_disagree_cfp[\"combined_error\"].value_counts(), \n",
    "    doc_model_disagree_c_fp[\"combined_error\"].value_counts()\n",
    ")"
   ]
  },
  {
   "cell_type": "code",
   "execution_count": 17,
   "id": "c41f4130-cd82-42c1-82c2-3a07690b27ef",
   "metadata": {},
   "outputs": [
    {
     "data": {
      "text/plain": [
       "(False    824\n",
       " True     111\n",
       " Name: total_error, dtype: int64,\n",
       " False    791\n",
       " True     144\n",
       " Name: total_error, dtype: int64,\n",
       " False    847\n",
       " True      88\n",
       " Name: total_error, dtype: int64)"
      ]
     },
     "execution_count": 17,
     "metadata": {},
     "output_type": "execute_result"
    }
   ],
   "source": [
    "(\n",
    "    doc_model_disagree_f[\"total_error\"].value_counts(), \n",
    "    doc_model_disagree_cfp[\"total_error\"].value_counts(), \n",
    "    doc_model_disagree_c_fp[\"total_error\"].value_counts()\n",
    ")"
   ]
  },
  {
   "cell_type": "code",
   "execution_count": 18,
   "id": "d59ba4d5-6f28-4316-a749-729c3ba36d94",
   "metadata": {},
   "outputs": [
    {
     "data": {
      "text/plain": [
       "(2    79\n",
       " 0    32\n",
       " Name: actual, dtype: int64,\n",
       " 2    118\n",
       " 0     23\n",
       " 1      3\n",
       " Name: actual, dtype: int64,\n",
       " 2    77\n",
       " 0    11\n",
       " Name: actual, dtype: int64)"
      ]
     },
     "execution_count": 18,
     "metadata": {},
     "output_type": "execute_result"
    }
   ],
   "source": [
    "(\n",
    "    doc_model_disagree_f.loc[doc_model_disagree_f[\"total_error\"], \"actual\"].value_counts(), \n",
    "    doc_model_disagree_cfp.loc[doc_model_disagree_cfp[\"total_error\"], \"actual\"].value_counts(), \n",
    "    doc_model_disagree_c_fp.loc[doc_model_disagree_c_fp[\"total_error\"], \"actual\"].value_counts()\n",
    ")"
   ]
  },
  {
   "cell_type": "code",
   "execution_count": 19,
   "id": "a32747db-058d-4b4b-9ec0-cbd07ae0d6bb",
   "metadata": {
    "tags": []
   },
   "outputs": [
    {
     "data": {
      "text/plain": [
       "PosixPath('../../errors/scifact/document/doc_model_disagree_fever-climatefeverpure_total_error.jsonl')"
      ]
     },
     "execution_count": 19,
     "metadata": {},
     "output_type": "execute_result"
    }
   ],
   "source": [
    "write_jsonl(\n",
    "    error_p / \"scifact\" / \"document\" / \"doc_model_disagree_fever_total_error.jsonl\", \n",
    "    df_sf_actual_doc.join(doc_model_disagree_f.loc[doc_model_disagree_f[\"total_error\"], [\"model_agreement\"]], how=\"inner\").reset_index(names=\"id\").to_dict(\"records\")\n",
    ")\n",
    "write_jsonl(\n",
    "    error_p / \"scifact\" / \"document\" / \"doc_model_disagree_climatefeverpure_total_error.jsonl\", \n",
    "    df_sf_actual_doc.join(doc_model_disagree_cfp.loc[doc_model_disagree_cfp[\"total_error\"], [\"model_agreement\"]], how=\"inner\").reset_index(names=\"id\").to_dict(\"records\")\n",
    ")\n",
    "write_jsonl(\n",
    "    error_p / \"scifact\" / \"document\" / \"doc_model_disagree_fever-climatefeverpure_total_error.jsonl\", \n",
    "    df_sf_actual_doc.join(doc_model_disagree_c_fp.loc[doc_model_disagree_c_fp[\"total_error\"], [\"model_agreement\"]], how=\"inner\").reset_index(names=\"id\").to_dict(\"records\")\n",
    ")"
   ]
  },
  {
   "cell_type": "markdown",
   "id": "da011ee8-3680-42bf-bbee-c4e873e7afee",
   "metadata": {},
   "source": [
    "## SciFact Pipeline"
   ]
  },
  {
   "cell_type": "code",
   "execution_count": 20,
   "id": "e6c46937-08f1-4a4c-8822-e7d3ca2c9bbc",
   "metadata": {},
   "outputs": [],
   "source": [
    "df_doc_compile = compile_pred_actual(sf_pipe_doc, concatenate_evidences_metrics[\"scifactpipeline\"][\"all\"])\n",
    "df_doc_compile[\"model_agreement\"] = df_doc_compile[df_doc_compile.columns[1:]].stack().groupby(level=0, sort=False).apply(lambda x: Counter(x.tolist()).most_common(3))"
   ]
  },
  {
   "cell_type": "markdown",
   "id": "3770a45e-f65c-41e3-a6da-555411018a2c",
   "metadata": {},
   "source": [
    "Get model total agreement and disagreement regardless of training data"
   ]
  },
  {
   "cell_type": "code",
   "execution_count": 21,
   "id": "c65d30e5-4343-48e2-ac25-56665a886a53",
   "metadata": {},
   "outputs": [
    {
     "data": {
      "text/plain": [
       "((20, 11), (1089, 11))"
      ]
     },
     "execution_count": 21,
     "metadata": {},
     "output_type": "execute_result"
    }
   ],
   "source": [
    "doc_model_agree = df_doc_compile[df_doc_compile[\"model_agreement\"].apply(len) == 1]\n",
    "doc_model_disagree = df_doc_compile[df_doc_compile[\"model_agreement\"].apply(len) > 1]\n",
    "doc_model_agree.shape, doc_model_disagree.shape"
   ]
  },
  {
   "cell_type": "markdown",
   "id": "eabedece-6eb0-4fd8-bbbf-3aad169ff35c",
   "metadata": {},
   "source": [
    "### Model complete agreement analysis"
   ]
  },
  {
   "cell_type": "code",
   "execution_count": 22,
   "id": "e08bfe62-6b51-45d5-9fa4-2c426476e5e6",
   "metadata": {},
   "outputs": [
    {
     "data": {
      "text/plain": [
       "2    4\n",
       "0    3\n",
       "Name: actual, dtype: int64"
      ]
     },
     "execution_count": 22,
     "metadata": {},
     "output_type": "execute_result"
    }
   ],
   "source": [
    "doc_model_agree_error = doc_model_agree[doc_model_agree[\"actual\"] != doc_model_agree[\"model_agreement\"].apply(lambda x: x[0][0])]\n",
    "doc_model_agree_error[\"actual\"].value_counts()"
   ]
  },
  {
   "cell_type": "code",
   "execution_count": 23,
   "id": "9bf37129-ca7b-424a-b90f-27de1c9a84d6",
   "metadata": {
    "tags": []
   },
   "outputs": [
    {
     "data": {
      "text/plain": [
       "PosixPath('../../errors/scifactpipeline/document/doc_model_agree_total_error.jsonl')"
      ]
     },
     "execution_count": 23,
     "metadata": {},
     "output_type": "execute_result"
    }
   ],
   "source": [
    "write_jsonl(\n",
    "    error_p / \"scifactpipeline\" / \"document\" / \"doc_model_agree_total_error.jsonl\", \n",
    "    df_sf_pipe_doc.join(doc_model_agree_error[[\"model_agreement\"]], how=\"inner\").reset_index(names=\"id\").to_dict(\"records\")\n",
    ")"
   ]
  },
  {
   "cell_type": "markdown",
   "id": "6363a00f-2a77-4baf-b115-567d6e5ac846",
   "metadata": {},
   "source": [
    "### Model Disagreement analysis"
   ]
  },
  {
   "cell_type": "code",
   "execution_count": 24,
   "id": "0fb17dfc-2803-40c9-abae-8454c66228ac",
   "metadata": {},
   "outputs": [
    {
     "data": {
      "text/plain": [
       "(True    1089\n",
       " Name: combined_error, dtype: int64,\n",
       " False    992\n",
       " True      97\n",
       " Name: total_error, dtype: int64)"
      ]
     },
     "execution_count": 24,
     "metadata": {},
     "output_type": "execute_result"
    }
   ],
   "source": [
    "doc_model_disagree = assign_disagree_derive_cols(doc_model_disagree)\n",
    "(\n",
    "    doc_model_disagree[\"combined_error\"].value_counts(),\n",
    "    doc_model_disagree[\"total_error\"].value_counts()\n",
    ")"
   ]
  },
  {
   "cell_type": "code",
   "execution_count": 25,
   "id": "6cebca9b-950e-4be7-a67b-4edbca5e11ce",
   "metadata": {},
   "outputs": [
    {
     "data": {
      "text/plain": [
       "2    85\n",
       "0    12\n",
       "Name: actual, dtype: int64"
      ]
     },
     "execution_count": 25,
     "metadata": {},
     "output_type": "execute_result"
    }
   ],
   "source": [
    "doc_model_disagree.loc[doc_model_disagree[\"total_error\"], \"actual\"].value_counts()"
   ]
  },
  {
   "cell_type": "code",
   "execution_count": 26,
   "id": "9900b434-9712-4d55-9673-2ce6bb11a8ad",
   "metadata": {
    "tags": []
   },
   "outputs": [
    {
     "data": {
      "text/plain": [
       "PosixPath('../../errors/scifactpipeline/document/doc_model_disagree_alltrain_total_error.jsonl')"
      ]
     },
     "execution_count": 26,
     "metadata": {},
     "output_type": "execute_result"
    }
   ],
   "source": [
    "write_jsonl(\n",
    "    error_p / \"scifactpipeline\" / \"document\" / \"doc_model_disagree_alltrain_total_error.jsonl\", \n",
    "    df_sf_pipe_doc.join(doc_model_disagree.loc[doc_model_disagree[\"total_error\"], [\"model_agreement\"]], how=\"inner\").reset_index(names=\"id\").to_dict(\"records\")\n",
    ")"
   ]
  },
  {
   "cell_type": "code",
   "execution_count": 27,
   "id": "8c290822-560a-4adb-9216-c00f16f921fa",
   "metadata": {
    "tags": []
   },
   "outputs": [],
   "source": [
    "doc_model_disagree_f = assign_disagree_derive_cols(pd.concat([doc_model_disagree[[\"actual\"]], doc_model_disagree.filter(regex=\"fever-[b|x|d].*\")], axis=1), 2)\n",
    "doc_model_disagree_cfp = assign_disagree_derive_cols(pd.concat([doc_model_disagree[[\"actual\"]], doc_model_disagree.filter(regex=\"^climatefeverpure-[b|x|d].*\")], axis=1), 2)\n",
    "doc_model_disagree_c_fp = assign_disagree_derive_cols(pd.concat([doc_model_disagree[[\"actual\"]], doc_model_disagree.filter(regex=\"fever-climatefeverpure-[b|x|d].*\")], axis=1), 2)"
   ]
  },
  {
   "cell_type": "code",
   "execution_count": 28,
   "id": "83a65736-d3fe-4d9e-acc0-ebce08e954a1",
   "metadata": {},
   "outputs": [
    {
     "data": {
      "text/plain": [
       "(True     1027\n",
       " False      62\n",
       " Name: combined_error, dtype: int64,\n",
       " True     873\n",
       " False    216\n",
       " Name: combined_error, dtype: int64,\n",
       " True     801\n",
       " False    288\n",
       " Name: combined_error, dtype: int64)"
      ]
     },
     "execution_count": 28,
     "metadata": {},
     "output_type": "execute_result"
    }
   ],
   "source": [
    "(\n",
    "    doc_model_disagree_f[\"combined_error\"].value_counts(), \n",
    "    doc_model_disagree_cfp[\"combined_error\"].value_counts(), \n",
    "    doc_model_disagree_c_fp[\"combined_error\"].value_counts()\n",
    ")"
   ]
  },
  {
   "cell_type": "code",
   "execution_count": 29,
   "id": "f2a20b65-3227-4c83-8421-7fb2b54ff6ca",
   "metadata": {},
   "outputs": [
    {
     "data": {
      "text/plain": [
       "(False    921\n",
       " True     168\n",
       " Name: total_error, dtype: int64,\n",
       " False    755\n",
       " True     334\n",
       " Name: total_error, dtype: int64,\n",
       " False    836\n",
       " True     253\n",
       " Name: total_error, dtype: int64)"
      ]
     },
     "execution_count": 29,
     "metadata": {},
     "output_type": "execute_result"
    }
   ],
   "source": [
    "(\n",
    "    doc_model_disagree_f[\"total_error\"].value_counts(), \n",
    "    doc_model_disagree_cfp[\"total_error\"].value_counts(), \n",
    "    doc_model_disagree_c_fp[\"total_error\"].value_counts()\n",
    ")"
   ]
  },
  {
   "cell_type": "code",
   "execution_count": 30,
   "id": "84c4d46d-4a77-41f3-a6c8-00520dba2ec4",
   "metadata": {},
   "outputs": [
    {
     "data": {
      "text/plain": [
       "(2    113\n",
       " 0     52\n",
       " 1      3\n",
       " Name: actual, dtype: int64,\n",
       " 2    208\n",
       " 0    103\n",
       " 1     23\n",
       " Name: actual, dtype: int64,\n",
       " 2    118\n",
       " 1    113\n",
       " 0     22\n",
       " Name: actual, dtype: int64)"
      ]
     },
     "execution_count": 30,
     "metadata": {},
     "output_type": "execute_result"
    }
   ],
   "source": [
    "(\n",
    "    doc_model_disagree_f.loc[doc_model_disagree_f[\"total_error\"], \"actual\"].value_counts(), \n",
    "    doc_model_disagree_cfp.loc[doc_model_disagree_cfp[\"total_error\"], \"actual\"].value_counts(), \n",
    "    doc_model_disagree_c_fp.loc[doc_model_disagree_c_fp[\"total_error\"], \"actual\"].value_counts()\n",
    ")"
   ]
  },
  {
   "cell_type": "code",
   "execution_count": 31,
   "id": "1693befd-3216-4ee7-918f-919e5d1198c5",
   "metadata": {
    "tags": []
   },
   "outputs": [
    {
     "data": {
      "text/plain": [
       "PosixPath('../../errors/scifactpipeline/document/doc_model_disagree_fever-climatefeverpure_total_error.jsonl')"
      ]
     },
     "execution_count": 31,
     "metadata": {},
     "output_type": "execute_result"
    }
   ],
   "source": [
    "write_jsonl(\n",
    "    error_p / \"scifactpipeline\" / \"document\" / \"doc_model_disagree_fever_total_error.jsonl\", \n",
    "    df_sf_pipe_doc.join(doc_model_disagree_f.loc[doc_model_disagree_f[\"total_error\"], [\"model_agreement\"]], how=\"inner\").reset_index(names=\"id\").to_dict(\"records\")\n",
    ")\n",
    "write_jsonl(\n",
    "    error_p / \"scifactpipeline\" / \"document\" / \"doc_model_disagree_climatefeverpure_total_error.jsonl\", \n",
    "    df_sf_pipe_doc.join(doc_model_disagree_cfp.loc[doc_model_disagree_cfp[\"total_error\"], [\"model_agreement\"]], how=\"inner\").reset_index(names=\"id\").to_dict(\"records\")\n",
    ")\n",
    "write_jsonl(\n",
    "    error_p / \"scifactpipeline\" / \"document\" / \"doc_model_disagree_fever-climatefeverpure_total_error.jsonl\", \n",
    "    df_sf_pipe_doc.join(doc_model_disagree_c_fp.loc[doc_model_disagree_c_fp[\"total_error\"], [\"model_agreement\"]], how=\"inner\").reset_index(names=\"id\").to_dict(\"records\")\n",
    ")"
   ]
  },
  {
   "cell_type": "markdown",
   "id": "e94f0336-9c55-4ad6-a77b-4977d23ad831",
   "metadata": {},
   "source": [
    "# Sentence Model"
   ]
  },
  {
   "cell_type": "markdown",
   "id": "0a65e85d-9089-4088-8269-5399b3ae58dd",
   "metadata": {},
   "source": [
    "## SciFact Oracle"
   ]
  },
  {
   "cell_type": "code",
   "execution_count": 32,
   "id": "21f6a352-d224-41aa-99df-8dbf03ccc02d",
   "metadata": {},
   "outputs": [],
   "source": [
    "df_sf_sent_grp = (\n",
    "    pd.DataFrame(sf_actual_sent)\n",
    "    .groupby(\"claim_id\", as_index=False, sort=False)\n",
    "    .agg({\"claim\": \"max\", \"evidence\": list, \"cosine_score\": list, \"labels\": \"max\"})\n",
    "    .set_index(\"claim_id\")\n",
    "    .loc[df_sf_actual_doc.index]\n",
    ")"
   ]
  },
  {
   "cell_type": "markdown",
   "id": "1fe478b8-01b7-4004-aaed-0dd00a33a915",
   "metadata": {},
   "source": [
    "#### Majority Aggregation"
   ]
  },
  {
   "cell_type": "code",
   "execution_count": 33,
   "id": "22eedcdf-4623-4c36-8583-87033f189e33",
   "metadata": {},
   "outputs": [],
   "source": [
    "df_maj_compile = compile_pred_actual(df_sf_sent_grp.reset_index().to_dict(\"records\"), sent_macro_verdict_majority_metrics[\"scifact\"][\"all\"])\n",
    "df_maj_compile[\"model_agreement\"] = df_maj_compile[df_maj_compile.columns[1:]].stack().groupby(level=0, sort=False).apply(lambda x: x.unique().tolist())"
   ]
  },
  {
   "cell_type": "markdown",
   "id": "45c9444a-54ea-4b5a-82d4-d3ceb7217725",
   "metadata": {},
   "source": [
    "Get model total agreement and disagreement regardless of training data"
   ]
  },
  {
   "cell_type": "code",
   "execution_count": 34,
   "id": "0f1fe94e-1697-4e40-b443-f9ebd81a9f14",
   "metadata": {},
   "outputs": [
    {
     "data": {
      "text/plain": [
       "((295, 12), (814, 12))"
      ]
     },
     "execution_count": 34,
     "metadata": {},
     "output_type": "execute_result"
    }
   ],
   "source": [
    "sent_model_agree = df_maj_compile[df_maj_compile[\"model_agreement\"].apply(len) == 1]\n",
    "sent_model_disagree = df_maj_compile[df_maj_compile[\"model_agreement\"].apply(len) > 1]\n",
    "sent_model_agree.shape, sent_model_disagree.shape"
   ]
  },
  {
   "cell_type": "markdown",
   "id": "6e98c7c0-69ad-4197-b4de-59f7987accb7",
   "metadata": {},
   "source": [
    "##### Model complete agreement analysis"
   ]
  },
  {
   "cell_type": "code",
   "execution_count": 35,
   "id": "0dd88ea1-d8d4-4beb-9dc7-178349ce2c87",
   "metadata": {},
   "outputs": [
    {
     "data": {
      "text/plain": [
       "1    66\n",
       "2    19\n",
       "0     4\n",
       "Name: actual, dtype: int64"
      ]
     },
     "execution_count": 35,
     "metadata": {},
     "output_type": "execute_result"
    }
   ],
   "source": [
    "sent_model_agree_error = sent_model_agree[sent_model_agree[\"actual\"] != sent_model_agree[\"model_agreement\"].apply(lambda x: x[0])]\n",
    "sent_model_agree_error[\"actual\"].value_counts()"
   ]
  },
  {
   "cell_type": "code",
   "execution_count": 36,
   "id": "6a67470d-3eed-4f9a-a23e-2b149f052ae8",
   "metadata": {
    "tags": []
   },
   "outputs": [
    {
     "data": {
      "text/plain": [
       "PosixPath('../../errors/scifact/sentence/majority_model_agree_total_error.jsonl')"
      ]
     },
     "execution_count": 36,
     "metadata": {},
     "output_type": "execute_result"
    }
   ],
   "source": [
    "write_jsonl(\n",
    "    error_p / \"scifact\" / \"sentence\" / \"majority_model_agree_total_error.jsonl\", \n",
    "    df_sf_sent_grp.join(sent_model_agree_error[[\"model_agreement\"]], how=\"inner\").reset_index().to_dict(\"records\")\n",
    ")"
   ]
  },
  {
   "cell_type": "markdown",
   "id": "f3124af8-ee74-4467-a26e-b7ec92675ce3",
   "metadata": {},
   "source": [
    "##### Model Disagreement analysis"
   ]
  },
  {
   "cell_type": "code",
   "execution_count": 37,
   "id": "2e1a1951-49c8-4aee-b224-d90f72f28175",
   "metadata": {},
   "outputs": [
    {
     "data": {
      "text/plain": [
       "(True    814\n",
       " Name: combined_error, dtype: int64,\n",
       " False    766\n",
       " True      48\n",
       " Name: total_error, dtype: int64)"
      ]
     },
     "execution_count": 37,
     "metadata": {},
     "output_type": "execute_result"
    }
   ],
   "source": [
    "sent_model_disagree = assign_disagree_derive_cols(sent_model_disagree)\n",
    "(\n",
    "    sent_model_disagree[\"combined_error\"].value_counts(),\n",
    "    sent_model_disagree[\"total_error\"].value_counts()\n",
    ")"
   ]
  },
  {
   "cell_type": "code",
   "execution_count": 38,
   "id": "5604edb3-669f-42f5-9a98-9782cbe50b31",
   "metadata": {},
   "outputs": [
    {
     "data": {
      "text/plain": [
       "2    30\n",
       "1    14\n",
       "0     4\n",
       "Name: actual, dtype: int64"
      ]
     },
     "execution_count": 38,
     "metadata": {},
     "output_type": "execute_result"
    }
   ],
   "source": [
    "sent_model_disagree.loc[sent_model_disagree[\"total_error\"], \"actual\"].value_counts()"
   ]
  },
  {
   "cell_type": "code",
   "execution_count": 39,
   "id": "b0b55a26-cae1-485d-9dae-2c0722accd6d",
   "metadata": {
    "tags": []
   },
   "outputs": [
    {
     "data": {
      "text/plain": [
       "PosixPath('../../errors/scifact/sentence/majority_model_disagree_alltrain_total_error.jsonl')"
      ]
     },
     "execution_count": 39,
     "metadata": {},
     "output_type": "execute_result"
    }
   ],
   "source": [
    "write_jsonl(\n",
    "    error_p / \"scifact\" / \"sentence\" / \"majority_model_disagree_alltrain_total_error.jsonl\", \n",
    "    df_sf_sent_grp.loc[sent_model_disagree[sent_model_disagree[\"total_error\"]].index].reset_index().to_dict(\"records\")\n",
    ")"
   ]
  },
  {
   "cell_type": "code",
   "execution_count": 40,
   "id": "1676007b-3b98-4435-8e10-c2355fbf490e",
   "metadata": {
    "tags": []
   },
   "outputs": [],
   "source": [
    "sent_model_disagree_f = assign_disagree_derive_cols(pd.concat([sent_model_disagree[[\"actual\"]], sent_model_disagree.filter(regex=\"^fever-[b|x].*\")], axis=1))\n",
    "sent_model_disagree_f_cf = assign_disagree_derive_cols(pd.concat([sent_model_disagree[[\"actual\"]], sent_model_disagree.filter(like=\"fever-climatefever-\")], axis=1))\n",
    "sent_model_disagree_f_cfp = assign_disagree_derive_cols(pd.concat([sent_model_disagree[[\"actual\"]], sent_model_disagree.filter(like=\"fever-climatefeverpure-\")], axis=1))\n",
    "sent_model_disagree_cf = assign_disagree_derive_cols(pd.concat([sent_model_disagree[[\"actual\"]], sent_model_disagree.filter(regex=\"^climatefever-.*\")], axis=1))\n",
    "sent_model_disagree_cfp = assign_disagree_derive_cols(pd.concat([sent_model_disagree[[\"actual\"]], sent_model_disagree.filter(regex=\"^climatefeverpure-.*\")], axis=1))"
   ]
  },
  {
   "cell_type": "code",
   "execution_count": 41,
   "id": "c2c562c6-c485-47d4-902b-86a9da54b53f",
   "metadata": {},
   "outputs": [
    {
     "data": {
      "text/plain": [
       "(True     591\n",
       " False    223\n",
       " Name: combined_error, dtype: int64,\n",
       " True     607\n",
       " False    207\n",
       " Name: combined_error, dtype: int64,\n",
       " True     590\n",
       " False    224\n",
       " Name: combined_error, dtype: int64,\n",
       " True     593\n",
       " False    221\n",
       " Name: combined_error, dtype: int64,\n",
       " True     582\n",
       " False    232\n",
       " Name: combined_error, dtype: int64)"
      ]
     },
     "execution_count": 41,
     "metadata": {},
     "output_type": "execute_result"
    }
   ],
   "source": [
    "(\n",
    "    sent_model_disagree_f[\"combined_error\"].value_counts(), \n",
    "    sent_model_disagree_cfp[\"combined_error\"].value_counts(),\n",
    "    sent_model_disagree_f_cfp[\"combined_error\"].value_counts(),\n",
    "    sent_model_disagree_cf[\"combined_error\"].value_counts(),\n",
    "    sent_model_disagree_f_cf[\"combined_error\"].value_counts() \n",
    ")"
   ]
  },
  {
   "cell_type": "code",
   "execution_count": 42,
   "id": "0715ecce-7e8c-4f6c-8ce4-3d0e97ff56db",
   "metadata": {},
   "outputs": [
    {
     "data": {
      "text/plain": [
       "(False    532\n",
       " True     282\n",
       " Name: total_error, dtype: int64,\n",
       " False    408\n",
       " True     406\n",
       " Name: total_error, dtype: int64,\n",
       " False    502\n",
       " True     312\n",
       " Name: total_error, dtype: int64,\n",
       " False    452\n",
       " True     362\n",
       " Name: total_error, dtype: int64,\n",
       " False    526\n",
       " True     288\n",
       " Name: total_error, dtype: int64)"
      ]
     },
     "execution_count": 42,
     "metadata": {},
     "output_type": "execute_result"
    }
   ],
   "source": [
    "(\n",
    "    sent_model_disagree_f[\"total_error\"].value_counts(), \n",
    "    sent_model_disagree_cfp[\"total_error\"].value_counts(),\n",
    "    sent_model_disagree_f_cfp[\"total_error\"].value_counts(),\n",
    "    sent_model_disagree_cf[\"total_error\"].value_counts(),\n",
    "    sent_model_disagree_f_cf[\"total_error\"].value_counts() \n",
    ")"
   ]
  },
  {
   "cell_type": "code",
   "execution_count": 43,
   "id": "1d80a95c-1cc1-4604-9a8a-d9e979d383fd",
   "metadata": {},
   "outputs": [
    {
     "data": {
      "text/plain": [
       "(1    186\n",
       " 2     60\n",
       " 0     36\n",
       " Name: actual, dtype: int64,\n",
       " 1    215\n",
       " 2    155\n",
       " 0     36\n",
       " Name: actual, dtype: int64,\n",
       " 1    178\n",
       " 2     82\n",
       " 0     52\n",
       " Name: actual, dtype: int64,\n",
       " 2    180\n",
       " 1    129\n",
       " 0     53\n",
       " Name: actual, dtype: int64,\n",
       " 1    123\n",
       " 2    102\n",
       " 0     63\n",
       " Name: actual, dtype: int64)"
      ]
     },
     "execution_count": 43,
     "metadata": {},
     "output_type": "execute_result"
    }
   ],
   "source": [
    "(\n",
    "    sent_model_disagree_f.loc[sent_model_disagree_f[\"total_error\"], \"actual\"].value_counts(), \n",
    "    sent_model_disagree_cfp.loc[sent_model_disagree_cfp[\"total_error\"], \"actual\"].value_counts(),\n",
    "    sent_model_disagree_f_cfp.loc[sent_model_disagree_f_cfp[\"total_error\"], \"actual\"].value_counts(),\n",
    "    sent_model_disagree_cf.loc[sent_model_disagree_cf[\"total_error\"], \"actual\"].value_counts(),\n",
    "    sent_model_disagree_f_cf.loc[sent_model_disagree_f_cf[\"total_error\"], \"actual\"].value_counts() \n",
    ")"
   ]
  },
  {
   "cell_type": "code",
   "execution_count": 44,
   "id": "e546412b-42cd-467b-9a07-23c218018d51",
   "metadata": {
    "tags": []
   },
   "outputs": [
    {
     "data": {
      "text/plain": [
       "PosixPath('../../errors/scifact/sentence/majority_model_disagree_fever-climatefever_total_error.jsonl')"
      ]
     },
     "execution_count": 44,
     "metadata": {},
     "output_type": "execute_result"
    }
   ],
   "source": [
    "write_jsonl(\n",
    "    error_p / \"scifact\" / \"sentence\" / \"majority_model_disagree_fever_total_error.jsonl\", \n",
    "    df_sf_sent_grp.loc[sent_model_disagree_f[sent_model_disagree_f[\"total_error\"]].index].reset_index().to_dict(\"records\")\n",
    ")\n",
    "write_jsonl(\n",
    "    error_p / \"scifact\" / \"sentence\" / \"majority_model_disagree_climatefeverpure_total_error.jsonl\", \n",
    "    df_sf_sent_grp.loc[sent_model_disagree_cfp[sent_model_disagree_cfp[\"total_error\"]].index].reset_index().to_dict(\"records\")\n",
    ")\n",
    "write_jsonl(\n",
    "    error_p / \"scifact\" / \"sentence\" / \"majority_model_disagree_fever-climatefeverpure_total_error.jsonl\", \n",
    "    df_sf_sent_grp.loc[sent_model_disagree_f_cfp[sent_model_disagree_f_cfp[\"total_error\"]].index].reset_index().to_dict(\"records\")\n",
    ")\n",
    "write_jsonl(\n",
    "    error_p / \"scifact\" / \"sentence\" / \"majority_model_disagree_climatefever_total_error.jsonl\", \n",
    "    df_sf_sent_grp.loc[sent_model_disagree_cf[sent_model_disagree_cf[\"total_error\"]].index].reset_index().to_dict(\"records\")\n",
    ")\n",
    "write_jsonl(\n",
    "    error_p / \"scifact\" / \"sentence\" / \"majority_model_disagree_fever-climatefever_total_error.jsonl\", \n",
    "    df_sf_sent_grp.loc[sent_model_disagree_f_cf[sent_model_disagree_f_cf[\"total_error\"]].index].reset_index().to_dict(\"records\")\n",
    ")"
   ]
  },
  {
   "cell_type": "markdown",
   "id": "4c2072d3-5dda-41a1-a444-88a2654db455",
   "metadata": {},
   "source": [
    "#### Mean Probability Aggregation"
   ]
  },
  {
   "cell_type": "code",
   "execution_count": 45,
   "id": "716400b7-2e77-4fff-8f42-c883fbc1f53c",
   "metadata": {},
   "outputs": [],
   "source": [
    "df_mpr_compile = compile_pred_actual(df_sf_sent_grp.reset_index().to_dict(\"records\"), sent_macro_verdict_meanproba_metrics[\"scifact\"][\"all\"])\n",
    "df_mpr_compile[\"model_agreement\"] = df_mpr_compile[df_mpr_compile.columns[1:]].stack().groupby(level=0, sort=False).apply(lambda x: x.unique().tolist())"
   ]
  },
  {
   "cell_type": "markdown",
   "id": "3a477bac-4f96-4824-a097-543f52dcc32d",
   "metadata": {},
   "source": [
    "Get model total agreement and disagreement regardless of training data"
   ]
  },
  {
   "cell_type": "code",
   "execution_count": 46,
   "id": "ef06d529-a8b7-452e-b987-91cd60640dab",
   "metadata": {},
   "outputs": [
    {
     "data": {
      "text/plain": [
       "((275, 12), (834, 12))"
      ]
     },
     "execution_count": 46,
     "metadata": {},
     "output_type": "execute_result"
    }
   ],
   "source": [
    "sent_model_agree = df_mpr_compile[df_mpr_compile[\"model_agreement\"].apply(len) == 1]\n",
    "sent_model_disagree = df_mpr_compile[df_mpr_compile[\"model_agreement\"].apply(len) > 1]\n",
    "sent_model_agree.shape, sent_model_disagree.shape"
   ]
  },
  {
   "cell_type": "markdown",
   "id": "dc15bfea-084f-44dd-afd8-ebd2e9ca92af",
   "metadata": {},
   "source": [
    "##### Model complete agreement analysis"
   ]
  },
  {
   "cell_type": "code",
   "execution_count": 47,
   "id": "566b48c4-4033-4472-8d60-03da74626042",
   "metadata": {},
   "outputs": [
    {
     "data": {
      "text/plain": [
       "1    65\n",
       "2    18\n",
       "0     3\n",
       "Name: actual, dtype: int64"
      ]
     },
     "execution_count": 47,
     "metadata": {},
     "output_type": "execute_result"
    }
   ],
   "source": [
    "sent_model_agree_error = sent_model_agree[sent_model_agree[\"actual\"] != sent_model_agree[\"model_agreement\"].apply(lambda x: x[0])]\n",
    "sent_model_agree_error[\"actual\"].value_counts()"
   ]
  },
  {
   "cell_type": "code",
   "execution_count": 48,
   "id": "afa0fb64-f8a7-4095-a6bb-3c459769c1ff",
   "metadata": {
    "tags": []
   },
   "outputs": [
    {
     "data": {
      "text/plain": [
       "PosixPath('../../errors/scifact/sentence/meanproba_model_agree_total_error.jsonl')"
      ]
     },
     "execution_count": 48,
     "metadata": {},
     "output_type": "execute_result"
    }
   ],
   "source": [
    "write_jsonl(\n",
    "    error_p / \"scifact\" / \"sentence\" / \"meanproba_model_agree_total_error.jsonl\", \n",
    "    df_sf_sent_grp.join(sent_model_agree_error[[\"model_agreement\"]], how=\"inner\").reset_index().to_dict(\"records\")\n",
    ")"
   ]
  },
  {
   "cell_type": "markdown",
   "id": "f0d434dc-b1d0-4d6f-b046-504aa7e5b0fd",
   "metadata": {},
   "source": [
    "##### Model Disagreement analysis"
   ]
  },
  {
   "cell_type": "code",
   "execution_count": 49,
   "id": "4ed5c1d4-b8ef-47b0-955a-509681d93c1b",
   "metadata": {},
   "outputs": [
    {
     "data": {
      "text/plain": [
       "(True    834\n",
       " Name: combined_error, dtype: int64,\n",
       " False    764\n",
       " True      70\n",
       " Name: total_error, dtype: int64)"
      ]
     },
     "execution_count": 49,
     "metadata": {},
     "output_type": "execute_result"
    }
   ],
   "source": [
    "sent_model_disagree = assign_disagree_derive_cols(sent_model_disagree)\n",
    "(\n",
    "    sent_model_disagree[\"combined_error\"].value_counts(),\n",
    "    sent_model_disagree[\"total_error\"].value_counts()\n",
    ")"
   ]
  },
  {
   "cell_type": "code",
   "execution_count": 50,
   "id": "d47e3dae-e26b-4bb2-a2f8-87ad1327c4b9",
   "metadata": {},
   "outputs": [
    {
     "data": {
      "text/plain": [
       "2    36\n",
       "1    27\n",
       "0     7\n",
       "Name: actual, dtype: int64"
      ]
     },
     "execution_count": 50,
     "metadata": {},
     "output_type": "execute_result"
    }
   ],
   "source": [
    "sent_model_disagree.loc[sent_model_disagree[\"total_error\"], \"actual\"].value_counts()"
   ]
  },
  {
   "cell_type": "code",
   "execution_count": 51,
   "id": "b08020cd-dc82-48ec-860c-5755622a41ab",
   "metadata": {
    "tags": []
   },
   "outputs": [
    {
     "data": {
      "text/plain": [
       "PosixPath('../../errors/scifact/sentence/meanproba_model_disagree_alltrain_total_error.jsonl')"
      ]
     },
     "execution_count": 51,
     "metadata": {},
     "output_type": "execute_result"
    }
   ],
   "source": [
    "write_jsonl(\n",
    "    error_p / \"scifact\" / \"sentence\" / \"meanproba_model_disagree_alltrain_total_error.jsonl\", \n",
    "    df_sf_sent_grp.loc[sent_model_disagree[sent_model_disagree[\"total_error\"]].index].reset_index().to_dict(\"records\")\n",
    ")"
   ]
  },
  {
   "cell_type": "code",
   "execution_count": 52,
   "id": "8fd0ece9-0fbd-4c74-b4ab-4c3e7bc45d76",
   "metadata": {
    "tags": []
   },
   "outputs": [],
   "source": [
    "sent_model_disagree_f = assign_disagree_derive_cols(pd.concat([sent_model_disagree[[\"actual\"]], sent_model_disagree.filter(regex=\"^fever-[b|x].*\")], axis=1))\n",
    "sent_model_disagree_f_cf = assign_disagree_derive_cols(pd.concat([sent_model_disagree[[\"actual\"]], sent_model_disagree.filter(like=\"fever-climatefever-\")], axis=1))\n",
    "sent_model_disagree_f_cfp = assign_disagree_derive_cols(pd.concat([sent_model_disagree[[\"actual\"]], sent_model_disagree.filter(like=\"fever-climatefeverpure-\")], axis=1))\n",
    "sent_model_disagree_cf = assign_disagree_derive_cols(pd.concat([sent_model_disagree[[\"actual\"]], sent_model_disagree.filter(regex=\"^climatefever-.*\")], axis=1))\n",
    "sent_model_disagree_cfp = assign_disagree_derive_cols(pd.concat([sent_model_disagree[[\"actual\"]], sent_model_disagree.filter(regex=\"^climatefeverpure-.*\")], axis=1))"
   ]
  },
  {
   "cell_type": "code",
   "execution_count": 53,
   "id": "9dc8e841-1721-4d38-9832-b442e4616d5c",
   "metadata": {},
   "outputs": [
    {
     "data": {
      "text/plain": [
       "(True     606\n",
       " False    228\n",
       " Name: combined_error, dtype: int64,\n",
       " True     609\n",
       " False    225\n",
       " Name: combined_error, dtype: int64,\n",
       " True     607\n",
       " False    227\n",
       " Name: combined_error, dtype: int64,\n",
       " True     594\n",
       " False    240\n",
       " Name: combined_error, dtype: int64,\n",
       " True     588\n",
       " False    246\n",
       " Name: combined_error, dtype: int64)"
      ]
     },
     "execution_count": 53,
     "metadata": {},
     "output_type": "execute_result"
    }
   ],
   "source": [
    "(\n",
    "    sent_model_disagree_f[\"combined_error\"].value_counts(), \n",
    "    sent_model_disagree_cfp[\"combined_error\"].value_counts(),\n",
    "    sent_model_disagree_f_cfp[\"combined_error\"].value_counts(),\n",
    "    sent_model_disagree_cf[\"combined_error\"].value_counts(),\n",
    "    sent_model_disagree_f_cf[\"combined_error\"].value_counts() \n",
    ")"
   ]
  },
  {
   "cell_type": "code",
   "execution_count": 54,
   "id": "037ae638-54d2-49a4-a337-f515f8102eb2",
   "metadata": {},
   "outputs": [
    {
     "data": {
      "text/plain": [
       "(True     417\n",
       " False    417\n",
       " Name: total_error, dtype: int64,\n",
       " False    452\n",
       " True     382\n",
       " Name: total_error, dtype: int64,\n",
       " False    498\n",
       " True     336\n",
       " Name: total_error, dtype: int64,\n",
       " False    484\n",
       " True     350\n",
       " Name: total_error, dtype: int64,\n",
       " False    521\n",
       " True     313\n",
       " Name: total_error, dtype: int64)"
      ]
     },
     "execution_count": 54,
     "metadata": {},
     "output_type": "execute_result"
    }
   ],
   "source": [
    "(\n",
    "    sent_model_disagree_f[\"total_error\"].value_counts(), \n",
    "    sent_model_disagree_cfp[\"total_error\"].value_counts(),\n",
    "    sent_model_disagree_f_cfp[\"total_error\"].value_counts(),\n",
    "    sent_model_disagree_cf[\"total_error\"].value_counts(),\n",
    "    sent_model_disagree_f_cf[\"total_error\"].value_counts() \n",
    ")"
   ]
  },
  {
   "cell_type": "code",
   "execution_count": 55,
   "id": "baf0c542-b0ec-4184-a899-1ab9dc347d00",
   "metadata": {},
   "outputs": [
    {
     "data": {
      "text/plain": [
       "(1    302\n",
       " 2     67\n",
       " 0     48\n",
       " Name: actual, dtype: int64,\n",
       " 1    184\n",
       " 2    160\n",
       " 0     38\n",
       " Name: actual, dtype: int64,\n",
       " 1    181\n",
       " 2     86\n",
       " 0     69\n",
       " Name: actual, dtype: int64,\n",
       " 2    187\n",
       " 0     83\n",
       " 1     80\n",
       " Name: actual, dtype: int64,\n",
       " 2    114\n",
       " 1    109\n",
       " 0     90\n",
       " Name: actual, dtype: int64)"
      ]
     },
     "execution_count": 55,
     "metadata": {},
     "output_type": "execute_result"
    }
   ],
   "source": [
    "(\n",
    "    sent_model_disagree_f.loc[sent_model_disagree_f[\"total_error\"], \"actual\"].value_counts(), \n",
    "    sent_model_disagree_cfp.loc[sent_model_disagree_cfp[\"total_error\"], \"actual\"].value_counts(),\n",
    "    sent_model_disagree_f_cfp.loc[sent_model_disagree_f_cfp[\"total_error\"], \"actual\"].value_counts(),\n",
    "    sent_model_disagree_cf.loc[sent_model_disagree_cf[\"total_error\"], \"actual\"].value_counts(),\n",
    "    sent_model_disagree_f_cf.loc[sent_model_disagree_f_cf[\"total_error\"], \"actual\"].value_counts() \n",
    ")"
   ]
  },
  {
   "cell_type": "code",
   "execution_count": 56,
   "id": "cc1ebe30-148b-4e78-8773-0dbc50f1b899",
   "metadata": {
    "tags": []
   },
   "outputs": [
    {
     "data": {
      "text/plain": [
       "PosixPath('../../errors/scifact/sentence/meanproba_model_disagree_fever-climatefever_total_error.jsonl')"
      ]
     },
     "execution_count": 56,
     "metadata": {},
     "output_type": "execute_result"
    }
   ],
   "source": [
    "write_jsonl(\n",
    "    error_p / \"scifact\" / \"sentence\" / \"meanproba_model_disagree_fever_total_error.jsonl\", \n",
    "    df_sf_sent_grp.loc[sent_model_disagree_f[sent_model_disagree_f[\"total_error\"]].index].reset_index().to_dict(\"records\")\n",
    ")\n",
    "write_jsonl(\n",
    "    error_p / \"scifact\" / \"sentence\" / \"meanproba_model_disagree_climatefeverpure_total_error.jsonl\", \n",
    "    df_sf_sent_grp.loc[sent_model_disagree_cfp[sent_model_disagree_cfp[\"total_error\"]].index].reset_index().to_dict(\"records\")\n",
    ")\n",
    "write_jsonl(\n",
    "    error_p / \"scifact\" / \"sentence\" / \"meanproba_model_disagree_fever-climatefeverpure_total_error.jsonl\", \n",
    "    df_sf_sent_grp.loc[sent_model_disagree_f_cfp[sent_model_disagree_f_cfp[\"total_error\"]].index].reset_index().to_dict(\"records\")\n",
    ")\n",
    "write_jsonl(\n",
    "    error_p / \"scifact\" / \"sentence\" / \"meanproba_model_disagree_climatefever_total_error.jsonl\", \n",
    "    df_sf_sent_grp.loc[sent_model_disagree_cf[sent_model_disagree_cf[\"total_error\"]].index].reset_index().to_dict(\"records\")\n",
    ")\n",
    "write_jsonl(\n",
    "    error_p / \"scifact\" / \"sentence\" / \"meanproba_model_disagree_fever-climatefever_total_error.jsonl\", \n",
    "    df_sf_sent_grp.loc[sent_model_disagree_f_cf[sent_model_disagree_f_cf[\"total_error\"]].index].reset_index().to_dict(\"records\")\n",
    ")"
   ]
  },
  {
   "cell_type": "markdown",
   "id": "634b8eb1-c8b8-4047-b85b-2b2522bce8b6",
   "metadata": {},
   "source": [
    "## SciFact Pipeline"
   ]
  },
  {
   "cell_type": "code",
   "execution_count": 57,
   "id": "a9f5912a-3cb8-4867-9c0e-44f36cf4205d",
   "metadata": {},
   "outputs": [],
   "source": [
    "df_sf_sent_grp = (\n",
    "    df_sf_pipe_sent.reset_index()\n",
    "    .groupby(\"claim_id\", as_index=False, sort=False)\n",
    "    .agg({\"claim\": \"max\", \"evidence\": list, \"cosine_score\": list, \"labels\": \"max\"})\n",
    "    .set_index(\"claim_id\")\n",
    "    .loc[df_sf_pipe_doc.index]\n",
    ")"
   ]
  },
  {
   "cell_type": "markdown",
   "id": "a3473708-2733-4768-8280-3292e83fda8f",
   "metadata": {},
   "source": [
    "#### Majority Aggregation"
   ]
  },
  {
   "cell_type": "code",
   "execution_count": 58,
   "id": "a734d90d-13d5-4dda-b4a3-8f6ab1954c17",
   "metadata": {},
   "outputs": [],
   "source": [
    "df_maj_compile = compile_pred_actual(df_sf_sent_grp.reset_index().to_dict(\"records\"), sent_macro_verdict_majority_metrics[\"scifactpipeline\"][\"all\"])\n",
    "df_maj_compile[\"model_agreement\"] = df_maj_compile[df_maj_compile.columns[1:]].stack().groupby(level=0, sort=False).apply(lambda x: x.unique().tolist())"
   ]
  },
  {
   "cell_type": "markdown",
   "id": "5e222368-99aa-4103-b4ec-abc7aee578e1",
   "metadata": {},
   "source": [
    "Get model total agreement and disagreement regardless of training data"
   ]
  },
  {
   "cell_type": "code",
   "execution_count": 59,
   "id": "a09c51e1-1eb6-4853-aaf5-da6b7e10bc21",
   "metadata": {},
   "outputs": [
    {
     "data": {
      "text/plain": [
       "((389, 12), (720, 12))"
      ]
     },
     "execution_count": 59,
     "metadata": {},
     "output_type": "execute_result"
    }
   ],
   "source": [
    "sent_model_agree = df_maj_compile[df_maj_compile[\"model_agreement\"].apply(len) == 1]\n",
    "sent_model_disagree = df_maj_compile[df_maj_compile[\"model_agreement\"].apply(len) > 1]\n",
    "sent_model_agree.shape, sent_model_disagree.shape"
   ]
  },
  {
   "cell_type": "markdown",
   "id": "49a5bbc3-00c9-4b38-8fc3-25f5052defbd",
   "metadata": {},
   "source": [
    "##### Model complete agreement analysis"
   ]
  },
  {
   "cell_type": "code",
   "execution_count": 60,
   "id": "0964b573-8742-4283-ab94-6b21794b0952",
   "metadata": {},
   "outputs": [
    {
     "data": {
      "text/plain": [
       "1    100\n",
       "2     37\n",
       "0      3\n",
       "Name: actual, dtype: int64"
      ]
     },
     "execution_count": 60,
     "metadata": {},
     "output_type": "execute_result"
    }
   ],
   "source": [
    "sent_model_agree_error = sent_model_agree[sent_model_agree[\"actual\"] != sent_model_agree[\"model_agreement\"].apply(lambda x: x[0])]\n",
    "sent_model_agree_error[\"actual\"].value_counts()"
   ]
  },
  {
   "cell_type": "code",
   "execution_count": 61,
   "id": "581bd6bb-a46a-489c-8797-c72d88e5fe71",
   "metadata": {
    "tags": []
   },
   "outputs": [
    {
     "data": {
      "text/plain": [
       "PosixPath('../../errors/scifactpipeline/sentence/majority_model_agree_total_error.jsonl')"
      ]
     },
     "execution_count": 61,
     "metadata": {},
     "output_type": "execute_result"
    }
   ],
   "source": [
    "write_jsonl(\n",
    "    error_p / \"scifactpipeline\" / \"sentence\" / \"majority_model_agree_total_error.jsonl\", \n",
    "    df_sf_sent_grp.join(sent_model_agree_error[[\"model_agreement\"]], how=\"inner\").reset_index().to_dict(\"records\")\n",
    ")"
   ]
  },
  {
   "cell_type": "markdown",
   "id": "b1ce7c49-132d-4e10-b486-c8a618ac61ea",
   "metadata": {},
   "source": [
    "##### Model Disagreement analysis"
   ]
  },
  {
   "cell_type": "code",
   "execution_count": 62,
   "id": "52a712ed-6589-43b3-9af8-54b2288f41d5",
   "metadata": {},
   "outputs": [
    {
     "data": {
      "text/plain": [
       "(True    720\n",
       " Name: combined_error, dtype: int64,\n",
       " False    638\n",
       " True      82\n",
       " Name: total_error, dtype: int64)"
      ]
     },
     "execution_count": 62,
     "metadata": {},
     "output_type": "execute_result"
    }
   ],
   "source": [
    "sent_model_disagree = assign_disagree_derive_cols(sent_model_disagree)\n",
    "(\n",
    "    sent_model_disagree[\"combined_error\"].value_counts(),\n",
    "    sent_model_disagree[\"total_error\"].value_counts()\n",
    ")"
   ]
  },
  {
   "cell_type": "code",
   "execution_count": 63,
   "id": "72e6978d-d504-4e16-be29-df2bf40223a0",
   "metadata": {},
   "outputs": [
    {
     "data": {
      "text/plain": [
       "1    52\n",
       "2    22\n",
       "0     8\n",
       "Name: actual, dtype: int64"
      ]
     },
     "execution_count": 63,
     "metadata": {},
     "output_type": "execute_result"
    }
   ],
   "source": [
    "sent_model_disagree.loc[sent_model_disagree[\"total_error\"], \"actual\"].value_counts()"
   ]
  },
  {
   "cell_type": "code",
   "execution_count": 64,
   "id": "157a5f50-0337-487c-82c9-559149f139b0",
   "metadata": {
    "tags": []
   },
   "outputs": [
    {
     "data": {
      "text/plain": [
       "PosixPath('../../errors/scifactpipeline/sentence/majority_model_disagree_alltrain_total_error.jsonl')"
      ]
     },
     "execution_count": 64,
     "metadata": {},
     "output_type": "execute_result"
    }
   ],
   "source": [
    "write_jsonl(\n",
    "    error_p / \"scifactpipeline\" / \"sentence\" / \"majority_model_disagree_alltrain_total_error.jsonl\", \n",
    "    df_sf_sent_grp.loc[sent_model_disagree[sent_model_disagree[\"total_error\"]].index].reset_index().to_dict(\"records\")\n",
    ")"
   ]
  },
  {
   "cell_type": "code",
   "execution_count": 65,
   "id": "06203083-6782-40fe-9656-a76d4d110616",
   "metadata": {
    "tags": []
   },
   "outputs": [],
   "source": [
    "sent_model_disagree_f = assign_disagree_derive_cols(pd.concat([sent_model_disagree[[\"actual\"]], sent_model_disagree.filter(regex=\"^fever-[b|x].*\")], axis=1))\n",
    "sent_model_disagree_f_cf = assign_disagree_derive_cols(pd.concat([sent_model_disagree[[\"actual\"]], sent_model_disagree.filter(like=\"fever-climatefever-\")], axis=1))\n",
    "sent_model_disagree_f_cfp = assign_disagree_derive_cols(pd.concat([sent_model_disagree[[\"actual\"]], sent_model_disagree.filter(like=\"fever-climatefeverpure-\")], axis=1))\n",
    "sent_model_disagree_cf = assign_disagree_derive_cols(pd.concat([sent_model_disagree[[\"actual\"]], sent_model_disagree.filter(regex=\"^climatefever-.*\")], axis=1))\n",
    "sent_model_disagree_cfp = assign_disagree_derive_cols(pd.concat([sent_model_disagree[[\"actual\"]], sent_model_disagree.filter(regex=\"^climatefeverpure-.*\")], axis=1))"
   ]
  },
  {
   "cell_type": "code",
   "execution_count": 66,
   "id": "a82d449b-f531-456f-b1dd-e58cb76dffeb",
   "metadata": {},
   "outputs": [
    {
     "data": {
      "text/plain": [
       "(True     561\n",
       " False    159\n",
       " Name: combined_error, dtype: int64,\n",
       " True     529\n",
       " False    191\n",
       " Name: combined_error, dtype: int64,\n",
       " True     550\n",
       " False    170\n",
       " Name: combined_error, dtype: int64,\n",
       " True     504\n",
       " False    216\n",
       " Name: combined_error, dtype: int64,\n",
       " True     527\n",
       " False    193\n",
       " Name: combined_error, dtype: int64)"
      ]
     },
     "execution_count": 66,
     "metadata": {},
     "output_type": "execute_result"
    }
   ],
   "source": [
    "(\n",
    "    sent_model_disagree_f[\"combined_error\"].value_counts(), \n",
    "    sent_model_disagree_cfp[\"combined_error\"].value_counts(),\n",
    "    sent_model_disagree_f_cfp[\"combined_error\"].value_counts(),\n",
    "    sent_model_disagree_cf[\"combined_error\"].value_counts(),\n",
    "    sent_model_disagree_f_cf[\"combined_error\"].value_counts() \n",
    ")"
   ]
  },
  {
   "cell_type": "code",
   "execution_count": 67,
   "id": "98603ae6-6633-439f-a739-24a219d6008c",
   "metadata": {},
   "outputs": [
    {
     "data": {
      "text/plain": [
       "(True     363\n",
       " False    357\n",
       " Name: total_error, dtype: int64,\n",
       " True     373\n",
       " False    347\n",
       " Name: total_error, dtype: int64,\n",
       " False    414\n",
       " True     306\n",
       " Name: total_error, dtype: int64,\n",
       " False    394\n",
       " True     326\n",
       " Name: total_error, dtype: int64,\n",
       " False    453\n",
       " True     267\n",
       " Name: total_error, dtype: int64)"
      ]
     },
     "execution_count": 67,
     "metadata": {},
     "output_type": "execute_result"
    }
   ],
   "source": [
    "(\n",
    "    sent_model_disagree_f[\"total_error\"].value_counts(), \n",
    "    sent_model_disagree_cfp[\"total_error\"].value_counts(),\n",
    "    sent_model_disagree_f_cfp[\"total_error\"].value_counts(),\n",
    "    sent_model_disagree_cf[\"total_error\"].value_counts(),\n",
    "    sent_model_disagree_f_cf[\"total_error\"].value_counts() \n",
    ")"
   ]
  },
  {
   "cell_type": "code",
   "execution_count": 68,
   "id": "b39ed0e3-de78-4edc-9663-8ad315c6b0b3",
   "metadata": {},
   "outputs": [
    {
     "data": {
      "text/plain": [
       "(1    275\n",
       " 2     44\n",
       " 0     44\n",
       " Name: actual, dtype: int64,\n",
       " 1    209\n",
       " 2    137\n",
       " 0     27\n",
       " Name: actual, dtype: int64,\n",
       " 1    203\n",
       " 2     60\n",
       " 0     43\n",
       " Name: actual, dtype: int64,\n",
       " 2    156\n",
       " 1    137\n",
       " 0     33\n",
       " Name: actual, dtype: int64,\n",
       " 1    147\n",
       " 2     79\n",
       " 0     41\n",
       " Name: actual, dtype: int64)"
      ]
     },
     "execution_count": 68,
     "metadata": {},
     "output_type": "execute_result"
    }
   ],
   "source": [
    "(\n",
    "    sent_model_disagree_f.loc[sent_model_disagree_f[\"total_error\"], \"actual\"].value_counts(), \n",
    "    sent_model_disagree_cfp.loc[sent_model_disagree_cfp[\"total_error\"], \"actual\"].value_counts(),\n",
    "    sent_model_disagree_f_cfp.loc[sent_model_disagree_f_cfp[\"total_error\"], \"actual\"].value_counts(),\n",
    "    sent_model_disagree_cf.loc[sent_model_disagree_cf[\"total_error\"], \"actual\"].value_counts(),\n",
    "    sent_model_disagree_f_cf.loc[sent_model_disagree_f_cf[\"total_error\"], \"actual\"].value_counts() \n",
    ")"
   ]
  },
  {
   "cell_type": "code",
   "execution_count": 69,
   "id": "afcde362-9dff-4ec1-b1c5-e60c114e00e0",
   "metadata": {
    "tags": []
   },
   "outputs": [
    {
     "data": {
      "text/plain": [
       "PosixPath('../../errors/scifactpipeline/sentence/majority_model_disagree_fever-climatefever_total_error.jsonl')"
      ]
     },
     "execution_count": 69,
     "metadata": {},
     "output_type": "execute_result"
    }
   ],
   "source": [
    "write_jsonl(\n",
    "    error_p / \"scifactpipeline\" / \"sentence\" / \"majority_model_disagree_fever_total_error.jsonl\", \n",
    "    df_sf_sent_grp.loc[sent_model_disagree_f[sent_model_disagree_f[\"total_error\"]].index].reset_index().to_dict(\"records\")\n",
    ")\n",
    "write_jsonl(\n",
    "    error_p / \"scifactpipeline\" / \"sentence\" / \"majority_model_disagree_climatefeverpure_total_error.jsonl\", \n",
    "    df_sf_sent_grp.loc[sent_model_disagree_cfp[sent_model_disagree_cfp[\"total_error\"]].index].reset_index().to_dict(\"records\")\n",
    ")\n",
    "write_jsonl(\n",
    "    error_p / \"scifactpipeline\" / \"sentence\" / \"majority_model_disagree_fever-climatefeverpure_total_error.jsonl\", \n",
    "    df_sf_sent_grp.loc[sent_model_disagree_f_cfp[sent_model_disagree_f_cfp[\"total_error\"]].index].reset_index().to_dict(\"records\")\n",
    ")\n",
    "write_jsonl(\n",
    "    error_p / \"scifactpipeline\" / \"sentence\" / \"majority_model_disagree_climatefever_total_error.jsonl\", \n",
    "    df_sf_sent_grp.loc[sent_model_disagree_cf[sent_model_disagree_cf[\"total_error\"]].index].reset_index().to_dict(\"records\")\n",
    ")\n",
    "write_jsonl(\n",
    "    error_p / \"scifactpipeline\" / \"sentence\" / \"majority_model_disagree_fever-climatefever_total_error.jsonl\", \n",
    "    df_sf_sent_grp.loc[sent_model_disagree_f_cf[sent_model_disagree_f_cf[\"total_error\"]].index].reset_index().to_dict(\"records\")\n",
    ")"
   ]
  },
  {
   "cell_type": "markdown",
   "id": "52c1302e-9fbe-450e-9f56-e2e15d058e95",
   "metadata": {},
   "source": [
    "#### Mean Probability Aggregation"
   ]
  },
  {
   "cell_type": "code",
   "execution_count": 70,
   "id": "3f140194-c10d-4aa4-a2a3-52bea9e92060",
   "metadata": {},
   "outputs": [],
   "source": [
    "df_mpr_compile = compile_pred_actual(df_sf_sent_grp.reset_index().to_dict(\"records\"), sent_macro_verdict_meanproba_metrics[\"scifactpipeline\"][\"all\"])\n",
    "df_mpr_compile[\"model_agreement\"] = df_mpr_compile[df_mpr_compile.columns[1:]].stack().groupby(level=0, sort=False).apply(lambda x: x.unique().tolist())"
   ]
  },
  {
   "cell_type": "markdown",
   "id": "52ee6d19-2ec0-4f60-9701-439e534f9bdc",
   "metadata": {},
   "source": [
    "Get model total agreement and disagreement regardless of training data"
   ]
  },
  {
   "cell_type": "code",
   "execution_count": 71,
   "id": "431ce758-c531-4a5c-bdb8-b27d9903bb78",
   "metadata": {},
   "outputs": [
    {
     "data": {
      "text/plain": [
       "((251, 12), (858, 12))"
      ]
     },
     "execution_count": 71,
     "metadata": {},
     "output_type": "execute_result"
    }
   ],
   "source": [
    "sent_model_agree = df_mpr_compile[df_mpr_compile[\"model_agreement\"].apply(len) == 1]\n",
    "sent_model_disagree = df_mpr_compile[df_mpr_compile[\"model_agreement\"].apply(len) > 1]\n",
    "sent_model_agree.shape, sent_model_disagree.shape"
   ]
  },
  {
   "cell_type": "markdown",
   "id": "13620407-5634-400a-8071-6589c5cec7f2",
   "metadata": {},
   "source": [
    "##### Model complete agreement analysis"
   ]
  },
  {
   "cell_type": "code",
   "execution_count": 72,
   "id": "16bf1a46-fdcb-4867-8360-79a8b609c385",
   "metadata": {},
   "outputs": [
    {
     "data": {
      "text/plain": [
       "1    48\n",
       "2    18\n",
       "0     2\n",
       "Name: actual, dtype: int64"
      ]
     },
     "execution_count": 72,
     "metadata": {},
     "output_type": "execute_result"
    }
   ],
   "source": [
    "sent_model_agree_error = sent_model_agree[sent_model_agree[\"actual\"] != sent_model_agree[\"model_agreement\"].apply(lambda x: x[0])]\n",
    "sent_model_agree_error[\"actual\"].value_counts()"
   ]
  },
  {
   "cell_type": "code",
   "execution_count": 73,
   "id": "78c305e3-940a-47de-9a42-49e34221cad1",
   "metadata": {
    "tags": []
   },
   "outputs": [
    {
     "data": {
      "text/plain": [
       "PosixPath('../../errors/scifactpipeline/sentence/meanproba_model_agree_total_error.jsonl')"
      ]
     },
     "execution_count": 73,
     "metadata": {},
     "output_type": "execute_result"
    }
   ],
   "source": [
    "write_jsonl(\n",
    "    error_p / \"scifactpipeline\" / \"sentence\" / \"meanproba_model_agree_total_error.jsonl\", \n",
    "    df_sf_sent_grp.join(sent_model_agree_error[[\"model_agreement\"]], how=\"inner\").reset_index().to_dict(\"records\")\n",
    ")"
   ]
  },
  {
   "cell_type": "markdown",
   "id": "e62843f5-a64b-418b-bc91-e94ca8cc4459",
   "metadata": {},
   "source": [
    "##### Model Disagreement analysis"
   ]
  },
  {
   "cell_type": "code",
   "execution_count": 74,
   "id": "5d42ef10-3ed7-4061-8c81-50da1229b0ff",
   "metadata": {},
   "outputs": [
    {
     "data": {
      "text/plain": [
       "(True    858\n",
       " Name: combined_error, dtype: int64,\n",
       " False    784\n",
       " True      74\n",
       " Name: total_error, dtype: int64)"
      ]
     },
     "execution_count": 74,
     "metadata": {},
     "output_type": "execute_result"
    }
   ],
   "source": [
    "sent_model_disagree = assign_disagree_derive_cols(sent_model_disagree)\n",
    "(\n",
    "    sent_model_disagree[\"combined_error\"].value_counts(),\n",
    "    sent_model_disagree[\"total_error\"].value_counts()\n",
    ")"
   ]
  },
  {
   "cell_type": "code",
   "execution_count": 75,
   "id": "0bc80ec2-22c6-469a-91c0-922c17277a97",
   "metadata": {},
   "outputs": [
    {
     "data": {
      "text/plain": [
       "2    50\n",
       "1    14\n",
       "0    10\n",
       "Name: actual, dtype: int64"
      ]
     },
     "execution_count": 75,
     "metadata": {},
     "output_type": "execute_result"
    }
   ],
   "source": [
    "sent_model_disagree.loc[sent_model_disagree[\"total_error\"], \"actual\"].value_counts()"
   ]
  },
  {
   "cell_type": "code",
   "execution_count": 76,
   "id": "1dbff1d9-4db3-4099-8155-b527afed7452",
   "metadata": {
    "tags": []
   },
   "outputs": [
    {
     "data": {
      "text/plain": [
       "PosixPath('../../errors/scifactpipeline/sentence/meanproba_model_disagree_alltrain_total_error.jsonl')"
      ]
     },
     "execution_count": 76,
     "metadata": {},
     "output_type": "execute_result"
    }
   ],
   "source": [
    "write_jsonl(\n",
    "    error_p / \"scifactpipeline\" / \"sentence\" / \"meanproba_model_disagree_alltrain_total_error.jsonl\", \n",
    "    df_sf_sent_grp.loc[sent_model_disagree[sent_model_disagree[\"total_error\"]].index].reset_index().to_dict(\"records\")\n",
    ")"
   ]
  },
  {
   "cell_type": "code",
   "execution_count": 77,
   "id": "e56b3505-64ab-495b-a7d0-59f722455499",
   "metadata": {
    "tags": []
   },
   "outputs": [],
   "source": [
    "sent_model_disagree_f = assign_disagree_derive_cols(pd.concat([sent_model_disagree[[\"actual\"]], sent_model_disagree.filter(regex=\"^fever-[b|x].*\")], axis=1))\n",
    "sent_model_disagree_f_cf = assign_disagree_derive_cols(pd.concat([sent_model_disagree[[\"actual\"]], sent_model_disagree.filter(like=\"fever-climatefever-\")], axis=1))\n",
    "sent_model_disagree_f_cfp = assign_disagree_derive_cols(pd.concat([sent_model_disagree[[\"actual\"]], sent_model_disagree.filter(like=\"fever-climatefeverpure-\")], axis=1))\n",
    "sent_model_disagree_cf = assign_disagree_derive_cols(pd.concat([sent_model_disagree[[\"actual\"]], sent_model_disagree.filter(regex=\"^climatefever-.*\")], axis=1))\n",
    "sent_model_disagree_cfp = assign_disagree_derive_cols(pd.concat([sent_model_disagree[[\"actual\"]], sent_model_disagree.filter(regex=\"^climatefeverpure-.*\")], axis=1))"
   ]
  },
  {
   "cell_type": "code",
   "execution_count": 78,
   "id": "2b754081-4199-483b-9ab7-dafe8d38522a",
   "metadata": {},
   "outputs": [
    {
     "data": {
      "text/plain": [
       "(True     618\n",
       " False    240\n",
       " Name: combined_error, dtype: int64,\n",
       " True     625\n",
       " False    233\n",
       " Name: combined_error, dtype: int64,\n",
       " True     605\n",
       " False    253\n",
       " Name: combined_error, dtype: int64,\n",
       " True     594\n",
       " False    264\n",
       " Name: combined_error, dtype: int64,\n",
       " True     582\n",
       " False    276\n",
       " Name: combined_error, dtype: int64)"
      ]
     },
     "execution_count": 78,
     "metadata": {},
     "output_type": "execute_result"
    }
   ],
   "source": [
    "(\n",
    "    sent_model_disagree_f[\"combined_error\"].value_counts(), \n",
    "    sent_model_disagree_cfp[\"combined_error\"].value_counts(),\n",
    "    sent_model_disagree_f_cfp[\"combined_error\"].value_counts(),\n",
    "    sent_model_disagree_cf[\"combined_error\"].value_counts(),\n",
    "    sent_model_disagree_f_cf[\"combined_error\"].value_counts() \n",
    ")"
   ]
  },
  {
   "cell_type": "code",
   "execution_count": 79,
   "id": "933e9d02-9fe0-4959-9f8d-bfc6d8178320",
   "metadata": {},
   "outputs": [
    {
     "data": {
      "text/plain": [
       "(False    440\n",
       " True     418\n",
       " Name: total_error, dtype: int64,\n",
       " False    468\n",
       " True     390\n",
       " Name: total_error, dtype: int64,\n",
       " False    525\n",
       " True     333\n",
       " Name: total_error, dtype: int64,\n",
       " False    515\n",
       " True     343\n",
       " Name: total_error, dtype: int64,\n",
       " False    552\n",
       " True     306\n",
       " Name: total_error, dtype: int64)"
      ]
     },
     "execution_count": 79,
     "metadata": {},
     "output_type": "execute_result"
    }
   ],
   "source": [
    "(\n",
    "    sent_model_disagree_f[\"total_error\"].value_counts(), \n",
    "    sent_model_disagree_cfp[\"total_error\"].value_counts(),\n",
    "    sent_model_disagree_f_cfp[\"total_error\"].value_counts(),\n",
    "    sent_model_disagree_cf[\"total_error\"].value_counts(),\n",
    "    sent_model_disagree_f_cf[\"total_error\"].value_counts() \n",
    ")"
   ]
  },
  {
   "cell_type": "code",
   "execution_count": 80,
   "id": "937ce195-bd09-4477-aa92-ae8d600eceec",
   "metadata": {},
   "outputs": [
    {
     "data": {
      "text/plain": [
       "(1    307\n",
       " 2     66\n",
       " 0     45\n",
       " Name: actual, dtype: int64,\n",
       " 1    190\n",
       " 2    165\n",
       " 0     35\n",
       " Name: actual, dtype: int64,\n",
       " 1    169\n",
       " 2     93\n",
       " 0     71\n",
       " Name: actual, dtype: int64,\n",
       " 2    198\n",
       " 0     77\n",
       " 1     68\n",
       " Name: actual, dtype: int64,\n",
       " 2    124\n",
       " 0    104\n",
       " 1     78\n",
       " Name: actual, dtype: int64)"
      ]
     },
     "execution_count": 80,
     "metadata": {},
     "output_type": "execute_result"
    }
   ],
   "source": [
    "(\n",
    "    sent_model_disagree_f.loc[sent_model_disagree_f[\"total_error\"], \"actual\"].value_counts(), \n",
    "    sent_model_disagree_cfp.loc[sent_model_disagree_cfp[\"total_error\"], \"actual\"].value_counts(),\n",
    "    sent_model_disagree_f_cfp.loc[sent_model_disagree_f_cfp[\"total_error\"], \"actual\"].value_counts(),\n",
    "    sent_model_disagree_cf.loc[sent_model_disagree_cf[\"total_error\"], \"actual\"].value_counts(),\n",
    "    sent_model_disagree_f_cf.loc[sent_model_disagree_f_cf[\"total_error\"], \"actual\"].value_counts() \n",
    ")"
   ]
  },
  {
   "cell_type": "code",
   "execution_count": 81,
   "id": "a40634ef-deeb-4942-874b-53864e1d498d",
   "metadata": {
    "tags": []
   },
   "outputs": [
    {
     "data": {
      "text/plain": [
       "PosixPath('../../errors/scifactpipeline/sentence/meanproba_model_disagree_fever-climatefever_total_error.jsonl')"
      ]
     },
     "execution_count": 81,
     "metadata": {},
     "output_type": "execute_result"
    }
   ],
   "source": [
    "write_jsonl(\n",
    "    error_p / \"scifactpipeline\" / \"sentence\" / \"meanproba_model_disagree_fever_total_error.jsonl\", \n",
    "    df_sf_sent_grp.loc[sent_model_disagree_f[sent_model_disagree_f[\"total_error\"]].index].reset_index().to_dict(\"records\")\n",
    ")\n",
    "write_jsonl(\n",
    "    error_p / \"scifactpipeline\" / \"sentence\" / \"meanproba_model_disagree_climatefeverpure_total_error.jsonl\", \n",
    "    df_sf_sent_grp.loc[sent_model_disagree_cfp[sent_model_disagree_cfp[\"total_error\"]].index].reset_index().to_dict(\"records\")\n",
    ")\n",
    "write_jsonl(\n",
    "    error_p / \"scifactpipeline\" / \"sentence\" / \"meanproba_model_disagree_fever-climatefeverpure_total_error.jsonl\", \n",
    "    df_sf_sent_grp.loc[sent_model_disagree_f_cfp[sent_model_disagree_f_cfp[\"total_error\"]].index].reset_index().to_dict(\"records\")\n",
    ")\n",
    "write_jsonl(\n",
    "    error_p / \"scifactpipeline\" / \"sentence\" / \"meanproba_model_disagree_climatefever_total_error.jsonl\", \n",
    "    df_sf_sent_grp.loc[sent_model_disagree_cf[sent_model_disagree_cf[\"total_error\"]].index].reset_index().to_dict(\"records\")\n",
    ")\n",
    "write_jsonl(\n",
    "    error_p / \"scifactpipeline\" / \"sentence\" / \"meanproba_model_disagree_fever-climatefever_total_error.jsonl\", \n",
    "    df_sf_sent_grp.loc[sent_model_disagree_f_cf[sent_model_disagree_f_cf[\"total_error\"]].index].reset_index().to_dict(\"records\")\n",
    ")"
   ]
  },
  {
   "cell_type": "code",
   "execution_count": null,
   "id": "8dda4e6d-853b-47ed-a1db-c9532d79869d",
   "metadata": {},
   "outputs": [],
   "source": []
  }
 ],
 "metadata": {
  "kernelspec": {
   "display_name": "Python [conda env:mainenv]",
   "language": "python",
   "name": "conda-env-mainenv-py"
  },
  "language_info": {
   "codemirror_mode": {
    "name": "ipython",
    "version": 3
   },
   "file_extension": ".py",
   "mimetype": "text/x-python",
   "name": "python",
   "nbconvert_exporter": "python",
   "pygments_lexer": "ipython3",
   "version": "3.8.17"
  }
 },
 "nbformat": 4,
 "nbformat_minor": 5
}
