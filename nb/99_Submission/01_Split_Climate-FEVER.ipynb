{
 "cells": [
  {
   "cell_type": "code",
   "execution_count": 1,
   "id": "167798b6-7044-465b-a31d-50aeed4ed9c6",
   "metadata": {},
   "outputs": [],
   "source": [
    "import sys\n",
    "sys.path.insert(0, \"../src\")\n",
    "from copy import deepcopy\n",
    "from pathlib import Path\n",
    "from collections import Counter\n",
    "\n",
    "import numpy as np\n",
    "from sklearn.model_selection import train_test_split\n",
    "\n",
    "import constants\n",
    "from gen.util import read_data, write_jsonl"
   ]
  },
  {
   "cell_type": "code",
   "execution_count": 2,
   "id": "af913947-2006-4632-ae97-1c4374bf28f1",
   "metadata": {},
   "outputs": [],
   "source": [
    "root_data = Path(\"../data\").resolve()"
   ]
  },
  {
   "cell_type": "code",
   "execution_count": 3,
   "id": "2a04465a-45bf-4362-a300-c947aaa90b22",
   "metadata": {},
   "outputs": [],
   "source": [
    "climatefdp = root_data / \"feverised-climatefever\"\n",
    "climate_s_fdp = root_data / \"feverised-climatefever_sent\""
   ]
  },
  {
   "cell_type": "code",
   "execution_count": 4,
   "id": "2b10517c-2cc9-4d7a-a424-a75a906ea301",
   "metadata": {},
   "outputs": [],
   "source": [
    "masked_label = {\"SUPPORTS\": 0, \"REFUTES\": 1, \"NOT ENOUGH INFO\": 2}\n",
    "rev_masked_label = {0: \"SUPPORTS\", 1: \"REFUTES\", 2: \"NOT ENOUGH INFO\"}\n",
    "\n",
    "def ratio(counts):\n",
    "    total = sum(counts.values())\n",
    "    return {rev_masked_label[k]: (v, round(v/total*100, 2)) for k, v in counts.items()}\n",
    "\n",
    "def split_data(cfp):\n",
    "    cf = read_data(cfp / \"climatefever_paper_all.jsonl\")\n",
    "    cf_idt = np.array([[d[\"id\"], masked_label[d[\"label\"]]] for d in cf])\n",
    "\n",
    "    train, stage = train_test_split(cf_idt, test_size=0.3, shuffle=True, stratify=cf_idt[:,1], random_state=constants.SEED)\n",
    "    dev, test = train_test_split(stage, test_size=0.33, shuffle=True, stratify=stage[:,1], random_state=constants.SEED)\n",
    "    return cf, train, dev, test"
   ]
  },
  {
   "cell_type": "markdown",
   "id": "1376877a-aedb-46bb-8f48-470319934916",
   "metadata": {},
   "source": [
    "# Climate-FEVER Doc"
   ]
  },
  {
   "cell_type": "code",
   "execution_count": 5,
   "id": "352317da-d632-4ce4-89df-b792c846e722",
   "metadata": {},
   "outputs": [],
   "source": [
    "cf, train, dev, test = split_data(climatefdp)\n",
    "s_cf, s_train, s_dev, s_test = split_data(climate_s_fdp)"
   ]
  },
  {
   "cell_type": "code",
   "execution_count": 6,
   "id": "88db036d-59ac-4778-980e-953e07fd4af9",
   "metadata": {},
   "outputs": [
    {
     "data": {
      "text/plain": [
       "({'REFUTES': (177, 18.32),\n",
       "  'SUPPORTS': (457, 47.31),\n",
       "  'NOT ENOUGH INFO': (332, 34.37)},\n",
       " {'SUPPORTS': (132, 47.48),\n",
       "  'REFUTES': (51, 18.35),\n",
       "  'NOT ENOUGH INFO': (95, 34.17)},\n",
       " {'SUPPORTS': (65, 47.45),\n",
       "  'NOT ENOUGH INFO': (47, 34.31),\n",
       "  'REFUTES': (25, 18.25)})"
      ]
     },
     "execution_count": 6,
     "metadata": {},
     "output_type": "execute_result"
    }
   ],
   "source": [
    "count_train, count_dev, count_test = Counter(train[:, 1]), Counter(dev[:, 1]), Counter(test[:, 1])\n",
    "ratio_train, ratio_dev, ratio_test = ratio(count_train), ratio(count_dev), ratio(count_test)\n",
    "\n",
    "ratio_train, ratio_dev, ratio_test"
   ]
  },
  {
   "cell_type": "code",
   "execution_count": 7,
   "id": "07a4e893-6c87-4eaa-ae46-924450a69d1e",
   "metadata": {},
   "outputs": [],
   "source": [
    "splits = {\n",
    "    \"climatefever_train.jsonl\": [doc for doc in cf if doc[\"id\"] in train[:, 0]], \n",
    "    \"climatefever_dev.jsonl\": [doc for doc in cf if doc[\"id\"] in dev[:, 0]], \n",
    "    \"climatefever_test.jsonl\": [doc for doc in cf if doc[\"id\"] in test[:, 0]]\n",
    "}\n",
    "\n",
    "for filename, claims in splits.items():\n",
    "    write_jsonl(climatefdp / filename, claims)"
   ]
  },
  {
   "cell_type": "code",
   "execution_count": 8,
   "id": "c652ff26-fba0-4bef-9717-cc427bffc124",
   "metadata": {},
   "outputs": [
    {
     "data": {
      "text/plain": [
       "({'REFUTES': (177, 18.32),\n",
       "  'SUPPORTS': (457, 47.31),\n",
       "  'NOT ENOUGH INFO': (332, 34.37)},\n",
       " {'SUPPORTS': (132, 47.48),\n",
       "  'REFUTES': (51, 18.35),\n",
       "  'NOT ENOUGH INFO': (95, 34.17)},\n",
       " {'SUPPORTS': (65, 47.45),\n",
       "  'NOT ENOUGH INFO': (47, 34.31),\n",
       "  'REFUTES': (25, 18.25)})"
      ]
     },
     "execution_count": 8,
     "metadata": {},
     "output_type": "execute_result"
    }
   ],
   "source": [
    "count_train, count_dev, count_test = Counter(s_train[:, 1]), Counter(s_dev[:, 1]), Counter(s_test[:, 1])\n",
    "ratio_train, ratio_dev, ratio_test = ratio(count_train), ratio(count_dev), ratio(count_test)\n",
    "\n",
    "ratio_train, ratio_dev, ratio_test"
   ]
  },
  {
   "cell_type": "code",
   "execution_count": 9,
   "id": "19d8639a-e0ab-4e2b-927b-698a3b4a49e0",
   "metadata": {},
   "outputs": [],
   "source": [
    "splits = {\n",
    "    \"climatefever_train.jsonl\": [doc for doc in s_cf if doc[\"id\"] in s_train[:, 0]], \n",
    "    \"climatefever_dev.jsonl\": [doc for doc in s_cf if doc[\"id\"] in s_dev[:, 0]], \n",
    "    \"climatefever_test.jsonl\": [doc for doc in s_cf if doc[\"id\"] in s_test[:, 0]]\n",
    "}\n",
    "\n",
    "for filename, claims in splits.items():\n",
    "    write_jsonl(climate_s_fdp / filename, claims)"
   ]
  },
  {
   "cell_type": "code",
   "execution_count": null,
   "id": "7fac0408-de14-4488-8e00-e7e24ad3a2d0",
   "metadata": {},
   "outputs": [],
   "source": []
  }
 ],
 "metadata": {
  "kernelspec": {
   "display_name": "Python 3 (ipykernel)",
   "language": "python",
   "name": "python3"
  },
  "language_info": {
   "codemirror_mode": {
    "name": "ipython",
    "version": 3
   },
   "file_extension": ".py",
   "mimetype": "text/x-python",
   "name": "python",
   "nbconvert_exporter": "python",
   "pygments_lexer": "ipython3",
   "version": "3.8.16"
  }
 },
 "nbformat": 4,
 "nbformat_minor": 5
}
