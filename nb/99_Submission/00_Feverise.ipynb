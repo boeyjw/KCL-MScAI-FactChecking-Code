{
 "cells": [
  {
   "cell_type": "markdown",
   "id": "06680668-8938-42e0-9c67-d8e37f556b3f",
   "metadata": {},
   "source": [
    "# Init"
   ]
  },
  {
   "cell_type": "code",
   "execution_count": 1,
   "id": "0658a099-ab1c-4aa2-b984-a8627866abd9",
   "metadata": {},
   "outputs": [
    {
     "name": "stderr",
     "output_type": "stream",
     "text": [
      "[INFO] 2023-08-09 12:06:41,933 - LogHelper - Log Helper set up\n"
     ]
    }
   ],
   "source": [
    "import sys\n",
    "sys.path.insert(0, \"../src\")\n",
    "\n",
    "import json\n",
    "import random\n",
    "import numpy as np\n",
    "import scipy\n",
    "from pathlib import Path\n",
    "from collections import Counter, defaultdict\n",
    "from joblib import Parallel, delayed\n",
    "\n",
    "import constants\n",
    "from gen.util import read_data, write_jsonl\n",
    "from feverise import scifact, climatefever, climatefever_sent, build_db, build_db_mod\n",
    "from feverise.util import replace_id_with_titleid"
   ]
  },
  {
   "cell_type": "code",
   "execution_count": 2,
   "id": "68adde60-53e2-409b-8250-3bd43dd0487c",
   "metadata": {},
   "outputs": [],
   "source": [
    "root_data = Path(\"../data\").resolve()"
   ]
  },
  {
   "cell_type": "code",
   "execution_count": 3,
   "id": "38110ad3-36fb-492e-b915-c1a2b73b7476",
   "metadata": {},
   "outputs": [
    {
     "data": {
      "text/plain": [
       "(None, None, None)"
      ]
     },
     "execution_count": 3,
     "metadata": {},
     "output_type": "execute_result"
    }
   ],
   "source": [
    "climatefp = root_data / \"climatefever\"\n",
    "scifactp = root_data / \"scifact\"\n",
    "\n",
    "climatefdp = root_data / \"feverised-climatefever\"\n",
    "climate_s_fdp = root_data / \"feverised-climatefever_sent\"\n",
    "scifactdp = root_data / \"feverised-scifact\"\n",
    "\n",
    "climatefdp.mkdir(exist_ok=True), scifactdp.mkdir(exist_ok=True), climate_s_fdp.mkdir(exist_ok=True)"
   ]
  },
  {
   "cell_type": "markdown",
   "id": "bf101145-6e9a-4d01-a459-b9dec1279841",
   "metadata": {
    "tags": []
   },
   "source": [
    "# SciFact\n",
    "\n",
    " - Every claim has only 1 type of label"
   ]
  },
  {
   "cell_type": "code",
   "execution_count": 4,
   "id": "2d52c1c0-fe11-4235-81a5-32a69a67b6ee",
   "metadata": {},
   "outputs": [],
   "source": [
    "sf_dev = read_data(scifactp / \"claims_dev.jsonl\")\n",
    "sf_test = read_data(scifactp / \"claims_test.jsonl\")\n",
    "sf_train = read_data(scifactp / \"claims_train.jsonl\")\n",
    "sf_corpus = read_data(scifactp / \"corpus.jsonl\")"
   ]
  },
  {
   "cell_type": "code",
   "execution_count": 5,
   "id": "2a60b306-7aae-4a14-a2f1-7b70115e2119",
   "metadata": {},
   "outputs": [],
   "source": [
    "sf_dev_f = scifact.feverise_claims(sf_dev)\n",
    "sf_train_f = scifact.feverise_claims(sf_train)\n",
    "\n",
    "sf_corpus_f = scifact.feverise_corpus(sf_corpus)"
   ]
  },
  {
   "cell_type": "code",
   "execution_count": 6,
   "id": "0dd4865f-c53e-48d0-97a4-cc1ba559e298",
   "metadata": {},
   "outputs": [
    {
     "data": {
      "text/plain": [
       "[PosixPath('/users/k21190024/study/fact-check-transfer-learning/nb/data/feverised-scifact/scifact_dev.jsonl'),\n",
       " PosixPath('/users/k21190024/study/fact-check-transfer-learning/nb/data/feverised-scifact/scifact_train.jsonl'),\n",
       " PosixPath('/users/k21190024/study/fact-check-transfer-learning/nb/data/feverised-scifact/scifact_all.jsonl'),\n",
       " PosixPath('/users/k21190024/study/fact-check-transfer-learning/nb/data/feverised-scifact/scifact_test.jsonl'),\n",
       " PosixPath('/users/k21190024/study/fact-check-transfer-learning/nb/data/feverised-scifact/scifact_corpus.jsonl'),\n",
       " PosixPath('/users/k21190024/study/fact-check-transfer-learning/nb/data/feverised-scifact/wiki-pages/wiki-001.jsonl')]"
      ]
     },
     "execution_count": 6,
     "metadata": {},
     "output_type": "execute_result"
    }
   ],
   "source": [
    "sf_p_ls = []\n",
    "sf_wikipages = scifactdp.joinpath(\"wiki-pages\")\n",
    "\n",
    "sf_p_ls.append(write_jsonl(scifactdp / \"scifact_dev.jsonl\", sf_dev_f))\n",
    "sf_p_ls.append(write_jsonl(scifactdp / \"scifact_train.jsonl\", sf_train_f))\n",
    "sf_p_ls.append(write_jsonl(scifactdp / \"scifact_all.jsonl\", sf_train_f + sf_dev_f))\n",
    "sf_p_ls.append(write_jsonl(scifactdp / \"scifact_test.jsonl\", sf_test))\n",
    "sf_p_ls.append(write_jsonl(scifactdp / \"scifact_corpus.jsonl\", sf_corpus_f))  # copy\n",
    "\n",
    "# default no title\n",
    "sf_wikipages.mkdir(exist_ok=True)\n",
    "sf_p_ls.append(write_jsonl(sf_wikipages / \"wiki-001.jsonl\", sf_corpus_f))\n",
    "\n",
    "sf_p_ls"
   ]
  },
  {
   "cell_type": "code",
   "execution_count": 7,
   "id": "564ece8d-2016-43c0-b4c7-7ae0ef251e21",
   "metadata": {},
   "outputs": [
    {
     "name": "stderr",
     "output_type": "stream",
     "text": [
      "[INFO] 2023-08-09 12:06:44,229 - DrQA BuildDB - Reading into database...\n",
      "  0%|          | 0/1 [00:00<?, ?it/s]\n",
      "100%|██████████| 1/1 [00:00<00:00,  5.88it/s]\n",
      "1it [00:00,  5.88it/s]\u001b[A\n",
      "100%|██████████| 1/1 [00:00<00:00,  5.73it/s]\n",
      "[INFO] 2023-08-09 12:06:44,462 - DrQA BuildDB - Read 5183 docs.\n",
      "[INFO] 2023-08-09 12:06:44,463 - DrQA BuildDB - Committing...\n"
     ]
    }
   ],
   "source": [
    "sf_db_p = scifactdp / \"feverised-scifact.db\"\n",
    "build_db.run(data_path=sf_wikipages, save_path=sf_db_p, num_workers=5)"
   ]
  },
  {
   "cell_type": "code",
   "execution_count": 16,
   "id": "7030f3d7-bb38-47e9-9e2e-10c430f6b7cf",
   "metadata": {},
   "outputs": [
    {
     "data": {
      "text/plain": [
       "PosixPath('/users/k21190024/study/fact-check-transfer-learning/nb/data/feverised-scifact/scifact_all_test.jsonl')"
      ]
     },
     "execution_count": 16,
     "metadata": {},
     "output_type": "execute_result"
    }
   ],
   "source": [
    "sf_test = [{\"id\": doc[\"id\"], \"claim\": doc[\"claim\"]} for doc in sf_train_f + sf_dev_f]\n",
    "\n",
    "write_jsonl(scifactdp / \"scifact_all_test.jsonl\", sf_test)"
   ]
  },
  {
   "cell_type": "markdown",
   "id": "5c9f0db2-96ea-489c-abbc-bc6f78bf9f66",
   "metadata": {},
   "source": [
    "# Climate-FEVER"
   ]
  },
  {
   "cell_type": "markdown",
   "id": "93d3ae26-5032-47e0-9d2b-75943a728c6b",
   "metadata": {},
   "source": [
    "## Pure claims\n",
    "\n",
    "Only evidences that support the claim are included, used for concatenated sentence model training"
   ]
  },
  {
   "cell_type": "code",
   "execution_count": 8,
   "id": "bae8796c-1775-4af8-8b71-75d9b46e5e48",
   "metadata": {},
   "outputs": [],
   "source": [
    "cf_data = read_data(climatefp / \"climatefever.jsonl\")\n",
    "cf_paper_f, cf_assumed_f, cf_corpus_f, cf_lineid_translator = climatefever.feverise_climatefever(cf_data)\n",
    "cf_corpus_titleid_f = climatefever.feverise_corpus_titleid(cf_corpus_f)"
   ]
  },
  {
   "cell_type": "code",
   "execution_count": 9,
   "id": "f66135c9-6331-4196-aa7c-cf6002a4d1b3",
   "metadata": {},
   "outputs": [
    {
     "data": {
      "text/plain": [
       "[PosixPath('/users/k21190024/study/fact-check-transfer-learning/nb/data/feverised-climatefever/climatefever_paper_all.jsonl'),\n",
       " PosixPath('/users/k21190024/study/fact-check-transfer-learning/nb/data/feverised-climatefever/climatefever_corpus.jsonl'),\n",
       " PosixPath('/users/k21190024/study/fact-check-transfer-learning/nb/data/feverised-climatefever/titleid-wiki-pages/wiki-001.jsonl'),\n",
       " '/users/k21190024/study/fact-check-transfer-learning/nb/data/feverised-climatefever/lineid_translator.json']"
      ]
     },
     "execution_count": 9,
     "metadata": {},
     "output_type": "execute_result"
    }
   ],
   "source": [
    "cf_p_ls = []\n",
    "\n",
    "cf_wikipages_titleid = climatefdp.joinpath(\"titleid-wiki-pages\")\n",
    "\n",
    "cf_p_ls.append(write_jsonl(climatefdp / \"climatefever_paper_all.jsonl\", cf_paper_f))\n",
    "# cf_p_ls.append(write_jsonl(climatefdp / \"climatefever_assumed_all.jsonl\", cf_assumed_f))\n",
    "cf_p_ls.append(write_jsonl(climatefdp / \"climatefever_corpus.jsonl\", cf_corpus_f))  # copy, for consistency\n",
    "\n",
    "cf_wikipages_titleid.mkdir(exist_ok=True)\n",
    "cf_p_ls.append(write_jsonl(cf_wikipages_titleid / \"wiki-001.jsonl\", cf_corpus_titleid_f))\n",
    "\n",
    "with climatefdp.joinpath(\"lineid_translator.json\").open(\"w\") as fn:\n",
    "    json.dump(cf_lineid_translator, fn)\n",
    "cf_p_ls.append(fn.name)\n",
    "\n",
    "cf_p_ls"
   ]
  },
  {
   "cell_type": "code",
   "execution_count": 10,
   "id": "1193794c-934a-4607-9325-51a5642134ae",
   "metadata": {},
   "outputs": [
    {
     "name": "stdout",
     "output_type": "stream",
     "text": [
      "Reading into database...\n"
     ]
    },
    {
     "name": "stderr",
     "output_type": "stream",
     "text": [
      "  0%|          | 0/1 [00:00<?, ?it/s]\n",
      "1it [00:00, 26.29it/s]\n",
      "100%|██████████| 1/1 [00:00<00:00, 24.49it/s]"
     ]
    },
    {
     "name": "stdout",
     "output_type": "stream",
     "text": [
      "Read 1344 docs.\n",
      "Committing...\n"
     ]
    },
    {
     "name": "stderr",
     "output_type": "stream",
     "text": [
      "\n"
     ]
    }
   ],
   "source": [
    "cf_db_p = climatefdp / \"feverised-climatefever-titleid.db\"\n",
    "build_db_mod.run(data_path=cf_wikipages_titleid, save_path=cf_db_p, num_workers=5)"
   ]
  },
  {
   "cell_type": "code",
   "execution_count": 11,
   "id": "84868bfe-62de-44e1-9d0b-b0d067c64fc0",
   "metadata": {},
   "outputs": [
    {
     "data": {
      "text/plain": [
       "PosixPath('/users/k21190024/study/fact-check-transfer-learning/nb/data/feverised-climatefever/climatefever_paper_all_titleid.jsonl')"
      ]
     },
     "execution_count": 11,
     "metadata": {},
     "output_type": "execute_result"
    }
   ],
   "source": [
    "titleid_cf_claims = Parallel(n_jobs=5)(delayed(replace_id_with_titleid)(cf_db_p, doc) for doc in cf_paper_f)\n",
    "write_jsonl(climatefdp / \"climatefever_paper_all_titleid.jsonl\", titleid_cf_claims)"
   ]
  },
  {
   "cell_type": "markdown",
   "id": "e087a74e-6332-42de-b918-76373f986433",
   "metadata": {},
   "source": [
    "## Original claims\n",
    "\n",
    "Uses the original Climate-FEVER impure claim-evidence pair (evidence may not entail the claim)"
   ]
  },
  {
   "cell_type": "code",
   "execution_count": 12,
   "id": "143ce910-d17d-4415-9c69-0b4cdd5b6477",
   "metadata": {},
   "outputs": [],
   "source": [
    "cf_data = read_data(climatefp / \"climatefever.jsonl\")\n",
    "cf_paper_f, cf_assumed_f, cf_corpus_f, cf_lineid_translator = climatefever_sent.feverise_climatefever(cf_data)\n",
    "cf_corpus_titleid_f = climatefever.feverise_corpus_titleid(cf_corpus_f)"
   ]
  },
  {
   "cell_type": "code",
   "execution_count": 13,
   "id": "5f45bc9a-3180-4696-9104-192b122f0660",
   "metadata": {},
   "outputs": [
    {
     "data": {
      "text/plain": [
       "[PosixPath('/users/k21190024/study/fact-check-transfer-learning/nb/data/feverised-climatefever_sent/climatefever_paper_all.jsonl'),\n",
       " PosixPath('/users/k21190024/study/fact-check-transfer-learning/nb/data/feverised-climatefever_sent/climatefever_corpus.jsonl'),\n",
       " PosixPath('/users/k21190024/study/fact-check-transfer-learning/nb/data/feverised-climatefever_sent/titleid-wiki-pages/wiki-001.jsonl'),\n",
       " '/users/k21190024/study/fact-check-transfer-learning/nb/data/feverised-climatefever_sent/lineid_translator.json']"
      ]
     },
     "execution_count": 13,
     "metadata": {},
     "output_type": "execute_result"
    }
   ],
   "source": [
    "cf_p_ls = []\n",
    "\n",
    "cf_wikipages_titleid = climate_s_fdp.joinpath(\"titleid-wiki-pages\")\n",
    "\n",
    "cf_p_ls.append(write_jsonl(climate_s_fdp / \"climatefever_paper_all.jsonl\", cf_paper_f))\n",
    "# cf_p_ls.append(write_jsonl(climate_s_fdp / \"climatefever_assumed_all.jsonl\", cf_assumed_f))\n",
    "cf_p_ls.append(write_jsonl(climate_s_fdp / \"climatefever_corpus.jsonl\", cf_corpus_f))  # copy, for consistency\n",
    "\n",
    "cf_wikipages_titleid.mkdir(exist_ok=True)\n",
    "cf_p_ls.append(write_jsonl(cf_wikipages_titleid / \"wiki-001.jsonl\", cf_corpus_titleid_f))\n",
    "\n",
    "with climate_s_fdp.joinpath(\"lineid_translator.json\").open(\"w\") as fn:\n",
    "    json.dump(cf_lineid_translator, fn)\n",
    "cf_p_ls.append(fn.name)\n",
    "\n",
    "cf_p_ls"
   ]
  },
  {
   "cell_type": "code",
   "execution_count": 14,
   "id": "74cf34f4-866e-4edd-abe4-9a37b5a4bb38",
   "metadata": {},
   "outputs": [
    {
     "name": "stdout",
     "output_type": "stream",
     "text": [
      "Reading into database...\n"
     ]
    },
    {
     "name": "stderr",
     "output_type": "stream",
     "text": [
      "  0%|          | 0/1 [00:00<?, ?it/s]\n",
      "1it [00:00, 16.16it/s]\n",
      "100%|██████████| 1/1 [00:00<00:00, 15.66it/s]"
     ]
    },
    {
     "name": "stdout",
     "output_type": "stream",
     "text": [
      "Read 1344 docs.\n",
      "Committing...\n"
     ]
    },
    {
     "name": "stderr",
     "output_type": "stream",
     "text": [
      "\n"
     ]
    }
   ],
   "source": [
    "cf_db_p = climate_s_fdp / \"feverised-climatefever-titleid.db\"\n",
    "build_db_mod.run(data_path=cf_wikipages_titleid, save_path=cf_db_p, num_workers=5)"
   ]
  },
  {
   "cell_type": "code",
   "execution_count": 15,
   "id": "a4827d45-06b5-4951-a589-3659da6f414b",
   "metadata": {},
   "outputs": [
    {
     "data": {
      "text/plain": [
       "PosixPath('/users/k21190024/study/fact-check-transfer-learning/nb/data/feverised-climatefever_sent/climatefever_paper_all_titleid.jsonl')"
      ]
     },
     "execution_count": 15,
     "metadata": {},
     "output_type": "execute_result"
    }
   ],
   "source": [
    "titleid_cf_claims = Parallel(n_jobs=5)(delayed(replace_id_with_titleid)(cf_db_p, doc) for doc in cf_paper_f)\n",
    "write_jsonl(climate_s_fdp / \"climatefever_paper_all_titleid.jsonl\", titleid_cf_claims)"
   ]
  },
  {
   "cell_type": "code",
   "execution_count": null,
   "id": "d3ae541a-cd9b-4a5d-a489-fd10848c9147",
   "metadata": {},
   "outputs": [],
   "source": []
  }
 ],
 "metadata": {
  "kernelspec": {
   "display_name": "Python 3 (ipykernel)",
   "language": "python",
   "name": "python3"
  },
  "language_info": {
   "codemirror_mode": {
    "name": "ipython",
    "version": 3
   },
   "file_extension": ".py",
   "mimetype": "text/x-python",
   "name": "python",
   "nbconvert_exporter": "python",
   "pygments_lexer": "ipython3",
   "version": "3.8.16"
  }
 },
 "nbformat": 4,
 "nbformat_minor": 5
}
